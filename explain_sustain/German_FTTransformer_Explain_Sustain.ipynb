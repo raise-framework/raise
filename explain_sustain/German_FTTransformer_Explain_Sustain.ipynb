{
 "cells": [
  {
   "cell_type": "code",
   "execution_count": null,
   "id": "Xundb9CMDO1H",
   "metadata": {
    "colab": {
     "base_uri": "https://localhost:8080/"
    },
    "executionInfo": {
     "elapsed": 14435,
     "status": "ok",
     "timestamp": 1749451401947,
     "user": {
      "displayName": "Hung Thanh Do",
      "userId": "14602254202234053172"
     },
     "user_tz": -120
    },
    "id": "Xundb9CMDO1H",
    "outputId": "3aca88e3-e3c2-47c3-b3d4-2b968ea9817e"
   },
   "outputs": [
    {
     "name": "stdout",
     "output_type": "stream",
     "text": [
      "Mounted at /content/drive\n"
     ]
    }
   ],
   "source": [
    "from google.colab import drive\n",
    "drive.mount('/content/drive')"
   ]
  },
  {
   "cell_type": "code",
   "execution_count": null,
   "id": "HY7BzhHFDQoe",
   "metadata": {
    "colab": {
     "base_uri": "https://localhost:8080/"
    },
    "executionInfo": {
     "elapsed": 474,
     "status": "ok",
     "timestamp": 1749451402435,
     "user": {
      "displayName": "Hung Thanh Do",
      "userId": "14602254202234053172"
     },
     "user_tz": -120
    },
    "id": "HY7BzhHFDQoe",
    "outputId": "a779f0c4-2f22-427d-db4a-0861a093289d"
   },
   "outputs": [
    {
     "name": "stdout",
     "output_type": "stream",
     "text": [
      "/content/drive/MyDrive/responsive-ai\n"
     ]
    }
   ],
   "source": [
    "%cd '/content/drive/MyDrive/responsive-ai'"
   ]
  },
  {
   "cell_type": "markdown",
   "id": "gmhlZLWEASHF",
   "metadata": {
    "id": "gmhlZLWEASHF"
   },
   "source": [
    "## Dependencies"
   ]
  },
  {
   "cell_type": "code",
   "execution_count": null,
   "id": "wffc8lbODVgQ",
   "metadata": {
    "colab": {
     "base_uri": "https://localhost:8080/"
    },
    "collapsed": true,
    "executionInfo": {
     "elapsed": 17506,
     "status": "ok",
     "timestamp": 1749451799322,
     "user": {
      "displayName": "Hung Thanh Do",
      "userId": "14602254202234053172"
     },
     "user_tz": -120
    },
    "id": "wffc8lbODVgQ",
    "outputId": "ea613ab0-4188-43fc-9ce4-6442c53a15f8"
   },
   "outputs": [
    {
     "name": "stdout",
     "output_type": "stream",
     "text": [
      "Requirement already satisfied: quantus in /usr/local/lib/python3.11/dist-packages (0.5.3)\n",
      "Requirement already satisfied: numpy>=1.19.5 in /usr/local/lib/python3.11/dist-packages (from quantus) (2.0.2)\n",
      "Requirement already satisfied: pandas>=1.5.3 in /usr/local/lib/python3.11/dist-packages (from quantus) (2.2.2)\n",
      "Requirement already satisfied: opencv-python>=4.5.5.62 in /usr/local/lib/python3.11/dist-packages (from quantus) (4.11.0.86)\n",
      "Requirement already satisfied: scikit-image>=0.19.3 in /usr/local/lib/python3.11/dist-packages (from quantus) (0.25.2)\n",
      "Requirement already satisfied: scikit-learn>=0.24.2 in /usr/local/lib/python3.11/dist-packages (from quantus) (1.6.1)\n",
      "Requirement already satisfied: scipy>=1.7.3 in /usr/local/lib/python3.11/dist-packages (from quantus) (1.15.3)\n",
      "Requirement already satisfied: tqdm>=4.62.3 in /usr/local/lib/python3.11/dist-packages (from quantus) (4.67.1)\n",
      "Requirement already satisfied: matplotlib>=3.3.4 in /usr/local/lib/python3.11/dist-packages (from quantus) (3.10.0)\n",
      "Requirement already satisfied: contourpy>=1.0.1 in /usr/local/lib/python3.11/dist-packages (from matplotlib>=3.3.4->quantus) (1.3.2)\n",
      "Requirement already satisfied: cycler>=0.10 in /usr/local/lib/python3.11/dist-packages (from matplotlib>=3.3.4->quantus) (0.12.1)\n",
      "Requirement already satisfied: fonttools>=4.22.0 in /usr/local/lib/python3.11/dist-packages (from matplotlib>=3.3.4->quantus) (4.58.1)\n",
      "Requirement already satisfied: kiwisolver>=1.3.1 in /usr/local/lib/python3.11/dist-packages (from matplotlib>=3.3.4->quantus) (1.4.8)\n",
      "Requirement already satisfied: packaging>=20.0 in /usr/local/lib/python3.11/dist-packages (from matplotlib>=3.3.4->quantus) (24.2)\n",
      "Requirement already satisfied: pillow>=8 in /usr/local/lib/python3.11/dist-packages (from matplotlib>=3.3.4->quantus) (11.2.1)\n",
      "Requirement already satisfied: pyparsing>=2.3.1 in /usr/local/lib/python3.11/dist-packages (from matplotlib>=3.3.4->quantus) (3.2.3)\n",
      "Requirement already satisfied: python-dateutil>=2.7 in /usr/local/lib/python3.11/dist-packages (from matplotlib>=3.3.4->quantus) (2.9.0.post0)\n",
      "Requirement already satisfied: pytz>=2020.1 in /usr/local/lib/python3.11/dist-packages (from pandas>=1.5.3->quantus) (2025.2)\n",
      "Requirement already satisfied: tzdata>=2022.7 in /usr/local/lib/python3.11/dist-packages (from pandas>=1.5.3->quantus) (2025.2)\n",
      "Requirement already satisfied: networkx>=3.0 in /usr/local/lib/python3.11/dist-packages (from scikit-image>=0.19.3->quantus) (3.5)\n",
      "Requirement already satisfied: imageio!=2.35.0,>=2.33 in /usr/local/lib/python3.11/dist-packages (from scikit-image>=0.19.3->quantus) (2.37.0)\n",
      "Requirement already satisfied: tifffile>=2022.8.12 in /usr/local/lib/python3.11/dist-packages (from scikit-image>=0.19.3->quantus) (2025.6.1)\n",
      "Requirement already satisfied: lazy-loader>=0.4 in /usr/local/lib/python3.11/dist-packages (from scikit-image>=0.19.3->quantus) (0.4)\n",
      "Requirement already satisfied: joblib>=1.2.0 in /usr/local/lib/python3.11/dist-packages (from scikit-learn>=0.24.2->quantus) (1.5.1)\n",
      "Requirement already satisfied: threadpoolctl>=3.1.0 in /usr/local/lib/python3.11/dist-packages (from scikit-learn>=0.24.2->quantus) (3.6.0)\n",
      "Requirement already satisfied: six>=1.5 in /usr/local/lib/python3.11/dist-packages (from python-dateutil>=2.7->matplotlib>=3.3.4->quantus) (1.17.0)\n",
      "Collecting aif360\n",
      "  Downloading aif360-0.6.1-py3-none-any.whl.metadata (5.0 kB)\n",
      "Requirement already satisfied: numpy>=1.16 in /usr/local/lib/python3.11/dist-packages (from aif360) (2.0.2)\n",
      "Requirement already satisfied: scipy>=1.2.0 in /usr/local/lib/python3.11/dist-packages (from aif360) (1.15.3)\n",
      "Requirement already satisfied: pandas>=0.24.0 in /usr/local/lib/python3.11/dist-packages (from aif360) (2.2.2)\n",
      "Requirement already satisfied: scikit-learn>=1.0 in /usr/local/lib/python3.11/dist-packages (from aif360) (1.6.1)\n",
      "Requirement already satisfied: matplotlib in /usr/local/lib/python3.11/dist-packages (from aif360) (3.10.0)\n",
      "Requirement already satisfied: python-dateutil>=2.8.2 in /usr/local/lib/python3.11/dist-packages (from pandas>=0.24.0->aif360) (2.9.0.post0)\n",
      "Requirement already satisfied: pytz>=2020.1 in /usr/local/lib/python3.11/dist-packages (from pandas>=0.24.0->aif360) (2025.2)\n",
      "Requirement already satisfied: tzdata>=2022.7 in /usr/local/lib/python3.11/dist-packages (from pandas>=0.24.0->aif360) (2025.2)\n",
      "Requirement already satisfied: joblib>=1.2.0 in /usr/local/lib/python3.11/dist-packages (from scikit-learn>=1.0->aif360) (1.5.1)\n",
      "Requirement already satisfied: threadpoolctl>=3.1.0 in /usr/local/lib/python3.11/dist-packages (from scikit-learn>=1.0->aif360) (3.6.0)\n",
      "Requirement already satisfied: contourpy>=1.0.1 in /usr/local/lib/python3.11/dist-packages (from matplotlib->aif360) (1.3.2)\n",
      "Requirement already satisfied: cycler>=0.10 in /usr/local/lib/python3.11/dist-packages (from matplotlib->aif360) (0.12.1)\n",
      "Requirement already satisfied: fonttools>=4.22.0 in /usr/local/lib/python3.11/dist-packages (from matplotlib->aif360) (4.58.1)\n",
      "Requirement already satisfied: kiwisolver>=1.3.1 in /usr/local/lib/python3.11/dist-packages (from matplotlib->aif360) (1.4.8)\n",
      "Requirement already satisfied: packaging>=20.0 in /usr/local/lib/python3.11/dist-packages (from matplotlib->aif360) (24.2)\n",
      "Requirement already satisfied: pillow>=8 in /usr/local/lib/python3.11/dist-packages (from matplotlib->aif360) (11.2.1)\n",
      "Requirement already satisfied: pyparsing>=2.3.1 in /usr/local/lib/python3.11/dist-packages (from matplotlib->aif360) (3.2.3)\n",
      "Requirement already satisfied: six>=1.5 in /usr/local/lib/python3.11/dist-packages (from python-dateutil>=2.8.2->pandas>=0.24.0->aif360) (1.17.0)\n",
      "Downloading aif360-0.6.1-py3-none-any.whl (259 kB)\n",
      "\u001b[2K   \u001b[90m━━━━━━━━━━━━━━━━━━━━━━━━━━━━━━━━━━━━━━━━\u001b[0m \u001b[32m259.7/259.7 kB\u001b[0m \u001b[31m6.2 MB/s\u001b[0m eta \u001b[36m0:00:00\u001b[0m\n",
      "\u001b[?25hInstalling collected packages: aif360\n",
      "Successfully installed aif360-0.6.1\n",
      "Requirement already satisfied: captum==0.7.0 in /usr/local/lib/python3.11/dist-packages (0.7.0)\n",
      "Requirement already satisfied: matplotlib in /usr/local/lib/python3.11/dist-packages (from captum==0.7.0) (3.10.0)\n",
      "Requirement already satisfied: numpy in /usr/local/lib/python3.11/dist-packages (from captum==0.7.0) (2.0.2)\n",
      "Requirement already satisfied: torch>=1.6 in /usr/local/lib/python3.11/dist-packages (from captum==0.7.0) (2.6.0+cu124)\n",
      "Requirement already satisfied: tqdm in /usr/local/lib/python3.11/dist-packages (from captum==0.7.0) (4.67.1)\n",
      "Requirement already satisfied: filelock in /usr/local/lib/python3.11/dist-packages (from torch>=1.6->captum==0.7.0) (3.18.0)\n",
      "Requirement already satisfied: typing-extensions>=4.10.0 in /usr/local/lib/python3.11/dist-packages (from torch>=1.6->captum==0.7.0) (4.14.0)\n",
      "Requirement already satisfied: networkx in /usr/local/lib/python3.11/dist-packages (from torch>=1.6->captum==0.7.0) (3.5)\n",
      "Requirement already satisfied: jinja2 in /usr/local/lib/python3.11/dist-packages (from torch>=1.6->captum==0.7.0) (3.1.6)\n",
      "Requirement already satisfied: fsspec in /usr/local/lib/python3.11/dist-packages (from torch>=1.6->captum==0.7.0) (2025.3.2)\n",
      "Requirement already satisfied: nvidia-cuda-nvrtc-cu12==12.4.127 in /usr/local/lib/python3.11/dist-packages (from torch>=1.6->captum==0.7.0) (12.4.127)\n",
      "Requirement already satisfied: nvidia-cuda-runtime-cu12==12.4.127 in /usr/local/lib/python3.11/dist-packages (from torch>=1.6->captum==0.7.0) (12.4.127)\n",
      "Requirement already satisfied: nvidia-cuda-cupti-cu12==12.4.127 in /usr/local/lib/python3.11/dist-packages (from torch>=1.6->captum==0.7.0) (12.4.127)\n",
      "Requirement already satisfied: nvidia-cudnn-cu12==9.1.0.70 in /usr/local/lib/python3.11/dist-packages (from torch>=1.6->captum==0.7.0) (9.1.0.70)\n",
      "Requirement already satisfied: nvidia-cublas-cu12==12.4.5.8 in /usr/local/lib/python3.11/dist-packages (from torch>=1.6->captum==0.7.0) (12.4.5.8)\n",
      "Requirement already satisfied: nvidia-cufft-cu12==11.2.1.3 in /usr/local/lib/python3.11/dist-packages (from torch>=1.6->captum==0.7.0) (11.2.1.3)\n",
      "Requirement already satisfied: nvidia-curand-cu12==10.3.5.147 in /usr/local/lib/python3.11/dist-packages (from torch>=1.6->captum==0.7.0) (10.3.5.147)\n",
      "Requirement already satisfied: nvidia-cusolver-cu12==11.6.1.9 in /usr/local/lib/python3.11/dist-packages (from torch>=1.6->captum==0.7.0) (11.6.1.9)\n",
      "Requirement already satisfied: nvidia-cusparse-cu12==12.3.1.170 in /usr/local/lib/python3.11/dist-packages (from torch>=1.6->captum==0.7.0) (12.3.1.170)\n",
      "Requirement already satisfied: nvidia-cusparselt-cu12==0.6.2 in /usr/local/lib/python3.11/dist-packages (from torch>=1.6->captum==0.7.0) (0.6.2)\n",
      "Requirement already satisfied: nvidia-nccl-cu12==2.21.5 in /usr/local/lib/python3.11/dist-packages (from torch>=1.6->captum==0.7.0) (2.21.5)\n",
      "Requirement already satisfied: nvidia-nvtx-cu12==12.4.127 in /usr/local/lib/python3.11/dist-packages (from torch>=1.6->captum==0.7.0) (12.4.127)\n",
      "Requirement already satisfied: nvidia-nvjitlink-cu12==12.4.127 in /usr/local/lib/python3.11/dist-packages (from torch>=1.6->captum==0.7.0) (12.4.127)\n",
      "Requirement already satisfied: triton==3.2.0 in /usr/local/lib/python3.11/dist-packages (from torch>=1.6->captum==0.7.0) (3.2.0)\n",
      "Requirement already satisfied: sympy==1.13.1 in /usr/local/lib/python3.11/dist-packages (from torch>=1.6->captum==0.7.0) (1.13.1)\n",
      "Requirement already satisfied: mpmath<1.4,>=1.1.0 in /usr/local/lib/python3.11/dist-packages (from sympy==1.13.1->torch>=1.6->captum==0.7.0) (1.3.0)\n",
      "Requirement already satisfied: contourpy>=1.0.1 in /usr/local/lib/python3.11/dist-packages (from matplotlib->captum==0.7.0) (1.3.2)\n",
      "Requirement already satisfied: cycler>=0.10 in /usr/local/lib/python3.11/dist-packages (from matplotlib->captum==0.7.0) (0.12.1)\n",
      "Requirement already satisfied: fonttools>=4.22.0 in /usr/local/lib/python3.11/dist-packages (from matplotlib->captum==0.7.0) (4.58.1)\n",
      "Requirement already satisfied: kiwisolver>=1.3.1 in /usr/local/lib/python3.11/dist-packages (from matplotlib->captum==0.7.0) (1.4.8)\n",
      "Requirement already satisfied: packaging>=20.0 in /usr/local/lib/python3.11/dist-packages (from matplotlib->captum==0.7.0) (24.2)\n",
      "Requirement already satisfied: pillow>=8 in /usr/local/lib/python3.11/dist-packages (from matplotlib->captum==0.7.0) (11.2.1)\n",
      "Requirement already satisfied: pyparsing>=2.3.1 in /usr/local/lib/python3.11/dist-packages (from matplotlib->captum==0.7.0) (3.2.3)\n",
      "Requirement already satisfied: python-dateutil>=2.7 in /usr/local/lib/python3.11/dist-packages (from matplotlib->captum==0.7.0) (2.9.0.post0)\n",
      "Requirement already satisfied: six>=1.5 in /usr/local/lib/python3.11/dist-packages (from python-dateutil>=2.7->matplotlib->captum==0.7.0) (1.17.0)\n",
      "Requirement already satisfied: MarkupSafe>=2.0 in /usr/local/lib/python3.11/dist-packages (from jinja2->torch>=1.6->captum==0.7.0) (3.0.2)\n",
      "Requirement already satisfied: ptflops in /usr/local/lib/python3.11/dist-packages (0.7.4)\n",
      "Requirement already satisfied: torch>=2.0 in /usr/local/lib/python3.11/dist-packages (from ptflops) (2.6.0+cu124)\n",
      "Requirement already satisfied: filelock in /usr/local/lib/python3.11/dist-packages (from torch>=2.0->ptflops) (3.18.0)\n",
      "Requirement already satisfied: typing-extensions>=4.10.0 in /usr/local/lib/python3.11/dist-packages (from torch>=2.0->ptflops) (4.14.0)\n",
      "Requirement already satisfied: networkx in /usr/local/lib/python3.11/dist-packages (from torch>=2.0->ptflops) (3.5)\n",
      "Requirement already satisfied: jinja2 in /usr/local/lib/python3.11/dist-packages (from torch>=2.0->ptflops) (3.1.6)\n",
      "Requirement already satisfied: fsspec in /usr/local/lib/python3.11/dist-packages (from torch>=2.0->ptflops) (2025.3.2)\n",
      "Requirement already satisfied: nvidia-cuda-nvrtc-cu12==12.4.127 in /usr/local/lib/python3.11/dist-packages (from torch>=2.0->ptflops) (12.4.127)\n",
      "Requirement already satisfied: nvidia-cuda-runtime-cu12==12.4.127 in /usr/local/lib/python3.11/dist-packages (from torch>=2.0->ptflops) (12.4.127)\n",
      "Requirement already satisfied: nvidia-cuda-cupti-cu12==12.4.127 in /usr/local/lib/python3.11/dist-packages (from torch>=2.0->ptflops) (12.4.127)\n",
      "Requirement already satisfied: nvidia-cudnn-cu12==9.1.0.70 in /usr/local/lib/python3.11/dist-packages (from torch>=2.0->ptflops) (9.1.0.70)\n",
      "Requirement already satisfied: nvidia-cublas-cu12==12.4.5.8 in /usr/local/lib/python3.11/dist-packages (from torch>=2.0->ptflops) (12.4.5.8)\n",
      "Requirement already satisfied: nvidia-cufft-cu12==11.2.1.3 in /usr/local/lib/python3.11/dist-packages (from torch>=2.0->ptflops) (11.2.1.3)\n",
      "Requirement already satisfied: nvidia-curand-cu12==10.3.5.147 in /usr/local/lib/python3.11/dist-packages (from torch>=2.0->ptflops) (10.3.5.147)\n",
      "Requirement already satisfied: nvidia-cusolver-cu12==11.6.1.9 in /usr/local/lib/python3.11/dist-packages (from torch>=2.0->ptflops) (11.6.1.9)\n",
      "Requirement already satisfied: nvidia-cusparse-cu12==12.3.1.170 in /usr/local/lib/python3.11/dist-packages (from torch>=2.0->ptflops) (12.3.1.170)\n",
      "Requirement already satisfied: nvidia-cusparselt-cu12==0.6.2 in /usr/local/lib/python3.11/dist-packages (from torch>=2.0->ptflops) (0.6.2)\n",
      "Requirement already satisfied: nvidia-nccl-cu12==2.21.5 in /usr/local/lib/python3.11/dist-packages (from torch>=2.0->ptflops) (2.21.5)\n",
      "Requirement already satisfied: nvidia-nvtx-cu12==12.4.127 in /usr/local/lib/python3.11/dist-packages (from torch>=2.0->ptflops) (12.4.127)\n",
      "Requirement already satisfied: nvidia-nvjitlink-cu12==12.4.127 in /usr/local/lib/python3.11/dist-packages (from torch>=2.0->ptflops) (12.4.127)\n",
      "Requirement already satisfied: triton==3.2.0 in /usr/local/lib/python3.11/dist-packages (from torch>=2.0->ptflops) (3.2.0)\n",
      "Requirement already satisfied: sympy==1.13.1 in /usr/local/lib/python3.11/dist-packages (from torch>=2.0->ptflops) (1.13.1)\n",
      "Requirement already satisfied: mpmath<1.4,>=1.1.0 in /usr/local/lib/python3.11/dist-packages (from sympy==1.13.1->torch>=2.0->ptflops) (1.3.0)\n",
      "Requirement already satisfied: MarkupSafe>=2.0 in /usr/local/lib/python3.11/dist-packages (from jinja2->torch>=2.0->ptflops) (3.0.2)\n",
      "Requirement already satisfied: rtdl_revisiting_models in /usr/local/lib/python3.11/dist-packages (0.0.2)\n",
      "Requirement already satisfied: torch<3,>=1.8 in /usr/local/lib/python3.11/dist-packages (from rtdl_revisiting_models) (2.6.0+cu124)\n",
      "Requirement already satisfied: filelock in /usr/local/lib/python3.11/dist-packages (from torch<3,>=1.8->rtdl_revisiting_models) (3.18.0)\n",
      "Requirement already satisfied: typing-extensions>=4.10.0 in /usr/local/lib/python3.11/dist-packages (from torch<3,>=1.8->rtdl_revisiting_models) (4.14.0)\n",
      "Requirement already satisfied: networkx in /usr/local/lib/python3.11/dist-packages (from torch<3,>=1.8->rtdl_revisiting_models) (3.5)\n",
      "Requirement already satisfied: jinja2 in /usr/local/lib/python3.11/dist-packages (from torch<3,>=1.8->rtdl_revisiting_models) (3.1.6)\n",
      "Requirement already satisfied: fsspec in /usr/local/lib/python3.11/dist-packages (from torch<3,>=1.8->rtdl_revisiting_models) (2025.3.2)\n",
      "Requirement already satisfied: nvidia-cuda-nvrtc-cu12==12.4.127 in /usr/local/lib/python3.11/dist-packages (from torch<3,>=1.8->rtdl_revisiting_models) (12.4.127)\n",
      "Requirement already satisfied: nvidia-cuda-runtime-cu12==12.4.127 in /usr/local/lib/python3.11/dist-packages (from torch<3,>=1.8->rtdl_revisiting_models) (12.4.127)\n",
      "Requirement already satisfied: nvidia-cuda-cupti-cu12==12.4.127 in /usr/local/lib/python3.11/dist-packages (from torch<3,>=1.8->rtdl_revisiting_models) (12.4.127)\n",
      "Requirement already satisfied: nvidia-cudnn-cu12==9.1.0.70 in /usr/local/lib/python3.11/dist-packages (from torch<3,>=1.8->rtdl_revisiting_models) (9.1.0.70)\n",
      "Requirement already satisfied: nvidia-cublas-cu12==12.4.5.8 in /usr/local/lib/python3.11/dist-packages (from torch<3,>=1.8->rtdl_revisiting_models) (12.4.5.8)\n",
      "Requirement already satisfied: nvidia-cufft-cu12==11.2.1.3 in /usr/local/lib/python3.11/dist-packages (from torch<3,>=1.8->rtdl_revisiting_models) (11.2.1.3)\n",
      "Requirement already satisfied: nvidia-curand-cu12==10.3.5.147 in /usr/local/lib/python3.11/dist-packages (from torch<3,>=1.8->rtdl_revisiting_models) (10.3.5.147)\n",
      "Requirement already satisfied: nvidia-cusolver-cu12==11.6.1.9 in /usr/local/lib/python3.11/dist-packages (from torch<3,>=1.8->rtdl_revisiting_models) (11.6.1.9)\n",
      "Requirement already satisfied: nvidia-cusparse-cu12==12.3.1.170 in /usr/local/lib/python3.11/dist-packages (from torch<3,>=1.8->rtdl_revisiting_models) (12.3.1.170)\n",
      "Requirement already satisfied: nvidia-cusparselt-cu12==0.6.2 in /usr/local/lib/python3.11/dist-packages (from torch<3,>=1.8->rtdl_revisiting_models) (0.6.2)\n",
      "Requirement already satisfied: nvidia-nccl-cu12==2.21.5 in /usr/local/lib/python3.11/dist-packages (from torch<3,>=1.8->rtdl_revisiting_models) (2.21.5)\n",
      "Requirement already satisfied: nvidia-nvtx-cu12==12.4.127 in /usr/local/lib/python3.11/dist-packages (from torch<3,>=1.8->rtdl_revisiting_models) (12.4.127)\n",
      "Requirement already satisfied: nvidia-nvjitlink-cu12==12.4.127 in /usr/local/lib/python3.11/dist-packages (from torch<3,>=1.8->rtdl_revisiting_models) (12.4.127)\n",
      "Requirement already satisfied: triton==3.2.0 in /usr/local/lib/python3.11/dist-packages (from torch<3,>=1.8->rtdl_revisiting_models) (3.2.0)\n",
      "Requirement already satisfied: sympy==1.13.1 in /usr/local/lib/python3.11/dist-packages (from torch<3,>=1.8->rtdl_revisiting_models) (1.13.1)\n",
      "Requirement already satisfied: mpmath<1.4,>=1.1.0 in /usr/local/lib/python3.11/dist-packages (from sympy==1.13.1->torch<3,>=1.8->rtdl_revisiting_models) (1.3.0)\n",
      "Requirement already satisfied: MarkupSafe>=2.0 in /usr/local/lib/python3.11/dist-packages (from jinja2->torch<3,>=1.8->rtdl_revisiting_models) (3.0.2)\n"
     ]
    }
   ],
   "source": [
    "!pip install quantus\n",
    "!pip install aif360\n",
    "!pip install captum==0.7.0\n",
    "!pip install ptflops\n",
    "!pip install rtdl_revisiting_models"
   ]
  },
  {
   "cell_type": "code",
   "execution_count": null,
   "id": "1fdba1ca",
   "metadata": {
    "id": "1fdba1ca"
   },
   "outputs": [],
   "source": [
    "import torch\n",
    "import torch.nn as nn\n",
    "import torch.optim as optim\n",
    "from torch.utils.data import DataLoader, TensorDataset\n",
    "import numpy as np\n",
    "import pandas as pd\n",
    "from aif360.sklearn.datasets import fetch_german\n",
    "from sklearn.model_selection import train_test_split\n",
    "from sklearn.preprocessing import LabelEncoder\n",
    "from sklearn.metrics import accuracy_score\n",
    "import shap\n",
    "import quantus\n",
    "import pickle\n",
    "from tqdm import tqdm\n",
    "import time"
   ]
  },
  {
   "cell_type": "markdown",
   "id": "881c3df5",
   "metadata": {
    "id": "881c3df5"
   },
   "source": [
    "# Data"
   ]
  },
  {
   "cell_type": "markdown",
   "id": "577e7401",
   "metadata": {
    "id": "577e7401"
   },
   "source": [
    "## Loading"
   ]
  },
  {
   "cell_type": "code",
   "execution_count": null,
   "id": "f6a7088b",
   "metadata": {
    "id": "f6a7088b"
   },
   "outputs": [],
   "source": [
    "# Load and binarize target\n",
    "X, y = fetch_german()\n",
    "X.reset_index(drop=True, inplace=True)\n",
    "y = y.reset_index(drop=True).map({'good':1, 'bad':0}).to_numpy()\n",
    "\n",
    "# Add your age_group feature, label-encode all categoricals\n",
    "X['age_group'] = X['age'].apply(lambda x: 'aged' if x>=25 else 'young')"
   ]
  },
  {
   "cell_type": "markdown",
   "id": "ff750fd6",
   "metadata": {
    "id": "ff750fd6"
   },
   "source": [
    "## Preprocessing"
   ]
  },
  {
   "cell_type": "code",
   "execution_count": null,
   "id": "5401f169",
   "metadata": {
    "id": "5401f169"
   },
   "outputs": [],
   "source": [
    "\n",
    "X_enc = X.copy()\n",
    "cat_cols = X_enc.select_dtypes(['object','category']).columns\n",
    "cardinalities = []\n",
    "label_mappings = {}\n",
    "for col in cat_cols:\n",
    "    le = LabelEncoder()\n",
    "    X_enc[col] = le.fit_transform(X_enc[col])\n",
    "    cardinalities.append(len(le.classes_))\n",
    "    label_mappings[col] = dict(zip(le.classes_, le.transform(le.classes_)))\n",
    "\n",
    "num_cols = [c for c in X_enc.columns if c not in cat_cols]"
   ]
  },
  {
   "cell_type": "code",
   "execution_count": null,
   "id": "b2d69526",
   "metadata": {
    "colab": {
     "base_uri": "https://localhost:8080/"
    },
    "executionInfo": {
     "elapsed": 13,
     "status": "ok",
     "timestamp": 1749451823550,
     "user": {
      "displayName": "Hung Thanh Do",
      "userId": "14602254202234053172"
     },
     "user_tz": -120
    },
    "id": "b2d69526",
    "outputId": "b9299804-6711-4b4e-c383-06211e495238"
   },
   "outputs": [
    {
     "name": "stdout",
     "output_type": "stream",
     "text": [
      "\n",
      "Encoded mapping for 'checking_status':\n",
      "  0<=X<200 → 0\n",
      "  <0 → 1\n",
      "  >=200 → 2\n",
      "  no checking → 3\n",
      "\n",
      "Encoded mapping for 'credit_history':\n",
      "  all paid → 0\n",
      "  critical/other existing credit → 1\n",
      "  delayed previously → 2\n",
      "  existing paid → 3\n",
      "  no credits/all paid → 4\n",
      "\n",
      "Encoded mapping for 'purpose':\n",
      "  business → 0\n",
      "  domestic appliance → 1\n",
      "  education → 2\n",
      "  furniture/equipment → 3\n",
      "  new car → 4\n",
      "  other → 5\n",
      "  radio/tv → 6\n",
      "  repairs → 7\n",
      "  retraining → 8\n",
      "  used car → 9\n",
      "\n",
      "Encoded mapping for 'savings_status':\n",
      "  100<=X<500 → 0\n",
      "  500<=X<1000 → 1\n",
      "  <100 → 2\n",
      "  >=1000 → 3\n",
      "  no known savings → 4\n",
      "\n",
      "Encoded mapping for 'employment':\n",
      "  1<=X<4 → 0\n",
      "  4<=X<7 → 1\n",
      "  <1 → 2\n",
      "  >=7 → 3\n",
      "  unemployed → 4\n",
      "\n",
      "Encoded mapping for 'other_parties':\n",
      "  co applicant → 0\n",
      "  guarantor → 1\n",
      "  none → 2\n",
      "\n",
      "Encoded mapping for 'property_magnitude':\n",
      "  car → 0\n",
      "  life insurance → 1\n",
      "  no known property → 2\n",
      "  real estate → 3\n",
      "\n",
      "Encoded mapping for 'other_payment_plans':\n",
      "  bank → 0\n",
      "  none → 1\n",
      "  stores → 2\n",
      "\n",
      "Encoded mapping for 'housing':\n",
      "  for free → 0\n",
      "  own → 1\n",
      "  rent → 2\n",
      "\n",
      "Encoded mapping for 'job':\n",
      "  high qualif/self emp/mgmt → 0\n",
      "  skilled → 1\n",
      "  unemp/unskilled non res → 2\n",
      "  unskilled resident → 3\n",
      "\n",
      "Encoded mapping for 'own_telephone':\n",
      "  none → 0\n",
      "  yes → 1\n",
      "\n",
      "Encoded mapping for 'foreign_worker':\n",
      "  no → 0\n",
      "  yes → 1\n",
      "\n",
      "Encoded mapping for 'sex':\n",
      "  female → 0\n",
      "  male → 1\n",
      "\n",
      "Encoded mapping for 'marital_status':\n",
      "  div/dep/mar → 0\n",
      "  div/sep → 1\n",
      "  mar/wid → 2\n",
      "  single → 3\n",
      "\n",
      "Encoded mapping for 'age_group':\n",
      "  aged → 0\n",
      "  young → 1\n"
     ]
    }
   ],
   "source": [
    "for col, mapping in label_mappings.items():\n",
    "    print(f\"\\nEncoded mapping for '{col}':\")\n",
    "    for original, encoded in mapping.items():\n",
    "        print(f\"  {original} → {encoded}\")"
   ]
  },
  {
   "cell_type": "code",
   "execution_count": null,
   "id": "80d8f573",
   "metadata": {
    "colab": {
     "base_uri": "https://localhost:8080/"
    },
    "executionInfo": {
     "elapsed": 16,
     "status": "ok",
     "timestamp": 1749451823570,
     "user": {
      "displayName": "Hung Thanh Do",
      "userId": "14602254202234053172"
     },
     "user_tz": -120
    },
    "id": "80d8f573",
    "outputId": "e7c88898-8bf0-429f-a702-41493d800175"
   },
   "outputs": [
    {
     "name": "stdout",
     "output_type": "stream",
     "text": [
      "\n",
      "Cardinalities of categorical columns: [4, 5, 10, 5, 5, 3, 4, 3, 3, 4, 2, 2, 2, 4, 2]\n"
     ]
    }
   ],
   "source": [
    "print(f\"\\nCardinalities of categorical columns: {cardinalities}\")"
   ]
  },
  {
   "cell_type": "markdown",
   "id": "616a2a8f",
   "metadata": {
    "id": "616a2a8f"
   },
   "source": [
    "## Splitting and Formatting"
   ]
  },
  {
   "cell_type": "code",
   "execution_count": null,
   "id": "5fa3b9f4",
   "metadata": {
    "id": "5fa3b9f4"
   },
   "outputs": [],
   "source": [
    "# Train/test split\n",
    "X_train, X_test, y_train, y_test = train_test_split(\n",
    "    X_enc, y, test_size=0.1, random_state=7\n",
    ")\n",
    "\n",
    "# Convert to numpy / tensors\n",
    "X_train_num = X_train[num_cols].to_numpy(dtype=np.float32)\n",
    "X_test_num  = X_test[num_cols].to_numpy(dtype=np.float32)\n",
    "X_train_cat = X_train[cat_cols].to_numpy(dtype=np.int64)\n",
    "X_test_cat  = X_test[cat_cols].to_numpy(dtype=np.int64)\n",
    "y_train_np = y_train.astype(np.int64).values if isinstance(y_train, pd.Series) else y_train.astype(np.int64)\n",
    "y_test_np = y_test.astype(np.int64).values if isinstance(y_test, pd.Series) else y_test.astype(np.int64)\n",
    "\n",
    "X_train_num_t = torch.from_numpy(X_train_num)\n",
    "X_train_cat_t = torch.from_numpy(X_train_cat)\n",
    "X_test_num_t = torch.from_numpy(X_test_num)\n",
    "X_test_cat_t = torch.from_numpy(X_test_cat)\n",
    "\n",
    "y_train_t = torch.from_numpy(y_train_np)\n",
    "y_test_t  = torch.from_numpy(y_test_np)"
   ]
  },
  {
   "cell_type": "markdown",
   "id": "b2059906",
   "metadata": {
    "id": "b2059906"
   },
   "source": [
    "## Dataloaders"
   ]
  },
  {
   "cell_type": "code",
   "execution_count": null,
   "id": "4dda26ee",
   "metadata": {
    "id": "4dda26ee"
   },
   "outputs": [],
   "source": [
    "batch_size = 32\n",
    "train_ds = TensorDataset(\n",
    "    torch.from_numpy(X_train_num),\n",
    "    torch.from_numpy(X_train_cat),\n",
    "    y_train_t\n",
    ")\n",
    "test_ds = TensorDataset(\n",
    "    torch.from_numpy(X_test_num),\n",
    "    torch.from_numpy(X_test_cat),\n",
    "    y_test_t\n",
    ")\n",
    "train_loader = DataLoader(train_ds, batch_size=batch_size, shuffle=True)\n",
    "test_loader  = DataLoader(test_ds,  batch_size=batch_size, shuffle=False)\n"
   ]
  },
  {
   "cell_type": "markdown",
   "id": "e17c1d75",
   "metadata": {
    "id": "e17c1d75"
   },
   "source": [
    "# FTTransformer model"
   ]
  },
  {
   "cell_type": "code",
   "execution_count": null,
   "id": "15d17ba7",
   "metadata": {
    "colab": {
     "base_uri": "https://localhost:8080/"
    },
    "executionInfo": {
     "elapsed": 25,
     "status": "ok",
     "timestamp": 1749451954277,
     "user": {
      "displayName": "Hung Thanh Do",
      "userId": "14602254202234053172"
     },
     "user_tz": -120
    },
    "id": "15d17ba7",
    "outputId": "d22bd874-cc33-447f-dfbb-49817edeeae1"
   },
   "outputs": [
    {
     "data": {
      "text/plain": [
       "FTTransformer(\n",
       "  (cls_embedding): _CLSEmbedding()\n",
       "  (cont_embeddings): LinearEmbeddings()\n",
       "  (cat_embeddings): CategoricalEmbeddings(\n",
       "    (embeddings): ModuleList(\n",
       "      (0): Embedding(4, 32)\n",
       "      (1): Embedding(5, 32)\n",
       "      (2): Embedding(10, 32)\n",
       "      (3-4): 2 x Embedding(5, 32)\n",
       "      (5): Embedding(3, 32)\n",
       "      (6): Embedding(4, 32)\n",
       "      (7-8): 2 x Embedding(3, 32)\n",
       "      (9): Embedding(4, 32)\n",
       "      (10-12): 3 x Embedding(2, 32)\n",
       "      (13): Embedding(4, 32)\n",
       "      (14): Embedding(2, 32)\n",
       "    )\n",
       "  )\n",
       "  (backbone): FTTransformerBackbone(\n",
       "    (blocks): ModuleList(\n",
       "      (0): ModuleDict(\n",
       "        (attention): MultiheadAttention(\n",
       "          (W_q): Linear(in_features=32, out_features=32, bias=True)\n",
       "          (W_k): Linear(in_features=32, out_features=32, bias=True)\n",
       "          (W_v): Linear(in_features=32, out_features=32, bias=True)\n",
       "          (dropout): Dropout(p=0.2, inplace=False)\n",
       "        )\n",
       "        (attention_residual_dropout): Dropout(p=0.0, inplace=False)\n",
       "        (ffn_normalization): LayerNorm((32,), eps=1e-05, elementwise_affine=True)\n",
       "        (ffn): Sequential(\n",
       "          (linear1): Linear(in_features=32, out_features=84, bias=True)\n",
       "          (activation): _ReGLU()\n",
       "          (dropout): Dropout(p=0.1, inplace=False)\n",
       "          (linear2): Linear(in_features=42, out_features=32, bias=True)\n",
       "        )\n",
       "        (ffn_residual_dropout): Dropout(p=0.0, inplace=False)\n",
       "        (output): Identity()\n",
       "      )\n",
       "      (1-2): 2 x ModuleDict(\n",
       "        (attention): MultiheadAttention(\n",
       "          (W_q): Linear(in_features=32, out_features=32, bias=True)\n",
       "          (W_k): Linear(in_features=32, out_features=32, bias=True)\n",
       "          (W_v): Linear(in_features=32, out_features=32, bias=True)\n",
       "          (dropout): Dropout(p=0.2, inplace=False)\n",
       "        )\n",
       "        (attention_residual_dropout): Dropout(p=0.0, inplace=False)\n",
       "        (ffn_normalization): LayerNorm((32,), eps=1e-05, elementwise_affine=True)\n",
       "        (ffn): Sequential(\n",
       "          (linear1): Linear(in_features=32, out_features=84, bias=True)\n",
       "          (activation): _ReGLU()\n",
       "          (dropout): Dropout(p=0.1, inplace=False)\n",
       "          (linear2): Linear(in_features=42, out_features=32, bias=True)\n",
       "        )\n",
       "        (ffn_residual_dropout): Dropout(p=0.0, inplace=False)\n",
       "        (output): Identity()\n",
       "        (attention_normalization): LayerNorm((32,), eps=1e-05, elementwise_affine=True)\n",
       "      )\n",
       "    )\n",
       "    (output): Sequential(\n",
       "      (normalization): LayerNorm((32,), eps=1e-05, elementwise_affine=True)\n",
       "      (activation): ReLU()\n",
       "      (linear): Linear(in_features=32, out_features=2, bias=True)\n",
       "    )\n",
       "  )\n",
       ")"
      ]
     },
     "execution_count": 24,
     "metadata": {},
     "output_type": "execute_result"
    }
   ],
   "source": [
    "from rtdl_revisiting_models import FTTransformer\n",
    "\n",
    "# Input dims\n",
    "d_num = X_train_num.shape[1]\n",
    "cat_cardinalities = cardinalities\n",
    "n_cont_features = len(num_cols)\n",
    "d_out = 2\n",
    "\n",
    "default_kwargs = FTTransformer.get_default_kwargs()\n",
    "# default_kwargs['n_blocks'] = 2\n",
    "default_kwargs['d_block'] = 32\n",
    "default_kwargs['attention_n_heads'] = 1\n",
    "# default_kwargs['attention_dropout'] = 0.2   # originally ~0.1\n",
    "# default_kwargs['ffn_dropout']       = 0.2   # originally ~0.05\n",
    "# default_kwargs['ffn_residual_dropout']  = 0.05   # originally 0.0\n",
    "# default_kwargs['residual_dropout']  = 0.05   # originally 0.0 or tiny\n",
    "\n",
    "model = FTTransformer(\n",
    "    n_cont_features=n_cont_features,\n",
    "    cat_cardinalities=cat_cardinalities,\n",
    "    d_out=d_out,\n",
    "    **default_kwargs,\n",
    ")\n",
    "\n",
    "criterion = nn.CrossEntropyLoss()\n",
    "optimizer = optim.Adam(model.parameters(), lr=1e-3, weight_decay=1e-5)\n",
    "device = torch.device(\"cuda\" if torch.cuda.is_available() else \"cpu\")\n",
    "model.to(device)"
   ]
  },
  {
   "cell_type": "markdown",
   "id": "582ea360",
   "metadata": {
    "id": "582ea360"
   },
   "source": [
    "# Training & Eval"
   ]
  },
  {
   "cell_type": "markdown",
   "id": "4Ax-NGUBBWZB",
   "metadata": {
    "id": "4Ax-NGUBBWZB"
   },
   "source": [
    "## Training"
   ]
  },
  {
   "cell_type": "code",
   "execution_count": null,
   "id": "XDdACrqvBZjb",
   "metadata": {
    "colab": {
     "base_uri": "https://localhost:8080/"
    },
    "executionInfo": {
     "elapsed": 5412,
     "status": "ok",
     "timestamp": 1749451961788,
     "user": {
      "displayName": "Hung Thanh Do",
      "userId": "14602254202234053172"
     },
     "user_tz": -120
    },
    "id": "XDdACrqvBZjb",
    "outputId": "28565c90-c08b-4f0a-b54e-1dfef44045d5"
   },
   "outputs": [
    {
     "name": "stdout",
     "output_type": "stream",
     "text": [
      "Epoch [1/400]\n",
      "Training Loss: 0.6778   - Training Accuracy: 0.6033\n",
      "Epoch [50/400]\n",
      "Training Loss: 0.5177   - Training Accuracy: 0.7467\n",
      "Epoch [100/400]\n",
      "Training Loss: 0.4590   - Training Accuracy: 0.7844\n",
      "Epoch [150/400]\n",
      "Training Loss: 0.4145   - Training Accuracy: 0.8156\n",
      "Epoch [200/400]\n",
      "Training Loss: 0.3608   - Training Accuracy: 0.8422\n",
      "Epoch [250/400]\n",
      "Training Loss: 0.3187   - Training Accuracy: 0.8500\n",
      "Epoch [300/400]\n",
      "Training Loss: 0.2686   - Training Accuracy: 0.8933\n",
      "Epoch [350/400]\n",
      "Training Loss: 0.2385   - Training Accuracy: 0.8956\n",
      "Epoch [400/400]\n",
      "Training Loss: 0.1852   - Training Accuracy: 0.9167\n",
      "\n",
      "Test Accuracy: 0.8000\n"
     ]
    }
   ],
   "source": [
    "X_train_num_t = X_train_num_t.to(device)\n",
    "X_train_cat_t = X_train_cat_t.to(device)\n",
    "X_test_num_t = X_test_num_t.to(device)\n",
    "X_test_cat_t = X_test_cat_t.to(device)\n",
    "\n",
    "y_train_t = y_train_t.to(device)\n",
    "y_test_t  = y_test_t .to(device)\n",
    "\n",
    "num_epochs = 400\n",
    "\n",
    "start_time = time.time()\n",
    "for epoch in range(num_epochs):\n",
    "    # ---- training step ----\n",
    "    model.train()\n",
    "\n",
    "    logits = model(X_train_num_t, X_train_cat_t)                    # (batch_size, 2)\n",
    "    loss = criterion(logits, y_train_t)\n",
    "    optimizer.zero_grad()\n",
    "    loss.backward()\n",
    "    optimizer.step()\n",
    "\n",
    "    y_train_pred = torch.argmax(logits, dim=1)\n",
    "    train_accuracy = accuracy_score(y_train_t.cpu().numpy(), y_train_pred.cpu().numpy())\n",
    "\n",
    "    if ((epoch + 1) % 50) == 0 or (epoch + 1 == 1):\n",
    "        print(f\"Epoch [{epoch+1}/{num_epochs}]\")\n",
    "        print(f\"Training Loss: {loss.item():.4f}   - Training Accuracy: {train_accuracy:.4f}\")\n",
    "\n",
    "# Evaluate on test data\n",
    "model.eval()\n",
    "with torch.no_grad():\n",
    "    logits = model(X_test_num_t, X_test_cat_t)\n",
    "    probs = torch.softmax(logits, dim=1)\n",
    "    preds = torch.argmax(probs, dim=1)\n",
    "    accuracy = (preds == y_test_t).float().mean().item()\n",
    "    print(f\"\\nTest Accuracy: {accuracy:.4f}\")\n",
    "\n",
    "\n",
    "end_time = time.time()\n",
    "elapsed_time = end_time - start_time\n"
   ]
  },
  {
   "cell_type": "code",
   "execution_count": null,
   "id": "CQJskRKODCCM",
   "metadata": {
    "colab": {
     "base_uri": "https://localhost:8080/"
    },
    "executionInfo": {
     "elapsed": 5,
     "status": "ok",
     "timestamp": 1749451972449,
     "user": {
      "displayName": "Hung Thanh Do",
      "userId": "14602254202234053172"
     },
     "user_tz": -120
    },
    "id": "CQJskRKODCCM",
    "outputId": "5190bf12-afd0-4482-cf26-f4a9e3889823"
   },
   "outputs": [
    {
     "name": "stdout",
     "output_type": "stream",
     "text": [
      "\n",
      "Total training time:  5.392465114593506\n"
     ]
    }
   ],
   "source": [
    "print(\"\\nTotal training time: \", elapsed_time)"
   ]
  },
  {
   "cell_type": "code",
   "execution_count": null,
   "id": "r10u_70tDL_j",
   "metadata": {
    "id": "r10u_70tDL_j"
   },
   "outputs": [],
   "source": [
    "# Saving the model\n",
    "torch.save(model.state_dict(), \"saved_model/fttransformer_german.pth\")"
   ]
  },
  {
   "cell_type": "markdown",
   "id": "FvqTZi7WDM7S",
   "metadata": {
    "id": "FvqTZi7WDM7S"
   },
   "source": [
    "## Eval"
   ]
  },
  {
   "cell_type": "code",
   "execution_count": null,
   "id": "Etg8qtADDQBt",
   "metadata": {
    "colab": {
     "base_uri": "https://localhost:8080/"
    },
    "executionInfo": {
     "elapsed": 20,
     "status": "ok",
     "timestamp": 1749451978888,
     "user": {
      "displayName": "Hung Thanh Do",
      "userId": "14602254202234053172"
     },
     "user_tz": -120
    },
    "id": "Etg8qtADDQBt",
    "outputId": "d7aa422a-d327-47a2-a304-543445c37a2e"
   },
   "outputs": [
    {
     "data": {
      "text/plain": [
       "<All keys matched successfully>"
      ]
     },
     "execution_count": 28,
     "metadata": {},
     "output_type": "execute_result"
    }
   ],
   "source": [
    "# Loading the model\n",
    "model.load_state_dict(torch.load(\"saved_model/fttransformer_german.pth\"))"
   ]
  },
  {
   "cell_type": "code",
   "execution_count": null,
   "id": "5zHSjvcQDQoT",
   "metadata": {
    "colab": {
     "base_uri": "https://localhost:8080/"
    },
    "executionInfo": {
     "elapsed": 8,
     "status": "ok",
     "timestamp": 1749451980115,
     "user": {
      "displayName": "Hung Thanh Do",
      "userId": "14602254202234053172"
     },
     "user_tz": -120
    },
    "id": "5zHSjvcQDQoT",
    "outputId": "42bdffcc-e2a5-44ea-a3df-19048be892f7"
   },
   "outputs": [
    {
     "name": "stdout",
     "output_type": "stream",
     "text": [
      "\n",
      "Test Accuracy: 0.8000\n"
     ]
    }
   ],
   "source": [
    "X_test_num_t = X_test_num_t.to(device)\n",
    "X_test_cat_t = X_test_cat_t.to(device)\n",
    "y_test_t  = y_test_t .to(device)\n",
    "model.eval()\n",
    "with torch.no_grad():\n",
    "    logits = model(X_test_num_t, X_test_cat_t)\n",
    "    probs = torch.softmax(logits, dim=1)\n",
    "    preds = torch.argmax(probs, dim=1)\n",
    "    accuracy = (preds == y_test_t).float().mean().item()\n",
    "    print(f\"\\nTest Accuracy: {accuracy:.4f}\")"
   ]
  },
  {
   "cell_type": "markdown",
   "id": "1b7f8e25",
   "metadata": {
    "id": "1b7f8e25"
   },
   "source": [
    "## Training with bs"
   ]
  },
  {
   "cell_type": "code",
   "execution_count": null,
   "id": "a37dba88",
   "metadata": {
    "id": "a37dba88",
    "outputId": "0cbe72a3-2f15-4339-fff6-ca701ec270d1"
   },
   "outputs": [
    {
     "name": "stderr",
     "output_type": "stream",
     "text": [
      "                                                         \r"
     ]
    },
    {
     "name": "stdout",
     "output_type": "stream",
     "text": [
      "Epoch 01  Loss: 0.4685  Acc: 0.7711\n"
     ]
    },
    {
     "name": "stderr",
     "output_type": "stream",
     "text": [
      "                                                         \r"
     ]
    },
    {
     "name": "stdout",
     "output_type": "stream",
     "text": [
      "Epoch 10  Loss: 0.4715  Acc: 0.7600\n"
     ]
    },
    {
     "name": "stderr",
     "output_type": "stream",
     "text": [
      "                                                         \r"
     ]
    },
    {
     "name": "stdout",
     "output_type": "stream",
     "text": [
      "Epoch 20  Loss: 0.4665  Acc: 0.7800\n"
     ]
    },
    {
     "name": "stderr",
     "output_type": "stream",
     "text": [
      "                                                         \r"
     ]
    },
    {
     "name": "stdout",
     "output_type": "stream",
     "text": [
      "Epoch 30  Loss: 0.4573  Acc: 0.7733\n"
     ]
    },
    {
     "name": "stderr",
     "output_type": "stream",
     "text": [
      "                                                         \r"
     ]
    },
    {
     "name": "stdout",
     "output_type": "stream",
     "text": [
      "Epoch 40  Loss: 0.4598  Acc: 0.7733\n"
     ]
    },
    {
     "name": "stderr",
     "output_type": "stream",
     "text": [
      "                                                         \r"
     ]
    },
    {
     "name": "stdout",
     "output_type": "stream",
     "text": [
      "Epoch 50  Loss: 0.4446  Acc: 0.7878\n"
     ]
    },
    {
     "name": "stderr",
     "output_type": "stream",
     "text": [
      "                                                         \r"
     ]
    },
    {
     "name": "stdout",
     "output_type": "stream",
     "text": [
      "Epoch 60  Loss: 0.4441  Acc: 0.7856\n"
     ]
    },
    {
     "name": "stderr",
     "output_type": "stream",
     "text": [
      "                                                         \r"
     ]
    },
    {
     "name": "stdout",
     "output_type": "stream",
     "text": [
      "Epoch 70  Loss: 0.4295  Acc: 0.7944\n"
     ]
    },
    {
     "name": "stderr",
     "output_type": "stream",
     "text": [
      "                                                         \r"
     ]
    },
    {
     "name": "stdout",
     "output_type": "stream",
     "text": [
      "Epoch 80  Loss: 0.4344  Acc: 0.7800\n"
     ]
    },
    {
     "name": "stderr",
     "output_type": "stream",
     "text": [
      "                                                         \r"
     ]
    },
    {
     "name": "stdout",
     "output_type": "stream",
     "text": [
      "Epoch 90  Loss: 0.4229  Acc: 0.7956\n"
     ]
    },
    {
     "name": "stderr",
     "output_type": "stream",
     "text": [
      "                                                          "
     ]
    },
    {
     "name": "stdout",
     "output_type": "stream",
     "text": [
      "Epoch 100  Loss: 0.4466  Acc: 0.7944\n"
     ]
    },
    {
     "name": "stderr",
     "output_type": "stream",
     "text": [
      "\r"
     ]
    }
   ],
   "source": [
    "num_epochs = 100\n",
    "start_time = time.time()\n",
    "for epoch in range(1, num_epochs+1):\n",
    "    model.train()\n",
    "    total_loss = 0\n",
    "    all_preds, all_targets = [], []\n",
    "\n",
    "    for Xn, Xc, yb in tqdm(train_loader, desc=f\"Epoch {epoch:02d}\", leave=False):\n",
    "        Xn, Xc, yb = Xn.to(device), Xc.to(device), yb.to(device)\n",
    "        logits = model(Xn, Xc)                    # (batch_size, 2)\n",
    "        loss = criterion(logits, yb)\n",
    "        optimizer.zero_grad()\n",
    "        loss.backward()\n",
    "        optimizer.step()\n",
    "\n",
    "        total_loss += loss.item() * Xn.size(0)\n",
    "        preds = logits.argmax(dim=1).cpu().numpy()\n",
    "        all_preds.append(preds)\n",
    "        all_targets.append(yb.cpu().numpy())\n",
    "\n",
    "    # Epoch metrics\n",
    "    train_loss = total_loss / len(train_loader.dataset)\n",
    "    train_acc  = accuracy_score(\n",
    "        np.concatenate(all_targets), np.concatenate(all_preds)\n",
    "    )\n",
    "\n",
    "    if epoch % 10 == 0 or epoch == 1:\n",
    "        print(f\"Epoch {epoch:02d}  Loss: {train_loss:.4f}  Acc: {train_acc:.4f}\")\n",
    "\n",
    "end_time = time.time()\n",
    "elapsed_time = end_time - start_time"
   ]
  },
  {
   "cell_type": "markdown",
   "id": "20af4e7a",
   "metadata": {
    "id": "20af4e7a"
   },
   "source": [
    "## Eval with bs"
   ]
  },
  {
   "cell_type": "code",
   "execution_count": null,
   "id": "90fa95b5",
   "metadata": {
    "id": "90fa95b5",
    "outputId": "eaffdf02-ed08-479c-d8d9-29af0d0eae86"
   },
   "outputs": [
    {
     "name": "stderr",
     "output_type": "stream",
     "text": [
      "C:\\Users\\hungd\\AppData\\Local\\Temp\\ipykernel_19568\\2454809802.py:2: FutureWarning: You are using `torch.load` with `weights_only=False` (the current default value), which uses the default pickle module implicitly. It is possible to construct malicious pickle data which will execute arbitrary code during unpickling (See https://github.com/pytorch/pytorch/blob/main/SECURITY.md#untrusted-models for more details). In a future release, the default value for `weights_only` will be flipped to `True`. This limits the functions that could be executed during unpickling. Arbitrary objects will no longer be allowed to be loaded via this mode unless they are explicitly allowlisted by the user via `torch.serialization.add_safe_globals`. We recommend you start setting `weights_only=True` for any use case where you don't have full control of the loaded file. Please open an issue on GitHub for any issues related to this experimental feature.\n",
      "  model.load_state_dict(torch.load(\"saved_model/fttransformer_german.pth\"))\n"
     ]
    },
    {
     "data": {
      "text/plain": [
       "<All keys matched successfully>"
      ]
     },
     "execution_count": 69,
     "metadata": {},
     "output_type": "execute_result"
    }
   ],
   "source": [
    "# Loading the model\n",
    "model.load_state_dict(torch.load(\"saved_model/fttransformer_german.pth\"))"
   ]
  },
  {
   "cell_type": "code",
   "execution_count": null,
   "id": "c524b553",
   "metadata": {
    "id": "c524b553",
    "outputId": "4ccc996b-54e1-43da-9051-4f02f1c32cd9"
   },
   "outputs": [
    {
     "name": "stderr",
     "output_type": "stream",
     "text": [
      "                                              "
     ]
    },
    {
     "name": "stdout",
     "output_type": "stream",
     "text": [
      "FT-Transformer Test Accuracy: 0.7700\n"
     ]
    },
    {
     "name": "stderr",
     "output_type": "stream",
     "text": [
      "\r"
     ]
    }
   ],
   "source": [
    "# 6. Evaluation on Test Set\n",
    "model.eval()\n",
    "test_preds, test_targets = [], []\n",
    "with torch.no_grad():\n",
    "    for Xn, Xc, yb in tqdm(test_loader, desc=\"Testing\", leave=False):\n",
    "        Xn, Xc = Xn.to(device), Xc.to(device)\n",
    "        logits = model(Xn, Xc)\n",
    "        test_preds.append(logits.argmax(dim=1).cpu().numpy())\n",
    "        test_targets.append(yb.numpy())\n",
    "\n",
    "test_acc = accuracy_score(\n",
    "    np.concatenate(test_targets),\n",
    "    np.concatenate(test_preds)\n",
    ")\n",
    "print(f\"FT-Transformer Test Accuracy: {test_acc:.4f}\")\n"
   ]
  },
  {
   "cell_type": "code",
   "execution_count": null,
   "id": "14fb0da2",
   "metadata": {
    "id": "14fb0da2"
   },
   "outputs": [],
   "source": [
    "# Saving the model\n",
    "torch.save(model.state_dict(), \"saved_model/fttransformer_german.pth\")"
   ]
  },
  {
   "cell_type": "markdown",
   "id": "4dfe18e3",
   "metadata": {
    "id": "4dfe18e3"
   },
   "source": [
    "# Sustainability"
   ]
  },
  {
   "cell_type": "markdown",
   "id": "1b18b7a6",
   "metadata": {
    "id": "1b18b7a6"
   },
   "source": [
    "## Param Count"
   ]
  },
  {
   "cell_type": "code",
   "execution_count": null,
   "id": "7620f3b0",
   "metadata": {
    "colab": {
     "base_uri": "https://localhost:8080/"
    },
    "executionInfo": {
     "elapsed": 4,
     "status": "ok",
     "timestamp": 1749452008803,
     "user": {
      "displayName": "Hung Thanh Do",
      "userId": "14602254202234053172"
     },
     "user_tz": -120
    },
    "id": "7620f3b0",
    "outputId": "e86b6e77-152f-4119-b4ab-6c04fffc0408"
   },
   "outputs": [
    {
     "name": "stdout",
     "output_type": "stream",
     "text": [
      "Trainable parameters: 25,214\n"
     ]
    }
   ],
   "source": [
    "# Parameter Count (Pure PyTorch)\n",
    "def count_parameters(model):\n",
    "    return sum(p.numel() for p in model.parameters() if p.requires_grad)\n",
    "\n",
    "# Usage\n",
    "total_params = count_parameters(model)\n",
    "print(f\"Trainable parameters: {total_params:,}\")"
   ]
  },
  {
   "cell_type": "markdown",
   "id": "fa17fcae",
   "metadata": {
    "id": "fa17fcae"
   },
   "source": [
    "## FLOPs"
   ]
  },
  {
   "cell_type": "code",
   "execution_count": null,
   "id": "3YA1odvSAOuA",
   "metadata": {
    "colab": {
     "base_uri": "https://localhost:8080/"
    },
    "executionInfo": {
     "elapsed": 119,
     "status": "ok",
     "timestamp": 1749452019049,
     "user": {
      "displayName": "Hung Thanh Do",
      "userId": "14602254202234053172"
     },
     "user_tz": -120
    },
    "id": "3YA1odvSAOuA",
    "outputId": "46dd0f5a-213c-4e2c-c75f-5b1af1fa0613"
   },
   "outputs": [
    {
     "name": "stdout",
     "output_type": "stream",
     "text": [
      "Module                        FLOP    % Total\n",
      "-----------------------  ---------  ---------\n",
      "FTTransformer            1073.792K    100.00%\n",
      " - aten.addmm             935.424K     87.11%\n",
      " - aten.bmm               138.368K     12.89%\n",
      " FTTransformer.backbone  1073.792K    100.00%\n",
      "  - aten.addmm            935.424K     87.11%\n",
      "  - aten.bmm              138.368K     12.89%\n",
      "FLOPs per sample: 1073.79 K\n",
      "FLOPs: 107.38M\n"
     ]
    }
   ],
   "source": [
    "# Calculate FLOPS\n",
    "from torch.utils.flop_counter import FlopCounterMode\n",
    "\n",
    "X_test_num_torch = torch.from_numpy(X_test_num).to(device)    # float32 tensor, shape (n_test, n_cont)\n",
    "X_test_cat_torch = torch.from_numpy(X_test_cat).to(device)\n",
    "\n",
    "sample_num    = X_test_num_torch[0:1]  # shape (1, n_cont)\n",
    "sample_cat    = X_test_cat_torch[0:1]  # shape (1, n_cat)\n",
    "\n",
    "model.eval()\n",
    "with FlopCounterMode() as flop_counter:\n",
    "    _ = model(sample_num, sample_cat)\n",
    "\n",
    "flops_per_sample = flop_counter.get_total_flops()\n",
    "print(f\"FLOPs per sample: {flops_per_sample/1e3:.2f} K\")\n",
    "print(f\"FLOPs: {flops_per_sample*X_test_num_torch.shape[0]/1e6:.2f}M\")"
   ]
  },
  {
   "cell_type": "markdown",
   "id": "ef3b6f75",
   "metadata": {
    "id": "ef3b6f75"
   },
   "source": [
    "## MACs"
   ]
  },
  {
   "cell_type": "code",
   "execution_count": null,
   "id": "4c9ff064",
   "metadata": {
    "colab": {
     "base_uri": "https://localhost:8080/"
    },
    "collapsed": true,
    "executionInfo": {
     "elapsed": 52,
     "status": "ok",
     "timestamp": 1749452033591,
     "user": {
      "displayName": "Hung Thanh Do",
      "userId": "14602254202234053172"
     },
     "user_tz": -120
    },
    "id": "4c9ff064",
    "outputId": "d039e410-cf7b-4e23-e3dd-3bfd55cc7da4"
   },
   "outputs": [
    {
     "data": {
      "text/plain": [
       "FTTransformerSingleInput(\n",
       "  (ft): FTTransformer(\n",
       "    (cls_embedding): _CLSEmbedding()\n",
       "    (cont_embeddings): LinearEmbeddings()\n",
       "    (cat_embeddings): CategoricalEmbeddings(\n",
       "      (embeddings): ModuleList(\n",
       "        (0): Embedding(4, 32)\n",
       "        (1): Embedding(5, 32)\n",
       "        (2): Embedding(10, 32)\n",
       "        (3-4): 2 x Embedding(5, 32)\n",
       "        (5): Embedding(3, 32)\n",
       "        (6): Embedding(4, 32)\n",
       "        (7-8): 2 x Embedding(3, 32)\n",
       "        (9): Embedding(4, 32)\n",
       "        (10-12): 3 x Embedding(2, 32)\n",
       "        (13): Embedding(4, 32)\n",
       "        (14): Embedding(2, 32)\n",
       "      )\n",
       "    )\n",
       "    (backbone): FTTransformerBackbone(\n",
       "      (blocks): ModuleList(\n",
       "        (0): ModuleDict(\n",
       "          (attention): MultiheadAttention(\n",
       "            (W_q): Linear(in_features=32, out_features=32, bias=True)\n",
       "            (W_k): Linear(in_features=32, out_features=32, bias=True)\n",
       "            (W_v): Linear(in_features=32, out_features=32, bias=True)\n",
       "            (dropout): Dropout(p=0.2, inplace=False)\n",
       "          )\n",
       "          (attention_residual_dropout): Dropout(p=0.0, inplace=False)\n",
       "          (ffn_normalization): LayerNorm((32,), eps=1e-05, elementwise_affine=True)\n",
       "          (ffn): Sequential(\n",
       "            (linear1): Linear(in_features=32, out_features=84, bias=True)\n",
       "            (activation): _ReGLU()\n",
       "            (dropout): Dropout(p=0.1, inplace=False)\n",
       "            (linear2): Linear(in_features=42, out_features=32, bias=True)\n",
       "          )\n",
       "          (ffn_residual_dropout): Dropout(p=0.0, inplace=False)\n",
       "          (output): Identity()\n",
       "        )\n",
       "        (1-2): 2 x ModuleDict(\n",
       "          (attention): MultiheadAttention(\n",
       "            (W_q): Linear(in_features=32, out_features=32, bias=True)\n",
       "            (W_k): Linear(in_features=32, out_features=32, bias=True)\n",
       "            (W_v): Linear(in_features=32, out_features=32, bias=True)\n",
       "            (dropout): Dropout(p=0.2, inplace=False)\n",
       "          )\n",
       "          (attention_residual_dropout): Dropout(p=0.0, inplace=False)\n",
       "          (ffn_normalization): LayerNorm((32,), eps=1e-05, elementwise_affine=True)\n",
       "          (ffn): Sequential(\n",
       "            (linear1): Linear(in_features=32, out_features=84, bias=True)\n",
       "            (activation): _ReGLU()\n",
       "            (dropout): Dropout(p=0.1, inplace=False)\n",
       "            (linear2): Linear(in_features=42, out_features=32, bias=True)\n",
       "          )\n",
       "          (ffn_residual_dropout): Dropout(p=0.0, inplace=False)\n",
       "          (output): Identity()\n",
       "          (attention_normalization): LayerNorm((32,), eps=1e-05, elementwise_affine=True)\n",
       "        )\n",
       "      )\n",
       "      (output): Sequential(\n",
       "        (normalization): LayerNorm((32,), eps=1e-05, elementwise_affine=True)\n",
       "        (activation): ReLU()\n",
       "        (linear): Linear(in_features=32, out_features=2, bias=True)\n",
       "      )\n",
       "    )\n",
       "  )\n",
       ")"
      ]
     },
     "execution_count": 32,
     "metadata": {},
     "output_type": "execute_result"
    }
   ],
   "source": [
    "n_cont = X_test_num.shape[1]\n",
    "n_cat  = X_test_cat.shape[1]\n",
    "cat_cardinalities = cardinalities  # list of ints, one per categorical column\n",
    "\n",
    "class FTTransformerSingleInput(nn.Module):\n",
    "    def __init__(self, ft_model, n_cont, n_cat, cat_cardinalities):\n",
    "        super().__init__()\n",
    "        self.ft = ft_model\n",
    "        self.n_cont = n_cont\n",
    "        self.n_cat = n_cat\n",
    "        self.cat_cardinalities = cat_cardinalities\n",
    "\n",
    "    def forward(self, x_combined):\n",
    "        x_num = x_combined[:, : self.n_cont].float()\n",
    "        x_cat = x_combined[:, self.n_cont : self.n_cont + self.n_cat].long()\n",
    "        # Clip to valid category range:\n",
    "        for i, card in enumerate(self.cat_cardinalities):\n",
    "            x_cat[:, i] = torch.clamp(x_cat[:, i], 0, card - 1)\n",
    "        return self.ft(x_num, x_cat)\n",
    "\n",
    "wrapped = FTTransformerSingleInput(model, n_cont, n_cat, cat_cardinalities)\n",
    "wrapped.to(device)\n",
    "wrapped.eval()"
   ]
  },
  {
   "cell_type": "code",
   "execution_count": null,
   "id": "a61740cf",
   "metadata": {
    "colab": {
     "base_uri": "https://localhost:8080/"
    },
    "executionInfo": {
     "elapsed": 4291,
     "status": "ok",
     "timestamp": 1749452037881,
     "user": {
      "displayName": "Hung Thanh Do",
      "userId": "14602254202234053172"
     },
     "user_tz": -120
    },
    "id": "a61740cf",
    "outputId": "f981e41a-6dd7-4f39-a0b9-a8f0cd7ac58c"
   },
   "outputs": [
    {
     "name": "stdout",
     "output_type": "stream",
     "text": [
      "Warning: module _CLSEmbedding is treated as a zero-op.\n",
      "Warning: module LinearEmbeddings is treated as a zero-op.\n",
      "Warning: module Embedding is treated as a zero-op.\n",
      "Warning: module CategoricalEmbeddings is treated as a zero-op.\n",
      "Warning: module Dropout is treated as a zero-op.\n",
      "Warning: module MultiheadAttention is treated as a zero-op.\n",
      "Warning: module _ReGLU is treated as a zero-op.\n",
      "Warning: module Identity is treated as a zero-op.\n",
      "Warning: module ModuleDict is treated as a zero-op.\n",
      "Warning: module FTTransformerBackbone is treated as a zero-op.\n",
      "Warning: module FTTransformer is treated as a zero-op.\n",
      "Warning: module FTTransformerSingleInput is treated as a zero-op.\n",
      "FTTransformerSingleInput(\n",
      "  22.4 k, 88.832% Params, 485.38 KMac, 99.180% MACs, \n",
      "  (ft): FTTransformer(\n",
      "    22.4 k, 88.832% Params, 485.38 KMac, 99.180% MACs, \n",
      "    (cls_embedding): _CLSEmbedding(0, 0.000% Params, 0.0 Mac, 0.000% MACs, )\n",
      "    (cont_embeddings): LinearEmbeddings(0, 0.000% Params, 0.0 Mac, 0.000% MACs, )\n",
      "    (cat_embeddings): CategoricalEmbeddings(\n",
      "      0, 0.000% Params, 0.0 Mac, 0.000% MACs, \n",
      "      (embeddings): ModuleList(\n",
      "        (0): Embedding(0, 0.000% Params, 0.0 Mac, 0.000% MACs, 4, 32)\n",
      "        (1): Embedding(0, 0.000% Params, 0.0 Mac, 0.000% MACs, 5, 32)\n",
      "        (2): Embedding(0, 0.000% Params, 0.0 Mac, 0.000% MACs, 10, 32)\n",
      "        (3-4): 2 x Embedding(0, 0.000% Params, 0.0 Mac, 0.000% MACs, 5, 32)\n",
      "        (5): Embedding(0, 0.000% Params, 0.0 Mac, 0.000% MACs, 3, 32)\n",
      "        (6): Embedding(0, 0.000% Params, 0.0 Mac, 0.000% MACs, 4, 32)\n",
      "        (7-8): 2 x Embedding(0, 0.000% Params, 0.0 Mac, 0.000% MACs, 3, 32)\n",
      "        (9): Embedding(0, 0.000% Params, 0.0 Mac, 0.000% MACs, 4, 32)\n",
      "        (10-12): 3 x Embedding(0, 0.000% Params, 0.0 Mac, 0.000% MACs, 2, 32)\n",
      "        (13): Embedding(0, 0.000% Params, 0.0 Mac, 0.000% MACs, 4, 32)\n",
      "        (14): Embedding(0, 0.000% Params, 0.0 Mac, 0.000% MACs, 2, 32)\n",
      "      )\n",
      "    )\n",
      "    (backbone): FTTransformerBackbone(\n",
      "      22.4 k, 88.832% Params, 485.38 KMac, 99.180% MACs, \n",
      "      (blocks): ModuleList(\n",
      "        (0): ModuleDict(\n",
      "          7.38 k, 29.269% Params, 169.0 KMac, 34.533% MACs, \n",
      "          (attention): MultiheadAttention(\n",
      "            3.17 k, 12.564% Params, 72.86 KMac, 14.889% MACs, \n",
      "            (W_q): Linear(1.06 k, 4.188% Params, 24.29 KMac, 4.963% MACs, in_features=32, out_features=32, bias=True)\n",
      "            (W_k): Linear(1.06 k, 4.188% Params, 24.29 KMac, 4.963% MACs, in_features=32, out_features=32, bias=True)\n",
      "            (W_v): Linear(1.06 k, 4.188% Params, 24.29 KMac, 4.963% MACs, in_features=32, out_features=32, bias=True)\n",
      "            (dropout): Dropout(0, 0.000% Params, 0.0 Mac, 0.000% MACs, p=0.2, inplace=False)\n",
      "          )\n",
      "          (attention_residual_dropout): Dropout(0, 0.000% Params, 0.0 Mac, 0.000% MACs, p=0.0, inplace=False)\n",
      "          (ffn_normalization): LayerNorm(64, 0.254% Params, 736.0 Mac, 0.150% MACs, (32,), eps=1e-05, elementwise_affine=True)\n",
      "          (ffn): Sequential(\n",
      "            4.15 k, 16.451% Params, 95.4 KMac, 19.494% MACs, \n",
      "            (linear1): Linear(2.77 k, 10.994% Params, 63.76 KMac, 13.028% MACs, in_features=32, out_features=84, bias=True)\n",
      "            (activation): _ReGLU(0, 0.000% Params, 0.0 Mac, 0.000% MACs, )\n",
      "            (dropout): Dropout(0, 0.000% Params, 0.0 Mac, 0.000% MACs, p=0.1, inplace=False)\n",
      "            (linear2): Linear(1.38 k, 5.457% Params, 31.65 KMac, 6.467% MACs, in_features=42, out_features=32, bias=True)\n",
      "          )\n",
      "          (ffn_residual_dropout): Dropout(0, 0.000% Params, 0.0 Mac, 0.000% MACs, p=0.0, inplace=False)\n",
      "          (output): Identity(0, 0.000% Params, 0.0 Mac, 0.000% MACs, )\n",
      "        )\n",
      "        (1): ModuleDict(\n",
      "          7.44 k, 29.523% Params, 169.74 KMac, 34.684% MACs, \n",
      "          (attention): MultiheadAttention(\n",
      "            3.17 k, 12.564% Params, 72.86 KMac, 14.889% MACs, \n",
      "            (W_q): Linear(1.06 k, 4.188% Params, 24.29 KMac, 4.963% MACs, in_features=32, out_features=32, bias=True)\n",
      "            (W_k): Linear(1.06 k, 4.188% Params, 24.29 KMac, 4.963% MACs, in_features=32, out_features=32, bias=True)\n",
      "            (W_v): Linear(1.06 k, 4.188% Params, 24.29 KMac, 4.963% MACs, in_features=32, out_features=32, bias=True)\n",
      "            (dropout): Dropout(0, 0.000% Params, 0.0 Mac, 0.000% MACs, p=0.2, inplace=False)\n",
      "          )\n",
      "          (attention_residual_dropout): Dropout(0, 0.000% Params, 0.0 Mac, 0.000% MACs, p=0.0, inplace=False)\n",
      "          (ffn_normalization): LayerNorm(64, 0.254% Params, 736.0 Mac, 0.150% MACs, (32,), eps=1e-05, elementwise_affine=True)\n",
      "          (ffn): Sequential(\n",
      "            4.15 k, 16.451% Params, 95.4 KMac, 19.494% MACs, \n",
      "            (linear1): Linear(2.77 k, 10.994% Params, 63.76 KMac, 13.028% MACs, in_features=32, out_features=84, bias=True)\n",
      "            (activation): _ReGLU(0, 0.000% Params, 0.0 Mac, 0.000% MACs, )\n",
      "            (dropout): Dropout(0, 0.000% Params, 0.0 Mac, 0.000% MACs, p=0.1, inplace=False)\n",
      "            (linear2): Linear(1.38 k, 5.457% Params, 31.65 KMac, 6.467% MACs, in_features=42, out_features=32, bias=True)\n",
      "          )\n",
      "          (ffn_residual_dropout): Dropout(0, 0.000% Params, 0.0 Mac, 0.000% MACs, p=0.0, inplace=False)\n",
      "          (output): Identity(0, 0.000% Params, 0.0 Mac, 0.000% MACs, )\n",
      "          (attention_normalization): LayerNorm(64, 0.254% Params, 736.0 Mac, 0.150% MACs, (32,), eps=1e-05, elementwise_affine=True)\n",
      "        )\n",
      "        (2): ModuleDict(\n",
      "          7.44 k, 29.523% Params, 146.51 KMac, 29.937% MACs, \n",
      "          (attention): MultiheadAttention(\n",
      "            3.17 k, 12.564% Params, 49.63 KMac, 10.142% MACs, \n",
      "            (W_q): Linear(1.06 k, 4.188% Params, 1.06 KMac, 0.216% MACs, in_features=32, out_features=32, bias=True)\n",
      "            (W_k): Linear(1.06 k, 4.188% Params, 24.29 KMac, 4.963% MACs, in_features=32, out_features=32, bias=True)\n",
      "            (W_v): Linear(1.06 k, 4.188% Params, 24.29 KMac, 4.963% MACs, in_features=32, out_features=32, bias=True)\n",
      "            (dropout): Dropout(0, 0.000% Params, 0.0 Mac, 0.000% MACs, p=0.2, inplace=False)\n",
      "          )\n",
      "          (attention_residual_dropout): Dropout(0, 0.000% Params, 0.0 Mac, 0.000% MACs, p=0.0, inplace=False)\n",
      "          (ffn_normalization): LayerNorm(64, 0.254% Params, 736.0 Mac, 0.150% MACs, (32,), eps=1e-05, elementwise_affine=True)\n",
      "          (ffn): Sequential(\n",
      "            4.15 k, 16.451% Params, 95.4 KMac, 19.494% MACs, \n",
      "            (linear1): Linear(2.77 k, 10.994% Params, 63.76 KMac, 13.028% MACs, in_features=32, out_features=84, bias=True)\n",
      "            (activation): _ReGLU(0, 0.000% Params, 0.0 Mac, 0.000% MACs, )\n",
      "            (dropout): Dropout(0, 0.000% Params, 0.0 Mac, 0.000% MACs, p=0.1, inplace=False)\n",
      "            (linear2): Linear(1.38 k, 5.457% Params, 31.65 KMac, 6.467% MACs, in_features=42, out_features=32, bias=True)\n",
      "          )\n",
      "          (ffn_residual_dropout): Dropout(0, 0.000% Params, 0.0 Mac, 0.000% MACs, p=0.0, inplace=False)\n",
      "          (output): Identity(0, 0.000% Params, 0.0 Mac, 0.000% MACs, )\n",
      "          (attention_normalization): LayerNorm(64, 0.254% Params, 736.0 Mac, 0.150% MACs, (32,), eps=1e-05, elementwise_affine=True)\n",
      "        )\n",
      "      )\n",
      "      (output): Sequential(\n",
      "        130, 0.516% Params, 130.0 Mac, 0.027% MACs, \n",
      "        (normalization): LayerNorm(64, 0.254% Params, 32.0 Mac, 0.007% MACs, (32,), eps=1e-05, elementwise_affine=True)\n",
      "        (activation): ReLU(0, 0.000% Params, 32.0 Mac, 0.007% MACs, )\n",
      "        (linear): Linear(66, 0.262% Params, 66.0 Mac, 0.013% MACs, in_features=32, out_features=2, bias=True)\n",
      "      )\n",
      "    )\n",
      "  )\n",
      ")\n",
      "MACs per sample (string): 489.39 KMac\n",
      "Params (string)      : 25.21 k\n",
      "MACs per sample: 489.39 K\n",
      "MACs: 48.94 M\n"
     ]
    }
   ],
   "source": [
    "from ptflops import get_model_complexity_info\n",
    "\n",
    "input_shape = (n_cont + n_cat,)\n",
    "with torch.cuda.device(0):\n",
    "    macs_str, params_str = get_model_complexity_info(\n",
    "        wrapped,\n",
    "        input_shape,\n",
    "        as_strings=True,\n",
    "        print_per_layer_stat=True,\n",
    "        verbose=True,\n",
    "    )\n",
    "\n",
    "print(f\"MACs per sample (string): {macs_str}\")\n",
    "print(f\"Params (string)      : {params_str}\")\n",
    "\n",
    "# Parse the MACs string into a float (number of multiply-adds per sample)\n",
    "def parse_macs_str(s):\n",
    "    if s.endswith(\" GMac\"):\n",
    "        return float(s.replace(\" GMac\", \"\")) * 1e9\n",
    "    if s.endswith(\" MMac\"):\n",
    "        return float(s.replace(\" MMac\", \"\")) * 1e6\n",
    "    if s.endswith(\" KMac\"):\n",
    "        return float(s.replace(\" KMac\", \"\")) * 1e3\n",
    "    if s.endswith(\" Mac\"):\n",
    "        return float(s.replace(\" Mac\", \"\"))\n",
    "    raise ValueError(f\"Unrecognized MACs format: {s}\")\n",
    "\n",
    "macs_per_sample = parse_macs_str(macs_str)\n",
    "print(f\"MACs per sample: {macs_per_sample/1e3:.2f} K\")\n",
    "total_macs = macs_per_sample * X_test_num.shape[0]\n",
    "print(f\"MACs: {total_macs/1e6:.2f} M\")"
   ]
  },
  {
   "cell_type": "markdown",
   "id": "175608ed",
   "metadata": {
    "id": "175608ed"
   },
   "source": [
    "## kgCO2e"
   ]
  },
  {
   "cell_type": "code",
   "execution_count": null,
   "id": "ZmfJG24_BG6y",
   "metadata": {
    "id": "ZmfJG24_BG6y"
   },
   "outputs": [],
   "source": [
    "def compute_kgco2e(pc, pg, time):\n",
    "    \"\"\"\n",
    "    Compute kgCO2 emission, and normalized emission per capita.\n",
    "    Args:\n",
    "        pc: average CPU power in watts\n",
    "        pg: average GPU power in watts\n",
    "        time: training + eval time\n",
    "\n",
    "    Returns:\n",
    "        tuple: CO2e (kg), normalized CO2e\n",
    "    \"\"\"\n",
    "    pt = (pc + pg) * time / 1000  # power in kWh\n",
    "    co2e = 0.498 * pt  # Germany's emission rate\n",
    "    normalized = co2e / 26  # per-capita daily emission baseline\n",
    "\n",
    "    return co2e, normalized"
   ]
  },
  {
   "cell_type": "code",
   "execution_count": null,
   "id": "f4183cfb",
   "metadata": {
    "id": "f4183cfb"
   },
   "outputs": [],
   "source": [
    "\"\"\"\n",
    "Intel(R) Xeon(R) CPU @ 2.20GHz\n",
    "Model: 79 (\n",
    "-> Intel Xeon E5-2673 v4 from the Broadwell-EP family - specifications:\n",
    "    Cores: 10\n",
    "    Threads: 20\n",
    "    Base Frequency: 2.3 GHz\n",
    "    Maximum Turbo Speed: 3.5 GHz\n",
    "    Cache: 50 MB\n",
    "    TDP: 135W\n",
    "\n",
    "Colab uses 2 vCPUs (each 1 core -> total 2 cores out of 20)\n",
    "-> only use 10% of the actuall TDP -> 13.5 W\n",
    "\"\"\"\n",
    "pc = 13.5\n",
    "pg = 70"
   ]
  },
  {
   "cell_type": "code",
   "execution_count": null,
   "id": "5e1528aa",
   "metadata": {
    "colab": {
     "base_uri": "https://localhost:8080/"
    },
    "executionInfo": {
     "elapsed": 6,
     "status": "ok",
     "timestamp": 1749452048262,
     "user": {
      "displayName": "Hung Thanh Do",
      "userId": "14602254202234053172"
     },
     "user_tz": -120
    },
    "id": "5e1528aa",
    "outputId": "af98cdbb-8f1b-487f-d65c-334fa200929d"
   },
   "outputs": [
    {
     "name": "stdout",
     "output_type": "stream",
     "text": [
      "kgCO2 emission: 0.2242 kg\n",
      "Normalized kgCO2 emission: 0.0086\n"
     ]
    }
   ],
   "source": [
    "kgco2e, kgco2e_normalized = compute_kgco2e(pc, pg, elapsed_time)\n",
    "\n",
    "print(f\"kgCO2 emission: {kgco2e:.4f} kg\")\n",
    "print(f\"Normalized kgCO2 emission: {kgco2e_normalized:.4f}\")"
   ]
  },
  {
   "cell_type": "markdown",
   "id": "198657a6",
   "metadata": {
    "id": "198657a6"
   },
   "source": [
    "# Explainability"
   ]
  },
  {
   "cell_type": "markdown",
   "id": "2681f059",
   "metadata": {
    "id": "2681f059"
   },
   "source": [
    "## SHAP"
   ]
  },
  {
   "cell_type": "code",
   "execution_count": null,
   "id": "74f34e7d",
   "metadata": {
    "id": "74f34e7d"
   },
   "outputs": [],
   "source": [
    "X_test_combined = np.hstack([X_test_num, X_test_cat])  # shape (n_test, n_cont + n_cat)\n",
    "y_test_int = y_test_np.astype(np.int64)"
   ]
  },
  {
   "cell_type": "code",
   "execution_count": null,
   "id": "8acaec43",
   "metadata": {
    "id": "8acaec43"
   },
   "outputs": [],
   "source": [
    "n_cont = X_test_num.shape[1]\n",
    "n_cat  = X_test_cat.shape[1]\n",
    "background = X_test_combined[:100]\n",
    "\n",
    "\n",
    "def f_shap(combined_X: np.ndarray) -> np.ndarray:\n",
    "    \"\"\"\n",
    "    combined_X has shape (batch_size, n_cont + n_cat).\n",
    "    We split it into numeric vs. categorical, convert to torch, pass through FTTransformer,\n",
    "    and return P(class=1) as a 1D numpy array of length batch_size.\n",
    "    \"\"\"\n",
    "    model.eval()\n",
    "    # split\n",
    "    X_num_np = combined_X[:, :n_cont].astype(np.float32)\n",
    "    X_cat_np = combined_X[:, n_cont:].astype(np.int64)\n",
    "\n",
    "    with torch.no_grad():\n",
    "        Xn = torch.from_numpy(X_num_np).to(device)\n",
    "        Xc = torch.from_numpy(X_cat_np).to(device)\n",
    "        logits = model(Xn, Xc)                  # shape (batch_size, 2)\n",
    "        probs = torch.softmax(logits, dim=1).cpu().numpy()\n",
    "    return probs[:, 1]  # P(class=1)"
   ]
  },
  {
   "cell_type": "code",
   "execution_count": null,
   "id": "de465f8a",
   "metadata": {
    "id": "de465f8a"
   },
   "outputs": [],
   "source": [
    "explainer = shap.KernelExplainer(f_shap, background)"
   ]
  },
  {
   "cell_type": "code",
   "execution_count": null,
   "id": "f031fd62",
   "metadata": {
    "id": "f031fd62"
   },
   "outputs": [],
   "source": [
    "# with open('saved_shap/fttransformer_shap_values_german.pkl', 'rb') as f:\n",
    "#     shap_values = pickle.load(f)"
   ]
  },
  {
   "cell_type": "code",
   "execution_count": null,
   "id": "c5545c95",
   "metadata": {
    "id": "c5545c95",
    "outputId": "2ed2b94e-0445-4649-ee97-77a98dc207d4"
   },
   "outputs": [
    {
     "name": "stderr",
     "output_type": "stream",
     "text": [
      "100%|██████████| 100/100 [06:07<00:00,  3.68s/it]\n"
     ]
    }
   ],
   "source": [
    "shap_values = explainer.shap_values(X_test_combined, nsamples=100)"
   ]
  },
  {
   "cell_type": "code",
   "execution_count": null,
   "id": "6db45093",
   "metadata": {
    "id": "6db45093",
    "outputId": "2e0ca906-545a-42eb-861a-2d946d27b305"
   },
   "outputs": [
    {
     "data": {
      "image/png": "[encoded data removed]",
      "text/plain": [
       "<Figure size 800x950 with 2 Axes>"
      ]
     },
     "metadata": {},
     "output_type": "display_data"
    }
   ],
   "source": [
    "feature_names = list(num_cols) + list(cat_cols)\n",
    "shap.summary_plot(shap_values, X_test_combined, feature_names=feature_names)"
   ]
  },
  {
   "cell_type": "code",
   "execution_count": null,
   "id": "8b401a24",
   "metadata": {
    "id": "8b401a24"
   },
   "outputs": [],
   "source": [
    "with open('saved_shap/fttransformer_shap_values_german.pkl', 'wb') as f:\n",
    "    pickle.dump(shap_values, f)\n"
   ]
  },
  {
   "cell_type": "markdown",
   "id": "cf581dba",
   "metadata": {
    "id": "cf581dba"
   },
   "source": [
    "## Quantus"
   ]
  },
  {
   "cell_type": "markdown",
   "id": "0edf09ec",
   "metadata": {
    "id": "0edf09ec"
   },
   "source": [
    "### Wrapped Model"
   ]
  },
  {
   "cell_type": "code",
   "execution_count": null,
   "id": "b5c995bb",
   "metadata": {
    "id": "b5c995bb",
    "outputId": "b8666f1b-bd28-4e87-b38f-58525d6819f0"
   },
   "outputs": [
    {
     "data": {
      "text/plain": [
       "FTModelWrapper(\n",
       "  (model): FTTransformer(\n",
       "    (cls_embedding): _CLSEmbedding()\n",
       "    (cont_embeddings): LinearEmbeddings()\n",
       "    (cat_embeddings): CategoricalEmbeddings(\n",
       "      (embeddings): ModuleList(\n",
       "        (0): Embedding(4, 192)\n",
       "        (1): Embedding(5, 192)\n",
       "        (2): Embedding(10, 192)\n",
       "        (3-4): 2 x Embedding(5, 192)\n",
       "        (5): Embedding(3, 192)\n",
       "        (6): Embedding(4, 192)\n",
       "        (7-8): 2 x Embedding(3, 192)\n",
       "        (9): Embedding(4, 192)\n",
       "        (10-12): 3 x Embedding(2, 192)\n",
       "        (13): Embedding(4, 192)\n",
       "        (14): Embedding(2, 192)\n",
       "      )\n",
       "    )\n",
       "    (backbone): FTTransformerBackbone(\n",
       "      (blocks): ModuleList(\n",
       "        (0): ModuleDict(\n",
       "          (attention): MultiheadAttention(\n",
       "            (W_q): Linear(in_features=192, out_features=192, bias=True)\n",
       "            (W_k): Linear(in_features=192, out_features=192, bias=True)\n",
       "            (W_v): Linear(in_features=192, out_features=192, bias=True)\n",
       "            (W_out): Linear(in_features=192, out_features=192, bias=True)\n",
       "            (dropout): Dropout(p=0.2, inplace=False)\n",
       "          )\n",
       "          (attention_residual_dropout): Dropout(p=0.0, inplace=False)\n",
       "          (ffn_normalization): LayerNorm((192,), eps=1e-05, elementwise_affine=True)\n",
       "          (ffn): Sequential(\n",
       "            (linear1): Linear(in_features=192, out_features=512, bias=True)\n",
       "            (activation): _ReGLU()\n",
       "            (dropout): Dropout(p=0.1, inplace=False)\n",
       "            (linear2): Linear(in_features=256, out_features=192, bias=True)\n",
       "          )\n",
       "          (ffn_residual_dropout): Dropout(p=0.0, inplace=False)\n",
       "          (output): Identity()\n",
       "        )\n",
       "        (1-2): 2 x ModuleDict(\n",
       "          (attention): MultiheadAttention(\n",
       "            (W_q): Linear(in_features=192, out_features=192, bias=True)\n",
       "            (W_k): Linear(in_features=192, out_features=192, bias=True)\n",
       "            (W_v): Linear(in_features=192, out_features=192, bias=True)\n",
       "            (W_out): Linear(in_features=192, out_features=192, bias=True)\n",
       "            (dropout): Dropout(p=0.2, inplace=False)\n",
       "          )\n",
       "          (attention_residual_dropout): Dropout(p=0.0, inplace=False)\n",
       "          (ffn_normalization): LayerNorm((192,), eps=1e-05, elementwise_affine=True)\n",
       "          (ffn): Sequential(\n",
       "            (linear1): Linear(in_features=192, out_features=512, bias=True)\n",
       "            (activation): _ReGLU()\n",
       "            (dropout): Dropout(p=0.1, inplace=False)\n",
       "            (linear2): Linear(in_features=256, out_features=192, bias=True)\n",
       "          )\n",
       "          (ffn_residual_dropout): Dropout(p=0.0, inplace=False)\n",
       "          (output): Identity()\n",
       "          (attention_normalization): LayerNorm((192,), eps=1e-05, elementwise_affine=True)\n",
       "        )\n",
       "      )\n",
       "      (output): Sequential(\n",
       "        (normalization): LayerNorm((192,), eps=1e-05, elementwise_affine=True)\n",
       "        (activation): ReLU()\n",
       "        (linear): Linear(in_features=192, out_features=2, bias=True)\n",
       "      )\n",
       "    )\n",
       "  )\n",
       ")"
      ]
     },
     "execution_count": 20,
     "metadata": {},
     "output_type": "execute_result"
    }
   ],
   "source": [
    "class FTModelWrapper(nn.Module):\n",
    "    \"\"\"\n",
    "    Wraps an FTTransformer so that Quantus can call `.forward(x)` and `.predict(x)`,\n",
    "    where x is a 2D numpy array of shape (batch_size, n_cont + n_cat). Internally,\n",
    "    we split into numeric vs. categorical tensors and forward them to the FTTransformer.\n",
    "    \"\"\"\n",
    "    def __init__(self, ft_model: nn.Module, cat_cardinalities: list):\n",
    "        super(FTModelWrapper, self).__init__()\n",
    "        self.model = ft_model\n",
    "        self.model.eval()\n",
    "        self.cat_cardinalities = cat_cardinalities  # Store cardinalities for clipping\n",
    "\n",
    "    def _clip_categorical_indices(self, x_cat: torch.Tensor) -> torch.Tensor:\n",
    "        \"\"\"\n",
    "        Clip categorical indices to valid ranges based on cardinalities.\n",
    "        \"\"\"\n",
    "        x_cat_clipped = x_cat.clone()\n",
    "        for i, cardinality in enumerate(self.cat_cardinalities):\n",
    "            # Clip to valid range [0, cardinality-1]\n",
    "            x_cat_clipped[:, i] = torch.clamp(x_cat_clipped[:, i], 0, cardinality - 1)\n",
    "        return x_cat_clipped\n",
    "\n",
    "    def forward(self, combined_x: torch.Tensor) -> torch.Tensor:\n",
    "        \"\"\"\n",
    "        combined_x: torch.Tensor of shape (batch_size, n_cont + n_cat), dtype float or long.\n",
    "        We'll split it into (X_num, X_cat).\n",
    "        \"\"\"\n",
    "        # split along last dim\n",
    "        Xn = combined_x[:, :n_cont].float().to(device)\n",
    "        Xc = combined_x[:, n_cont:].long().to(device)\n",
    "\n",
    "        # Clip categorical indices to valid ranges\n",
    "        Xc = self._clip_categorical_indices(Xc)\n",
    "\n",
    "        logits = self.model(Xn, Xc)  # shape (batch_size, 2)\n",
    "        return logits\n",
    "\n",
    "    def predict(self, combined_X: np.ndarray) -> np.ndarray:\n",
    "        \"\"\"\n",
    "        combined_X: numpy array of shape (batch_size, n_cont + n_cat).\n",
    "        Returns: probabilities (batch_size, 2).\n",
    "        \"\"\"\n",
    "        self.model.eval()\n",
    "        with torch.no_grad():\n",
    "            # convert to torch\n",
    "            t = torch.from_numpy(combined_X).float().to(device)\n",
    "            logits = self.forward(t)  # shape (batch_size, 2)\n",
    "            probs = torch.softmax(logits, dim=1).cpu().numpy()\n",
    "        return probs\n",
    "\n",
    "    def shape_input(self, x: np.ndarray, shape, channel_first: bool) -> np.ndarray:\n",
    "        \"\"\"For Quantus: ensure x is at least 2D.\"\"\"\n",
    "        return np.atleast_2d(x)\n",
    "\n",
    "# Update the instantiation to include cardinalities:\n",
    "wrapped_model = FTModelWrapper(model, cat_cardinalities=cardinalities)\n",
    "wrapped_model.eval()  # set to eval mode"
   ]
  },
  {
   "cell_type": "markdown",
   "id": "1c65fa36",
   "metadata": {
    "id": "1c65fa36"
   },
   "source": [
    "### Complexity"
   ]
  },
  {
   "cell_type": "code",
   "execution_count": null,
   "id": "8d53d48a",
   "metadata": {
    "colab": {
     "referenced_widgets": [
      "72c3424be9d24446b427d9b0d7b438a6"
     ]
    },
    "id": "8d53d48a",
    "outputId": "42ede319-3938-42e4-c163-b280b0990716"
   },
   "outputs": [
    {
     "data": {
      "application/vnd.jupyter.widget-view+json": {
       "model_id": "72c3424be9d24446b427d9b0d7b438a6",
       "version_major": 2,
       "version_minor": 0
      },
      "text/plain": [
       "  0%|          | 0/2.0 [00:00<?, ?it/s]"
      ]
     },
     "metadata": {},
     "output_type": "display_data"
    },
    {
     "name": "stdout",
     "output_type": "stream",
     "text": [
      "Complexity (Bhatt et al., 2020) [SHAP]: 0.6635\n"
     ]
    }
   ],
   "source": [
    "# ──────────────────────────────────────────────────────────────────────────────\n",
    "# 3.1. Complexity (Bhatt et al., 2020) from SHAP attributions\n",
    "# ──────────────────────────────────────────────────────────────────────────────\n",
    "Complexity_shap = quantus.Complexity(\n",
    "    normalise=False,\n",
    "    abs=True,                 # take absolute values of attributions\n",
    "    disable_warnings=True,\n",
    "    display_progressbar=True,\n",
    "    aggregate_func=np.mean   # mean over all samples\n",
    ")(\n",
    "    model=wrapped_model,\n",
    "    x_batch=X_test_combined,\n",
    "    y_batch=y_test_int,\n",
    "    a_batch=shap_values,     # precomputed SHAP values (shape: n_test × (n_cont + n_cat))\n",
    "    explain_func=None\n",
    ")\n",
    "\n",
    "# Scale to [0,1]\n",
    "Complexity_shap = np.array(Complexity_shap)\n",
    "Complexity_shap = (Complexity_shap - Complexity_shap.min()) / (Complexity_shap.max() - Complexity_shap.min())\n",
    "Complexity_shap = float(np.mean(Complexity_shap))\n",
    "\n",
    "print(\"Complexity (Bhatt et al., 2020) [SHAP]:\", round(Complexity_shap, 4))"
   ]
  },
  {
   "cell_type": "code",
   "execution_count": null,
   "id": "c0f3651b",
   "metadata": {
    "colab": {
     "referenced_widgets": [
      "7a9d7820657d457faad4c36a22c6d8bd"
     ]
    },
    "id": "c0f3651b",
    "outputId": "1144e4e7-c50c-42d3-f0e6-beb4ed20346f"
   },
   "outputs": [
    {
     "data": {
      "application/vnd.jupyter.widget-view+json": {
       "model_id": "7a9d7820657d457faad4c36a22c6d8bd",
       "version_major": 2,
       "version_minor": 0
      },
      "text/plain": [
       "  0%|          | 0/2.0 [00:00<?, ?it/s]"
      ]
     },
     "metadata": {},
     "output_type": "display_data"
    },
    {
     "name": "stdout",
     "output_type": "stream",
     "text": [
      "Sparseness (Chalasani et al., 2020) [SHAP]: 0.8317\n"
     ]
    },
    {
     "name": "stderr",
     "output_type": "stream",
     "text": [
      "C:\\Users\\hungd\\AppData\\Local\\Temp\\ipykernel_19568\\3405702079.py:20: DeprecationWarning: Conversion of an array with ndim > 0 to a scalar is deprecated, and will error in future. Ensure you extract a single element from your array before performing this operation. (Deprecated NumPy 1.25.)\n",
      "  Sparseness_shap = float(Sparseness_shap)\n"
     ]
    }
   ],
   "source": [
    "# ──────────────────────────────────────────────────────────────────────────────\n",
    "# 3.2. Sparseness (Chalasani et al., 2020)\n",
    "# ──────────────────────────────────────────────────────────────────────────────\n",
    "Sparseness_shap = quantus.Sparseness(\n",
    "    normalise=False,\n",
    "    abs=True,\n",
    "    disable_warnings=True,\n",
    "    display_progressbar=True,\n",
    "    return_aggregate=True,    # return a single mean value\n",
    "    aggregate_func=np.mean\n",
    ")(\n",
    "    model=wrapped_model,\n",
    "    x_batch=X_test_combined,\n",
    "    y_batch=y_test_int,\n",
    "    a_batch=shap_values,\n",
    "    explain_func=None\n",
    ")\n",
    "\n",
    "Sparseness_shap = np.array(Sparseness_shap)  # ensure it's a numpy array\n",
    "Sparseness_shap = float(Sparseness_shap)\n",
    "print(\"Sparseness (Chalasani et al., 2020) [SHAP]:\", round(Sparseness_shap, 4))"
   ]
  },
  {
   "cell_type": "markdown",
   "id": "590c2b8f",
   "metadata": {
    "id": "590c2b8f"
   },
   "source": [
    "### Faithfulness"
   ]
  },
  {
   "cell_type": "code",
   "execution_count": null,
   "id": "ed4ad611",
   "metadata": {
    "colab": {
     "referenced_widgets": [
      "fd839b2fba1f40a9884947b9c6666318"
     ]
    },
    "id": "ed4ad611",
    "outputId": "2e3cfa89-8b70-437c-d30e-f1de6564c53e"
   },
   "outputs": [
    {
     "data": {
      "application/vnd.jupyter.widget-view+json": {
       "model_id": "fd839b2fba1f40a9884947b9c6666318",
       "version_major": 2,
       "version_minor": 0
      },
      "text/plain": [
       "  0%|          | 0/2.0 [00:00<?, ?it/s]"
      ]
     },
     "metadata": {},
     "output_type": "display_data"
    },
    {
     "name": "stdout",
     "output_type": "stream",
     "text": [
      "FaithfulnessCorrelation (Bhatt et al., 2020) [SHAP]: 0.5172\n"
     ]
    }
   ],
   "source": [
    "# ──────────────────────────────────────────────────────────────────────────────\n",
    "# 3.3. FaithfulnessCorrelation (Bhatt et al., 2020)\n",
    "# ──────────────────────────────────────────────────────────────────────────────\n",
    "FaithfulnessCorrelation_shap = quantus.FaithfulnessCorrelation(\n",
    "    perturb_baseline=\"white\",\n",
    "    perturb_func=quantus.baseline_replacement_by_indices,\n",
    "    subset_size=5,                           # number of features to perturb per run\n",
    "    nr_runs=10,                              # how many random subsets to try\n",
    "    similarity_func=quantus.similarity_func.correlation_pearson,\n",
    "    abs=True,\n",
    "    normalise=False,\n",
    "    return_aggregate=False,                  # get one value per test sample\n",
    "    aggregate_func=np.mean,\n",
    "    disable_warnings=True,\n",
    "    display_progressbar=True,\n",
    ")(\n",
    "    model=wrapped_model,\n",
    "    x_batch=X_test_combined,\n",
    "    y_batch=y_test_int,\n",
    "    a_batch=shap_values,\n",
    "    explain_func=None\n",
    ")\n",
    "\n",
    "# scale to [0,1], then take the mean\n",
    "fc = np.array(FaithfulnessCorrelation_shap)\n",
    "fc = (fc - np.min(fc)) / (np.max(fc) - np.min(fc))\n",
    "FaithfulnessCorrelation_shap = float(np.mean(fc))\n",
    "\n",
    "print(\"FaithfulnessCorrelation (Bhatt et al., 2020) [SHAP]:\", round(FaithfulnessCorrelation_shap, 4))\n"
   ]
  },
  {
   "cell_type": "code",
   "execution_count": null,
   "id": "95251d5e",
   "metadata": {
    "colab": {
     "referenced_widgets": [
      "9b7a0c72a9f045fb8520c87e8c4dffaf"
     ]
    },
    "id": "95251d5e",
    "outputId": "696d2773-7f35-42ae-cb8d-103197f4f626"
   },
   "outputs": [
    {
     "data": {
      "application/vnd.jupyter.widget-view+json": {
       "model_id": "9b7a0c72a9f045fb8520c87e8c4dffaf",
       "version_major": 2,
       "version_minor": 0
      },
      "text/plain": [
       "  0%|          | 0/2.0 [00:00<?, ?it/s]"
      ]
     },
     "metadata": {},
     "output_type": "display_data"
    },
    {
     "name": "stderr",
     "output_type": "stream",
     "text": [
      "c:\\Users\\hungd\\anaconda3\\envs\\responsive-ai-env\\Lib\\site-packages\\quantus\\helpers\\warn.py:257: UserWarning: The settings for perturbing input e.g., 'perturb_func' didn't cause change in input. Reconsider the parameter settings.\n",
      "  warnings.warn(\n"
     ]
    },
    {
     "name": "stdout",
     "output_type": "stream",
     "text": [
      "FaithfulnessEstimate (Alvarez-Melis et al., 2018) [SHAP]: 0.5323\n"
     ]
    }
   ],
   "source": [
    "FaithfulnessEstimate_shap = quantus.FaithfulnessEstimate(\n",
    "    perturb_baseline=\"white\",\n",
    "    perturb_func=quantus.baseline_replacement_by_indices,\n",
    "    features_in_step=1,                      # remove one feature at a time\n",
    "    similarity_func=quantus.similarity_func.correlation_pearson,\n",
    "    abs=True,\n",
    "    normalise=False,\n",
    "    return_aggregate=False,\n",
    "    aggregate_func=np.mean,\n",
    "    disable_warnings=True,\n",
    "    display_progressbar=True,\n",
    ")(\n",
    "    model=wrapped_model,\n",
    "    x_batch=X_test_combined,\n",
    "    y_batch=y_test_int,\n",
    "    a_batch=shap_values,\n",
    "    explain_func=None\n",
    ")\n",
    "\n",
    "fe = FaithfulnessEstimate_shap\n",
    "fe = (fe - np.min(fe)) / (np.max(fe) - np.min(fe))\n",
    "FaithfulnessEstimate_shap = float(np.mean(fe))\n",
    "\n",
    "print(\"FaithfulnessEstimate (Alvarez-Melis et al., 2018) [SHAP]:\", round(FaithfulnessEstimate_shap, 4))"
   ]
  },
  {
   "cell_type": "markdown",
   "id": "a4c6e50e",
   "metadata": {
    "id": "a4c6e50e"
   },
   "source": [
    "### Robustness"
   ]
  },
  {
   "cell_type": "code",
   "execution_count": null,
   "id": "57cf665c",
   "metadata": {
    "colab": {
     "referenced_widgets": [
      "0737d6f288cf4e6d9c86e1d106747810"
     ]
    },
    "id": "57cf665c",
    "outputId": "170966ba-dcb4-459c-f156-b8a1f183b69d"
   },
   "outputs": [
    {
     "data": {
      "application/vnd.jupyter.widget-view+json": {
       "model_id": "0737d6f288cf4e6d9c86e1d106747810",
       "version_major": 2,
       "version_minor": 0
      },
      "text/plain": [
       "  0%|          | 0/2.0 [00:00<?, ?it/s]"
      ]
     },
     "metadata": {},
     "output_type": "display_data"
    },
    {
     "name": "stderr",
     "output_type": "stream",
     "text": [
      "c:\\Users\\hungd\\anaconda3\\envs\\responsive-ai-env\\Lib\\site-packages\\captum\\attr\\_core\\deep_lift.py:304: UserWarning: Setting forward, backward hooks and attributes on non-linear\n",
      "               activations. The hooks and attributes will be removed\n",
      "            after the attribution is finished\n",
      "  warnings.warn(\n"
     ]
    },
    {
     "name": "stdout",
     "output_type": "stream",
     "text": [
      "LocalLipschitzEstimate (Alvarez-Melis et al., 2018) [SHAP]: 0.13\n"
     ]
    }
   ],
   "source": [
    "LocalLipschitzEstimate_shap = quantus.LocalLipschitzEstimate(\n",
    "    normalise=False,\n",
    "    abs=True,\n",
    "    nr_samples=20,\n",
    "    disable_warnings=True,\n",
    "    display_progressbar=True,\n",
    "    aggregate_func=np.mean\n",
    ")(\n",
    "    model=wrapped_model,\n",
    "    x_batch=X_test_combined,\n",
    "    y_batch=y_test_int,\n",
    "    a_batch=None,\n",
    "    explain_func=quantus.explain,\n",
    "    explain_func_kwargs={\"method\": \"DeepLiftShap\", \"reduce_axes\": ()},\n",
    ")\n",
    "\n",
    "lle = LocalLipschitzEstimate_shap\n",
    "lle = (lle - np.min(lle)) / (np.max(lle) - np.min(lle))\n",
    "LocalLipschitzEstimate_shap = float(np.mean(lle))\n",
    "\n",
    "print(\"LocalLipschitzEstimate (Alvarez-Melis et al., 2018) [SHAP]:\", round(LocalLipschitzEstimate_shap, 4))"
   ]
  },
  {
   "cell_type": "markdown",
   "id": "eb768579",
   "metadata": {
    "id": "eb768579"
   },
   "source": [
    "### Randomisation"
   ]
  },
  {
   "cell_type": "code",
   "execution_count": null,
   "id": "b0b03251",
   "metadata": {
    "colab": {
     "referenced_widgets": [
      "3b3a09a6b4784148965841cf4f055452"
     ]
    },
    "id": "b0b03251",
    "outputId": "b8c3834e-68f8-4cbf-d86c-e5456998ada5"
   },
   "outputs": [
    {
     "data": {
      "application/vnd.jupyter.widget-view+json": {
       "model_id": "3b3a09a6b4784148965841cf4f055452",
       "version_major": 2,
       "version_minor": 0
      },
      "text/plain": [
       "  0%|          | 0/2.0 [00:00<?, ?it/s]"
      ]
     },
     "metadata": {},
     "output_type": "display_data"
    },
    {
     "name": "stdout",
     "output_type": "stream",
     "text": [
      "RandomLogit (Sixt et al., 2020) [SHAP]: 0.907\n"
     ]
    },
    {
     "name": "stderr",
     "output_type": "stream",
     "text": [
      "C:\\Users\\hungd\\AppData\\Local\\Temp\\ipykernel_19568\\3948250055.py:21: DeprecationWarning: Conversion of an array with ndim > 0 to a scalar is deprecated, and will error in future. Ensure you extract a single element from your array before performing this operation. (Deprecated NumPy 1.25.)\n",
      "  RandomLogit_shap = float(np.array(RandomLogit_shap))\n"
     ]
    }
   ],
   "source": [
    "RandomLogit_shap = quantus.RandomLogit(\n",
    "    num_classes=2,\n",
    "    disable_warnings=True,\n",
    "    normalise=False,\n",
    "    abs=True,\n",
    "    display_progressbar=True,\n",
    "    return_aggregate=True,\n",
    "    aggregate_func=np.mean\n",
    ")(\n",
    "    model=wrapped_model,\n",
    "    x_batch=X_test_combined,\n",
    "    y_batch=y_test_int,\n",
    "    a_batch=None,\n",
    "    explain_func=quantus.explain,\n",
    "    explain_func_kwargs={\"method\": \"GradientShap\", \"reduce_axes\": ()},\n",
    ")\n",
    "\n",
    "RandomLogit_shap = float(np.array(RandomLogit_shap))\n",
    "print(\"RandomLogit (Sixt et al., 2020) [SHAP]:\", round(RandomLogit_shap, 4))\n",
    "\n"
   ]
  },
  {
   "cell_type": "code",
   "execution_count": null,
   "id": "30cb83c3",
   "metadata": {
    "colab": {
     "referenced_widgets": [
      "00236b24219248d689c4fec3c0bf4fdf"
     ]
    },
    "id": "30cb83c3",
    "outputId": "4c8e3b56-8e3b-425d-a187-bc493a0bbc9a"
   },
   "outputs": [
    {
     "data": {
      "application/vnd.jupyter.widget-view+json": {
       "model_id": "00236b24219248d689c4fec3c0bf4fdf",
       "version_major": 2,
       "version_minor": 0
      },
      "text/plain": [
       "  0%|          | 0/4300 [00:00<?, ?it/s]"
      ]
     },
     "metadata": {},
     "output_type": "display_data"
    },
    {
     "name": "stdout",
     "output_type": "stream",
     "text": [
      "MPRT (Adebayo et al., 2018) [SHAP]: 0.738\n"
     ]
    }
   ],
   "source": [
    "MPRT_shap = quantus.MPRT(\n",
    "    return_average_correlation=True,\n",
    "    layer_order=\"independent\",\n",
    "    similarity_func=quantus.ssim,\n",
    "    disable_warnings=True,\n",
    "    normalise=False,\n",
    "    abs=True,\n",
    "    display_progressbar=True,\n",
    "    aggregate_func=np.mean\n",
    ")(\n",
    "    model=wrapped_model,\n",
    "    x_batch=X_test_combined,\n",
    "    y_batch=y_test_int,\n",
    "    a_batch=None,\n",
    "    explain_func=quantus.explain,\n",
    "    explain_func_kwargs={\"method\": \"GradientShap\", \"reduce_axes\": ()},\n",
    ")\n",
    "\n",
    "mprt = MPRT_shap\n",
    "mprt = (mprt - np.min(mprt)) / (np.max(mprt) - np.min(mprt))\n",
    "MPRT_shap = float(np.mean(mprt))\n",
    "\n",
    "print(\"MPRT (Adebayo et al., 2018) [SHAP]:\", round(MPRT_shap, 4))\n"
   ]
  },
  {
   "cell_type": "markdown",
   "id": "a8b7c56c",
   "metadata": {
    "id": "a8b7c56c"
   },
   "source": [
    "### Summary"
   ]
  },
  {
   "cell_type": "code",
   "execution_count": null,
   "id": "5fea2fa7",
   "metadata": {
    "id": "5fea2fa7",
    "outputId": "42cfd3ad-ff67-4ec8-d51a-975fa1c421d5"
   },
   "outputs": [
    {
     "name": "stdout",
     "output_type": "stream",
     "text": [
      "Complexity: 0.7476\n",
      "Faithfulness: 0.5247\n",
      "Robustness: 0.13\n",
      "Randomisation: 0.8225\n"
     ]
    }
   ],
   "source": [
    "display(Markdown(\"#### Explanability scores\"))\n",
    "\n",
    "print(\"Complexity:\", round((Complexity_shap + Sparseness_shap) / 2, 4))\n",
    "print(\"Faithfulness:\", round((FaithfulnessEstimate_shap + FaithfulnessCorrelation_shap) / 2, 4))\n",
    "print(\"Robustness:\", round(LocalLipschitzEstimate_shap, 4))\n",
    "print(\"Randomisation:\", round((MPRT_shap + RandomLogit_shap) / 2, 4))"
   ]
  }
 ],
 "metadata": {
  "accelerator": "GPU",
  "colab": {
   "gpuType": "T4",
   "provenance": []
  },
  "kernelspec": {
   "display_name": "Python 3",
   "name": "python3"
  },
  "language_info": {
   "codemirror_mode": {
    "name": "ipython",
    "version": 3
   },
   "file_extension": ".py",
   "mimetype": "text/x-python",
   "name": "python",
   "nbconvert_exporter": "python",
   "pygments_lexer": "ipython3",
   "version": "3.11.11"
  }
 },
 "nbformat": 4,
 "nbformat_minor": 5
}
