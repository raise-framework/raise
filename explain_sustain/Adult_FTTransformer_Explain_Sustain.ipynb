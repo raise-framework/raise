{
 "cells": [
  {
   "cell_type": "code",
   "execution_count": null,
   "id": "Xundb9CMDO1H",
   "metadata": {
    "colab": {
     "base_uri": "https://localhost:8080/"
    },
    "executionInfo": {
     "elapsed": 1175,
     "status": "ok",
     "timestamp": 1749450857252,
     "user": {
      "displayName": "Hung Thanh Do",
      "userId": "14602254202234053172"
     },
     "user_tz": -120
    },
    "id": "Xundb9CMDO1H",
    "outputId": "dfbd2810-d4b1-4ef8-cfc4-dba865812c94"
   },
   "outputs": [
    {
     "name": "stdout",
     "output_type": "stream",
     "text": [
      "Drive already mounted at /content/drive; to attempt to forcibly remount, call drive.mount(\"/content/drive\", force_remount=True).\n"
     ]
    }
   ],
   "source": [
    "from google.colab import drive\n",
    "drive.mount('/content/drive')"
   ]
  },
  {
   "cell_type": "code",
   "execution_count": null,
   "id": "HY7BzhHFDQoe",
   "metadata": {
    "colab": {
     "base_uri": "https://localhost:8080/"
    },
    "executionInfo": {
     "elapsed": 14,
     "status": "ok",
     "timestamp": 1749450858263,
     "user": {
      "displayName": "Hung Thanh Do",
      "userId": "14602254202234053172"
     },
     "user_tz": -120
    },
    "id": "HY7BzhHFDQoe",
    "outputId": "1f5e0ea3-df3d-43be-cf0b-1a710265465d"
   },
   "outputs": [
    {
     "name": "stdout",
     "output_type": "stream",
     "text": [
      "/content/drive/MyDrive/responsive-ai\n"
     ]
    }
   ],
   "source": [
    "%cd '/content/drive/MyDrive/responsive-ai'"
   ]
  },
  {
   "cell_type": "markdown",
   "id": "gmhlZLWEASHF",
   "metadata": {
    "id": "gmhlZLWEASHF"
   },
   "source": [
    "## Dependencies"
   ]
  },
  {
   "cell_type": "code",
   "execution_count": null,
   "id": "wffc8lbODVgQ",
   "metadata": {
    "colab": {
     "base_uri": "https://localhost:8080/"
    },
    "collapsed": true,
    "executionInfo": {
     "elapsed": 24288,
     "status": "ok",
     "timestamp": 1749450885382,
     "user": {
      "displayName": "Hung Thanh Do",
      "userId": "14602254202234053172"
     },
     "user_tz": -120
    },
    "id": "wffc8lbODVgQ",
    "outputId": "77f94c1e-a05f-40f3-fd36-b70a76c2765c"
   },
   "outputs": [
    {
     "name": "stdout",
     "output_type": "stream",
     "text": [
      "Requirement already satisfied: quantus in /usr/local/lib/python3.11/dist-packages (0.5.3)\n",
      "Requirement already satisfied: numpy>=1.19.5 in /usr/local/lib/python3.11/dist-packages (from quantus) (2.0.2)\n",
      "Requirement already satisfied: pandas>=1.5.3 in /usr/local/lib/python3.11/dist-packages (from quantus) (2.2.2)\n",
      "Requirement already satisfied: opencv-python>=4.5.5.62 in /usr/local/lib/python3.11/dist-packages (from quantus) (4.11.0.86)\n",
      "Requirement already satisfied: scikit-image>=0.19.3 in /usr/local/lib/python3.11/dist-packages (from quantus) (0.25.2)\n",
      "Requirement already satisfied: scikit-learn>=0.24.2 in /usr/local/lib/python3.11/dist-packages (from quantus) (1.6.1)\n",
      "Requirement already satisfied: scipy>=1.7.3 in /usr/local/lib/python3.11/dist-packages (from quantus) (1.15.3)\n",
      "Requirement already satisfied: tqdm>=4.62.3 in /usr/local/lib/python3.11/dist-packages (from quantus) (4.67.1)\n",
      "Requirement already satisfied: matplotlib>=3.3.4 in /usr/local/lib/python3.11/dist-packages (from quantus) (3.10.0)\n",
      "Requirement already satisfied: contourpy>=1.0.1 in /usr/local/lib/python3.11/dist-packages (from matplotlib>=3.3.4->quantus) (1.3.2)\n",
      "Requirement already satisfied: cycler>=0.10 in /usr/local/lib/python3.11/dist-packages (from matplotlib>=3.3.4->quantus) (0.12.1)\n",
      "Requirement already satisfied: fonttools>=4.22.0 in /usr/local/lib/python3.11/dist-packages (from matplotlib>=3.3.4->quantus) (4.58.1)\n",
      "Requirement already satisfied: kiwisolver>=1.3.1 in /usr/local/lib/python3.11/dist-packages (from matplotlib>=3.3.4->quantus) (1.4.8)\n",
      "Requirement already satisfied: packaging>=20.0 in /usr/local/lib/python3.11/dist-packages (from matplotlib>=3.3.4->quantus) (24.2)\n",
      "Requirement already satisfied: pillow>=8 in /usr/local/lib/python3.11/dist-packages (from matplotlib>=3.3.4->quantus) (11.2.1)\n",
      "Requirement already satisfied: pyparsing>=2.3.1 in /usr/local/lib/python3.11/dist-packages (from matplotlib>=3.3.4->quantus) (3.2.3)\n",
      "Requirement already satisfied: python-dateutil>=2.7 in /usr/local/lib/python3.11/dist-packages (from matplotlib>=3.3.4->quantus) (2.9.0.post0)\n",
      "Requirement already satisfied: pytz>=2020.1 in /usr/local/lib/python3.11/dist-packages (from pandas>=1.5.3->quantus) (2025.2)\n",
      "Requirement already satisfied: tzdata>=2022.7 in /usr/local/lib/python3.11/dist-packages (from pandas>=1.5.3->quantus) (2025.2)\n",
      "Requirement already satisfied: networkx>=3.0 in /usr/local/lib/python3.11/dist-packages (from scikit-image>=0.19.3->quantus) (3.5)\n",
      "Requirement already satisfied: imageio!=2.35.0,>=2.33 in /usr/local/lib/python3.11/dist-packages (from scikit-image>=0.19.3->quantus) (2.37.0)\n",
      "Requirement already satisfied: tifffile>=2022.8.12 in /usr/local/lib/python3.11/dist-packages (from scikit-image>=0.19.3->quantus) (2025.6.1)\n",
      "Requirement already satisfied: lazy-loader>=0.4 in /usr/local/lib/python3.11/dist-packages (from scikit-image>=0.19.3->quantus) (0.4)\n",
      "Requirement already satisfied: joblib>=1.2.0 in /usr/local/lib/python3.11/dist-packages (from scikit-learn>=0.24.2->quantus) (1.5.1)\n",
      "Requirement already satisfied: threadpoolctl>=3.1.0 in /usr/local/lib/python3.11/dist-packages (from scikit-learn>=0.24.2->quantus) (3.6.0)\n",
      "Requirement already satisfied: six>=1.5 in /usr/local/lib/python3.11/dist-packages (from python-dateutil>=2.7->matplotlib>=3.3.4->quantus) (1.17.0)\n",
      "Requirement already satisfied: captum==0.7.0 in /usr/local/lib/python3.11/dist-packages (0.7.0)\n",
      "Requirement already satisfied: matplotlib in /usr/local/lib/python3.11/dist-packages (from captum==0.7.0) (3.10.0)\n",
      "Requirement already satisfied: numpy in /usr/local/lib/python3.11/dist-packages (from captum==0.7.0) (2.0.2)\n",
      "Requirement already satisfied: torch>=1.6 in /usr/local/lib/python3.11/dist-packages (from captum==0.7.0) (2.6.0+cu124)\n",
      "Requirement already satisfied: tqdm in /usr/local/lib/python3.11/dist-packages (from captum==0.7.0) (4.67.1)\n",
      "Requirement already satisfied: filelock in /usr/local/lib/python3.11/dist-packages (from torch>=1.6->captum==0.7.0) (3.18.0)\n",
      "Requirement already satisfied: typing-extensions>=4.10.0 in /usr/local/lib/python3.11/dist-packages (from torch>=1.6->captum==0.7.0) (4.14.0)\n",
      "Requirement already satisfied: networkx in /usr/local/lib/python3.11/dist-packages (from torch>=1.6->captum==0.7.0) (3.5)\n",
      "Requirement already satisfied: jinja2 in /usr/local/lib/python3.11/dist-packages (from torch>=1.6->captum==0.7.0) (3.1.6)\n",
      "Requirement already satisfied: fsspec in /usr/local/lib/python3.11/dist-packages (from torch>=1.6->captum==0.7.0) (2025.3.2)\n",
      "Requirement already satisfied: nvidia-cuda-nvrtc-cu12==12.4.127 in /usr/local/lib/python3.11/dist-packages (from torch>=1.6->captum==0.7.0) (12.4.127)\n",
      "Requirement already satisfied: nvidia-cuda-runtime-cu12==12.4.127 in /usr/local/lib/python3.11/dist-packages (from torch>=1.6->captum==0.7.0) (12.4.127)\n",
      "Requirement already satisfied: nvidia-cuda-cupti-cu12==12.4.127 in /usr/local/lib/python3.11/dist-packages (from torch>=1.6->captum==0.7.0) (12.4.127)\n",
      "Requirement already satisfied: nvidia-cudnn-cu12==9.1.0.70 in /usr/local/lib/python3.11/dist-packages (from torch>=1.6->captum==0.7.0) (9.1.0.70)\n",
      "Requirement already satisfied: nvidia-cublas-cu12==12.4.5.8 in /usr/local/lib/python3.11/dist-packages (from torch>=1.6->captum==0.7.0) (12.4.5.8)\n",
      "Requirement already satisfied: nvidia-cufft-cu12==11.2.1.3 in /usr/local/lib/python3.11/dist-packages (from torch>=1.6->captum==0.7.0) (11.2.1.3)\n",
      "Requirement already satisfied: nvidia-curand-cu12==10.3.5.147 in /usr/local/lib/python3.11/dist-packages (from torch>=1.6->captum==0.7.0) (10.3.5.147)\n",
      "Requirement already satisfied: nvidia-cusolver-cu12==11.6.1.9 in /usr/local/lib/python3.11/dist-packages (from torch>=1.6->captum==0.7.0) (11.6.1.9)\n",
      "Requirement already satisfied: nvidia-cusparse-cu12==12.3.1.170 in /usr/local/lib/python3.11/dist-packages (from torch>=1.6->captum==0.7.0) (12.3.1.170)\n",
      "Requirement already satisfied: nvidia-cusparselt-cu12==0.6.2 in /usr/local/lib/python3.11/dist-packages (from torch>=1.6->captum==0.7.0) (0.6.2)\n",
      "Requirement already satisfied: nvidia-nccl-cu12==2.21.5 in /usr/local/lib/python3.11/dist-packages (from torch>=1.6->captum==0.7.0) (2.21.5)\n",
      "Requirement already satisfied: nvidia-nvtx-cu12==12.4.127 in /usr/local/lib/python3.11/dist-packages (from torch>=1.6->captum==0.7.0) (12.4.127)\n",
      "Requirement already satisfied: nvidia-nvjitlink-cu12==12.4.127 in /usr/local/lib/python3.11/dist-packages (from torch>=1.6->captum==0.7.0) (12.4.127)\n",
      "Requirement already satisfied: triton==3.2.0 in /usr/local/lib/python3.11/dist-packages (from torch>=1.6->captum==0.7.0) (3.2.0)\n",
      "Requirement already satisfied: sympy==1.13.1 in /usr/local/lib/python3.11/dist-packages (from torch>=1.6->captum==0.7.0) (1.13.1)\n",
      "Requirement already satisfied: mpmath<1.4,>=1.1.0 in /usr/local/lib/python3.11/dist-packages (from sympy==1.13.1->torch>=1.6->captum==0.7.0) (1.3.0)\n",
      "Requirement already satisfied: contourpy>=1.0.1 in /usr/local/lib/python3.11/dist-packages (from matplotlib->captum==0.7.0) (1.3.2)\n",
      "Requirement already satisfied: cycler>=0.10 in /usr/local/lib/python3.11/dist-packages (from matplotlib->captum==0.7.0) (0.12.1)\n",
      "Requirement already satisfied: fonttools>=4.22.0 in /usr/local/lib/python3.11/dist-packages (from matplotlib->captum==0.7.0) (4.58.1)\n",
      "Requirement already satisfied: kiwisolver>=1.3.1 in /usr/local/lib/python3.11/dist-packages (from matplotlib->captum==0.7.0) (1.4.8)\n",
      "Requirement already satisfied: packaging>=20.0 in /usr/local/lib/python3.11/dist-packages (from matplotlib->captum==0.7.0) (24.2)\n",
      "Requirement already satisfied: pillow>=8 in /usr/local/lib/python3.11/dist-packages (from matplotlib->captum==0.7.0) (11.2.1)\n",
      "Requirement already satisfied: pyparsing>=2.3.1 in /usr/local/lib/python3.11/dist-packages (from matplotlib->captum==0.7.0) (3.2.3)\n",
      "Requirement already satisfied: python-dateutil>=2.7 in /usr/local/lib/python3.11/dist-packages (from matplotlib->captum==0.7.0) (2.9.0.post0)\n",
      "Requirement already satisfied: six>=1.5 in /usr/local/lib/python3.11/dist-packages (from python-dateutil>=2.7->matplotlib->captum==0.7.0) (1.17.0)\n",
      "Requirement already satisfied: MarkupSafe>=2.0 in /usr/local/lib/python3.11/dist-packages (from jinja2->torch>=1.6->captum==0.7.0) (3.0.2)\n",
      "Requirement already satisfied: ptflops in /usr/local/lib/python3.11/dist-packages (0.7.4)\n",
      "Requirement already satisfied: torch>=2.0 in /usr/local/lib/python3.11/dist-packages (from ptflops) (2.6.0+cu124)\n",
      "Requirement already satisfied: filelock in /usr/local/lib/python3.11/dist-packages (from torch>=2.0->ptflops) (3.18.0)\n",
      "Requirement already satisfied: typing-extensions>=4.10.0 in /usr/local/lib/python3.11/dist-packages (from torch>=2.0->ptflops) (4.14.0)\n",
      "Requirement already satisfied: networkx in /usr/local/lib/python3.11/dist-packages (from torch>=2.0->ptflops) (3.5)\n",
      "Requirement already satisfied: jinja2 in /usr/local/lib/python3.11/dist-packages (from torch>=2.0->ptflops) (3.1.6)\n",
      "Requirement already satisfied: fsspec in /usr/local/lib/python3.11/dist-packages (from torch>=2.0->ptflops) (2025.3.2)\n",
      "Requirement already satisfied: nvidia-cuda-nvrtc-cu12==12.4.127 in /usr/local/lib/python3.11/dist-packages (from torch>=2.0->ptflops) (12.4.127)\n",
      "Requirement already satisfied: nvidia-cuda-runtime-cu12==12.4.127 in /usr/local/lib/python3.11/dist-packages (from torch>=2.0->ptflops) (12.4.127)\n",
      "Requirement already satisfied: nvidia-cuda-cupti-cu12==12.4.127 in /usr/local/lib/python3.11/dist-packages (from torch>=2.0->ptflops) (12.4.127)\n",
      "Requirement already satisfied: nvidia-cudnn-cu12==9.1.0.70 in /usr/local/lib/python3.11/dist-packages (from torch>=2.0->ptflops) (9.1.0.70)\n",
      "Requirement already satisfied: nvidia-cublas-cu12==12.4.5.8 in /usr/local/lib/python3.11/dist-packages (from torch>=2.0->ptflops) (12.4.5.8)\n",
      "Requirement already satisfied: nvidia-cufft-cu12==11.2.1.3 in /usr/local/lib/python3.11/dist-packages (from torch>=2.0->ptflops) (11.2.1.3)\n",
      "Requirement already satisfied: nvidia-curand-cu12==10.3.5.147 in /usr/local/lib/python3.11/dist-packages (from torch>=2.0->ptflops) (10.3.5.147)\n",
      "Requirement already satisfied: nvidia-cusolver-cu12==11.6.1.9 in /usr/local/lib/python3.11/dist-packages (from torch>=2.0->ptflops) (11.6.1.9)\n",
      "Requirement already satisfied: nvidia-cusparse-cu12==12.3.1.170 in /usr/local/lib/python3.11/dist-packages (from torch>=2.0->ptflops) (12.3.1.170)\n",
      "Requirement already satisfied: nvidia-cusparselt-cu12==0.6.2 in /usr/local/lib/python3.11/dist-packages (from torch>=2.0->ptflops) (0.6.2)\n",
      "Requirement already satisfied: nvidia-nccl-cu12==2.21.5 in /usr/local/lib/python3.11/dist-packages (from torch>=2.0->ptflops) (2.21.5)\n",
      "Requirement already satisfied: nvidia-nvtx-cu12==12.4.127 in /usr/local/lib/python3.11/dist-packages (from torch>=2.0->ptflops) (12.4.127)\n",
      "Requirement already satisfied: nvidia-nvjitlink-cu12==12.4.127 in /usr/local/lib/python3.11/dist-packages (from torch>=2.0->ptflops) (12.4.127)\n",
      "Requirement already satisfied: triton==3.2.0 in /usr/local/lib/python3.11/dist-packages (from torch>=2.0->ptflops) (3.2.0)\n",
      "Requirement already satisfied: sympy==1.13.1 in /usr/local/lib/python3.11/dist-packages (from torch>=2.0->ptflops) (1.13.1)\n",
      "Requirement already satisfied: mpmath<1.4,>=1.1.0 in /usr/local/lib/python3.11/dist-packages (from sympy==1.13.1->torch>=2.0->ptflops) (1.3.0)\n",
      "Requirement already satisfied: MarkupSafe>=2.0 in /usr/local/lib/python3.11/dist-packages (from jinja2->torch>=2.0->ptflops) (3.0.2)\n",
      "Requirement already satisfied: rtdl_revisiting_models in /usr/local/lib/python3.11/dist-packages (0.0.2)\n",
      "Requirement already satisfied: torch<3,>=1.8 in /usr/local/lib/python3.11/dist-packages (from rtdl_revisiting_models) (2.6.0+cu124)\n",
      "Requirement already satisfied: filelock in /usr/local/lib/python3.11/dist-packages (from torch<3,>=1.8->rtdl_revisiting_models) (3.18.0)\n",
      "Requirement already satisfied: typing-extensions>=4.10.0 in /usr/local/lib/python3.11/dist-packages (from torch<3,>=1.8->rtdl_revisiting_models) (4.14.0)\n",
      "Requirement already satisfied: networkx in /usr/local/lib/python3.11/dist-packages (from torch<3,>=1.8->rtdl_revisiting_models) (3.5)\n",
      "Requirement already satisfied: jinja2 in /usr/local/lib/python3.11/dist-packages (from torch<3,>=1.8->rtdl_revisiting_models) (3.1.6)\n",
      "Requirement already satisfied: fsspec in /usr/local/lib/python3.11/dist-packages (from torch<3,>=1.8->rtdl_revisiting_models) (2025.3.2)\n",
      "Requirement already satisfied: nvidia-cuda-nvrtc-cu12==12.4.127 in /usr/local/lib/python3.11/dist-packages (from torch<3,>=1.8->rtdl_revisiting_models) (12.4.127)\n",
      "Requirement already satisfied: nvidia-cuda-runtime-cu12==12.4.127 in /usr/local/lib/python3.11/dist-packages (from torch<3,>=1.8->rtdl_revisiting_models) (12.4.127)\n",
      "Requirement already satisfied: nvidia-cuda-cupti-cu12==12.4.127 in /usr/local/lib/python3.11/dist-packages (from torch<3,>=1.8->rtdl_revisiting_models) (12.4.127)\n",
      "Requirement already satisfied: nvidia-cudnn-cu12==9.1.0.70 in /usr/local/lib/python3.11/dist-packages (from torch<3,>=1.8->rtdl_revisiting_models) (9.1.0.70)\n",
      "Requirement already satisfied: nvidia-cublas-cu12==12.4.5.8 in /usr/local/lib/python3.11/dist-packages (from torch<3,>=1.8->rtdl_revisiting_models) (12.4.5.8)\n",
      "Requirement already satisfied: nvidia-cufft-cu12==11.2.1.3 in /usr/local/lib/python3.11/dist-packages (from torch<3,>=1.8->rtdl_revisiting_models) (11.2.1.3)\n",
      "Requirement already satisfied: nvidia-curand-cu12==10.3.5.147 in /usr/local/lib/python3.11/dist-packages (from torch<3,>=1.8->rtdl_revisiting_models) (10.3.5.147)\n",
      "Requirement already satisfied: nvidia-cusolver-cu12==11.6.1.9 in /usr/local/lib/python3.11/dist-packages (from torch<3,>=1.8->rtdl_revisiting_models) (11.6.1.9)\n",
      "Requirement already satisfied: nvidia-cusparse-cu12==12.3.1.170 in /usr/local/lib/python3.11/dist-packages (from torch<3,>=1.8->rtdl_revisiting_models) (12.3.1.170)\n",
      "Requirement already satisfied: nvidia-cusparselt-cu12==0.6.2 in /usr/local/lib/python3.11/dist-packages (from torch<3,>=1.8->rtdl_revisiting_models) (0.6.2)\n",
      "Requirement already satisfied: nvidia-nccl-cu12==2.21.5 in /usr/local/lib/python3.11/dist-packages (from torch<3,>=1.8->rtdl_revisiting_models) (2.21.5)\n",
      "Requirement already satisfied: nvidia-nvtx-cu12==12.4.127 in /usr/local/lib/python3.11/dist-packages (from torch<3,>=1.8->rtdl_revisiting_models) (12.4.127)\n",
      "Requirement already satisfied: nvidia-nvjitlink-cu12==12.4.127 in /usr/local/lib/python3.11/dist-packages (from torch<3,>=1.8->rtdl_revisiting_models) (12.4.127)\n",
      "Requirement already satisfied: triton==3.2.0 in /usr/local/lib/python3.11/dist-packages (from torch<3,>=1.8->rtdl_revisiting_models) (3.2.0)\n",
      "Requirement already satisfied: sympy==1.13.1 in /usr/local/lib/python3.11/dist-packages (from torch<3,>=1.8->rtdl_revisiting_models) (1.13.1)\n",
      "Requirement already satisfied: mpmath<1.4,>=1.1.0 in /usr/local/lib/python3.11/dist-packages (from sympy==1.13.1->torch<3,>=1.8->rtdl_revisiting_models) (1.3.0)\n",
      "Requirement already satisfied: MarkupSafe>=2.0 in /usr/local/lib/python3.11/dist-packages (from jinja2->torch<3,>=1.8->rtdl_revisiting_models) (3.0.2)\n"
     ]
    }
   ],
   "source": [
    "!pip install quantus\n",
    "!pip install captum==0.7.0\n",
    "!pip install ptflops\n",
    "!pip install rtdl_revisiting_models"
   ]
  },
  {
   "cell_type": "code",
   "execution_count": null,
   "id": "1fdba1ca",
   "metadata": {
    "id": "1fdba1ca"
   },
   "outputs": [],
   "source": [
    "import torch\n",
    "import torch.nn as nn\n",
    "import torch.optim as optim\n",
    "from torch.utils.data import DataLoader, TensorDataset\n",
    "import numpy as np\n",
    "import pandas as pd\n",
    "from sklearn.model_selection import train_test_split\n",
    "from sklearn.preprocessing import LabelEncoder\n",
    "from sklearn.metrics import accuracy_score\n",
    "import shap\n",
    "import quantus\n",
    "import pickle\n",
    "from tqdm import tqdm\n",
    "import time"
   ]
  },
  {
   "cell_type": "markdown",
   "id": "9f97b8ce",
   "metadata": {
    "id": "9f97b8ce"
   },
   "source": [
    "# Data"
   ]
  },
  {
   "cell_type": "markdown",
   "id": "22fba891",
   "metadata": {
    "id": "22fba891"
   },
   "source": [
    "## Loading"
   ]
  },
  {
   "cell_type": "code",
   "execution_count": null,
   "id": "2558a817",
   "metadata": {
    "id": "2558a817"
   },
   "outputs": [],
   "source": [
    "X, y = shap.datasets.adult(display=True)"
   ]
  },
  {
   "cell_type": "markdown",
   "id": "93e50af7",
   "metadata": {
    "id": "93e50af7"
   },
   "source": [
    "## Preprocessing"
   ]
  },
  {
   "cell_type": "code",
   "execution_count": null,
   "id": "892abc50",
   "metadata": {
    "id": "892abc50"
   },
   "outputs": [],
   "source": [
    "X_enc = X.copy()\n",
    "cat_cols = X_enc.select_dtypes(['object','category']).columns\n",
    "cardinalities = []\n",
    "label_mappings = {}\n",
    "for col in cat_cols:\n",
    "    le = LabelEncoder()\n",
    "    X_enc[col] = le.fit_transform(X_enc[col])\n",
    "    cardinalities.append(len(le.classes_))\n",
    "    label_mappings[col] = dict(zip(le.classes_, le.transform(le.classes_)))\n",
    "\n",
    "num_cols = [c for c in X_enc.columns if c not in cat_cols]"
   ]
  },
  {
   "cell_type": "code",
   "execution_count": null,
   "id": "5fe05a7e",
   "metadata": {
    "colab": {
     "base_uri": "https://localhost:8080/"
    },
    "executionInfo": {
     "elapsed": 30,
     "status": "ok",
     "timestamp": 1749450898235,
     "user": {
      "displayName": "Hung Thanh Do",
      "userId": "14602254202234053172"
     },
     "user_tz": -120
    },
    "id": "5fe05a7e",
    "outputId": "90fa1753-c7b6-4e34-f808-b6d2b3e441f9"
   },
   "outputs": [
    {
     "name": "stdout",
     "output_type": "stream",
     "text": [
      "\n",
      "Encoded mapping for 'Workclass':\n",
      "   ? → 0\n",
      "   Federal-gov → 1\n",
      "   Local-gov → 2\n",
      "   Never-worked → 3\n",
      "   Private → 4\n",
      "   Self-emp-inc → 5\n",
      "   Self-emp-not-inc → 6\n",
      "   State-gov → 7\n",
      "   Without-pay → 8\n",
      "\n",
      "Encoded mapping for 'Marital Status':\n",
      "   Divorced → 0\n",
      "   Married-AF-spouse → 1\n",
      "   Married-civ-spouse → 2\n",
      "   Married-spouse-absent → 3\n",
      "   Never-married → 4\n",
      "   Separated → 5\n",
      "   Widowed → 6\n",
      "\n",
      "Encoded mapping for 'Occupation':\n",
      "   ? → 0\n",
      "   Adm-clerical → 1\n",
      "   Armed-Forces → 2\n",
      "   Craft-repair → 3\n",
      "   Exec-managerial → 4\n",
      "   Farming-fishing → 5\n",
      "   Handlers-cleaners → 6\n",
      "   Machine-op-inspct → 7\n",
      "   Other-service → 8\n",
      "   Priv-house-serv → 9\n",
      "   Prof-specialty → 10\n",
      "   Protective-serv → 11\n",
      "   Sales → 12\n",
      "   Tech-support → 13\n",
      "   Transport-moving → 14\n",
      "\n",
      "Encoded mapping for 'Relationship':\n",
      "   Husband → 0\n",
      "   Not-in-family → 1\n",
      "   Other-relative → 2\n",
      "   Own-child → 3\n",
      "   Unmarried → 4\n",
      "   Wife → 5\n",
      "\n",
      "Encoded mapping for 'Race':\n",
      "   Amer-Indian-Eskimo → 0\n",
      "   Asian-Pac-Islander → 1\n",
      "   Black → 2\n",
      "   Other → 3\n",
      "   White → 4\n",
      "\n",
      "Encoded mapping for 'Sex':\n",
      "   Female → 0\n",
      "   Male → 1\n",
      "\n",
      "Encoded mapping for 'Country':\n",
      "   ? → 0\n",
      "   Cambodia → 1\n",
      "   Canada → 2\n",
      "   China → 3\n",
      "   Columbia → 4\n",
      "   Cuba → 5\n",
      "   Dominican-Republic → 6\n",
      "   Ecuador → 7\n",
      "   El-Salvador → 8\n",
      "   England → 9\n",
      "   France → 10\n",
      "   Germany → 11\n",
      "   Greece → 12\n",
      "   Guatemala → 13\n",
      "   Haiti → 14\n",
      "   Holand-Netherlands → 15\n",
      "   Honduras → 16\n",
      "   Hong → 17\n",
      "   Hungary → 18\n",
      "   India → 19\n",
      "   Iran → 20\n",
      "   Ireland → 21\n",
      "   Italy → 22\n",
      "   Jamaica → 23\n",
      "   Japan → 24\n",
      "   Laos → 25\n",
      "   Mexico → 26\n",
      "   Nicaragua → 27\n",
      "   Outlying-US(Guam-USVI-etc) → 28\n",
      "   Peru → 29\n",
      "   Philippines → 30\n",
      "   Poland → 31\n",
      "   Portugal → 32\n",
      "   Puerto-Rico → 33\n",
      "   Scotland → 34\n",
      "   South → 35\n",
      "   Taiwan → 36\n",
      "   Thailand → 37\n",
      "   Trinadad&Tobago → 38\n",
      "   United-States → 39\n",
      "   Vietnam → 40\n",
      "   Yugoslavia → 41\n"
     ]
    }
   ],
   "source": [
    "for col, mapping in label_mappings.items():\n",
    "    print(f\"\\nEncoded mapping for '{col}':\")\n",
    "    for original, encoded in mapping.items():\n",
    "        print(f\"  {original} → {encoded}\")"
   ]
  },
  {
   "cell_type": "code",
   "execution_count": null,
   "id": "83d87e95",
   "metadata": {
    "colab": {
     "base_uri": "https://localhost:8080/"
    },
    "executionInfo": {
     "elapsed": 20,
     "status": "ok",
     "timestamp": 1749450898236,
     "user": {
      "displayName": "Hung Thanh Do",
      "userId": "14602254202234053172"
     },
     "user_tz": -120
    },
    "id": "83d87e95",
    "outputId": "d6b3b835-53fa-4f95-aca3-15d2004e8e26"
   },
   "outputs": [
    {
     "name": "stdout",
     "output_type": "stream",
     "text": [
      "\n",
      "Cardinalities of categorical columns: [9, 7, 15, 6, 5, 2, 42]\n"
     ]
    }
   ],
   "source": [
    "print(f\"\\nCardinalities of categorical columns: {cardinalities}\")"
   ]
  },
  {
   "cell_type": "markdown",
   "id": "d9a1e21c",
   "metadata": {
    "id": "d9a1e21c"
   },
   "source": [
    "## Splitting and Formatting"
   ]
  },
  {
   "cell_type": "code",
   "execution_count": null,
   "id": "bfb0eba8",
   "metadata": {
    "id": "bfb0eba8"
   },
   "outputs": [],
   "source": [
    "# Train/test split\n",
    "X_trainval, X_test, y_trainval, y_test = train_test_split(\n",
    "    X_enc, y, test_size=0.2, random_state=7, stratify=y\n",
    ")\n",
    "\n",
    "X_train, X_val, y_train, y_val = train_test_split(\n",
    "    X_trainval, y_trainval, test_size=0.2, random_state=7, stratify=y_trainval\n",
    ")\n",
    "\n",
    "# Convert to numpy / tensors\n",
    "X_train_num = X_train[num_cols].to_numpy(dtype=np.float32)\n",
    "X_val_num   = X_val[num_cols].to_numpy(dtype=np.float32)\n",
    "X_test_num  = X_test[num_cols].to_numpy(dtype=np.float32)\n",
    "\n",
    "X_train_cat = X_train[cat_cols].to_numpy(dtype=np.int64)\n",
    "X_val_cat   = X_val[cat_cols].to_numpy(dtype=np.int64)\n",
    "X_test_cat  = X_test[cat_cols].to_numpy(dtype=np.int64)\n",
    "\n",
    "y_train_np = y_train.astype(np.int64).values if isinstance(y_train, pd.Series) else y_train.astype(np.int64)\n",
    "y_val_np   = y_val.astype(np.int64).values if isinstance(y_val, pd.Series) else y_val.astype(np.int64)\n",
    "y_test_np = y_test.astype(np.int64).values if isinstance(y_test, pd.Series) else y_test.astype(np.int64)\n",
    "\n",
    "X_train_num_t = torch.from_numpy(X_train_num)\n",
    "X_train_cat_t = torch.from_numpy(X_train_cat)\n",
    "X_val_num_t = torch.from_numpy(X_val_num)\n",
    "X_val_cat_t = torch.from_numpy(X_val_cat)\n",
    "X_test_num_t = torch.from_numpy(X_test_num)\n",
    "X_test_cat_t = torch.from_numpy(X_test_cat)\n",
    "\n",
    "y_train_t = torch.from_numpy(y_train_np)\n",
    "y_val_t   = torch.from_numpy(y_val_np)\n",
    "y_test_t  = torch.from_numpy(y_test_np)\n"
   ]
  },
  {
   "cell_type": "markdown",
   "id": "2183bbd4",
   "metadata": {
    "id": "2183bbd4"
   },
   "source": [
    "## Dataloaders"
   ]
  },
  {
   "cell_type": "code",
   "execution_count": null,
   "id": "8b7878a0",
   "metadata": {
    "id": "8b7878a0"
   },
   "outputs": [],
   "source": [
    "batch_size = 32\n",
    "train_ds = TensorDataset(\n",
    "    torch.from_numpy(X_train_num),\n",
    "    torch.from_numpy(X_train_cat),\n",
    "    y_train_t\n",
    ")\n",
    "val_ds = TensorDataset(\n",
    "    torch.from_numpy(X_val_num),\n",
    "    torch.from_numpy(X_val_cat),\n",
    "    y_val_t\n",
    ")\n",
    "test_ds = TensorDataset(\n",
    "    torch.from_numpy(X_test_num),\n",
    "    torch.from_numpy(X_test_cat),\n",
    "    y_test_t\n",
    ")\n",
    "train_loader = DataLoader(train_ds, batch_size=batch_size, shuffle=True)\n",
    "val_loader   = DataLoader(val_ds,   batch_size=batch_size, shuffle=False)\n",
    "test_loader  = DataLoader(test_ds,  batch_size=batch_size, shuffle=False)\n"
   ]
  },
  {
   "cell_type": "markdown",
   "id": "24573acb",
   "metadata": {
    "id": "24573acb"
   },
   "source": [
    "# FTTransformer model"
   ]
  },
  {
   "cell_type": "code",
   "execution_count": null,
   "id": "06467816",
   "metadata": {
    "colab": {
     "base_uri": "https://localhost:8080/"
    },
    "collapsed": true,
    "executionInfo": {
     "elapsed": 2381,
     "status": "ok",
     "timestamp": 1749450900629,
     "user": {
      "displayName": "Hung Thanh Do",
      "userId": "14602254202234053172"
     },
     "user_tz": -120
    },
    "id": "06467816",
    "outputId": "30ae2a34-9037-4ce7-e554-2793729dd694"
   },
   "outputs": [
    {
     "data": {
      "text/plain": [
       "FTTransformer(\n",
       "  (cls_embedding): _CLSEmbedding()\n",
       "  (cont_embeddings): LinearEmbeddings()\n",
       "  (cat_embeddings): CategoricalEmbeddings(\n",
       "    (embeddings): ModuleList(\n",
       "      (0): Embedding(9, 32)\n",
       "      (1): Embedding(7, 32)\n",
       "      (2): Embedding(15, 32)\n",
       "      (3): Embedding(6, 32)\n",
       "      (4): Embedding(5, 32)\n",
       "      (5): Embedding(2, 32)\n",
       "      (6): Embedding(42, 32)\n",
       "    )\n",
       "  )\n",
       "  (backbone): FTTransformerBackbone(\n",
       "    (blocks): ModuleList(\n",
       "      (0): ModuleDict(\n",
       "        (attention): MultiheadAttention(\n",
       "          (W_q): Linear(in_features=32, out_features=32, bias=True)\n",
       "          (W_k): Linear(in_features=32, out_features=32, bias=True)\n",
       "          (W_v): Linear(in_features=32, out_features=32, bias=True)\n",
       "          (dropout): Dropout(p=0.2, inplace=False)\n",
       "        )\n",
       "        (attention_residual_dropout): Dropout(p=0.0, inplace=False)\n",
       "        (ffn_normalization): LayerNorm((32,), eps=1e-05, elementwise_affine=True)\n",
       "        (ffn): Sequential(\n",
       "          (linear1): Linear(in_features=32, out_features=84, bias=True)\n",
       "          (activation): _ReGLU()\n",
       "          (dropout): Dropout(p=0.1, inplace=False)\n",
       "          (linear2): Linear(in_features=42, out_features=32, bias=True)\n",
       "        )\n",
       "        (ffn_residual_dropout): Dropout(p=0.0, inplace=False)\n",
       "        (output): Identity()\n",
       "      )\n",
       "      (1-2): 2 x ModuleDict(\n",
       "        (attention): MultiheadAttention(\n",
       "          (W_q): Linear(in_features=32, out_features=32, bias=True)\n",
       "          (W_k): Linear(in_features=32, out_features=32, bias=True)\n",
       "          (W_v): Linear(in_features=32, out_features=32, bias=True)\n",
       "          (dropout): Dropout(p=0.2, inplace=False)\n",
       "        )\n",
       "        (attention_residual_dropout): Dropout(p=0.0, inplace=False)\n",
       "        (ffn_normalization): LayerNorm((32,), eps=1e-05, elementwise_affine=True)\n",
       "        (ffn): Sequential(\n",
       "          (linear1): Linear(in_features=32, out_features=84, bias=True)\n",
       "          (activation): _ReGLU()\n",
       "          (dropout): Dropout(p=0.1, inplace=False)\n",
       "          (linear2): Linear(in_features=42, out_features=32, bias=True)\n",
       "        )\n",
       "        (ffn_residual_dropout): Dropout(p=0.0, inplace=False)\n",
       "        (output): Identity()\n",
       "        (attention_normalization): LayerNorm((32,), eps=1e-05, elementwise_affine=True)\n",
       "      )\n",
       "    )\n",
       "    (output): Sequential(\n",
       "      (normalization): LayerNorm((32,), eps=1e-05, elementwise_affine=True)\n",
       "      (activation): ReLU()\n",
       "      (linear): Linear(in_features=32, out_features=2, bias=True)\n",
       "    )\n",
       "  )\n",
       ")"
      ]
     },
     "execution_count": 11,
     "metadata": {},
     "output_type": "execute_result"
    }
   ],
   "source": [
    "from rtdl_revisiting_models import FTTransformer\n",
    "\n",
    "# Input dims\n",
    "d_num = X_train_num.shape[1]\n",
    "cat_cardinalities = cardinalities\n",
    "n_cont_features = len(num_cols)\n",
    "d_out = 2\n",
    "\n",
    "default_kwargs = FTTransformer.get_default_kwargs()\n",
    "# default_kwargs['n_blocks'] = 2\n",
    "default_kwargs['d_block'] = 32\n",
    "default_kwargs['attention_n_heads'] = 1\n",
    "# default_kwargs['attention_dropout'] = 0.2   # originally ~0.1\n",
    "# default_kwargs['ffn_dropout']       = 0.2   # originally ~0.1\n",
    "# default_kwargs['residual_dropout']  = 0.2   # originally 0.0 or tiny\n",
    "\n",
    "model = FTTransformer(\n",
    "    n_cont_features=n_cont_features,\n",
    "    cat_cardinalities=cat_cardinalities,\n",
    "    d_out=d_out,\n",
    "    **default_kwargs,\n",
    ")\n",
    "\n",
    "criterion = nn.CrossEntropyLoss()\n",
    "optimizer = optim.Adam(model.parameters(), lr=1e-3)\n",
    "device = torch.device(\"cuda\" if torch.cuda.is_available() else \"cpu\")\n",
    "model.to(device)"
   ]
  },
  {
   "cell_type": "markdown",
   "id": "6eab1db0",
   "metadata": {
    "id": "6eab1db0"
   },
   "source": [
    "# Training & Eval"
   ]
  },
  {
   "cell_type": "markdown",
   "id": "4Ax-NGUBBWZB",
   "metadata": {
    "id": "4Ax-NGUBBWZB"
   },
   "source": [
    "## Training"
   ]
  },
  {
   "cell_type": "code",
   "execution_count": null,
   "id": "XDdACrqvBZjb",
   "metadata": {
    "colab": {
     "base_uri": "https://localhost:8080/"
    },
    "executionInfo": {
     "elapsed": 13586,
     "status": "ok",
     "timestamp": 1749294289351,
     "user": {
      "displayName": "Hung Thanh Do",
      "userId": "14602254202234053172"
     },
     "user_tz": -120
    },
    "id": "XDdACrqvBZjb",
    "outputId": "934557b0-97c5-48e7-a6b1-d1ceff8f2930"
   },
   "outputs": [
    {
     "name": "stdout",
     "output_type": "stream",
     "text": [
      "Epoch [1/400]\n",
      "Training Loss: 0.6751   - Training Accuracy: 0.6098\n",
      "Validation Loss: 0.5714 - Validation Accuracy: 0.7593 \n",
      "\n",
      "Epoch [50/400]\n",
      "Training Loss: 0.3877   - Training Accuracy: 0.8154\n",
      "Validation Loss: 0.3771 - Validation Accuracy: 0.8202 \n",
      "\n",
      "Epoch [100/400]\n",
      "Training Loss: 0.3368   - Training Accuracy: 0.8434\n",
      "Validation Loss: 0.3478 - Validation Accuracy: 0.8445 \n",
      "\n",
      "\n",
      "Early stopping triggered after 113 epochs.\n",
      "\n",
      "Test Accuracy: 0.8455\n"
     ]
    }
   ],
   "source": [
    "X_train_num_t = X_train_num_t.to(device)\n",
    "X_train_cat_t = X_train_cat_t.to(device)\n",
    "X_val_num_t = X_val_num_t.to(device)\n",
    "X_val_cat_t = X_val_cat_t.to(device)\n",
    "X_test_num_t = X_test_num_t.to(device)\n",
    "X_test_cat_t = X_test_cat_t.to(device)\n",
    "\n",
    "y_train_t = y_train_t.to(device)\n",
    "y_val_t   = y_val_t.to(device)\n",
    "y_test_t  = y_test_t .to(device)\n",
    "\n",
    "best_val_loss = float('inf')\n",
    "patience   = 20\n",
    "epochs_no_improve = 0\n",
    "\n",
    "\n",
    "num_epochs = 400\n",
    "\n",
    "start_time = time.time()\n",
    "for epoch in range(num_epochs):\n",
    "    # ---- training step ----\n",
    "    model.train()\n",
    "\n",
    "    logits = model(X_train_num_t, X_train_cat_t)                    # (batch_size, 2)\n",
    "    loss = criterion(logits, y_train_t)\n",
    "    optimizer.zero_grad()\n",
    "    loss.backward()\n",
    "    optimizer.step()\n",
    "\n",
    "    y_train_pred = torch.argmax(logits, dim=1)\n",
    "    train_accuracy = accuracy_score(y_train_t.cpu().numpy(), y_train_pred.cpu().numpy())\n",
    "\n",
    "    # ---- validation step ----\n",
    "    model.eval()\n",
    "    with torch.no_grad():\n",
    "        val_logits = model(X_val_num_t, X_val_cat_t)\n",
    "        val_loss = criterion(val_logits, y_val_t)\n",
    "        val_pred = torch.argmax(val_logits, dim=1)\n",
    "        val_accuracy = accuracy_score(y_val_t.cpu().numpy(), val_pred.cpu().numpy())\n",
    "\n",
    "    if ((epoch + 1) % 50) == 0 or (epoch + 1 == 1):\n",
    "        print(f\"Epoch [{epoch+1}/{num_epochs}]\")\n",
    "        print(f\"Training Loss: {loss.item():.4f}   - Training Accuracy: {train_accuracy:.4f}\")\n",
    "        print(f\"Validation Loss: {val_loss.item():.4f} - Validation Accuracy: {val_accuracy:.4f} \\n\")\n",
    "\n",
    "    # ---- check for improvement ----\n",
    "    if val_loss < best_val_loss:\n",
    "        best_val_loss = val_loss\n",
    "        epochs_no_improve = 0\n",
    "    else:\n",
    "        epochs_no_improve += 1\n",
    "        if epochs_no_improve >= patience:\n",
    "            print(f\"\\nEarly stopping triggered after {epoch+1} epochs.\")\n",
    "            break\n",
    "\n",
    "# Evaluate on test data\n",
    "model.eval()\n",
    "with torch.no_grad():\n",
    "    logits = model(X_test_num_t, X_test_cat_t)\n",
    "    probs = torch.softmax(logits, dim=1)\n",
    "    preds = torch.argmax(probs, dim=1)\n",
    "    accuracy = (preds == y_test_t).float().mean().item()\n",
    "    print(f\"\\nTest Accuracy: {accuracy:.4f}\")\n",
    "\n",
    "\n",
    "end_time = time.time()\n",
    "elapsed_time = end_time - start_time\n"
   ]
  },
  {
   "cell_type": "code",
   "execution_count": null,
   "id": "CQJskRKODCCM",
   "metadata": {
    "colab": {
     "base_uri": "https://localhost:8080/"
    },
    "executionInfo": {
     "elapsed": 41,
     "status": "ok",
     "timestamp": 1749294315379,
     "user": {
      "displayName": "Hung Thanh Do",
      "userId": "14602254202234053172"
     },
     "user_tz": -120
    },
    "id": "CQJskRKODCCM",
    "outputId": "26c83249-6d69-40d2-f70d-027facbb3117"
   },
   "outputs": [
    {
     "name": "stdout",
     "output_type": "stream",
     "text": [
      "\n",
      "Total training time:  13.455175638198853\n"
     ]
    }
   ],
   "source": [
    "print(\"\\nTotal training time: \", elapsed_time)"
   ]
  },
  {
   "cell_type": "code",
   "execution_count": null,
   "id": "r10u_70tDL_j",
   "metadata": {
    "id": "r10u_70tDL_j"
   },
   "outputs": [],
   "source": [
    "# Saving the model\n",
    "torch.save(model.state_dict(), \"saved_model/fttransformer_adults.pth\")"
   ]
  },
  {
   "cell_type": "markdown",
   "id": "FvqTZi7WDM7S",
   "metadata": {
    "id": "FvqTZi7WDM7S"
   },
   "source": [
    "## Eval"
   ]
  },
  {
   "cell_type": "code",
   "execution_count": null,
   "id": "Etg8qtADDQBt",
   "metadata": {
    "colab": {
     "base_uri": "https://localhost:8080/"
    },
    "executionInfo": {
     "elapsed": 20,
     "status": "ok",
     "timestamp": 1749450921106,
     "user": {
      "displayName": "Hung Thanh Do",
      "userId": "14602254202234053172"
     },
     "user_tz": -120
    },
    "id": "Etg8qtADDQBt",
    "outputId": "1c37a58d-75cc-470b-a5b4-8e1296b722d6"
   },
   "outputs": [
    {
     "data": {
      "text/plain": [
       "<All keys matched successfully>"
      ]
     },
     "execution_count": 12,
     "metadata": {},
     "output_type": "execute_result"
    }
   ],
   "source": [
    "# Loading the model\n",
    "model.load_state_dict(torch.load(\"saved_model/fttransformer_adults.pth\"))"
   ]
  },
  {
   "cell_type": "code",
   "execution_count": null,
   "id": "5zHSjvcQDQoT",
   "metadata": {
    "colab": {
     "base_uri": "https://localhost:8080/"
    },
    "executionInfo": {
     "elapsed": 209,
     "status": "ok",
     "timestamp": 1749450921326,
     "user": {
      "displayName": "Hung Thanh Do",
      "userId": "14602254202234053172"
     },
     "user_tz": -120
    },
    "id": "5zHSjvcQDQoT",
    "outputId": "748481a8-4cf4-4757-d937-8c1afb7adc32"
   },
   "outputs": [
    {
     "name": "stdout",
     "output_type": "stream",
     "text": [
      "\n",
      "Test Accuracy: 0.8455\n"
     ]
    }
   ],
   "source": [
    "X_test_num_t = X_test_num_t.to(device)\n",
    "X_test_cat_t = X_test_cat_t.to(device)\n",
    "y_test_t  = y_test_t .to(device)\n",
    "model.eval()\n",
    "with torch.no_grad():\n",
    "    logits = model(X_test_num_t, X_test_cat_t)\n",
    "    probs = torch.softmax(logits, dim=1)\n",
    "    preds = torch.argmax(probs, dim=1)\n",
    "    accuracy = (preds == y_test_t).float().mean().item()\n",
    "    print(f\"\\nTest Accuracy: {accuracy:.4f}\")"
   ]
  },
  {
   "cell_type": "markdown",
   "id": "1a387f9f",
   "metadata": {
    "id": "1a387f9f"
   },
   "source": [
    "## Training with bs"
   ]
  },
  {
   "cell_type": "code",
   "execution_count": null,
   "id": "a70faa4c",
   "metadata": {
    "colab": {
     "base_uri": "https://localhost:8080/"
    },
    "executionInfo": {
     "elapsed": 389574,
     "status": "ok",
     "timestamp": 1748941603927,
     "user": {
      "displayName": "Hung Thanh Do",
      "userId": "14602254202234053172"
     },
     "user_tz": -120
    },
    "id": "a70faa4c",
    "outputId": "43f130c9-dbbd-489d-bca8-6a1b32eaf14b"
   },
   "outputs": [
    {
     "name": "stderr",
     "output_type": "stream",
     "text": []
    },
    {
     "name": "stdout",
     "output_type": "stream",
     "text": [
      "Epoch 01  Loss: 0.3151  Train Acc: 0.8518  Val Acc: 0.8493\n"
     ]
    },
    {
     "name": "stderr",
     "output_type": "stream",
     "text": []
    },
    {
     "name": "stdout",
     "output_type": "stream",
     "text": [
      "Epoch 10  Loss: 0.3110  Train Acc: 0.8547  Val Acc: 0.8549\n"
     ]
    },
    {
     "name": "stderr",
     "output_type": "stream",
     "text": []
    },
    {
     "name": "stdout",
     "output_type": "stream",
     "text": [
      "Epoch 20  Loss: 0.3057  Train Acc: 0.8554  Val Acc: 0.8499\n"
     ]
    },
    {
     "name": "stderr",
     "output_type": "stream",
     "text": []
    },
    {
     "name": "stdout",
     "output_type": "stream",
     "text": [
      "Epoch 30  Loss: 0.2999  Train Acc: 0.8567  Val Acc: 0.8528\n"
     ]
    },
    {
     "name": "stderr",
     "output_type": "stream",
     "text": []
    },
    {
     "name": "stdout",
     "output_type": "stream",
     "text": [
      "Epoch 40  Loss: 0.3118  Train Acc: 0.8511  Val Acc: 0.8545\n"
     ]
    },
    {
     "name": "stderr",
     "output_type": "stream",
     "text": [
      "                                                                       "
     ]
    },
    {
     "name": "stdout",
     "output_type": "stream",
     "text": [
      "\n",
      "Early stopping triggered! No improvement in 20 epochs.\n",
      "\n",
      "Total training time:  389.5426354408264\n"
     ]
    },
    {
     "name": "stderr",
     "output_type": "stream",
     "text": [
      "\r"
     ]
    }
   ],
   "source": [
    "best_val_loss = float('inf')\n",
    "best_epoch    = -1\n",
    "patience   = 20\n",
    "epochs_no_improve = 0\n",
    "best_state_dict = None\n",
    "num_epochs = 100\n",
    "\n",
    "start_time = time.time()\n",
    "for epoch in range(1, num_epochs+1):\n",
    "    # ---- training step ----\n",
    "    model.train()\n",
    "    total_loss = 0\n",
    "    all_preds, all_targets = [], []\n",
    "\n",
    "    for Xn, Xc, yb in tqdm(train_loader, desc=f\"Epoch {epoch:02d} [Train]\", leave=False):\n",
    "        Xn, Xc, yb = Xn.to(device), Xc.to(device), yb.to(device)\n",
    "        logits = model(Xn, Xc)                    # (batch_size, 2)\n",
    "        loss = criterion(logits, yb)\n",
    "        optimizer.zero_grad()\n",
    "        loss.backward()\n",
    "        optimizer.step()\n",
    "\n",
    "        total_loss += loss.item() * Xn.size(0)\n",
    "        preds = logits.argmax(dim=1).cpu().numpy()\n",
    "        all_preds.append(preds)\n",
    "        all_targets.append(yb.cpu().numpy())\n",
    "\n",
    "    # Epoch metrics\n",
    "    train_loss = total_loss / len(train_loader.dataset)\n",
    "    train_acc  = accuracy_score(\n",
    "        np.concatenate(all_targets), np.concatenate(all_preds)\n",
    "    )\n",
    "\n",
    "    # ---- validation step ----\n",
    "    model.eval()\n",
    "    total_val_loss = 0.0\n",
    "    all_val_preds, all_val_targs = [], []\n",
    "    with torch.no_grad():\n",
    "        for Xn_val, Xc_val, yb_val in tqdm(val_loader, desc=f\"Epoch {epoch:02d} [Validate]\", leave=False):\n",
    "            Xn_val = Xn_val.to(device)\n",
    "            Xc_val = Xc_val.to(device)\n",
    "            yb_val = yb_val.to(device)\n",
    "\n",
    "            logits_val = model(Xn_val, Xc_val)\n",
    "            loss_val = criterion(logits_val, yb_val)\n",
    "\n",
    "            total_val_loss += loss_val.item() * Xn_val.size(0)\n",
    "            preds_val = logits_val.argmax(dim=1).cpu().numpy()\n",
    "            all_val_preds.append(preds_val)\n",
    "            all_val_targs.append(yb_val.cpu().numpy())\n",
    "\n",
    "    val_loss = total_val_loss / len(val_loader.dataset)\n",
    "    val_acc  = accuracy_score(np.concatenate(all_val_targs), np.concatenate(all_val_preds))\n",
    "\n",
    "    if epoch % 10 == 0 or epoch == 1:\n",
    "        print(f\"Epoch {epoch:02d}  Loss: {train_loss:.4f}  Train Acc: {train_acc:.4f}  Val Acc: {val_acc:.4f}\")\n",
    "\n",
    "    # ---- check for improvement ----\n",
    "    if val_loss < best_val_loss - 1e-5:\n",
    "        best_val_loss = val_loss\n",
    "        best_epoch = epoch\n",
    "        epochs_no_improve = 0\n",
    "        best_state_dict = model.state_dict()  # save best weights\n",
    "    else:\n",
    "        epochs_no_improve += 1\n",
    "        if epochs_no_improve >= patience:\n",
    "            print(f\"\\nEarly stopping triggered! No improvement in {patience} epochs.\")\n",
    "            break\n",
    "\n",
    "end_time = time.time()\n",
    "elapsed_time = end_time - start_time\n",
    "print(\"\\nTotal training time: \", elapsed_time)\n",
    "\n",
    "if best_state_dict is not None:\n",
    "    model.load_state_dict(best_state_dict)"
   ]
  },
  {
   "cell_type": "markdown",
   "id": "fa411f13",
   "metadata": {
    "id": "fa411f13"
   },
   "source": [
    "## Eval with bs"
   ]
  },
  {
   "cell_type": "code",
   "execution_count": null,
   "id": "314fcc02",
   "metadata": {
    "colab": {
     "base_uri": "https://localhost:8080/"
    },
    "executionInfo": {
     "elapsed": 92,
     "status": "ok",
     "timestamp": 1748936405856,
     "user": {
      "displayName": "Hung Thanh Do",
      "userId": "14602254202234053172"
     },
     "user_tz": -120
    },
    "id": "314fcc02",
    "outputId": "42427cd8-98c5-4619-f227-caa3c648a6c8"
   },
   "outputs": [
    {
     "data": {
      "text/plain": [
       "<All keys matched successfully>"
      ]
     },
     "execution_count": 12,
     "metadata": {},
     "output_type": "execute_result"
    }
   ],
   "source": [
    "# Loading the model\n",
    "model.load_state_dict(torch.load(\"saved_model/fttransformer_adults.pth\"))"
   ]
  },
  {
   "cell_type": "code",
   "execution_count": null,
   "id": "da206cbf",
   "metadata": {
    "colab": {
     "base_uri": "https://localhost:8080/"
    },
    "executionInfo": {
     "elapsed": 695,
     "status": "ok",
     "timestamp": 1748941614780,
     "user": {
      "displayName": "Hung Thanh Do",
      "userId": "14602254202234053172"
     },
     "user_tz": -120
    },
    "id": "da206cbf",
    "outputId": "2eca13ab-cbbf-4c39-ae1c-cdb94a93467b"
   },
   "outputs": [
    {
     "name": "stderr",
     "output_type": "stream",
     "text": [
      "                                                           "
     ]
    },
    {
     "name": "stdout",
     "output_type": "stream",
     "text": [
      "FT-Transformer Test Accuracy: 0.8455\n"
     ]
    },
    {
     "name": "stderr",
     "output_type": "stream",
     "text": [
      "\r"
     ]
    }
   ],
   "source": [
    "# 6. Evaluation on Test Set\n",
    "model.eval()\n",
    "test_preds, test_targets = [], []\n",
    "with torch.no_grad():\n",
    "    for Xn, Xc, yb in tqdm(test_loader, desc=\"Testing\", leave=False):\n",
    "        Xn, Xc = Xn.to(device), Xc.to(device)\n",
    "        logits = model(Xn, Xc)\n",
    "        test_preds.append(logits.argmax(dim=1).cpu().numpy())\n",
    "        test_targets.append(yb.numpy())\n",
    "\n",
    "test_acc = accuracy_score(\n",
    "    np.concatenate(test_targets),\n",
    "    np.concatenate(test_preds)\n",
    ")\n",
    "print(f\"FT-Transformer Test Accuracy: {test_acc:.4f}\")\n"
   ]
  },
  {
   "cell_type": "code",
   "execution_count": null,
   "id": "87d5091c",
   "metadata": {
    "id": "87d5091c"
   },
   "outputs": [],
   "source": [
    "# Saving the model\n",
    "torch.save(model.state_dict(), \"saved_model/fttransformer_adults.pth\")"
   ]
  },
  {
   "cell_type": "markdown",
   "id": "4dfe18e3",
   "metadata": {
    "id": "4dfe18e3"
   },
   "source": [
    "# Sustainability"
   ]
  },
  {
   "cell_type": "markdown",
   "id": "1b18b7a6",
   "metadata": {
    "id": "1b18b7a6"
   },
   "source": [
    "## Param Count"
   ]
  },
  {
   "cell_type": "code",
   "execution_count": null,
   "id": "7620f3b0",
   "metadata": {
    "colab": {
     "base_uri": "https://localhost:8080/"
    },
    "executionInfo": {
     "elapsed": 13,
     "status": "ok",
     "timestamp": 1749294374455,
     "user": {
      "displayName": "Hung Thanh Do",
      "userId": "14602254202234053172"
     },
     "user_tz": -120
    },
    "id": "7620f3b0",
    "outputId": "68765fb0-301e-4170-c4d6-7abca250aa04"
   },
   "outputs": [
    {
     "name": "stdout",
     "output_type": "stream",
     "text": [
      "Trainable parameters: 25,726\n"
     ]
    }
   ],
   "source": [
    "# Parameter Count (Pure PyTorch)\n",
    "def count_parameters(model):\n",
    "    return sum(p.numel() for p in model.parameters() if p.requires_grad)\n",
    "\n",
    "# Usage\n",
    "total_params = count_parameters(model)\n",
    "print(f\"Trainable parameters: {total_params:,}\")"
   ]
  },
  {
   "cell_type": "markdown",
   "id": "fa17fcae",
   "metadata": {
    "id": "fa17fcae"
   },
   "source": [
    "## FLOPs"
   ]
  },
  {
   "cell_type": "code",
   "execution_count": null,
   "id": "3YA1odvSAOuA",
   "metadata": {
    "colab": {
     "base_uri": "https://localhost:8080/"
    },
    "executionInfo": {
     "elapsed": 107,
     "status": "ok",
     "timestamp": 1749294380025,
     "user": {
      "displayName": "Hung Thanh Do",
      "userId": "14602254202234053172"
     },
     "user_tz": -120
    },
    "id": "3YA1odvSAOuA",
    "outputId": "5498dbf3-39dd-4ea0-d8f5-85895681e4ce"
   },
   "outputs": [
    {
     "name": "stdout",
     "output_type": "stream",
     "text": [
      "Module                       FLOP    % Total\n",
      "-----------------------  --------  ---------\n",
      "FTTransformer            574.592K    100.00%\n",
      " - aten.addmm            529.664K     92.18%\n",
      " - aten.bmm               44.928K      7.82%\n",
      " FTTransformer.backbone  574.592K    100.00%\n",
      "  - aten.addmm           529.664K     92.18%\n",
      "  - aten.bmm              44.928K      7.82%\n",
      "FLOPs per sample: 574.59 K\n",
      "FLOPs: 3742.32M\n"
     ]
    }
   ],
   "source": [
    "# Calculate FLOPS\n",
    "from torch.utils.flop_counter import FlopCounterMode\n",
    "\n",
    "X_test_num_torch = torch.from_numpy(X_test_num).to(device)    # float32 tensor, shape (n_test, n_cont)\n",
    "X_test_cat_torch = torch.from_numpy(X_test_cat).to(device)\n",
    "\n",
    "sample_num    = X_test_num_torch[0:1]  # shape (1, n_cont)\n",
    "sample_cat    = X_test_cat_torch[0:1]  # shape (1, n_cat)\n",
    "\n",
    "model.eval()\n",
    "with FlopCounterMode() as flop_counter:\n",
    "    _ = model(sample_num, sample_cat)\n",
    "\n",
    "flops_per_sample = flop_counter.get_total_flops()\n",
    "print(f\"FLOPs per sample: {flops_per_sample/1e3:.2f} K\")\n",
    "print(f\"FLOPs: {flops_per_sample*X_test_num_torch.shape[0]/1e6:.2f}M\")"
   ]
  },
  {
   "cell_type": "markdown",
   "id": "ef3b6f75",
   "metadata": {
    "id": "ef3b6f75"
   },
   "source": [
    "## MACs"
   ]
  },
  {
   "cell_type": "code",
   "execution_count": null,
   "id": "4c9ff064",
   "metadata": {
    "colab": {
     "base_uri": "https://localhost:8080/"
    },
    "collapsed": true,
    "executionInfo": {
     "elapsed": 25,
     "status": "ok",
     "timestamp": 1749294382350,
     "user": {
      "displayName": "Hung Thanh Do",
      "userId": "14602254202234053172"
     },
     "user_tz": -120
    },
    "id": "4c9ff064",
    "outputId": "d80fc296-34d4-431b-8553-e55ed836dc29"
   },
   "outputs": [
    {
     "data": {
      "text/plain": [
       "FTTransformerSingleInput(\n",
       "  (ft): FTTransformer(\n",
       "    (cls_embedding): _CLSEmbedding()\n",
       "    (cont_embeddings): LinearEmbeddings()\n",
       "    (cat_embeddings): CategoricalEmbeddings(\n",
       "      (embeddings): ModuleList(\n",
       "        (0): Embedding(9, 32)\n",
       "        (1): Embedding(7, 32)\n",
       "        (2): Embedding(15, 32)\n",
       "        (3): Embedding(6, 32)\n",
       "        (4): Embedding(5, 32)\n",
       "        (5): Embedding(2, 32)\n",
       "        (6): Embedding(42, 32)\n",
       "      )\n",
       "    )\n",
       "    (backbone): FTTransformerBackbone(\n",
       "      (blocks): ModuleList(\n",
       "        (0): ModuleDict(\n",
       "          (attention): MultiheadAttention(\n",
       "            (W_q): Linear(in_features=32, out_features=32, bias=True)\n",
       "            (W_k): Linear(in_features=32, out_features=32, bias=True)\n",
       "            (W_v): Linear(in_features=32, out_features=32, bias=True)\n",
       "            (dropout): Dropout(p=0.2, inplace=False)\n",
       "          )\n",
       "          (attention_residual_dropout): Dropout(p=0.0, inplace=False)\n",
       "          (ffn_normalization): LayerNorm((32,), eps=1e-05, elementwise_affine=True)\n",
       "          (ffn): Sequential(\n",
       "            (linear1): Linear(in_features=32, out_features=84, bias=True)\n",
       "            (activation): _ReGLU()\n",
       "            (dropout): Dropout(p=0.1, inplace=False)\n",
       "            (linear2): Linear(in_features=42, out_features=32, bias=True)\n",
       "          )\n",
       "          (ffn_residual_dropout): Dropout(p=0.0, inplace=False)\n",
       "          (output): Identity()\n",
       "        )\n",
       "        (1-2): 2 x ModuleDict(\n",
       "          (attention): MultiheadAttention(\n",
       "            (W_q): Linear(in_features=32, out_features=32, bias=True)\n",
       "            (W_k): Linear(in_features=32, out_features=32, bias=True)\n",
       "            (W_v): Linear(in_features=32, out_features=32, bias=True)\n",
       "            (dropout): Dropout(p=0.2, inplace=False)\n",
       "          )\n",
       "          (attention_residual_dropout): Dropout(p=0.0, inplace=False)\n",
       "          (ffn_normalization): LayerNorm((32,), eps=1e-05, elementwise_affine=True)\n",
       "          (ffn): Sequential(\n",
       "            (linear1): Linear(in_features=32, out_features=84, bias=True)\n",
       "            (activation): _ReGLU()\n",
       "            (dropout): Dropout(p=0.1, inplace=False)\n",
       "            (linear2): Linear(in_features=42, out_features=32, bias=True)\n",
       "          )\n",
       "          (ffn_residual_dropout): Dropout(p=0.0, inplace=False)\n",
       "          (output): Identity()\n",
       "          (attention_normalization): LayerNorm((32,), eps=1e-05, elementwise_affine=True)\n",
       "        )\n",
       "      )\n",
       "      (output): Sequential(\n",
       "        (normalization): LayerNorm((32,), eps=1e-05, elementwise_affine=True)\n",
       "        (activation): ReLU()\n",
       "        (linear): Linear(in_features=32, out_features=2, bias=True)\n",
       "      )\n",
       "    )\n",
       "  )\n",
       ")"
      ]
     },
     "execution_count": 37,
     "metadata": {},
     "output_type": "execute_result"
    }
   ],
   "source": [
    "n_cont = X_test_num.shape[1]\n",
    "n_cat  = X_test_cat.shape[1]\n",
    "cat_cardinalities = cardinalities  # list of ints, one per categorical column\n",
    "\n",
    "class FTTransformerSingleInput(nn.Module):\n",
    "    def __init__(self, ft_model, n_cont, n_cat, cat_cardinalities):\n",
    "        super().__init__()\n",
    "        self.ft = ft_model\n",
    "        self.n_cont = n_cont\n",
    "        self.n_cat = n_cat\n",
    "        self.cat_cardinalities = cat_cardinalities\n",
    "\n",
    "    def forward(self, x_combined):\n",
    "        x_num = x_combined[:, : self.n_cont].float()\n",
    "        x_cat = x_combined[:, self.n_cont : self.n_cont + self.n_cat].long()\n",
    "        # Clip to valid category range:\n",
    "        for i, card in enumerate(self.cat_cardinalities):\n",
    "            x_cat[:, i] = torch.clamp(x_cat[:, i], 0, card - 1)\n",
    "        return self.ft(x_num, x_cat)\n",
    "\n",
    "wrapped = FTTransformerSingleInput(model, n_cont, n_cat, cat_cardinalities)\n",
    "wrapped.to(device)\n",
    "wrapped.eval()"
   ]
  },
  {
   "cell_type": "code",
   "execution_count": null,
   "id": "a61740cf",
   "metadata": {
    "colab": {
     "base_uri": "https://localhost:8080/"
    },
    "executionInfo": {
     "elapsed": 5243,
     "status": "ok",
     "timestamp": 1749294387595,
     "user": {
      "displayName": "Hung Thanh Do",
      "userId": "14602254202234053172"
     },
     "user_tz": -120
    },
    "id": "a61740cf",
    "outputId": "7812752c-2640-47d8-b217-5c9d96afe13c"
   },
   "outputs": [
    {
     "name": "stdout",
     "output_type": "stream",
     "text": [
      "Warning: module _CLSEmbedding is treated as a zero-op.\n",
      "Warning: module LinearEmbeddings is treated as a zero-op.\n",
      "Warning: module Embedding is treated as a zero-op.\n",
      "Warning: module CategoricalEmbeddings is treated as a zero-op.\n",
      "Warning: module Dropout is treated as a zero-op.\n",
      "Warning: module MultiheadAttention is treated as a zero-op.\n",
      "Warning: module _ReGLU is treated as a zero-op.\n",
      "Warning: module Identity is treated as a zero-op.\n",
      "Warning: module ModuleDict is treated as a zero-op.\n",
      "Warning: module FTTransformerBackbone is treated as a zero-op.\n",
      "Warning: module FTTransformer is treated as a zero-op.\n",
      "Warning: module FTTransformerSingleInput is treated as a zero-op.\n",
      "FTTransformerSingleInput(\n",
      "  22.4 k, 87.064% Params, 274.86 KMac, 99.270% MACs, \n",
      "  (ft): FTTransformer(\n",
      "    22.4 k, 87.064% Params, 274.86 KMac, 99.270% MACs, \n",
      "    (cls_embedding): _CLSEmbedding(0, 0.000% Params, 0.0 Mac, 0.000% MACs, )\n",
      "    (cont_embeddings): LinearEmbeddings(0, 0.000% Params, 0.0 Mac, 0.000% MACs, )\n",
      "    (cat_embeddings): CategoricalEmbeddings(\n",
      "      0, 0.000% Params, 0.0 Mac, 0.000% MACs, \n",
      "      (embeddings): ModuleList(\n",
      "        (0): Embedding(0, 0.000% Params, 0.0 Mac, 0.000% MACs, 9, 32)\n",
      "        (1): Embedding(0, 0.000% Params, 0.0 Mac, 0.000% MACs, 7, 32)\n",
      "        (2): Embedding(0, 0.000% Params, 0.0 Mac, 0.000% MACs, 15, 32)\n",
      "        (3): Embedding(0, 0.000% Params, 0.0 Mac, 0.000% MACs, 6, 32)\n",
      "        (4): Embedding(0, 0.000% Params, 0.0 Mac, 0.000% MACs, 5, 32)\n",
      "        (5): Embedding(0, 0.000% Params, 0.0 Mac, 0.000% MACs, 2, 32)\n",
      "        (6): Embedding(0, 0.000% Params, 0.0 Mac, 0.000% MACs, 42, 32)\n",
      "      )\n",
      "    )\n",
      "    (backbone): FTTransformerBackbone(\n",
      "      22.4 k, 87.064% Params, 274.86 KMac, 99.270% MACs, \n",
      "      (blocks): ModuleList(\n",
      "        (0): ModuleDict(\n",
      "          7.38 k, 28.687% Params, 95.52 KMac, 34.500% MACs, \n",
      "          (attention): MultiheadAttention(\n",
      "            3.17 k, 12.314% Params, 41.18 KMac, 14.874% MACs, \n",
      "            (W_q): Linear(1.06 k, 4.105% Params, 13.73 KMac, 4.958% MACs, in_features=32, out_features=32, bias=True)\n",
      "            (W_k): Linear(1.06 k, 4.105% Params, 13.73 KMac, 4.958% MACs, in_features=32, out_features=32, bias=True)\n",
      "            (W_v): Linear(1.06 k, 4.105% Params, 13.73 KMac, 4.958% MACs, in_features=32, out_features=32, bias=True)\n",
      "            (dropout): Dropout(0, 0.000% Params, 0.0 Mac, 0.000% MACs, p=0.2, inplace=False)\n",
      "          )\n",
      "          (attention_residual_dropout): Dropout(0, 0.000% Params, 0.0 Mac, 0.000% MACs, p=0.0, inplace=False)\n",
      "          (ffn_normalization): LayerNorm(64, 0.249% Params, 416.0 Mac, 0.150% MACs, (32,), eps=1e-05, elementwise_affine=True)\n",
      "          (ffn): Sequential(\n",
      "            4.15 k, 16.124% Params, 53.92 KMac, 19.475% MACs, \n",
      "            (linear1): Linear(2.77 k, 10.775% Params, 36.04 KMac, 13.015% MACs, in_features=32, out_features=84, bias=True)\n",
      "            (activation): _ReGLU(0, 0.000% Params, 0.0 Mac, 0.000% MACs, )\n",
      "            (dropout): Dropout(0, 0.000% Params, 0.0 Mac, 0.000% MACs, p=0.1, inplace=False)\n",
      "            (linear2): Linear(1.38 k, 5.349% Params, 17.89 KMac, 6.460% MACs, in_features=42, out_features=32, bias=True)\n",
      "          )\n",
      "          (ffn_residual_dropout): Dropout(0, 0.000% Params, 0.0 Mac, 0.000% MACs, p=0.0, inplace=False)\n",
      "          (output): Identity(0, 0.000% Params, 0.0 Mac, 0.000% MACs, )\n",
      "        )\n",
      "        (1): ModuleDict(\n",
      "          7.44 k, 28.936% Params, 95.94 KMac, 34.650% MACs, \n",
      "          (attention): MultiheadAttention(\n",
      "            3.17 k, 12.314% Params, 41.18 KMac, 14.874% MACs, \n",
      "            (W_q): Linear(1.06 k, 4.105% Params, 13.73 KMac, 4.958% MACs, in_features=32, out_features=32, bias=True)\n",
      "            (W_k): Linear(1.06 k, 4.105% Params, 13.73 KMac, 4.958% MACs, in_features=32, out_features=32, bias=True)\n",
      "            (W_v): Linear(1.06 k, 4.105% Params, 13.73 KMac, 4.958% MACs, in_features=32, out_features=32, bias=True)\n",
      "            (dropout): Dropout(0, 0.000% Params, 0.0 Mac, 0.000% MACs, p=0.2, inplace=False)\n",
      "          )\n",
      "          (attention_residual_dropout): Dropout(0, 0.000% Params, 0.0 Mac, 0.000% MACs, p=0.0, inplace=False)\n",
      "          (ffn_normalization): LayerNorm(64, 0.249% Params, 416.0 Mac, 0.150% MACs, (32,), eps=1e-05, elementwise_affine=True)\n",
      "          (ffn): Sequential(\n",
      "            4.15 k, 16.124% Params, 53.92 KMac, 19.475% MACs, \n",
      "            (linear1): Linear(2.77 k, 10.775% Params, 36.04 KMac, 13.015% MACs, in_features=32, out_features=84, bias=True)\n",
      "            (activation): _ReGLU(0, 0.000% Params, 0.0 Mac, 0.000% MACs, )\n",
      "            (dropout): Dropout(0, 0.000% Params, 0.0 Mac, 0.000% MACs, p=0.1, inplace=False)\n",
      "            (linear2): Linear(1.38 k, 5.349% Params, 17.89 KMac, 6.460% MACs, in_features=42, out_features=32, bias=True)\n",
      "          )\n",
      "          (ffn_residual_dropout): Dropout(0, 0.000% Params, 0.0 Mac, 0.000% MACs, p=0.0, inplace=False)\n",
      "          (output): Identity(0, 0.000% Params, 0.0 Mac, 0.000% MACs, )\n",
      "          (attention_normalization): LayerNorm(64, 0.249% Params, 416.0 Mac, 0.150% MACs, (32,), eps=1e-05, elementwise_affine=True)\n",
      "        )\n",
      "        (2): ModuleDict(\n",
      "          7.44 k, 28.936% Params, 83.27 KMac, 30.073% MACs, \n",
      "          (attention): MultiheadAttention(\n",
      "            3.17 k, 12.314% Params, 28.51 KMac, 10.297% MACs, \n",
      "            (W_q): Linear(1.06 k, 4.105% Params, 1.06 KMac, 0.381% MACs, in_features=32, out_features=32, bias=True)\n",
      "            (W_k): Linear(1.06 k, 4.105% Params, 13.73 KMac, 4.958% MACs, in_features=32, out_features=32, bias=True)\n",
      "            (W_v): Linear(1.06 k, 4.105% Params, 13.73 KMac, 4.958% MACs, in_features=32, out_features=32, bias=True)\n",
      "            (dropout): Dropout(0, 0.000% Params, 0.0 Mac, 0.000% MACs, p=0.2, inplace=False)\n",
      "          )\n",
      "          (attention_residual_dropout): Dropout(0, 0.000% Params, 0.0 Mac, 0.000% MACs, p=0.0, inplace=False)\n",
      "          (ffn_normalization): LayerNorm(64, 0.249% Params, 416.0 Mac, 0.150% MACs, (32,), eps=1e-05, elementwise_affine=True)\n",
      "          (ffn): Sequential(\n",
      "            4.15 k, 16.124% Params, 53.92 KMac, 19.475% MACs, \n",
      "            (linear1): Linear(2.77 k, 10.775% Params, 36.04 KMac, 13.015% MACs, in_features=32, out_features=84, bias=True)\n",
      "            (activation): _ReGLU(0, 0.000% Params, 0.0 Mac, 0.000% MACs, )\n",
      "            (dropout): Dropout(0, 0.000% Params, 0.0 Mac, 0.000% MACs, p=0.1, inplace=False)\n",
      "            (linear2): Linear(1.38 k, 5.349% Params, 17.89 KMac, 6.460% MACs, in_features=42, out_features=32, bias=True)\n",
      "          )\n",
      "          (ffn_residual_dropout): Dropout(0, 0.000% Params, 0.0 Mac, 0.000% MACs, p=0.0, inplace=False)\n",
      "          (output): Identity(0, 0.000% Params, 0.0 Mac, 0.000% MACs, )\n",
      "          (attention_normalization): LayerNorm(64, 0.249% Params, 416.0 Mac, 0.150% MACs, (32,), eps=1e-05, elementwise_affine=True)\n",
      "        )\n",
      "      )\n",
      "      (output): Sequential(\n",
      "        130, 0.505% Params, 130.0 Mac, 0.047% MACs, \n",
      "        (normalization): LayerNorm(64, 0.249% Params, 32.0 Mac, 0.012% MACs, (32,), eps=1e-05, elementwise_affine=True)\n",
      "        (activation): ReLU(0, 0.000% Params, 32.0 Mac, 0.012% MACs, )\n",
      "        (linear): Linear(66, 0.257% Params, 66.0 Mac, 0.024% MACs, in_features=32, out_features=2, bias=True)\n",
      "      )\n",
      "    )\n",
      "  )\n",
      ")\n",
      "MACs per sample (string): 276.88 KMac\n",
      "Params (string)      : 25.73 k\n",
      "MACs per sample: 276.88 K\n",
      "MACs: 1803.32 M\n"
     ]
    }
   ],
   "source": [
    "from ptflops import get_model_complexity_info\n",
    "\n",
    "input_shape = (n_cont + n_cat,)\n",
    "with torch.cuda.device(0):\n",
    "    macs_str, params_str = get_model_complexity_info(\n",
    "        wrapped,\n",
    "        input_shape,\n",
    "        as_strings=True,\n",
    "        print_per_layer_stat=True,\n",
    "        verbose=True,\n",
    "    )\n",
    "\n",
    "print(f\"MACs per sample (string): {macs_str}\")\n",
    "print(f\"Params (string)      : {params_str}\")\n",
    "\n",
    "# Parse the MACs string into a float (number of multiply-adds per sample)\n",
    "def parse_macs_str(s):\n",
    "    if s.endswith(\" GMac\"):\n",
    "        return float(s.replace(\" GMac\", \"\")) * 1e9\n",
    "    if s.endswith(\" MMac\"):\n",
    "        return float(s.replace(\" MMac\", \"\")) * 1e6\n",
    "    if s.endswith(\" KMac\"):\n",
    "        return float(s.replace(\" KMac\", \"\")) * 1e3\n",
    "    if s.endswith(\" Mac\"):\n",
    "        return float(s.replace(\" Mac\", \"\"))\n",
    "    raise ValueError(f\"Unrecognized MACs format: {s}\")\n",
    "\n",
    "macs_per_sample = parse_macs_str(macs_str)\n",
    "print(f\"MACs per sample: {macs_per_sample/1e3:.2f} K\")\n",
    "total_macs = macs_per_sample * X_test_num.shape[0]\n",
    "print(f\"MACs: {total_macs/1e6:.2f} M\")"
   ]
  },
  {
   "cell_type": "markdown",
   "id": "175608ed",
   "metadata": {
    "id": "175608ed"
   },
   "source": [
    "## kgCO2e"
   ]
  },
  {
   "cell_type": "code",
   "execution_count": null,
   "id": "ZmfJG24_BG6y",
   "metadata": {
    "id": "ZmfJG24_BG6y"
   },
   "outputs": [],
   "source": [
    "def compute_kgco2e(pc, pg, time):\n",
    "    \"\"\"\n",
    "    Compute kgCO2 emission, and normalized emission per capita.\n",
    "    Args:\n",
    "        pc: average CPU power in watts\n",
    "        pg: average GPU power in watts\n",
    "        time: training + eval time\n",
    "\n",
    "    Returns:\n",
    "        tuple: CO2e (kg), normalized CO2e\n",
    "    \"\"\"\n",
    "    pt = (pc + pg) * time / 1000  # power in kWh\n",
    "    co2e = 0.498 * pt  # Germany's emission rate\n",
    "    normalized = co2e / 26  # per-capita daily emission baseline\n",
    "\n",
    "    return co2e, normalized"
   ]
  },
  {
   "cell_type": "code",
   "execution_count": null,
   "id": "f4183cfb",
   "metadata": {
    "id": "f4183cfb"
   },
   "outputs": [],
   "source": [
    "\"\"\"\n",
    "Intel(R) Xeon(R) CPU @ 2.20GHz\n",
    "Model: 79 (\n",
    "-> Intel Xeon E5-2673 v4 from the Broadwell-EP family - specifications:\n",
    "    Cores: 10\n",
    "    Threads: 20\n",
    "    Base Frequency: 2.3 GHz\n",
    "    Maximum Turbo Speed: 3.5 GHz\n",
    "    Cache: 50 MB\n",
    "    TDP: 135W\n",
    "\n",
    "Colab uses 2 vCPUs (each 1 core -> total 2 cores out of 20)\n",
    "-> only use 10% of the actuall TDP -> 13.5 W\n",
    "\"\"\"\n",
    "pc = 13.5\n",
    "pg = 70"
   ]
  },
  {
   "cell_type": "code",
   "execution_count": null,
   "id": "5e1528aa",
   "metadata": {
    "colab": {
     "base_uri": "https://localhost:8080/"
    },
    "executionInfo": {
     "elapsed": 10,
     "status": "ok",
     "timestamp": 1749294428756,
     "user": {
      "displayName": "Hung Thanh Do",
      "userId": "14602254202234053172"
     },
     "user_tz": -120
    },
    "id": "5e1528aa",
    "outputId": "a51082a4-c115-4faf-e6c7-4e014369aa81"
   },
   "outputs": [
    {
     "name": "stdout",
     "output_type": "stream",
     "text": [
      "kgCO2 emission: 0.5595 kg\n",
      "Normalized kgCO2 emission: 0.0215\n"
     ]
    }
   ],
   "source": [
    "kgco2e, kgco2e_normalized = compute_kgco2e(pc, pg, elapsed_time)\n",
    "\n",
    "print(f\"kgCO2 emission: {kgco2e:.4f} kg\")\n",
    "print(f\"Normalized kgCO2 emission: {kgco2e_normalized:.4f}\")"
   ]
  },
  {
   "cell_type": "markdown",
   "id": "4c9953db",
   "metadata": {
    "id": "4c9953db"
   },
   "source": [
    "# Explainability"
   ]
  },
  {
   "cell_type": "markdown",
   "id": "61efdccc",
   "metadata": {
    "id": "61efdccc"
   },
   "source": [
    "## SHAP"
   ]
  },
  {
   "cell_type": "code",
   "execution_count": null,
   "id": "f3068dde",
   "metadata": {
    "id": "f3068dde"
   },
   "outputs": [],
   "source": [
    "X_test_combined = np.hstack([X_test_num, X_test_cat])  # shape (n_test, n_cont + n_cat)\n",
    "y_test_int = y_test_np.astype(np.int64)\n",
    "\n",
    "n_cont = X_test_num.shape[1]\n",
    "n_cat  = X_test_cat.shape[1]\n",
    "background = X_test_combined[:100]"
   ]
  },
  {
   "cell_type": "code",
   "execution_count": null,
   "id": "2199f34b",
   "metadata": {
    "id": "2199f34b"
   },
   "outputs": [],
   "source": [
    "def f_shap(combined_X):\n",
    "    \"\"\"\n",
    "    combined_X has shape (batch_size, n_cont + n_cat).\n",
    "    We split it into numeric vs. categorical, convert to torch, pass through FTTransformer,\n",
    "    and return P(class=1) as a 1D numpy array of length batch_size.\n",
    "    \"\"\"\n",
    "    model.eval()\n",
    "    # split\n",
    "    X_num_np = combined_X[:, :n_cont].astype(np.float32)\n",
    "    X_cat_np = combined_X[:, n_cont:].astype(np.int64)\n",
    "\n",
    "    with torch.no_grad():\n",
    "        Xn = torch.from_numpy(X_num_np).to(device)\n",
    "        Xc = torch.from_numpy(X_cat_np).to(device)\n",
    "        logits = model(Xn, Xc)                  # shape (batch_size, 2)\n",
    "        probs = torch.softmax(logits, dim=1).cpu().numpy()\n",
    "    return probs[:, 1]  # P(class=1)"
   ]
  },
  {
   "cell_type": "code",
   "execution_count": null,
   "id": "4d035875",
   "metadata": {
    "id": "4d035875"
   },
   "outputs": [],
   "source": [
    "explainer = shap.KernelExplainer(f_shap, background)"
   ]
  },
  {
   "cell_type": "code",
   "execution_count": null,
   "id": "2a8ea647",
   "metadata": {
    "id": "2a8ea647"
   },
   "outputs": [],
   "source": [
    "with open('saved_shap/fttransformer_shap_values_adults.pkl', 'rb') as f:\n",
    "    shap_values = pickle.load(f)"
   ]
  },
  {
   "cell_type": "code",
   "execution_count": null,
   "id": "6b522cf2",
   "metadata": {
    "colab": {
     "base_uri": "https://localhost:8080/",
     "height": 49,
     "referenced_widgets": [
      "877505966b7041ab9c811e3c9f80eba9",
      "ec6a8008cce94c06a038cabcf621ab24",
      "52ac7629aa5d46e99e15a10bb2313e56",
      "dbcf88e9b4134395a8ece7a86d7506c3",
      "07fa24260ab844da872b4bc51e4d3842",
      "244e97f56e644f8cb9f2f5a4082ead42",
      "f7232dbbebe44b878feafc3b98f7cccc",
      "b7a0843491f04a1bb5e03625a50f5f4b",
      "352667e0be354187bf04dc7f89e5614f",
      "1fda6ab325bd467f83cf2a3a9d0dbf74",
      "58918d904e774f66aad2ec72b5d74f15"
     ]
    },
    "executionInfo": {
     "elapsed": 210209,
     "status": "ok",
     "timestamp": 1749294706393,
     "user": {
      "displayName": "Hung Thanh Do",
      "userId": "14602254202234053172"
     },
     "user_tz": -120
    },
    "id": "6b522cf2",
    "outputId": "315cf310-5f5b-4339-9130-6c5a1e21211a"
   },
   "outputs": [
    {
     "data": {
      "application/vnd.jupyter.widget-view+json": {
       "model_id": "877505966b7041ab9c811e3c9f80eba9",
       "version_major": 2,
       "version_minor": 0
      },
      "text/plain": [
       "  0%|          | 0/6513 [00:00<?, ?it/s]"
      ]
     },
     "metadata": {},
     "output_type": "display_data"
    }
   ],
   "source": [
    "shap_values = explainer.shap_values(X_test_combined, nsamples=100)"
   ]
  },
  {
   "cell_type": "code",
   "execution_count": null,
   "id": "84950faa",
   "metadata": {
    "colab": {
     "base_uri": "https://localhost:8080/"
    },
    "collapsed": true,
    "executionInfo": {
     "elapsed": 1237,
     "status": "ok",
     "timestamp": 1748936601182,
     "user": {
      "displayName": "Hung Thanh Do",
      "userId": "14602254202234053172"
     },
     "user_tz": -120
    },
    "id": "84950faa",
    "outputId": "475a4dfd-8097-493c-e3b5-5a759e996306"
   },
   "outputs": [
    {
     "data": {
      "image/png": "[encoded data removed]",
      "text/plain": [
       "<Figure size 800x630 with 2 Axes>"
      ]
     },
     "metadata": {},
     "output_type": "display_data"
    }
   ],
   "source": [
    "feature_names = list(num_cols) + list(cat_cols)\n",
    "shap.summary_plot(shap_values, X_test_combined, feature_names=feature_names)"
   ]
  },
  {
   "cell_type": "code",
   "execution_count": null,
   "id": "afc1e029",
   "metadata": {
    "id": "afc1e029"
   },
   "outputs": [],
   "source": [
    "with open('saved_shap/fttransformer_shap_values_adults.pkl', 'wb') as f:\n",
    "    pickle.dump(shap_values, f)\n"
   ]
  },
  {
   "cell_type": "markdown",
   "id": "ce1071e1",
   "metadata": {
    "id": "ce1071e1"
   },
   "source": [
    "## Quantus"
   ]
  },
  {
   "cell_type": "markdown",
   "id": "ccd48417",
   "metadata": {
    "id": "ccd48417"
   },
   "source": [
    "### Wrapped Model"
   ]
  },
  {
   "cell_type": "code",
   "execution_count": null,
   "id": "64bd51f3",
   "metadata": {
    "colab": {
     "base_uri": "https://localhost:8080/"
    },
    "collapsed": true,
    "executionInfo": {
     "elapsed": 21,
     "status": "ok",
     "timestamp": 1749450997126,
     "user": {
      "displayName": "Hung Thanh Do",
      "userId": "14602254202234053172"
     },
     "user_tz": -120
    },
    "id": "64bd51f3",
    "outputId": "3069d1a4-99b8-406e-b0d1-775668958a7e"
   },
   "outputs": [
    {
     "data": {
      "text/plain": [
       "FTModelWrapper(\n",
       "  (model): FTTransformer(\n",
       "    (cls_embedding): _CLSEmbedding()\n",
       "    (cont_embeddings): LinearEmbeddings()\n",
       "    (cat_embeddings): CategoricalEmbeddings(\n",
       "      (embeddings): ModuleList(\n",
       "        (0): Embedding(9, 32)\n",
       "        (1): Embedding(7, 32)\n",
       "        (2): Embedding(15, 32)\n",
       "        (3): Embedding(6, 32)\n",
       "        (4): Embedding(5, 32)\n",
       "        (5): Embedding(2, 32)\n",
       "        (6): Embedding(42, 32)\n",
       "      )\n",
       "    )\n",
       "    (backbone): FTTransformerBackbone(\n",
       "      (blocks): ModuleList(\n",
       "        (0): ModuleDict(\n",
       "          (attention): MultiheadAttention(\n",
       "            (W_q): Linear(in_features=32, out_features=32, bias=True)\n",
       "            (W_k): Linear(in_features=32, out_features=32, bias=True)\n",
       "            (W_v): Linear(in_features=32, out_features=32, bias=True)\n",
       "            (dropout): Dropout(p=0.2, inplace=False)\n",
       "          )\n",
       "          (attention_residual_dropout): Dropout(p=0.0, inplace=False)\n",
       "          (ffn_normalization): LayerNorm((32,), eps=1e-05, elementwise_affine=True)\n",
       "          (ffn): Sequential(\n",
       "            (linear1): Linear(in_features=32, out_features=84, bias=True)\n",
       "            (activation): _ReGLU()\n",
       "            (dropout): Dropout(p=0.1, inplace=False)\n",
       "            (linear2): Linear(in_features=42, out_features=32, bias=True)\n",
       "          )\n",
       "          (ffn_residual_dropout): Dropout(p=0.0, inplace=False)\n",
       "          (output): Identity()\n",
       "        )\n",
       "        (1-2): 2 x ModuleDict(\n",
       "          (attention): MultiheadAttention(\n",
       "            (W_q): Linear(in_features=32, out_features=32, bias=True)\n",
       "            (W_k): Linear(in_features=32, out_features=32, bias=True)\n",
       "            (W_v): Linear(in_features=32, out_features=32, bias=True)\n",
       "            (dropout): Dropout(p=0.2, inplace=False)\n",
       "          )\n",
       "          (attention_residual_dropout): Dropout(p=0.0, inplace=False)\n",
       "          (ffn_normalization): LayerNorm((32,), eps=1e-05, elementwise_affine=True)\n",
       "          (ffn): Sequential(\n",
       "            (linear1): Linear(in_features=32, out_features=84, bias=True)\n",
       "            (activation): _ReGLU()\n",
       "            (dropout): Dropout(p=0.1, inplace=False)\n",
       "            (linear2): Linear(in_features=42, out_features=32, bias=True)\n",
       "          )\n",
       "          (ffn_residual_dropout): Dropout(p=0.0, inplace=False)\n",
       "          (output): Identity()\n",
       "          (attention_normalization): LayerNorm((32,), eps=1e-05, elementwise_affine=True)\n",
       "        )\n",
       "      )\n",
       "      (output): Sequential(\n",
       "        (normalization): LayerNorm((32,), eps=1e-05, elementwise_affine=True)\n",
       "        (activation): ReLU()\n",
       "        (linear): Linear(in_features=32, out_features=2, bias=True)\n",
       "      )\n",
       "    )\n",
       "  )\n",
       ")"
      ]
     },
     "execution_count": 22,
     "metadata": {},
     "output_type": "execute_result"
    }
   ],
   "source": [
    "class FTModelWrapper(nn.Module):\n",
    "    \"\"\"\n",
    "    Wraps an FTTransformer so that Quantus can call `.forward(x)` and `.predict(x)`,\n",
    "    where x is a 2D numpy array of shape (batch_size, n_cont + n_cat). Internally,\n",
    "    we split into numeric vs. categorical tensors and forward them to the FTTransformer.\n",
    "    \"\"\"\n",
    "    def __init__(self, ft_model: nn.Module, cat_cardinalities):\n",
    "        super(FTModelWrapper, self).__init__()\n",
    "        self.model = ft_model\n",
    "        self.model.eval()\n",
    "        self.cat_cardinalities = cat_cardinalities  # Store cardinalities for clipping\n",
    "\n",
    "    def _clip_categorical_indices(self, x_cat):\n",
    "        \"\"\"\n",
    "        Clip categorical indices to valid ranges based on cardinalities.\n",
    "        \"\"\"\n",
    "        x_cat_clipped = x_cat.clone()\n",
    "        for i, cardinality in enumerate(self.cat_cardinalities):\n",
    "            # Clip to valid range [0, cardinality-1]\n",
    "            x_cat_clipped[:, i] = torch.clamp(x_cat_clipped[:, i], 0, cardinality - 1)\n",
    "        return x_cat_clipped\n",
    "\n",
    "    def forward(self, combined_x):\n",
    "        \"\"\"\n",
    "        combined_x: torch.Tensor of shape (batch_size, n_cont + n_cat), dtype float or long.\n",
    "        We'll split it into (X_num, X_cat).\n",
    "        \"\"\"\n",
    "        # split along last dim\n",
    "        Xn = combined_x[:, :n_cont].float().to(device)\n",
    "        Xc = combined_x[:, n_cont:].long().to(device)\n",
    "\n",
    "        # Clip categorical indices to valid ranges\n",
    "        Xc = self._clip_categorical_indices(Xc)\n",
    "\n",
    "        logits = self.model(Xn, Xc)  # shape (batch_size, 2)\n",
    "        return logits\n",
    "\n",
    "    def predict(self, combined_X):\n",
    "        \"\"\"\n",
    "        combined_X: numpy array of shape (batch_size, n_cont + n_cat).\n",
    "        Returns: probabilities (batch_size, 2).\n",
    "        \"\"\"\n",
    "        self.model.eval()\n",
    "        with torch.no_grad():\n",
    "            # convert to torch\n",
    "            t = torch.from_numpy(combined_X).float().to(device)\n",
    "            logits = self.forward(t)  # shape (batch_size, 2)\n",
    "            probs = torch.softmax(logits, dim=1).cpu().numpy()\n",
    "        return probs\n",
    "\n",
    "    def shape_input(self, x: np.ndarray, shape, channel_first):\n",
    "        \"\"\"For Quantus: ensure x is at least 2D.\"\"\"\n",
    "        return np.atleast_2d(x)\n",
    "\n",
    "# Update the instantiation to include cardinalities:\n",
    "wrapped_model = FTModelWrapper(model, cat_cardinalities=cardinalities)\n",
    "wrapped_model.eval()  # set to eval mode"
   ]
  },
  {
   "cell_type": "markdown",
   "id": "128cfc1b",
   "metadata": {
    "id": "128cfc1b"
   },
   "source": [
    "### Complexity"
   ]
  },
  {
   "cell_type": "code",
   "execution_count": null,
   "id": "pdbaSDBTFKLB",
   "metadata": {
    "colab": {
     "base_uri": "https://localhost:8080/",
     "referenced_widgets": [
      "f9d1ac8b27864345bf4c4153cb561adc",
      "696ce51e47e843bdbfaa93302bcc4967",
      "65fbcd214b244129990102c66cb3ff27",
      "532075a001e64aa382d6c41492a365a3",
      "1cfeaeb339254ca0b2e5381be7f5d734",
      "45d454afd8c5408ebc55e53689088156",
      "cc817c9eb38f432da2d8583683610a07",
      "99c83739e97e4170be6a6715f6cc454b",
      "a285d4d200114eb8bb70e47153eafd6b",
      "b30ccd931c8145e7a9084ecc83c35a8b",
      "edb9ea20caf0428ba2ae3a52e3120e1e"
     ]
    },
    "executionInfo": {
     "elapsed": 1776,
     "status": "ok",
     "timestamp": 1749450934479,
     "user": {
      "displayName": "Hung Thanh Do",
      "userId": "14602254202234053172"
     },
     "user_tz": -120
    },
    "id": "pdbaSDBTFKLB",
    "outputId": "735f6fc2-bb8d-4478-e360-b87be7433755"
   },
   "outputs": [
    {
     "data": {
      "application/vnd.jupyter.widget-view+json": {
       "model_id": "f9d1ac8b27864345bf4c4153cb561adc",
       "version_major": 2,
       "version_minor": 0
      },
      "text/plain": [
       "  0%|          | 0/102.0 [00:00<?, ?it/s]"
      ]
     },
     "metadata": {},
     "output_type": "display_data"
    },
    {
     "name": "stdout",
     "output_type": "stream",
     "text": [
      "Complexity: Complexity by Bhatt et al., 2020.\n",
      "\n",
      " • SHAP =  0.6654540802771639\n"
     ]
    }
   ],
   "source": [
    "# Apply Complexity metric using SHAP attributions\n",
    "Complexity_shap = quantus.Complexity(\n",
    "    normalise=False,\n",
    "    abs=True,  # Take absolute values of attributions\n",
    "    disable_warnings=True,\n",
    "    display_progressbar=True,\n",
    "    aggregate_func=np.mean,  # Compute mean complexity over all samples\n",
    ")(\n",
    "    model=wrapped_model,\n",
    "    x_batch=X_test_combined,\n",
    "    y_batch=y_test_int,\n",
    "    a_batch=shap_values,   # use SHAP attributions computed above\n",
    "    explain_func=None      # explanations are precomputed\n",
    ")\n",
    "\n",
    "# Scale to 0-1\n",
    "Complexity_shap = (Complexity_shap - min(Complexity_shap)) / (\n",
    "    max(Complexity_shap) - min(Complexity_shap)\n",
    ")\n",
    "\n",
    "# Find mean\n",
    "Complexity_shap = np.mean(Complexity_shap)\n",
    "\n",
    "print(\n",
    "    f\"Complexity: Complexity by Bhatt et al., 2020.\\n\"\n",
    "    f\"\\n • SHAP = \",\n",
    "    Complexity_shap,\n",
    ")"
   ]
  },
  {
   "cell_type": "code",
   "execution_count": null,
   "id": "r0GoePOLFLkV",
   "metadata": {
    "colab": {
     "base_uri": "https://localhost:8080/",
     "referenced_widgets": [
      "0c6076ded93f4b229851382388ba5a5c",
      "4fcc73f52c434610ba1f1a98693c774a",
      "58e6502c1c9f480bb3c29ba1399078d2",
      "f16b45f11461436f9ef21e767fd0b4b6",
      "6344a27ae1d14fc8bc404edb5a6566c9",
      "6adff6c1f6574c3cbaa983d9a3bcc88b",
      "1e00891b861d4cf9be60f28b75008d57",
      "62410d21f97f4d6e9d463eb08e903c0b",
      "443788b43bac4a2e8edbb74733a5baaa",
      "e7bab0db264d40d3b005a4e9310851fd",
      "8aeb4041b89e46e89c01e00c0c56bd62"
     ]
    },
    "executionInfo": {
     "elapsed": 209,
     "status": "ok",
     "timestamp": 1749450934689,
     "user": {
      "displayName": "Hung Thanh Do",
      "userId": "14602254202234053172"
     },
     "user_tz": -120
    },
    "id": "r0GoePOLFLkV",
    "outputId": "e520b716-094a-4844-b345-089111d67ef9"
   },
   "outputs": [
    {
     "data": {
      "application/vnd.jupyter.widget-view+json": {
       "model_id": "0c6076ded93f4b229851382388ba5a5c",
       "version_major": 2,
       "version_minor": 0
      },
      "text/plain": [
       "  0%|          | 0/102.0 [00:00<?, ?it/s]"
      ]
     },
     "metadata": {},
     "output_type": "display_data"
    },
    {
     "name": "stdout",
     "output_type": "stream",
     "text": [
      "Complexity: Sparseness by Chalasani et al., 2020.\n",
      "\n",
      " • SHAP =  [np.float64(0.53109050285768)]\n"
     ]
    }
   ],
   "source": [
    "Sparseness_shap = quantus.Sparseness(\n",
    "    normalise=False,\n",
    "    abs=True, # take absolute values of attributions\n",
    "    disable_warnings=True,\n",
    "    display_progressbar=True,\n",
    "    return_aggregate=True, # find the mean of the complexity from all samples\n",
    "    aggregate_func=np.mean,\n",
    ")(\n",
    "    model=wrapped_model,\n",
    "    x_batch=X_test_combined,\n",
    "    y_batch=y_test_int,\n",
    "    a_batch=shap_values,   # use SHAP attributions computed above\n",
    "    explain_func=None      # explanations are precomputed\n",
    ")\n",
    "\n",
    "# Already scaled to 0-1 -> keep aggregated (mean)\n",
    "\n",
    "print(\n",
    "    f\"Complexity: Sparseness by Chalasani et al., 2020.\\n\"\n",
    "    f\"\\n • SHAP = \",\n",
    "    Sparseness_shap,\n",
    ")"
   ]
  },
  {
   "cell_type": "markdown",
   "id": "7894d1dc",
   "metadata": {
    "id": "7894d1dc"
   },
   "source": [
    "### Faithfulness"
   ]
  },
  {
   "cell_type": "code",
   "execution_count": null,
   "id": "tS8SQKs_FRTB",
   "metadata": {
    "id": "tS8SQKs_FRTB"
   },
   "outputs": [],
   "source": [
    "FaithfulnessCorrelation_shap = quantus.FaithfulnessCorrelation(\n",
    "    perturb_baseline=\"white\",\n",
    "    perturb_func=quantus.baseline_replacement_by_indices,\n",
    "    subset_size=5, # features to perturb\n",
    "    nr_runs=10,\n",
    "    similarity_func=quantus.similarity_func.correlation_pearson,\n",
    "    abs=True, # take absolute values of attributions\n",
    "    normalise=False, # do not normalise ohe data\n",
    "    return_aggregate=False, # (not) output 1 val instead of list of vals for all samples\n",
    "    aggregate_func=np.mean,\n",
    "    disable_warnings=True,\n",
    "    display_progressbar=True,\n",
    ")(\n",
    "    model=wrapped_model,\n",
    "    x_batch=X_test_combined,\n",
    "    y_batch=y_test_int,\n",
    "    a_batch=shap_values,   # use SHAP attributions computed above\n",
    "    explain_func=None,      # explanations are precomputed\n",
    "    device=device\n",
    ")\n",
    "\n",
    "# Scale to 0-1\n",
    "FaithfulnessCorrelation_shap = (FaithfulnessCorrelation_shap - np.min(FaithfulnessCorrelation_shap)) / (\n",
    "    np.max(FaithfulnessCorrelation_shap) - np.min(FaithfulnessCorrelation_shap)\n",
    ")\n",
    "\n",
    "# Find mean\n",
    "FaithfulnessCorrelation_shap = np.mean(FaithfulnessCorrelation_shap)\n",
    "\n",
    "print(\n",
    "    f\"Faithfulness: Faithfulness Correlation by Bhatt et al., 2020.\\n\"\n",
    "    f\"\\n • SHAP = \",\n",
    "    FaithfulnessCorrelation_shap,\n",
    ")"
   ]
  },
  {
   "cell_type": "code",
   "execution_count": null,
   "id": "1sV0JYh0FYv8",
   "metadata": {
    "colab": {
     "base_uri": "https://localhost:8080/",
     "height": 136,
     "referenced_widgets": [
      "d48c98142f754ff08a5cc33ee5b23f32",
      "890f249fa06447e3ac867b689fff0c8b",
      "d1eb291b5c294bceb89851a4f8ce5d03",
      "497a98ab24b74b399c44482e5febc5f2",
      "82d827e032e94643998f978ba55d245c",
      "c08bdc5cfc6d48489b05495c3c031746",
      "e69af2d12e2e4e0c9ebafaae11035c09",
      "2a4f601a52184e9a80a7c18b69ad08b0",
      "5b605df4414d4f6495e1b05501bc4459",
      "00213a5365824ab694c6a6fcdc399a4d",
      "499f23c06caf491b973e966eec2a1d93"
     ]
    },
    "executionInfo": {
     "elapsed": 267820,
     "status": "ok",
     "timestamp": 1749295546823,
     "user": {
      "displayName": "Hung Thanh Do",
      "userId": "14602254202234053172"
     },
     "user_tz": -120
    },
    "id": "1sV0JYh0FYv8",
    "outputId": "1650635e-af1c-4b48-f35e-c841264f912e"
   },
   "outputs": [
    {
     "data": {
      "application/vnd.jupyter.widget-view+json": {
       "model_id": "d48c98142f754ff08a5cc33ee5b23f32",
       "version_major": 2,
       "version_minor": 0
      },
      "text/plain": [
       "  0%|          | 0/102.0 [00:00<?, ?it/s]"
      ]
     },
     "metadata": {},
     "output_type": "display_data"
    },
    {
     "name": "stderr",
     "output_type": "stream",
     "text": [
      "/usr/local/lib/python3.11/dist-packages/quantus/helpers/warn.py:257: UserWarning: The settings for perturbing input e.g., 'perturb_func' didn't cause change in input. Reconsider the parameter settings.\n",
      "  warnings.warn(\n"
     ]
    },
    {
     "name": "stdout",
     "output_type": "stream",
     "text": [
      "Faithfulness: Faithfulness Estimate by Alvarez-Melis et al., 2018.\n",
      "\n",
      " • SHAP =  0.5356530241290733\n"
     ]
    }
   ],
   "source": [
    "FaithfulnessEstimate_shap = quantus.FaithfulnessEstimate(\n",
    "    perturb_baseline=\"white\",\n",
    "    perturb_func=quantus.baseline_replacement_by_indices,\n",
    "    features_in_step=1, # features to perturb\n",
    "    similarity_func=quantus.similarity_func.correlation_pearson,\n",
    "    abs=True, # take absolute values of attributions\n",
    "    normalise=False, # do not normalise ohe data\n",
    "    return_aggregate=False, # (not) output 1 val instead of list of vals for all samples\n",
    "    aggregate_func=np.mean,\n",
    "    disable_warnings=True,\n",
    "    display_progressbar=True,\n",
    ")(\n",
    "    model=wrapped_model,\n",
    "    x_batch=X_test_combined,\n",
    "    y_batch=y_test_int,\n",
    "    a_batch=shap_values,   # use SHAP attributions computed above\n",
    "    explain_func=None,      # explanations are precomputed\n",
    "    device=device\n",
    ")\n",
    "\n",
    "# Scale to 0-1\n",
    "FaithfulnessEstimate_shap = (FaithfulnessEstimate_shap - np.min(FaithfulnessEstimate_shap)) / (\n",
    "    np.max(FaithfulnessEstimate_shap) - np.min(FaithfulnessEstimate_shap)\n",
    ")\n",
    "\n",
    "# Find mean\n",
    "FaithfulnessEstimate_shap = np.mean(FaithfulnessEstimate_shap)\n",
    "\n",
    "print(\n",
    "    f\"Faithfulness: Faithfulness Estimate by Alvarez-Melis et al., 2018.\\n\"\n",
    "    f\"\\n • SHAP = \",\n",
    "    FaithfulnessEstimate_shap,\n",
    ")"
   ]
  },
  {
   "cell_type": "code",
   "execution_count": null,
   "id": "c5ced278",
   "metadata": {
    "colab": {
     "base_uri": "https://localhost:8080/",
     "height": 67,
     "referenced_widgets": [
      "85824e4c27e44d1a941cd609b44e2c24",
      "c2a8cf56f09d408dbcd41e0f994e44e0",
      "70fd80358d0a4792a770be88d194f53c",
      "f4b2e272a4f54d989669b2ffb9d1c15e",
      "c28a44a9567441f1a3462c671abdca82",
      "cd9a1838393f440690eeceeb9ba9bd14",
      "3c2cb8222fee4b94842844882b58898b",
      "9c8370b0ea6e4d7d9b67d6dcfcbb635d",
      "014028336dd647cd884651546709a8cc",
      "8f7545c7e668473196227e4cb8efef95",
      "a1fe55a5568f4885ab01af773d395d8b"
     ]
    },
    "executionInfo": {
     "elapsed": 255470,
     "status": "ok",
     "timestamp": 1748942129699,
     "user": {
      "displayName": "Hung Thanh Do",
      "userId": "14602254202234053172"
     },
     "user_tz": -120
    },
    "id": "c5ced278",
    "outputId": "05f4c3ae-d578-4c68-9ee6-d2ad0fc231a5"
   },
   "outputs": [
    {
     "data": {
      "application/vnd.jupyter.widget-view+json": {
       "model_id": "85824e4c27e44d1a941cd609b44e2c24",
       "version_major": 2,
       "version_minor": 0
      },
      "text/plain": [
       "  0%|          | 0/102.0 [00:00<?, ?it/s]"
      ]
     },
     "metadata": {},
     "output_type": "display_data"
    },
    {
     "name": "stdout",
     "output_type": "stream",
     "text": [
      "FaithfulnessCorrelation (Bhatt et al., 2020) [SHAP]: 0.5438\n"
     ]
    }
   ],
   "source": [
    "\n",
    "# FaithfulnessCorrelation_shap = quantus.FaithfulnessCorrelation(\n",
    "#     perturb_baseline=\"white\",\n",
    "#     perturb_func=quantus.baseline_replacement_by_indices,\n",
    "#     subset_size=5,                           # number of features to perturb per run\n",
    "#     nr_runs=10,                              # how many random subsets to try\n",
    "#     similarity_func=quantus.similarity_func.correlation_pearson,\n",
    "#     abs=True,\n",
    "#     normalise=False,\n",
    "#     return_aggregate=False,                  # get one value per test sample\n",
    "#     aggregate_func=np.mean,\n",
    "#     disable_warnings=True,\n",
    "#     display_progressbar=True,\n",
    "# )(\n",
    "#     model=wrapped_model,\n",
    "#     x_batch=X_test_combined,\n",
    "#     y_batch=y_test_int,\n",
    "#     a_batch=shap_values,\n",
    "#     explain_func=None\n",
    "# )\n",
    "\n",
    "# # scale to [0,1], then take the mean\n",
    "# fc = np.array(FaithfulnessCorrelation_shap)\n",
    "# fc = (fc - np.min(fc)) / (np.max(fc) - np.min(fc))\n",
    "# FaithfulnessCorrelation_shap = float(np.mean(fc))\n",
    "\n",
    "# print(\"FaithfulnessCorrelation (Bhatt et al., 2020) [SHAP]:\", round(FaithfulnessCorrelation_shap, 4))\n"
   ]
  },
  {
   "cell_type": "code",
   "execution_count": null,
   "id": "a464a2dc",
   "metadata": {
    "colab": {
     "base_uri": "https://localhost:8080/",
     "height": 124,
     "referenced_widgets": [
      "e8ee6b37a7bc448a8aab3663bf4e3e82",
      "dbb36dc1222348c4a6a1845211705db9",
      "497dd9e5356a40488975d651ac428b4e",
      "63b9f826965249bcbfa032a6ebd7c0e2",
      "273da41f1bbc4df69590bace4f243cfb",
      "95de79ac8ded4ee5bd28aee7a23bcce4",
      "1bb8f33ae5f240dcac2d138258b95064",
      "ceda87f439524f379919f2abd6636c5b",
      "d5e96a81faac416b9d07a39dd8bbcff8",
      "5cdebceb34f546c489c325f610f3fe87",
      "e3623858115842cc841252233b1559bc"
     ]
    },
    "executionInfo": {
     "elapsed": 290293,
     "status": "ok",
     "timestamp": 1748942419994,
     "user": {
      "displayName": "Hung Thanh Do",
      "userId": "14602254202234053172"
     },
     "user_tz": -120
    },
    "id": "a464a2dc",
    "outputId": "5aa999ff-c0d4-4e4d-f251-72f24433abce"
   },
   "outputs": [
    {
     "data": {
      "application/vnd.jupyter.widget-view+json": {
       "model_id": "e8ee6b37a7bc448a8aab3663bf4e3e82",
       "version_major": 2,
       "version_minor": 0
      },
      "text/plain": [
       "  0%|          | 0/102.0 [00:00<?, ?it/s]"
      ]
     },
     "metadata": {},
     "output_type": "display_data"
    },
    {
     "name": "stderr",
     "output_type": "stream",
     "text": [
      "/usr/local/lib/python3.11/dist-packages/quantus/helpers/warn.py:257: UserWarning: The settings for perturbing input e.g., 'perturb_func' didn't cause change in input. Reconsider the parameter settings.\n",
      "  warnings.warn(\n"
     ]
    },
    {
     "name": "stdout",
     "output_type": "stream",
     "text": [
      "FaithfulnessEstimate (Alvarez-Melis et al., 2018) [SHAP]: 0.5981\n"
     ]
    }
   ],
   "source": [
    "# FaithfulnessEstimate_shap = quantus.FaithfulnessEstimate(\n",
    "#     perturb_baseline=\"white\",\n",
    "#     perturb_func=quantus.baseline_replacement_by_indices,\n",
    "#     features_in_step=1,                      # remove one feature at a time\n",
    "#     similarity_func=quantus.similarity_func.correlation_pearson,\n",
    "#     abs=True,\n",
    "#     normalise=False,\n",
    "#     return_aggregate=False,\n",
    "#     aggregate_func=np.mean,\n",
    "#     disable_warnings=True,\n",
    "#     display_progressbar=True,\n",
    "# )(\n",
    "#     model=wrapped_model,\n",
    "#     x_batch=X_test_combined,\n",
    "#     y_batch=y_test_int,\n",
    "#     a_batch=shap_values,\n",
    "#     explain_func=None,\n",
    "#     device=device,\n",
    "# )\n",
    "\n",
    "# fe = FaithfulnessEstimate_shap\n",
    "# fe = (fe - np.min(fe)) / (np.max(fe) - np.min(fe))\n",
    "# FaithfulnessEstimate_shap = float(np.mean(fe))\n",
    "\n",
    "# print(\"FaithfulnessEstimate (Alvarez-Melis et al., 2018) [SHAP]:\", round(FaithfulnessEstimate_shap, 4))"
   ]
  },
  {
   "cell_type": "markdown",
   "id": "e341902b",
   "metadata": {
    "id": "e341902b"
   },
   "source": [
    "### Robustness"
   ]
  },
  {
   "cell_type": "code",
   "execution_count": null,
   "id": "VHrh65jyFdYP",
   "metadata": {
    "colab": {
     "base_uri": "https://localhost:8080/",
     "height": 170,
     "referenced_widgets": [
      "59ef382bcc1444d8a50692bfa271a847",
      "5c052aec07cb4f37997c65dec79b4d3e",
      "f9d96ccead234deab18b9854237969b8",
      "68289bff2a26431da144b372eaedad7e",
      "a7f585c7d8c54bba85c523bfe4db0b8f",
      "9aaf1cc6aafc4d2cac9a30ebf04b9bba",
      "eb9858953d024f249e29a617d92adf44",
      "9f6458c012d64485b9cbfcce4325344b",
      "ee55d170eb3a49bbb2049a84ed7b20e2",
      "29a348dea588418bbf1d41fce4118f1e",
      "ff2a9735b84847deb25348122bddfba1"
     ]
    },
    "executionInfo": {
     "elapsed": 388427,
     "status": "ok",
     "timestamp": 1749296294431,
     "user": {
      "displayName": "Hung Thanh Do",
      "userId": "14602254202234053172"
     },
     "user_tz": -120
    },
    "id": "VHrh65jyFdYP",
    "outputId": "fc53da5a-cce2-41a5-833c-795ab3adb55d"
   },
   "outputs": [
    {
     "data": {
      "application/vnd.jupyter.widget-view+json": {
       "model_id": "59ef382bcc1444d8a50692bfa271a847",
       "version_major": 2,
       "version_minor": 0
      },
      "text/plain": [
       "  0%|          | 0/102.0 [00:00<?, ?it/s]"
      ]
     },
     "metadata": {},
     "output_type": "display_data"
    },
    {
     "name": "stderr",
     "output_type": "stream",
     "text": [
      "/usr/local/lib/python3.11/dist-packages/captum/attr/_core/deep_lift.py:304: UserWarning: Setting forward, backward hooks and attributes on non-linear\n",
      "               activations. The hooks and attributes will be removed\n",
      "            after the attribution is finished\n",
      "  warnings.warn(\n"
     ]
    },
    {
     "name": "stdout",
     "output_type": "stream",
     "text": [
      "Robustness: Local Lipschitz Estimate by Alvarez-Melis et al., 2018.\n",
      "\n",
      " • SHAP =  0.101544417298378\n"
     ]
    }
   ],
   "source": [
    "LocalLipschitzEstimate_shap = quantus.LocalLipschitzEstimate(\n",
    "    normalise=False,\n",
    "    abs=True, # take absolute values of attributions\n",
    "    nr_samples = 20,\n",
    "    disable_warnings=True,\n",
    "    display_progressbar=True,\n",
    "    # return_aggregate=True, # find the mean of the complexity from all samples\n",
    "    aggregate_func=np.mean,\n",
    ")(\n",
    "    model=wrapped_model,\n",
    "    x_batch=X_test_combined,\n",
    "    y_batch=y_test_int,\n",
    "    # a_batch=shap_values,   # use SHAP attributions computed above\n",
    "    # explain_func=None      # explanations are precomputed\n",
    "    a_batch=None,\n",
    "    explain_func=quantus.explain,\n",
    "    explain_func_kwargs={\"method\": \"DeepLiftShap\", \"reduce_axes\": ()},\n",
    "    device=device\n",
    ")\n",
    "\n",
    "# Scale to 0-1\n",
    "LocalLipschitzEstimate_shap = (LocalLipschitzEstimate_shap - np.min(LocalLipschitzEstimate_shap)) / (\n",
    "    np.max(LocalLipschitzEstimate_shap) - np.min(LocalLipschitzEstimate_shap)\n",
    ")\n",
    "\n",
    "# Find mean\n",
    "LocalLipschitzEstimate_shap = np.mean(LocalLipschitzEstimate_shap)\n",
    "\n",
    "print(\n",
    "    f\"Robustness: Local Lipschitz Estimate by Alvarez-Melis et al., 2018.\\n\"\n",
    "    f\"\\n • SHAP = \",\n",
    "    LocalLipschitzEstimate_shap,\n",
    ")"
   ]
  },
  {
   "cell_type": "code",
   "execution_count": null,
   "id": "11c8d9d2",
   "metadata": {
    "colab": {
     "base_uri": "https://localhost:8080/",
     "height": 160,
     "referenced_widgets": [
      "00133cf837964f42ac16ebcbf22d24cf",
      "bd4ec22091c54e06817c4f965bd63b0e",
      "cf3b2c79b14c4a3d96ad7d7c9fe01652",
      "f2381195f8dc4fa49a397097201a2334",
      "f770f1a891e046b0bb1e5b8d8c1a8c44",
      "bad4c869e67a4fb68ed0aa4d4211fb04",
      "f5bacf5d2ee4468889b3690eedee765b",
      "dc5b2d18182d494185f854d9c6162c8c",
      "063aaf58462241a59504b16270866a7d",
      "bdbe187190444d09b58e4c19cd3ecfd7",
      "cda3f69fe1ac47809f1e0437506fd066"
     ]
    },
    "executionInfo": {
     "elapsed": 426721,
     "status": "ok",
     "timestamp": 1748942846697,
     "user": {
      "displayName": "Hung Thanh Do",
      "userId": "14602254202234053172"
     },
     "user_tz": -120
    },
    "id": "11c8d9d2",
    "outputId": "95808ef4-70d6-4932-bedc-03c01886df14"
   },
   "outputs": [
    {
     "data": {
      "application/vnd.jupyter.widget-view+json": {
       "model_id": "00133cf837964f42ac16ebcbf22d24cf",
       "version_major": 2,
       "version_minor": 0
      },
      "text/plain": [
       "  0%|          | 0/102.0 [00:00<?, ?it/s]"
      ]
     },
     "metadata": {},
     "output_type": "display_data"
    },
    {
     "name": "stderr",
     "output_type": "stream",
     "text": [
      "/usr/local/lib/python3.11/dist-packages/captum/attr/_core/deep_lift.py:304: UserWarning: Setting forward, backward hooks and attributes on non-linear\n",
      "               activations. The hooks and attributes will be removed\n",
      "            after the attribution is finished\n",
      "  warnings.warn(\n"
     ]
    },
    {
     "name": "stdout",
     "output_type": "stream",
     "text": [
      "LocalLipschitzEstimate (Alvarez-Melis et al., 2018) [SHAP]: 0.1267\n"
     ]
    }
   ],
   "source": [
    "# LocalLipschitzEstimate_shap = quantus.LocalLipschitzEstimate(\n",
    "#     normalise=False,\n",
    "#     abs=True,\n",
    "#     nr_samples=20,\n",
    "#     disable_warnings=True,\n",
    "#     display_progressbar=True,\n",
    "#     aggregate_func=np.mean\n",
    "# )(\n",
    "#     model=wrapped_model,\n",
    "#     x_batch=X_test_combined,\n",
    "#     y_batch=y_test_int,\n",
    "#     a_batch=None,\n",
    "#     explain_func=quantus.explain,\n",
    "#     explain_func_kwargs={\"method\": \"DeepLiftShap\", \"reduce_axes\": ()},\n",
    "#     device=device,\n",
    "# )\n",
    "\n",
    "# lle = LocalLipschitzEstimate_shap\n",
    "# lle = (lle - np.min(lle)) / (np.max(lle) - np.min(lle))\n",
    "# LocalLipschitzEstimate_shap = float(np.mean(lle))\n",
    "\n",
    "# print(\"LocalLipschitzEstimate (Alvarez-Melis et al., 2018) [SHAP]:\", round(LocalLipschitzEstimate_shap, 4))"
   ]
  },
  {
   "cell_type": "markdown",
   "id": "a0443ce7",
   "metadata": {
    "id": "a0443ce7"
   },
   "source": [
    "### Randomisation"
   ]
  },
  {
   "cell_type": "code",
   "execution_count": null,
   "id": "QR7uTAOBFuf5",
   "metadata": {
    "colab": {
     "base_uri": "https://localhost:8080/",
     "height": 208,
     "referenced_widgets": [
      "40fe610b38bc448ab01cfeaf757f6fd0",
      "896efd56ed2c4aa5b0b879634fa90b98",
      "8731ddcdc6154ceab3dde0a4539f841d",
      "69f082f472064b9980ff6e3e3cbe46e3",
      "2e25d2fbea424d1a8ea73c648ac84eaf",
      "a17dd96ae9614630a7f1df33fea42a78",
      "dfc2cbae4b174762b23bd9be669d74a9",
      "20757e962a9c4b4a98eeafa67e065908",
      "20b4b6c6b0b34cf4a5fd5da1fd5a3ca8",
      "463afcaad9a4486da4a3d023aa6a2f47",
      "42044dd9d3c94e70946e3686e1fa92ff"
     ]
    },
    "executionInfo": {
     "elapsed": 73643,
     "status": "ok",
     "timestamp": 1749299753924,
     "user": {
      "displayName": "Hung Thanh Do",
      "userId": "14602254202234053172"
     },
     "user_tz": -120
    },
    "id": "QR7uTAOBFuf5",
    "outputId": "feed9852-6acd-4275-9d48-08866f47fde1"
   },
   "outputs": [
    {
     "data": {
      "application/vnd.jupyter.widget-view+json": {
       "model_id": "40fe610b38bc448ab01cfeaf757f6fd0",
       "version_major": 2,
       "version_minor": 0
      },
      "text/plain": [
       "  0%|          | 0/102.0 [00:00<?, ?it/s]"
      ]
     },
     "metadata": {},
     "output_type": "display_data"
    },
    {
     "name": "stdout",
     "output_type": "stream",
     "text": [
      "Randomisation: RandomLogit scores by Sixt et al., 2020.\n",
      "\n",
      " • SHAP =  [np.float64(0.4079401319225629), np.float64(0.5323959439992905), np.float64(0.7075240711371104), np.float64(0.33876803641517955), np.float64(0.40165865421295166), np.float64(0.246271762996912), np.float64(0.938524087270101), np.float64(0.3443850303689639), np.float64(0.33062151571114856), np.float64(0.30904316032926243), np.float64(0.5972169389327368), np.float64(0.2479744137575229), np.float64(0.37144722789525986), np.float64(0.4504198183616002), np.float64(0.3914627929528554), np.float64(0.23006272804923356), np.float64(0.7656701604525248), np.float64(0.6936181286970774), np.float64(0.5604483137528101), np.float64(0.3561895738045375), np.float64(0.22676706997056803), np.float64(0.18063064365560422), np.float64(0.6333277920881907), np.float64(0.21469407342374325), np.float64(0.3182353871234227), np.float64(0.7580430010954539), np.float64(0.2165386943767468), np.float64(0.8043463130791982), np.float64(0.37944515732427436), np.float64(0.6790231267611185), np.float64(0.5689421047767004), np.float64(0.29534735530614853), np.float64(0.5046192035079002), np.float64(0.28183011489454657), np.float64(0.17453842809967077), np.float64(0.8656581739584605), np.float64(0.6892859935760498), np.float64(0.2308790348470211), np.float64(0.6420849586526552), np.float64(0.41964514056841534), np.float64(0.7330007950464884), np.float64(0.3734620337684949), np.float64(0.8082164227962494), np.float64(0.5547951658566793), np.float64(0.5469452204803625), np.float64(0.1798286153934896), np.float64(0.2801300846040249), np.float64(0.7633262077967325), np.float64(0.30879940589269), np.float64(0.35453811784585315), np.float64(0.2381912978986899), np.float64(0.9444967408974966), np.float64(0.34047067165374756), np.float64(0.9423408110936483), np.float64(0.19362484970285246), np.float64(0.26485363331933814), np.float64(0.792511984705925), np.float64(0.200749974232167), np.float64(0.7542442232370377), np.float64(0.34793148438135785), np.float64(0.19695762420694032), np.float64(0.8741618990898132), np.float64(0.8887177308400472), np.float64(0.8256988227367401), np.float64(0.3308415462573369), np.float64(0.18765013571828604), np.float64(0.405684399108092), np.float64(0.677559475104014), np.float64(0.3719901417692502), np.float64(0.9254723389943441), np.float64(0.9621405998865763), np.float64(0.40711978698770207), np.float64(0.8299513260523478), np.float64(0.29014392135043937), np.float64(0.7238770922025045), np.float64(0.6927105089028677), np.float64(0.9555492500464121), np.float64(0.782392551501592), np.float64(0.8660726348559061), np.float64(0.5915246705214182), np.float64(0.2398728790382544), np.float64(0.4241337726513545), np.float64(0.37584925442934036), np.float64(0.41003184268871945), np.float64(0.6651361833016077), np.float64(0.7692307010293007), np.float64(0.17876809982893369), np.float64(0.8498764932155609), np.float64(0.20612915931269526), np.float64(0.23634550623440495), np.float64(0.43779240300258), np.float64(0.37081483751535416), np.float64(0.2869230198363463), np.float64(0.9096517860889435), np.float64(0.667053093512853), np.float64(0.41442545751730603), np.float64(0.3426218430201213), np.float64(0.6089026580254236), np.float64(0.6478005349636078), np.float64(0.2846852093935013), np.float64(0.7054744859536489), np.float64(0.5656118392944336), np.float64(0.9381341934204102), np.float64(0.24532353063113987), np.float64(0.8190552989641825), np.float64(0.3259580039108793), np.float64(0.3957110901828855), np.float64(0.9819362759590149), np.float64(0.6682609766721725), np.float64(0.4463830416401227), np.float64(0.6501873930295309), np.float64(0.35868428895870846), np.float64(0.3506011466185252), np.float64(0.18661985142777363), np.float64(0.3438766996065776), np.float64(0.3068204663383464), np.float64(0.6583999544382095), np.float64(0.5236043483018875), np.float64(0.2713353560150911), np.float64(0.7380035718282064), np.float64(0.3961303383111954), np.float64(0.24424890894442797), np.float64(0.2347319188217322), np.float64(0.46784960230191547), np.float64(0.37705425421396893), np.float64(0.4530272384484609), np.float64(0.7223196526368459), np.float64(0.21885200962424278), np.float64(0.2913629934191704), np.float64(0.41333045562108356), np.float64(0.3019487867131829), np.float64(0.27951290768881637), np.float64(0.8747417678435644), np.float64(0.6428645383566618), np.float64(0.24367433848480383), np.float64(0.27451221955319244), np.float64(0.27524539083242416), np.float64(0.8360722810029984), np.float64(0.1827813311247155), np.float64(0.711187094449997), np.float64(0.6002768327792486), np.float64(0.6520563860734304), np.float64(0.9237948457400004), np.float64(0.3079709317535162), np.float64(0.3005099097887675), np.float64(0.1814383496530354), np.float64(0.8248747438192368), np.float64(0.7171234488487244), np.float64(0.3564288305739562), np.float64(0.2757141900559266), np.float64(0.3317146177093188), np.float64(0.5721547504266103), np.float64(0.6070709178845087), np.float64(0.5827817817529043), np.float64(0.6689222306013107), np.float64(0.36697033792734146), np.float64(0.3268895049889882), np.float64(0.9268505076567332), np.float64(0.9199178218841553), np.float64(0.569628452261289), np.float64(0.2747689274450143), np.float64(0.6437967618306478), np.float64(0.9710607826709747), np.float64(0.2230345100785295), np.float64(0.3930224422365427), np.float64(0.3911624178290367), np.float64(0.42322489619255066), np.float64(0.7744534214337667), np.float64(0.2272546672805523), np.float64(0.23557655264933905), np.float64(0.18995277707775435), np.float64(0.1888004697393626), np.float64(0.5703088293472925), np.float64(0.33448177576065063), np.float64(0.6722549796104431), np.float64(0.3151911152526736), np.float64(0.8454438249270121), np.float64(0.35652455935875577), np.float64(0.5804876635471979), np.float64(0.5110936959584554), np.float64(0.4062684526046117), np.float64(0.7609100093444189), np.float64(0.6481131265560786), np.float64(0.16593394808781645), np.float64(0.32178577532370883), np.float64(0.3906329795718193), np.float64(0.3868192831675212), np.float64(0.19195056023697057), np.float64(0.24598572247972092), np.float64(0.194687157869339), np.float64(0.3806707685192426), np.float64(0.504676510890325), np.float64(0.8908671339352926), np.float64(0.8539517919222513), np.float64(0.504490484793981), np.float64(0.32173467924197513), np.float64(0.37406246612469357), np.float64(0.360198558618625), np.float64(0.1802020026370883), np.float64(0.8678918679555258), np.float64(0.4736627023812616), np.float64(0.9432080785433451), np.float64(0.42165284355481464), np.float64(0.3657444988687833), np.float64(0.18190363375470042), np.float64(0.18659145835166177), np.float64(0.3835671103248994), np.float64(0.5453234041730562), np.float64(0.8996948699156443), np.float64(0.6848626732826233), np.float64(0.4047262445092201), np.float64(0.33740612616141635), np.float64(0.32127511998017627), np.float64(0.5126905739307404), np.float64(0.29843340317408246), np.float64(0.3629634790122509), np.float64(0.5055254399776459), np.float64(0.17000678538655242), np.float64(0.41300098101298016), np.float64(0.4635996123154958), np.float64(0.8616156280040741), np.float64(0.6753873626391093), np.float64(0.7720396121342977), np.float64(0.6493725577990214), np.float64(0.22852261550724506), np.float64(0.5602189898490906), np.float64(0.7379782398541769), np.float64(0.7221924066543579), np.float64(0.27831071491042775), np.float64(0.226813081089252), np.float64(0.5604829788208008), np.float64(0.5960904558499655), np.float64(0.9622003237406412), np.float64(0.7522822270790736), np.float64(0.37197326868772507), np.float64(0.17890842305496335), np.float64(0.23819541481013098), np.float64(0.16805947055399884), np.float64(0.21575412961343923), np.float64(0.6190958519776663), np.float64(0.475069060921669), np.float64(0.8741665085156759), np.float64(0.4082852105299632), np.float64(0.8411146352688471), np.float64(0.432211031516393), np.float64(0.42108019689718884), np.float64(0.3433314586679141), np.float64(0.9287377993265787), np.float64(0.864018718401591), np.float64(0.5202931414047877), np.float64(0.17590959540878734), np.float64(0.7914048135280609), np.float64(0.23069940507411957), np.float64(0.28235893448193866), np.float64(0.3617962325612704), np.float64(0.1810562520598372), np.float64(0.29067325964570045), np.float64(0.4033815066019694), np.float64(0.5698457459608713), np.float64(0.5380634516477585), np.float64(0.6750507801771164), np.float64(0.549954262872537), np.float64(0.2544136494398117), np.float64(0.3693272730646034), np.float64(0.36830463508764905), np.float64(0.40080975989500683), np.float64(0.46079698701699573), np.float64(0.6034679859876633), np.float64(0.6933063964049021), np.float64(0.786031981309255), np.float64(0.9138261874516805), np.float64(0.6248841484387716), np.float64(0.5375504046678543), np.float64(0.23017799481749535), np.float64(0.3380670373638471), np.float64(0.524407093723615), np.float64(0.9199162622292837), np.float64(0.19839526526629925), np.float64(0.25691772997379303), np.float64(0.9846688707669576), np.float64(0.8757237195968628), np.float64(0.9625004132588705), np.float64(0.43687567114830017), np.float64(0.9472081462542216), np.float64(0.4033949002623558), np.float64(0.5992387731870016), np.float64(0.18545043208481124), np.float64(0.31383414069811505), np.float64(0.16902180902555605), np.float64(0.21072823523233333), np.float64(0.30542176589369774), np.float64(0.661041130622228), np.float64(0.45139119525750476), np.float64(0.4304090514779091), np.float64(0.890082577864329), np.float64(0.8265654842058817), np.float64(0.3714257938166459), np.float64(0.5936434119939804), np.float64(0.9930648605028788), np.float64(0.3540686387568712), np.float64(0.830631156762441), np.float64(0.6069439550240835), np.float64(0.37829842666784924), np.float64(0.2780398375665148), np.float64(0.38553788016239804), np.float64(0.9037821988264719), np.float64(0.8158380687236786), np.float64(0.455268698434035), np.float64(0.5448060184717178), np.float64(0.3434598309298356), np.float64(0.3337528419991334), np.float64(0.842587893207868), np.float64(0.3351184731970231), np.float64(0.36932506412267685), np.float64(0.17079846343646446), np.float64(0.2161431801020323), np.float64(0.529866541425387), np.float64(0.30595187555688125), np.float64(0.9252149760723114), np.float64(0.8237950503826141), np.float64(0.2875094637274742), np.float64(0.8775724172592163), np.float64(0.49105233947436017), np.float64(0.8807632327079773), np.float64(0.18238101671643867), np.float64(0.2685675788670778), np.float64(0.2209844266374906), np.float64(0.4575890252987544), np.float64(0.22809312492609024), np.float64(0.3004337127010028), np.float64(0.2841227849324544), np.float64(0.36364522327979404), np.float64(0.33718741064270336), np.float64(0.18585212311396995), np.float64(0.819759339094162), np.float64(0.561971495548884), np.float64(0.17492602850931385), np.float64(0.3979630346099536), np.float64(0.9548913637797037), np.float64(0.27107398708661395), np.float64(0.27319888211786747), np.float64(0.365422813842694), np.float64(0.391102875272433), np.float64(0.567541778087616), np.float64(0.6266977985699972), np.float64(0.8729470570882162), np.float64(0.3646944612264633), np.float64(0.45703329394261044), np.float64(0.41388198484977085), np.float64(0.2524854640165965), np.float64(0.8508376677831014), np.float64(0.2945026680827141), np.float64(0.3600301245848338), np.float64(0.5046885212262472), np.float64(0.40248615661403164), np.float64(0.47781462719043094), np.float64(0.7748656968275706), np.float64(0.22424636494057873), np.float64(0.8677287995815277), np.float64(0.347003934904933), np.float64(0.23225041983338693), np.float64(0.8204645216464996), np.float64(0.6211230009794235), np.float64(0.5867059975862503), np.float64(0.23034823747972646), np.float64(0.47986720502376556), np.float64(0.6526673684517542), np.float64(0.21186980900044242), np.float64(0.6396412253379822), np.float64(0.7841597199440002), np.float64(0.7423224051793417), np.float64(0.5750490874052048), np.float64(0.39094434554378193), np.float64(0.7414480720957121), np.float64(0.5156283875306448), np.float64(0.2318473377575477), np.float64(0.21854086685925722), np.float64(0.4119911839564641), np.float64(0.178798359973977), np.float64(0.4365976427992185), np.float64(0.31629308809836704), np.float64(0.3377749373515447), np.float64(0.9145093758900961), np.float64(0.5290482540925344), np.float64(0.26185091709097225), np.float64(0.18645790374527374), np.float64(0.5734332402547201), np.float64(0.39155810326337814), np.float64(0.5959004014730453), np.float64(0.643281896909078), np.float64(0.6844013830025991), np.float64(0.4900924464066823), np.float64(0.2478249010940393), np.float64(0.17307080033545694), np.float64(0.397037868698438), np.float64(0.18642295021951819), np.float64(0.6076078514258066), np.float64(0.3313338061173757), np.float64(0.486068790157636), np.float64(0.1701312157092616), np.float64(0.18531809685130915), np.float64(0.23347188035647073), np.float64(0.4548333336909612), np.float64(0.5120763580004374), np.float64(0.7517644663651785), np.float64(0.33786408851544064), np.float64(0.26110704491535824), np.float64(0.4750056713819504), np.float64(0.7465752561887106), np.float64(0.5294171571731567), np.float64(0.43785496801137924), np.float64(0.7967181205749512), np.float64(0.3054862966140111), np.float64(0.672173817952474), np.float64(0.5223005761702856), np.float64(0.6680429975191752), np.float64(0.6275582909584045), np.float64(0.18696026178076863), np.float64(0.718233565489451), np.float64(0.5275445431470871), np.float64(0.9637836515903473), np.float64(0.28480621613562107), np.float64(0.7903665204842886), np.float64(0.2959611490368843), np.float64(0.20756486306587854), np.float64(0.5575808783372244), np.float64(0.9868641396363577), np.float64(0.4245002989967664), np.float64(0.647834524512291), np.float64(0.22981044172775), np.float64(0.24476871367854378), np.float64(0.39626309523979825), np.float64(0.39458315074443817), np.float64(0.17614374216645956), np.float64(0.1910799389394621), np.float64(0.5311024015148481), np.float64(0.9676739672819773), np.float64(0.22138254158198833), np.float64(0.6458448717991511), np.float64(0.6158802409966787), np.float64(0.21007846482098103), np.float64(0.39898543308178586), np.float64(0.19255949184298515), np.float64(0.4949907809495926), np.float64(0.26546985904375714), np.float64(0.4286394029428872), np.float64(0.3055655062198639), np.float64(0.3558882499734561), np.float64(0.20077910150090852), np.float64(0.1905021887893478), np.float64(0.5808924188216528), np.float64(0.20827016963933906), np.float64(0.3996771772702535), np.float64(0.25552481537063915), np.float64(0.43239718675613403), np.float64(0.47980011254549026), np.float64(0.24261362947678813), np.float64(0.5834308763345083), np.float64(0.7270947595437368), np.float64(0.6430191894372305), np.float64(0.730612576007843), np.float64(0.33112049102783203), np.float64(0.8010500768820444), np.float64(0.7837903102238973), np.float64(0.897090365489324), np.float64(0.4797065258026123), np.float64(0.3729085959494114), np.float64(0.17443347722291946), np.float64(0.430288831392924), np.float64(0.1970017073545023), np.float64(0.28211641086575884), np.float64(0.958725502093633), np.float64(0.5119627118110657), np.float64(0.26395925010244053), np.float64(0.3970070170859496), np.float64(0.455033245186011), np.float64(0.6392998596032461), np.float64(0.3542532293746869), np.float64(0.7618480424086252), np.float64(0.5785661786794662), np.float64(0.4341645687818527), np.float64(0.19130434162798338), np.float64(0.3672172824541728), np.float64(0.4383133376638095), np.float64(0.8687000970045725), np.float64(0.5371099164088567), np.float64(0.22052915642658869), np.float64(0.19043461993957558), np.float64(0.20883592016374072), np.float64(0.16881250753067434), np.float64(0.33024979817370576), np.float64(0.20579506332675615), np.float64(0.31066078692674637), np.float64(0.262480894724528), np.float64(0.7859645585219065), np.float64(0.5399199078480402), np.float64(0.3163370241721471), np.float64(0.9000241557757059), np.float64(0.5969800055027008), np.float64(0.8939053118228912), np.float64(0.9730380972226461), np.float64(0.6074798305829366), np.float64(0.6471695055564245), np.float64(0.2976698062072198), np.float64(0.7883825202782949), np.float64(0.3024791007240613), np.float64(0.7025398500263691), np.float64(0.29413660739858943), np.float64(0.26360060026248294), np.float64(0.8514782985051473), np.float64(0.35340146503100794), np.float64(0.788784446194768), np.float64(0.36991248031457263), np.float64(0.825975626707077), np.float64(0.45491649210453033), np.float64(0.379556546608607), np.float64(0.6199807475010554), np.float64(0.3764096765468518), np.float64(0.36066990345716476), np.float64(0.8689850394924482), np.float64(0.17434651932368675), np.float64(0.5127555380264918), np.float64(0.9879863758881887), np.float64(0.32011350120107335), np.float64(0.8950810730457306), np.float64(0.8666100402673086), np.float64(0.9959274431069692), np.float64(0.4935750241857022), np.float64(0.6315890649954478), np.float64(0.28569045662879944), np.float64(0.9614059527715048), np.float64(0.4792353957891464), np.float64(0.28751364958588965), np.float64(0.9855722089608511), np.float64(0.2002645923445622), np.float64(0.3392997458577156), np.float64(0.4347139125068982), np.float64(0.8722230792045593), np.float64(0.40833021452029544), np.float64(0.24489490936199823), np.float64(0.4927074909210205), np.float64(0.9000556965668997), np.float64(0.6685393551985422), np.float64(0.455808329085509), np.float64(0.21869197487831116), np.float64(0.5049225240945816), np.float64(0.7692125042279562), np.float64(0.2609584480524063), np.float64(0.20099741220474243), np.float64(0.6226997971534729), np.float64(0.238484725356102), np.float64(0.5698204785585403), np.float64(0.33693182468414307), np.float64(0.7395676473776499), np.float64(0.744339257478714), np.float64(0.2048463976364777), np.float64(0.49995123843352), np.float64(0.3528622016310692), np.float64(0.9059619704882304), np.float64(0.2107228763246288), np.float64(0.2233577190587918), np.float64(0.26851893464724225), np.float64(0.9937495589256287), np.float64(0.31055374319354695), np.float64(0.48305202027161914), np.float64(0.42629742125670117), np.float64(0.9350013335545858), np.float64(0.2772433655336499), np.float64(0.3157501630485058), np.float64(0.16757808041923758), np.float64(0.45498403410116833), np.float64(0.3186387208600839), np.float64(0.4273182451725006), np.float64(0.2699755181868871), np.float64(0.449064739048481), np.float64(0.3216947341958682), np.float64(0.5725569824377695), np.float64(0.6928010980288187), np.float64(0.551988810300827), np.float64(0.22878874217470488), np.float64(0.577566459774971), np.float64(0.21308194069812694), np.float64(0.37510284781455994), np.float64(0.8061937689781189), np.float64(0.22566289082169533), np.float64(0.34678636491298676), np.float64(0.18057416876157126), np.float64(0.4953048725922902), np.float64(0.9978157579898834), np.float64(0.6034136613210043), np.float64(0.9363973339398702), np.float64(0.17282120666156212), np.float64(0.9414907991886139), np.float64(0.6943401594956716), np.float64(0.23715057224035263), np.float64(0.30699118475119275), np.float64(0.6150539467732111), np.float64(0.4121038584659497), np.float64(0.17560876160860062), np.float64(0.289464071393013), np.float64(0.8458468367656072), np.float64(0.7037904510895411), np.float64(0.944550613562266), np.float64(0.6041600356499354), np.float64(0.9491345683733622), np.float64(0.298466748247544), np.float64(0.7461219926675161), np.float64(0.9989719092845917), np.float64(0.19203001291801533), np.float64(0.500739057858785), np.float64(0.42896119008461636), np.float64(0.8245700101057688), np.float64(0.7881947457790375), np.float64(0.5126097549994787), np.float64(0.16868494382166924), np.float64(0.2581942155957222), np.float64(0.5068372140328089), np.float64(0.6831350972255071), np.float64(0.6782745818297068), np.float64(0.35864615937074024), np.float64(0.6679803480704626), np.float64(0.18782412509123483), np.float64(0.6379380561411381), np.float64(0.39582809060811996), np.float64(0.5645938068628311), np.float64(0.875865230957667), np.float64(0.47108082473278046), np.float64(0.21866530490418276), np.float64(0.18910619787250957), np.float64(0.25248579449726094), np.float64(0.5412366439898809), np.float64(0.27619439115126926), np.float64(0.3272816464304924), np.float64(0.22315872522691885), np.float64(0.41000524659951526), np.float64(0.2650318745872937), np.float64(0.69770214955012), np.float64(0.3566502680381139), np.float64(0.2369538533190886), np.float64(0.38358360280593234), np.float64(0.3626263265808423), np.float64(0.4222030599291126), np.float64(0.2702809938540061), np.float64(0.4736616065104802), np.float64(0.6482457220554352), np.float64(0.2620139693220456), np.float64(0.8908105393250784), np.float64(0.25424856413155794), np.float64(0.17388339325164756), np.float64(0.719446470340093), np.float64(0.4501451527078946), np.float64(0.8261799638470014), np.float64(0.23796000766257444), np.float64(0.8124751448631287), np.float64(0.6941006978352865), np.float64(0.5354999502499899), np.float64(0.2842806801199913), np.float64(0.1884351490686337), np.float64(0.3919800074460606), np.float64(0.5528871342539787), np.float64(0.8536068002382914), np.float64(0.17301662915269844), np.float64(0.3867388541499774), np.float64(0.5664801200230917), np.float64(0.7867930829524994), np.float64(0.35049570724368095), np.float64(0.2499358681961894), np.float64(0.43952175229787827), np.float64(0.47605588287115097), np.float64(0.6232476184765497), np.float64(0.262851532548666), np.float64(0.6969032337268194), np.float64(0.4858472943305969), np.float64(0.46530328691005707), np.float64(0.2607491866995891), np.float64(0.3649701960384846), np.float64(0.5780142198006312), np.float64(0.28695206095774967), np.float64(0.5474096934000651), np.float64(0.6282764673233032), np.float64(0.2322562785508732), np.float64(0.25723327641996246), np.float64(0.6166475166877111), np.float64(0.817267119884491), np.float64(0.528234526515007), np.float64(0.7444602449735006), np.float64(0.17947497521527112), np.float64(0.5910772581895193), np.float64(0.25429169461131096), np.float64(0.19645933900028467), np.float64(0.4309682548046112), np.float64(0.31748397337893647), np.float64(0.30972192995250225), np.float64(0.6925283273061117), np.float64(0.7730112473169962), np.float64(0.3390694173673789), np.float64(0.2757422663271427), np.float64(0.16838765412103385), np.float64(0.6496230761210123), np.float64(0.9075846572717031), np.float64(0.33698006470998126), np.float64(0.21207242148617902), np.float64(0.37895773599545163), np.float64(0.7242042223612467), np.float64(0.9088191092014313), np.float64(0.7913621266682943), np.float64(0.24015653226524591), np.float64(0.614366989582777), np.float64(0.20493738539516926), np.float64(0.7209037144978842), np.float64(0.2832447160035372), np.float64(0.7421898543834686), np.float64(0.21542623080313206), np.float64(0.6302183866500854), np.float64(0.20575129427015781), np.float64(0.6605605284372965), np.float64(0.30341330418984097), np.float64(0.3146619498729706), np.float64(0.689177413781484), np.float64(0.1965941203137239), np.float64(0.880286822716395), np.float64(0.8580372805396715), np.float64(0.8696626871824265), np.float64(0.3048382227619489), np.float64(0.2846936558683713), np.float64(0.45310261348883313), np.float64(0.3722754195332527), np.float64(0.705260435740153), np.float64(0.2683521422247092), np.float64(0.2368333674967289), np.float64(0.2904553177456061), np.float64(0.21087168330753533), np.float64(0.18277443262437978), np.float64(0.9457421402136484), np.float64(0.9284249544143677), np.float64(0.6055545459191004), np.float64(0.48582502206166583), np.float64(0.5392629206180573), np.float64(0.7009158432483673), np.float64(0.311153968796134), np.float64(0.49597765505313873), np.float64(0.6585812966028849), np.float64(0.9504525860150655), np.float64(0.8428409596284231), np.float64(0.16949825078093758), np.float64(0.4652628277738889), np.float64(0.4859712431207299), np.float64(0.9525611698627472), np.float64(0.31115538626909256), np.float64(0.16775524012822038), np.float64(0.7769970744848251), np.float64(0.7260942061742147), np.float64(0.6229505936304728), np.float64(0.9092085162798563), np.float64(0.976362148920695), np.float64(0.5543232162793478), np.float64(0.38943957537412643), np.float64(0.7374944997330507), np.float64(0.27698524579561007), np.float64(0.22181613463908434), np.float64(0.49844179054101306), np.float64(0.38300668199857074), np.float64(0.1993598137050867), np.float64(0.747523287932078), np.float64(0.8389932264884313), np.float64(0.17175019858404994), np.float64(0.55192797879378), np.float64(0.5398529122273127), np.float64(0.3863895858327548), np.float64(0.7000384231408437), np.float64(0.5581101626157761), np.float64(0.26364861739178497), np.float64(0.3161490025619666), np.float64(0.3525645583868027), np.float64(0.1752813154598698), np.float64(0.3857935965061188), np.float64(0.296675647298495), np.float64(0.8106083820263544), np.float64(0.5173990329106649), np.float64(0.31526954968770343), np.float64(0.9425694147745768), np.float64(0.9480556746323904), np.float64(0.8758810261885325), np.float64(0.8354668418566386), np.float64(0.8159518639246622), np.float64(0.8908234437306722), np.float64(0.7745390931765238), np.float64(0.7030843198299408), np.float64(0.5326239963372549), np.float64(0.385323204100132), np.float64(0.45009856422742206), np.float64(0.8031744460264841), np.float64(0.3613655672719081), np.float64(0.656707838177681), np.float64(0.4050499039391677), np.float64(0.23399722843896598), np.float64(0.5766486426194509), np.float64(0.8576773305733999), np.float64(0.459701344370842), np.float64(0.798585851987203), np.float64(0.46445801854133606), np.float64(0.2912469084064166), np.float64(0.26336781680583954), np.float64(0.2099343085040649), np.float64(0.31042495121558505), np.float64(0.9094127863645554), np.float64(0.17968065064875796), np.float64(0.3418301207323869), np.float64(0.6285153180360794), np.float64(0.6546003818511963), np.float64(0.7404590547084808), np.float64(0.36479812984665233), np.float64(0.23924467836817107), np.float64(0.7859269281228384), np.float64(0.17415742700298628), np.float64(0.4955984801054001), np.float64(0.3814382056395213), np.float64(0.9168228109677633), np.float64(0.40470021963119507), np.float64(0.8502306838830312), np.float64(0.7186920444170634), np.float64(0.7756215532620748), np.float64(0.4965365032354991), np.float64(0.31768840985993546), np.float64(0.8535480697949728), np.float64(0.26379058927219984), np.float64(0.28481224179267883), np.float64(0.29401616627971333), np.float64(0.4798620541890462), np.float64(0.45810161530971527), np.float64(0.21231789933517575), np.float64(0.4897396961847941), np.float64(0.37646015733480453), np.float64(0.3906576285759608), np.float64(0.32056065648794174), np.float64(0.6847594597687324), np.float64(0.8713508248329163), np.float64(0.4872944901386897), np.float64(0.4272496464351813), np.float64(0.8412971496582031), np.float64(0.31871093312899273), np.float64(0.4374533047278722), np.float64(0.25443968549370766), np.float64(0.35737650841474533), np.float64(0.17218826369692883), np.float64(0.8782979448636373), np.float64(0.5182592111329237), np.float64(0.6491743922233582), np.float64(0.45577527582645416), np.float64(0.7018824219703674), np.float64(0.9520043929417928), np.float64(0.19593612601359686), np.float64(0.7571277717749277), np.float64(0.24554376366237798), np.float64(0.19127988163381815), np.float64(0.4258461594581604), np.float64(0.5089159458875656), np.float64(0.1791858469756941), np.float64(0.5675347583989302), np.float64(0.4265908698240916), np.float64(0.4618891254067421), np.float64(0.4298265725374222), np.float64(0.9492587745189667), np.float64(0.3382528442889452), np.float64(0.6847797930240631), np.float64(0.5334840416908264), np.float64(0.790049442400535), np.float64(0.5391625463962555), np.float64(0.241155955940485), np.float64(0.30221255496144295), np.float64(0.40066129962603253), np.float64(0.19705577939748764), np.float64(0.4171583677331607), np.float64(0.5096548050642014), np.float64(0.8633935352166494), np.float64(0.41456859310468036), np.float64(0.8548670510450999), np.float64(0.5450228651364645), np.float64(0.1900261832245936), np.float64(0.3280546007057031), np.float64(0.11597619832415755), np.float64(0.9166506926218668), np.float64(0.938861757516861), np.float64(0.6639861762523651), np.float64(0.18862521112896502), np.float64(0.5528079469998678), np.float64(0.991907556851705), np.float64(0.5095207989215851), np.float64(0.1897823247127235), np.float64(0.261596795792381), np.float64(0.500779574814563), np.float64(0.3033760239680608), np.float64(0.45912766953309375), np.float64(0.515164777636528), np.float64(0.23261487297713757), np.float64(0.7123563687006632), np.float64(0.5354178746541342), np.float64(0.2488736897551765), np.float64(0.2694702980419), np.float64(0.563827117284139), np.float64(0.8121493756771088), np.float64(0.9312676986058553), np.float64(0.8922774692376455), np.float64(0.2988655846565962), np.float64(0.24891646082202593), np.float64(0.8737969497839609), np.float64(0.31062354892492294), np.float64(0.5329417139291763), np.float64(0.17453925354251018), np.float64(0.3723782952874899), np.float64(0.7792825698852539), np.float64(0.26208673043098923), np.float64(0.17984901655775806), np.float64(0.22042107054342827), np.float64(0.3455042118827502), np.float64(0.29793453464905423), np.float64(0.31734323245473206), np.float64(0.843725730975469), np.float64(0.8397573928038279), np.float64(0.400801420211792), np.float64(0.3681187629699707), np.float64(0.8788131376107534), np.float64(0.6554774890343348), np.float64(0.1730724006095746), np.float64(0.33654994517564774), np.float64(0.4431883866588275), np.float64(0.5093194345633189), np.float64(0.7070078750451406), np.float64(0.9366088807582855), np.float64(0.30631300310293835), np.float64(0.569683775305748), np.float64(0.9765428602695465), np.float64(0.19872335282464823), np.float64(0.7776952981948853), np.float64(0.9477829535802206), np.float64(0.9203441937764486), np.float64(0.2652413280059894), np.float64(0.4969768937056263), np.float64(0.9229194323221842), np.float64(0.3280140832066536), np.float64(0.5597554643948873), np.float64(0.8943844636281332), np.float64(0.3196416273713112), np.float64(0.21430222814281782), np.float64(0.40514214740445215), np.float64(0.2803564841548602), np.float64(0.7189419070879618), np.float64(0.3737458176910877), np.float64(0.43900686254103977), np.float64(0.5434556106726328), np.float64(0.3404041565954685), np.float64(0.19765459078674516), np.float64(0.42400532960891724), np.float64(0.37242066860198975), np.float64(0.24368965004881224), np.float64(0.5092326054970423), np.float64(0.3904052923123042), np.float64(0.47910615475848317), np.float64(0.3921837930878003), np.float64(0.2560475921879212), np.float64(0.4143773516019185), np.float64(0.8440266748269399), np.float64(0.2815675263603528), np.float64(0.7377796868483225), np.float64(0.330605602512757), np.float64(0.4968685358762741), np.float64(0.5294571282962958), np.float64(0.4234935740629832), np.float64(0.6151651640733083), np.float64(0.17241514965038127), np.float64(0.6021061589320501), np.float64(0.1940480526536703), np.float64(0.1832497565386196), np.float64(0.4392189731200536), np.float64(0.8753910561402639), np.float64(0.2640766940409473), np.float64(0.5619013048708439), np.float64(0.23290222821136317), np.float64(0.3525702382127444), np.float64(0.3197706838448842), np.float64(0.7039737403392792), np.float64(0.2007376686669886), np.float64(0.77665576338768), np.float64(0.7942821880181631), np.float64(0.2650122605264187), np.float64(0.7630511621634165), np.float64(0.3511801877369483), np.float64(0.20263846156497797), np.float64(0.24909765583773455), np.float64(0.6944837172826132), np.float64(0.6817992726961771), np.float64(0.8966374198595682), np.float64(0.1747495357412845), np.float64(0.5897887498140335), np.float64(0.40995968381563824), np.float64(0.8223120967547098), np.float64(0.5767230788866679), np.float64(0.3324396430204312), np.float64(0.20572819638376436), np.float64(0.7177049219608307), np.float64(0.3303147653738658), np.float64(0.4874128798643748), np.float64(0.7572109003861746), np.float64(0.20836748586346707), np.float64(0.4220250993967056), np.float64(0.9504018127918243), np.float64(0.4284305100639661), np.float64(0.5896156777938207), np.float64(0.27315534821294324), np.float64(0.17095948761561885), np.float64(0.1829719040542841), np.float64(0.25169347086921334), np.float64(0.20007826884587607), np.float64(0.7373575369517008), np.float64(0.40155508120854694), np.float64(0.8552932639916738), np.float64(0.25028536228152615), np.float64(0.4352845549583435), np.float64(0.3233346408039021), np.float64(0.9190804859002432), np.float64(0.17285038290234903), np.float64(0.17638091960301003), np.float64(0.7298137247562408), np.float64(0.5727449009815851), np.float64(0.287569763759772), np.float64(0.8886970281600952), np.float64(0.8334575494130453), np.float64(0.2533997582892577), np.float64(0.29824312776327133), np.float64(0.32247159040222567), np.float64(0.18102717287062356), np.float64(0.4789619942506154), np.float64(0.3485142762462298), np.float64(0.3140847844382127), np.float64(0.2799423759182294), np.float64(0.41820384562015533), np.float64(0.40360797196626663), np.float64(0.7242431739966074), np.float64(0.3860965470472972), np.float64(0.1893447358161211), np.float64(0.7874069313208262), np.float64(0.3372417651116848), np.float64(0.5550839354594549), np.float64(0.4644457424680392), np.float64(0.47755081206560135), np.float64(0.2532109760989745), np.float64(0.41902383665243786), np.float64(0.23436211391041675), np.float64(0.4040502856175105), np.float64(0.45525845140218735), np.float64(0.4962439412871997), np.float64(0.23241775669157505), np.float64(0.6375754872957865), np.float64(0.21195557278891405), np.float64(0.5335292865832647), np.float64(0.20513532052670294), np.float64(0.5409882615009943), np.float64(0.49828503529230755), np.float64(0.21096058127780756), np.float64(0.779026041428248), np.float64(0.26373223805179197), np.float64(0.5252743363380432), np.float64(0.22847030746440092), np.float64(0.3105650531748931), np.float64(0.4779842769106229), np.float64(0.30746366503687267), np.float64(0.6663920084635416), np.float64(0.8413121302922567), np.float64(0.8347805738449097), np.float64(0.6721887327730656), np.float64(0.43861714502175647), np.float64(0.8651888916889826), np.float64(0.2770507037639618), np.float64(0.2687607407569885), np.float64(0.43096477289994556), np.float64(0.4375334233045578), np.float64(0.1885468308949688), np.float64(0.22469456307590008), np.float64(0.30417323859486106), np.float64(0.34164103617270786), np.float64(0.4456662784020106), np.float64(0.736502985159556), np.float64(0.5719158699115118), np.float64(0.4675971418619156), np.float64(0.5964969396591187), np.float64(0.40170544882615405), np.float64(0.4935263196627299), np.float64(0.9442934890588125), np.float64(0.6312811275323232), np.float64(0.6273153523604075), np.float64(0.8609698514143626), np.float64(0.2301956945254157), np.float64(0.8986909041802088), np.float64(0.23982035849864283), np.float64(0.17257912014611065), np.float64(0.40948424488306046), np.float64(0.17584022926166654), np.float64(0.16782860635430552), np.float64(0.34501490245262784), np.float64(0.21560605770597854), np.float64(0.6765405337015787), np.float64(0.8879698018232981), np.float64(0.8283970355987549), np.float64(0.6534903049468994), np.float64(0.813926895459493), np.float64(0.5787226359049479), np.float64(0.8066965838273367), np.float64(0.24330429142961899), np.float64(0.33117175303050317), np.float64(0.20756234740838408), np.float64(0.24190655599037805), np.float64(0.766126404205958), np.float64(0.4876450796922048), np.float64(0.8276207447052002), np.float64(0.25419187856217224), np.float64(0.3324192514022191), np.float64(0.27404927276074886), np.float64(0.8888094027837118), np.float64(0.7988641758759817), np.float64(0.8124612172444662), np.float64(0.44695746898651123), np.float64(0.5816796869039536), np.float64(0.33534609293565154), np.float64(0.5188199815650781), np.float64(0.48195503652095795), np.float64(0.31510257472594577), np.float64(0.4555454660827915), np.float64(0.5548075785239538), np.float64(0.47382228821516037), np.float64(0.6831019818782806), np.float64(0.8386221130688986), np.float64(0.24500601490338644), np.float64(0.2530677815278371), np.float64(0.40278149644533795), np.float64(0.34617047136028606), np.float64(0.33321308592955273), np.float64(0.45770165664725937), np.float64(0.9722626805305481), np.float64(0.9039098918437958), np.float64(0.2726825897116214), np.float64(0.28882001837094623), np.float64(0.7347263097763062), np.float64(0.8736663460731506), np.float64(0.3051852434873581), np.float64(0.25371450278908014), np.float64(0.36721526583035785), np.float64(0.5458635836839676), np.float64(0.5230024456977844), np.float64(0.19402248424012214), np.float64(0.3885352462530136), np.float64(0.8915409247080485), np.float64(0.6005016515652338), np.float64(0.9498989482720693), np.float64(0.20195365759233633), np.float64(0.6379032383362452), np.float64(0.3525775223970413), np.float64(0.2546738435824712), np.float64(0.40110763907432556), np.float64(0.8697525560855865), np.float64(0.2809013972679774), np.float64(0.1730516298363606), np.float64(0.18417873016248146), np.float64(0.18930586955199638), np.float64(0.3114228496948878), np.float64(0.24050614361961684), np.float64(0.45645823578039807), np.float64(0.21614240358273187), np.float64(0.6413658658663431), np.float64(0.17702576933273426), np.float64(0.49299106001853943), np.float64(0.6147913336753845), np.float64(0.3663787767291069), np.float64(0.2860940309862296), np.float64(0.9832915266354879), np.float64(0.26751418225467205), np.float64(0.6860196391741434), np.float64(0.4879290610551834), np.float64(0.5900031427542368), np.float64(0.24512786759684482), np.float64(0.1971810142082783), np.float64(0.23698376957327127), np.float64(0.9435446461041769), np.float64(0.3700704847772916), np.float64(0.7750309904416403), np.float64(0.2983312966922919), np.float64(0.3128468841314316), np.float64(0.16912053832008192), np.float64(0.45908716320991516), np.float64(0.7181194424629211), np.float64(0.5417883271972338), np.float64(0.7502139409383138), np.float64(0.483164186278979), np.float64(0.5681926757097244), np.float64(0.27592939299938735), np.float64(0.6505483090877533), np.float64(0.5959470942616463), np.float64(0.295137466241916), np.float64(0.1846856940537691), np.float64(0.5980857113997141), np.float64(0.8548624018828074), np.float64(0.4490267088015874), np.float64(0.6578175822893778), np.float64(0.7729635238647461), np.float64(0.49332287659247714), np.float64(0.5796004235744476), np.float64(0.604931632677714), np.float64(0.6000117758909861), np.float64(0.8581713736057281), np.float64(0.23462126614079656), np.float64(0.18300715919273594), np.float64(0.18303859451164803), np.float64(0.20595204232571027), np.float64(0.27517493565877277), np.float64(0.6170174777507782), np.float64(0.2121292892843485), np.float64(0.6385935967167219), np.float64(0.2797350703428189), np.float64(0.1675979650268952), np.float64(0.20200781330640893), np.float64(0.9052608807881674), np.float64(0.9518994092941284), np.float64(0.20086071958454946), np.float64(0.6702948609987894), np.float64(0.8849348028500875), np.float64(0.16811464292307696), np.float64(0.3547582449391484), np.float64(0.17591858973416188), np.float64(0.21705840341746807), np.float64(0.2509773559868336), np.float64(0.8383999466896057), np.float64(0.8554413020610809), np.float64(0.48819191532675177), np.float64(0.41175980865955353), np.float64(0.5554055273532867), np.float64(0.2046756281827887), np.float64(0.5436644653479258), np.float64(0.8585992058118185), np.float64(0.1732528436308106), np.float64(0.33976238283018273), np.float64(0.26240119710564613), np.float64(0.7778929136693478), np.float64(0.9910650253295898), np.float64(0.5152807285388311), np.float64(0.39886558800935745), np.float64(0.1962555650000771), np.float64(0.4630662550528844), np.float64(0.24665027111768723), np.float64(0.9231346050898234), np.float64(0.9164718190828959), np.float64(0.19603973906487226), np.float64(0.9438318312168121), np.float64(0.6565908392270406), np.float64(0.5304219573736191), np.float64(0.18183700709293285), np.float64(0.1791168648439149), np.float64(0.2489670291543007), np.float64(0.834763765335083), np.float64(0.6844506760438284), np.float64(0.6754817366600037), np.float64(0.41643306364615756), np.float64(0.9872577885786692), np.float64(0.6753078699111938), np.float64(0.18348545278422534), np.float64(0.3472660680611928), np.float64(0.5886623660723368), np.float64(0.8867007295290629), np.float64(0.34011147916316986), np.float64(0.17875621234998107), np.float64(0.6382446438074112), np.float64(0.7241127192974091), np.float64(0.24475183306882778), np.float64(0.20370909579408666), np.float64(0.8231501802802086), np.float64(0.9091430008411407), np.float64(0.44429456690947217), np.float64(0.8345614671707153), np.float64(0.21732060114542642), np.float64(0.4247401108344396), np.float64(0.23414592196544012), np.float64(0.22781522075335184), np.float64(0.25488269453247386), np.float64(0.5762126992146174), np.float64(0.3408190980553627), np.float64(0.686618705590566), np.float64(0.3858000735441844), np.float64(0.3366949278861284), np.float64(0.7585431039333344), np.float64(0.23555366326278696), np.float64(0.27818454056978226), np.float64(0.6998886913061142), np.float64(0.507678368439277), np.float64(0.7216160694758097), np.float64(0.18162561378752193), np.float64(0.8803295890490214), np.float64(0.8083859781424204), np.float64(0.26286133006215096), np.float64(0.4127214228113492), np.float64(0.44796553378303844), np.float64(0.25174076661157113), np.float64(0.22795151670773825), np.float64(0.1771481235822042), np.float64(0.7168544580539068), np.float64(0.5995955765247345), np.float64(0.2075274264983212), np.float64(0.31429103513558704), np.float64(0.4866009056568146), np.float64(0.9269820849100748), np.float64(0.8751417497793833), np.float64(0.3826135918498039), np.float64(0.8893485069274902), np.float64(0.7371391753355662), np.float64(0.500448872645696), np.float64(0.31541865070660907), np.float64(0.41756073633829754), np.float64(0.4397806127866109), np.float64(0.6205103596051534), np.float64(0.49293802430232364), np.float64(0.4558276409904162), np.float64(0.3261077105998993), np.float64(0.31606385360161465), np.float64(0.3628141699979703), np.float64(0.6609491457541784), np.float64(0.9488799770673116), np.float64(0.25273393373936415), np.float64(0.3497268557548523), np.float64(0.44469186892577756), np.float64(0.378178375462691), np.float64(0.2760411935547988), np.float64(0.673960934082667), np.float64(0.8816396494706472), np.float64(0.49289532005786896), np.float64(0.5950455417235693), np.float64(0.5474352339903513), np.float64(0.4846944610277812), np.float64(0.46345190207163495), np.float64(0.21213407839726037), np.float64(0.1943343828121821), np.float64(0.22507758652015278), np.float64(0.3969404697418213), np.float64(0.9010962148507436), np.float64(0.5292645047108332), np.float64(0.20930437246958414), np.float64(0.31926042089859646), np.float64(0.9503590762615204), np.float64(0.19090261279294887), np.float64(0.6325300137201945), np.float64(0.9300851623217264), np.float64(0.8928443590799967), np.float64(0.6485807796319326), np.float64(0.4905217212314407), np.float64(0.9332930644353231), np.float64(0.9397419293721517), np.float64(0.27157371242841083), np.float64(0.18741887854412198), np.float64(0.21380957153936228), np.float64(0.37177067436277866), np.float64(0.40726714581251144), np.float64(0.4638919085264206), np.float64(0.4597796102364858), np.float64(0.22388761242230734), np.float64(0.33546196669340134), np.float64(0.74892591436704), np.float64(0.28535026622315246), np.float64(0.8645890653133392), np.float64(0.4315968006849289), np.float64(0.9085271060466766), np.float64(0.9642849365870158), np.float64(0.38609463969866437), np.float64(0.30477622772256535), np.float64(0.9311202466487885), np.float64(0.20839079717795053), np.float64(0.3398945704102516), np.float64(0.45429089665412903), np.float64(0.3580160054067771), np.float64(0.2381797395646572), np.float64(0.2894213485221068), np.float64(0.6572305709123611), np.float64(0.5023224254449209), np.float64(0.8234769999980927), np.float64(0.3040294361611207), np.float64(0.48458806176980335), np.float64(0.494804793347915), np.float64(0.8260688980420431), np.float64(0.2033315822482109), np.float64(0.4136386886239052), np.float64(0.22259928658604622), np.float64(0.9025009373823801), np.float64(0.3046393650583923), np.float64(0.9029789964358012), np.float64(0.6498000224431356), np.float64(0.19432597048580647), np.float64(0.8520280520121256), np.float64(0.19920767160753408), np.float64(0.40712399532397586), np.float64(0.7426902949810028), np.float64(0.5021103198329607), np.float64(0.5961722731590271), np.float64(0.40364279349644977), np.float64(0.5747407625118891), np.float64(0.2335176677443087), np.float64(0.32155850778023404), np.float64(0.42728432019551593), np.float64(0.4970964888731639), np.float64(0.9208627740542094), np.float64(0.8750929882129034), np.float64(0.4205319831768672), np.float64(0.1823775862964491), np.float64(0.340383879840374), np.float64(0.5207297652959824), np.float64(0.3871205771962802), np.float64(0.8952980041503906), np.float64(0.24072830441097418), np.float64(0.4436017858485381), np.float64(0.3384608365595341), np.float64(0.8550879458586375), np.float64(0.43104220926761627), np.float64(0.27554087340831757), np.float64(0.841724693775177), np.float64(0.4993519087632497), np.float64(0.7689734896024069), np.float64(0.8361098368962606), np.float64(0.24830307190616926), np.float64(0.9410441021124522), np.float64(0.5399459972977638), np.float64(0.8537803987661997), np.float64(0.32090482115745544), np.float64(0.19586503113775203), np.float64(0.1812545626113812), np.float64(0.21255393605679274), np.float64(0.18484349983433881), np.float64(0.7573120395342509), np.float64(0.5434558826188246), np.float64(0.19093206571415067), np.float64(0.8791249096393585), np.float64(0.9162997802098592), np.float64(0.9027537902196249), np.float64(0.9957832396030426), np.float64(0.8789429167906443), np.float64(0.25451374364395934), np.float64(0.5700016816457113), np.float64(0.27292772258321446), np.float64(0.38299261033535004), np.float64(0.43968185782432556), np.float64(0.5282739847898483), np.float64(0.3085418517390887), np.float64(0.19517891888972372), np.float64(0.269049433991313), np.float64(0.24571378777424494), np.float64(0.3788488606611888), np.float64(0.5547477205594381), np.float64(0.9490906894207001), np.float64(0.27408127921322983), np.float64(0.5985214610894521), np.float64(0.5229606032371521), np.float64(0.46700359880924225), np.float64(0.2782062403857708), np.float64(0.5514249553283056), np.float64(0.7386577526728312), np.float64(0.8527434170246124), np.float64(0.6023003657658895), np.float64(0.8877322574456533), np.float64(0.7854356914758682), np.float64(0.31534454117839533), np.float64(0.3315181111296018), np.float64(0.597989946603775), np.float64(0.3661508609851201), np.float64(0.175546569051221), np.float64(0.3552167663971583), np.float64(0.7092937529087067), np.float64(0.4101049055655797), np.float64(0.30964291964968044), np.float64(0.9753626684347788), np.float64(0.8752306004365286), np.float64(0.38161777781594236), np.float64(0.2587663245697816), np.float64(0.3039003511269887), np.float64(0.16871246036316734), np.float64(0.19064335556079945), np.float64(0.22579897244698563), np.float64(0.2701668329536915), np.float64(0.25250867878397304), np.float64(0.29007472718755406), np.float64(0.5376776494085789), np.float64(0.4670555889606476), np.float64(0.7062070568402609), np.float64(0.5010742843151093), np.float64(0.961414615313212), np.float64(0.6131447752316793), np.float64(0.9544543127218882), np.float64(0.47470688819885254), np.float64(0.6879260540008545), np.float64(0.5152561217546463), np.float64(0.7002233465512594), np.float64(0.8528263171513876), np.float64(0.5950352201859156), np.float64(0.5402072221040726), np.float64(0.5872031847635905), np.float64(0.8300180087486903), np.float64(0.9361416498819987), np.float64(0.4440853347380956), np.float64(0.36883700639009476), np.float64(0.8874299824237823), np.float64(0.9118993679682413), np.float64(0.4836110683778922), np.float64(0.2462882800027728), np.float64(0.5063144316275915), np.float64(0.4532976970076561), np.float64(0.8169175585110983), np.float64(0.43491215258836746), np.float64(0.2882540396725138), np.float64(0.718910351395607), np.float64(0.6516665518283844), np.float64(0.3875255547463894), np.float64(0.517735943198204), np.float64(0.8378449579079946), np.float64(0.7582151715954145), np.float64(0.2789729345046605), np.float64(0.9670456647872925), np.float64(0.3481334125002225), np.float64(0.5587127804756165), np.float64(0.37981196741263074), np.float64(0.606245368719101), np.float64(0.4076330711444219), np.float64(0.33183514575163525), np.float64(0.28036940334519994), np.float64(0.9378536939620972), np.float64(0.606854205330213), np.float64(0.7121330897013346), np.float64(0.4606751998265584), np.float64(0.29102547094225883), np.float64(0.48355168600877124), np.float64(0.7138717373212179), np.float64(0.6259218156337738), np.float64(0.5399050712585449), np.float64(0.6685771445433298), np.float64(0.27162093420823413), np.float64(0.3934603730837504), np.float64(0.7425574958324432), np.float64(0.6023517996072769), np.float64(0.40533670286337536), np.float64(0.3767269179224968), np.float64(0.29152078554034233), np.float64(0.4782932897408803), np.float64(0.41870415583252907), np.float64(0.27256212880214054), np.float64(0.8870644172032675), np.float64(0.3234424317876498), np.float64(0.9194816052913666), np.float64(0.2552484485010306), np.float64(0.731576532125473), np.float64(0.8489796419938406), np.float64(0.5405232409636179), np.float64(0.6352130572001139), np.float64(0.4967484263082345), np.float64(0.8702622453371683), np.float64(0.8795836865901947), np.float64(0.2909795418381691), np.float64(0.3280800971357773), np.float64(0.9470387995243073), np.float64(0.5992901374896368), np.float64(0.30871253460645676), np.float64(0.5734392156203588), np.float64(0.359317143758138), np.float64(0.4091857286791007), np.float64(0.7321887835860252), np.float64(0.4944706509510676), np.float64(0.21396929242958626), np.float64(0.7980084717273712), np.float64(0.3020015029857556), np.float64(0.2746327718098958), np.float64(0.31185082842906314), np.float64(0.8841304083665212), np.float64(0.19074440359448394), np.float64(0.48070818682511646), np.float64(0.4023840129375458), np.float64(0.86812890569369), np.float64(0.32430181217690307), np.float64(0.5906137675046921), np.float64(0.837352454662323), np.float64(0.30168193702896434), np.float64(0.22946058260276914), np.float64(0.2529179345195492), np.float64(0.17228769357704246), np.float64(0.2996852832535903), np.float64(0.49177924791971844), np.float64(0.47310202444593114), np.float64(0.6513631939888), np.float64(0.280855272586147), np.float64(0.3117072475918879), np.float64(0.41279372572898865), np.float64(0.19333718127260605), np.float64(0.7988157471021017), np.float64(0.1899076992024978), np.float64(0.3675592044989268), np.float64(0.1721341348796462), np.float64(0.27213385080297786), np.float64(0.768289844195048), np.float64(0.17551069559218982), np.float64(0.23225402490546307), np.float64(0.5262444745749235), np.float64(0.7010624334216118), np.float64(0.6793039093414942), np.float64(0.20188844374691448), np.float64(0.3251040205359459), np.float64(0.8894985218842825), np.float64(0.6244952529668808), np.float64(0.71335036555926), np.float64(0.7578606506188711), np.float64(0.21288545740147433), np.float64(0.32928314556678134), np.float64(0.17577664476508895), np.float64(0.2820654691507419), np.float64(0.36254044622182846), np.float64(0.19908806091795364), np.float64(0.9101656476656595), np.float64(0.6642086406548818), np.float64(0.2375681617607673), np.float64(0.9611601730187734), np.float64(0.4214436610539754), np.float64(0.21529131134351095), np.float64(0.7970792055130005), np.float64(0.5004113217194875), np.float64(0.3961290990312894), np.float64(0.40458938479423523), np.float64(0.21325209612647691), np.float64(0.9359428385893503), np.float64(0.1990917336382457), np.float64(0.49781065434217453), np.float64(0.3568729851394892), np.float64(0.9435950716336569), np.float64(0.34593673298756283), np.float64(0.26637764771779376), np.float64(0.5220721885561943), np.float64(0.6374089419841766), np.float64(0.32244979466001195), np.float64(0.24119918358822665), np.float64(0.9466401835282644), np.float64(0.37898808158934116), np.float64(0.44963162019848824), np.float64(0.8221631844838461), np.float64(0.3064991272985935), np.float64(0.5249288243552049), np.float64(0.9702337384223938), np.float64(0.7548885146776835), np.float64(0.4393869936466217), np.float64(0.1675260522509537), np.float64(0.20207596632341543), np.float64(0.850683311621348), np.float64(0.1732999728216479), np.float64(0.31036656474073726), np.float64(0.48643966019153595), np.float64(0.2770343686764439), np.float64(0.2950096031030019), np.float64(0.27812871367981035), np.float64(0.4196302518248558), np.float64(0.6657873367269834), np.float64(0.22139164557059607), np.float64(0.44549617916345596), np.float64(0.5712685684363047), np.float64(0.34306662157177925), np.float64(0.26951612407962483), np.float64(0.34508609771728516), np.float64(0.5766599206253886), np.float64(0.5815796926617622), np.float64(0.3574720695614815), np.float64(0.6947241922219595), np.float64(0.23183061932892693), np.float64(0.7742328147093455), np.float64(0.2698179905613263), np.float64(0.2074937743988509), np.float64(0.2655925089493394), np.float64(0.9323231975237528), np.float64(0.2590370611966743), np.float64(0.3063783332084616), np.float64(0.4339909764627616), np.float64(0.9356078704198202), np.float64(0.9072216153144836), np.float64(0.7897394994894663), np.float64(0.5018938264499108), np.float64(0.4149421552817027), np.float64(0.5822340895732244), np.float64(0.6739006141821543), np.float64(0.24216919330259165), np.float64(0.6259751071532568), np.float64(0.9156818389892578), np.float64(0.184988963107268), np.float64(0.1728464901316329), np.float64(0.711862047513326), np.float64(0.24809824799497923), np.float64(0.29836654911438626), np.float64(0.3444019990662734), np.float64(0.26736204139888287), np.float64(0.5297923783461252), np.float64(0.9387607673803965), np.float64(0.9249311884244283), np.float64(0.19494260661303997), np.float64(0.3389585701127847), np.float64(0.3043726198375225), np.float64(0.5327516595522562), np.float64(0.22087381531794867), np.float64(0.21025142609141767), np.float64(0.3109283074736595), np.float64(0.43598297486702603), np.float64(0.17444652826331244), np.float64(0.8318523168563843), np.float64(0.2578626175721486), np.float64(0.3031119828422864), np.float64(0.46646707753340405), np.float64(0.7996511161327362), np.float64(0.4155728779733181), np.float64(0.2837582578261693), np.float64(0.7336275478204092), np.float64(0.18198783307646713), np.float64(0.22446798036495844), np.float64(0.3478133200357358), np.float64(0.5515832503636678), np.float64(0.3156689132253329), np.float64(0.7732305924097697), np.float64(0.44945594916741055), np.float64(0.25369439274072647), np.float64(0.35177935908238095), np.float64(0.975541333357493), np.float64(0.19517226672420898), np.float64(0.26626738156968105), np.float64(0.46848416328430176), np.float64(0.20614962093532085), np.float64(0.27185762394219637), np.float64(0.8014594068129858), np.float64(0.3310509112974008), np.float64(0.43045488993326825), np.float64(0.23972256109118462), np.float64(0.2877364680171013), np.float64(0.7862750341494879), np.float64(0.5919578323761622), np.float64(0.17813036497682333), np.float64(0.5140777081251144), np.float64(0.28347712258497876), np.float64(0.4415650765101115), np.float64(0.46981068948904675), np.float64(0.8662463227907816), np.float64(0.17430396711764237), np.float64(0.9783842265605927), np.float64(0.49821770687898), np.float64(0.6742197970549265), np.float64(0.6803061266740164), np.float64(0.3327246382832527), np.float64(0.47904972235361737), np.float64(0.44844405353069305), np.float64(0.33941075454155606), np.float64(0.20789582406481108), np.float64(0.610024464627107), np.float64(0.28928806881109875), np.float64(0.3804694364468257), np.float64(0.20118842295293385), np.float64(0.25582006069210667), np.float64(0.5872242699066798), np.float64(0.9810483157634735), np.float64(0.9565340379873911), np.float64(0.6394494225581487), np.float64(0.6377710302670797), np.float64(0.5663193712631861), np.float64(0.5149661054213842), np.float64(0.8650351961453756), np.float64(0.8759350478649139), np.float64(0.8339843501647314), np.float64(0.6042926882704099), np.float64(0.7468325942754745), np.float64(0.6868112981319427), np.float64(0.2785947223504384), np.float64(0.5217630714178085), np.float64(0.9694617688655853), np.float64(0.5806905825932821), np.float64(0.21757970129450163), np.float64(0.6949081122875214), np.float64(0.49880815545717877), np.float64(0.1949650471409162), np.float64(0.19749674837415418), np.float64(0.3240765829881032), np.float64(0.18023612179482976), np.float64(0.423729012409846), np.float64(0.2897331230342388), np.float64(0.3678693740318219), np.float64(0.9178063273429871), np.float64(0.5363134443759918), np.float64(0.1775629817469356), np.float64(0.5725824137528738), np.float64(0.523942694067955), np.float64(0.5540992816289266), np.float64(0.47392985721429187), np.float64(0.34232232968012494), np.float64(0.26591704203747213), np.float64(0.6375274459520975), np.float64(0.5568970044453939), np.float64(0.4089124056044966), np.float64(0.6987711191177368), np.float64(0.8476565927267075), np.float64(0.5977072914441427), np.float64(0.33955764894684154), np.float64(0.665420301258564), np.float64(0.39327990512053174), np.float64(0.2669273850818475), np.float64(0.2085392752972742), np.float64(0.9011925458908081), np.float64(0.5047572006781896), np.float64(0.27277370914816856), np.float64(0.7277993659178416), np.float64(0.9612111846605936), np.float64(0.5134416371583939), np.float64(0.2721155645946662), np.float64(0.18972353109469017), np.float64(0.7466973314682642), np.float64(0.9322033127148946), np.float64(0.5750446344415346), np.float64(0.18261637864634395), np.float64(0.22876889755328497), np.float64(0.2763870730996132), np.float64(0.23991944516698518), np.float64(0.9263074497381846), np.float64(0.37014294664065045), np.float64(0.6865595181783041), np.float64(0.4378300706545512), np.float64(0.7563202393551668), np.float64(0.5788096189498901), np.float64(0.2431782285372416), np.float64(0.48971931636333466), np.float64(0.22500721908484897), np.float64(0.6376298566659292), np.float64(0.43170516192913055), np.float64(0.21059244452044368), np.float64(0.3480152115225792), np.float64(0.4821303188800812), np.float64(0.42650799949963886), np.float64(0.3162660052378972), np.float64(0.19333767239004374), np.float64(0.5031779011090597), np.float64(0.22230547309542695), np.float64(0.39688410858313244), np.float64(0.6902295152346293), np.float64(0.5171660383542379), np.float64(0.8642977178096771), np.float64(0.5385568787654241), np.float64(0.558258593082428), np.float64(0.7390259603659312), np.float64(0.8584004243214926), np.float64(0.407526175181071), np.float64(0.5135795176029205), np.float64(0.7198882102966309), np.float64(0.39776961257060367), np.float64(0.5763514935970306), np.float64(0.5826446016629537), np.float64(0.23615954257547855), np.float64(0.5912029991547266), np.float64(0.670209656159083), np.float64(0.4043627977371216), np.float64(0.8528696298599243), np.float64(0.8810641864935557), np.float64(0.3887673479815324), np.float64(0.5055727163950602), np.float64(0.3464307238658269), np.float64(0.5405078579982122), np.float64(0.8327090640862783), np.float64(0.5075295468171438), np.float64(0.8154913187026978), np.float64(0.5663614024718603), np.float64(0.16796233235315108), np.float64(0.9611011644204458), np.float64(0.28200890496373177), np.float64(0.18186913155174503), np.float64(0.8466959695021311), np.float64(0.5368370314439138), np.float64(0.9523018499215444), np.float64(0.5303692370653152), np.float64(0.20188044345316788), np.float64(0.3369682642320792), np.float64(0.553589661916097), np.float64(0.6393973728020986), np.float64(0.53468685845534), np.float64(0.17454222331677252), np.float64(0.23258563751975694), np.float64(0.48245397706826526), np.float64(0.8337726990381876), np.float64(0.806971917549769), np.float64(0.3625048839797576), np.float64(0.5055028746525446), np.float64(0.838211809595426), np.float64(0.9133350352446238), np.float64(0.2592885208626588), np.float64(0.5108332435290018), np.float64(0.18822580315948775), np.float64(0.16996176348766312), np.float64(0.2626143991947174), np.float64(0.8303352023164431), np.float64(0.19726933888159692), np.float64(0.20575111576666436), np.float64(0.78142778078715), np.float64(0.3471964228277405), np.float64(0.5549668172995249), np.float64(0.41910723845163983), np.float64(0.9521169463793436), np.float64(0.2211800670872132), np.float64(0.3780272367099921), np.float64(0.24152887177964052), np.float64(0.3154292205969493), np.float64(0.4193524370590846), np.float64(0.20015986387928328), np.float64(0.18520349745328227), np.float64(0.32506178691983223), np.float64(0.431971309085687), np.float64(0.5998146235942841), np.float64(0.33103288275500137), np.float64(0.5123039527485768), np.float64(0.8061769008636475), np.float64(0.9091949661572775), np.float64(0.9535126487414042), np.float64(0.18809035109976927), np.float64(0.22326619739881912), np.float64(0.23333534536262354), np.float64(0.39857269326845807), np.float64(0.45255590478579205), np.float64(0.3507799953222275), np.float64(0.7298227250576019), np.float64(0.18309995532035828), np.float64(0.44615206122398376), np.float64(0.8182549824317297), np.float64(0.17528906146374842), np.float64(0.3710070749123891), np.float64(0.5450302312771479), np.float64(0.5814527372519175), np.float64(0.3793734659751256), np.float64(0.5528144091367722), np.float64(0.20984075544402003), np.float64(0.9345505634943644), np.float64(0.38902673373619717), np.float64(0.2725894823670387), np.float64(0.9111606975396475), np.float64(0.7971283694108328), np.float64(0.6337045729160309), np.float64(0.4605557943383853), np.float64(0.2387338907768329), np.float64(0.714155932267507), np.float64(0.47624743233124417), np.float64(0.19363693365206322), np.float64(0.25813430756291683), np.float64(0.3969416494170825), np.float64(0.4640369365612666), np.float64(0.16728304511101064), np.float64(0.4412072276075681), np.float64(0.4634552026788394), np.float64(0.21381063937830427), np.float64(0.28560097763935727), np.float64(0.42890740806857747), np.float64(0.5949705541133881), np.float64(0.48591015736262005), np.float64(0.20480403040225306), np.float64(0.5583448012669882), np.float64(0.5017537772655487), np.float64(0.4544473762313525), np.float64(0.6464124917984009), np.float64(0.6969030400117239), np.float64(0.43651263664166134), np.float64(0.3525241216023763), np.float64(0.5258357773224512), np.float64(0.27340586856007576), np.float64(0.9647224446137747), np.float64(0.34320910771687824), np.float64(0.7982026239236196), np.float64(0.7286007106304169), np.float64(0.7901578346888224), np.float64(0.3919606835115701), np.float64(0.9193070928255717), np.float64(0.5131985495487849), np.float64(0.2864792502174775), np.float64(0.21203341814301288), np.float64(0.5191767513751984), np.float64(0.5854510366916656), np.float64(0.7187003592650095), np.float64(0.24634609930217266), np.float64(0.507303204232206), np.float64(0.4327800771182713), np.float64(0.2842435787121455), np.float64(0.3408431963374217), np.float64(0.2594784580481549), np.float64(0.29422422374288243), np.float64(0.3984266519546509), np.float64(0.7969371974468231), np.float64(0.2550414303938548), np.float64(0.20706553879426792), np.float64(0.5459772398074468), np.float64(0.7936974167823792), np.float64(0.6105990757544836), np.float64(0.7792407992916802), np.float64(0.2960840401550134), np.float64(0.17098989275594553), np.float64(0.17566877510398626), np.float64(0.18090221922223768), np.float64(0.6524926722049713), np.float64(0.5196327418088913), np.float64(0.5154943068822225), np.float64(0.34732522815465927), np.float64(0.5012125061281646), np.float64(0.7433018883069357), np.float64(0.5232665340105692), np.float64(0.423808587094148), np.float64(0.8455976247787476), np.float64(0.4845208078622818), np.float64(0.24965618550777435), np.float64(0.5000026126702627), np.float64(0.3808753465612729), np.float64(0.795858159661293), np.float64(0.2752034443741043), np.float64(0.28949084629615146), np.float64(0.43930549671252567), np.float64(0.4645784745613734), np.float64(0.3132115372767051), np.float64(0.4540898725390434), np.float64(0.8996176918347677), np.float64(0.9461553394794464), np.float64(0.6226563254992167), np.float64(0.3370287170012792), np.float64(0.30658671756585437), np.float64(0.7996560037136078), np.float64(0.25601094712813693), np.float64(0.8254339496294657), np.float64(0.47986618677775067), np.float64(0.37573469306031865), np.float64(0.6445798675219218), np.float64(0.37686258430282277), np.float64(0.25079277049129206), np.float64(0.32757352044185), np.float64(0.9518048266569773), np.float64(0.18693159132574996), np.float64(0.387465746452411), np.float64(0.18476233320931593), np.float64(0.3066993107398351), np.float64(0.5135458558797836), np.float64(0.31291590941449005), np.float64(0.4446902001897494), np.float64(0.3713277839124203), np.float64(0.9435212810834249), np.float64(0.5517907390991846), np.float64(0.5258416930834452), np.float64(0.5992662658294042), np.float64(0.218029098585248), np.float64(0.3082169375071923), np.float64(0.6614822844664255), np.float64(0.3291570693254471), np.float64(0.43479491273562115), np.float64(0.6573333442211151), np.float64(0.40402701248725253), np.float64(0.30135731523235637), np.float64(0.45232994357744855), np.float64(0.3900246222813924), np.float64(0.5254072646299998), np.float64(0.6223669499158859), np.float64(0.9278552929560343), np.float64(0.47611798842748004), np.float64(0.21711601503193378), np.float64(0.6507614701986313), np.float64(0.23686842123667398), np.float64(0.7773324847221375), np.float64(0.384667528172334), np.float64(0.3095783789952596), np.float64(0.7971479197343191), np.float64(0.5816634049018224), np.float64(0.9372199475765228), np.float64(0.23663694287339845), np.float64(0.7113819817701975), np.float64(0.8867591023445129), np.float64(0.20108603406697512), np.float64(0.22986300910512605), np.float64(0.6994846165180206), np.float64(0.9250930547714233), np.float64(0.31174013763666153), np.float64(0.9502465724945068), np.float64(0.21078533570592603), np.float64(0.9085257351398468), np.float64(0.22213380395745239), np.float64(0.3138200861091415), np.float64(0.639607218404611), np.float64(0.23796112711230913), np.float64(0.23772867769002914), np.float64(0.5512217531601588), np.float64(0.25652542151510715), np.float64(0.38395121196905774), np.float64(0.46085090190172195), np.float64(0.2978295005547504), np.float64(0.460237517952919), np.float64(0.35299674421548843), np.float64(0.33855701486269635), np.float64(0.2583249316861232), np.float64(0.26868791319429874), np.float64(0.6407665610313416), np.float64(0.20380487851798534), np.float64(0.8572944005330404), np.float64(0.18875719079126915), np.float64(0.389880508184433), np.float64(0.20368739093343416), np.float64(0.54963385562102), np.float64(0.3679227481285731), np.float64(0.26161363057326525), np.float64(0.40232376754283905), np.float64(0.38115336497624713), np.float64(0.2978214825658749), np.float64(0.8147236704826355), np.float64(0.967143048842748), np.float64(0.31704051916797954), np.float64(0.6728792190551758), np.float64(0.33886956175168353), np.float64(0.6135364770889282), np.float64(0.3990850887882213), np.float64(0.23134322992215553), np.float64(0.18988773288826147), np.float64(0.7246384272972742), np.float64(0.1879618480646362), np.float64(0.705058882633845), np.float64(0.3665884944299857), np.float64(0.3877406393488248), np.float64(0.4744640539089839), np.float64(0.30905333161354065), np.float64(0.3826686752339204), np.float64(0.2830725684762001), np.float64(0.59962826470534), np.float64(0.3247136287391186), np.float64(0.5132803370555242), np.float64(0.8792809794346491), np.float64(0.2304635408023993), np.float64(0.3905362660686175), np.float64(0.6389108051856359), np.float64(0.43414626518885296), np.float64(0.26742561037341755), np.float64(0.25262589131792385), np.float64(0.31249430278937024), np.float64(0.35778480519851047), np.float64(0.2401883906374375), np.float64(0.5446861237287521), np.float64(0.3572907578200102), np.float64(0.19230842233325043), np.float64(0.8769135971864065), np.float64(0.44106148183345795), np.float64(0.6178903331359228), np.float64(0.7175262173016866), np.float64(0.6701177954673767), np.float64(0.7342286556959152), np.float64(0.7206792732079824), np.float64(0.5688759783903757), np.float64(0.26307090123494464), np.float64(0.5780529578526815), np.float64(0.4526088585456212), np.float64(0.5673754165569941), np.float64(0.25478835136406514), np.float64(0.34284490750481683), np.float64(0.6544113159179688), np.float64(0.2599212115940948), np.float64(0.6153204441070557), np.float64(0.36244838529576856), np.float64(0.5160732806349794), np.float64(0.24553168596078953), np.float64(0.23009224670628706), np.float64(0.2204956691712141), np.float64(0.3104504868388176), np.float64(0.4971846488285034), np.float64(0.40543752412001294), np.float64(0.6996018042167028), np.float64(0.6389176348845164), np.float64(0.5089357395966848), np.float64(0.38249538838863373), np.float64(0.6891603668530782), np.float64(0.21513342189912996), np.float64(0.1974863900395576), np.float64(0.22753501817351207), np.float64(0.3016841188073158), np.float64(0.6338553130626678), np.float64(0.6539995074272156), np.float64(0.2914457470178604), np.float64(0.4703395913044612), np.float64(0.9361189107100168), np.float64(0.5330173124869665), np.float64(0.7785585323969523), np.float64(0.21865149587392807), np.float64(0.7599846025307974), np.float64(0.29265742748975754), np.float64(0.2997456155717373), np.float64(0.7487569749355316), np.float64(0.2954696789383888), np.float64(0.31901871661345166), np.float64(0.4429793606201808), np.float64(0.8975428839524587), np.float64(0.6848960220813751), np.float64(0.4135242700576782), np.float64(0.31710923463106155), np.float64(0.963873823483785), np.float64(0.9408891101678213), np.float64(0.3635520910223325), np.float64(0.7293339769045512), np.float64(0.3159244967003663), np.float64(0.42513716220855713), np.float64(0.5619466106096903), np.float64(0.9453027149041494), np.float64(0.9143475194772085), np.float64(0.32696547110875446), np.float64(0.312498493740956), np.float64(0.5831489960352579), np.float64(0.4452982097864151), np.float64(0.32080696150660515), np.float64(0.24345946760149673), np.float64(0.8191592494646708), np.float64(0.5703723082939783), np.float64(0.9820051391919454), np.float64(0.4852481136719386), np.float64(0.5820314089457194), np.float64(0.44348499675591785), np.float64(0.3317268031338851), np.float64(0.3586048608024915), np.float64(0.3710623662918806), np.float64(0.36383744577566784), np.float64(0.4977704606329401), np.float64(0.335241191710035), np.float64(0.18945930626553795), np.float64(0.9794210294882456), np.float64(0.9587211906909943), np.float64(0.8252797325452169), np.float64(0.6640746096769968), np.float64(0.3741021479169528), np.float64(0.2298078889871249), np.float64(0.4815969516833623), np.float64(0.9961417416731516), np.float64(0.7772803902626038), np.float64(0.5649938980738322), np.float64(0.9054509401321411), np.float64(0.25896809125940007), np.float64(0.5262402445077896), np.float64(0.8776647945245107), np.float64(0.6531693090995153), np.float64(0.8787593841552734), np.float64(0.39883285264174145), np.float64(0.4574249063928922), np.float64(0.6443046778440475), np.float64(0.1659018201753497), np.float64(0.4605604906876882), np.float64(0.46308580537637073), np.float64(0.5064491629600525), np.float64(0.7078818182150522), np.float64(0.6320690214633942), np.float64(0.5572215070327123), np.float64(0.5089433342218399), np.float64(0.27990439161658287), np.float64(0.32362226645151776), np.float64(0.5846098860104879), np.float64(0.2155586120982965), np.float64(0.7953556776046753), np.float64(0.47420111298561096), np.float64(0.3694639429450035), np.float64(0.3700104355812073), np.float64(0.9436659713586172), np.float64(0.5830604732036591), np.float64(0.49951562158336554), np.float64(0.43982545907298726), np.float64(0.34084027508894604), np.float64(0.44827374815940857), np.float64(0.20267259577910104), np.float64(0.6868928770224253), np.float64(0.6135903298854828), np.float64(0.6302323738733927), np.float64(0.7418654561042786), np.float64(0.5984897166490555), np.float64(0.30360570053259534), np.float64(0.9050331811110178), np.float64(0.29010146607955295), np.float64(0.6175869653622309), np.float64(0.8605140248934428), np.float64(0.7791318992773691), np.float64(0.6903298099835714), np.float64(0.3941153983275096), np.float64(0.7903172522783279), np.float64(0.34481996297836304), np.float64(0.6807981332143148), np.float64(0.23523944492141405), np.float64(0.3836367167532444), np.float64(0.41632726788520813), np.float64(0.4621263219354053), np.float64(0.18444689254586896), np.float64(0.5269579937060674), np.float64(0.9069166084130605), np.float64(0.3560569956898689), np.float64(0.8731850385665894), np.float64(0.3911399766802788), np.float64(0.17115967823580527), np.float64(0.29553094153137255), np.float64(0.46196748316287994), np.float64(0.27821994572877884), np.float64(0.4207126647233963), np.float64(0.6020675425728162), np.float64(0.38490278273820877), np.float64(0.3796081965168317), np.float64(0.47425637642542523), np.float64(0.6299981127182642), np.float64(0.8143827418486277), np.float64(0.30634351819753647), np.float64(0.17253488612671694), np.float64(0.3547283411026001), np.float64(0.23682946929087242), np.float64(0.26558729882041615), np.float64(0.5658994863430659), np.float64(0.22969802096486092), np.float64(0.45036374434130266), np.float64(0.24657970170180002), np.float64(0.2997964757184188), np.float64(0.2293230292464917), np.float64(0.3273031810919444), np.float64(0.19915717033048472), np.float64(0.1995783830449606), np.float64(0.5784445653359095), np.float64(0.29785746584335965), np.float64(0.20521579465518394), np.float64(0.3345813949902852), np.float64(0.5200266068180402), np.float64(0.9288884301980337), np.float64(0.5776833991209666), np.float64(0.8370748460292816), np.float64(0.5995500981807709), np.float64(0.21744167742629847), np.float64(0.822557270526886), np.float64(0.3893454745411873), np.float64(0.5088374068339666), np.float64(0.589747761686643), np.float64(0.1733659532716653), np.float64(0.18166273046517745), np.float64(0.29364224212865037), np.float64(0.4194412709524234), np.float64(0.1786557127100726), np.float64(0.9186210532983144), np.float64(0.33707507513463497), np.float64(0.5206106702486674), np.float64(0.35194509228070575), np.float64(0.18426261578376094), np.float64(0.21067031969626746), np.float64(0.5696784059206644), np.float64(0.28251565765822306), np.float64(0.24003158820172152), np.float64(0.8468675116697947), np.float64(0.28479293268173933), np.float64(0.8524875044822693), np.float64(0.21440626494586468), np.float64(0.22069892186361054), np.float64(0.37824012463291484), np.float64(0.27687548915855587), np.float64(0.780294269323349), np.float64(0.26666325330734253), np.float64(0.7790306607882181), np.float64(0.3718782886862755), np.float64(0.3186534171303113), np.float64(0.38831163694461185), np.float64(0.4552619680762291), np.float64(0.7310284723838171), np.float64(0.5009565353393555), np.float64(0.31628731576104957), np.float64(0.6134686122337977), np.float64(0.5039320091406504), np.float64(0.34693268189827603), np.float64(0.26676315162330866), np.float64(0.23460131883621216), np.float64(0.9226565659046173), np.float64(0.20051074617852768), np.float64(0.8692294955253601), np.float64(0.3354419780274232), np.float64(0.5146640837192535), np.float64(0.8191570540269216), np.float64(0.6607009917497635), np.float64(0.5050711582104365), np.float64(0.41227169935397495), np.float64(0.48242729157209396), np.float64(0.5954123288393021), np.float64(0.8739481071631113), np.float64(0.297164894019564), np.float64(0.5241495619217554), np.float64(0.403120756149292), np.float64(0.1695421179077433), np.float64(0.28968121111392975), np.float64(0.20908620084325472), np.float64(0.29944608360528946), np.float64(0.2125393549601237), np.float64(0.6876718054215113), np.float64(0.392614618409425), np.float64(0.6140483419100443), np.float64(0.884755551815033), np.float64(0.22806784013907114), np.float64(0.4815322731932004), np.float64(0.2691541562477748), np.float64(0.4960279663403829), np.float64(0.37594085186719894), np.float64(0.31118487442533177), np.float64(0.1946083198611935), np.float64(0.20097982298951442), np.float64(0.5531683017810186), np.float64(0.35227477302153903), np.float64(0.5878724108139673), np.float64(0.2780442765603463), np.float64(0.9088407158851624), np.float64(0.5788097319503626), np.float64(0.5597426767150561), np.float64(0.18224015505984426), np.float64(0.4624350269635518), np.float64(0.636752168337504), np.float64(0.3403610934813817), np.float64(0.3470773970087369), np.float64(0.9237215717633566), np.float64(0.41547583788633347), np.float64(0.676042377948761), np.float64(0.5624824812014898), np.float64(0.6757676849762598), np.float64(0.5349649786949158), np.float64(0.22371888409058252), np.float64(0.6364960124095281), np.float64(0.20352837288131317), np.float64(0.5239908794562022), np.float64(0.24085672510166964), np.float64(0.4335884004831314), np.float64(0.8897411227226257), np.float64(0.9618274370829264), np.float64(0.3450870765373111), np.float64(0.17741100723894002), np.float64(0.2953548344473044), np.float64(0.35816065532465774), np.float64(0.20964768432410588), np.float64(0.8878553410371145), np.float64(0.26787057639012346), np.float64(0.400959591070811), np.float64(0.5702734341224035), np.float64(0.798522541920344), np.float64(0.21862361766397953), np.float64(0.5393266131480535), np.float64(0.9376305441061655), np.float64(0.6417535543441772), np.float64(0.24072883122911057), np.float64(0.5290106485287348), np.float64(0.32042156159877777), np.float64(0.6738067070643107), np.float64(0.5487207472324371), np.float64(0.17165548969448233), np.float64(0.8032508591810862), np.float64(0.18267110750700036), np.float64(0.2063914081081748), np.float64(0.9534024397532145), np.float64(0.5029928187529246), np.float64(0.8087765872478485), np.float64(0.4019026383757591), np.float64(0.8084173599878947), np.float64(0.8195624450842539), np.float64(0.1769022676938524), np.float64(0.2726748200754325), np.float64(0.6084206203619639), np.float64(0.6708137094974518), np.float64(0.1799566341408839), np.float64(0.5325192759434382), np.float64(0.19706417682270208), np.float64(0.2340687612692515), np.float64(0.19165892216066518), np.float64(0.8005459805329641), np.float64(0.25650010044531274), np.float64(0.7187908192475637), np.float64(0.8582756916681925), np.float64(0.9237212240695953), np.float64(0.9737480183442434), np.float64(0.9978134234746298), np.float64(0.7526922424634298), np.float64(0.2217285893857479), np.float64(0.5379960884650549), np.float64(0.1695908328401856), np.float64(0.21436491092511764), np.float64(0.32854656378428143), np.float64(0.9139622549215952), np.float64(0.44348674919456244), np.float64(0.8413971563180288), np.float64(0.27357703757782775), np.float64(0.668678750594457), np.float64(0.27199622243642807), np.float64(0.5255496427416801), np.float64(0.2086401873578628), np.float64(0.6038463314374288), np.float64(0.17101918277330697), np.float64(0.6583275397618612), np.float64(0.43961629768212634), np.float64(0.4716947327057521), np.float64(0.32419642557700473), np.float64(0.2737852483987808), np.float64(0.36522679900129634), np.float64(0.22703243286620514), np.float64(0.4608430713415146), np.float64(0.3622280213360985), np.float64(0.5010754664738973), np.float64(0.4141206940015157), np.float64(0.5699180240432421), np.float64(0.8845657706260681), np.float64(0.1872719150657455), np.float64(0.26476361509412527), np.float64(0.43295274178187054), np.float64(0.3127740590522687), np.float64(0.403083357339104), np.float64(0.3469241373240948), np.float64(0.4750830332438151), np.float64(0.2578629121805231), np.float64(0.3107115455592672), np.float64(0.3265359078844388), np.float64(0.3753990630308787), np.float64(0.20346256718039513), np.float64(0.3305741647879283), np.float64(0.20451834301153818), np.float64(0.5717993776003519), np.float64(0.6412260234355927), np.float64(0.813257485628128), np.float64(0.5916212300459543), np.float64(0.5565982100864252), np.float64(0.42959748674184084), np.float64(0.40918976565202075), np.float64(0.24051857615510622), np.float64(0.3132874481379986), np.float64(0.36749263977011043), np.float64(0.17306864841278488), np.float64(0.9761049846808115), np.float64(0.7741201718648275), np.float64(0.39616336797674495), np.float64(0.2768008817608158), np.float64(0.9105202555656433), np.float64(0.3368052840232849), np.float64(0.812326043844223), np.float64(0.8781731724739075), np.float64(0.5102949390808741), np.float64(0.9571972986062368), np.float64(0.26520073289672536), np.float64(0.37008389582236606), np.float64(0.8046689629554749), np.float64(0.19848791975528002), np.float64(0.18297916976734996), np.float64(0.36169547587633133), np.float64(0.43838076790173847), np.float64(0.27549854169289273), np.float64(0.24984595055381456), np.float64(0.3047038484364748), np.float64(0.21467110887169838), np.float64(0.4231738845507304), np.float64(0.5790459165970484), np.float64(0.8785448968410492), np.float64(0.33781280368566513), np.float64(0.23830535200734934), np.float64(0.6077125271161398), np.float64(0.28716475268205005), np.float64(0.3473268424471219), np.float64(0.6731229722499847), np.float64(0.45963215827941895), np.float64(0.5460852086544037), np.float64(0.37470597090820473), np.float64(0.5534999072551727), np.float64(0.3820626636346181), np.float64(0.8194058239459991), np.float64(0.39932895090896636), np.float64(0.5112291648983955), np.float64(0.24274088442325592), np.float64(0.46522646645704907), np.float64(0.2497043969730536), np.float64(0.6413952459891638), np.float64(0.3210972473025322), np.float64(0.8140055537223816), np.float64(0.364711066087087), np.float64(0.7560747961203257), np.float64(0.2547903891342382), np.float64(0.2804000365237395), np.float64(0.5501105040311813), np.float64(0.35446056723594666), np.float64(0.38288889825344086), np.float64(0.7497509717941284), np.float64(0.34793638437986374), np.float64(0.2587720821611583), np.float64(0.42750342686971027), np.float64(0.9854116936524709), np.float64(0.1944498000666499), np.float64(0.4999618810640338), np.float64(0.17089296421424174), np.float64(0.29577936852971715), np.float64(0.7052836070458094), np.float64(0.6724169303973516), np.float64(0.32746835188784945), np.float64(0.7856393655141195), np.float64(0.6930278670042753), np.float64(0.5983523192505041), np.float64(0.39970670516292256), np.float64(0.3993456553046902), np.float64(0.9310958584149679), np.float64(0.5084260652462641), np.float64(0.33841760580738384), np.float64(0.30170680830876034), np.float64(0.8910463651021322), np.float64(0.6854569216569265), np.float64(0.836739127834638), np.float64(0.23814795166254044), np.float64(0.2639438087741534), np.float64(0.2604091626902421), np.float64(0.30817968118935823), np.float64(0.4947499980529149), np.float64(0.7204550306002299), np.float64(0.19349708873778582), np.float64(0.3602755094567935), np.float64(0.41442184646924335), np.float64(0.38903072476387024), np.float64(0.9316705962022146), np.float64(0.48110804955164593), np.float64(0.23755678782860437), np.float64(0.495576947927475), np.float64(0.4148627519607544), np.float64(0.4486220230658849), np.float64(0.8875233431657156), np.float64(0.47326917946338654), np.float64(0.26793367908491444), np.float64(0.42087436219056445), np.float64(0.2796825991633038), np.float64(0.26603078562766314), np.float64(0.2714737413916737), np.float64(0.3415192626416683), np.float64(0.3842959109072884), np.float64(0.33863090723752975), np.float64(0.6345863739649454), np.float64(0.5818249206834784), np.float64(0.19665560560921827), np.float64(0.7398464381694794), np.float64(0.9278534253438314), np.float64(0.26690123649314046), np.float64(0.29343190292517346), np.float64(0.27316985248277587), np.float64(0.340479526668787), np.float64(0.45824066797892254), np.float64(0.5143326936910549), np.float64(0.20867316300670305), np.float64(0.3180755948026975), np.float64(0.3347681916008393), np.float64(0.2440351527184248), np.float64(0.5138258536656698), np.float64(0.6060167228182157), np.float64(0.17350601855044565), np.float64(0.21009266764546433), np.float64(0.3591725801428159), np.float64(0.4376840144395828), np.float64(0.5080184936523438), np.float64(0.5062568386395773), np.float64(0.7272694756587347), np.float64(0.9437768459320068), np.float64(0.2272977363318205), np.float64(0.17697448087953185), np.float64(0.6020999352137247), np.float64(0.47987034420172375), np.float64(0.7040159006913503), np.float64(0.4148682902256648), np.float64(0.7250663340091705), np.float64(0.589536448319753), np.float64(0.53481525182724), np.float64(0.35028864194949466), np.float64(0.6742402017116547), np.float64(0.17064720722070584), np.float64(0.9142671922842661), np.float64(0.2380845695734024), np.float64(0.5327516595522562), np.float64(0.1957341864084204), np.float64(0.6445957546432813), np.float64(0.6492008616526922), np.float64(0.23757783075173697), np.float64(0.6331640134255091), np.float64(0.2715216986835003), np.float64(0.2785568820933501), np.float64(0.8129560053348541), np.float64(0.6636390487353007), np.float64(0.5152263542016348), np.float64(0.4695846339066823), np.float64(0.6533981064955393), np.float64(0.9802441696325938), np.float64(0.3575681621829669), np.float64(0.4838761587937673), np.float64(0.48954886198043823), np.float64(0.7813377330700556), np.float64(0.33908795317014057), np.float64(0.2606250204456349), np.float64(0.2974647159377734), np.float64(0.7410099903742472), np.float64(0.7276231646537781), np.float64(0.43601518869400024), np.float64(0.587499221165975), np.float64(0.5908201138178507), np.float64(0.7066800991694132), np.float64(0.474336509903272), np.float64(0.5518132075667381), np.float64(0.9896894991397858), np.float64(0.38077203929424286), np.float64(0.16952095972374082), np.float64(0.6862545112768809), np.float64(0.22509791531289616), np.float64(0.3669829840461413), np.float64(0.20989801657075682), np.float64(0.36198104669650394), np.float64(0.24532080775437257), np.float64(0.17389879235997796), np.float64(0.981631467739741), np.float64(0.37255416562159854), np.float64(0.491054763396581), np.float64(0.43580350279808044), np.float64(0.511839027206103), np.float64(0.7883600195248922), np.float64(0.7221132119496664), np.float64(0.6784297171980143), np.float64(0.4315184106429418), np.float64(0.39353348811467487), np.float64(0.19987480714917183), np.float64(0.9630683064460754), np.float64(0.21265728771686554), np.float64(0.19982320815324783), np.float64(0.24053697536389032), np.float64(0.5375826309124628), np.float64(0.7104888161023458), np.float64(0.48201679686705273), np.float64(0.27449447723726433), np.float64(0.7846861282984415), np.float64(0.47408720493937534), np.float64(0.22139465529471636), np.float64(0.6292104522387186), np.float64(0.4900033424297969), np.float64(0.1847857708732287), np.float64(0.9599262674649557), np.float64(0.20068726812799773), np.float64(0.46337537467479706), np.float64(0.6272033055623373), np.float64(0.3555394671857357), np.float64(0.1830214999305705), np.float64(0.8695488025744756), np.float64(0.5751059005657831), np.float64(0.8599997659524282), np.float64(0.7804226080576578), np.float64(0.9761535227298737), np.float64(0.8944011727968851), np.float64(0.8974857727686564), np.float64(0.41733594983816147), np.float64(0.4973756194425126), np.float64(0.27874875875810784), np.float64(0.6835730026165644), np.float64(0.553841436902682), np.float64(0.25993471130883944), np.float64(0.29034104229261476), np.float64(0.40631723310798407), np.float64(0.3712874719252189), np.float64(0.38885777567823726), np.float64(0.2895758201678594), np.float64(0.5050555268923441), np.float64(0.5999269485473633), np.float64(0.6521465679009756), np.float64(0.48186279833316803), np.float64(0.3170536371568839), np.float64(0.9876282811164856), np.float64(0.2151919735285143), np.float64(0.203485533905526), np.float64(0.4608601505557696), np.float64(0.2766200260569652), np.float64(0.7989660898844401), np.float64(0.3340698642035325), np.float64(0.1972147316361467), np.float64(0.3193065399924914), np.float64(0.2135811553647121), np.float64(0.6166789134343466), np.float64(0.6862504482269287), np.float64(0.8763766388098398), np.float64(0.5026074101527532), np.float64(0.6834683020909628), np.float64(0.8011516630649567), np.float64(0.9785883128643036), np.float64(0.40167682617902756), np.float64(0.30445435146490735), np.float64(0.68935693303744), np.float64(0.39010868469874066), np.float64(0.22601802228018641), np.float64(0.7957640985647837), np.float64(0.18365176487714052), np.float64(0.3313019424676895), np.float64(0.3836202397942543), np.float64(0.8687338431676229), np.float64(0.3836541250348091), np.float64(0.6364414691925049), np.float64(0.8591168026129404), np.float64(0.8889360328515371), np.float64(0.953278660774231), np.float64(0.45738183334469795), np.float64(0.9862254559993744), np.float64(0.20885649820168814), np.float64(0.3755779241522153), np.float64(0.34254783267776173), np.float64(0.2765253434578578), np.float64(0.35149718324343365), np.float64(0.2832581599553426), np.float64(0.9676694869995117), np.float64(0.7578034351269404), np.float64(0.7962376972039541), np.float64(0.7729069292545319), np.float64(0.7161211172739664), np.float64(0.7010740240414938), np.float64(0.35313066591819126), np.float64(0.9620961944262186), np.float64(0.6513508011897405), np.float64(0.8107678294181824), np.float64(0.8494424025217692), np.float64(0.7915051082770029), np.float64(0.41232213874657947), np.float64(0.4897896299759547), np.float64(0.31042487422625226), np.float64(0.8808426459630331), np.float64(0.2329831769069036), np.float64(0.5661623229583105), np.float64(0.8876984914143881), np.float64(0.524148608247439), np.float64(0.41496275675793487), np.float64(0.1782500819923977), np.float64(0.4711133887370427), np.float64(0.260303298321863), np.float64(0.4333680793642998), np.float64(0.4270665720105171), np.float64(0.537463515996933), np.float64(0.25935907786091167), np.float64(0.24390004288094738), np.float64(0.41479358325401944), np.float64(0.47802230219046277), np.float64(0.20686614389220873), np.float64(0.469917893409729), np.float64(0.1750831741373986), np.float64(0.5660713811715444), np.float64(0.4515638252099355), np.float64(0.7844858778019747), np.float64(0.9344762166341146), np.float64(0.3517983828981717), np.float64(0.5195215245087942), np.float64(0.7329766750335693), np.float64(0.492255096634229), np.float64(0.5928645779689153), np.float64(0.7896579106648763), np.float64(0.9115518281857172), np.float64(0.3573950231075287), np.float64(0.36787789811690647), np.float64(0.17160127224512203), np.float64(0.3337431972225507), np.float64(0.26539983600378036), np.float64(0.17821860911984308), np.float64(0.3322507105767727), np.float64(0.32315811530376476), np.float64(0.2529251867284377), np.float64(0.9211511214574178), np.float64(0.5076171159744263), np.float64(0.7728385229905447), np.float64(0.18198733932028213), np.float64(0.21302163725097975), np.float64(0.6281854013601939), np.float64(0.17672112437624796), np.float64(0.7174191474914551), np.float64(0.4253162865837415), np.float64(0.5070327346523603), np.float64(0.8892252147197723), np.float64(0.25263350262927514), np.float64(0.7940707504749298), np.float64(0.5382092098395029), np.float64(0.3896796790262063), np.float64(0.4172297616799672), np.float64(0.1692513338396869), np.float64(0.3493918602665265), np.float64(0.213185782233874), np.float64(0.21118208083013693), np.float64(0.6839833160241445), np.float64(0.5543065120776495), np.float64(0.3377269043897589), np.float64(0.8964293400446574), np.float64(0.43598869691292447), np.float64(0.7460115949312845), np.float64(0.3494761927674214), np.float64(0.23403625889356286), np.float64(0.40622641146183014), np.float64(0.1741109985547761), np.float64(0.3993326524893443), np.float64(0.16767146822045711), np.float64(0.49833524723847705), np.float64(0.5250358879566193), np.float64(0.6241001933813095), np.float64(0.4951487258076668), np.float64(0.21858277854820093), np.float64(0.7511568069458008), np.float64(0.6733670433362325), np.float64(0.1797700443615516), np.float64(0.2318188070009152), np.float64(0.21370621708532175), np.float64(0.549714187781016), np.float64(0.5446834613879522), np.float64(0.9211610754330953), np.float64(0.42018844683965045), np.float64(0.7645629445711771), np.float64(0.5241679698228836), np.float64(0.23651444291075072), np.float64(0.975198874870936), np.float64(0.8295686940352122), np.float64(0.19327268796041608), np.float64(0.33890892565250397), np.float64(0.8079773783683777), np.float64(0.41473397115866345), np.float64(0.17909113459366685), np.float64(0.41804012656211853), np.float64(0.47167375683784485), np.float64(0.4399694850047429), np.float64(0.37404433637857437), np.float64(0.9259483615557352), np.float64(0.4900893146793048), np.float64(0.9080374240875244), np.float64(0.8726494262615839), np.float64(0.8091860711574554), np.float64(0.6775499780972799), np.float64(0.17102741690663), np.float64(0.3007872477173805), np.float64(0.2976182798544566), np.float64(0.5341929445664088), np.float64(0.952440490325292), np.float64(0.8406889835993449), np.float64(0.45497946875790757), np.float64(0.25413819317085046), np.float64(0.44369835158189136), np.float64(0.4002209007740021), np.float64(0.6607566525538763), np.float64(0.8363182842731476), np.float64(0.8843253751595815), np.float64(0.5333331922690073), np.float64(0.35722986577699584), np.float64(0.17227078135086535), np.float64(0.2486166514766713), np.float64(0.25046773130695027), np.float64(0.29081109787027043), np.float64(0.6564192622900009), np.float64(0.8085125039021174), np.float64(0.2606691854695479), np.float64(0.38944027448693913), np.float64(0.23040690599009395), np.float64(0.20866887054095665), np.float64(0.22538829501718283), np.float64(0.4538496423823138), np.float64(0.5133247325817744), np.float64(0.31043262872844934), np.float64(0.48581651349862415), np.float64(0.36267678439617157), np.float64(0.19714159766832987), np.float64(0.5121663510799408), np.float64(0.30304887518286705), np.float64(0.6892758508523306), np.float64(0.9193358520666758), np.float64(0.9667727847894033), np.float64(0.45183564225832623), np.float64(0.335923674205939), np.float64(0.5926220367352167), np.float64(0.7495366831620535), np.float64(0.4601737748986731), np.float64(0.5010484804709753), np.float64(0.26058514540394145), np.float64(0.5470031946897507), np.float64(0.22201682440936565), np.float64(0.9548674821853638), np.float64(0.6343284944693247), np.float64(0.5290071368217468), np.float64(0.2270434262851874), np.float64(0.2448415644466877), np.float64(0.540120522181193), np.float64(0.35707067884504795), np.float64(0.2778178242345651), np.float64(0.26112619042396545), np.float64(0.3142663811643918), np.float64(0.3982928618788719), np.float64(0.5051713685194651), np.float64(0.31297386934359867), np.float64(0.337299441297849), np.float64(0.6955098807811737), np.float64(0.7532020409901937), np.float64(0.24653387752672037), np.float64(0.6911697884400686), np.float64(0.2942539391418298), np.float64(0.484169065952301), np.float64(0.4321827342112859), np.float64(0.5951134115457535), np.float64(0.9112851520379385), np.float64(0.5798739592234293), np.float64(0.35991677393515903), np.float64(0.19706508641441664), np.float64(0.17129209620179608), np.float64(0.5898439635833105), np.float64(0.43591679632663727), np.float64(0.6169547239939371), np.float64(0.3443391943971316), np.float64(0.32181694606939953), np.float64(0.20928751304745674), np.float64(0.5733939011891683), np.float64(0.22686321785052618), np.float64(0.1801860824537774), np.float64(0.5606157323345542), np.float64(0.5757277260224024), np.float64(0.6922451357046763), np.float64(0.7486928999423981), np.float64(0.388388492166996), np.float64(0.960586686929067), np.float64(0.3192913730939229), np.float64(0.6408977011839548), np.float64(0.4024324690302213), np.float64(0.3515787273645401), np.float64(0.3682037765781085), np.float64(0.3021300534407298), np.float64(0.4782145917415619), np.float64(0.6605862379074097), np.float64(0.575940822561582), np.float64(0.36907169222831726), np.float64(0.7148046493530273), np.float64(0.33824435000618297), np.float64(0.48760720094045), np.float64(0.9466695189476013), np.float64(0.3710503230492274), np.float64(0.5260892063379288), np.float64(0.7437497774759928), np.float64(0.16990512143820524), np.float64(0.8083155651887258), np.float64(0.3301611716548602), np.float64(0.18557706708088517), np.float64(0.33672448496023816), np.float64(0.4976244221131007), np.float64(0.8990532159805298), np.float64(0.8316622376441956), np.float64(0.3370096981525421), np.float64(0.4508437166611354), np.float64(0.28402429322401684), np.float64(0.9483386178811392), np.float64(0.2788180001080036), np.float64(0.45979028443495434), np.float64(0.4072185754776001), np.float64(0.6881742129723231), np.float64(0.6899118646979332), np.float64(0.3239727277153482), np.float64(0.8052642246087393), np.float64(0.44236716876427334), np.float64(0.4212675169110298), np.float64(0.8542501926422119), np.float64(0.872472494840622), np.float64(0.23782073458035788), np.float64(0.18504272866994143), np.float64(0.2524417495975892), np.float64(0.7186813503503799), np.float64(0.6205103596051534), np.float64(0.3268807753920555), np.float64(0.6499678939580917), np.float64(0.9408431152502695), np.float64(0.785155326128006), np.float64(0.2571019733053011), np.float64(0.3528133509680629), np.float64(0.7543358008066813), np.float64(0.7467332382996877), np.float64(0.9191392958164215), np.float64(0.22287770360708237), np.float64(0.21556146846463284), np.float64(0.7969185064236323), np.float64(0.48883463281284395), np.float64(0.3192490165432294), np.float64(0.2911030165851116), np.float64(0.5289592631161213), np.float64(0.8452321564157804), np.float64(0.9235053459803263), np.float64(0.4247822513182958), np.float64(0.33078240665296715), np.float64(0.832366943359375), np.float64(0.371820402952532), np.float64(0.4795702447493871), np.float64(0.5239218051234881), np.float64(0.19068844771633545), np.float64(0.42125816146532696), np.float64(0.7229649424552917), np.float64(0.6573333442211151), np.float64(0.251896436791867), np.float64(0.7286291122436523), np.float64(0.6546369095643362), np.float64(0.8095320264498392), np.float64(0.38765739649534225), np.float64(0.49593765536944073), np.float64(0.1713233362728109), np.float64(0.943064014116923), np.float64(0.23279478897651038), np.float64(0.3470636506875356), np.float64(0.45870644599199295), np.float64(0.9450357357660929), np.float64(0.8140226900577545), np.float64(0.20094041309008995), np.float64(0.7420563499132792), np.float64(0.7379961907863617), np.float64(0.8192749321460724), np.float64(0.5599985967079798), np.float64(0.23088663443922997), np.float64(0.6631184965372086), np.float64(0.5266884615023931), np.float64(0.7972557743390402), np.float64(0.7659632464249929), np.float64(0.4441436727841695), np.float64(0.793982982635498), np.float64(0.20118920784443617), np.float64(0.33892666300137836), np.float64(0.9023580153783163), np.float64(0.3420789210746686), np.float64(0.42045178016026813), np.float64(0.6135700444380442), np.float64(0.34708241870005924), np.float64(0.21980330472191176), np.float64(0.7154550552368164), np.float64(0.5225369334220886), np.float64(0.21223409163455167), np.float64(0.2903845907809834), np.float64(0.4614505221446355), np.float64(0.6035128434499105), np.float64(0.25597178594519693), np.float64(0.67475958665212), np.float64(0.8075753053029379), np.float64(0.894358366727829), np.float64(0.21274950246637067), np.float64(0.586981100961566), np.float64(0.5883389015992483), np.float64(0.18161295160340765), np.float64(0.5644099016984304), np.float64(0.3523830647269885), np.float64(0.5298922608296076), np.float64(0.6595522960027059), np.float64(0.3926241919398308), np.float64(0.29947305532793206), np.float64(0.3931322718660037), np.float64(0.30567333040138084), np.float64(0.41198980808258057), np.float64(0.28464257530868053), np.float64(0.6339499056339264), np.float64(0.5179140816132227), np.float64(0.3625666821996371), np.float64(0.3298145780960719), np.float64(0.1898657080406944), np.float64(0.7540048062801361), np.float64(0.20664026339848837), np.float64(0.5406603117783865), np.float64(0.6158137818177541), np.float64(0.4225192368030548), np.float64(0.8453745692968369), np.float64(0.6142757683992386), np.float64(0.2367798712415), np.float64(0.7123335699240366), np.float64(0.9945076803366343), np.float64(0.7995544870694479), np.float64(0.5319921175638834), np.float64(0.17273773245202997), np.float64(0.27734846994280815), np.float64(0.7739150524139404), np.float64(0.24616066118081412), np.float64(0.9485548436641693), np.float64(0.7333565056324005), np.float64(0.5967001517613729), np.float64(0.5960828959941864), np.float64(0.3093331667284171), np.float64(0.174975420270736), np.float64(0.5981248517831167), np.float64(0.1751007802959066), np.float64(0.1889531910419464), np.float64(0.8625304251909256), np.float64(0.24380342724422613), np.float64(0.16898407743428834), np.float64(0.3592321177323659), np.float64(0.8383597632249197), np.float64(0.8377441267172495), np.float64(0.8187984923521677), np.float64(0.8987430433432261), np.float64(0.599092960357666), np.float64(0.9453982611497244), np.float64(0.26071836178501445), np.float64(0.40494904294610023), np.float64(0.3930964196721713), np.float64(0.17143329192185774), np.float64(0.3068855634580056), np.float64(0.7717889746030172), np.float64(0.4259730130434036), np.float64(0.3300164466102918), np.float64(0.6250372429688772), np.float64(0.8383980095386505), np.float64(0.8228533019622167), np.float64(0.830638013780117), np.float64(0.6303147474924723), np.float64(0.25991860319239396), np.float64(0.7931077380975088), np.float64(0.24338731418053308), np.float64(0.5179698566595713), np.float64(0.3174437175815304), np.float64(0.3287046082938711), np.float64(0.22489142511039972), np.float64(0.1802696936453382), np.float64(0.5470786889394125), np.float64(0.24426412970448533), np.float64(0.2715538659443458), np.float64(0.3697147121032079), np.float64(0.2235538586974144), np.float64(0.3601541742682457), np.float64(0.42981113493442535), np.float64(0.21076073619769886), np.float64(0.7733146746953329), np.float64(0.2167874171088139), np.float64(0.527273694674174), np.float64(0.5016407271226248), np.float64(0.4067663749059041), np.float64(0.29944504611194134), np.float64(0.35129002171258134), np.float64(0.3687360864132643), np.float64(0.6859067579110464), np.float64(0.3335550334304571), np.float64(0.23669614642858505), np.float64(0.26901252195239067), np.float64(0.7248563269774119), np.float64(0.917465090751648), np.float64(0.34230240682760876), np.float64(0.171814110809161), np.float64(0.6400125175714493), np.float64(0.7383381028970083), np.float64(0.15966267019636385), np.float64(0.4023612489302953), np.float64(0.4174519752462705), np.float64(0.6755200227101644), np.float64(0.708991934855779), np.float64(0.17103349952958524), np.float64(0.4004289483030637), np.float64(0.831691786646843), np.float64(0.2579380199313164), np.float64(0.2662275455271204), np.float64(0.26085031777620316), np.float64(0.3174990254143874), np.float64(0.32401039948066074), np.float64(0.2649574627478917), np.float64(0.6760813494523367), np.float64(0.26957273731629056), np.float64(0.3406539186835289), np.float64(0.21202797380586466), np.float64(0.9097869793574015), np.float64(0.939428855975469), np.float64(0.5812976807355881), np.float64(0.49974529445171356), np.float64(0.6625956296920776), np.float64(0.20851693426569304), np.float64(0.8170452912648519), np.float64(0.275021659831206), np.float64(0.7614713112513224), np.float64(0.21746995175878206), np.float64(0.6879917879899343), np.float64(0.5660170614719391), np.float64(0.9350879291693369), np.float64(0.5791642566521963), np.float64(0.45823824405670166), np.float64(0.8847751518090566), np.float64(0.5072858979304632), np.float64(0.2039480054130157), np.float64(0.20055533147630436), np.float64(0.7654531598091125), np.float64(0.460327888528506), np.float64(0.4890897472699483), np.float64(0.30628489951292676), np.float64(0.29520853981375694), np.float64(0.529030924042066), np.float64(0.348394734164079), np.float64(0.16861117535033068), np.float64(0.43634240825970966), np.float64(0.22458065456400314), np.float64(0.98159792025884), np.float64(0.5396843353907267), np.float64(0.9822471837202708), np.float64(0.38461389765143394), np.float64(0.39232651082177955), np.float64(0.441721277932326), np.float64(0.25644421639541787), np.float64(0.19905727729201317), np.float64(0.384279447556158), np.float64(0.18343935627490282), np.float64(0.8827702552080154), np.float64(0.5053440084060034), np.float64(0.1759621644159779), np.float64(0.6516301929950714), np.float64(0.19185799453407526), np.float64(0.32484840601682663), np.float64(0.8638701736927032), np.float64(0.17721693409839645), np.float64(0.718308021624883), np.float64(0.4390665888786316), np.float64(0.29759185512860614), np.float64(0.2900746837258339), np.float64(0.9063753038644791), np.float64(0.28938399131099385), np.float64(0.22844615764915943), np.float64(0.2669966345032056), np.float64(0.6162922332684199), np.float64(0.8070828715960184), np.float64(0.1927712062994639), np.float64(0.9211564362049103), np.float64(0.3565122503787279), np.float64(0.4819278344511986), np.float64(0.552896132071813), np.float64(0.3358173916737239), np.float64(0.5889649242162704), np.float64(0.8322740693887075), np.float64(0.5457501374185085), np.float64(0.5560974627733231), np.float64(0.25501852482557297), np.float64(0.36978668719530106), np.float64(0.6775530080000559), np.float64(0.4063517898321152), np.float64(0.6663239449262619), np.float64(0.21271656692260876), np.float64(0.2814767857392629), np.float64(0.38398440182209015), np.float64(0.24543968921837708), np.float64(0.7963285247484843), np.float64(0.2575223346551259), np.float64(0.17662324414898953), np.float64(0.5581541111071905), np.float64(0.18869282367328802), np.float64(0.4436524324119091), np.float64(0.49855659405390423), np.float64(0.5509573522334298), np.float64(0.21805211529135704), np.float64(0.2310595422362288), np.float64(0.4462513029575348), np.float64(0.9573348661263784), np.float64(0.17659336898941547), np.float64(0.28673916310071945), np.float64(0.1858447229800125), np.float64(0.5233188470204672), np.float64(0.25400733202695847), np.float64(0.5099474275484681), np.float64(0.3794029839336872), np.float64(0.48682483037312824), np.float64(0.4640894681215286), np.float64(0.8237720827261606), np.float64(0.624727725982666), np.float64(0.5296469181776047), np.float64(0.2538333348929882), np.float64(0.7442330718040466), np.float64(0.2601894959807396), np.float64(0.23747726374616226), np.float64(0.45724831024805707), np.float64(0.2894478961825371), np.float64(0.544131338596344), np.float64(0.8741702536741892), np.float64(0.9335936109224955), np.float64(0.48098116375816363), np.float64(0.5609411547581354), np.float64(0.8411390160520872), np.float64(0.36244000494480133), np.float64(0.41703497370084125), np.float64(0.2836274529496829), np.float64(0.3411914836615324), np.float64(0.7492757737636566), np.float64(0.35483769079049426), np.float64(0.3290183022618294), np.float64(0.5218759030103683), np.float64(0.9098363022009531), np.float64(0.2623958142163853), np.float64(0.7853822807470957), np.float64(0.9271796743075053), np.float64(0.6471554239590963), np.float64(0.9594226976235708), np.float64(0.19074885516117016), np.float64(0.8111161589622498), np.float64(0.39960503329833347), np.float64(0.5697517792383829), np.float64(0.5093280474344889), np.float64(0.7941777010758718), np.float64(0.34014883016546565), np.float64(0.4393456503748894), np.float64(0.2132332481754323), np.float64(0.5839317093292872), np.float64(0.9575621088345846), np.float64(0.8278180633982023), np.float64(0.7666743795077006), np.float64(0.4857088426748912), np.float64(0.37671077499787015), np.float64(0.4444706663489342), np.float64(0.17168122599832714), np.float64(0.6719601551691691), np.float64(0.6252152025699615), np.float64(0.2853643830555181), np.float64(0.8317978978157043), np.float64(0.6769526600837708), np.float64(0.3327917040636142), np.float64(0.3332492078964909), np.float64(0.28079048295815784), np.float64(0.3291625666121642), np.float64(0.32601207743088406), np.float64(0.5321217626333237), np.float64(0.5268149624268214), np.float64(0.49983889361222583), np.float64(0.2558356415635596), np.float64(0.9595650931199392), np.float64(0.7704824109872183), np.float64(0.7644809186458588), np.float64(0.730606789390246), np.float64(0.4183694173892339), np.float64(0.44663477937380475), np.float64(0.2958567726115386), np.float64(0.8621210853258768), np.float64(0.6344632903734843), np.float64(0.18715167821695408), np.float64(0.25053200001517933), np.float64(0.1668786982918391), np.float64(0.8938831885655721), np.float64(0.21019970439374447), np.float64(0.3353057901064555), np.float64(0.9833124478658041), np.float64(0.42213986814022064), np.float64(0.21059064898872748), np.float64(0.4711453914642334), np.float64(0.6926611165205637), np.float64(0.3484242459138234), np.float64(0.8598143756389618), np.float64(0.4389878064393997), np.float64(0.2045183808853229), np.float64(0.7549237360556921), np.float64(0.20846005079026023), np.float64(0.8341848850250244), np.float64(0.8150817255179087), np.float64(0.35260534286499023), np.float64(0.9684987465540568), np.float64(0.49685679376125336), np.float64(0.6558015619715055), np.float64(0.7035090525945028), np.float64(0.17881128673131266), np.float64(0.5686238606770834), np.float64(0.2918263742079337), np.float64(0.978151818116506), np.float64(0.2618137386937936), np.float64(0.219865546716998), np.float64(0.4753603885571162), np.float64(0.17290962091647089), np.float64(0.4231332552929719), np.float64(0.571156437198321), np.float64(0.6986587643623352), np.float64(0.4304390624165535), np.float64(0.6905827621618906), np.float64(0.2221793959227701), np.float64(0.17835944258452704), np.float64(0.28500939905643463), np.float64(0.4521905432144801), np.float64(0.8490547239780426), np.float64(0.5151599595944086), np.float64(0.2754873496790727), np.float64(0.4644631048043569), np.float64(0.38056697199742), np.float64(0.5092665950457255), np.float64(0.3689234455426534), np.float64(0.5025642439723015), np.float64(0.5193324138720831), np.float64(0.17437017623645565), np.float64(0.9451393981774648), np.float64(0.6546808481216431), np.float64(0.4453372210264206), np.float64(0.21485249938753745), np.float64(0.47028007358312607), np.float64(0.6721383879582087), np.float64(0.6514979898929596), np.float64(0.4071697344382604), np.float64(0.3151044150193532), np.float64(0.5874765242139498), np.float64(0.28568984133501846), np.float64(0.40438386301199597), np.float64(0.6253554075956345), np.float64(0.49964436171527876), np.float64(0.6219947834809622), np.float64(0.28385036376615363), np.float64(0.5338593969742457), np.float64(0.18524127764006457), np.float64(0.23220962223907313), np.float64(0.19118326778213182), np.float64(0.7607079048951467), np.float64(0.18141656757021943), np.float64(0.5744191532333692), np.float64(0.40402784446875256), np.float64(0.2700290782377124), np.float64(0.36610853982468444), np.float64(0.2793682975073655), np.float64(0.6886334915955862), np.float64(0.6735151906808218), np.float64(0.20832872204482555), np.float64(0.8990909655888876), np.float64(0.22431929595768452), np.float64(0.6068789561589559), np.float64(0.44609687228997547), np.float64(0.9410791099071503), np.float64(0.4529845019181569), np.float64(0.5323347002267838), np.float64(0.1925222372325758), np.float64(0.17934508699302873), np.float64(0.5490732118487358), np.float64(0.8042826553185781), np.float64(0.17911047035401376), np.float64(0.2224319896971186), np.float64(0.9151430626710256), np.float64(0.19801663320201138), np.float64(0.7648218174775442), np.float64(0.5628484686215719), np.float64(0.9679997066656748), np.float64(0.27099269193907577), np.float64(0.5805833662549654), np.float64(0.6625587244828542), np.float64(0.8698782473802567), np.float64(0.9232688148816427), np.float64(0.17703187093138695), np.float64(0.6824352145195007), np.float64(0.6853279074033102), np.float64(0.6697098910808563), np.float64(0.284710057079792), np.float64(0.17179534186531478), np.float64(0.37532562389969826), np.float64(0.22261245300372443), np.float64(0.5110618273417155), np.float64(0.2743005342781544), np.float64(0.5349552631378174), np.float64(0.9695536096890768), np.float64(0.30196883777777356), np.float64(0.3366846591234207), np.float64(0.17867217663054666), np.float64(0.786220371723175), np.float64(0.2214569946130117), np.float64(0.16958972330515584), np.float64(0.8873671392599741), np.float64(0.2525495169684291), np.float64(0.8847354054450989), np.float64(0.7795619269212087), np.float64(0.20874584093689919), np.float64(0.4190721462170283), np.float64(0.175260822288692), np.float64(0.29822123423218727), np.float64(0.6634452243645986), np.float64(0.9325028856595358), np.float64(0.35944849749406177), np.float64(0.23225054579476515), np.float64(0.9467402299245199), np.float64(0.17781837983056903), np.float64(0.8666592637697855), np.float64(0.9235920210679373), np.float64(0.41709056744972867), np.float64(0.3111835351834695), np.float64(0.5080918570359548), np.float64(0.20109782088547945), np.float64(0.7293820977210999), np.float64(0.7963079114754995), np.float64(0.37933704629540443), np.float64(0.33004653205474216), np.float64(0.8756480614344279), np.float64(0.5661278516054153), np.float64(0.7817870775858561), np.float64(0.8202512860298157), np.float64(0.6966944734255472), np.float64(0.21621485302845636), np.float64(0.7893754343191782), np.float64(0.18261041523267826), np.float64(0.423028402030468), np.float64(0.8186470965544382), np.float64(0.19922061210187772), np.float64(0.6371078739563624), np.float64(0.7819216350714365), np.float64(0.4755294471979141), np.float64(0.25184463732875884), np.float64(0.22839744513233504), np.float64(0.8760786155859629), np.float64(0.5249891579151154), np.float64(0.881835013628006), np.float64(0.3982330784201622), np.float64(0.6103935241699219), np.float64(0.3346129084626834), np.float64(0.4278565049171448), np.float64(0.8778888781865438), np.float64(0.3200417722885807), np.float64(0.2653720925251643), np.float64(0.5789955904086431), np.float64(0.6136774321397146), np.float64(0.9007557034492493), np.float64(0.20633825721840063), np.float64(0.741200178861618), np.float64(0.2245860545905695), np.float64(0.26321743552883464), np.float64(0.9215356409549713), np.float64(0.3724090854326884), np.float64(0.21431075346966585), np.float64(0.4349568250278632), np.float64(0.2280742529158791), np.float64(0.47939759492874146), np.float64(0.6538844704627991), np.float64(0.3834044933319092), np.float64(0.30079493423302966), np.float64(0.46281859278678894), np.float64(0.3930353447794914), np.float64(0.2287191191377739), np.float64(0.9266746938228607), np.float64(0.3376400023698807), np.float64(0.36295252044995624), np.float64(0.3642018536726634), np.float64(0.24588660026590028), np.float64(0.8704019486904144), np.float64(0.8615027467409769), np.float64(0.6376949598391851), np.float64(0.24834380707276674), np.float64(0.4031285767753919), np.float64(0.4644285241762797), np.float64(0.2227044804021716), np.float64(0.1909518474712968), np.float64(0.24950609728693962), np.float64(0.4418102949857712), np.float64(0.27753780285517377), np.float64(0.26119900525858003), np.float64(0.47845392922560376), np.float64(0.8762149512767792), np.float64(0.8060640245676041), np.float64(0.4482335348924001), np.float64(0.4425041079521179), np.float64(0.284661912980179), np.float64(0.69429778556029), np.float64(0.34635528301199275), np.float64(0.7475545505682627), np.float64(0.5546670158704122), np.float64(0.23146338027436286), np.float64(0.3370961050192515), np.float64(0.5807980746030807), np.float64(0.4531279106934865), np.float64(0.5890109837055206), np.float64(0.20362983706096807), np.float64(0.4642026623090108), np.float64(0.2983158640563488), np.float64(0.8266952236493429), np.float64(0.8748293220996857), np.float64(0.4269016111890475), np.float64(0.7420482536156973), np.float64(0.23231163683036962), np.float64(0.25669884666179615), np.float64(0.2162214138855537), np.float64(0.4262802104155223), np.float64(0.4536179353793462), np.float64(0.7103781749804815), np.float64(0.25532756460112677), np.float64(0.701897511879603), np.float64(0.184821216079096), np.float64(0.3734738166288783), np.float64(0.26382485404610634), np.float64(0.22742741896460453), np.float64(0.324003962179025), np.float64(0.5847629954417547), np.float64(0.2482009306550026), np.float64(0.2633851145704587), np.float64(0.6642803897460302), np.float64(0.7811639706293741), np.float64(0.2543466395388047), np.float64(0.8253028591473898), np.float64(0.6717495123545328), np.float64(0.9211285511652628), np.float64(0.19201463274657726), np.float64(0.2767488931616147), np.float64(0.5145806521177292), np.float64(0.48362185557683307), np.float64(0.20785143257429203), np.float64(0.31962839017311734), np.float64(0.41967740654945374), np.float64(0.391696775952975), np.float64(0.1971301014224688), np.float64(0.4826088547706604), np.float64(0.5826495985190073), np.float64(0.4672018388907115), np.float64(0.19954896811395884), np.float64(0.444685235619545), np.float64(0.33701250205437344), np.float64(0.6812453269958496), np.float64(0.4091500975191593), np.float64(0.1733635012836506), np.float64(0.17641138231071332), np.float64(0.6745879650115967), np.float64(0.3987262447675069), np.float64(0.1728548719547689), np.float64(0.85641377667586), np.float64(0.33193179592490196), np.float64(0.25931935171441484), np.float64(0.189006929906706), np.float64(0.2722023955235879), np.float64(0.8227852682272593), np.float64(0.8187912801901499), np.float64(0.6093649665514628), np.float64(0.33532817972203094), np.float64(0.19253796738727638), np.float64(0.2947742237399022), np.float64(0.28012800837556523), np.float64(0.5866132378578186), np.float64(0.2651006343464057), np.float64(0.511375700434049), np.float64(0.4081272892653942), np.float64(0.45493288338184357), np.float64(0.325615810395296), np.float64(0.28386951237916946), np.float64(0.3313243800463776), np.float64(0.17730114966010055), np.float64(0.2954442257275029), np.float64(0.5054963727792104), np.float64(0.41704193751017254), np.float64(0.47536182900269824), np.float64(0.43331364045540494), np.float64(0.28089526254916564), np.float64(0.7542951082189878), np.float64(0.37408240263660747), np.float64(0.9792726635932922), np.float64(0.5048642456531525), np.float64(0.24166947680835923), np.float64(0.4255308508872986), np.float64(0.5701424678166708), np.float64(0.8456889937321345), np.float64(0.36239806811014813), np.float64(0.72396186987559), np.float64(0.4224753975868225), np.float64(0.4655871695528428), np.float64(0.8327042957146963), np.float64(0.37041417012612027), np.float64(0.33333225299914676), np.float64(0.482965350151062), np.float64(0.614480142792066), np.float64(0.5590995997190475), np.float64(0.39001351843277615), np.float64(0.39441152413686115), np.float64(0.43141841888427734), np.float64(0.8446650902430216), np.float64(0.339137754868716), np.float64(0.9053618808587393), np.float64(0.2362250437339147), np.float64(0.8102133820454279), np.float64(0.42497333387533825), np.float64(0.1743363268712225), np.float64(0.910016804933548), np.float64(0.8605086679259936), np.float64(0.20374915283173323), np.float64(0.16826026203731695), np.float64(0.3242866297562917), np.float64(0.17650817926429832), np.float64(0.6528228123982748), np.float64(0.17289143509212104), np.float64(0.838413288195928), np.float64(0.2915265190725525), np.float64(0.6299112339814504), np.float64(0.45770515004793805), np.float64(0.7236128548781077), np.float64(0.5205226838588715), np.float64(0.20447546367843947), np.float64(0.5030740822354952), np.float64(0.9852235019207001), np.float64(0.3830270816882451), np.float64(0.18053406515779594), np.float64(0.3135871042807897), np.float64(0.32969289024670917), np.float64(0.9367805222670237), np.float64(0.19931314637263617), np.float64(0.24449542351067066), np.float64(0.24464094638824463), np.float64(0.46463141962885857), np.float64(0.34475990757346153), np.float64(0.439621277153492), np.float64(0.8710150122642517), np.float64(0.7163031200567881), np.float64(0.3506724014878273), np.float64(0.44089528421560925), np.float64(0.19188152734811106), np.float64(0.3035818251470725), np.float64(0.4903021951516469), np.float64(0.8616623083750407), np.float64(0.6676381280024847), np.float64(0.3477529523273309), np.float64(0.293192844837904), np.float64(0.6900563556700945), np.float64(0.40709934880336124), np.float64(0.6529341538747152), np.float64(0.2061515956496199), np.float64(0.9527055819829305), np.float64(0.18737696204334497), np.float64(0.21815829227368036), np.float64(0.3490881572167079), np.float64(0.27734954841434956), np.float64(0.57926577826341), np.float64(0.7531022826830546), np.float64(0.3167382627725601), np.float64(0.29447597451508045), np.float64(0.8871061603228251), np.float64(0.17480410798452795), np.float64(0.7506126463413239), np.float64(0.17217777067950615), np.float64(0.5079866846402487), np.float64(0.923182467619578), np.float64(0.8436008195082346), np.float64(0.5148374487956365), np.float64(0.21880913712084293), np.float64(0.8105465173721313), np.float64(0.9618463714917501), np.float64(0.1914222999572909), np.float64(0.34403035417199135), np.float64(0.3712223197023074), np.float64(0.2483041542194163), np.float64(0.7128367920716604), np.float64(0.1690116259366429), np.float64(0.23217267173943887), np.float64(0.2731075825286098), np.float64(0.17299952363221868), np.float64(0.46506207933028537), np.float64(0.5791004796822866), np.float64(0.3727489461501439), np.float64(0.2186741934468349), np.float64(0.3358536676193277), np.float64(0.5101137856642405), np.float64(0.8810078501701355), np.float64(0.7203343609968821), np.float64(0.5557778080304464), np.float64(0.7294959127902985), np.float64(0.338667372862498), np.float64(0.9825620949268341), np.float64(0.7143447548151016), np.float64(0.7559671998023987), np.float64(0.1832462513508896), np.float64(0.29368884403569), np.float64(0.2463273722678423), np.float64(0.5682660738627116), np.float64(0.892214298248291), np.float64(0.9698261618614197), np.float64(0.5355792678892612), np.float64(0.49782323588927585), np.float64(0.4465576906998952), np.float64(0.498398353656133), np.float64(0.6851909359296163), np.float64(0.7392978568871816), np.float64(0.7940832277139028), np.float64(0.5665458738803864), np.float64(0.4284313792983691), np.float64(0.8854918479919434), np.float64(0.2894951376753549), np.float64(0.9471485614776611), np.float64(0.8139345049858093), np.float64(0.2817963386575381), np.float64(0.22504168345282474), np.float64(0.5381534546613693), np.float64(0.312709408501784), np.float64(0.49521524210770923), np.float64(0.20366726567347845), np.float64(0.2355480732706686), np.float64(0.9343045651912689), np.float64(0.3226760079463323), np.float64(0.716277281443278), np.float64(0.7360415756702423), np.float64(0.24907836752633253), np.float64(0.8280018667380015), np.float64(0.24994447889427343), np.float64(0.17185570827374855), np.float64(0.2902587776382764), np.float64(0.8021385769049326), np.float64(0.26855526367823285), np.float64(0.25640419498085976), np.float64(0.4597230280439059), np.float64(0.3355545674761136), np.float64(0.687044620513916), np.float64(0.5318947633107504), np.float64(0.27593785524368286), np.float64(0.8276833792527517), np.float64(0.542029857635498), np.float64(0.19093167564521232), np.float64(0.21012094027052322), np.float64(0.19167511786023775), np.float64(0.2590931275238593), np.float64(0.3210098048051198), np.float64(0.9325712621212006), np.float64(0.5019715030988058), np.float64(0.3789725601673126), np.float64(0.2960241362452507), np.float64(0.8312000731627146), np.float64(0.5472613076368967), np.float64(0.18409803389416388), np.float64(0.5259562432765961), np.float64(0.8140342235565186), np.float64(0.44402361412843067), np.float64(0.45530390289301675), np.float64(0.32364217191934586), np.float64(0.6728295783201853), np.float64(0.9274698595205942), np.float64(0.38222661676506203), np.float64(0.22872619586996734), np.float64(0.19563155062496662), np.float64(0.6219738771518072), np.float64(0.2725199796259403), np.float64(0.31824777523676556), np.float64(0.6900534729162852), np.float64(0.21287955064326525), np.float64(0.420931663364172), np.float64(0.6544974545637766), np.float64(0.3732581337292989), np.float64(0.3453344777226448), np.float64(0.33547566604344564), np.float64(0.4465782071153323), np.float64(0.36055344467361766), np.float64(0.3108715806156397), np.float64(0.25502574630081654), np.float64(0.3890688829123974), np.float64(0.36020226528247196), np.float64(0.3938700556755066), np.float64(0.8676016728083292), np.float64(0.22399239987134933), np.float64(0.48942558964093524), np.float64(0.6275704950094223), np.float64(0.18695776436167458), np.float64(0.9066827992598215), np.float64(0.9833878179391226), np.float64(0.2170960009098053), np.float64(0.25121265184134245), np.float64(0.16959863194885352), np.float64(0.714877779285113), np.float64(0.20057875600953898), np.float64(0.3187725680569808), np.float64(0.18405198082715893), np.float64(0.28894821802775067), np.float64(0.1897953087463975), np.float64(0.5189385364452997), np.float64(0.8872611323992411), np.float64(0.2262739290793737), np.float64(0.9196254909038544), np.float64(0.16954935543859997), np.float64(0.27865810071428615), np.float64(0.22073414145658413), np.float64(0.5601509710152944), np.float64(0.22466692452629408), np.float64(0.3205149322748184), np.float64(0.4770442396402359), np.float64(0.20222598935166994), np.float64(0.2507793176919222), np.float64(0.5957070837418238), np.float64(0.8940165638923645), np.float64(0.20883531391154975), np.float64(0.9588394860426585), np.float64(0.9555413524309794), np.float64(0.6002496431271235), np.float64(0.3922153015931447), np.float64(0.7873934010664622), np.float64(0.6897248228391012), np.float64(0.5350987662871679), np.float64(0.78749152024587), np.float64(0.19956314268832406), np.float64(0.22370335087180138), np.float64(0.5902074575424194), np.float64(0.9605174462000529), np.float64(0.9058243234952291), np.float64(0.2769944171110789), np.float64(0.6332170218229294), np.float64(0.23397386198242506), np.float64(0.32436180487275124), np.float64(0.19451767640809217), np.float64(0.4058076813817024), np.float64(0.18858741720517477), np.float64(0.6126559327046076), np.float64(0.23840676993131638), np.float64(0.7423622806866964), np.float64(0.9490362604459127), np.float64(0.38124533742666245), np.float64(0.6161778718233109), np.float64(0.3373639980951945), np.float64(0.7386674632628759), np.float64(0.37207107494274777), np.float64(0.4179522593816121), np.float64(0.501560240983963), np.float64(0.17063157679513097), np.float64(0.1932753105647862), np.float64(0.2327211540347586), np.float64(0.31300758322079975), np.float64(0.5998005568981171), np.float64(0.8681132793426514), np.float64(0.6699346403280894), np.float64(0.6096266359090805), np.float64(0.9006974498430887), np.float64(0.43786583344141644), np.float64(0.6440866390864054), np.float64(0.3227965508898099), np.float64(0.2913873841365178), np.float64(0.3964652667442958), np.float64(0.26667704433202744), np.float64(0.2708679499725501), np.float64(0.4555870046218236), np.float64(0.8398345410823822), np.float64(0.4847811535000801), np.float64(0.9106069405873617), np.float64(0.9328033725420634), np.float64(0.7506173948446909), np.float64(0.7770691712697347), np.float64(0.3368557810317725), np.float64(0.7889814575513204), np.float64(0.7576647798220316), np.float64(0.362362340092659), np.float64(0.39067310839891434), np.float64(0.2123021688312292), np.float64(0.8397703071435293), np.float64(0.24766323808580637), np.float64(0.5910168637832006), np.float64(0.4860178070763747), np.float64(0.26139185825983685), np.float64(0.4646390974521637), np.float64(0.7304192086060842), np.float64(0.44539983073870343), np.float64(0.20766331379612288), np.float64(0.19169445211688677), np.float64(0.4240577866633733), np.float64(0.8269011725982031), np.float64(0.9024168054262797), np.float64(0.21934663938979307), np.float64(0.6407953550418218), np.float64(0.4759172300497691), np.float64(0.189400102943182), np.float64(0.27128754928708076), np.float64(0.2521948143839836), np.float64(0.3674975261092186), np.float64(0.45045719544092816), np.float64(0.6307504922151566), np.float64(0.8685683210690817), np.float64(0.17764621057237187), np.float64(0.579734280705452), np.float64(0.1675988077186048), np.float64(0.8355357597271601), np.float64(0.8962410787741343), np.float64(0.4475943942864736), np.float64(0.5788337886333466), np.float64(0.3055192517737548), np.float64(0.6412610113620758), np.float64(0.9649799764156342), np.float64(0.3132048361003399), np.float64(0.21762843957791725), np.float64(0.5506587848067284), np.float64(0.31591951474547386), np.float64(0.17204914428293705), np.float64(0.23596171289682388), np.float64(0.3220633765061696), np.float64(0.38635371377070743), np.float64(0.32637030941744644), np.float64(0.7595629990100861), np.float64(0.7734097341696421), np.float64(0.5086889167626699), np.float64(0.469344029823939), np.float64(0.35246603439251584), np.float64(0.17052779137156904), np.float64(0.6693363090356191), np.float64(0.2750723014275233), np.float64(0.4274543300271034), np.float64(0.4266904989878337), np.float64(0.7507862448692322), np.float64(0.9751714865366617), np.float64(0.6190366894006729), np.float64(0.24890188438196978), np.float64(0.44722695151964825), np.float64(0.9155934751033783), np.float64(0.31775560105840367), np.float64(0.6785484949747721), np.float64(0.6422652701536814), np.float64(0.3644964696529011), np.float64(0.18849228229373693), np.float64(0.8859939575195312), np.float64(0.32225848734378815), np.float64(0.4117564409971237), np.float64(0.549885426958402), np.float64(0.7019511858622233), np.float64(0.38439340610057116), np.float64(0.4754391014575958), np.float64(0.9360925058523814), np.float64(0.3941874715189139), np.float64(0.2087007643034061), np.float64(0.4145980204145114), np.float64(0.6182059744993845), np.float64(0.6511476238568624), np.float64(0.19120285070190826), np.float64(0.26236972709496814), np.float64(0.26572665106505156), np.float64(0.6625956296920776), np.float64(0.7099917928377787), np.float64(0.24069762656775615), np.float64(0.36271530389785767), np.float64(0.351135494808356), np.float64(0.5169231792291006), np.float64(0.23263165975610414), np.float64(0.2312613483518362), np.float64(0.1847523022443056), np.float64(0.3222567114668588), np.float64(0.47556093831857044), np.float64(0.18628462605799237), np.float64(0.7094075481096903), np.float64(0.7817480837305387), np.float64(0.5786182334025701), np.float64(0.6124287893374761), np.float64(0.2729358357998232), np.float64(0.7119117478529612), np.float64(0.5608806212743124), np.float64(0.3944025586048762), np.float64(0.37816352893908817), np.float64(0.6090148091316223), np.float64(0.17891707364469767), np.float64(0.32649463415145874), np.float64(0.3416186794638634), np.float64(0.2818823953469594), np.float64(0.7585769494374593), np.float64(0.8352943559487661), np.float64(0.49949240187803906), np.float64(0.34746464403967064), np.float64(0.8681697696447372), np.float64(0.37660710016886395), np.float64(0.5472972244024277), np.float64(0.25862745800986886), np.float64(0.25105272730191547), np.float64(0.5365032727519671), np.float64(0.6253344714641571), np.float64(0.4291814664999644), np.float64(0.49476977934439975), np.float64(0.7210399806499481), np.float64(0.660299172004064), np.float64(0.7633350988229116), np.float64(0.1830321510011951), np.float64(0.909075399239858), np.float64(0.4498600587248802), np.float64(0.17726573254913092), np.float64(0.47943783303101856), np.float64(0.5362571577231089), np.float64(0.8469384908676147), np.float64(0.8103414376576742), np.float64(0.1990363356502106), np.float64(0.8808266818523407), np.float64(0.6818012297153473), np.float64(0.2653476881484191), np.float64(0.6652183383703232), np.float64(0.9301525354385376), np.float64(0.8553040126959482), np.float64(0.2664847751148045), np.float64(0.3516596009333928), np.float64(0.1682069814996794), np.float64(0.5838571240504583), np.float64(0.35891070356592536), np.float64(0.3337170829375585), np.float64(0.688915898402532), np.float64(0.5699095726013184), np.float64(0.6332705865303675), np.float64(0.4915422548850377), np.float64(0.1727067600004375), np.float64(0.7272594571113586), np.float64(0.34790532756596804), np.float64(0.7129977891842524), np.float64(0.9994360407193502), np.float64(0.19985673607637486), np.float64(0.16760141091799596), np.float64(0.3879168853163719), np.float64(0.39917898426453274), np.float64(0.3934270963072777), np.float64(0.5640915234883627), np.float64(0.34579533090194065), np.float64(0.24322528702517351), np.float64(0.3929175262649854), np.float64(0.3550460922221343), np.float64(0.5253511741757393), np.float64(0.9801323413848877), np.float64(0.286968894302845), np.float64(0.47554976244767505), np.float64(0.6709496031204859), np.float64(0.38626917203267414), np.float64(0.21318260673433542), np.float64(0.6389478743076324), np.float64(0.9726899464925131), np.float64(0.29647983610630035), np.float64(0.6215997387965521), np.float64(0.3035823032259941), np.float64(0.2753576611479123), np.float64(0.45705030858516693), np.float64(0.3508724408845107), np.float64(0.2520802017922203), np.float64(0.16796614662356055), np.float64(0.1736302159454984), np.float64(0.18640239366019765), np.float64(0.4553535381952922), np.float64(0.1696565018307107), np.float64(0.3087964554627736), np.float64(0.18166468354562917), np.float64(0.7545483907063802), np.float64(0.19660320909072956), np.float64(0.5022293130556742), np.float64(0.6358210543791453), np.float64(0.2922440469264984), np.float64(0.18744230524559194), np.float64(0.9001512626806895), np.float64(0.7075272798538208), np.float64(0.2789877876639366), np.float64(0.49321108559767407), np.float64(0.9065536061922709), np.float64(0.9655331671237946), np.float64(0.21083088585631535), np.float64(0.3767393132050832), np.float64(0.1892487108707428), np.float64(0.2399820190233489), np.float64(0.7204805016517639), np.float64(0.17886390909552574), np.float64(0.4737630734841029), np.float64(0.5668123414119085), np.float64(0.8709763834873835), np.float64(0.5067771524190903), np.float64(0.2966873763749997), np.float64(0.8216464022795359), np.float64(0.7416110932826996), np.float64(0.296755647752434), np.float64(0.35540542254845303), np.float64(0.9706763426462809), np.float64(0.26399484059462947), np.float64(0.2003879869977633), np.float64(0.2729967727015416), np.float64(0.536687970161438), np.float64(0.32287027438481647), np.float64(0.44010163525429863), np.float64(0.7493328948815664), np.float64(0.2004447653889656), np.float64(0.253439212217927), np.float64(0.3596642812093099), np.float64(0.5477188924948374), np.float64(0.19362642957518497), np.float64(0.8826105991999308), np.float64(0.7337391575177511), np.float64(0.7489653726418813), np.float64(0.5025072458665818), np.float64(0.4137905438741048), np.float64(0.8768755147854487), np.float64(0.45347898701826733), np.float64(0.20714020464220084), np.float64(0.17201901079958284), np.float64(0.7223713248968124), np.float64(0.26034174545202404), np.float64(0.3568988914291064), np.float64(0.9003374675909678), np.float64(0.16713865020331772), np.float64(0.3109566420316696), np.float64(0.4530786375204722), np.float64(0.3104356514910857), np.float64(0.30896688004334766), np.float64(0.5457555130124092), np.float64(0.33216525117556256), np.float64(0.8910744190216064), np.float64(0.5414800693591436), np.float64(0.3250099370876948), np.float64(0.21207880849639574), np.float64(0.8317136317491531), np.float64(0.23338652029633522), np.float64(0.9943210482597351), np.float64(0.21076507431765398), np.float64(0.20733879568676153), np.float64(0.29720673834284145), np.float64(0.692412997285525), np.float64(0.24946216532650092), np.float64(0.8431243499120077), np.float64(0.6479402432839075), np.float64(0.4096352110306422), np.float64(0.6694815854231516), np.float64(0.3750586782892545), np.float64(0.4355009247859319), np.float64(0.2808227203786373), np.float64(0.7688644429047903), np.float64(0.6310678372780482), np.float64(0.6548866977294286), np.float64(0.33246786147356033), np.float64(0.20092483749613166), np.float64(0.9773244261741638), np.float64(0.8897000849246979), np.float64(0.36988506466150284), np.float64(0.16842771077062935), np.float64(0.7497977217038473), np.float64(0.4178661232193311), np.float64(0.4647388557593028), np.float64(0.6340033113956451), np.float64(0.3828153486053149), np.float64(0.775767500201861), np.float64(0.4499804377555847), np.float64(0.4774852742751439), np.float64(0.4297267695267995), np.float64(0.8634962191184362), np.float64(0.33802807206908864), np.float64(0.8759866257508596), np.float64(0.5677463561296463), np.float64(0.34062834829092026), np.float64(0.3772314116358757), np.float64(0.1983246585538533), np.float64(0.2672621708673735), np.float64(0.575173502167066), np.float64(0.24469570008416971), np.float64(0.5635992487271627), np.float64(0.2625416045387586), np.float64(0.3244998889664809), np.float64(0.4635740617911021), np.float64(0.579946811000506), np.float64(0.6192477345466614), np.float64(0.6606650749842325), np.float64(0.39506860620652634), np.float64(0.8242166340351105), np.float64(0.2534421446422736), np.float64(0.33832936609784764), np.float64(0.2361121904104948), np.float64(0.17936667232424952), np.float64(0.8156528969605764), np.float64(0.5448446472485861), np.float64(0.8044573962688446), np.float64(0.22020064604779085), np.float64(0.5896607240041097), np.float64(0.6748167475064596), np.float64(0.5521363293131193), np.float64(0.6982036729653677), np.float64(0.4291473428408305), np.float64(0.2054503165806333), np.float64(0.5253124386072159), np.float64(0.5432934314012527), np.float64(0.20506387948989868), np.float64(0.22520382267733416), np.float64(0.1854445069717864), np.float64(0.1790286130271852), np.float64(0.3540215492248535), np.float64(0.4053450971841812), np.float64(0.9336059590180715), np.float64(0.6189811080694199), np.float64(0.1736782179796137), np.float64(0.9012535909811655), np.float64(0.618845671415329), np.float64(0.6944972574710846), np.float64(0.4824657452603181), np.float64(0.593840758005778), np.float64(0.19482653960585594), np.float64(0.33344397818048793), np.float64(0.9303006927172343), np.float64(0.2722077045279245), np.float64(0.4596381758650144), np.float64(0.16797245119232684), np.float64(0.5474607100089391), np.float64(0.4168432727456093), np.float64(0.6360665659109751), np.float64(0.37402880440155667), np.float64(0.3577902453641097), np.float64(0.6399439424276352), np.float64(0.4521998663743337), np.float64(0.25821927189826965), np.float64(0.7795624335606893), np.float64(0.4988722900549571), np.float64(0.29168313307066757), np.float64(0.3742820198337237), np.float64(0.26299452781677246), np.float64(0.9303578436374664), np.float64(0.6263626565535864), np.float64(0.49681059022744495), np.float64(0.2419963584591945), np.float64(0.3863330880800883), np.float64(0.3964596341053645), np.float64(0.22149721967677274), np.float64(0.4885121484597524), np.float64(0.4142358625928561), np.float64(0.2502595962335666), np.float64(0.36847393587231636), np.float64(0.9750591814517975), np.float64(0.5073175430297852), np.float64(0.8135894934336344), np.float64(0.9105804165204366), np.float64(0.34431864383320016), np.float64(0.7707357009251913), np.float64(0.4773323858777682), np.float64(0.48569412032763165), np.float64(0.7202969839175543), np.float64(0.3092621962229411), np.float64(0.23602589778602123), np.float64(0.6303009539842606), np.float64(0.2869150477151076), np.float64(0.22087051302272206), np.float64(0.2998761186997096), np.float64(0.23157105843226114), np.float64(0.570804183681806), np.float64(0.37205733607212704), np.float64(0.305188350379467), np.float64(0.7660834491252899), np.float64(0.32268577441573143), np.float64(0.17810661997646093), np.float64(0.33711562554041546), np.float64(0.904477447271347), np.float64(0.6993342091639837), np.float64(0.2433234602212906), np.float64(0.4186115488409996), np.float64(0.9549010495344797), np.float64(0.3939911400278409), np.float64(0.38111433386802673), np.float64(0.8980172971884409), np.float64(0.8749135633309683), np.float64(0.9685600598653158), np.float64(0.8165290256341299), np.float64(0.18096410374467573), np.float64(0.3648626233140628), np.float64(0.6409453352292379), np.float64(0.3933309316635132), np.float64(0.911691794792811), np.float64(0.20462985709309578), np.float64(0.18166679400019348), np.float64(0.4743218272924423), np.float64(0.202453488484025), np.float64(0.3336486963768645), np.float64(0.8404050568739573), np.float64(0.16924082761761383), np.float64(0.8711897730827332), np.float64(0.21176096921165785), np.float64(0.8359185457229614), np.float64(0.45948658386866253), np.float64(0.9381938278675079), np.float64(0.8684323827425638), np.float64(0.9273662269115448), np.float64(0.5960436662038168), np.float64(0.49652130901813507), np.float64(0.33495372099181014), np.float64(0.2339617979596369), np.float64(0.2672398816794157), np.float64(0.851373702287674), np.float64(0.18476148803407946), np.float64(0.7181229144334793), np.float64(0.2249926916168382), np.float64(0.4236094280301283), np.float64(0.2445682299633821), np.float64(0.6125603218873342), np.float64(0.7545884052912394), np.float64(0.552276223897934), np.float64(0.16714214428308574), np.float64(0.44340942800045013), np.float64(0.9750093321005503), np.float64(0.6399608651796976), np.float64(0.3082229768236478), np.float64(0.6490707993507385), np.float64(0.1693620541433726), np.float64(0.1883289342125257), np.float64(0.660151332616806), np.float64(0.23633242297607163), np.float64(0.8706375559171041), np.float64(0.19802461129923662), np.float64(0.7939123709996542), np.float64(0.5237896150598923), np.float64(0.47454729676246643), np.float64(0.30891671528418857), np.float64(0.3493481781333685), np.float64(0.1836082871692876), np.float64(0.35213086381554604), np.float64(0.8962603211402893), np.float64(0.7872965733210245), np.float64(0.3837752789258957), np.float64(0.2640824057161808), np.float64(0.2086021682868401), np.float64(0.8307934875289599), np.float64(0.7350645562012991), np.float64(0.44051075478394824), np.float64(0.7516520520051321), np.float64(0.31474684582402307), np.float64(0.9876538813114166), np.float64(0.3922529344757398), np.float64(0.6354515254497528), np.float64(0.2043834626674652), np.float64(0.34600717077652615), np.float64(0.260683777431647), np.float64(0.2561157749344905), np.float64(0.3980856016278267), np.float64(0.4907047599554062), np.float64(0.4095068263510863), np.float64(0.1708772818868359), np.float64(0.8531062801678976), np.float64(0.24635485683878264), np.float64(0.28223775451382), np.float64(0.804463172952334), np.float64(0.9392180641492208), np.float64(0.2591584747036298), np.float64(0.2930445397893588), np.float64(0.7817684412002563), np.float64(0.5314438845962286), np.float64(0.9812655448913574), np.float64(0.1856668364877502), np.float64(0.4855755964914958), np.float64(0.36262282108267146), np.float64(0.307295685634017), np.float64(0.23004223623623452), np.float64(0.8244369725386301), np.float64(0.3777238006393115), np.float64(0.37680381784836453), np.float64(0.32066615236302215), np.float64(0.4036748632788658), np.float64(0.4567268093427022), np.float64(0.39490420867999393), np.float64(0.5300963173309962), np.float64(0.33573682854572934), np.float64(0.5037800769011179), np.float64(0.21930695232003927), np.float64(0.18194254107462862), np.float64(0.9567287663618723), np.float64(0.46391840279102325), np.float64(0.26214711170177907), np.float64(0.1739067865225176), np.float64(0.26352450624108315), np.float64(0.9541525542736053), np.float64(0.40177537004152936), np.float64(0.17393400116513172), np.float64(0.44551681727170944), np.float64(0.5549903884530067), np.float64(0.6838956475257874), np.float64(0.1872700066693748), np.float64(0.8084627936283747), np.float64(0.32817781856283545), np.float64(0.4186742827296257), np.float64(0.3032241618881623), np.float64(0.44963272909323376), np.float64(0.17245721802889116), np.float64(0.21917325832570592), np.float64(0.6337835590044657), np.float64(0.8680050671100616), np.float64(0.6302052189906439), np.float64(0.24697528469065824), np.float64(0.27024677476583747), np.float64(0.30173762887716293), np.float64(0.23454000987112522), np.float64(0.9862581888834635), np.float64(0.548294668396314), np.float64(0.46692271530628204), np.float64(0.38181594014167786), np.float64(0.5313091228405634), np.float64(0.27845091993610066), np.float64(0.9026078085104624), np.float64(0.6314630806446075), np.float64(0.7152513762315115), np.float64(0.4260560870170593), np.float64(0.9329978128274282), np.float64(0.6995612978935242), np.float64(0.6507346977790197), np.float64(0.8429933985074362), np.float64(0.8463131636381149), np.float64(0.17308602982666343), np.float64(0.671380490064621), np.float64(0.18411921678731838), np.float64(0.8291818797588348), np.float64(0.32090542450896464), np.float64(0.24873164171973863), np.float64(0.7672915756702423), np.float64(0.6556428571542104), np.float64(0.28262593410909176), np.float64(0.3479139593740304), np.float64(0.3001608923853685), np.float64(0.5867180625597636), np.float64(0.18727416172623634), np.float64(0.3728190666685502), np.float64(0.32989857097466785), np.float64(0.47082780798276264), np.float64(0.3242741661767165), np.float64(0.8432876070340475), np.float64(0.4122510552406311), np.float64(0.8146877686182658), np.float64(0.2549884766340256), np.float64(0.645392656326294), np.float64(0.5619096606969833), np.float64(0.879133383433024), np.float64(0.2122750704487165), np.float64(0.7829192777474722), np.float64(0.2634708732366562), np.float64(0.645523597796758), np.float64(0.564333568016688), np.float64(0.35555831094582874), np.float64(0.4982439825932185), np.float64(0.2316346789812087), np.float64(0.2771104297911127), np.float64(0.8087424834569296), np.float64(0.24072967593868574), np.float64(0.8143958449363708), np.float64(0.2505028334756692), np.float64(0.9901759525140127), np.float64(0.41304219514131546), np.float64(0.238277991147091), np.float64(0.36589336146910983), np.float64(0.4558909684419632), np.float64(0.43421247601509094), np.float64(0.9409606754779816), np.float64(0.6085597400863966), np.float64(0.3387413527816534), np.float64(0.3486860717336337), np.float64(0.8953682978947958), np.float64(0.5687565406163534), np.float64(0.8126130998134613), np.float64(0.25270784630750615), np.float64(0.5449213037888209), np.float64(0.6751507818698883), np.float64(0.5196828494469324), np.float64(0.287044296041131), np.float64(0.18324240343645215), np.float64(0.6746551394462585), np.float64(0.7680772691965103), np.float64(0.4160759523510933), np.float64(0.4677179232239723), np.float64(0.9903133312861124), np.float64(0.255662868420283), np.float64(0.8394302229086558), np.float64(0.20596407819539309), np.float64(0.9254336257775625), np.float64(0.5079065710306168), np.float64(0.3935747444629669), np.float64(0.8929393092791239), np.float64(0.6683780873815218), np.float64(0.31871773085246485), np.float64(0.583733007311821), np.float64(0.6233260184526443), np.float64(0.9657456477483114), np.float64(0.2669000917424758), np.float64(0.3533352663119634), np.float64(0.237034618233641), np.float64(0.22765502085288367), np.float64(0.2834543784459432), np.float64(0.36002577158312005), np.float64(0.4926551779111226), np.float64(0.5618313600619634), np.float64(0.39018071442842484), np.float64(0.22055255714803934), np.float64(0.230382920242846), np.float64(0.3245968346794446), np.float64(0.32195859774947166), np.float64(0.5325010518232981), np.float64(0.437088410059611), np.float64(0.6610000232855479), np.float64(0.7346707284450531), np.float64(0.2516457177698612), np.float64(0.46027221033970517), np.float64(0.48895948628584546), np.float64(0.410991112391154), np.float64(0.18374313522751132), np.float64(0.7634464502334595), np.float64(0.9414164821306864), np.float64(0.7169473965962728), np.float64(0.3918927162885666), np.float64(0.22779977414757013), np.float64(0.7341709733009338), np.float64(0.5367534657319387), np.float64(0.23422163476546606), np.float64(0.9354672829310099), np.float64(0.8831266363461813), np.float64(0.758017381032308), np.float64(0.9545190433661143), np.float64(0.33057337848003954), np.float64(0.7724462399880091), np.float64(0.1748500211009135), np.float64(0.36463090032339096), np.float64(0.9544024467468262), np.float64(0.9003727634747823), np.float64(0.9504715303579966), np.float64(0.5341678994397322), np.float64(0.2279180984090393), np.float64(0.7635021607081095), np.float64(0.19163664352769652), np.float64(0.22183558635879308), np.float64(0.307207846082747), np.float64(0.17879947612527758), np.float64(0.2904877190788587), np.float64(0.7742286945382754), np.float64(0.6146976153055826), np.float64(0.30505024292021216), np.float64(0.9765589932600657), np.float64(0.18516532564535737), np.float64(0.6541408151388168), np.float64(0.1958157274251183), np.float64(0.5594854752222697), np.float64(0.23729779167721668), np.float64(0.7827342748641968), np.float64(0.6993374625841776), np.float64(0.7261308232943217), np.float64(0.46390758951505023), np.float64(0.30700406866769), np.float64(0.3928832809130351), np.float64(0.878522793451945), np.float64(0.23856912708530822), np.float64(0.9800729751586914), np.float64(0.3664318298300107), np.float64(0.8443938394387563), np.float64(0.7125250101089478), np.float64(0.5230610966682434), np.float64(0.5574180434147517), np.float64(0.39262272665898007), np.float64(0.2777726948261261), np.float64(0.49546968936920166), np.float64(0.7677291830380758), np.float64(0.9051337738831838), np.float64(0.17354596689498672), np.float64(0.303255853553613), np.float64(0.38888634244600934), np.float64(0.8650453587373098), np.float64(0.2914583732684453), np.float64(0.18204414937645197), np.float64(0.5788800666729609), np.float64(0.23585954494774342), np.float64(0.26234574243426323), np.float64(0.8123224576314291), np.float64(0.8737808763980865), np.float64(0.48765825779022026), np.float64(0.869129478931427), np.float64(0.770490825176239), np.float64(0.26997632704054314), np.float64(0.7563108205795288), np.float64(0.3018854347368081), np.float64(0.20384225932260355), np.float64(0.18928828462958336), np.float64(0.18230127655745795), np.float64(0.9287347594896952), np.float64(0.8761529823144277), np.float64(0.20716462602528432), np.float64(0.2839427487924695), np.float64(0.34125616277257603), np.float64(0.5599595308303833), np.float64(0.42384522159894306), np.float64(0.8241201639175415), np.float64(0.20214395752797523), np.float64(0.6235342522462209), np.float64(0.32205741852521896), np.float64(0.30317672644741833), np.float64(0.19213945566055676), np.float64(0.5524283945560455), np.float64(0.7799710432688395), np.float64(0.24031579370299974), np.float64(0.2580987758313616), np.float64(0.646956260005633), np.float64(0.9183357755343119), np.float64(0.474484384059906), np.float64(0.9290806154410044), np.float64(0.3069876916706562), np.float64(0.5874335964520773), np.float64(0.4389488200346629), np.float64(0.17384044469023743), np.float64(0.7142044007778168), np.float64(0.43829800685246784), np.float64(0.807491347193718), np.float64(0.42157059411207837), np.float64(0.3839092602332433), np.float64(0.2682777835871093), np.float64(0.32347379873196286), np.float64(0.2656844314187765), np.float64(0.34316444226230186), np.float64(0.47170692185560864), np.float64(0.297749664944907), np.float64(0.3367731645703316), np.float64(0.44323372344175976), np.float64(0.4598398779829343), np.float64(0.5712017516295115), np.float64(0.28887983690947294), np.float64(0.8114576538403829), np.float64(0.43519723663727444), np.float64(0.4201185405254364), np.float64(0.18492540468772253), np.float64(0.20225418886790672), np.float64(0.18200434643464783), np.float64(0.4518398667375247), np.float64(0.4080824786021064), np.float64(0.7989213665326437), np.float64(0.219548512250185), np.float64(0.21946542399624983), np.float64(0.8103358248869578), np.float64(0.8383886863787969), np.float64(0.7363404333591461), np.float64(0.5821601102749506), np.float64(0.3849106729030609), np.float64(0.8615346054236094), np.float64(0.9784241616725922), np.float64(0.49918076892693836), np.float64(0.2961060491700967), np.float64(0.17347244109259918), np.float64(0.6821190714836121), np.float64(0.27703963468472165), np.float64(0.33338436546425027), np.float64(0.878344714641571), np.float64(0.5343779375155767), np.float64(0.860209991534551), np.float64(0.44786875943342846), np.float64(0.887841155131658), np.float64(0.8193464974562327), np.float64(0.3279457812507947), np.float64(0.1826356981570522), np.float64(0.39300666252772015), np.float64(0.40825648605823517), np.float64(0.9738703270753225), np.float64(0.2850107401609421), np.float64(0.35945457716782886), np.float64(0.5913951148589452), np.float64(0.218993512292703), np.float64(0.9034236868222555), np.float64(0.42660356561342877), np.float64(0.7459656000137329), np.float64(0.26292655275513727), np.float64(0.2053365067889293), np.float64(0.1676340188132599), np.float64(0.3323662454883258), np.float64(0.24934875468413034), np.float64(0.4932171702384949), np.float64(0.7841436211019754), np.float64(0.7098841393987337), np.float64(0.26274650481839973), np.float64(0.6935224533081055), np.float64(0.5301528026660284), np.float64(0.33150191729267436), np.float64(0.25168915279209614), np.float64(0.42547865336139995), np.float64(0.3727685610453288), np.float64(0.3466570923725764), np.float64(0.7669196228186289), np.float64(0.42594238370656967), np.float64(0.5271798372268677), np.float64(0.6337867925564448), np.float64(0.2017502107967933), np.float64(0.7903775374094645), np.float64(0.75089759627978), np.float64(0.5010739571104447), np.float64(0.5631053745746613), np.float64(0.9511041939258575), np.float64(0.8412910997867584), np.float64(0.7982525030771891), np.float64(0.47140271961688995), np.float64(0.3095969408750534), np.float64(0.1868318635970354), np.float64(0.7646839072306951), np.float64(0.9899852375189463), np.float64(0.5538996060689291), np.float64(0.32722702125708264), np.float64(0.23036986651519933), np.float64(0.5382858365774155), np.float64(0.18969127566864094), np.float64(0.892488643527031), np.float64(0.2631774103889863), np.float64(0.32792290796836215), np.float64(0.46729713181654614), np.float64(0.8338144893447558), np.float64(0.5620207240184149), np.float64(0.3359997272491455), np.float64(0.4834066728750865), np.float64(0.5943575799465179), np.float64(0.30964641893903416), np.float64(0.17250890114034215), np.float64(0.4487296889225642), np.float64(0.3444453949729602), np.float64(0.8177375892798106), np.float64(0.31574825445810956), np.float64(0.8503817419211069), np.float64(0.6624500453472137), np.float64(0.8309832314650217), np.float64(0.6818293432394663), np.float64(0.6517859796682993), np.float64(0.24276782292872667), np.float64(0.2888746460278829), np.float64(0.6900581220785776), np.float64(0.2931738868355751), np.float64(0.7217572132746378), np.float64(0.33634835535970825), np.float64(0.28506919493277866), np.float64(0.17298202371845642), np.float64(0.2716047279536724), np.float64(0.33534761766592663), np.float64(0.3578382357954979), np.float64(0.17855958423266807), np.float64(0.8372251292069753), np.float64(0.3937308341264725), np.float64(0.5090918838977814), np.float64(0.21257391820351282), np.float64(0.7607104927301407), np.float64(0.7036602894465128), np.float64(0.2536674663424492), np.float64(0.9781617522239685), np.float64(0.2839694519837697), np.float64(0.3560661201675733), np.float64(0.5278177633881569), np.float64(0.7134529451529185), np.float64(0.5018445352713267), np.float64(0.6834001143773397), np.float64(0.24917117009560266), np.float64(0.9358118375142416), np.float64(0.8315227131048838), np.float64(0.5290789355834326), np.float64(0.4250728463133176), np.float64(0.5396241148312887), np.float64(0.8959774076938629), np.float64(0.18758165991554657), np.float64(0.3468542496363322), np.float64(0.17987377227594456), np.float64(0.3450825872520606), np.float64(0.7932484050591787), np.float64(0.20813547198971113), np.float64(0.6140349060297012), np.float64(0.3949633538722992), np.float64(0.7563031017780304), np.float64(0.5225923011700312), np.float64(0.9843782087167104), np.float64(0.5616506164272627), np.float64(0.357391394674778), np.float64(0.9067012866338094), np.float64(0.3746395905812581), np.float64(0.39245593796173733), np.float64(0.4488700181245804), np.float64(0.8669674495855967), np.float64(0.541730597615242), np.float64(0.8335860172907511), np.float64(0.39778338372707367), np.float64(0.2209150225680787), np.float64(0.5085479964812597), np.float64(0.42857092975949246), np.float64(0.24536166194593534), np.float64(0.7657561401526133), np.float64(0.632886161406835), np.float64(0.41951659818490344), np.float64(0.22522077771524587), np.float64(0.7443660944700241), np.float64(0.7160680294036865), np.float64(0.2543232135940343), np.float64(0.4806983470916748), np.float64(0.4576535274585088), np.float64(0.4993143652876218), np.float64(0.35810500507553417), np.float64(0.8370722730954488), np.float64(0.851215235888958), np.float64(0.502660870552063), np.float64(0.31031899402538937), np.float64(0.2844395463665326), np.float64(0.3159378841519356), np.float64(0.6467094918092092), np.float64(0.8118960162003835), np.float64(0.5588424851497015), np.float64(0.33791092907389003), np.float64(0.850835790236791), np.float64(0.5265658448139826), np.float64(0.659004345536232), np.float64(0.8910113076368967), np.float64(0.38256191710631055), np.float64(0.2602432928979397), np.float64(0.4596903771162033), np.float64(0.38718177874883014), np.float64(0.3692389552791913), np.float64(0.4003342539072037), np.float64(0.5709860672553381), np.float64(0.17722107512721172), np.float64(0.29805806403358776), np.float64(0.7092590928077698), np.float64(0.3809107554455598), np.float64(0.8516569137573242), np.float64(0.6943663855393728), np.float64(0.4367251669367154), np.float64(0.8647980988025665), np.float64(0.8849348028500875), np.float64(0.22068413409094015), np.float64(0.5391574949026108), np.float64(0.8037893871466318), np.float64(0.351388609657685), np.float64(0.6983985106150309), np.float64(0.31062280635039013), np.float64(0.9218461612860361), np.float64(0.6903382440408071), np.float64(0.2518158443272114), np.float64(0.9183575312296549), np.float64(0.4385231137275696), np.float64(0.773824542760849), np.float64(0.9469183882077535), np.float64(0.23145882909496626), np.float64(0.4926229864358902), np.float64(0.8935542007287344), np.float64(0.33719203621149063), np.float64(0.4465389847755432), np.float64(0.9138818979263306), np.float64(0.2517881232003371), np.float64(0.537870983282725), np.float64(0.9009773234526316), np.float64(0.2980937485893567), np.float64(0.7863122274478277), np.float64(0.8229779402414957), np.float64(0.35860498746236164), np.float64(0.4690907100836436), np.float64(0.7719162671516339), np.float64(0.49311259388923645), np.float64(0.7659955322742462), np.float64(0.9054028590520223), np.float64(0.2024973270793756), np.float64(0.34504636749625206), np.float64(0.22796649982531866), np.float64(0.9170418282349905), np.float64(0.32536304742097855), np.float64(0.6721713443597158), np.float64(0.21899509926637015), np.float64(0.3735989009340604), np.float64(0.7825082043806711), np.float64(0.18832321278750896), np.float64(0.502605602145195), np.float64(0.35070208211739856), np.float64(0.3005473005274932), np.float64(0.22309644784157476), np.float64(0.2845040212074916), np.float64(0.270175576210022), np.float64(0.31717557460069656), np.float64(0.3406286823252837), np.float64(0.39586514482895535), np.float64(0.5983172605435053), np.float64(0.19904427245880166), np.float64(0.2760850489139557), np.float64(0.48567141592502594), np.float64(0.33202354858318966), np.float64(0.24082389052879685), np.float64(0.9184416929880778), np.float64(0.36197977016369504), np.float64(0.498609518011411), np.float64(0.915217806895574), np.float64(0.17097378529918691), np.float64(0.41470348834991455), np.float64(0.2281114620467027), np.float64(0.3652624040842056), np.float64(0.23964851597944895), np.float64(0.5272469520568848), np.float64(0.41836825261513394), np.float64(0.6080870230992635), np.float64(0.19711062436302504), np.float64(0.4290677284200986), np.float64(0.7968777517477671), np.float64(0.16876647726166993), np.float64(0.3095596084992091), np.float64(0.5610102961460749), np.float64(0.5938679377237955), np.float64(0.4710208723942439), np.float64(0.48154368499914807), np.float64(0.2532408895397869), np.float64(0.8967754344145457), np.float64(0.1701594329594324), np.float64(0.27510231857498485), np.float64(0.9237061639626821), np.float64(0.35389409710963565), np.float64(0.6596260766188303), np.float64(0.609998474518458), np.float64(0.94878222544988), np.float64(0.4822150518496831), np.float64(0.2791401892900467), np.float64(0.4774307732780774), np.float64(0.3274231056372325), np.float64(0.3466155330340068), np.float64(0.7026909540096918), np.float64(0.4089079474409421), np.float64(0.33464556808273), np.float64(0.4804281195004781), np.float64(0.684280247737964), np.float64(0.6803812868893147), np.float64(0.6488129844268163), np.float64(0.7664290765921274), np.float64(0.8116025353471438), np.float64(0.8890870809555054), np.float64(0.7366897016763687), np.float64(0.3759571680178245), np.float64(0.3119444747765859), np.float64(0.5021863892131174), np.float64(0.9449648459752401), np.float64(0.29493435968955356), np.float64(0.9231917063395182), np.float64(0.1923647977722188), np.float64(0.3640873407324155), np.float64(0.698976735273997), np.float64(0.6399039228757223), np.float64(0.23207371681928635), np.float64(0.22592654327551523), np.float64(0.2393748201429844), np.float64(0.8773122628529867), np.float64(0.41410766045252484), np.float64(0.48726017276446026), np.float64(0.2688245568424463), np.float64(0.2079846952110529), np.float64(0.3286735912164052), np.float64(0.1676033804930436), np.float64(0.831405778725942), np.float64(0.3343347081293662), np.float64(0.5385412126779556), np.float64(0.3818496912717819), np.float64(0.30948664744695026), np.float64(0.7616617977619171), np.float64(0.19971969972054163), np.float64(0.7657177696625391), np.float64(0.5126289129257202), np.float64(0.24169841905434927), np.float64(0.5742717236280441), np.float64(0.3474171459674835), np.float64(0.9728095730145773), np.float64(0.7686926424503326), np.float64(0.18447857505331436), np.float64(0.30908559262752533), np.float64(0.5541814963022867), np.float64(0.1943881611029307), np.float64(0.7581418752670288), np.float64(0.17756304948125035), np.float64(0.48827860690653324), np.float64(0.9222840766112009), np.float64(0.192004746136566), np.float64(0.17517640775380036), np.float64(0.7151286204655966), np.float64(0.3040724576761325), np.float64(0.9408681293328603), np.float64(0.37577669074138004), np.float64(0.7305719951788584), np.float64(0.17700876862121126), np.float64(0.7496910492579142), np.float64(0.48920438687006634), np.float64(0.4991340854515632), np.float64(0.21379297537108263), np.float64(0.589848667383194), np.float64(0.9108838935693105), np.float64(0.2159929902603229), np.float64(0.2582676497598489), np.float64(0.4142510546371341), np.float64(0.6513585845629374), np.float64(0.801871677239736), np.float64(0.7095957199732462), np.float64(0.4599229420224826), np.float64(0.2629697942174971), np.float64(0.37343453367551166), np.float64(0.3628461907307307), np.float64(0.7113895565271378), np.float64(0.1841614596778527), np.float64(0.35645902156829834), np.float64(0.6140517890453339), np.float64(0.895106703042984), np.float64(0.39228035509586334), np.float64(0.49574869871139526), np.float64(0.44677136838436127), np.float64(0.24908041643599668), np.float64(0.28648510078589123), np.float64(0.39750949541727704), np.float64(0.3226516892512639), np.float64(0.36533928538362187), np.float64(0.45250591783163446), np.float64(0.7637054721514384), np.float64(0.39509332676728565), np.float64(0.27352514614661533), np.float64(0.41661756703009206), np.float64(0.870756983757019), np.float64(0.4451405704021454), np.float64(0.37897977232933044), np.float64(0.33106959238648415), np.float64(0.44018442183732986), np.float64(0.28423203776280087), np.float64(0.16709911098102262), np.float64(0.625626747806867), np.float64(0.8985631267229716), np.float64(0.9617246687412262), np.float64(0.36535415798425674), np.float64(0.3532406943850219), np.float64(0.30035978051212925), np.float64(0.755885124206543), np.float64(0.20835780948012447), np.float64(0.41744158665339154), np.float64(0.2934165404488643), np.float64(0.6304905613263448), np.float64(0.1791144956368953), np.float64(0.353580005466938), np.float64(0.20818570628762245), np.float64(0.6763950536648432), np.float64(0.19383117525527874), np.float64(0.20784284019221863), np.float64(0.20245320008446774), np.float64(0.18961657284914205), np.float64(0.5182249383845677), np.float64(0.4676123758157094), np.float64(0.6637591967980067), np.float64(0.860900859038035), np.float64(0.5306869509319464), np.float64(0.4611905465523402), np.float64(0.4942122846841812), np.float64(0.7499544123808543), np.float64(0.2694184295833111), np.float64(0.25983646512031555), np.float64(0.7071998020013174), np.float64(0.5654082000255585), np.float64(0.26555851148441434), np.float64(0.4676784773667653), np.float64(0.6424207588036855), np.float64(0.6721710984905561), np.float64(0.35676271623621386), np.float64(0.18563997466117144), np.float64(0.5792208065589269), np.float64(0.29788370927174884), np.float64(0.4862019618352254), np.float64(0.38360263407230377), np.float64(0.7420636514822642), np.float64(0.2848766607251794), np.float64(0.49032987157503766), np.float64(0.6626049180825552), np.float64(0.742968832453092), np.float64(0.8753761599461237), np.float64(0.52261949578921), np.float64(0.9434786836306254), np.float64(0.1959149989609917), np.float64(0.24918892607092857), np.float64(0.47310083856185275), np.float64(0.3474387302994728), np.float64(0.39242539430658024), np.float64(0.648284358282884), np.float64(0.17178060634372136), np.float64(0.6299644311269125), np.float64(0.3558824931581815), np.float64(0.6285621325174967), np.float64(0.6294743716716766), np.float64(0.4434701551993688), np.float64(0.1951564454163114), np.float64(0.38384593029816944), np.float64(0.2708956201871236), np.float64(0.199062107441326), np.float64(0.2590142525732517), np.float64(0.5640446891387304), np.float64(0.38772550970315933), np.float64(0.36134081458052), np.float64(0.18997489816198745), np.float64(0.5437519550323486), np.float64(0.17934997201276323), np.float64(0.3760293861851096), np.float64(0.20940334474047026), np.float64(0.8010351757208506), np.float64(0.6088704317808151), np.float64(0.1947412551380694), np.float64(0.1956766527146101), np.float64(0.5648287981748581), np.float64(0.5217138777176539), np.float64(0.3402193045864503), np.float64(0.5749858866135279), np.float64(0.3111441321671009), np.float64(0.2833866427342097), np.float64(0.6493625442186991), np.float64(0.3195692015190919), np.float64(0.2901130610456069), np.float64(0.958923319975535), np.float64(0.17307497654110193), np.float64(0.7898915112018585), np.float64(0.3207293264567852), np.float64(0.45558590193589527), np.float64(0.30222435280059773), np.float64(0.4307916561762492), np.float64(0.6155610183874766), np.float64(0.2595035284757614), np.float64(0.20050175208598375), np.float64(0.8484943509101868), np.float64(0.9410226245721182), np.float64(0.3108394061467455), np.float64(0.7890771627426147), np.float64(0.9556264678637186), np.float64(0.33930816501379013), np.float64(0.45002854863802594), np.float64(0.29050568242867786), np.float64(0.3518543690443039), np.float64(0.7936669985453287), np.float64(0.46592843035856885), np.float64(0.43633052706718445), np.float64(0.7488220930099487), np.float64(0.2540050068249305), np.float64(0.2288170661777258), np.float64(0.6918729941050211), np.float64(0.7650100663304329), np.float64(0.8101849059263865), np.float64(0.39577725032965344), np.float64(0.20044547186262207), np.float64(0.3544285173217456), np.float64(0.8897672295570374), np.float64(0.47028663257757825), np.float64(0.8175414800643921), np.float64(0.21496930213955542), np.float64(0.30841954828550416), np.float64(0.7161828279495239), np.float64(0.3610413484275341), np.float64(0.22830313133696714), np.float64(0.34689512724677724), np.float64(0.28716393063465756), np.float64(0.17032406122113267), np.float64(0.23405850430329642), np.float64(0.8655773301919302), np.float64(0.38872453446189564), np.float64(0.33960871398448944), np.float64(0.2131742723286152), np.float64(0.49980311968829483), np.float64(0.5016181071599325), np.float64(0.47994257509708405), np.float64(0.2646378390491009), np.float64(0.2034362262735764), np.float64(0.3624753126253684), np.float64(0.6713987390200297), np.float64(0.7941153744856516), np.float64(0.26540426289041835), np.float64(0.6997873385747274), np.float64(0.3065984919667244), np.float64(0.2964615002274513), np.float64(0.47470998267332715), np.float64(0.99207870165507), np.float64(0.3294834643602371), np.float64(0.39380744596322376), np.float64(0.9338653087615967), np.float64(0.8531759877999624), np.float64(0.17075890469520041), np.float64(0.7054863373438517), np.float64(0.6173893709977468), np.float64(0.6241087516148885), np.float64(0.7721009055773417), np.float64(0.32537728175520897), np.float64(0.3129986599087715), np.float64(0.5695431778828303), np.float64(0.8503164052963257), np.float64(0.9266290962696075), np.float64(0.4929315646489461), np.float64(0.28880396112799644), np.float64(0.4963449190060298), np.float64(0.8803470134735107), np.float64(0.5297224124272665), np.float64(0.5449778487284979), np.float64(0.4625212425986926), np.float64(0.2564647955975185), np.float64(0.5180635377764702), np.float64(0.7846225400765737), np.float64(0.6871334215005239), np.float64(0.3187270723283291), np.float64(0.32944605747858685), np.float64(0.5652802251279354), np.float64(0.2497338493121788), np.float64(0.49163413325247046), np.float64(0.847209612528483), np.float64(0.33707087486982346), np.float64(0.43180104593435925), np.float64(0.379082349439462), np.float64(0.5117811610301336), np.float64(0.9598466555277506), np.float64(0.7213123341401418), np.float64(0.2916395651797454), np.float64(0.4615183472633362), np.float64(0.6471955676873525), np.float64(0.1676058165661137), np.float64(0.6818892459074656), np.float64(0.30244585250814754), np.float64(0.23667201772332191), np.float64(0.4548386136690776), np.float64(0.9372234443823496), np.float64(0.49115177243947983), np.float64(0.24075360844532648), np.float64(0.7225066721439362), np.float64(0.9521891176700592), np.float64(0.8993792633215586), np.float64(0.21134900425871214), np.float64(0.8028350671132406), np.float64(0.2631127790858348), np.float64(0.3874942014614741), np.float64(0.17923910341536006), np.float64(0.8697880407174429), np.float64(0.19280402548611164), np.float64(0.3576758801937103), np.float64(0.45074519018332165), np.float64(0.2649905981888878), np.float64(0.5806811427076658), np.float64(0.401061790684859), np.float64(0.22375834981600443), np.float64(0.5571470806996027), np.float64(0.8653100927670797), np.float64(0.6335511257251104), np.float64(0.3193723385532697), np.float64(0.18126998050138354), np.float64(0.5174407462279002), np.float64(0.19143182473878065), np.float64(0.3018791762491067), np.float64(0.37092555438478786), np.float64(0.17657934540572265), np.float64(0.819199134906133), np.float64(0.3724228100230296), np.float64(0.6463258216778437), np.float64(0.48230843245983124), np.float64(0.29250137507915497), np.float64(0.24490562826395035), np.float64(0.5036723266045252), np.float64(0.1981446797338625), np.float64(0.23667233375211558), np.float64(0.2813928903002913), np.float64(0.7650176684061686), np.float64(0.3441183765729268), np.float64(0.6612263917922974), np.float64(0.9861020346482595), np.float64(0.27156064193695784), np.float64(0.3488900437951088), np.float64(0.5306899547576904), np.float64(0.20705892673383156), np.float64(0.26155057301123935), np.float64(0.1707966051156594), np.float64(0.27420573060711223), np.float64(0.34047360842426616), np.float64(0.16531231654274356), np.float64(0.3133925286432107), np.float64(0.35749675581852597), np.float64(0.2813160077979167), np.float64(0.2933555593093236), np.float64(0.24712598075469336), np.float64(0.4584284871816635), np.float64(0.4237052947282791), np.float64(0.9235570430755615), np.float64(0.5670077999432882), np.float64(0.5200823148091634), np.float64(0.2249264419078827), np.float64(0.8778085311253866), np.float64(0.4981522373855114), np.float64(0.21794886328279972), np.float64(0.7946738203366598), np.float64(0.31609466423590976), np.float64(0.8383618394533793), np.float64(0.7022797763347626), np.float64(0.586232011516889), np.float64(0.4171309694647789), np.float64(0.21618461178150028), np.float64(0.4607626845439275), np.float64(0.45603087544441223), np.float64(0.16705666847216585), np.float64(0.16905734688043594), np.float64(0.34564704323808354), np.float64(0.18148995594431958), np.float64(0.6360498865445455), np.float64(0.8774470289548238), np.float64(0.4077695955832799), np.float64(0.4569598188002904), np.float64(0.709895004828771), np.float64(0.5120469133059183), np.float64(0.5413225243488947), np.float64(0.9028385976950327), np.float64(0.5152808427810669), np.float64(0.6719081103801727), np.float64(0.48597340285778046), np.float64(0.18085910147055984), np.float64(0.8773495753606161), np.float64(0.34931645169854164), np.float64(0.3719427486260732), np.float64(0.2562289374570052), np.float64(0.30203066517909366), np.float64(0.38215773676832515), np.float64(0.8785394579172134), np.float64(0.6392956922451655), np.float64(0.5624866187572479), np.float64(0.37881407390038174), np.float64(0.5471733460823694), np.float64(0.15816487921013808), np.float64(0.5867073237895966), np.float64(0.4853317042191823), np.float64(0.29540687426924706), np.float64(0.2482259844740232), np.float64(0.25230662276347476), np.float64(0.1703025702930366), np.float64(0.20138587647428116), np.float64(0.4431950201590856), np.float64(0.403260404864947), np.float64(0.3754271666208903), np.float64(0.1883828709833324), np.float64(0.37577388683954877), np.float64(0.47717200716336566), np.float64(0.2622160885172586), np.float64(0.4158230076233546), np.float64(0.18431675744553408), np.float64(0.5864362070957819), np.float64(0.5680177584290504), np.float64(0.6198811332384745), np.float64(0.17448527447413653), np.float64(0.3097703432043393), np.float64(0.19267694605514407), np.float64(0.5397221048672994), np.float64(0.27842075874408084), np.float64(0.20468208162734905), np.float64(0.3407212955256303), np.float64(0.3071470695237319), np.float64(0.2062359262102594), np.float64(0.41476906339327496), np.float64(0.27545433706836775), np.float64(0.5292669832706451), np.float64(0.19133157189935446), np.float64(0.8119377692540487), np.float64(0.7248295247554779), np.float64(0.17482059398510805), np.float64(0.222543361907204), np.float64(0.20319780986756086), np.float64(0.18002472709243497), np.float64(0.4121916244427363), np.float64(0.5006395876407623), np.float64(0.6479407548904419), np.float64(0.6561409533023834), np.float64(0.2626800673703353), np.float64(0.23726967085773745), np.float64(0.8216424385706583), np.float64(0.45060695211092633), np.float64(0.22318397322669625), np.float64(0.5048838099464774), np.float64(0.5168709556261698), np.float64(0.21774767284902433), np.float64(0.9156337678432465), np.float64(0.36543043951193493), np.float64(0.2880970274563879), np.float64(0.8314291536808014), np.float64(0.34153422464927036), np.float64(0.3275003054489692), np.float64(0.17488964988539615), np.float64(0.4912363837162654), np.float64(0.28801609699924785), np.float64(0.2524610956509908), np.float64(0.9066300690174103), np.float64(0.5415739665428797), np.float64(0.380416685094436), np.float64(0.5067615161339442), np.float64(0.3327404260635376), np.float64(0.4231425498922666), np.float64(0.3221824758996566), np.float64(0.2558136060833931), np.float64(0.8423036932945251), np.float64(0.7770249843597412), np.float64(0.39461007714271545), np.float64(0.34224292635917664), np.float64(0.39030618717273075), np.float64(0.17721319338306785), np.float64(0.4002546966075897), np.float64(0.5466737051804861), np.float64(0.38404121096634), np.float64(0.8728534678618113), np.float64(0.970522552728653), np.float64(0.19935311485702792), np.float64(0.735842227935791), np.float64(0.43914052844047546), np.float64(0.8776948153972626), np.float64(0.8972767889499664), np.float64(0.5002425312995911), np.float64(0.5367924024661382), np.float64(0.394646296898524), np.float64(0.2767491177219199), np.float64(0.25667834530274075), np.float64(0.19868545792996883), np.float64(0.7481281856695811), np.float64(0.5289886196454366), np.float64(0.4258964608112971), np.float64(0.6898695627848307), np.float64(0.554216687877973), np.float64(0.24423114334543547), np.float64(0.490253413716952), np.float64(0.5302211145559946), np.float64(0.3263033628463745), np.float64(0.1781009710393846), np.float64(0.5409510284662247), np.float64(0.18686939884598056), np.float64(0.55806731681029), np.float64(0.32429742673411965), np.float64(0.353128369897604), np.float64(0.720501184463501), np.float64(0.259694737692674), np.float64(0.32206321507692337), np.float64(0.7965060770511627), np.float64(0.6160112967093786), np.float64(0.6059617797533671), np.float64(0.5002707193295161), np.float64(0.20307155741708507), np.float64(0.3000392547498147), np.float64(0.18896385872115692), np.float64(0.7392904460430145), np.float64(0.9141031006971995), np.float64(0.747924784819285), np.float64(0.8377776940663656), np.float64(0.31488850091894466), np.float64(0.18103130906820297), np.float64(0.9721574286619822), np.float64(0.40859244018793106), np.float64(0.8150925437609354), np.float64(0.6636475970347723), np.float64(0.6361585060755411), np.float64(0.4887069094305237), np.float64(0.2637925210098426), np.float64(0.9255608717600504), np.float64(0.8064844707647959), np.float64(0.3549552708864212), np.float64(0.5970401465892792), np.float64(0.28257883169377845), np.float64(0.25552623594800633), np.float64(0.9067128400007883), np.float64(0.8339953720569611), np.float64(0.1810430601083984), np.float64(0.3390057583649953), np.float64(0.2320494333592554), np.float64(0.7120631436506907), np.float64(0.5469773709774017), np.float64(0.25811796639997436), np.float64(0.9059092203776041), np.float64(0.18607550021260977), np.float64(0.6988469560941061), np.float64(0.3480806176861127), np.float64(0.7160095870494843), np.float64(0.2923954352736473), np.float64(0.7853409846623739), np.float64(0.5938436215122541), np.float64(0.41334053377310437), np.float64(0.16827172108848268), np.float64(0.2796463171641032), np.float64(0.17818456375971437), np.float64(0.494381715854009), np.float64(0.1919580038326482), np.float64(0.8591008186340332), np.float64(0.34861586180826026), np.float64(0.49834088880258304), np.float64(0.19850348494946957), np.float64(0.9344062209129333), np.float64(0.23094995956247052), np.float64(0.1840296924735109), np.float64(0.6439537952343622), np.float64(0.18505676835775375), np.float64(0.211208223122109), np.float64(0.8908997774124146), np.float64(0.3688373987873395), np.float64(0.27138227845231694), np.float64(0.4014628181854884), np.float64(0.4040030812223752), np.float64(0.5500993852814039), np.float64(0.887569655974706), np.float64(0.27230692623804015), np.float64(0.8881698846817017), np.float64(0.7710759242375692), np.float64(0.19912981304029623), np.float64(0.6310446858406067), np.float64(0.9709866444269816), np.float64(0.5105198472738266), np.float64(0.4814066117008527), np.float64(0.601680393020312), np.float64(0.22051820096870264), np.float64(0.9187561670939127), np.float64(0.34197648366292316), np.float64(0.3920651550094287), np.float64(0.40469739337762195), np.float64(0.8182753448685011), np.float64(0.4231204291184743), np.float64(0.8467402905225754), np.float64(0.40482530494530994), np.float64(0.7322262128194174), np.float64(0.4229142293334007), np.float64(0.18092554854229093), np.float64(0.2707748031631733), np.float64(0.29027773067355156), np.float64(0.4411190301179886), np.float64(0.4315963685512543), np.float64(0.23469309012095133), np.float64(0.895852247873942), np.float64(0.37445471187432605), np.float64(0.7633069256941477), np.float64(0.3305428996682167), np.float64(0.5874118109544119), np.float64(0.4264490157365799), np.float64(0.2991699328025182), np.float64(0.24329053175946078), np.float64(0.4808235516150792), np.float64(0.5293896545966467), np.float64(0.27996911853551865), np.float64(0.9103600233793259), np.float64(0.6588544646898905), np.float64(0.21918013759811097), np.float64(0.8080550034840902), np.float64(0.7259560426076254), np.float64(0.23946246628959975), np.float64(0.33378154411911964), np.float64(0.6334792027870814), np.float64(0.5854231591025988), np.float64(0.3322958784798781), np.float64(0.8201100130875906), np.float64(0.9025331139564514), np.float64(0.3715519731243451), np.float64(0.18514121416956186), np.float64(0.7291164100170135), np.float64(0.78289462129275), np.float64(0.4263642181952794), np.float64(0.24010978328684965), np.float64(0.9515757461388906), np.float64(0.3493744855125745), np.float64(0.695475568373998), np.float64(0.893838236729304), np.float64(0.8991381824016571), np.float64(0.5065153439839681), np.float64(0.2462508069972197), np.float64(0.5356903026501337), np.float64(0.8030872394641241), np.float64(0.8127798835436503), np.float64(0.19189009140245616), np.float64(0.1689563217611673), np.float64(0.6182403365770975), np.float64(0.35597026348114014), np.float64(0.3621235142151515), np.float64(0.4388040651877721), np.float64(0.4635859727859497), np.float64(0.7377102275689443), np.float64(0.2989881162260038), np.float64(0.4574095495045185), np.float64(0.6416857093572617), np.float64(0.39398204286893207), np.float64(0.2432202777514855), np.float64(0.8709458907445272), np.float64(0.7404156227906545), np.float64(0.2189692941804727), np.float64(0.49349248471359414), np.float64(0.28042452534039813), np.float64(0.21561675875758132), np.float64(0.1755048924436172), np.float64(0.782490869363149), np.float64(0.5113337486982346), np.float64(0.2777085531658183), np.float64(0.4605906878908475), np.float64(0.36773521701494855), np.float64(0.43907178441683453), np.float64(0.5156199733416239), np.float64(0.23560040071606636), np.float64(0.24476206550995508), np.float64(0.9223076701164246), np.float64(0.1679282024560962), np.float64(0.2793955324838559), np.float64(0.48843173682689667), np.float64(0.6529221137364706), np.float64(0.26292988161245984), np.float64(0.41810960508883), np.float64(0.9305208921432495), np.float64(0.8501987755298615), np.float64(0.3417842263976733), np.float64(0.1701177623666202), np.float64(0.32180034679671127), np.float64(0.17943766728664437), np.float64(0.5622196843226751), np.float64(0.19193261147787175), np.float64(0.42719367146492004), np.float64(0.36676227301359177), np.float64(0.3196892514824867), np.float64(0.8762950301170349), np.float64(0.3569829569508632), np.float64(0.9026712775230408), np.float64(0.8682370285193125), np.float64(0.36959016136825085), np.float64(0.6824731528759003), np.float64(0.882547969619433), np.float64(0.1893630678920696), np.float64(0.8693594435850779), np.float64(0.8441419005393982), np.float64(0.3086472600698471), np.float64(0.6935839802026749), np.float64(0.5900952766338984), np.float64(0.3710241951048374), np.float64(0.7489628692468008), np.float64(0.9566580355167389), np.float64(0.8270806968212128), np.float64(0.27475667962183553), np.float64(0.21989905213316283), np.float64(0.42721037069956463), np.float64(0.5242716521024704), np.float64(0.647447461883227), np.float64(0.5845559984445572), np.float64(0.5701566388209661), np.float64(0.8037780225276947), np.float64(0.9434854388237), np.float64(0.7755636821190516), np.float64(0.17475266855520508), np.float64(0.6543605178594589), np.float64(0.2688943495353063), np.float64(0.3606409281492233), np.float64(0.4333101858695348), np.float64(0.6224632362524668), np.float64(0.3412551266762118), np.float64(0.6076073050498962), np.float64(0.8893822779258093), np.float64(0.1695286990434397), np.float64(0.5827624748150507), np.float64(0.7624823252360026), np.float64(0.2973010159718494), np.float64(0.2834141068936636), np.float64(0.30107086648543674), np.float64(0.19234291526178518), np.float64(0.8885311881701151), np.float64(0.2837635924418767), np.float64(0.5316736300786337), np.float64(0.36799106498559314), np.float64(0.5178053031365076), np.float64(0.21539139188826084), np.float64(0.1872411013658469), np.float64(0.4035395508011182), np.float64(0.9948558509349823), np.float64(0.46927082041899365), np.float64(0.7642814218997955), np.float64(0.29579459394638735), np.float64(0.9146173993746439), np.float64(0.2928750899930795), np.float64(0.5118968536456426), np.float64(0.37204034129778546), np.float64(0.5419661998748779), np.float64(0.45140669246514636), np.float64(0.3166130433479945), np.float64(0.9349286754926046), np.float64(0.42232806235551834), np.float64(0.49591395831278834), np.float64(0.43635642528533936), np.float64(0.7639646530151367), np.float64(0.35293855518102646), np.float64(0.32582704660793144), np.float64(0.3036896791309118), np.float64(0.6078665107488632), np.float64(0.22967026196420193), np.float64(0.8633750677108765), np.float64(0.30453313266237575), np.float64(0.6969188352425894), np.float64(0.6466036935647329), np.float64(0.5944984604914983), np.float64(0.5347900787989298), np.float64(0.3371996581554413), np.float64(0.9940976500511169), np.float64(0.9691321750481924), np.float64(0.42877810820937157), np.float64(0.28316980227828026), np.float64(0.3064689685901006), np.float64(0.386377215385437), np.float64(0.943266491095225), np.float64(0.2842750007554666), np.float64(0.6644794046878815), np.float64(0.8005852897961935), np.float64(0.5167847673098246), np.float64(0.27231725367407006), np.float64(0.601084346572558), np.float64(0.7798691689968109), np.float64(0.43733295798301697), np.float64(0.20110702514648438), np.float64(0.6863564352194468), np.float64(0.3842209428548813), np.float64(0.42976565659046173), np.float64(0.17282505341184637), np.float64(0.6462284872929255), np.float64(0.35146546363830566), np.float64(0.32020880716542405), np.float64(0.6877138813336691), np.float64(0.33896151060859364), np.float64(0.57478400071462), np.float64(0.7659457921981812), np.float64(0.2496393497228079), np.float64(0.24425825422319272), np.float64(0.4951608131329219), np.float64(0.4181014796098073), np.float64(0.28613720710078877), np.float64(0.5743246277173361), np.float64(0.686901738246282), np.float64(0.4229409545660019), np.float64(0.4349097857872645), np.float64(0.42772992451985675), np.float64(0.9315478603045145), np.float64(0.8413773675759634), np.float64(0.1874566824796299), np.float64(0.3170926695068677), np.float64(0.17539526463951916), np.float64(0.28785689268261194), np.float64(0.34154897431532544), np.float64(0.9974779884020487), np.float64(0.581977387269338), np.float64(0.858533630768458), np.float64(0.25257120343546074), np.float64(0.6292425294717153), np.float64(0.48052239914735156), np.float64(0.34661924839019775), np.float64(0.8513666490713755), np.float64(0.577106366554896), np.float64(0.42973120510578156), np.float64(0.20033318852074444), np.float64(0.22351897911479077), np.float64(0.2138374000787735), np.float64(0.2434494954844316), np.float64(0.21471790069093308), np.float64(0.20711259233454862), np.float64(0.42761532217264175), np.float64(0.4947897344827652), np.float64(0.37336024393637973), np.float64(0.3265954869178434), np.float64(0.34125541647275287), np.float64(0.6678679784138998), np.float64(0.5252004638314247), np.float64(0.916709174712499), np.float64(0.6417876978715261), np.float64(0.32375458503762883), np.float64(0.9675052960713705), np.float64(0.2255748145010633), np.float64(0.2928877439117059), np.float64(0.7008510529994965), np.float64(0.21164398857702812), np.float64(0.34301143884658813), np.float64(0.6441675573587418), np.float64(0.9027344783147176), np.float64(0.4530732035636902), np.float64(0.9314702053864797), np.float64(0.32028599448191625), np.float64(0.38181403279304504), np.float64(0.30689746017257374), np.float64(0.4701422452926636), np.float64(0.45697489380836487), np.float64(0.8427367508411407), np.float64(0.5928960293531418), np.float64(0.5086380317807198), np.float64(0.8869356513023376), np.float64(0.4840289081136386), np.float64(0.3263844947020213), np.float64(0.535312424103419), np.float64(0.23446883695820966), np.float64(0.3718813806772232), np.float64(0.8966147104899088), np.float64(0.2252273472646872), np.float64(0.8057883580525717), np.float64(0.32245739673574764), np.float64(0.40606016168991727), np.float64(0.41157248616218567), np.float64(0.24163412675261497), np.float64(0.5553573767344157), np.float64(0.6085781082510948), np.float64(0.19460368063300848), np.float64(0.2999628235896428), np.float64(0.7970370799303055), np.float64(0.8339438935120901), np.float64(0.2833414822816849), np.float64(0.7345331509908041), np.float64(0.8848353574673334), np.float64(0.30278923114140827), np.float64(0.17087688677323362), np.float64(0.18585033202543855), np.float64(0.9329051077365875), np.float64(0.8667267858982086), np.float64(0.2577255455156167), np.float64(0.5192953000466028), np.float64(0.7822803457578024), np.float64(0.2129579372704029), np.float64(0.5520226210355759), np.float64(0.8997476994991302), np.float64(0.21066775421301523), np.float64(0.625740592678388), np.float64(0.4868124524752299), np.float64(0.691313182314237), np.float64(0.22036775294691324), np.float64(0.4463124672571818), np.float64(0.3559606224298477), np.float64(0.37698538849751156), np.float64(0.5277401109536489), np.float64(0.9337187012036642), np.float64(0.823974629243215), np.float64(0.49825609227021533), np.float64(0.24994919262826443), np.float64(0.5438830504814783), np.float64(0.8899543980757395), np.float64(0.23924654194464287), np.float64(0.6681806147098541), np.float64(0.9010083675384521), np.float64(0.6408652265866598), np.float64(0.21182835288345814), np.float64(0.9726084967454275), np.float64(0.7569784969091415), np.float64(0.27209965884685516), np.float64(0.5721657276153564), np.float64(0.28960032264391583), np.float64(0.9265775283177694), np.float64(0.5690267359217008), np.float64(0.16845380463140222), np.float64(0.5144229928652445), np.float64(0.8425800005594889), np.float64(0.2700655398269494), np.float64(0.8149221837520599), np.float64(0.6679436167081197), np.float64(0.35871438433726627), np.float64(0.8992982010046641), np.float64(0.7734855314095815), np.float64(0.8153307338555654), np.float64(0.8483309149742126), np.float64(0.4644957035779953), np.float64(0.4029411847392718), np.float64(0.2323257476091385), np.float64(0.7969987392425537), np.float64(0.6224098255236944), np.float64(0.31430113315582275), np.float64(0.5288077145814896), np.float64(0.2748567871749401), np.float64(0.24740543216466904), np.float64(0.8028648694356283), np.float64(0.9425658285617828), np.float64(0.8458283692598343), np.float64(0.2302720621228218), np.float64(0.8855274319648743), np.float64(0.9038316508134207), np.float64(0.5351743102073669), np.float64(0.8821225762367249), np.float64(0.18697752803564072), np.float64(0.9251523415247599), np.float64(0.16806666382278004), np.float64(0.7106532156467438), np.float64(0.6365464876095454), np.float64(0.8180149098237356), np.float64(0.5792520840962728), np.float64(0.6997476269801458), np.float64(0.8985639015833536), np.float64(0.5358523279428482), np.float64(0.5378626883029938), np.float64(0.9481125275293986), np.float64(0.9342999358971914), np.float64(0.4849008296926816), np.float64(0.9534763097763062), np.float64(0.39459439118703205), np.float64(0.43058201173941296), np.float64(0.5856718793511391), np.float64(0.9413047134876251), np.float64(0.28126464163263637), np.float64(0.291175684444094), np.float64(0.2999415857096513), np.float64(0.656409869591395), np.float64(0.7793679113189379), np.float64(0.9084393978118896), np.float64(0.7266472081343333), np.float64(0.20809854691227278), np.float64(0.8873641192913055), np.float64(0.5901734481255213), np.float64(0.8575539886951447), np.float64(0.44858483721812564), np.float64(0.35106679052114487), np.float64(0.946487287680308), np.float64(0.3500584388772647), np.float64(0.3069170266389847), np.float64(0.5023890684048334), np.float64(0.3139536703626315), np.float64(0.435732439160347), np.float64(0.37773557379841805), np.float64(0.6386571973562241), np.float64(0.746976395448049), np.float64(0.5521539598703384), np.float64(0.5400945196549097), np.float64(0.1853999107455214), np.float64(0.18439222391073903), np.float64(0.18185832196225724), np.float64(0.41266876459121704), np.float64(0.6832532435655594), np.float64(0.26563179280492477), np.float64(0.27349411758283776), np.float64(0.4587867359320323), np.float64(0.22470661827052632), np.float64(0.6374851564566294), np.float64(0.5053271303574244), np.float64(0.28137678404649097), np.float64(0.37291864305734634), np.float64(0.1809022071150442), np.float64(0.18916640477254987), np.float64(0.7656829158465067), np.float64(0.25370117485484417), np.float64(0.19907801831141114), np.float64(0.4303657536705335), np.float64(0.22965773505469164), np.float64(0.27280033255616826), np.float64(0.7198190726339817), np.float64(0.9177264968554179), np.float64(0.7448778450489044), np.float64(0.8951756457487742), np.float64(0.5122691988945007), np.float64(0.7525424857934316), np.float64(0.5252417425314585), np.float64(0.4091118797659874), np.float64(0.18023416167125106), np.float64(0.2217319142073393), np.float64(0.4943080022931099), np.float64(0.3716018448273341), np.float64(0.47040554881095886), np.float64(0.24636533266554275), np.float64(0.24566490759995455), np.float64(0.32373212293411296), np.float64(0.621953954299291), np.float64(0.7526667068401972), np.float64(0.38158806413412094), np.float64(0.36263959544400376), np.float64(0.2125191284964482), np.float64(0.19650438396881023), np.float64(0.2668617808570464), np.float64(0.8405767977237701), np.float64(0.9686603347460429), np.float64(0.24255832812438408), np.float64(0.4582166026035945), np.float64(0.5889712025721868), np.float64(0.47863900909821194), np.float64(0.9918117523193359), np.float64(0.6110567301511765), np.float64(0.7403183529774348), np.float64(0.577464813987414), np.float64(0.5800329993168513), np.float64(0.2894536865254243), np.float64(0.4673261145750682), np.float64(0.24499678363402685), np.float64(0.9630817274252573), np.float64(0.28554612196361023), np.float64(0.3145001203326198), np.float64(0.23439978063106537), np.float64(0.32210128448787145), np.float64(0.2395621920004487), np.float64(0.17661406906942526), np.float64(0.7869470616181692), np.float64(0.17131746715555587), np.float64(0.4136096015572548), np.float64(0.2971915068725745), np.float64(0.5779389490683874), np.float64(0.2133518651838434), np.float64(0.680066833893458), np.float64(0.30085663373271626), np.float64(0.19267624554534754), np.float64(0.8599400122960409), np.float64(0.4646596759557724), np.float64(0.17965017274642983), np.float64(0.38134996096293133), np.float64(0.1944648149268081), np.float64(0.2765405805160602), np.float64(0.1700770911605408), np.float64(0.2952977555493514), np.float64(0.32243645812074345), np.float64(0.21645528033089553), np.float64(0.3124009370803833), np.float64(0.6808985521396002), np.float64(0.9154505729675293), np.float64(0.1734446429181844), np.float64(0.20988252013921738), np.float64(0.5811519076426824), np.float64(0.4302845969796181), np.float64(0.5050610968222221), np.float64(0.8578474124272665), np.float64(0.5528103361527125), np.float64(0.7976981004079183), np.float64(0.1902291375833253), np.float64(0.2854674657185872), np.float64(0.4898466070493062), np.float64(0.7793671290079752), np.float64(0.6883699893951416), np.float64(0.2759758266620338), np.float64(0.8391561011473337), np.float64(0.7813599035143852), np.float64(0.9364521404107412), np.float64(0.40055712560812634), np.float64(0.7135996619860331), np.float64(0.17058384315654015), np.float64(0.9232997496922811), np.float64(0.15834340484191975), np.float64(0.6201003839572271), np.float64(0.752601183950901), np.float64(0.32564059396584827), np.float64(0.2583851097151637), np.float64(0.6954887062311172), np.float64(0.8680159747600555), np.float64(0.4799475794037183), np.float64(0.3429066563645999), np.float64(0.8420834044615427), np.float64(0.7675053675969442), np.float64(0.3930109404027462), np.float64(0.4196143125494321), np.float64(0.7657738377650579), np.float64(0.39810426036516827), np.float64(0.2886264094461997), np.float64(0.34592636426289874), np.float64(0.7289075454076132), np.float64(0.915004034837087), np.float64(0.3532463262478511), np.float64(0.4996434549490611), np.float64(0.206814159018298), np.float64(0.16785742295905948), np.float64(0.5071248039603233), np.float64(0.19213078124448657), np.float64(0.42528969270642847), np.float64(0.719729150334994), np.float64(0.5268887430429459), np.float64(0.47098388771216076), np.float64(0.758600135644277), np.float64(0.41361954311529797), np.float64(0.5558041930198669), np.float64(0.30880481625596684), np.float64(0.307133295883735), np.float64(0.5828446497519811), np.float64(0.24077430041506886), np.float64(0.19812722651598355), np.float64(0.18091425485908985), np.float64(0.6412271708250046), np.float64(0.67871955037117), np.float64(0.5137867778539658), np.float64(0.1902177638063828), np.float64(0.5696506947278976), np.float64(0.7226604421933492), np.float64(0.49566225210825604), np.float64(0.3247476536780596), np.float64(0.19581130660420362), np.float64(0.2617092017705242), np.float64(0.38231755793094635), np.float64(0.9163658320903778), np.float64(0.8340367873509725), np.float64(0.7437546153863271), np.float64(0.9021600385506948), np.float64(0.9388315578301748), np.float64(0.2541939591368039), np.float64(0.7952802429596583), np.float64(0.6124826321999232), np.float64(0.5137238204479218), np.float64(0.46683017661174137), np.float64(0.5955694019794464), np.float64(0.3383394330739975), np.float64(0.2373557152847449), np.float64(0.29562753314773244), np.float64(0.40804312378168106), np.float64(0.6966135799884796), np.float64(0.42818254232406616), np.float64(0.6703989406426748), np.float64(0.9267738461494446), np.float64(0.6892840371777614), np.float64(0.27790914724270505), np.float64(0.7654390831788381), np.float64(0.46846934656302136), np.float64(0.6330453753471375), np.float64(0.1726400584448129), np.float64(0.8158960541089376), np.float64(0.3534139146407445), np.float64(0.17474120405192176), np.float64(0.45194534957408905), np.float64(0.5327118287483851), np.float64(0.6622738440831503), np.float64(0.7051938871542612), np.float64(0.40493593489130336), np.float64(0.3137219534255564), np.float64(0.2875682885448138), np.float64(0.37660396099090576), np.float64(0.5711451123158137), np.float64(0.1721421721498094), np.float64(0.2882184659441312), np.float64(0.3646710216999054), np.float64(0.4910804182291031), np.float64(0.19952042544658374), np.float64(0.4500364710887273), np.float64(0.9546520511309305), np.float64(0.9564624627431234), np.float64(0.5755704740683237), np.float64(0.3593222927302122), np.float64(0.9889844059944153), np.float64(0.7508881340424219), np.float64(0.34523466726144153), np.float64(0.9237423241138458), np.float64(0.2817505697409312), np.float64(0.9612497190634409), np.float64(0.5839631160100301), np.float64(0.6765153606732687), np.float64(0.21594583638943732), np.float64(0.766605406999588), np.float64(0.4251799061894417), np.float64(0.5728847483793894), np.float64(0.5417856474717458), np.float64(0.7264532794555029), np.float64(0.393320731818676), np.float64(0.327801422526439), np.float64(0.5649240712324778), np.float64(0.5483793864647547), np.float64(0.1726069264113903), np.float64(0.20434556408630064), np.float64(0.282195878525575), np.float64(0.9291121065616608), np.float64(0.6123755474885305), np.float64(0.6733994682629904), np.float64(0.28646459554632503), np.float64(0.9524994889895121), np.float64(0.2542655287931363), np.float64(0.36970720315972966), np.float64(0.19239603293438753), np.float64(0.4605351189772288), np.float64(0.8518495361010233), np.float64(0.5657323449850082), np.float64(0.30745459347963333), np.float64(0.2906048794587453), np.float64(0.7672813236713409), np.float64(0.6409397125244141), np.float64(0.19204440641139323), np.float64(0.4707476447025935), np.float64(0.9611478646596273), np.float64(0.20715364320009635), np.float64(0.5512506564458212), np.float64(0.1894878481204311), np.float64(0.5894922216733297), np.float64(0.16732330604766807), np.float64(0.378410076101621), np.float64(0.3172609855731328), np.float64(0.8608435293038686), np.float64(0.7815729478995005), np.float64(0.26052714822192985), np.float64(0.7310097416241964), np.float64(0.43716877450545627), np.float64(0.22299542340139547), np.float64(0.34845899790525436), np.float64(0.3272162737945716), np.float64(0.18531949274862805), np.float64(0.35561088224252063), np.float64(0.3895102987686793), np.float64(0.49450607349475223), np.float64(0.40331649283568066), np.float64(0.20700910813563192), np.float64(0.724113884071509), np.float64(0.3515136030813058), np.float64(0.28934598838289577), np.float64(0.29527858768900234), np.float64(0.5464762300252914), np.float64(0.8677852749824524), np.float64(0.5623885492483774), np.float64(0.4346749062339465), np.float64(0.47662483920188), np.float64(0.4863767623901367), np.float64(0.4660535901784897), np.float64(0.8961985806624094), np.float64(0.5327674299478531), np.float64(0.4101292776564757), np.float64(0.9447795152664185), np.float64(0.2880897556121151), np.float64(0.7110638618469238), np.float64(0.7322211364905039), np.float64(0.45781243344148), np.float64(0.3752639889717102), np.float64(0.5857346852620443), np.float64(0.47181928406159085), np.float64(0.3319678803284963), np.float64(0.9073607126871744), np.float64(0.5195945203304291), np.float64(0.7479437192281088), np.float64(0.8183441460132599), np.float64(0.19644680277754864), np.float64(0.9927472869555155), np.float64(0.8563425143559774), np.float64(0.5458487967650095), np.float64(0.535770354171594), np.float64(0.5412529384096464), np.float64(0.5245781093835831), np.float64(0.5924012859662374), np.float64(0.5611185620849332), np.float64(0.8517192403475443), np.float64(0.2749952037508289), np.float64(0.5682324568430582), np.float64(0.5653064797321955), np.float64(0.631133422255516), np.float64(0.644517054160436), np.float64(0.8298560380935669), np.float64(0.40400169789791107), np.float64(0.928384413321813), np.float64(0.5717315425475439), np.float64(0.19878654150913158), np.float64(0.9621636668841044), np.float64(0.30607513214151066), np.float64(0.846250057220459), np.float64(0.7284039258956909), np.float64(0.3022438834110896), np.float64(0.6111724724372228), np.float64(0.345895953476429), np.float64(0.32330626125137013), np.float64(0.9050700962543488), np.float64(0.20419186802852587), np.float64(0.35805072883764905), np.float64(0.44957777857780457), np.float64(0.36040072826047737), np.float64(0.3913908402125041), np.float64(0.22659449900190035), np.float64(0.3327931761741638), np.float64(0.5074239820241928), np.float64(0.512492631872495), np.float64(0.5702677170435587), np.float64(0.41773788134257), np.float64(0.5930935541788737), np.float64(0.6039594908555349), np.float64(0.2799926698207855), np.float64(0.29848988555992645), np.float64(0.4104308287302653), np.float64(0.3060831075999886), np.float64(0.18600234296172857), np.float64(0.24337450601160526), np.float64(0.2521239736427863), np.float64(0.44174184401830036), np.float64(0.4828161150217056), np.float64(0.8812603950500488), np.float64(0.5151377419630686), np.float64(0.525060643752416), np.float64(0.7813653002182642), np.float64(0.2250984162092209), np.float64(0.8767029841740926), np.float64(0.23142884795864424), np.float64(0.24041141817967096), np.float64(0.5090499420960745), np.float64(0.4295559947689374), np.float64(0.27270011355479556), np.float64(0.16551298292082114), np.float64(0.269843918348973), np.float64(0.49502263421891257), np.float64(0.33966730659206706), np.float64(0.9182044267654419), np.float64(0.3854912060002486), np.float64(0.8192798395951589), np.float64(0.31128874172767), np.float64(0.3449140315254529), np.float64(0.40210191781322163), np.float64(0.654528796672821), np.float64(0.6011026551326116), np.float64(0.3787267717222373), np.float64(0.7025146583716074), np.float64(0.8388174176216125), np.float64(0.5662072350581487), np.float64(0.8740388651688894), np.float64(0.30355691195776063), np.float64(0.30969666689634323), np.float64(0.21801583531002203), np.float64(0.8240457574526469), np.float64(0.3489283969004949), np.float64(0.28933825219670933), np.float64(0.7709407309691111), np.float64(0.21585061711569628), np.float64(0.3263598332802455), np.float64(0.5190803656975428), np.float64(0.2771996466132502), np.float64(0.2512455544201657), np.float64(0.2666640418271224), np.float64(0.20997605713394782), np.float64(0.46895306805769604), np.float64(0.2798247051735719), np.float64(0.4432537804047267), np.float64(0.3013114867111047), np.float64(0.3702506758272648), np.float64(0.5719097803036371), np.float64(0.42301950107018155), np.float64(0.19912318668017784), np.float64(0.2412704055896029), np.float64(0.6285302738348643), np.float64(0.34623823687434196), np.float64(0.4024462898572286), np.float64(0.6513835589090983), np.float64(0.19756496077752672), np.float64(0.41286781926949817), np.float64(0.9379655420780182), np.float64(0.1823895058284203), np.float64(0.8001118699709574), np.float64(0.33676687876383465), np.float64(0.4256453563769658), np.float64(0.8447711865107218), np.float64(0.6203005512555441), np.float64(0.950680136680603), np.float64(0.2837112545967102), np.float64(0.4305778294801712), np.float64(0.30238241453965503), np.float64(0.6700289249420166), np.float64(0.1827784056464831), np.float64(0.35222236563762027), np.float64(0.7848077590266863), np.float64(0.2136585678284367), np.float64(0.6795816421508789), np.float64(0.33770889540513355), np.float64(0.236170569434762), np.float64(0.7051939169565836), np.float64(0.36399945616722107), np.float64(0.43378852556149167), np.float64(0.1884159678593278), np.float64(0.7888276278972626), np.float64(0.9568962951501211), np.float64(0.1889986814931035), np.float64(0.5641854852437973), np.float64(0.179066581496348), np.float64(0.9332346717516581), np.float64(0.46287818253040314), np.float64(0.2350249863229692), np.float64(0.74946462114652), np.float64(0.19114596800257763), np.float64(0.4350753699739774), np.float64(0.16883495713894567), np.float64(0.9045721292495728), np.float64(0.9913487037022909), np.float64(0.8382374048233032), np.float64(0.8567778070767721), np.float64(0.1961758564769601), np.float64(0.41937046746412915), np.float64(0.36911769265619415), np.float64(0.6082237064838409), np.float64(0.5532644440730413), np.float64(0.3226681637267272), np.float64(0.9343270262082418), np.float64(0.26831096259411424), np.float64(0.35408296684424084), np.float64(0.9032973249753317), np.float64(0.3837321350971858), np.float64(0.3780702203512192), np.float64(0.32644880283623934), np.float64(0.3375701420009136), np.float64(0.2526008014877637), np.float64(0.3228356096272667), np.float64(0.49335335940122604), np.float64(0.8014069596926371), np.float64(0.23246849029480168), np.float64(0.9350797931353251), np.float64(0.3120521530460489), np.float64(0.21138673275709152), np.float64(0.894852007428805), np.float64(0.7490803798039755), np.float64(0.6265043417612711), np.float64(0.5849548478921255), np.float64(0.5982096493244171), np.float64(0.2554927083353202), np.float64(0.5392776528994242), np.float64(0.20702204604943594), np.float64(0.3784233828385671), np.float64(0.23135174624621868), np.float64(0.8781147648890814), np.float64(0.7673403819402059), np.float64(0.9004519879817963), np.float64(0.8220592439174652), np.float64(0.867981935540835), np.float64(0.586040273308754), np.float64(0.2300597789386908), np.float64(0.7602161765098572), np.float64(0.24801230492691198), np.float64(0.23021132436891398), np.float64(0.902714600165685), np.float64(0.802118311325709), np.float64(0.3505837842822075), np.float64(0.37758278598388034), np.float64(0.38962563623984653), np.float64(0.5188263555367788), np.float64(0.5438508739074072), np.float64(0.37585800637801486), np.float64(0.31800595050056774), np.float64(0.7123382687568665), np.float64(0.2582927830517292), np.float64(0.6597289343674978), np.float64(0.24374809302389622), np.float64(0.26526639237999916), np.float64(0.3794871022303899), np.float64(0.4237446387608846), np.float64(0.4912411818901698), np.float64(0.6989428003629049), np.float64(0.8366985817750295), np.float64(0.3722381666302681), np.float64(0.5128048261006674), np.float64(0.3462468382592003), np.float64(0.34656153060495853), np.float64(0.5888003061215082), np.float64(0.7918147842089335)]\n",
      "0.11597619832415755\n",
      "0.9994360407193502\n",
      "Randomisation: RandomLogit scores by Sixt et al., 2020.\n",
      "\n",
      " • SHAP =  0.42385377066540814\n"
     ]
    }
   ],
   "source": [
    "RandomLogit_shap = quantus.RandomLogit(\n",
    "    num_classes=2,\n",
    "    disable_warnings=True,\n",
    "    normalise=False,\n",
    "    abs=True, # take absolute values of attributions\n",
    "    display_progressbar=True,\n",
    "    return_aggregate=False, # find the mean of the complexity from all samples\n",
    "    aggregate_func=np.mean,\n",
    ")(\n",
    "    model=wrapped_model,\n",
    "    x_batch=X_test_combined,\n",
    "    y_batch=y_test_int,\n",
    "    a_batch=None,\n",
    "    explain_func=quantus.explain,\n",
    "    explain_func_kwargs={\"method\": \"GradientShap\", \"reduce_axes\": ()},\n",
    "    device=device\n",
    ")\n",
    "\n",
    "\n",
    "print(\n",
    "    f\"Randomisation: RandomLogit scores by Sixt et al., 2020.\\n\"\n",
    "    f\"\\n • SHAP = \",\n",
    "    RandomLogit_shap,\n",
    ")\n",
    "\n",
    "print(np.min(RandomLogit_shap))\n",
    "\n",
    "print(np.max(RandomLogit_shap))\n",
    "\n",
    "# Scale to 0-1\n",
    "RandomLogit_shap = (RandomLogit_shap - np.min(RandomLogit_shap)) / (\n",
    "    np.max(RandomLogit_shap) - np.min(RandomLogit_shap)\n",
    ")\n",
    "\n",
    "# Find mean\n",
    "RandomLogit_shap = np.mean(RandomLogit_shap)\n",
    "\n",
    "print(\n",
    "    f\"Randomisation: RandomLogit scores by Sixt et al., 2020.\\n\"\n",
    "    f\"\\n • SHAP = \",\n",
    "    RandomLogit_shap,\n",
    ")"
   ]
  },
  {
   "cell_type": "code",
   "execution_count": null,
   "id": "8jH8IkkpFvTO",
   "metadata": {
    "colab": {
     "base_uri": "https://localhost:8080/",
     "height": 101,
     "referenced_widgets": [
      "03e44ee770ff48f1ac25154cddcb8154",
      "ac5cdf7d703049bda10b122b65396856",
      "ffbeeb5c076f47caa1b48016c2acd7c7",
      "8f0088265799483986e082bb69ee60cb",
      "55bb937bdb0f467f8fec9c8d0d1c2e05",
      "df1d3bb6b4894749bb7cdb6833df3238",
      "9320c3a45dee4d38a18e9f2e4a5a03cf",
      "03599b1da3ec4a22ba318db0d65a35bb",
      "68a5b28d76594e0e9e70d1ded4961c3e",
      "e880fd7a274f4df2a5b700a12914edb8",
      "4a2303f558d44785bf0b33d2e7d3e1b7"
     ]
    },
    "executionInfo": {
     "elapsed": 92323,
     "status": "ok",
     "timestamp": 1749299846249,
     "user": {
      "displayName": "Hung Thanh Do",
      "userId": "14602254202234053172"
     },
     "user_tz": -120
    },
    "id": "8jH8IkkpFvTO",
    "outputId": "8fac4479-bdcb-49c5-9d71-3b8917c0c1eb"
   },
   "outputs": [
    {
     "data": {
      "application/vnd.jupyter.widget-view+json": {
       "model_id": "03e44ee770ff48f1ac25154cddcb8154",
       "version_major": 2,
       "version_minor": 0
      },
      "text/plain": [
       "  0%|          | 0/208416 [00:00<?, ?it/s]"
      ]
     },
     "metadata": {},
     "output_type": "display_data"
    },
    {
     "name": "stdout",
     "output_type": "stream",
     "text": [
      "Randomisation: MPRT scores by Adebayo et al., 2018\n",
      "\n",
      " • SHAP =  0.5430458995443038\n"
     ]
    }
   ],
   "source": [
    "MPRT_shap = quantus.MPRT(\n",
    "    # similarity_func=quantus.similarity_func.correlation_spearman,\n",
    "    return_average_correlation=True,\n",
    "    # return_aggregate=True, # find the mean of the complexity from all samples\n",
    "    aggregate_func=np.mean,\n",
    "    layer_order=\"independent\",\n",
    "    similarity_func=quantus.ssim,\n",
    "    disable_warnings=True,\n",
    "    normalise=False,\n",
    "    abs=True, # take absolute values of attributions\n",
    "    display_progressbar=True,\n",
    ")(\n",
    "    model=wrapped_model,\n",
    "    x_batch=X_test_combined,\n",
    "    y_batch=y_test_int,\n",
    "    a_batch=None,\n",
    "    explain_func=quantus.explain,\n",
    "    explain_func_kwargs={\"method\": \"GradientShap\", \"reduce_axes\": ()},\n",
    "    device=device\n",
    ")\n",
    "\n",
    "# Scale to 0-1\n",
    "MPRT_shap = (MPRT_shap - np.min(MPRT_shap)) / (\n",
    "    np.max(MPRT_shap) - np.min(MPRT_shap)\n",
    ")\n",
    "\n",
    "# Find mean\n",
    "MPRT_shap = np.mean(MPRT_shap)\n",
    "\n",
    "print(\n",
    "    f\"Randomisation: MPRT scores by Adebayo et al., 2018\\n\"\n",
    "    f\"\\n • SHAP = \",\n",
    "    MPRT_shap,\n",
    ")"
   ]
  },
  {
   "cell_type": "markdown",
   "id": "584d10fc",
   "metadata": {
    "id": "584d10fc"
   },
   "source": [
    "### Summary old"
   ]
  },
  {
   "cell_type": "code",
   "execution_count": null,
   "id": "c66e5f7d",
   "metadata": {
    "colab": {
     "base_uri": "https://localhost:8080/"
    },
    "executionInfo": {
     "elapsed": 12,
     "status": "ok",
     "timestamp": 1748943018225,
     "user": {
      "displayName": "Hung Thanh Do",
      "userId": "14602254202234053172"
     },
     "user_tz": -120
    },
    "id": "c66e5f7d",
    "outputId": "d137d58b-731f-4ac4-cd6e-3d300a47da95"
   },
   "outputs": [
    {
     "name": "stdout",
     "output_type": "stream",
     "text": [
      "Complexity: 0.6759\n",
      "Faithfulness: 0.571\n",
      "Robustness: 0.1267\n",
      "Randomisation: 0.5461\n"
     ]
    }
   ],
   "source": [
    "# # display(Markdown(\"#### Explanability scores\"))\n",
    "\n",
    "# print(\"Complexity:\", round((Complexity_shap + Sparseness_shap) / 2, 4))\n",
    "# print(\"Faithfulness:\", round((FaithfulnessEstimate_shap + FaithfulnessCorrelation_shap) / 2, 4))\n",
    "# print(\"Robustness:\", round(LocalLipschitzEstimate_shap, 4))\n",
    "# print(\"Randomisation:\", round((MPRT_shap + RandomLogit_shap) / 2, 4))"
   ]
  },
  {
   "cell_type": "markdown",
   "id": "qoAZscdR9hYq",
   "metadata": {
    "id": "qoAZscdR9hYq"
   },
   "source": [
    "### Summary (all)"
   ]
  },
  {
   "cell_type": "code",
   "execution_count": null,
   "id": "_QudUZpN9hYq",
   "metadata": {
    "colab": {
     "base_uri": "https://localhost:8080/"
    },
    "executionInfo": {
     "elapsed": 18,
     "status": "ok",
     "timestamp": 1749299846268,
     "user": {
      "displayName": "Hung Thanh Do",
      "userId": "14602254202234053172"
     },
     "user_tz": -120
    },
    "id": "_QudUZpN9hYq",
    "outputId": "8cf9f179-a354-4ed6-9963-7ada01879124"
   },
   "outputs": [
    {
     "name": "stderr",
     "output_type": "stream",
     "text": [
      "<ipython-input-28-acd3cc85ebb0>:12: DeprecationWarning: Conversion of an array with ndim > 0 to a scalar is deprecated, and will error in future. Ensure you extract a single element from your array before performing this operation. (Deprecated NumPy 1.25.)\n",
      "  Sparseness_shap = round(float(Sparseness_shap), 4)\n"
     ]
    }
   ],
   "source": [
    "# Convert from list to int\n",
    "Complexity_shap = np.float64(Complexity_shap)\n",
    "Sparseness_shap = np.float64(Sparseness_shap)\n",
    "MPRT_shap = np.float64(MPRT_shap)\n",
    "RandomLogit_shap = np.float64(RandomLogit_shap)\n",
    "FaithfulnessEstimate_shap = np.float64(FaithfulnessEstimate_shap)\n",
    "FaithfulnessCorrelation_shap = np.float64(FaithfulnessCorrelation_shap)\n",
    "LocalLipschitzEstimate_shap = np.float64(LocalLipschitzEstimate_shap)\n",
    "\n",
    "# Rounding one by one\n",
    "Complexity_shap = round(float(Complexity_shap), 4)\n",
    "Sparseness_shap = round(float(Sparseness_shap), 4)\n",
    "MPRT_shap = round(float(MPRT_shap), 4)\n",
    "RandomLogit_shap = round(float(RandomLogit_shap), 4)\n",
    "FaithfulnessEstimate_shap = round(float(FaithfulnessEstimate_shap), 4)\n",
    "FaithfulnessCorrelation_shap = round(float(FaithfulnessCorrelation_shap), 4)\n",
    "LocalLipschitzEstimate_shap = round(float(LocalLipschitzEstimate_shap), 4)"
   ]
  },
  {
   "cell_type": "code",
   "execution_count": null,
   "id": "D5WQT-D99hYq",
   "metadata": {
    "colab": {
     "base_uri": "https://localhost:8080/"
    },
    "executionInfo": {
     "elapsed": 23,
     "status": "ok",
     "timestamp": 1749300218921,
     "user": {
      "displayName": "Hung Thanh Do",
      "userId": "14602254202234053172"
     },
     "user_tz": -120
    },
    "id": "D5WQT-D99hYq",
    "outputId": "fd0b71ed-b26f-4f74-8ff5-60b571ef7582"
   },
   "outputs": [
    {
     "name": "stdout",
     "output_type": "stream",
     "text": [
      "Complexity: Complexity by Bhatt et al., 2020.\n",
      "\n",
      " • SHAP =  0.6655\n",
      "Complexity: Sparseness by Chalasani et al., 2020.\n",
      "\n",
      " • SHAP =  0.5311\n",
      "Faithfulness: Faithfulness Estimate by Alvarez-Melis et al., 2018.\n",
      "\n",
      " • SHAP =  0.5357\n",
      "Faithfulness: Faithfulness Correlation by Bhatt et al., 2020.\n",
      "\n",
      " • SHAP =  0.5445\n",
      "Robustness: Local Lipschitz Estimate by Alvarez-Melis et al., 2018.\n",
      "\n",
      " • SHAP =  0.1015\n",
      "Randomisation: MPRT scores by Adebayo et al., 2018\n",
      "\n",
      " • SHAP =  0.543\n",
      "Randomisation: RandomLogit scores by Sixt et al., 2020.\n",
      "\n",
      " • SHAP =  0.4239\n"
     ]
    }
   ],
   "source": [
    "\n",
    "\n",
    "# Complexity: Complexity\n",
    "print(\n",
    "    f\"Complexity: Complexity by Bhatt et al., 2020.\\n\"\n",
    "    f\"\\n • SHAP = \",\n",
    "    Complexity_shap,\n",
    ")\n",
    "\n",
    "# Complexity: Sparseness\n",
    "print(\n",
    "    f\"Complexity: Sparseness by Chalasani et al., 2020.\\n\"\n",
    "    f\"\\n • SHAP = \",\n",
    "    Sparseness_shap,\n",
    ")\n",
    "\n",
    "# Faithfulness: Faithfulness Estimate\n",
    "print(\n",
    "    f\"Faithfulness: Faithfulness Estimate by Alvarez-Melis et al., 2018.\\n\"\n",
    "    f\"\\n • SHAP = \",\n",
    "    FaithfulnessEstimate_shap,\n",
    ")\n",
    "\n",
    "# Faithfulness: Faithfulness Correlation\n",
    "print(\n",
    "    f\"Faithfulness: Faithfulness Correlation by Bhatt et al., 2020.\\n\"\n",
    "    f\"\\n • SHAP = \",\n",
    "    FaithfulnessCorrelation_shap,\n",
    ")\n",
    "\n",
    "# Robustness: Local Lipschitz Estimate\n",
    "print(\n",
    "    f\"Robustness: Local Lipschitz Estimate by Alvarez-Melis et al., 2018.\\n\"\n",
    "    f\"\\n • SHAP = \",\n",
    "    LocalLipschitzEstimate_shap,\n",
    ")\n",
    "\n",
    "# Randomisation: MPRT\n",
    "print(\n",
    "    f\"Randomisation: MPRT scores by Adebayo et al., 2018\\n\"\n",
    "    f\"\\n • SHAP = \",\n",
    "    MPRT_shap,\n",
    ")\n",
    "\n",
    "# Randomisation: RandomLogit\n",
    "print(\n",
    "    f\"Randomisation: RandomLogit scores by Sixt et al., 2020.\\n\"\n",
    "    f\"\\n • SHAP = \",\n",
    "    RandomLogit_shap,\n",
    ")"
   ]
  },
  {
   "cell_type": "markdown",
   "id": "GnnXquR29hYq",
   "metadata": {
    "id": "GnnXquR29hYq"
   },
   "source": [
    "### Summary"
   ]
  },
  {
   "cell_type": "code",
   "execution_count": null,
   "id": "C8enOAUT9hYq",
   "metadata": {
    "colab": {
     "base_uri": "https://localhost:8080/"
    },
    "executionInfo": {
     "elapsed": 18,
     "status": "ok",
     "timestamp": 1749300233097,
     "user": {
      "displayName": "Hung Thanh Do",
      "userId": "14602254202234053172"
     },
     "user_tz": -120
    },
    "id": "C8enOAUT9hYq",
    "outputId": "f3acf444-7fed-486c-efa8-4d6b94ded915"
   },
   "outputs": [
    {
     "name": "stdout",
     "output_type": "stream",
     "text": [
      "Complexity\n",
      " • SHAP =  0.5983\n",
      "Faithfulness\n",
      " • SHAP =  0.5401\n",
      "Robustness\n",
      " • SHAP =  0.1015\n",
      "Randomisation\n",
      " • SHAP =  0.4835\n"
     ]
    }
   ],
   "source": [
    "\n",
    "\n",
    "# Complexity: Complexity and Sparseness\n",
    "print(\n",
    "    f\"Complexity\"\n",
    "    f\"\\n • SHAP = \",\n",
    "    round(float((Complexity_shap+Sparseness_shap)/2), 4),\n",
    ")\n",
    "\n",
    "# Faithfulness: Faithfulness Estimate and Faithfulness Correlation\n",
    "print(\n",
    "    f\"Faithfulness\"\n",
    "    f\"\\n • SHAP = \",\n",
    "    round(float((FaithfulnessEstimate_shap+FaithfulnessCorrelation_shap)/2), 4),\n",
    ")\n",
    "\n",
    "# Robustness: Local Lipschitz Estimate\n",
    "print(\n",
    "    f\"Robustness\"\n",
    "    f\"\\n • SHAP = \",\n",
    "    round(float((LocalLipschitzEstimate_shap)), 4),\n",
    ")\n",
    "\n",
    "# Randomisation: MPRT and RandomLogit\n",
    "print(\n",
    "    f\"Randomisation\"\n",
    "    f\"\\n • SHAP = \",\n",
    "    round(float((MPRT_shap+RandomLogit_shap)/2), 4)\n",
    ")"
   ]
  }
 ],
 "metadata": {
  "accelerator": "GPU",
  "colab": {
   "collapsed_sections": [
    "gmhlZLWEASHF",
    "9f97b8ce",
    "22fba891",
    "93e50af7",
    "d9a1e21c",
    "2183bbd4",
    "24573acb",
    "6eab1db0",
    "FvqTZi7WDM7S",
    "1a387f9f",
    "fa411f13",
    "4dfe18e3",
    "fa17fcae",
    "ef3b6f75",
    "61efdccc",
    "ccd48417",
    "128cfc1b",
    "e341902b",
    "a0443ce7",
    "584d10fc",
    "qoAZscdR9hYq",
    "GnnXquR29hYq"
   ],
   "gpuType": "T4",
   "provenance": []
  },
  "kernelspec": {
   "display_name": "Python 3",
   "name": "python3"
  },
  "language_info": {
   "codemirror_mode": {
    "name": "ipython",
    "version": 3
   },
   "file_extension": ".py",
   "mimetype": "text/x-python",
   "name": "python",
   "nbconvert_exporter": "python",
   "pygments_lexer": "ipython3",
   "version": "3.11.11"
  }
 },
 "nbformat": 4,
 "nbformat_minor": 5
}
