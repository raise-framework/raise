{
 "cells": [
  {
   "cell_type": "code",
   "execution_count": null,
   "metadata": {
    "colab": {
     "base_uri": "https://localhost:8080/"
    },
    "executionInfo": {
     "elapsed": 1229,
     "status": "ok",
     "timestamp": 1749289014160,
     "user": {
      "displayName": "Hung Thanh Do",
      "userId": "14602254202234053172"
     },
     "user_tz": -120
    },
    "id": "gaSW3bK2Ln02",
    "outputId": "63da5636-ed02-4bb0-e26f-741aae06d71a"
   },
   "outputs": [
    {
     "name": "stdout",
     "output_type": "stream",
     "text": [
      "Drive already mounted at /content/drive; to attempt to forcibly remount, call drive.mount(\"/content/drive\", force_remount=True).\n"
     ]
    }
   ],
   "source": [
    "from google.colab import drive\n",
    "drive.mount('/content/drive')"
   ]
  },
  {
   "cell_type": "code",
   "execution_count": null,
   "metadata": {
    "colab": {
     "base_uri": "https://localhost:8080/"
    },
    "executionInfo": {
     "elapsed": 47,
     "status": "ok",
     "timestamp": 1749289014208,
     "user": {
      "displayName": "Hung Thanh Do",
      "userId": "14602254202234053172"
     },
     "user_tz": -120
    },
    "id": "1-6yRKPtLo2S",
    "outputId": "a9d2faed-c4f5-4deb-8324-e88fcdc67a12"
   },
   "outputs": [
    {
     "name": "stdout",
     "output_type": "stream",
     "text": [
      "/content/drive/MyDrive/responsive-ai\n"
     ]
    }
   ],
   "source": [
    "%cd '/content/drive/MyDrive/responsive-ai'"
   ]
  },
  {
   "cell_type": "markdown",
   "metadata": {
    "id": "Is29vjDMguUu"
   },
   "source": [
    "## Dependencies"
   ]
  },
  {
   "cell_type": "code",
   "execution_count": null,
   "metadata": {
    "colab": {
     "base_uri": "https://localhost:8080/"
    },
    "collapsed": true,
    "executionInfo": {
     "elapsed": 8409,
     "status": "ok",
     "timestamp": 1749289048347,
     "user": {
      "displayName": "Hung Thanh Do",
      "userId": "14602254202234053172"
     },
     "user_tz": -120
    },
    "id": "FHPPoGT3dE4O",
    "outputId": "f813cc18-2674-49e4-d1b5-a7101a3881da"
   },
   "outputs": [
    {
     "name": "stdout",
     "output_type": "stream",
     "text": [
      "Requirement already satisfied: quantus in /usr/local/lib/python3.11/dist-packages (0.5.3)\n",
      "Requirement already satisfied: numpy>=1.19.5 in /usr/local/lib/python3.11/dist-packages (from quantus) (2.0.2)\n",
      "Requirement already satisfied: pandas>=1.5.3 in /usr/local/lib/python3.11/dist-packages (from quantus) (2.2.2)\n",
      "Requirement already satisfied: opencv-python>=4.5.5.62 in /usr/local/lib/python3.11/dist-packages (from quantus) (4.11.0.86)\n",
      "Requirement already satisfied: scikit-image>=0.19.3 in /usr/local/lib/python3.11/dist-packages (from quantus) (0.25.2)\n",
      "Requirement already satisfied: scikit-learn>=0.24.2 in /usr/local/lib/python3.11/dist-packages (from quantus) (1.6.1)\n",
      "Requirement already satisfied: scipy>=1.7.3 in /usr/local/lib/python3.11/dist-packages (from quantus) (1.15.3)\n",
      "Requirement already satisfied: tqdm>=4.62.3 in /usr/local/lib/python3.11/dist-packages (from quantus) (4.67.1)\n",
      "Requirement already satisfied: matplotlib>=3.3.4 in /usr/local/lib/python3.11/dist-packages (from quantus) (3.10.0)\n",
      "Requirement already satisfied: contourpy>=1.0.1 in /usr/local/lib/python3.11/dist-packages (from matplotlib>=3.3.4->quantus) (1.3.2)\n",
      "Requirement already satisfied: cycler>=0.10 in /usr/local/lib/python3.11/dist-packages (from matplotlib>=3.3.4->quantus) (0.12.1)\n",
      "Requirement already satisfied: fonttools>=4.22.0 in /usr/local/lib/python3.11/dist-packages (from matplotlib>=3.3.4->quantus) (4.58.1)\n",
      "Requirement already satisfied: kiwisolver>=1.3.1 in /usr/local/lib/python3.11/dist-packages (from matplotlib>=3.3.4->quantus) (1.4.8)\n",
      "Requirement already satisfied: packaging>=20.0 in /usr/local/lib/python3.11/dist-packages (from matplotlib>=3.3.4->quantus) (24.2)\n",
      "Requirement already satisfied: pillow>=8 in /usr/local/lib/python3.11/dist-packages (from matplotlib>=3.3.4->quantus) (11.2.1)\n",
      "Requirement already satisfied: pyparsing>=2.3.1 in /usr/local/lib/python3.11/dist-packages (from matplotlib>=3.3.4->quantus) (3.2.3)\n",
      "Requirement already satisfied: python-dateutil>=2.7 in /usr/local/lib/python3.11/dist-packages (from matplotlib>=3.3.4->quantus) (2.9.0.post0)\n",
      "Requirement already satisfied: pytz>=2020.1 in /usr/local/lib/python3.11/dist-packages (from pandas>=1.5.3->quantus) (2025.2)\n",
      "Requirement already satisfied: tzdata>=2022.7 in /usr/local/lib/python3.11/dist-packages (from pandas>=1.5.3->quantus) (2025.2)\n",
      "Requirement already satisfied: networkx>=3.0 in /usr/local/lib/python3.11/dist-packages (from scikit-image>=0.19.3->quantus) (3.5)\n",
      "Requirement already satisfied: imageio!=2.35.0,>=2.33 in /usr/local/lib/python3.11/dist-packages (from scikit-image>=0.19.3->quantus) (2.37.0)\n",
      "Requirement already satisfied: tifffile>=2022.8.12 in /usr/local/lib/python3.11/dist-packages (from scikit-image>=0.19.3->quantus) (2025.6.1)\n",
      "Requirement already satisfied: lazy-loader>=0.4 in /usr/local/lib/python3.11/dist-packages (from scikit-image>=0.19.3->quantus) (0.4)\n",
      "Requirement already satisfied: joblib>=1.2.0 in /usr/local/lib/python3.11/dist-packages (from scikit-learn>=0.24.2->quantus) (1.5.1)\n",
      "Requirement already satisfied: threadpoolctl>=3.1.0 in /usr/local/lib/python3.11/dist-packages (from scikit-learn>=0.24.2->quantus) (3.6.0)\n",
      "Requirement already satisfied: six>=1.5 in /usr/local/lib/python3.11/dist-packages (from python-dateutil>=2.7->matplotlib>=3.3.4->quantus) (1.17.0)\n",
      "Requirement already satisfied: captum==0.7.0 in /usr/local/lib/python3.11/dist-packages (0.7.0)\n",
      "Requirement already satisfied: matplotlib in /usr/local/lib/python3.11/dist-packages (from captum==0.7.0) (3.10.0)\n",
      "Requirement already satisfied: numpy in /usr/local/lib/python3.11/dist-packages (from captum==0.7.0) (2.0.2)\n",
      "Requirement already satisfied: torch>=1.6 in /usr/local/lib/python3.11/dist-packages (from captum==0.7.0) (2.6.0+cu124)\n",
      "Requirement already satisfied: tqdm in /usr/local/lib/python3.11/dist-packages (from captum==0.7.0) (4.67.1)\n",
      "Requirement already satisfied: filelock in /usr/local/lib/python3.11/dist-packages (from torch>=1.6->captum==0.7.0) (3.18.0)\n",
      "Requirement already satisfied: typing-extensions>=4.10.0 in /usr/local/lib/python3.11/dist-packages (from torch>=1.6->captum==0.7.0) (4.14.0)\n",
      "Requirement already satisfied: networkx in /usr/local/lib/python3.11/dist-packages (from torch>=1.6->captum==0.7.0) (3.5)\n",
      "Requirement already satisfied: jinja2 in /usr/local/lib/python3.11/dist-packages (from torch>=1.6->captum==0.7.0) (3.1.6)\n",
      "Requirement already satisfied: fsspec in /usr/local/lib/python3.11/dist-packages (from torch>=1.6->captum==0.7.0) (2025.3.2)\n",
      "Requirement already satisfied: nvidia-cuda-nvrtc-cu12==12.4.127 in /usr/local/lib/python3.11/dist-packages (from torch>=1.6->captum==0.7.0) (12.4.127)\n",
      "Requirement already satisfied: nvidia-cuda-runtime-cu12==12.4.127 in /usr/local/lib/python3.11/dist-packages (from torch>=1.6->captum==0.7.0) (12.4.127)\n",
      "Requirement already satisfied: nvidia-cuda-cupti-cu12==12.4.127 in /usr/local/lib/python3.11/dist-packages (from torch>=1.6->captum==0.7.0) (12.4.127)\n",
      "Requirement already satisfied: nvidia-cudnn-cu12==9.1.0.70 in /usr/local/lib/python3.11/dist-packages (from torch>=1.6->captum==0.7.0) (9.1.0.70)\n",
      "Requirement already satisfied: nvidia-cublas-cu12==12.4.5.8 in /usr/local/lib/python3.11/dist-packages (from torch>=1.6->captum==0.7.0) (12.4.5.8)\n",
      "Requirement already satisfied: nvidia-cufft-cu12==11.2.1.3 in /usr/local/lib/python3.11/dist-packages (from torch>=1.6->captum==0.7.0) (11.2.1.3)\n",
      "Requirement already satisfied: nvidia-curand-cu12==10.3.5.147 in /usr/local/lib/python3.11/dist-packages (from torch>=1.6->captum==0.7.0) (10.3.5.147)\n",
      "Requirement already satisfied: nvidia-cusolver-cu12==11.6.1.9 in /usr/local/lib/python3.11/dist-packages (from torch>=1.6->captum==0.7.0) (11.6.1.9)\n",
      "Requirement already satisfied: nvidia-cusparse-cu12==12.3.1.170 in /usr/local/lib/python3.11/dist-packages (from torch>=1.6->captum==0.7.0) (12.3.1.170)\n",
      "Requirement already satisfied: nvidia-cusparselt-cu12==0.6.2 in /usr/local/lib/python3.11/dist-packages (from torch>=1.6->captum==0.7.0) (0.6.2)\n",
      "Requirement already satisfied: nvidia-nccl-cu12==2.21.5 in /usr/local/lib/python3.11/dist-packages (from torch>=1.6->captum==0.7.0) (2.21.5)\n",
      "Requirement already satisfied: nvidia-nvtx-cu12==12.4.127 in /usr/local/lib/python3.11/dist-packages (from torch>=1.6->captum==0.7.0) (12.4.127)\n",
      "Requirement already satisfied: nvidia-nvjitlink-cu12==12.4.127 in /usr/local/lib/python3.11/dist-packages (from torch>=1.6->captum==0.7.0) (12.4.127)\n",
      "Requirement already satisfied: triton==3.2.0 in /usr/local/lib/python3.11/dist-packages (from torch>=1.6->captum==0.7.0) (3.2.0)\n",
      "Requirement already satisfied: sympy==1.13.1 in /usr/local/lib/python3.11/dist-packages (from torch>=1.6->captum==0.7.0) (1.13.1)\n",
      "Requirement already satisfied: mpmath<1.4,>=1.1.0 in /usr/local/lib/python3.11/dist-packages (from sympy==1.13.1->torch>=1.6->captum==0.7.0) (1.3.0)\n",
      "Requirement already satisfied: contourpy>=1.0.1 in /usr/local/lib/python3.11/dist-packages (from matplotlib->captum==0.7.0) (1.3.2)\n",
      "Requirement already satisfied: cycler>=0.10 in /usr/local/lib/python3.11/dist-packages (from matplotlib->captum==0.7.0) (0.12.1)\n",
      "Requirement already satisfied: fonttools>=4.22.0 in /usr/local/lib/python3.11/dist-packages (from matplotlib->captum==0.7.0) (4.58.1)\n",
      "Requirement already satisfied: kiwisolver>=1.3.1 in /usr/local/lib/python3.11/dist-packages (from matplotlib->captum==0.7.0) (1.4.8)\n",
      "Requirement already satisfied: packaging>=20.0 in /usr/local/lib/python3.11/dist-packages (from matplotlib->captum==0.7.0) (24.2)\n",
      "Requirement already satisfied: pillow>=8 in /usr/local/lib/python3.11/dist-packages (from matplotlib->captum==0.7.0) (11.2.1)\n",
      "Requirement already satisfied: pyparsing>=2.3.1 in /usr/local/lib/python3.11/dist-packages (from matplotlib->captum==0.7.0) (3.2.3)\n",
      "Requirement already satisfied: python-dateutil>=2.7 in /usr/local/lib/python3.11/dist-packages (from matplotlib->captum==0.7.0) (2.9.0.post0)\n",
      "Requirement already satisfied: six>=1.5 in /usr/local/lib/python3.11/dist-packages (from python-dateutil>=2.7->matplotlib->captum==0.7.0) (1.17.0)\n",
      "Requirement already satisfied: MarkupSafe>=2.0 in /usr/local/lib/python3.11/dist-packages (from jinja2->torch>=1.6->captum==0.7.0) (3.0.2)\n",
      "Requirement already satisfied: ptflops in /usr/local/lib/python3.11/dist-packages (0.7.4)\n",
      "Requirement already satisfied: torch>=2.0 in /usr/local/lib/python3.11/dist-packages (from ptflops) (2.6.0+cu124)\n",
      "Requirement already satisfied: filelock in /usr/local/lib/python3.11/dist-packages (from torch>=2.0->ptflops) (3.18.0)\n",
      "Requirement already satisfied: typing-extensions>=4.10.0 in /usr/local/lib/python3.11/dist-packages (from torch>=2.0->ptflops) (4.14.0)\n",
      "Requirement already satisfied: networkx in /usr/local/lib/python3.11/dist-packages (from torch>=2.0->ptflops) (3.5)\n",
      "Requirement already satisfied: jinja2 in /usr/local/lib/python3.11/dist-packages (from torch>=2.0->ptflops) (3.1.6)\n",
      "Requirement already satisfied: fsspec in /usr/local/lib/python3.11/dist-packages (from torch>=2.0->ptflops) (2025.3.2)\n",
      "Requirement already satisfied: nvidia-cuda-nvrtc-cu12==12.4.127 in /usr/local/lib/python3.11/dist-packages (from torch>=2.0->ptflops) (12.4.127)\n",
      "Requirement already satisfied: nvidia-cuda-runtime-cu12==12.4.127 in /usr/local/lib/python3.11/dist-packages (from torch>=2.0->ptflops) (12.4.127)\n",
      "Requirement already satisfied: nvidia-cuda-cupti-cu12==12.4.127 in /usr/local/lib/python3.11/dist-packages (from torch>=2.0->ptflops) (12.4.127)\n",
      "Requirement already satisfied: nvidia-cudnn-cu12==9.1.0.70 in /usr/local/lib/python3.11/dist-packages (from torch>=2.0->ptflops) (9.1.0.70)\n",
      "Requirement already satisfied: nvidia-cublas-cu12==12.4.5.8 in /usr/local/lib/python3.11/dist-packages (from torch>=2.0->ptflops) (12.4.5.8)\n",
      "Requirement already satisfied: nvidia-cufft-cu12==11.2.1.3 in /usr/local/lib/python3.11/dist-packages (from torch>=2.0->ptflops) (11.2.1.3)\n",
      "Requirement already satisfied: nvidia-curand-cu12==10.3.5.147 in /usr/local/lib/python3.11/dist-packages (from torch>=2.0->ptflops) (10.3.5.147)\n",
      "Requirement already satisfied: nvidia-cusolver-cu12==11.6.1.9 in /usr/local/lib/python3.11/dist-packages (from torch>=2.0->ptflops) (11.6.1.9)\n",
      "Requirement already satisfied: nvidia-cusparse-cu12==12.3.1.170 in /usr/local/lib/python3.11/dist-packages (from torch>=2.0->ptflops) (12.3.1.170)\n",
      "Requirement already satisfied: nvidia-cusparselt-cu12==0.6.2 in /usr/local/lib/python3.11/dist-packages (from torch>=2.0->ptflops) (0.6.2)\n",
      "Requirement already satisfied: nvidia-nccl-cu12==2.21.5 in /usr/local/lib/python3.11/dist-packages (from torch>=2.0->ptflops) (2.21.5)\n",
      "Requirement already satisfied: nvidia-nvtx-cu12==12.4.127 in /usr/local/lib/python3.11/dist-packages (from torch>=2.0->ptflops) (12.4.127)\n",
      "Requirement already satisfied: nvidia-nvjitlink-cu12==12.4.127 in /usr/local/lib/python3.11/dist-packages (from torch>=2.0->ptflops) (12.4.127)\n",
      "Requirement already satisfied: triton==3.2.0 in /usr/local/lib/python3.11/dist-packages (from torch>=2.0->ptflops) (3.2.0)\n",
      "Requirement already satisfied: sympy==1.13.1 in /usr/local/lib/python3.11/dist-packages (from torch>=2.0->ptflops) (1.13.1)\n",
      "Requirement already satisfied: mpmath<1.4,>=1.1.0 in /usr/local/lib/python3.11/dist-packages (from sympy==1.13.1->torch>=2.0->ptflops) (1.3.0)\n",
      "Requirement already satisfied: MarkupSafe>=2.0 in /usr/local/lib/python3.11/dist-packages (from jinja2->torch>=2.0->ptflops) (3.0.2)\n"
     ]
    }
   ],
   "source": [
    "!pip install quantus\n",
    "!pip install captum==0.7.0\n",
    "!pip install ptflops"
   ]
  },
  {
   "cell_type": "code",
   "execution_count": null,
   "metadata": {
    "id": "BCgA_YXFcCzx"
   },
   "outputs": [],
   "source": [
    "import torch\n",
    "import torch.nn as nn\n",
    "import torch.optim as optim\n",
    "from torch.utils.data import TensorDataset, DataLoader\n",
    "from sklearn.model_selection import train_test_split\n",
    "from sklearn.metrics import accuracy_score\n",
    "import numpy as np\n",
    "import pandas as pd\n",
    "from typing import Optional\n",
    "from IPython.display import Markdown, display, clear_output\n",
    "import time\n",
    "from tqdm import tqdm\n",
    "import shap\n",
    "import quantus\n"
   ]
  },
  {
   "cell_type": "markdown",
   "metadata": {
    "id": "aC5ZZqGOhTyj"
   },
   "source": [
    "# Data"
   ]
  },
  {
   "cell_type": "markdown",
   "metadata": {
    "id": "ww-ihnSUcCz2"
   },
   "source": [
    "## Data Loading"
   ]
  },
  {
   "cell_type": "code",
   "execution_count": null,
   "metadata": {
    "id": "6IQznGv7cCz5"
   },
   "outputs": [],
   "source": [
    "# ---------------------------\n",
    "# Data Loading and Preparation (label-encoded)\n",
    "# ---------------------------\n",
    "X, y = shap.datasets.adult()\n"
   ]
  },
  {
   "cell_type": "markdown",
   "metadata": {
    "id": "8PJTcdufcCz8"
   },
   "source": [
    "##Preprocessing"
   ]
  },
  {
   "cell_type": "markdown",
   "metadata": {
    "id": "fu9sqMIgcCz-"
   },
   "source": [
    "### Label Encoding (already done by SHAP)"
   ]
  },
  {
   "cell_type": "markdown",
   "metadata": {
    "id": "J22g3WEccC0I"
   },
   "source": [
    "### Splitting & Formatting"
   ]
  },
  {
   "cell_type": "code",
   "execution_count": null,
   "metadata": {
    "id": "Bl7xsfzlcC0I"
   },
   "outputs": [],
   "source": [
    "random_state = 7"
   ]
  },
  {
   "cell_type": "code",
   "execution_count": null,
   "metadata": {
    "id": "S-iSajI2cC0J"
   },
   "outputs": [],
   "source": [
    "##  Split into training and test sets (we use test for evaluation and explanations)\n",
    "\n",
    "X_trainval, X_test, y_trainval, y_test = train_test_split(X, y, test_size=0.2, random_state=random_state, stratify=y)\n",
    "X_train, X_val, y_train, y_val = train_test_split(X_trainval, y_trainval, test_size=0.2, random_state=random_state, stratify=y_trainval)"
   ]
  },
  {
   "cell_type": "code",
   "execution_count": null,
   "metadata": {
    "colab": {
     "base_uri": "https://localhost:8080/"
    },
    "executionInfo": {
     "elapsed": 41,
     "status": "ok",
     "timestamp": 1749289065375,
     "user": {
      "displayName": "Hung Thanh Do",
      "userId": "14602254202234053172"
     },
     "user_tz": -120
    },
    "id": "xynWHCuQcC0J",
    "outputId": "3e9dbb39-6aff-4ffd-a967-a3bc75399f94"
   },
   "outputs": [
    {
     "name": "stdout",
     "output_type": "stream",
     "text": [
      "X_train shape: (20838, 12)\n",
      "X_test shape: (6513, 12)\n",
      "y_train shape: (20838,)\n",
      "y_test shape: (6513,)\n",
      "X_val shape: (5210, 12)\n",
      "y_val shape: (5210,)\n"
     ]
    }
   ],
   "source": [
    "print(\"X_train shape:\", X_train.shape)\n",
    "print(\"X_test shape:\", X_test.shape)\n",
    "print(\"y_train shape:\", y_train.shape)\n",
    "print(\"y_test shape:\", y_test.shape)\n",
    "print(\"X_val shape:\", X_val.shape)\n",
    "print(\"y_val shape:\", y_val.shape)"
   ]
  },
  {
   "cell_type": "code",
   "execution_count": null,
   "metadata": {
    "id": "55bYD53-cC0J"
   },
   "outputs": [],
   "source": [
    "# Convert to numpy arrays\n",
    "X_train_np = X_train.values.astype(np.float32)\n",
    "X_val_np = X_val.values.astype(np.float32)\n",
    "X_test_np = X_test.values.astype(np.float32)\n",
    "\n",
    "# For CrossEntropyLoss, labels must be integers.\n",
    "y_train_np = y_train.astype(np.int64).values if isinstance(y_train, pd.Series) else y_train.astype(np.int64)\n",
    "y_val_np = y_val.astype(np.int64).values if isinstance(y_val, pd.Series) else y_val.astype(np.int64)\n",
    "y_test_np = y_test.astype(np.int64).values if isinstance(y_test, pd.Series) else y_test.astype(np.int64)\n",
    "\n",
    "# Create PyTorch tensors\n",
    "X_train_t = torch.from_numpy(X_train_np)\n",
    "y_train_t = torch.from_numpy(y_train_np)\n",
    "X_val_t = torch.from_numpy(X_val_np)\n",
    "y_val_t = torch.from_numpy(y_val_np)\n",
    "X_test_t = torch.from_numpy(X_test_np)\n",
    "y_test_t = torch.from_numpy(y_test_np)"
   ]
  },
  {
   "cell_type": "markdown",
   "metadata": {
    "id": "9WQFnpP-BKXf"
   },
   "source": [
    "### Dataloader"
   ]
  },
  {
   "cell_type": "code",
   "execution_count": null,
   "metadata": {
    "id": "pZRX6iC1l34J"
   },
   "outputs": [],
   "source": [
    "batch_size = 200\n",
    "\n",
    "train_ds = TensorDataset(\n",
    "    X_train_t,\n",
    "    y_train_t\n",
    ")\n",
    "val_ds = TensorDataset(\n",
    "    X_val_t,\n",
    "    y_val_t\n",
    ")\n",
    "test_ds = TensorDataset(\n",
    "    X_test_t,\n",
    "    y_test_t\n",
    ")\n",
    "train_loader = DataLoader(train_ds, batch_size=batch_size, shuffle=True)\n",
    "val_loader   = DataLoader(val_ds,   batch_size=batch_size, shuffle=False)\n",
    "test_loader  = DataLoader(test_ds,  batch_size=batch_size, shuffle=False)\n"
   ]
  },
  {
   "cell_type": "markdown",
   "metadata": {
    "id": "xboCGhT_cC0K"
   },
   "source": [
    "# Train"
   ]
  },
  {
   "cell_type": "markdown",
   "metadata": {
    "id": "5YPtTBtAcC0M"
   },
   "source": [
    "## MLP"
   ]
  },
  {
   "cell_type": "markdown",
   "metadata": {
    "id": "8LOjCrHHwbOB"
   },
   "source": [
    "### MLP Model"
   ]
  },
  {
   "cell_type": "code",
   "execution_count": null,
   "metadata": {
    "id": "1isW7-N6tUXo"
   },
   "outputs": [],
   "source": [
    "INPUT_DIM     = X_test_np.shape[1]\n",
    "NUM_CLASSES   = 2\n",
    "HIDDEN_DIM    = 50\n",
    "LEARNING_RATE = 1e-3\n",
    "\n",
    "torch.manual_seed(random_state)\n",
    "\n",
    "class MLP(nn.Module):\n",
    "    def __init__(self, input_dim, hidden_dim, output_dim):\n",
    "        super(MLP, self).__init__()\n",
    "        self.fc1 = nn.Linear(input_dim, hidden_dim)\n",
    "        self.relu = nn.ReLU()\n",
    "        self.fc2 = nn.Linear(hidden_dim, output_dim)\n",
    "        # Initialize weights uniformly in [-1/√fan_in, +1/√fan_in]\n",
    "        nn.init.uniform_(self.fc1.weight,\n",
    "                         a=-1.0 / (input_dim**0.5),\n",
    "                         b=+1.0 / (input_dim**0.5))\n",
    "        nn.init.zeros_(self.fc1.bias)\n",
    "        nn.init.uniform_(self.fc2.weight,\n",
    "                         a=-1.0 / (hidden_dim**0.5),\n",
    "                         b=+1.0 / (hidden_dim**0.5))\n",
    "        nn.init.zeros_(self.fc2.bias)\n",
    "\n",
    "    def forward(self, x):\n",
    "        x = self.fc1(x)\n",
    "        x = self.relu(x)\n",
    "        x = self.fc2(x)\n",
    "        return x  # raw logits\n",
    "\n",
    "# Instantiate and move to device\n",
    "device = torch.device(\"cuda\" if torch.cuda.is_available() else \"cpu\")\n",
    "mlp_model = MLP(INPUT_DIM, HIDDEN_DIM, NUM_CLASSES).to(device)\n",
    "\n",
    "criterion = nn.CrossEntropyLoss()\n",
    "optimizer = optim.Adam(mlp_model.parameters(), lr=LEARNING_RATE)"
   ]
  },
  {
   "cell_type": "markdown",
   "metadata": {
    "id": "Ks22oBz4slUV"
   },
   "source": [
    "### Train"
   ]
  },
  {
   "cell_type": "code",
   "execution_count": null,
   "metadata": {
    "colab": {
     "base_uri": "https://localhost:8080/"
    },
    "executionInfo": {
     "elapsed": 1578,
     "status": "ok",
     "timestamp": 1749287725219,
     "user": {
      "displayName": "Hung Thanh Do",
      "userId": "14602254202234053172"
     },
     "user_tz": -120
    },
    "id": "lecV4QTTslUV",
    "outputId": "ac325690-1a0c-4665-afbb-59e9be86d784"
   },
   "outputs": [
    {
     "name": "stdout",
     "output_type": "stream",
     "text": [
      "Epoch [1/400]\n",
      "Training Loss: 41.0780   - Training Accuracy: 0.2220\n",
      "Validation Loss: 31.7552 - Validation Accuracy: 0.2192 \n",
      "\n",
      "Epoch [50/400]\n",
      "Training Loss: 1.5907   - Training Accuracy: 0.6599\n",
      "Validation Loss: 1.5766 - Validation Accuracy: 0.6599 \n",
      "\n",
      "Epoch [100/400]\n",
      "Training Loss: 0.6065   - Training Accuracy: 0.7546\n",
      "Validation Loss: 0.5840 - Validation Accuracy: 0.7821 \n",
      "\n",
      "Epoch [150/400]\n",
      "Training Loss: 0.4800   - Training Accuracy: 0.7882\n",
      "Validation Loss: 0.4698 - Validation Accuracy: 0.7935 \n",
      "\n",
      "Epoch [200/400]\n",
      "Training Loss: 0.4532   - Training Accuracy: 0.7934\n",
      "Validation Loss: 0.4449 - Validation Accuracy: 0.7973 \n",
      "\n",
      "Epoch [250/400]\n",
      "Training Loss: 0.4300   - Training Accuracy: 0.7994\n",
      "Validation Loss: 0.4222 - Validation Accuracy: 0.8021 \n",
      "\n",
      "Epoch [300/400]\n",
      "Training Loss: 0.4076   - Training Accuracy: 0.8037\n",
      "Validation Loss: 0.4012 - Validation Accuracy: 0.8067 \n",
      "\n",
      "Epoch [350/400]\n",
      "Training Loss: 0.3892   - Training Accuracy: 0.8150\n",
      "Validation Loss: 0.3839 - Validation Accuracy: 0.8196 \n",
      "\n",
      "Epoch [400/400]\n",
      "Training Loss: 0.3752   - Training Accuracy: 0.8241\n",
      "Validation Loss: 0.3718 - Validation Accuracy: 0.8286 \n",
      "\n",
      "\n",
      "Test Accuracy: 0.8248\n"
     ]
    }
   ],
   "source": [
    "best_val_loss = float('inf')\n",
    "patience = 30   # Early stopping patience\n",
    "epochs_no_improve = 0\n",
    "\n",
    "num_epochs = 400\n",
    "start_time = time.time()\n",
    "for epoch in range(num_epochs):\n",
    "    mlp_model.train()\n",
    "\n",
    "    X_train_t = X_train_t.to(device)\n",
    "    y_train_t = y_train_t.to(device)\n",
    "    X_val_t = X_val_t.to(device)\n",
    "    y_val_t = y_val_t.to(device)\n",
    "    X_test_t = X_test_t.to(device)\n",
    "    y_test_t = y_test_t.to(device)\n",
    "\n",
    "    logits = mlp_model(X_train_t)\n",
    "    loss = criterion(logits, y_train_t)\n",
    "    optimizer.zero_grad()\n",
    "    loss.backward()\n",
    "    optimizer.step()\n",
    "\n",
    "    y_train_pred = torch.argmax(logits, dim=1)\n",
    "    train_accuracy = accuracy_score(y_train_t.cpu().numpy(), y_train_pred.cpu().numpy())\n",
    "\n",
    "    mlp_model.eval()\n",
    "    with torch.no_grad():\n",
    "        val_logits = mlp_model(X_val_t)\n",
    "        val_loss = criterion(val_logits, y_val_t)\n",
    "        val_pred = torch.argmax(val_logits, dim=1)\n",
    "        val_accuracy = accuracy_score(y_val_t.cpu().numpy(), val_pred.cpu().numpy())\n",
    "\n",
    "    if ((epoch + 1) % 50) == 0 or (epoch + 1 == 1):\n",
    "        print(f\"Epoch [{epoch+1}/{num_epochs}]\")\n",
    "        with torch.no_grad():\n",
    "            print(f\"Training Loss: {loss.item():.4f}   - Training Accuracy: {train_accuracy:.4f}\")\n",
    "            print(f\"Validation Loss: {val_loss.item():.4f} - Validation Accuracy: {val_accuracy:.4f} \\n\")\n",
    "\n",
    "    # Check for improvement in validation loss\n",
    "    if val_loss < best_val_loss:\n",
    "        best_val_loss = val_loss\n",
    "        epochs_no_improve = 0\n",
    "    else:\n",
    "        epochs_no_improve += 1\n",
    "        if epochs_no_improve >= patience:\n",
    "            print(f\"\\nEarly stopping triggered after {epoch+1} epochs.\")\n",
    "            break\n",
    "\n",
    "# Evaluate on test data\n",
    "mlp_model.eval()\n",
    "with torch.no_grad():\n",
    "    logits = mlp_model(X_test_t)\n",
    "    probs = torch.softmax(logits, dim=1)\n",
    "    preds = torch.argmax(probs, dim=1)\n",
    "    accuracy = (preds == y_test_t).float().mean().item()\n",
    "    print(f\"\\nTest Accuracy: {accuracy:.4f}\")\n",
    "\n",
    "end_time = time.time()\n",
    "mlp_elapsed_time = end_time - start_time"
   ]
  },
  {
   "cell_type": "code",
   "execution_count": null,
   "metadata": {
    "colab": {
     "base_uri": "https://localhost:8080/"
    },
    "executionInfo": {
     "elapsed": 11,
     "status": "ok",
     "timestamp": 1749287727781,
     "user": {
      "displayName": "Hung Thanh Do",
      "userId": "14602254202234053172"
     },
     "user_tz": -120
    },
    "id": "i_b-JQCmslUW",
    "outputId": "384d42eb-028f-4299-9575-391f0933bca1"
   },
   "outputs": [
    {
     "name": "stdout",
     "output_type": "stream",
     "text": [
      "\n",
      "Total training time:  1.557783603668213\n"
     ]
    }
   ],
   "source": [
    "print(\"\\nTotal training time: \", mlp_elapsed_time)"
   ]
  },
  {
   "cell_type": "code",
   "execution_count": null,
   "metadata": {
    "id": "ith3DSZMslUW"
   },
   "outputs": [],
   "source": [
    "# Save the model\n",
    "torch.save(mlp_model.state_dict(), \"saved_model/mlp_adults.pth\")"
   ]
  },
  {
   "cell_type": "markdown",
   "metadata": {
    "id": "P9EjvXsikvxQ"
   },
   "source": [
    "### Eval"
   ]
  },
  {
   "cell_type": "code",
   "execution_count": null,
   "metadata": {
    "colab": {
     "base_uri": "https://localhost:8080/"
    },
    "executionInfo": {
     "elapsed": 8,
     "status": "ok",
     "timestamp": 1749289074604,
     "user": {
      "displayName": "Hung Thanh Do",
      "userId": "14602254202234053172"
     },
     "user_tz": -120
    },
    "id": "OnTp7LbrkykZ",
    "outputId": "d079b456-2f63-4cbb-d682-e9f423813ccd"
   },
   "outputs": [
    {
     "data": {
      "text/plain": [
       "<All keys matched successfully>"
      ]
     },
     "execution_count": 12,
     "metadata": {},
     "output_type": "execute_result"
    }
   ],
   "source": [
    "# Load the model\n",
    "mlp_model.load_state_dict(torch.load(\"saved_model/mlp_adults.pth\"))"
   ]
  },
  {
   "cell_type": "code",
   "execution_count": null,
   "metadata": {
    "colab": {
     "base_uri": "https://localhost:8080/"
    },
    "executionInfo": {
     "elapsed": 590,
     "status": "ok",
     "timestamp": 1749289075195,
     "user": {
      "displayName": "Hung Thanh Do",
      "userId": "14602254202234053172"
     },
     "user_tz": -120
    },
    "id": "xw7O52Cbk5E5",
    "outputId": "2c9530e5-99d0-42f7-f383-0432c6599250"
   },
   "outputs": [
    {
     "name": "stdout",
     "output_type": "stream",
     "text": [
      "\n",
      "Test Accuracy: 0.8248\n"
     ]
    }
   ],
   "source": [
    "X_test_t = X_test_t.to(device)\n",
    "y_test_t = y_test_t.to(device)\n",
    "mlp_model.eval()\n",
    "with torch.no_grad():\n",
    "    logits = mlp_model(X_test_t)\n",
    "    probs = torch.softmax(logits, dim=1)\n",
    "    preds = torch.argmax(probs, dim=1)\n",
    "    accuracy = (preds == y_test_t).float().mean().item()\n",
    "    print(f\"\\nTest Accuracy: {accuracy:.4f}\")"
   ]
  },
  {
   "cell_type": "markdown",
   "metadata": {
    "id": "1gJjAIf6wdn3"
   },
   "source": [
    "### Train with bs"
   ]
  },
  {
   "cell_type": "code",
   "execution_count": null,
   "metadata": {
    "id": "JHq6GDVNv7Ja"
   },
   "outputs": [],
   "source": [
    "patience = 20\n",
    "best_val_loss = float('inf')\n",
    "epochs_no_improve = 0\n",
    "\n",
    "num_epochs = 400\n",
    "start_time = time.time()\n",
    "for epoch in range(num_epochs):\n",
    "    mlp_model.train()\n",
    "    total_loss = 0.0\n",
    "    all_preds = []\n",
    "    all_labels = []\n",
    "    for xb, yb in tqdm(train_loader, desc=f\"Epoch {epoch:02d} [Train]\", leave=False):\n",
    "        xb, yb = xb.to(device), yb.to(device)\n",
    "        logits = mlp_model(xb)                    # shape (batch_size, 2)\n",
    "        loss = criterion(logits, yb)              # cross-entropy on 2 logits\\\n",
    "        optimizer.zero_grad()\n",
    "        loss.backward()\n",
    "        optimizer.step()\n",
    "\n",
    "        total_loss += float(loss.item()) * xb.size(0)\n",
    "        # Convert logits → predicted class indices, move back to CPU\n",
    "        preds = logits.argmax(dim=1).cpu().numpy()   # shape (batch_size,)\n",
    "        labels = yb.cpu().numpy()                    # shape (batch_size,)\n",
    "\n",
    "        all_preds.append(preds)\n",
    "        all_labels.append(labels)\n",
    "\n",
    "    # Concatenate batches for the full epoch\n",
    "    all_preds = np.concatenate(all_preds, axis=0)\n",
    "    all_labels = np.concatenate(all_labels, axis=0)\n",
    "    train_loss = total_loss / len(train_loader.dataset)\n",
    "\n",
    "    # Validate\n",
    "    mlp_model.eval()\n",
    "    total_val_loss = 0.0\n",
    "    all_val_preds = []\n",
    "    all_val_labels = []\n",
    "    with torch.no_grad():\n",
    "        for xb, yb in tqdm(val_loader, desc=f\"Epoch {epoch:02d} [Val]  \", leave=False):\n",
    "            xb, yb = xb.to(device), yb.to(device)\n",
    "            logits = mlp_model(xb)             # shape (batch_size, 2)\n",
    "            loss = criterion(logits, yb)\n",
    "\n",
    "            total_val_loss += float(loss.item()) * xb.size(0)\n",
    "\n",
    "            preds = logits.argmax(dim=1).cpu().numpy()\n",
    "            labels = yb.cpu().numpy()\n",
    "            all_val_preds.append(preds)\n",
    "            all_val_labels.append(labels)\n",
    "\n",
    "    # Finalize validation metrics for this epoch\n",
    "    all_val_preds = np.concatenate(all_val_preds, axis=0)\n",
    "    all_val_labels = np.concatenate(all_val_labels, axis=0)\n",
    "    val_loss = total_val_loss / len(val_loader.dataset)\n",
    "\n",
    "    if ((epoch + 1) % 50) == 0 or (epoch + 1 == 1):\n",
    "        print(f\"Epoch [{epoch+1}/{num_epochs}]:\")\n",
    "        train_acc  = accuracy_score(all_labels, all_preds)\n",
    "        val_acc = accuracy_score(all_val_labels, all_val_preds)\n",
    "        print(f\"Training loss = {train_loss:.4f}  -  Training Accuracy = {train_acc:.4f}  -  Val Accuracy:{val_acc:.4f}\")\n",
    "\n",
    "    # # Check for improvement in validation loss\n",
    "    # if val_loss < best_val_loss:\n",
    "    #     best_val_loss = val_loss\n",
    "    #     epochs_no_improve = 0\n",
    "    # else:\n",
    "    #     epochs_no_improve += 1\n",
    "    #     if epochs_no_improve >= patience:\n",
    "    #         print(f\"\\nEarly stopping triggered after {epoch+1} epochs.\")\n",
    "    #         break\n",
    "\n",
    "# Eval\n",
    "mlp_model.eval()\n",
    "test_preds, test_targets = [], []\n",
    "with torch.no_grad():\n",
    "    for xb, yb in tqdm(test_loader, desc=\"Testing\", leave=False):\n",
    "        xb, yb = xb.to(device), yb.to(device)\n",
    "        logits = mlp_model(xb)\n",
    "        preds = logits.argmax(dim=1).cpu().numpy()\n",
    "        labels = yb.cpu().numpy()\n",
    "        test_preds.append(preds)\n",
    "        test_targets.append(labels)\n",
    "\n",
    "test_acc = accuracy_score(\n",
    "    np.concatenate(test_targets),\n",
    "    np.concatenate(test_preds)\n",
    ")\n",
    "print(f\"Test Accuracy: {test_acc:.4f}\")\n",
    "\n",
    "end_time = time.time()\n",
    "mlp_elapsed_time = end_time - start_time"
   ]
  },
  {
   "cell_type": "code",
   "execution_count": null,
   "metadata": {
    "colab": {
     "base_uri": "https://localhost:8080/"
    },
    "executionInfo": {
     "elapsed": 10,
     "status": "ok",
     "timestamp": 1749114867024,
     "user": {
      "displayName": "Hung Thanh Do",
      "userId": "14602254202234053172"
     },
     "user_tz": -120
    },
    "id": "z2RWPLdQ6px6",
    "outputId": "41c11c63-d56d-4eaf-e758-c1eb7b6309b4"
   },
   "outputs": [
    {
     "name": "stdout",
     "output_type": "stream",
     "text": [
      "\n",
      "Total training time:  169.8198699951172\n"
     ]
    }
   ],
   "source": [
    "print(\"\\nTotal training time: \", mlp_elapsed_time)"
   ]
  },
  {
   "cell_type": "code",
   "execution_count": null,
   "metadata": {
    "id": "95M-FOSR1c__"
   },
   "outputs": [],
   "source": [
    "# Save the model\n",
    "torch.save(mlp_model.state_dict(), \"saved_model/mlp_adults.pth\")"
   ]
  },
  {
   "cell_type": "markdown",
   "metadata": {
    "id": "fdDKIkVy1VIZ"
   },
   "source": [
    "### Eval with bs"
   ]
  },
  {
   "cell_type": "code",
   "execution_count": null,
   "metadata": {
    "colab": {
     "base_uri": "https://localhost:8080/"
    },
    "executionInfo": {
     "elapsed": 373,
     "status": "ok",
     "timestamp": 1749129759640,
     "user": {
      "displayName": "Hung Thanh Do",
      "userId": "14602254202234053172"
     },
     "user_tz": -120
    },
    "id": "hskSnyIj1kh7",
    "outputId": "8d93bfeb-9302-4e64-cd26-ef6b2109a71c"
   },
   "outputs": [
    {
     "data": {
      "text/plain": [
       "<All keys matched successfully>"
      ]
     },
     "execution_count": 67,
     "metadata": {},
     "output_type": "execute_result"
    }
   ],
   "source": [
    "# Load the model\n",
    "mlp_model.load_state_dict(torch.load(\"saved_model/mlp_adults.pth\"))"
   ]
  },
  {
   "cell_type": "code",
   "execution_count": null,
   "metadata": {
    "colab": {
     "base_uri": "https://localhost:8080/"
    },
    "executionInfo": {
     "elapsed": 63,
     "status": "ok",
     "timestamp": 1749129759697,
     "user": {
      "displayName": "Hung Thanh Do",
      "userId": "14602254202234053172"
     },
     "user_tz": -120
    },
    "id": "BxBfivXj1WZc",
    "outputId": "20738473-50c9-451e-de50-a6b59ddc1da4"
   },
   "outputs": [
    {
     "name": "stderr",
     "output_type": "stream",
     "text": [
      "                                               "
     ]
    },
    {
     "name": "stdout",
     "output_type": "stream",
     "text": [
      "Test Accuracy: 0.8488\n"
     ]
    },
    {
     "name": "stderr",
     "output_type": "stream",
     "text": [
      "\r"
     ]
    }
   ],
   "source": [
    "mlp_model.eval()\n",
    "test_preds, test_targets = [], []\n",
    "with torch.no_grad():\n",
    "    for xb, yb in tqdm(test_loader, desc=\"Testing\", leave=False):\n",
    "        xb, yb = xb.to(device), yb.to(device)\n",
    "        logits = mlp_model(xb)\n",
    "        preds = logits.argmax(dim=1).cpu().numpy()\n",
    "        labels = yb.cpu().numpy()\n",
    "        test_preds.append(preds)\n",
    "        test_targets.append(labels)\n",
    "\n",
    "test_acc = accuracy_score(\n",
    "    np.concatenate(test_targets),\n",
    "    np.concatenate(test_preds)\n",
    ")\n",
    "print(f\"Test Accuracy: {test_acc:.4f}\")\n"
   ]
  },
  {
   "cell_type": "markdown",
   "metadata": {
    "id": "Pk4zhioLh6NZ"
   },
   "source": [
    "## TabResNet"
   ]
  },
  {
   "cell_type": "markdown",
   "metadata": {
    "id": "GfVfYd_ZcC0Q"
   },
   "source": [
    "### Model TabResNet"
   ]
  },
  {
   "cell_type": "code",
   "execution_count": null,
   "metadata": {
    "id": "DSE3rgtDcC0R"
   },
   "outputs": [],
   "source": [
    "# ---------------------------\n",
    "# Model Definition: TabResNet (using residual blocks)\n",
    "# ---------------------------\n",
    "class TabResBlock(nn.Module):\n",
    "    def __init__(self, d_block, d_hidden, dropout1, dropout2):\n",
    "        super(TabResBlock, self).__init__()\n",
    "        # Sub-block 1\n",
    "        self.bn1 = nn.BatchNorm1d(d_block)\n",
    "        self.ln1 = nn.Linear(d_block, d_hidden)\n",
    "        self.relu1 = nn.ReLU()\n",
    "        self.drop1 = nn.Dropout(dropout1)\n",
    "        # Sub-block 2\n",
    "        self.ln2 = nn.Linear(d_hidden, d_block)\n",
    "        self.drop2 = nn.Dropout(dropout2)\n",
    "\n",
    "    def forward(self, x):\n",
    "        identity = x\n",
    "        out = self.bn1(x)\n",
    "        out = self.ln1(out)\n",
    "        out = self.relu1(out)\n",
    "        out = self.drop1(out)\n",
    "        out = self.ln2(out)\n",
    "        out = self.drop2(out)\n",
    "        out += identity\n",
    "        return out\n",
    "\n",
    "class TabResNet(nn.Module):\n",
    "    def __init__(\n",
    "        self,\n",
    "        d_in: int,\n",
    "        d_out: Optional[int],\n",
    "        n_blocks: int,\n",
    "        d_block: int,\n",
    "        d_hidden: Optional[int],\n",
    "        d_hidden_multiplier: Optional[float] = 2,\n",
    "        dropout1: float = 0.2,\n",
    "        dropout2: float = 0\n",
    "    ):\n",
    "        \"\"\"\n",
    "        Args:\n",
    "            d_in: Number of input features.\n",
    "            d_out: Number of outputs (set to 2 for binary classification).\n",
    "            n_blocks: Number of residual blocks.\n",
    "            d_block: Block width (input and output dimension of each block).\n",
    "            d_hidden: Hidden dimension inside a block.\n",
    "        \"\"\"\n",
    "        super(TabResNet, self).__init__()\n",
    "        # Project input to block width\n",
    "        self.input_projection = nn.Linear(d_in, d_block)\n",
    "        # Residual blocks\n",
    "        self.resblocks = nn.ModuleList([\n",
    "            TabResBlock(d_block, d_hidden, dropout1, dropout2) for _ in range(n_blocks)\n",
    "        ])\n",
    "        # Prediction block: outputs logits for d_out classes.\n",
    "        self.predblock = (\n",
    "            nn.Sequential(\n",
    "                nn.BatchNorm1d(d_block),\n",
    "                nn.ReLU(),\n",
    "                nn.Linear(d_block, d_out)\n",
    "            ) if d_out is not None else None\n",
    "        )\n",
    "\n",
    "    def forward(self, x):\n",
    "        x = self.input_projection(x)\n",
    "        for block in self.resblocks:\n",
    "            x = block(x)\n",
    "        if self.predblock is not None:\n",
    "            x = self.predblock(x)\n",
    "        return x  # returns logits\n",
    "\n",
    "\n",
    "# Instantiate model; input dimension equals the number of columns in X_test_np.\n",
    "d_in = X_test_np.shape[1]\n",
    "model = TabResNet(\n",
    "    d_in=d_in,\n",
    "    d_out=2,       # Two outputs for binary classification.\n",
    "    n_blocks=2,\n",
    "    d_block=16,\n",
    "    d_hidden=32,\n",
    "    dropout1=0.2,\n",
    "    dropout2=0.05\n",
    "    )\n",
    "\n",
    "device = torch.device(\"cuda\" if torch.cuda.is_available() else \"cpu\")\n",
    "model = model.to(device)\n",
    "\n",
    "criterion = nn.CrossEntropyLoss()\n",
    "optimizer = optim.Adam(model.parameters(), lr=1e-3)"
   ]
  },
  {
   "cell_type": "markdown",
   "metadata": {
    "id": "XgGkV5PQvuJ5"
   },
   "source": [
    "### Train"
   ]
  },
  {
   "cell_type": "code",
   "execution_count": null,
   "metadata": {
    "colab": {
     "base_uri": "https://localhost:8080/"
    },
    "executionInfo": {
     "elapsed": 2405,
     "status": "ok",
     "timestamp": 1749288800066,
     "user": {
      "displayName": "Hung Thanh Do",
      "userId": "14602254202234053172"
     },
     "user_tz": -120
    },
    "id": "RkvzslGQvuJ6",
    "outputId": "1888fa8a-3835-4bda-c8da-24caa4b3b074"
   },
   "outputs": [
    {
     "name": "stdout",
     "output_type": "stream",
     "text": [
      "Epoch [1/400]\n",
      "Training Loss: 0.6526   - Training Accuracy: 0.7880\n",
      "Validation Loss: 0.7086 - Validation Accuracy: 0.7839 \n",
      "\n",
      "Epoch [50/400]\n",
      "Training Loss: 0.5741   - Training Accuracy: 0.7947\n",
      "Validation Loss: 0.5807 - Validation Accuracy: 0.7962 \n",
      "\n",
      "Epoch [100/400]\n",
      "Training Loss: 0.5123   - Training Accuracy: 0.8031\n",
      "Validation Loss: 0.5134 - Validation Accuracy: 0.8092 \n",
      "\n",
      "Epoch [150/400]\n",
      "Training Loss: 0.4375   - Training Accuracy: 0.8088\n",
      "Validation Loss: 0.4524 - Validation Accuracy: 0.8121 \n",
      "\n",
      "Epoch [200/400]\n",
      "Training Loss: 0.3819   - Training Accuracy: 0.8268\n",
      "Validation Loss: 0.3906 - Validation Accuracy: 0.8157 \n",
      "\n",
      "Epoch [250/400]\n",
      "Training Loss: 0.3499   - Training Accuracy: 0.8412\n",
      "Validation Loss: 0.3565 - Validation Accuracy: 0.8370 \n",
      "\n",
      "Epoch [300/400]\n",
      "Training Loss: 0.3336   - Training Accuracy: 0.8464\n",
      "Validation Loss: 0.3393 - Validation Accuracy: 0.8430 \n",
      "\n",
      "Epoch [350/400]\n",
      "Training Loss: 0.3282   - Training Accuracy: 0.8491\n",
      "Validation Loss: 0.3307 - Validation Accuracy: 0.8441 \n",
      "\n",
      "Epoch [400/400]\n",
      "Training Loss: 0.3258   - Training Accuracy: 0.8479\n",
      "Validation Loss: 0.3298 - Validation Accuracy: 0.8430 \n",
      "\n",
      "\n",
      "Test Accuracy: 0.8474\n"
     ]
    }
   ],
   "source": [
    "best_val_loss = float('inf')\n",
    "patience = 20   # Early stopping patience\n",
    "counter = 0\n",
    "\n",
    "num_epochs = 400\n",
    "start_time = time.time()\n",
    "for epoch in range(num_epochs):\n",
    "    model.train()\n",
    "\n",
    "    X_train_t = X_train_t.to(device)\n",
    "    y_train_t = y_train_t.to(device)\n",
    "    X_val_t = X_val_t.to(device)\n",
    "    y_val_t = y_val_t.to(device)\n",
    "    X_test_t = X_test_t.to(device)\n",
    "    y_test_t = y_test_t.to(device)\n",
    "\n",
    "    logits = model(X_train_t)\n",
    "    loss = criterion(logits, y_train_t)\n",
    "    optimizer.zero_grad()\n",
    "    loss.backward()\n",
    "    optimizer.step()\n",
    "    y_train_pred = torch.argmax(logits, dim=1)\n",
    "    train_accuracy = accuracy_score(y_train_t.cpu().numpy(), y_train_pred.cpu().numpy())\n",
    "\n",
    "    model.eval()\n",
    "    with torch.no_grad():\n",
    "        val_logits = model(X_val_t)\n",
    "        val_loss = criterion(val_logits, y_val_t)\n",
    "        val_pred = torch.argmax(val_logits, dim=1)\n",
    "        val_accuracy = accuracy_score(y_val_t.cpu().numpy(), val_pred.cpu().numpy())\n",
    "\n",
    "    if ((epoch + 1) % 50) == 0 or (epoch + 1 == 1):\n",
    "        print(f\"Epoch [{epoch+1}/{num_epochs}]\")\n",
    "        print(f\"Training Loss: {loss.item():.4f}   - Training Accuracy: {train_accuracy:.4f}\")\n",
    "        print(f\"Validation Loss: {val_loss.item():.4f} - Validation Accuracy: {val_accuracy:.4f} \\n\")\n",
    "\n",
    "    if val_loss < best_val_loss:\n",
    "        best_val_loss = val_loss\n",
    "        counter = 0\n",
    "    else:\n",
    "        counter += 1\n",
    "        if counter >= patience:\n",
    "            print(\"Early stopping triggered.\")\n",
    "            break\n",
    "\n",
    "# Evaluate on test data\n",
    "model.eval()\n",
    "with torch.no_grad():\n",
    "    logits = model(X_test_t)\n",
    "    probs = torch.softmax(logits, dim=1)\n",
    "    preds = torch.argmax(probs, dim=1)\n",
    "    accuracy = (preds == y_test_t).float().mean().item()\n",
    "    print(f\"\\nTest Accuracy: {accuracy:.4f}\")\n",
    "\n",
    "end_time = time.time()\n",
    "elapsed_time = end_time - start_time"
   ]
  },
  {
   "cell_type": "code",
   "execution_count": null,
   "metadata": {
    "colab": {
     "base_uri": "https://localhost:8080/"
    },
    "executionInfo": {
     "elapsed": 30,
     "status": "ok",
     "timestamp": 1749288802615,
     "user": {
      "displayName": "Hung Thanh Do",
      "userId": "14602254202234053172"
     },
     "user_tz": -120
    },
    "id": "b-a6xMK4rTQS",
    "outputId": "89651c89-c7ea-49f9-99f0-a203ab8e4f38"
   },
   "outputs": [
    {
     "name": "stdout",
     "output_type": "stream",
     "text": [
      "\n",
      "Total training time:  2.3627212047576904\n"
     ]
    }
   ],
   "source": [
    "print(\"\\nTotal training time: \", elapsed_time)"
   ]
  },
  {
   "cell_type": "code",
   "execution_count": null,
   "metadata": {
    "id": "AxhYowatvuJ7"
   },
   "outputs": [],
   "source": [
    "# Save the model\n",
    "torch.save(model.state_dict(), \"saved_model/tabresnet_adults.pth\")"
   ]
  },
  {
   "cell_type": "markdown",
   "metadata": {
    "id": "AioytbTTk8xC"
   },
   "source": [
    "### Eval"
   ]
  },
  {
   "cell_type": "code",
   "execution_count": null,
   "metadata": {
    "colab": {
     "base_uri": "https://localhost:8080/"
    },
    "executionInfo": {
     "elapsed": 44,
     "status": "ok",
     "timestamp": 1749289080742,
     "user": {
      "displayName": "Hung Thanh Do",
      "userId": "14602254202234053172"
     },
     "user_tz": -120
    },
    "id": "D7R1AKDllBQZ",
    "outputId": "4cecd876-4094-4e35-b95d-d9c5d6bc4018"
   },
   "outputs": [
    {
     "data": {
      "text/plain": [
       "<All keys matched successfully>"
      ]
     },
     "execution_count": 15,
     "metadata": {},
     "output_type": "execute_result"
    }
   ],
   "source": [
    "# Load the model\n",
    "model.load_state_dict(torch.load(\"saved_model/tabresnet_adults.pth\"))"
   ]
  },
  {
   "cell_type": "code",
   "execution_count": null,
   "metadata": {
    "colab": {
     "base_uri": "https://localhost:8080/"
    },
    "executionInfo": {
     "elapsed": 116,
     "status": "ok",
     "timestamp": 1749289080861,
     "user": {
      "displayName": "Hung Thanh Do",
      "userId": "14602254202234053172"
     },
     "user_tz": -120
    },
    "id": "C5EdHI1Vk-Xb",
    "outputId": "53179783-93e8-49dc-a222-b71451a6f4b8"
   },
   "outputs": [
    {
     "name": "stdout",
     "output_type": "stream",
     "text": [
      "\n",
      "Test Accuracy: 0.8474\n"
     ]
    }
   ],
   "source": [
    "X_test_t = X_test_t.to(device)\n",
    "y_test_t = y_test_t.to(device)\n",
    "model.eval()\n",
    "with torch.no_grad():\n",
    "    logits = model(X_test_t)\n",
    "    probs = torch.softmax(logits, dim=1)\n",
    "    preds = torch.argmax(probs, dim=1)\n",
    "    accuracy = (preds == y_test_t).float().mean().item()\n",
    "    print(f\"\\nTest Accuracy: {accuracy:.4f}\")"
   ]
  },
  {
   "cell_type": "markdown",
   "metadata": {
    "id": "QwRz19sNcC0S"
   },
   "source": [
    "### Training with bs"
   ]
  },
  {
   "cell_type": "code",
   "execution_count": null,
   "metadata": {
    "colab": {
     "base_uri": "https://localhost:8080/"
    },
    "executionInfo": {
     "elapsed": 262121,
     "status": "ok",
     "timestamp": 1749115272194,
     "user": {
      "displayName": "Hung Thanh Do",
      "userId": "14602254202234053172"
     },
     "user_tz": -120
    },
    "id": "9-A2iFAh9_J5",
    "outputId": "4e9265eb-fda2-4f82-ba26-1bdb1e4b0870"
   },
   "outputs": [
    {
     "name": "stderr",
     "output_type": "stream",
     "text": []
    },
    {
     "name": "stdout",
     "output_type": "stream",
     "text": [
      "Epoch [1/400]:\n",
      "Training loss = 0.6236  -  Training Accuracy = 0.7778  -  Val Accuracy:0.7969\n"
     ]
    },
    {
     "name": "stderr",
     "output_type": "stream",
     "text": []
    },
    {
     "name": "stdout",
     "output_type": "stream",
     "text": [
      "Epoch [50/400]:\n",
      "Training loss = 0.3382  -  Training Accuracy = 0.8434  -  Val Accuracy:0.8420\n"
     ]
    },
    {
     "name": "stderr",
     "output_type": "stream",
     "text": []
    },
    {
     "name": "stdout",
     "output_type": "stream",
     "text": [
      "Epoch [100/400]:\n",
      "Training loss = 0.3301  -  Training Accuracy = 0.8464  -  Val Accuracy:0.8468\n"
     ]
    },
    {
     "name": "stderr",
     "output_type": "stream",
     "text": []
    },
    {
     "name": "stdout",
     "output_type": "stream",
     "text": [
      "Epoch [150/400]:\n",
      "Training loss = 0.3264  -  Training Accuracy = 0.8477  -  Val Accuracy:0.8461\n"
     ]
    },
    {
     "name": "stderr",
     "output_type": "stream",
     "text": []
    },
    {
     "name": "stdout",
     "output_type": "stream",
     "text": [
      "Epoch [200/400]:\n",
      "Training loss = 0.3261  -  Training Accuracy = 0.8451  -  Val Accuracy:0.8461\n"
     ]
    },
    {
     "name": "stderr",
     "output_type": "stream",
     "text": []
    },
    {
     "name": "stdout",
     "output_type": "stream",
     "text": [
      "Epoch [250/400]:\n",
      "Training loss = 0.3230  -  Training Accuracy = 0.8476  -  Val Accuracy:0.8476\n"
     ]
    },
    {
     "name": "stderr",
     "output_type": "stream",
     "text": []
    },
    {
     "name": "stdout",
     "output_type": "stream",
     "text": [
      "Epoch [300/400]:\n",
      "Training loss = 0.3192  -  Training Accuracy = 0.8505  -  Val Accuracy:0.8480\n"
     ]
    },
    {
     "name": "stderr",
     "output_type": "stream",
     "text": []
    },
    {
     "name": "stdout",
     "output_type": "stream",
     "text": [
      "Epoch [350/400]:\n",
      "Training loss = 0.3185  -  Training Accuracy = 0.8503  -  Val Accuracy:0.8484\n"
     ]
    },
    {
     "name": "stderr",
     "output_type": "stream",
     "text": []
    },
    {
     "name": "stdout",
     "output_type": "stream",
     "text": [
      "Epoch [400/400]:\n",
      "Training loss = 0.3160  -  Training Accuracy = 0.8516  -  Val Accuracy:0.8476\n"
     ]
    },
    {
     "name": "stderr",
     "output_type": "stream",
     "text": [
      "                                                         "
     ]
    },
    {
     "name": "stdout",
     "output_type": "stream",
     "text": [
      "Test Accuracy: 0.8501\n"
     ]
    },
    {
     "name": "stderr",
     "output_type": "stream",
     "text": [
      "\r"
     ]
    }
   ],
   "source": [
    "patience = 20\n",
    "best_val_loss = float('inf')\n",
    "epochs_no_improve = 0\n",
    "\n",
    "num_epochs = 400\n",
    "start_time = time.time()\n",
    "for epoch in range(num_epochs):\n",
    "    model.train()\n",
    "    total_loss = 0.0\n",
    "    all_preds = []\n",
    "    all_labels = []\n",
    "    for xb, yb in tqdm(train_loader, desc=f\"Epoch {epoch:02d} [Train]\", leave=False):\n",
    "        xb, yb = xb.to(device), yb.to(device)\n",
    "        logits = model(xb)                    # shape (batch_size, 2)\n",
    "        loss = criterion(logits, yb)              # cross-entropy on 2 logits\\\n",
    "        optimizer.zero_grad()\n",
    "        loss.backward()\n",
    "        optimizer.step()\n",
    "\n",
    "        total_loss += float(loss.item()) * xb.size(0)\n",
    "        # Convert logits → predicted class indices, move back to CPU\n",
    "        preds = logits.argmax(dim=1).cpu().numpy()   # shape (batch_size,)\n",
    "        labels = yb.cpu().numpy()                    # shape (batch_size,)\n",
    "\n",
    "        all_preds.append(preds)\n",
    "        all_labels.append(labels)\n",
    "\n",
    "    # Concatenate batches for the full epoch\n",
    "    all_preds = np.concatenate(all_preds, axis=0)\n",
    "    all_labels = np.concatenate(all_labels, axis=0)\n",
    "\n",
    "    train_loss = total_loss / len(train_loader.dataset)\n",
    "\n",
    "    # Validate\n",
    "    model.eval()\n",
    "    total_val_loss = 0.0\n",
    "    all_val_preds = []\n",
    "    all_val_labels = []\n",
    "    with torch.no_grad():\n",
    "        for xb, yb in tqdm(val_loader, desc=f\"Epoch {epoch:02d} [Val]  \", leave=False):\n",
    "            xb, yb = xb.to(device), yb.to(device)\n",
    "            logits = model(xb)             # shape (batch_size, 2)\n",
    "            loss = criterion(logits, yb)\n",
    "\n",
    "            total_val_loss += float(loss.item()) * xb.size(0)\n",
    "\n",
    "            preds = logits.argmax(dim=1).cpu().numpy()\n",
    "            labels = yb.cpu().numpy()\n",
    "            all_val_preds.append(preds)\n",
    "            all_val_labels.append(labels)\n",
    "\n",
    "    # Finalize validation metrics for this epoch\n",
    "    all_val_preds = np.concatenate(all_val_preds, axis=0)\n",
    "    all_val_labels = np.concatenate(all_val_labels, axis=0)\n",
    "    val_loss = total_val_loss / len(val_loader.dataset)\n",
    "\n",
    "    if ((epoch + 1) % 50) == 0 or (epoch + 1 == 1):\n",
    "        print(f\"Epoch [{epoch+1}/{num_epochs}]:\")\n",
    "        train_acc  = accuracy_score(all_labels, all_preds)\n",
    "        val_acc = accuracy_score(all_val_labels, all_val_preds)\n",
    "        print(f\"Training loss = {train_loss:.4f}  -  Training Accuracy = {train_acc:.4f}  -  Val Accuracy:{val_acc:.4f}\")\n",
    "\n",
    "    # # Check for improvement in validation loss\n",
    "    # if val_loss < best_val_loss:\n",
    "    #     best_val_loss = val_loss\n",
    "    #     epochs_no_improve = 0\n",
    "    # else:\n",
    "    #     epochs_no_improve += 1\n",
    "    #     if epochs_no_improve >= patience:\n",
    "    #         print(f\"\\nEarly stopping triggered after {epoch+1} epochs.\")\n",
    "    #         break\n",
    "\n",
    "# Evaluate on test data\n",
    "model.eval()\n",
    "test_preds, test_targets = [], []\n",
    "with torch.no_grad():\n",
    "    for xb, yb in tqdm(test_loader, desc=\"Testing\", leave=False):\n",
    "        xb, yb = xb.to(device), yb.to(device)\n",
    "        logits = model(xb)\n",
    "        preds = logits.argmax(dim=1).cpu().numpy()\n",
    "        labels = yb.cpu().numpy()\n",
    "        test_preds.append(preds)\n",
    "        test_targets.append(labels)\n",
    "\n",
    "test_acc = accuracy_score(\n",
    "    np.concatenate(test_targets),\n",
    "    np.concatenate(test_preds)\n",
    ")\n",
    "print(f\"Test Accuracy: {test_acc:.4f}\")\n",
    "\n",
    "end_time = time.time()\n",
    "elapsed_time = end_time - start_time"
   ]
  },
  {
   "cell_type": "code",
   "execution_count": null,
   "metadata": {
    "colab": {
     "base_uri": "https://localhost:8080/"
    },
    "executionInfo": {
     "elapsed": 15,
     "status": "ok",
     "timestamp": 1749115686559,
     "user": {
      "displayName": "Hung Thanh Do",
      "userId": "14602254202234053172"
     },
     "user_tz": -120
    },
    "id": "bHbHVYMCSa2v",
    "outputId": "706722a1-959a-431d-fec9-114b2f84f665"
   },
   "outputs": [
    {
     "name": "stdout",
     "output_type": "stream",
     "text": [
      "\n",
      "Total training time:  262.14256858825684\n"
     ]
    }
   ],
   "source": [
    "print(\"\\nTotal training time: \", elapsed_time)"
   ]
  },
  {
   "cell_type": "code",
   "execution_count": null,
   "metadata": {
    "id": "PvzkF9TOcC0b"
   },
   "outputs": [],
   "source": [
    "# Save the model\n",
    "torch.save(model.state_dict(), \"saved_model/tabresnet_adults.pth\")"
   ]
  },
  {
   "cell_type": "markdown",
   "metadata": {
    "id": "Y6-sLOD-zBTv"
   },
   "source": [
    "### Eval"
   ]
  },
  {
   "cell_type": "code",
   "execution_count": null,
   "metadata": {
    "colab": {
     "base_uri": "https://localhost:8080/"
    },
    "executionInfo": {
     "elapsed": 23,
     "status": "ok",
     "timestamp": 1749116416483,
     "user": {
      "displayName": "Hung Thanh Do",
      "userId": "14602254202234053172"
     },
     "user_tz": -120
    },
    "id": "ZqMUCrRIcC0c",
    "outputId": "b8321404-0df4-4f47-ac81-9ded78835aab"
   },
   "outputs": [
    {
     "data": {
      "text/plain": [
       "<All keys matched successfully>"
      ]
     },
     "execution_count": 15,
     "metadata": {},
     "output_type": "execute_result"
    }
   ],
   "source": [
    "# Load the model\n",
    "model.load_state_dict(torch.load(\"saved_model/tabresnet_adults.pth\"))"
   ]
  },
  {
   "cell_type": "code",
   "execution_count": null,
   "metadata": {
    "colab": {
     "base_uri": "https://localhost:8080/"
    },
    "executionInfo": {
     "elapsed": 188,
     "status": "ok",
     "timestamp": 1749116416681,
     "user": {
      "displayName": "Hung Thanh Do",
      "userId": "14602254202234053172"
     },
     "user_tz": -120
    },
    "id": "UKTfym6SzENe",
    "outputId": "cd4c3a40-b3ab-4c95-ef69-842b94df8743"
   },
   "outputs": [
    {
     "name": "stderr",
     "output_type": "stream",
     "text": [
      "                                                         "
     ]
    },
    {
     "name": "stdout",
     "output_type": "stream",
     "text": [
      "Test Accuracy: 0.8501\n"
     ]
    },
    {
     "name": "stderr",
     "output_type": "stream",
     "text": [
      "\r"
     ]
    }
   ],
   "source": [
    "# Evaluate on test data\n",
    "model.eval()\n",
    "test_preds, test_targets = [], []\n",
    "with torch.no_grad():\n",
    "    for xb, yb in tqdm(test_loader, desc=\"Testing\", leave=False):\n",
    "        xb, yb = xb.to(device), yb.to(device)\n",
    "        logits = model(xb)\n",
    "        preds = logits.argmax(dim=1).cpu().numpy()\n",
    "        labels = yb.cpu().numpy()\n",
    "        test_preds.append(preds)\n",
    "        test_targets.append(labels)\n",
    "\n",
    "test_acc = accuracy_score(\n",
    "    np.concatenate(test_targets),\n",
    "    np.concatenate(test_preds)\n",
    ")\n",
    "print(f\"Test Accuracy: {test_acc:.4f}\")"
   ]
  },
  {
   "cell_type": "markdown",
   "metadata": {
    "id": "IRoRVOmvcC0d"
   },
   "source": [
    "# Sustainability"
   ]
  },
  {
   "cell_type": "markdown",
   "metadata": {
    "id": "UgJ9XJAWDev3"
   },
   "source": [
    "## Define utils"
   ]
  },
  {
   "cell_type": "code",
   "execution_count": null,
   "metadata": {
    "id": "LEkZeB-eC8T_"
   },
   "outputs": [],
   "source": [
    "def compute_kgco2e(pc, pg, time):\n",
    "    \"\"\"\n",
    "    Compute kgCO2 emission, and normalized emission per capita.\n",
    "    Args:\n",
    "        pc: average CPU power in watts\n",
    "        pg: average GPU power in watts\n",
    "        time_hours: training + eval time in hours\n",
    "\n",
    "    Returns:\n",
    "        tuple: CO2e (kg), normalized CO2e\n",
    "    \"\"\"\n",
    "    pt = (pc + pg) * time / 1000  # power in kWh\n",
    "    co2e = 0.498 * pt  # Germany's emission rate\n",
    "    normalized = co2e / 26  # per-capita daily emission baseline\n",
    "\n",
    "    return co2e, normalized"
   ]
  },
  {
   "cell_type": "code",
   "execution_count": null,
   "metadata": {
    "id": "gTulf29cDj5G"
   },
   "outputs": [],
   "source": [
    "\"\"\"\n",
    "Intel(R) Xeon(R) CPU @ 2.20GHz\n",
    "Model: 79 (\n",
    "-> Intel Xeon E5-2673 v4 from the Broadwell-EP family - specifications:\n",
    "    Cores: 10\n",
    "    Threads: 20\n",
    "    Base Frequency: 2.3 GHz\n",
    "    Maximum Turbo Speed: 3.5 GHz\n",
    "    Cache: 50 MB\n",
    "    TDP: 135W\n",
    "\n",
    "Colab uses 2 vCPUs (each 1 core -> total 2 cores out of 20)\n",
    "-> only use 10% of the actuall TDP -> 13.5 W\n",
    "\"\"\"\n",
    "pc = 13.5\n",
    "pg = 70"
   ]
  },
  {
   "cell_type": "markdown",
   "metadata": {
    "id": "eltctoklymtZ"
   },
   "source": [
    "## MLP"
   ]
  },
  {
   "cell_type": "markdown",
   "metadata": {
    "id": "VWidOEaa3mZY"
   },
   "source": [
    "### Param Count"
   ]
  },
  {
   "cell_type": "code",
   "execution_count": null,
   "metadata": {
    "colab": {
     "base_uri": "https://localhost:8080/"
    },
    "executionInfo": {
     "elapsed": 5,
     "status": "ok",
     "timestamp": 1749288846178,
     "user": {
      "displayName": "Hung Thanh Do",
      "userId": "14602254202234053172"
     },
     "user_tz": -120
    },
    "id": "yNIwbfu83paC",
    "outputId": "87febf7f-8616-4724-97c2-5879d054105e"
   },
   "outputs": [
    {
     "name": "stdout",
     "output_type": "stream",
     "text": [
      "Trainable parameters: 752\n"
     ]
    }
   ],
   "source": [
    "# Parameter Count (Pure PyTorch)\n",
    "def count_parameters(model):\n",
    "    return sum(p.numel() for p in model.parameters() if p.requires_grad)\n",
    "\n",
    "# Usage\n",
    "total_params = count_parameters(mlp_model)\n",
    "print(f\"Trainable parameters: {total_params:,}\")"
   ]
  },
  {
   "cell_type": "markdown",
   "metadata": {
    "id": "jH04qWhr3tVD"
   },
   "source": [
    "### FLOPs"
   ]
  },
  {
   "cell_type": "code",
   "execution_count": null,
   "metadata": {
    "colab": {
     "base_uri": "https://localhost:8080/"
    },
    "executionInfo": {
     "elapsed": 113,
     "status": "ok",
     "timestamp": 1749288846292,
     "user": {
      "displayName": "Hung Thanh Do",
      "userId": "14602254202234053172"
     },
     "user_tz": -120
    },
    "id": "vorG4P383ztn",
    "outputId": "f1a6bd59-921d-4bb5-ab1a-9f99b7ed5442"
   },
   "outputs": [
    {
     "name": "stdout",
     "output_type": "stream",
     "text": [
      "Module            FLOP    % Total\n",
      "--------------  ------  ---------\n",
      "MLP               1400    100.00%\n",
      " - aten.addmm     1400    100.00%\n",
      " MLP.fc1          1200     85.71%\n",
      "  - aten.addmm    1200     85.71%\n",
      " MLP.fc2           200     14.29%\n",
      "  - aten.addmm     200     14.29%\n",
      "FLOPs per sample: 1.40 K\n",
      "FLOPs: 9.12M\n"
     ]
    }
   ],
   "source": [
    "from torch.utils.flop_counter import FlopCounterMode\n",
    "\n",
    "X_test_t = X_test_t.to(device)\n",
    "sample_input = X_test_t[0:1]  # just one sample\n",
    "\n",
    "mlp_model.eval()\n",
    "with torch.no_grad(), FlopCounterMode() as flop_counter:\n",
    "    _ = mlp_model(sample_input)\n",
    "\n",
    "flops_per_sample = flop_counter.get_total_flops()\n",
    "\n",
    "print(f\"FLOPs per sample: {flops_per_sample/1e3:.2f} K\")\n",
    "print(f\"FLOPs: {flops_per_sample*X_test_t.shape[0]/1e6:.2f}M\")"
   ]
  },
  {
   "cell_type": "markdown",
   "metadata": {
    "id": "yTDTFkGC3vZ5"
   },
   "source": [
    "### MACs"
   ]
  },
  {
   "cell_type": "code",
   "execution_count": null,
   "metadata": {
    "colab": {
     "base_uri": "https://localhost:8080/"
    },
    "executionInfo": {
     "elapsed": 75,
     "status": "ok",
     "timestamp": 1749288846305,
     "user": {
      "displayName": "Hung Thanh Do",
      "userId": "14602254202234053172"
     },
     "user_tz": -120
    },
    "id": "iQprNkCG51u4",
    "outputId": "391f78f9-dcb0-4098-8a24-bb7fcd6243e8"
   },
   "outputs": [
    {
     "name": "stdout",
     "output_type": "stream",
     "text": [
      "Warning: module MLP is treated as a zero-op.\n",
      "MLP(\n",
      "  752, 100.000% Params, 802.0 Mac, 94.131% MACs, \n",
      "  (fc1): Linear(650, 86.436% Params, 650.0 Mac, 76.291% MACs, in_features=12, out_features=50, bias=True)\n",
      "  (relu): ReLU(0, 0.000% Params, 50.0 Mac, 5.869% MACs, )\n",
      "  (fc2): Linear(102, 13.564% Params, 102.0 Mac, 11.972% MACs, in_features=50, out_features=2, bias=True)\n",
      ")\n",
      "MACs per sample: 0.85 K\n",
      "MACs: 5.55 M\n"
     ]
    }
   ],
   "source": [
    "# Calculate MACS\n",
    "from ptflops import get_model_complexity_info\n",
    "\n",
    "# Instantiate the model for a dataset with 10 features and 2 output classes\n",
    "input_dim = X_test_np.shape[1]   # Number of features in tabular data\n",
    "num_classes = 2  # Number of output classes\n",
    "\n",
    "# Measure complexity using ptflops\n",
    "with torch.cuda.device(0):  # Remove or adjust this if running on CPU\n",
    "    macs_str, params_str = get_model_complexity_info(mlp_model, (input_dim,), as_strings=True,\n",
    "                                             print_per_layer_stat=True, verbose=True)\n",
    "\n",
    "# Parse the MACs string into a float (number of multiply-adds per sample)\n",
    "def parse_macs_str(s):\n",
    "    if s.endswith(\" GMac\"):\n",
    "        return float(s.replace(\" GMac\", \"\")) * 1e9\n",
    "    if s.endswith(\" MMac\"):\n",
    "        return float(s.replace(\" MMac\", \"\")) * 1e6\n",
    "    if s.endswith(\" KMac\"):\n",
    "        return float(s.replace(\" KMac\", \"\")) * 1e3\n",
    "    if s.endswith(\" Mac\"):\n",
    "        return float(s.replace(\" Mac\", \"\"))\n",
    "    raise ValueError(f\"Unrecognized MACs format: {s}\")\n",
    "\n",
    "macs_per_sample = parse_macs_str(macs_str)\n",
    "print(f\"MACs per sample: {macs_per_sample/1e3:.2f} K\")\n",
    "total_macs = macs_per_sample * X_test_t.shape[0]\n",
    "print(f\"MACs: {total_macs/1e6:.2f} M\")\n"
   ]
  },
  {
   "cell_type": "markdown",
   "metadata": {
    "id": "DwpMMTXi3wc-"
   },
   "source": [
    "### kgCO2e"
   ]
  },
  {
   "cell_type": "code",
   "execution_count": null,
   "metadata": {
    "colab": {
     "base_uri": "https://localhost:8080/"
    },
    "executionInfo": {
     "elapsed": 35,
     "status": "ok",
     "timestamp": 1749288846306,
     "user": {
      "displayName": "Hung Thanh Do",
      "userId": "14602254202234053172"
     },
     "user_tz": -120
    },
    "id": "Ra5Bl_026Q8r",
    "outputId": "c605fb1e-7003-42b7-9409-785f1cd077ba"
   },
   "outputs": [
    {
     "name": "stdout",
     "output_type": "stream",
     "text": [
      "kgCO2 emission: 0.0648 kg\n",
      "Normalized kgCO2 emission: 0.0025\n"
     ]
    }
   ],
   "source": [
    "kgco2e, kgco2e_normalized = compute_kgco2e(pc, pg, mlp_elapsed_time)\n",
    "\n",
    "print(f\"kgCO2 emission: {kgco2e:.4f} kg\")\n",
    "print(f\"Normalized kgCO2 emission: {kgco2e_normalized:.4f}\")"
   ]
  },
  {
   "cell_type": "markdown",
   "metadata": {
    "id": "xNNhGaA7P_j8"
   },
   "source": [
    "## TabResNet"
   ]
  },
  {
   "cell_type": "markdown",
   "metadata": {
    "id": "i5_KtRwdaLyS"
   },
   "source": [
    "### Param Count"
   ]
  },
  {
   "cell_type": "code",
   "execution_count": null,
   "metadata": {
    "colab": {
     "base_uri": "https://localhost:8080/"
    },
    "executionInfo": {
     "elapsed": 67,
     "status": "ok",
     "timestamp": 1749288855115,
     "user": {
      "displayName": "Hung Thanh Do",
      "userId": "14602254202234053172"
     },
     "user_tz": -120
    },
    "id": "_5_ongPFP_j8",
    "outputId": "69afc0f8-4895-4737-edec-6365d150aaac"
   },
   "outputs": [
    {
     "name": "stdout",
     "output_type": "stream",
     "text": [
      "Trainable parameters: 2,482\n"
     ]
    }
   ],
   "source": [
    "# Parameter Count (Pure PyTorch)\n",
    "def count_parameters(model):\n",
    "    return sum(p.numel() for p in model.parameters() if p.requires_grad)\n",
    "\n",
    "# Usage\n",
    "total_params = count_parameters(model)\n",
    "print(f\"Trainable parameters: {total_params:,}\")"
   ]
  },
  {
   "cell_type": "markdown",
   "metadata": {
    "id": "HUXvLWaUaKBy"
   },
   "source": [
    "### FLOPs"
   ]
  },
  {
   "cell_type": "code",
   "execution_count": null,
   "metadata": {
    "colab": {
     "base_uri": "https://localhost:8080/"
    },
    "executionInfo": {
     "elapsed": 80,
     "status": "ok",
     "timestamp": 1749288855197,
     "user": {
      "displayName": "Hung Thanh Do",
      "userId": "14602254202234053172"
     },
     "user_tz": -120
    },
    "id": "YlUSZbfbNIQe",
    "outputId": "78bd9f2e-58e6-4ea3-92a5-bdcfa0a40411"
   },
   "outputs": [
    {
     "name": "stdout",
     "output_type": "stream",
     "text": [
      "Module                         FLOP    % Total\n",
      "---------------------------  ------  ---------\n",
      "TabResNet                      4544    100.00%\n",
      " - aten.addmm                  4544    100.00%\n",
      " TabResNet.input_projection     384      8.45%\n",
      "  - aten.addmm                  384      8.45%\n",
      " TabResNet.predblock             64      1.41%\n",
      "  - aten.addmm                   64      1.41%\n",
      "FLOPs per sample: 4.54 K\n",
      "FLOPs: 29.60M\n"
     ]
    }
   ],
   "source": [
    "from torch.utils.flop_counter import FlopCounterMode\n",
    "\n",
    "X_test_t = X_test_t.to(device)\n",
    "sample_input = X_test_t[0:1]  # just one sample\n",
    "\n",
    "model.eval()\n",
    "with torch.no_grad(), FlopCounterMode() as flop_counter:\n",
    "    _ = model(sample_input)\n",
    "\n",
    "print(f\"FLOPs per sample: {flop_counter.get_total_flops()/1e3:.2f} K\")\n",
    "print(f\"FLOPs: {flop_counter.get_total_flops()*X_test_t.shape[0]/1e6:.2f}M\")"
   ]
  },
  {
   "cell_type": "markdown",
   "metadata": {
    "id": "a2BXWIAgaIkW"
   },
   "source": [
    "### MACs"
   ]
  },
  {
   "cell_type": "code",
   "execution_count": null,
   "metadata": {
    "colab": {
     "base_uri": "https://localhost:8080/"
    },
    "executionInfo": {
     "elapsed": 11,
     "status": "ok",
     "timestamp": 1749288855206,
     "user": {
      "displayName": "Hung Thanh Do",
      "userId": "14602254202234053172"
     },
     "user_tz": -120
    },
    "id": "eIo3XKX-TIDV",
    "outputId": "2f9ebbd9-9bbe-4c12-f5c5-305ef1a75920"
   },
   "outputs": [
    {
     "name": "stdout",
     "output_type": "stream",
     "text": [
      "Warning: module Dropout is treated as a zero-op.\n",
      "Warning: module TabResBlock is treated as a zero-op.\n",
      "Warning: module TabResNet is treated as a zero-op.\n",
      "TabResNet(\n",
      "  2.48 k, 100.000% Params, 2.56 KMac, 96.972% MACs, \n",
      "  (input_projection): Linear(208, 8.380% Params, 208.0 Mac, 7.873% MACs, in_features=12, out_features=16, bias=True)\n",
      "  (resblocks): ModuleList(\n",
      "    (0-1): 2 x TabResBlock(\n",
      "      1.1 k, 44.480% Params, 1.14 KMac, 42.998% MACs, \n",
      "      (bn1): BatchNorm1d(32, 1.289% Params, 32.0 Mac, 1.211% MACs, 16, eps=1e-05, momentum=0.1, affine=True, track_running_stats=True)\n",
      "      (ln1): Linear(544, 21.918% Params, 544.0 Mac, 20.590% MACs, in_features=16, out_features=32, bias=True)\n",
      "      (relu1): ReLU(0, 0.000% Params, 32.0 Mac, 1.211% MACs, )\n",
      "      (drop1): Dropout(0, 0.000% Params, 0.0 Mac, 0.000% MACs, p=0.2, inplace=False)\n",
      "      (ln2): Linear(528, 21.273% Params, 528.0 Mac, 19.985% MACs, in_features=32, out_features=16, bias=True)\n",
      "      (drop2): Dropout(0, 0.000% Params, 0.0 Mac, 0.000% MACs, p=0.05, inplace=False)\n",
      "    )\n",
      "  )\n",
      "  (predblock): Sequential(\n",
      "    66, 2.659% Params, 82.0 Mac, 3.104% MACs, \n",
      "    (0): BatchNorm1d(32, 1.289% Params, 32.0 Mac, 1.211% MACs, 16, eps=1e-05, momentum=0.1, affine=True, track_running_stats=True)\n",
      "    (1): ReLU(0, 0.000% Params, 16.0 Mac, 0.606% MACs, )\n",
      "    (2): Linear(34, 1.370% Params, 34.0 Mac, 1.287% MACs, in_features=16, out_features=2, bias=True)\n",
      "  )\n",
      ")\n",
      "MACs per sample: 2.64 K\n",
      "MACs: 17.19 M\n"
     ]
    }
   ],
   "source": [
    "# Calculate MACS\n",
    "from ptflops import get_model_complexity_info\n",
    "\n",
    "# Instantiate the model for a dataset with 10 features and 2 output classes\n",
    "input_dim = X_test_np.shape[1]   # Number of features in tabular data\n",
    "num_classes = 2  # Number of output classes\n",
    "\n",
    "# Measure complexity using ptflops\n",
    "with torch.cuda.device(0):  # Remove or adjust this if running on CPU\n",
    "    macs_str, params_str = get_model_complexity_info(model, (input_dim,), as_strings=True,\n",
    "                                             print_per_layer_stat=True, verbose=True)\n",
    "\n",
    "# Parse the MACs string into a float (number of multiply-adds per sample)\n",
    "def parse_macs_str(s):\n",
    "    if s.endswith(\" GMac\"):\n",
    "        return float(s.replace(\" GMac\", \"\")) * 1e9\n",
    "    if s.endswith(\" MMac\"):\n",
    "        return float(s.replace(\" MMac\", \"\")) * 1e6\n",
    "    if s.endswith(\" KMac\"):\n",
    "        return float(s.replace(\" KMac\", \"\")) * 1e3\n",
    "    if s.endswith(\" Mac\"):\n",
    "        return float(s.replace(\" Mac\", \"\"))\n",
    "    raise ValueError(f\"Unrecognized MACs format: {s}\")\n",
    "\n",
    "macs_per_sample = parse_macs_str(macs_str)\n",
    "print(f\"MACs per sample: {macs_per_sample/1e3:.2f} K\")\n",
    "total_macs = macs_per_sample * X_test_t.shape[0]\n",
    "print(f\"MACs: {total_macs/1e6:.2f} M\")"
   ]
  },
  {
   "cell_type": "markdown",
   "metadata": {
    "id": "pd4lXcZ0aGez"
   },
   "source": [
    "### kgCO2e"
   ]
  },
  {
   "cell_type": "code",
   "execution_count": null,
   "metadata": {
    "colab": {
     "base_uri": "https://localhost:8080/"
    },
    "executionInfo": {
     "elapsed": 11,
     "status": "ok",
     "timestamp": 1749288855217,
     "user": {
      "displayName": "Hung Thanh Do",
      "userId": "14602254202234053172"
     },
     "user_tz": -120
    },
    "id": "k6hAh4wociZu",
    "outputId": "e14dd9b6-0397-4889-f268-0d83a26aa2a7"
   },
   "outputs": [
    {
     "name": "stdout",
     "output_type": "stream",
     "text": [
      "kgCO2 emission: 0.0982 kg\n",
      "Normalized kgCO2 emission: 0.0038\n"
     ]
    }
   ],
   "source": [
    "kgco2e, kgco2e_normalized = compute_kgco2e(pc, pg, elapsed_time)\n",
    "\n",
    "print(f\"kgCO2 emission: {kgco2e:.4f} kg\")\n",
    "print(f\"Normalized kgCO2 emission: {kgco2e_normalized:.4f}\")"
   ]
  },
  {
   "cell_type": "markdown",
   "metadata": {
    "id": "67Vzn6iuYS2q"
   },
   "source": [
    "# Explainability --------------------------------------"
   ]
  },
  {
   "cell_type": "markdown",
   "metadata": {
    "id": "ziC69TZvyq9R"
   },
   "source": [
    "# MLP"
   ]
  },
  {
   "cell_type": "markdown",
   "metadata": {
    "id": "3WHxrUC9LHzf"
   },
   "source": [
    "## SHAP"
   ]
  },
  {
   "cell_type": "code",
   "execution_count": null,
   "metadata": {
    "id": "1XZaMpDq7pdf"
   },
   "outputs": [],
   "source": [
    "# ---------------------------\n",
    "# SHAP Explanation Setup\n",
    "# ---------------------------\n",
    "# Define a prediction function for SHAP that returns the probability for class 1.\n",
    "def f_shap_mlp(X):\n",
    "    mlp_model.eval()\n",
    "    with torch.no_grad():\n",
    "        X_tensor = torch.from_numpy(np.atleast_2d(X).astype(np.float32))\n",
    "        X_tensor = X_tensor.to(device)\n",
    "        logits = mlp_model(X_tensor)\n",
    "        probs = torch.softmax(logits, dim=1).cpu().numpy()\n",
    "        return probs[:, 1]  # return probability for class 1"
   ]
  },
  {
   "cell_type": "code",
   "execution_count": null,
   "metadata": {
    "id": "hNKTqFrE75I0"
   },
   "outputs": [],
   "source": [
    "# Use a subset of test data as background\n",
    "background_mlp = X_test_np[:100]\n",
    "mlp_explainer = shap.KernelExplainer(f_shap_mlp, background_mlp)"
   ]
  },
  {
   "cell_type": "code",
   "execution_count": null,
   "metadata": {
    "id": "0CL3EVFF8aLl"
   },
   "outputs": [],
   "source": [
    "import pickle"
   ]
  },
  {
   "cell_type": "code",
   "execution_count": null,
   "metadata": {
    "id": "DzpiQ--88Jop"
   },
   "outputs": [],
   "source": [
    "with open('saved_shap/mlp_shap_values_adults.pkl', 'rb') as f:\n",
    "    mlp_shap_values = pickle.load(f)"
   ]
  },
  {
   "cell_type": "code",
   "execution_count": null,
   "metadata": {
    "id": "RzSAjMFSv1-n"
   },
   "outputs": [],
   "source": [
    "# Compute SHAP values for the test set (using fewer samples for performance)\n",
    "mlp_shap_values = mlp_explainer.shap_values(X_test_np, nsamples=100)"
   ]
  },
  {
   "cell_type": "code",
   "execution_count": null,
   "metadata": {
    "colab": {
     "base_uri": "https://localhost:8080/"
    },
    "collapsed": true,
    "executionInfo": {
     "elapsed": 1142,
     "status": "ok",
     "timestamp": 1749128912526,
     "user": {
      "displayName": "Hung Thanh Do",
      "userId": "14602254202234053172"
     },
     "user_tz": -120
    },
    "id": "pVFIcgbfLHzf",
    "outputId": "6d03b70c-713f-470e-eda4-3c3233799b53"
   },
   "outputs": [
    {
     "data": {
      "image/png": "[encoded data removed]",
      "text/plain": [
       "<Figure size 800x630 with 2 Axes>"
      ]
     },
     "metadata": {},
     "output_type": "display_data"
    }
   ],
   "source": [
    "# Plot SHAP summary plot\n",
    "shap.summary_plot(mlp_shap_values, X_test_np, feature_names=X_test.columns)"
   ]
  },
  {
   "cell_type": "code",
   "execution_count": null,
   "metadata": {
    "id": "oI92c914LHzf"
   },
   "outputs": [],
   "source": [
    "# Save the SHAP values for MLP\n",
    "with open('saved_shap/mlp_shap_values_adults.pkl', 'wb') as f:\n",
    "    pickle.dump(mlp_shap_values, f)"
   ]
  },
  {
   "cell_type": "markdown",
   "metadata": {
    "id": "5hqjs-D_9hYo"
   },
   "source": [
    "## Quantus"
   ]
  },
  {
   "cell_type": "markdown",
   "metadata": {
    "id": "BWBPPYE99hYo"
   },
   "source": [
    "### Wrapped model"
   ]
  },
  {
   "cell_type": "code",
   "execution_count": null,
   "metadata": {
    "colab": {
     "base_uri": "https://localhost:8080/"
    },
    "collapsed": true,
    "executionInfo": {
     "elapsed": 32,
     "status": "ok",
     "timestamp": 1749289106170,
     "user": {
      "displayName": "Hung Thanh Do",
      "userId": "14602254202234053172"
     },
     "user_tz": -120
    },
    "id": "LCoBwFaL9hYo",
    "outputId": "17ea62b8-85e5-4de1-dbbf-6380085027e7"
   },
   "outputs": [
    {
     "data": {
      "text/plain": [
       "TorchMLPModelWrapper(\n",
       "  (model): MLP(\n",
       "    (fc1): Linear(in_features=12, out_features=50, bias=True)\n",
       "    (relu): ReLU()\n",
       "    (fc2): Linear(in_features=50, out_features=2, bias=True)\n",
       "  )\n",
       ")"
      ]
     },
     "execution_count": 22,
     "metadata": {},
     "output_type": "execute_result"
    }
   ],
   "source": [
    "# ---------------------------\n",
    "# Wrap Model for Quantus FaithfulnessCorrelation\n",
    "# ---------------------------\n",
    "class TorchMLPModelWrapper(nn.Module):\n",
    "    def __init__(self, model):\n",
    "        super(TorchMLPModelWrapper, self).__init__()\n",
    "        self.model = model\n",
    "        self.model.eval()\n",
    "\n",
    "    def forward(self, x):\n",
    "        return self.model(x)\n",
    "\n",
    "    def predict(self, X):\n",
    "        X = np.atleast_2d(X)\n",
    "        self.model.eval()\n",
    "        with torch.no_grad():\n",
    "            X_tensor = torch.from_numpy(X).float()\n",
    "            logits = self.model(X_tensor)\n",
    "            probs = torch.softmax(logits, dim=1).cpu().numpy()  # shape: (n_samples, 2)\n",
    "        return probs\n",
    "\n",
    "    def shape_input(self, x, shape, channel_first):\n",
    "        return np.atleast_2d(x)\n",
    "\n",
    "mlp_wrapped_model = TorchMLPModelWrapper(mlp_model)\n",
    "mlp_wrapped_model.eval()"
   ]
  },
  {
   "cell_type": "code",
   "execution_count": null,
   "metadata": {
    "id": "fGGvYLv69hYp"
   },
   "outputs": [],
   "source": [
    "# ---------------------------\n",
    "# Evaluate FaithfulnessCorrelation with Quantus using SHAP attributions\n",
    "# ---------------------------\n",
    "# Ensure y_test is of integer type\n",
    "y_test_int = y_test_np.astype(np.int64)"
   ]
  },
  {
   "cell_type": "markdown",
   "metadata": {
    "id": "RoNdVZAX9hYp"
   },
   "source": [
    "### Complexity"
   ]
  },
  {
   "cell_type": "code",
   "execution_count": null,
   "metadata": {
    "colab": {
     "base_uri": "https://localhost:8080/",
     "referenced_widgets": [
      "484ac8fc76d94e859b373c7c58018e6b",
      "f62facee5bf9437d91dfc0550d78557a",
      "eee36adfd7c94c67897fe64377421b9b",
      "03b9575b213a4f119e64449c61330aa7",
      "6fd192441d34417c9b40b81a89327294",
      "36903911e2b048a6901bbee7f27cba26",
      "4f0cec41c1964df59def7a4c22da5069",
      "a0c8dc7b4f034ddc9952f1b6bb307327",
      "924271bc02524aa7b2a6d4444ec68dc3",
      "b9cca44683c24de180affe44c0c88951",
      "6968d637a4f24218804bc42b9523d045"
     ]
    },
    "executionInfo": {
     "elapsed": 2010,
     "status": "ok",
     "timestamp": 1749289109371,
     "user": {
      "displayName": "Hung Thanh Do",
      "userId": "14602254202234053172"
     },
     "user_tz": -120
    },
    "id": "et6VIx5F9hYp",
    "outputId": "8917efac-097c-4985-8a0b-877ec9aeb0bb"
   },
   "outputs": [
    {
     "data": {
      "application/vnd.jupyter.widget-view+json": {
       "model_id": "484ac8fc76d94e859b373c7c58018e6b",
       "version_major": 2,
       "version_minor": 0
      },
      "text/plain": [
       "  0%|          | 0/102.0 [00:00<?, ?it/s]"
      ]
     },
     "metadata": {},
     "output_type": "display_data"
    },
    {
     "name": "stdout",
     "output_type": "stream",
     "text": [
      "Complexity: Complexity by Bhatt et al., 2020.\n",
      "\n",
      " • SHAP =  0.795709605913702\n"
     ]
    }
   ],
   "source": [
    "# Apply Complexity metric using SHAP attributions\n",
    "Complexity_shap = quantus.Complexity(\n",
    "    normalise=False,\n",
    "    abs=True,  # Take absolute values of attributions\n",
    "    disable_warnings=True,\n",
    "    display_progressbar=True,\n",
    "    aggregate_func=np.mean,  # Compute mean complexity over all samples\n",
    ")(\n",
    "    model=mlp_wrapped_model,\n",
    "    x_batch=X_test_np,\n",
    "    y_batch=y_test_int,\n",
    "    a_batch=mlp_shap_values,   # use SHAP attributions computed above\n",
    "    explain_func=None      # explanations are precomputed\n",
    ")\n",
    "\n",
    "# Scale to 0-1\n",
    "Complexity_shap = (Complexity_shap - min(Complexity_shap)) / (\n",
    "    max(Complexity_shap) - min(Complexity_shap)\n",
    ")\n",
    "\n",
    "# Find mean\n",
    "Complexity_shap = np.mean(Complexity_shap)\n",
    "\n",
    "print(\n",
    "    f\"Complexity: Complexity by Bhatt et al., 2020.\\n\"\n",
    "    f\"\\n • SHAP = \",\n",
    "    Complexity_shap,\n",
    ")"
   ]
  },
  {
   "cell_type": "code",
   "execution_count": null,
   "metadata": {
    "colab": {
     "base_uri": "https://localhost:8080/",
     "referenced_widgets": [
      "85e55849d6334238a5181fe5623306f1",
      "f95149dde39a4072853592f25bb87882",
      "e3e650f454584c659096ab41af826cd0",
      "a5b14986505a4c319ca1df9528059aad",
      "e326cded0a8b43ba98e2efe7229ee16c",
      "518e449689654a91a71f4ec254d452b1",
      "844af7dcd7354d4694c61e11470faff1",
      "130b2d970b8c462db5b22030305f7d8e",
      "6419c00c046f42dbbe617194cf0166ed",
      "ff9e53ec9c534551bae0268aea1747b2",
      "79b72d7945494b62be7f0c429b270be5"
     ]
    },
    "executionInfo": {
     "elapsed": 661,
     "status": "ok",
     "timestamp": 1749289110061,
     "user": {
      "displayName": "Hung Thanh Do",
      "userId": "14602254202234053172"
     },
     "user_tz": -120
    },
    "id": "ttUHToHe9hYp",
    "outputId": "25aa6c79-1935-4c69-f16d-da4a0d2a514f"
   },
   "outputs": [
    {
     "data": {
      "application/vnd.jupyter.widget-view+json": {
       "model_id": "85e55849d6334238a5181fe5623306f1",
       "version_major": 2,
       "version_minor": 0
      },
      "text/plain": [
       "  0%|          | 0/102.0 [00:00<?, ?it/s]"
      ]
     },
     "metadata": {},
     "output_type": "display_data"
    },
    {
     "name": "stdout",
     "output_type": "stream",
     "text": [
      "Complexity: Sparseness by Chalasani et al., 2020.\n",
      "\n",
      " • SHAP =  [np.float64(0.5547834205221299)]\n"
     ]
    }
   ],
   "source": [
    "Sparseness_shap = quantus.Sparseness(\n",
    "    normalise=False,\n",
    "    abs=True, # take absolute values of attributions\n",
    "    disable_warnings=True,\n",
    "    display_progressbar=True,\n",
    "    return_aggregate=True, # find the mean of the complexity from all samples\n",
    "    aggregate_func=np.mean,\n",
    ")(\n",
    "    model=mlp_wrapped_model,\n",
    "    x_batch=X_test_np,\n",
    "    y_batch=y_test_int,\n",
    "    a_batch=mlp_shap_values,   # use SHAP attributions computed above\n",
    "    explain_func=None,      # explanations are precomputed\n",
    ")\n",
    "\n",
    "# Already scaled to 0-1 -> keep aggregated (mean)\n",
    "\n",
    "print(\n",
    "    f\"Complexity: Sparseness by Chalasani et al., 2020.\\n\"\n",
    "    f\"\\n • SHAP = \",\n",
    "    Sparseness_shap,\n",
    ")"
   ]
  },
  {
   "cell_type": "markdown",
   "metadata": {
    "id": "OgbQkgex9hYp"
   },
   "source": [
    "### Faithfulness"
   ]
  },
  {
   "cell_type": "code",
   "execution_count": null,
   "metadata": {
    "colab": {
     "base_uri": "https://localhost:8080/",
     "referenced_widgets": [
      "7144db92584e4660946e0298e8e18853",
      "cc67f5240dcf41b3809d1be7ce91ffff",
      "798e46e7c6e04a539e139c93e2b4da60",
      "c71e5c6ba1e34afead189b1f52b3ad43",
      "71a456919d5144909aea8cf5feea4014",
      "b7fa46410f2e4880a9c2499460fe67b3",
      "5987269528434632b78953184ed74dc7",
      "b498d910a8544da2906ced9a222f25af",
      "db4277ad87774a1784f66edfd11f4954",
      "6cfa9c6aa01d4d52b90855559a6fb63e",
      "c0b22b55b26945c0a989ff5311149c64"
     ]
    },
    "executionInfo": {
     "elapsed": 44965,
     "status": "ok",
     "timestamp": 1749289158852,
     "user": {
      "displayName": "Hung Thanh Do",
      "userId": "14602254202234053172"
     },
     "user_tz": -120
    },
    "id": "qU40JNYj9hYp",
    "outputId": "e0500dc6-9fc6-433c-f165-69a9e0dbb16f"
   },
   "outputs": [
    {
     "data": {
      "application/vnd.jupyter.widget-view+json": {
       "model_id": "7144db92584e4660946e0298e8e18853",
       "version_major": 2,
       "version_minor": 0
      },
      "text/plain": [
       "  0%|          | 0/102.0 [00:00<?, ?it/s]"
      ]
     },
     "metadata": {},
     "output_type": "display_data"
    },
    {
     "name": "stdout",
     "output_type": "stream",
     "text": [
      "-0.9288423566169468\n",
      "Faithfulness: Faithfulness Correlation by Bhatt et al., 2020.\n",
      "\n",
      " • SHAP =  0.5479147883115225\n"
     ]
    }
   ],
   "source": [
    "FaithfulnessCorrelation_shap = quantus.FaithfulnessCorrelation(\n",
    "    perturb_baseline=\"white\",\n",
    "    perturb_func=quantus.baseline_replacement_by_indices,\n",
    "    subset_size=5, # features to perturb\n",
    "    nr_runs=10,\n",
    "    similarity_func=quantus.similarity_func.correlation_pearson,\n",
    "    abs=True, # take absolute values of attributions\n",
    "    normalise=False, # do not normalise ohe data\n",
    "    return_aggregate=False, # (not) output 1 val instead of list of vals for all samples\n",
    "    aggregate_func=np.mean,\n",
    "    disable_warnings=True,\n",
    "    display_progressbar=True,\n",
    ")(\n",
    "    model=mlp_wrapped_model,\n",
    "    x_batch=X_test_np,\n",
    "    y_batch=y_test_int,\n",
    "    a_batch=mlp_shap_values,   # use SHAP attributions computed above\n",
    "    explain_func=None,      # explanations are precomputed\n",
    "    device=device\n",
    ")\n",
    "\n",
    "print(np.min(FaithfulnessCorrelation_shap))\n",
    "\n",
    "# Scale to 0-1\n",
    "FaithfulnessCorrelation_shap = (FaithfulnessCorrelation_shap - np.min(FaithfulnessCorrelation_shap)) / (\n",
    "    np.max(FaithfulnessCorrelation_shap) - np.min(FaithfulnessCorrelation_shap)\n",
    ")\n",
    "\n",
    "# Find mean\n",
    "FaithfulnessCorrelation_shap = np.mean(FaithfulnessCorrelation_shap)\n",
    "\n",
    "print(\n",
    "    f\"Faithfulness: Faithfulness Correlation by Bhatt et al., 2020.\\n\"\n",
    "    f\"\\n • SHAP = \",\n",
    "    FaithfulnessCorrelation_shap,\n",
    ")"
   ]
  },
  {
   "cell_type": "code",
   "execution_count": null,
   "metadata": {
    "colab": {
     "base_uri": "https://localhost:8080/",
     "referenced_widgets": [
      "13db61bdf18b4e8fa9ca3988234f3cc4",
      "22806f16920443eba62a45e0a5e10c38",
      "100680148b6d41abb5dd487ba65a174d",
      "36ee7107b5364848951c4ec5397db9da",
      "dd731733d4a94a6f893f1b6befcd87e3",
      "433cdefca3804b70addc7e5cf4694ab3",
      "39bea2cbeb2143a3bc049ead6b03d8bf",
      "c4ee44f53c7e489b9e55d80b548bfc27",
      "3275fa613cd64d08ac3e4f4f732626ed",
      "03e864bb7e14498dafa476855950ffe7",
      "fc3d034401814ed39e941ff0a6867b56"
     ]
    },
    "executionInfo": {
     "elapsed": 50642,
     "status": "ok",
     "timestamp": 1749289209495,
     "user": {
      "displayName": "Hung Thanh Do",
      "userId": "14602254202234053172"
     },
     "user_tz": -120
    },
    "id": "6n9knQos9hYp",
    "outputId": "e18b08c9-07bb-4405-abb3-e4067d9dd1fd"
   },
   "outputs": [
    {
     "data": {
      "application/vnd.jupyter.widget-view+json": {
       "model_id": "13db61bdf18b4e8fa9ca3988234f3cc4",
       "version_major": 2,
       "version_minor": 0
      },
      "text/plain": [
       "  0%|          | 0/102.0 [00:00<?, ?it/s]"
      ]
     },
     "metadata": {},
     "output_type": "display_data"
    },
    {
     "name": "stderr",
     "output_type": "stream",
     "text": [
      "/usr/local/lib/python3.11/dist-packages/quantus/helpers/warn.py:257: UserWarning: The settings for perturbing input e.g., 'perturb_func' didn't cause change in input. Reconsider the parameter settings.\n",
      "  warnings.warn(\n"
     ]
    },
    {
     "name": "stdout",
     "output_type": "stream",
     "text": [
      "Faithfulness: Faithfulness Estimate by Alvarez-Melis et al., 2018.\n",
      "\n",
      " • SHAP =  0.5522421899840626\n"
     ]
    }
   ],
   "source": [
    "FaithfulnessEstimate_shap = quantus.FaithfulnessEstimate(\n",
    "    perturb_baseline=\"white\",\n",
    "    perturb_func=quantus.baseline_replacement_by_indices,\n",
    "    features_in_step=1, # features to perturb\n",
    "    similarity_func=quantus.similarity_func.correlation_pearson,\n",
    "    abs=True, # take absolute values of attributions\n",
    "    normalise=False, # do not normalise ohe data\n",
    "    return_aggregate=False, # (not) output 1 val instead of list of vals for all samples\n",
    "    aggregate_func=np.mean,\n",
    "    disable_warnings=True,\n",
    "    display_progressbar=True,\n",
    ")(\n",
    "    model=mlp_wrapped_model,\n",
    "    x_batch=X_test_np,\n",
    "    y_batch=y_test_int,\n",
    "    a_batch=mlp_shap_values,   # use SHAP attributions computed above\n",
    "    explain_func=None,      # explanations are precomputed\n",
    "    device=device\n",
    ")\n",
    "\n",
    "# Scale to 0-1\n",
    "FaithfulnessEstimate_shap = (FaithfulnessEstimate_shap - np.min(FaithfulnessEstimate_shap)) / (\n",
    "    np.max(FaithfulnessEstimate_shap) - np.min(FaithfulnessEstimate_shap)\n",
    ")\n",
    "\n",
    "# Find mean\n",
    "FaithfulnessEstimate_shap = np.mean(FaithfulnessEstimate_shap)\n",
    "\n",
    "print(\n",
    "    f\"Faithfulness: Faithfulness Estimate by Alvarez-Melis et al., 2018.\\n\"\n",
    "    f\"\\n • SHAP = \",\n",
    "    FaithfulnessEstimate_shap,\n",
    ")"
   ]
  },
  {
   "cell_type": "markdown",
   "metadata": {
    "id": "PY_Kx0MW9hYp"
   },
   "source": [
    "### Robustness"
   ]
  },
  {
   "cell_type": "code",
   "execution_count": null,
   "metadata": {
    "colab": {
     "base_uri": "https://localhost:8080/",
     "height": 170,
     "referenced_widgets": [
      "8e1116d029c9445c93d6c0dc75776c2c",
      "5c0f27572cb84dd88e8d88d323f51f6c",
      "1f32b556c1414079b7819eb865f915c2",
      "4bad214369f14abb8b930bd34085f3a8",
      "9b58735193f54d37987e0228134b0aea",
      "7e04d6c752774bbeae0e56ce8014c6bb",
      "6351cfa8832c4ea7ab144542179bebe3",
      "21ca4dff70264a17bc1f306781882008",
      "22540ce17aac410988ff492b76c41422",
      "0f1b548b960547eabde55b815b3e1528",
      "66aa5031c28440e699ea3d8833f8b15e"
     ]
    },
    "executionInfo": {
     "elapsed": 381236,
     "status": "ok",
     "timestamp": 1749290277964,
     "user": {
      "displayName": "Hung Thanh Do",
      "userId": "14602254202234053172"
     },
     "user_tz": -120
    },
    "id": "yZLjxqXu9hYp",
    "outputId": "99c62812-4226-46ee-db15-a5f6de8dc778"
   },
   "outputs": [
    {
     "data": {
      "application/vnd.jupyter.widget-view+json": {
       "model_id": "8e1116d029c9445c93d6c0dc75776c2c",
       "version_major": 2,
       "version_minor": 0
      },
      "text/plain": [
       "  0%|          | 0/102.0 [00:00<?, ?it/s]"
      ]
     },
     "metadata": {},
     "output_type": "display_data"
    },
    {
     "name": "stderr",
     "output_type": "stream",
     "text": [
      "/usr/local/lib/python3.11/dist-packages/captum/attr/_core/deep_lift.py:304: UserWarning: Setting forward, backward hooks and attributes on non-linear\n",
      "               activations. The hooks and attributes will be removed\n",
      "            after the attribution is finished\n",
      "  warnings.warn(\n"
     ]
    },
    {
     "name": "stdout",
     "output_type": "stream",
     "text": [
      "Robustness: Local Lipschitz Estimate by Alvarez-Melis et al., 2018.\n",
      "\n",
      " • SHAP =  0.052702056991984415\n"
     ]
    }
   ],
   "source": [
    "LocalLipschitzEstimate_shap = quantus.LocalLipschitzEstimate(\n",
    "    normalise=False,\n",
    "    abs=True, # take absolute values of attributions\n",
    "    nr_samples = 20,\n",
    "    disable_warnings=True,\n",
    "    display_progressbar=True,\n",
    "    # return_aggregate=True, # find the mean of the complexity from all samples\n",
    "    #aggregate_func=np.mean,\n",
    ")(\n",
    "    model=mlp_wrapped_model,\n",
    "    x_batch=X_test_np,\n",
    "    y_batch=y_test_int,\n",
    "    # a_batch=mlp_shap_values,\n",
    "    a_batch=None,\n",
    "    explain_func=quantus.explain,\n",
    "    explain_func_kwargs={\"method\": \"DeepLiftShap\", \"reduce_axes\": ()},\n",
    "    device=device\n",
    ")\n",
    "\n",
    "# Scale to 0-1\n",
    "LocalLipschitzEstimate_shap = (LocalLipschitzEstimate_shap - np.min(LocalLipschitzEstimate_shap)) / (\n",
    "    np.max(LocalLipschitzEstimate_shap) - np.min(LocalLipschitzEstimate_shap)\n",
    ")\n",
    "\n",
    "# Find mean\n",
    "LocalLipschitzEstimate_shap = np.mean(LocalLipschitzEstimate_shap)\n",
    "\n",
    "print(\n",
    "    f\"Robustness: Local Lipschitz Estimate by Alvarez-Melis et al., 2018.\\n\"\n",
    "    f\"\\n • SHAP = \",\n",
    "    LocalLipschitzEstimate_shap,\n",
    ")"
   ]
  },
  {
   "cell_type": "markdown",
   "metadata": {
    "id": "-PTNaUfh9hYp"
   },
   "source": [
    "### Randomisation"
   ]
  },
  {
   "cell_type": "code",
   "execution_count": null,
   "metadata": {
    "colab": {
     "base_uri": "https://localhost:8080/",
     "referenced_widgets": [
      "08f676bee7f74d30aaa8278fc841d1c3",
      "f667ba6a39304a5db4b745716c8124bc",
      "90d2a62078234f2b913424e618b80c0e",
      "98020908f57840b99ce0a39c850d4ed1",
      "901a12754f784d34ba3709dcc7c1f05d",
      "9de95ee55ffb469697927f21bf8ccdcf",
      "d0f77b7ded7546c590e07c01dec091a3",
      "b116d470b6d94461abc88017f65827fb",
      "0863c3c8cbc14225a279a98dcb733ecd",
      "365f84b1d7514514808de4e98e369866",
      "075448d101de4406a0e747339d76f567"
     ]
    },
    "executionInfo": {
     "elapsed": 21939,
     "status": "ok",
     "timestamp": 1749289417602,
     "user": {
      "displayName": "Hung Thanh Do",
      "userId": "14602254202234053172"
     },
     "user_tz": -120
    },
    "id": "FFZDLSzIbAOF",
    "outputId": "9ce1f3a1-7381-4635-9bc6-db310108c857"
   },
   "outputs": [
    {
     "data": {
      "application/vnd.jupyter.widget-view+json": {
       "model_id": "08f676bee7f74d30aaa8278fc841d1c3",
       "version_major": 2,
       "version_minor": 0
      },
      "text/plain": [
       "  0%|          | 0/102.0 [00:00<?, ?it/s]"
      ]
     },
     "metadata": {},
     "output_type": "display_data"
    },
    {
     "name": "stdout",
     "output_type": "stream",
     "text": [
      "Randomisation: RandomLogit scores by Sixt et al., 2020.\n",
      "\n",
      " • SHAP =  [np.float64(0.6114931559811035), np.float64(0.7069623619318008), np.float64(0.7318699856599172), np.float64(0.8152183393637339), np.float64(0.9433199763298035), np.float64(0.5875356954832872), np.float64(0.6513573539753755), np.float64(0.6712926824887594), np.float64(0.6772565344969431), np.float64(0.7777553002039591), np.float64(0.6347134212652842), np.float64(0.6024413928389549), np.float64(0.6689570968349775), np.float64(0.805184026559194), np.float64(0.719022735953331), np.float64(0.5646800572673479), np.float64(0.7873742779095968), np.float64(0.5763816678275665), np.float64(0.6454131516317526), np.float64(0.9942716856797537), np.float64(0.8069899876912435), np.float64(0.7808055430650711), np.float64(0.6971021592617035), np.float64(0.6746168558796247), np.float64(0.9261727134386698), np.float64(0.5136358253657818), np.float64(0.5669548368702332), np.float64(0.6123814800133308), np.float64(0.6749417496224245), np.float64(0.6236767924080292), np.float64(0.7133480484286944), np.float64(0.6495127975940704), np.float64(0.9960989157358805), np.float64(0.6511376649141312), np.float64(0.7992052733898163), np.float64(0.6821057597796122), np.float64(0.5282904760291179), np.float64(0.8175972799460093), np.float64(0.5696008548450967), np.float64(0.6172963927189509), np.float64(0.7569094548622767), np.float64(0.6463817196587721), np.float64(0.628827249010404), np.float64(0.6215468222896258), np.float64(0.97933629155159), np.float64(0.6983910339574019), np.float64(0.7216486781835556), np.float64(0.6362808185319105), np.float64(0.6405146817366282), np.float64(0.5838874652981758), np.float64(0.556732335438331), np.float64(0.7617961963017782), np.float64(0.5465871840715408), np.float64(0.9080743889013926), np.float64(0.7836492458979288), np.float64(0.7358418057362238), np.float64(0.6412740473945936), np.float64(0.7295548717180887), np.float64(0.9697857797145844), np.float64(0.923469603061676), np.float64(0.8040767858425776), np.float64(0.65071040391922), np.float64(0.6291809733957052), np.float64(0.7440499862035116), np.float64(0.6412554094567895), np.float64(0.7745048888027668), np.float64(0.5902804670234522), np.float64(0.9892429312070211), np.float64(0.8161692023277283), np.float64(0.9079111218452454), np.float64(0.6482980102300644), np.float64(0.5815578798453013), np.float64(0.9084594547748566), np.float64(0.8501313726107279), np.float64(0.5965816527605057), np.float64(0.559111088514328), np.float64(0.8457513153553009), np.float64(0.8379443983236948), np.float64(0.7809995909531912), np.float64(0.7545056144396464), np.float64(0.6441323421895504), np.float64(0.6767873087277015), np.float64(0.5673583832879862), np.float64(0.6262514150391022), np.float64(0.76747115701437), np.float64(0.45069355765978497), np.float64(0.6449718351165453), np.float64(0.7182855332891146), np.float64(0.9962420463562012), np.float64(0.9973353743553162), np.float64(0.9547796646753947), np.float64(0.44644230231642723), np.float64(0.6769021836419901), np.float64(0.7884470075368881), np.float64(0.998164693514506), np.float64(0.5980701930820942), np.float64(0.915913979212443), np.float64(0.7044079179565111), np.float64(0.7256130203604698), np.float64(0.5709647964686155), np.float64(0.6628557667136192), np.float64(0.5473037386933962), np.float64(0.9410353700319926), np.float64(0.4199861213564873), np.float64(0.6901121406505505), np.float64(0.8644397854804993), np.float64(0.9992250204086304), np.float64(0.999231219291687), np.float64(0.6479849480092525), np.float64(0.6802805860837301), np.float64(0.6777699273079634), np.float64(0.3631179916361968), np.float64(0.8077485263347626), np.float64(0.7131204201529423), np.float64(0.6635102604826292), np.float64(0.5710160527378321), np.float64(0.6649748266985019), np.float64(0.9804404576619467), np.float64(0.6751223988831043), np.float64(0.6549942636241516), np.float64(0.7125002058843771), np.float64(0.6473979360113541), np.float64(0.7240876158078512), np.float64(0.5801243713746468), np.float64(0.6711550454298655), np.float64(0.7536104371150335), np.float64(0.7949999620517095), np.float64(0.8918882111708323), np.float64(0.6640560626983643), np.float64(0.699074092010657), np.float64(0.7505350857973099), np.float64(0.7423648138840994), np.float64(0.6715316871802012), np.float64(0.5412276141966382), np.float64(0.995969295501709), np.float64(0.6371594319740931), np.float64(0.7535950938860575), np.float64(0.6979482422272364), np.float64(0.31680963950930163), np.float64(0.9855305850505829), np.float64(0.6062726639211178), np.float64(0.6021704860031605), np.float64(0.5597108403841654), np.float64(0.6690796762704849), np.float64(0.6305665833254656), np.float64(0.6576879272858301), np.float64(0.6596629184981188), np.float64(0.7757089876880249), np.float64(0.82464732726415), np.float64(0.5471920048197111), np.float64(0.6089336667209864), np.float64(0.6134732278684775), np.float64(0.8039222558339437), np.float64(0.8758709828058878), np.float64(0.6726627610623837), np.float64(0.5964034820596377), np.float64(0.5042441586653391), np.float64(0.6891185790300369), np.float64(0.6270463416973749), np.float64(0.6809884160757065), np.float64(0.9703761835892996), np.float64(0.8157220681508383), np.float64(0.8036483253041903), np.float64(0.600823866824309), np.float64(0.979795773824056), np.float64(0.9209907750288645), np.float64(0.7775217791398367), np.float64(0.7188488549242417), np.float64(0.6335520334541798), np.float64(0.581963966290156), np.float64(0.5870018030206362), np.float64(0.7088856101036072), np.float64(0.6749418762822946), np.float64(0.6874994014700254), np.float64(0.801109234491984), np.float64(0.761429121096929), np.float64(0.2242750177780787), np.float64(0.6275243728111187), np.float64(0.6688915907094876), np.float64(0.6218022306760153), np.float64(0.7080826461315155), np.float64(0.6231846579660972), np.float64(0.7114095538854599), np.float64(0.9407009383042654), np.float64(0.643628753721714), np.float64(0.6831963956356049), np.float64(0.8003972073396047), np.float64(0.9610201517740885), np.float64(0.9913286864757538), np.float64(0.6674663365508119), np.float64(0.5661088110258182), np.float64(0.6490191929042339), np.float64(0.7770707805951437), np.float64(0.6447393248478571), np.float64(0.8113520642121633), np.float64(0.6224095430225134), np.float64(0.5949689615517855), np.float64(0.6853916980326176), np.float64(0.5663491909702619), np.float64(0.9593245585759481), np.float64(0.9887762864430746), np.float64(0.6367563779155413), np.float64(0.629385049144427), np.float64(0.598032525430123), np.float64(0.5748587834338347), np.float64(0.5846609696745872), np.float64(0.8024738530317942), np.float64(0.855948269367218), np.float64(0.6420112351576487), np.float64(0.8159035642941793), np.float64(0.5858084559440613), np.float64(0.6563599972675244), np.float64(0.5933372539778551), np.float64(0.9384200076262156), np.float64(0.6070787416150173), np.float64(0.9633742372194926), np.float64(0.7301600289841493), np.float64(0.9959107538064321), np.float64(0.6329784877598286), np.float64(0.9953383406003317), np.float64(0.9971968233585358), np.float64(0.72403185069561), np.float64(0.6137939058244228), np.float64(0.7187333765129248), np.float64(0.789100835720698), np.float64(0.6668254137039185), np.float64(0.6838499357302984), np.float64(0.967526505390803), np.float64(0.6300685244301955), np.float64(0.6117313156525294), np.float64(0.7797328879435858), np.float64(0.6120975681891044), np.float64(0.5065643986066183), np.float64(0.861845443646113), np.float64(0.7647722810506821), np.float64(0.632478266954422), np.float64(0.9953955411911011), np.float64(0.652870470037063), np.float64(0.6360471025109291), np.float64(0.8990238010883331), np.float64(0.6476167043050131), np.float64(0.6617664645115534), np.float64(0.8057087461153666), np.float64(0.5416580786307653), np.float64(0.8141154150168101), np.float64(0.6443652336796125), np.float64(0.6492343991994858), np.float64(0.8523531754811605), np.float64(0.9878039161364237), np.float64(0.6163431207338969), np.float64(0.7913518324494362), np.float64(0.6594481232265631), np.float64(0.6835690836111704), np.float64(0.7386066615581512), np.float64(0.6127242365231117), np.float64(0.661318821211656), np.float64(0.6616233239571253), np.float64(0.5530246753866473), np.float64(0.995281438032786), np.float64(0.7431938617179791), np.float64(0.7039340808987617), np.float64(0.6093768154581388), np.float64(0.5898362994194031), np.float64(0.8251383900642395), np.float64(0.5991236120462418), np.float64(0.7620475565393766), np.float64(0.5934313734372457), np.float64(0.688098631799221), np.float64(0.45298338277886313), np.float64(0.6209506280720234), np.float64(0.6972644229729971), np.float64(0.6909554700056711), np.float64(0.653977577884992), np.float64(0.5936533113320669), np.float64(0.6068905172869563), np.float64(0.9911104639371237), np.float64(0.6645809399584929), np.float64(0.6007487984995047), np.float64(0.5431258976459503), np.float64(0.8872978190581003), np.float64(0.9614376525084177), np.float64(0.7318942795197169), np.float64(0.5176857163508733), np.float64(0.6100793040047089), np.float64(0.6831165254116058), np.float64(0.6623325596253077), np.float64(0.8176716963450114), np.float64(0.6283682348827521), np.float64(0.6006921579440435), np.float64(0.7566055258115133), np.float64(0.6238151267170906), np.float64(0.6067902812113365), np.float64(0.8131840427716573), np.float64(0.6502074326078097), np.float64(0.6710891251762708), np.float64(0.6893920029203097), np.float64(0.6501025060812632), np.float64(0.779731035232544), np.float64(0.7770506491263708), np.float64(0.677892193198204), np.float64(0.6165295181175073), np.float64(0.6168368806441625), np.float64(0.6202469728887081), np.float64(0.8002860943476359), np.float64(0.7781000832716624), np.float64(0.6084899138659239), np.float64(0.6757701188325882), np.float64(0.6471610739827156), np.float64(0.9570280512173971), np.float64(0.6118943380812804), np.float64(0.675841361284256), np.float64(0.6258364183207353), np.float64(0.803586890300115), np.float64(0.9938628872235616), np.float64(0.7190875932574272), np.float64(0.6552548805872599), np.float64(0.6856169908617934), np.float64(0.9948449432849884), np.float64(0.998214066028595), np.float64(0.7166942146917185), np.float64(0.6611088141798973), np.float64(0.46078561649968225), np.float64(0.9729282855987549), np.float64(0.6560073755681515), np.float64(0.643552461018165), np.float64(0.6228991448879242), np.float64(0.6475740832587084), np.float64(0.6246886309236288), np.float64(0.8347601691881815), np.float64(0.6628981331984202), np.float64(0.6287536708017191), np.float64(0.6566880568861961), np.float64(0.9496785501639048), np.float64(0.7386521647373835), np.float64(0.8062448004881541), np.float64(0.7855924467245737), np.float64(0.6064734694858392), np.float64(0.9172432323296865), np.float64(0.676831815391779), np.float64(0.5410107616335154), np.float64(0.5675860904157162), np.float64(0.784930427869161), np.float64(0.8922951618830363), np.float64(0.9612720509370168), np.float64(0.7298566102981567), np.float64(0.7522992591063181), np.float64(0.761068070307374), np.float64(0.7000641425450643), np.float64(0.6482979406913122), np.float64(0.6692250010867914), np.float64(0.8343117237091064), np.float64(0.6709026359021664), np.float64(0.6520771160721779), np.float64(0.9288124938805898), np.float64(0.9992246230443319), np.float64(0.7034795669217905), np.float64(0.6790813617408276), np.float64(0.6816179842377702), np.float64(0.8272503515084585), np.float64(0.9901446501413981), np.float64(0.7095562467972437), np.float64(0.8129760871330897), np.float64(0.6760146642724673), np.float64(0.6448885773619016), np.float64(0.5868552383035421), np.float64(0.7873041232426962), np.float64(0.7128760541478792), np.float64(0.5720146012802919), np.float64(0.7801784624656042), np.float64(0.6581975122292837), np.float64(0.5810370010634264), np.float64(0.5977742597460747), np.float64(0.6829296213885149), np.float64(0.6707346613208452), np.float64(0.9605769515037537), np.float64(0.663372665643692), np.float64(0.6462050961951414), np.float64(0.7791672746340433), np.float64(0.6143281956513723), np.float64(0.5375110923002163), np.float64(0.6112901773303747), np.float64(0.6699918036659559), np.float64(0.7120833297570547), np.float64(0.7620883087317148), np.float64(0.5713011442373196), np.float64(0.7146338485181332), np.float64(0.8128292262554169), np.float64(0.6013921356449524), np.float64(0.9954374929269155), np.float64(0.9972890118757883), np.float64(0.5616079159080982), np.float64(0.6234448651472727), np.float64(0.8245711227258047), np.float64(0.6219249119361242), np.float64(0.62851615746816), np.float64(0.5933116301894188), np.float64(0.9985476434230804), np.float64(0.6268683262169361), np.float64(0.7541463524103165), np.float64(0.7342016908029715), np.float64(0.5989614271869262), np.float64(0.6556272506713867), np.float64(0.5981617748426894), np.float64(0.6828249941269556), np.float64(0.6280851519356171), np.float64(0.6937117849787077), np.float64(0.6477433443069458), np.float64(0.6881846239169439), np.float64(0.6702442516883215), np.float64(0.7975355088710785), np.float64(0.684620683391889), np.float64(0.7252079173922539), np.float64(0.5960583457102379), np.float64(0.8045830577611923), np.float64(0.6755349468439817), np.float64(0.675776739915212), np.float64(0.6226821498324474), np.float64(0.7493215550978979), np.float64(0.6901215116182963), np.float64(0.662700013568004), np.float64(0.5417006090283394), np.float64(0.6260430663824081), np.float64(0.8232918729384741), np.float64(0.893987625837326), np.float64(0.610233391324679), np.float64(0.6574871887763342), np.float64(0.703685904542605), np.float64(0.756079355875651), np.float64(0.7646453436464071), np.float64(0.72358656860888), np.float64(0.7608390351136526), np.float64(0.6198888079573711), np.float64(0.7493208249409994), np.float64(0.9646507203578949), np.float64(0.7058159373700619), np.float64(0.6691465713083744), np.float64(0.8979270160198212), np.float64(0.7254987445970377), np.float64(0.6823448315262794), np.float64(0.5685198052475849), np.float64(0.9239477018515269), np.float64(0.7482735514640808), np.float64(0.7029663175344467), np.float64(0.7489975839853287), np.float64(0.8135768671830496), np.float64(0.9586722950140635), np.float64(0.770690567791462), np.float64(0.6222006479899088), np.float64(0.6206350065767765), np.float64(0.5287297070026398), np.float64(0.9662326872348785), np.float64(0.5661814386645952), np.float64(0.6209482202927271), np.float64(0.6747978056470553), np.float64(0.7056574920813242), np.float64(0.6831397401789824), np.float64(0.934385081132253), np.float64(0.9980259239673615), np.float64(0.7626844191302856), np.float64(0.6156903666754564), np.float64(0.5808273795992136), np.float64(0.6174397071202596), np.float64(0.6892723987499872), np.float64(0.7796444594860077), np.float64(0.6780822041134039), np.float64(0.6727423891425133), np.float64(0.9534981548786163), np.float64(0.9279288748900095), np.float64(0.6456777018805345), np.float64(0.7002171296626329), np.float64(0.9426382482051849), np.float64(0.7372110486030579), np.float64(0.6254097148776054), np.float64(0.6134153803189596), np.float64(0.4112782267232736), np.float64(0.6216958239674568), np.float64(0.6079380301137766), np.float64(0.9385023713111877), np.float64(0.83259716629982), np.float64(0.594333216547966), np.float64(0.6789729644854864), np.float64(0.9962400595347086), np.float64(0.6781991645693779), np.float64(0.656110900764664), np.float64(0.6186728229125341), np.float64(0.8557864228884379), np.float64(0.6847642622888088), np.float64(0.5151071275273958), np.float64(0.6447389982640743), np.float64(0.7773814226190249), np.float64(0.967184046904246), np.float64(0.905914435784022), np.float64(0.5879672368367513), np.float64(0.484431060962379), np.float64(0.6245012730360031), np.float64(0.621270195270578), np.float64(0.7821312844753265), np.float64(0.6864768664042155), np.float64(0.7816634277502695), np.float64(0.7499262640873591), np.float64(0.5792197914173206), np.float64(0.5651314004013935), np.float64(0.8161038855711619), np.float64(0.5959976172695557), np.float64(0.9946741362412771), np.float64(0.6173203115661939), np.float64(0.8339358667532603), np.float64(0.9290823638439178), np.float64(0.6511787436902523), np.float64(0.7732040683428446), np.float64(0.6843289385239283), np.float64(0.45345858794947463), np.float64(0.71961676577727), np.float64(0.675634910662969), np.float64(0.5242528604964415), np.float64(0.5840769745409489), np.float64(0.4908892400562763), np.float64(0.5883185416460037), np.float64(0.6084573802848657), np.float64(0.6828609891235828), np.float64(0.6409035821755728), np.float64(0.6857371969769398), np.float64(0.9981938600540161), np.float64(0.6676666600008806), np.float64(0.6653648366530737), np.float64(0.5741941998712718), np.float64(0.6945073505242666), np.float64(0.9932027657826742), np.float64(0.7333614975214005), np.float64(0.5978518997629484), np.float64(0.7840821246306101), np.float64(0.6089538726955652), np.float64(0.9618185559908549), np.float64(0.7958433826764425), np.float64(0.5977903877695402), np.float64(0.593351916099588), np.float64(0.6745961929361025), np.float64(0.5937586973110834), np.float64(0.6003520078957081), np.float64(0.6910828256513923), np.float64(0.5832463310410579), np.float64(0.8047565221786499), np.float64(0.998322476943334), np.float64(0.7206504605710506), np.float64(0.5860643442720175), np.float64(0.6753228803475698), np.float64(0.649326161791881), np.float64(0.7552096247673035), np.float64(0.934941977262497), np.float64(0.3615565374493599), np.float64(0.7132968964676062), np.float64(0.5431173263738552), np.float64(0.7176267604033152), np.float64(0.7284451027711233), np.float64(0.7011389384667078), np.float64(0.6272160789618889), np.float64(0.9992302258809408), np.float64(0.6249054955939451), np.float64(0.670247595757246), np.float64(0.5858873973290125), np.float64(0.7186523725589117), np.float64(0.6240170579403639), np.float64(0.8653570711612701), np.float64(0.6004723360141119), np.float64(0.5804657979557911), np.float64(0.605669055134058), np.float64(0.7715977517267069), np.float64(0.551974380078415), np.float64(0.7114192098379135), np.float64(0.8097256620724996), np.float64(0.7131209820508957), np.float64(0.6234119385480881), np.float64(0.6981180558602015), np.float64(0.7045730700095495), np.float64(0.677573174238205), np.float64(0.5745180447896322), np.float64(0.8220247775316238), np.float64(0.6712517589330673), np.float64(0.5716089773923159), np.float64(0.6492208018898964), np.float64(0.7202582495907942), np.float64(0.5954722672080001), np.float64(0.6972050673017899), np.float64(0.957321435213089), np.float64(0.7965191602706909), np.float64(0.6146077296386162), np.float64(0.6832819928725561), np.float64(0.6592388898134232), np.float64(0.6711825014402469), np.float64(0.6564321722835302), np.float64(0.778521791100502), np.float64(0.6161563843488693), np.float64(0.5702431512375673), np.float64(0.625170017282168), np.float64(0.6659043754140536), np.float64(0.9956158697605133), np.float64(0.6674295701086521), np.float64(0.7879899541536967), np.float64(0.6602185318867365), np.float64(0.9344135224819183), np.float64(0.3489476926624775), np.float64(0.7906708816687266), np.float64(0.6244179531931877), np.float64(0.6574609739085039), np.float64(0.6901507390042146), np.float64(0.783390611410141), np.float64(0.47847221543391544), np.float64(0.6838038563728333), np.float64(0.8377571801344553), np.float64(0.7983910143375397), np.float64(0.6776308690508207), np.float64(0.5204870759819945), np.float64(0.9981011350949606), np.float64(0.6618869478503863), np.float64(0.6459831098715464), np.float64(0.7405918948352337), np.float64(0.6908261353770891), np.float64(0.7217634270588557), np.float64(0.9985053539276123), np.float64(0.7013681754469872), np.float64(0.6648060710479816), np.float64(0.9390935301780701), np.float64(0.996629923582077), np.float64(0.6297199384619793), np.float64(0.752088118965427), np.float64(0.6321622828642527), np.float64(0.6514757523934046), np.float64(0.6188842443128427), np.float64(0.7301009247700373), np.float64(0.5608703838661313), np.float64(0.7747015406688055), np.float64(0.6996487006545067), np.float64(0.6318363845348358), np.float64(0.7206611235936483), np.float64(0.7977534532546997), np.float64(0.6228991448879242), np.float64(0.9965631564458212), np.float64(0.6843554377555847), np.float64(0.691275759289662), np.float64(0.6096329359958569), np.float64(0.7195403128862381), np.float64(0.9911356369654337), np.float64(0.7005128059536219), np.float64(0.43868228296438855), np.float64(0.8052087922890981), np.float64(0.6947947305937608), np.float64(0.6626300811767578), np.float64(0.6087224452445904), np.float64(0.6916928291320801), np.float64(0.6230139136314392), np.float64(0.5174516886472702), np.float64(0.6615750901401043), np.float64(0.6623935724298159), np.float64(0.6007816245158514), np.float64(0.7846408387025198), np.float64(0.7262452095746994), np.float64(0.6529436837881804), np.float64(0.6455722327033678), np.float64(0.9716068506240845), np.float64(0.951618472735087), np.float64(0.6969912399848303), np.float64(0.6361936231454214), np.float64(0.8829998970031738), np.float64(0.6714066428442796), np.float64(0.9949036637941996), np.float64(0.8099156320095062), np.float64(0.6810407750308514), np.float64(0.6894414946436882), np.float64(0.6334168513615926), np.float64(0.5303747405608495), np.float64(0.8425333897272745), np.float64(0.7658678094546), np.float64(0.7907013793786367), np.float64(0.5929616689682007), np.float64(0.6288834015528361), np.float64(0.7021443719665209), np.float64(0.6682238827149073), np.float64(0.6373677924275398), np.float64(0.7742852568626404), np.float64(0.9916758139928182), np.float64(0.5529316688577334), np.float64(0.9744463463624319), np.float64(0.6588104516267776), np.float64(0.6646272242069244), np.float64(0.7613176802794138), np.float64(0.726256109153231), np.float64(0.6105903970698515), np.float64(0.7642202277978262), np.float64(0.6953398833672205), np.float64(0.7710542579491934), np.float64(0.6329095177352428), np.float64(0.5667577938487133), np.float64(0.41248234547674656), np.float64(0.9858496785163879), np.float64(0.4012319507698218), np.float64(0.5756867745270332), np.float64(0.6998106762766838), np.float64(0.8045188188552856), np.float64(0.8703359464804331), np.float64(0.8291932592789332), np.float64(0.6725595692793528), np.float64(0.782106339931488), np.float64(0.6082674562931061), np.float64(0.6166950576007366), np.float64(0.6737166245778402), np.float64(0.8082988162835439), np.float64(0.880996565024058), np.float64(0.9890211721261343), np.float64(0.8341767191886902), np.float64(0.775579571723938), np.float64(0.7173044383525848), np.float64(0.647908728569746), np.float64(0.840906172990799), np.float64(0.6590324205656847), np.float64(0.7767828032374382), np.float64(0.9988836248715719), np.float64(0.7158832574884096), np.float64(0.6259141812721888), np.float64(0.6496586551268896), np.float64(0.6929254035154978), np.float64(0.5954173095524311), np.float64(0.832497368256251), np.float64(0.6759825261930624), np.float64(0.6781737071772417), np.float64(0.6537737250328064), np.float64(0.650362487261494), np.float64(0.592689952114597), np.float64(0.6248231281836828), np.float64(0.6252864177028338), np.float64(0.8142981429894766), np.float64(0.7649073700110117), np.float64(0.7243001163005829), np.float64(0.6063427763680617), np.float64(0.7124022344748179), np.float64(0.6649175106237332), np.float64(0.993397444486618), np.float64(0.44550491279611987), np.float64(0.731137216091156), np.float64(0.7144574771324793), np.float64(0.666644329826037), np.float64(0.9982079466183981), np.float64(0.7919616401195526), np.float64(0.6330687751372656), np.float64(0.6563017331063747), np.float64(0.6713484972715378), np.float64(0.7650320728619894), np.float64(0.9992391566435496), np.float64(0.5765113464246193), np.float64(0.6708193322022756), np.float64(0.6422122319539388), np.float64(0.6716929525136948), np.float64(0.684515904635191), np.float64(0.574936126669248), np.float64(0.7208189765612284), np.float64(0.9992215931415558), np.float64(0.7438642581303915), np.float64(0.5411328865836064), np.float64(0.6802176268150409), np.float64(0.7742260098457336), np.float64(0.6898509214321772), np.float64(0.6852180163065592), np.float64(0.6765206344425678), np.float64(0.8661796351273855), np.float64(0.7211847019692262), np.float64(0.5808334096024433), np.float64(0.6189967263489962), np.float64(0.6167348573605219), np.float64(0.807936280965805), np.float64(0.6479627328614393), np.float64(0.7488397161165873), np.float64(0.9810849328835806), np.float64(0.7826706220706304), np.float64(0.9376965959866842), np.float64(0.6198259548594555), np.float64(0.7148752411206564), np.float64(0.6250783260911703), np.float64(0.7438105344772339), np.float64(0.6798800577720007), np.float64(0.6388133615255356), np.float64(0.9876722892125448), np.float64(0.6599883623421192), np.float64(0.6341188537577788), np.float64(0.6968790094057719), np.float64(0.6057584993541241), np.float64(0.58152093924582), np.float64(0.8616923689842224), np.float64(0.9794613520304362), np.float64(0.5208119799693426), np.float64(0.6835140772163868), np.float64(0.6266076614459356), np.float64(0.6090726107358932), np.float64(0.6868937164545059), np.float64(0.9787951509157816), np.float64(0.8864303926626841), np.float64(0.6989257596433163), np.float64(0.6986107490956783), np.float64(0.8652905225753784), np.float64(0.9978340665499369), np.float64(0.808196226755778), np.float64(0.5780960960934559), np.float64(0.6913152982791265), np.float64(0.6467860490083694), np.float64(0.5836431110898653), np.float64(0.6277907229959965), np.float64(0.6023014336824417), np.float64(0.7546098865568638), np.float64(0.7405959020058314), np.float64(0.6652970910072327), np.float64(0.9421503444512686), np.float64(0.7516342575351397), np.float64(0.6410055756568909), np.float64(0.7584125399589539), np.float64(0.6829986510177454), np.float64(0.6869770139455795), np.float64(0.5689039683590332), np.float64(0.7779468397299448), np.float64(0.6423597584168116), np.float64(0.9703859488169352), np.float64(0.6623735732088486), np.float64(0.7373609046141306), np.float64(0.9507708748181661), np.float64(0.9948350787162781), np.float64(0.658358616133531), np.float64(0.6832384752730528), np.float64(0.9977376063664755), np.float64(0.5251138259967169), np.float64(0.6757039874792099), np.float64(0.6330095287412405), np.float64(0.6473575880130132), np.float64(0.8199827571709951), np.float64(0.8084230820337931), np.float64(0.6377203700443109), np.float64(0.6950491679211458), np.float64(0.6405196283012629), np.float64(0.9052810172239939), np.float64(0.688250536719958), np.float64(0.6090428878863653), np.float64(0.6041129293541113), np.float64(0.9518841107686361), np.float64(0.6050009503960609), np.float64(0.8551772435506185), np.float64(0.6657980841894945), np.float64(0.568296209598581), np.float64(0.6944300966958205), np.float64(0.6376677385220925), np.float64(0.8676327367623647), np.float64(0.5375774875283241), np.float64(0.8151203791300455), np.float64(0.7276398508499066), np.float64(0.9619859556357065), np.float64(0.664062557121118), np.float64(0.5508838488409916), np.float64(0.8666561345259348), np.float64(0.9952644308408102), np.float64(0.6622887626290321), np.float64(0.7174666995803515), np.float64(0.6902161650359631), np.float64(0.7399509996175766), np.float64(0.7244034763425589), np.float64(0.5404816592733065), np.float64(0.5856755102674166), np.float64(0.9742934207121531), np.float64(0.5825699251145124), np.float64(0.9408110876878103), np.float64(0.6032907515764236), np.float64(0.8104075491428375), np.float64(0.7552015855908394), np.float64(0.6423223285625378), np.float64(0.6446215560038885), np.float64(0.6085032826910416), np.float64(0.727213092148304), np.float64(0.6109690510978302), np.float64(0.7434902439514796), np.float64(0.7628983557224274), np.float64(0.7901030282179514), np.float64(0.6195926225433747), np.float64(0.8493683735529581), np.float64(0.879382977883021), np.float64(0.6087610100706419), np.float64(0.42022087797522545), np.float64(0.9992344081401825), np.float64(0.6579743145654599), np.float64(0.6551065370440483), np.float64(0.7274543792009354), np.float64(0.6495326099296411), np.float64(0.7138617237408956), np.float64(0.725569736212492), np.float64(0.6213344770173231), np.float64(0.6992003719011942), np.float64(0.6693118413289388), np.float64(0.9978113969167074), np.float64(0.6324347841242949), np.float64(0.7626238719870647), np.float64(0.7720363736152649), np.float64(0.76637930671374), np.float64(0.5863354150205851), np.float64(0.9493092199166616), np.float64(0.948200931151708), np.float64(0.7808517863353094), np.float64(0.6394166561464468), np.float64(0.625170017282168), np.float64(0.3894620692978303), np.float64(0.6477210745215416), np.float64(0.6034744686136643), np.float64(0.7613718410332998), np.float64(0.7529567560801903), np.float64(0.6032492431501547), np.float64(0.678134536370635), np.float64(0.7083214689046144), np.float64(0.6815277636051178), np.float64(0.9260733524958292), np.float64(0.9379597802956899), np.float64(0.6055897362530231), np.float64(0.5904252734035254), np.float64(0.9796338478724161), np.float64(0.6996188101669153), np.float64(0.9519320527712504), np.float64(0.7502695471048355), np.float64(0.8505703707536062), np.float64(0.6590643127759298), np.float64(0.7216417988141378), np.float64(0.7981583078702291), np.float64(0.9897994995117188), np.float64(0.9885140458742777), np.float64(0.8980796833833059), np.float64(0.9739502271016439), np.float64(0.5899534908433756), np.float64(0.8109350254138311), np.float64(0.7078149436662594), np.float64(0.7811127156019211), np.float64(0.818682387471199), np.float64(0.9947488208611807), np.float64(0.9943200846513113), np.float64(0.6721391181151072), np.float64(0.7002178554733595), np.float64(0.7769086956977844), np.float64(0.7075224940975507), np.float64(0.9963139196236929), np.float64(0.7971485654513041), np.float64(0.5316551476716995), np.float64(0.68161366507411), np.float64(0.6981711412469546), np.float64(0.9962431192398071), np.float64(0.6571843648950259), np.float64(0.9894299904505411), np.float64(0.6524083664019903), np.float64(0.6153660671164592), np.float64(0.9472343822320303), np.float64(0.6694632321596146), np.float64(0.6162826667229334), np.float64(0.7708761046330134), np.float64(0.6054926092425982), np.float64(0.6920663540561994), np.float64(0.6007182987717291), np.float64(0.5610915025075277), np.float64(0.9964500665664673), np.float64(0.701828962812821), np.float64(0.921523779630661), np.float64(0.7459651753306389), np.float64(0.5054296602805456), np.float64(0.6296034827828407), np.float64(0.6667171368996302), np.float64(0.5819537844508886), np.float64(0.9982614517211914), np.float64(0.6966377248366674), np.float64(0.6191055426994959), np.float64(0.912856787443161), np.float64(0.7084876795609792), np.float64(0.6558528989553452), np.float64(0.7619170285761356), np.float64(0.5919090236226717), np.float64(0.9462983806927999), np.float64(0.5952633892496427), np.float64(0.5998460861543814), np.float64(0.7049609497189522), np.float64(0.9465694228808085), np.float64(0.9147340854008993), np.float64(0.6347723764677843), np.float64(0.24314330145716667), np.float64(0.6416891627013683), np.float64(0.6133040127654871), np.float64(0.7964459260304769), np.float64(0.9834266106287638), np.float64(0.7107601538300514), np.float64(0.774787982304891), np.float64(0.6682858069737753), np.float64(0.9610750675201416), np.float64(0.6580611628790697), np.float64(0.7449064987401167), np.float64(0.6786933946423233), np.float64(0.726127877831459), np.float64(0.9238340059916178), np.float64(0.6900253320733706), np.float64(0.7174743562936783), np.float64(0.7690201699733734), np.float64(0.5631001175691684), np.float64(0.6795223951339722), np.float64(0.6206769899775585), np.float64(0.7967727382977804), np.float64(0.6675313841551542), np.float64(0.5089001848051945), np.float64(0.7970474809408188), np.float64(0.7862218419710795), np.float64(0.6955781181653341), np.float64(0.7078367422024409), np.float64(0.5255029847224554), np.float64(0.6623096379141012), np.float64(0.6258206206063429), np.float64(0.9441640178362528), np.float64(0.6819448291013638), np.float64(0.655860248953104), np.float64(0.899545838435491), np.float64(0.7964775860309601), np.float64(0.6532060106595358), np.float64(0.5545872480918964), np.float64(0.7411484109858671), np.float64(0.6067533747603496), np.float64(0.6742021466294924), np.float64(0.9954517285029093), np.float64(0.5413127665718397), np.float64(0.7041414411117634), np.float64(0.6347527541220188), np.float64(0.7177529819309711), np.float64(0.785933847228686), np.float64(0.6948669602473577), np.float64(0.7709735880295435), np.float64(0.6552628241479397), np.float64(0.7964315712451935), np.float64(0.6885998155921698), np.float64(0.7794724702835083), np.float64(0.9264926910400391), np.float64(0.9876503348350525), np.float64(0.6392369406918684), np.float64(0.7225014170010885), np.float64(0.623371080805858), np.float64(0.6415429276724657), np.float64(0.6952829211950302), np.float64(0.6433484517037868), np.float64(0.9567193488279978), np.float64(0.6438731749852499), np.float64(0.6815196288128694), np.float64(0.7118951802452406), np.float64(0.7091134252647558), np.float64(0.6723386086523533), np.float64(0.7075428273528814), np.float64(0.6931737512350082), np.float64(0.936175525188446), np.float64(0.6121147846182188), np.float64(0.7301798512538274), np.float64(0.7802850504716238), np.float64(0.7923883299032847), np.float64(0.7098091319203377), np.float64(0.22116592433303595), np.float64(0.6935405731201172), np.float64(0.5604764620463053), np.float64(0.6516918428242207), np.float64(0.7422781648735205), np.float64(0.6820819824934006), np.float64(0.9973261952400208), np.float64(0.7160461843013763), np.float64(0.6765022749702135), np.float64(0.9658851623535156), np.float64(0.7348187863826752), np.float64(0.9951946636041006), np.float64(0.6642581981917223), np.float64(0.9755456149578094), np.float64(0.8236865003903707), np.float64(0.7249851413071156), np.float64(0.655701375255982), np.float64(0.6290888066093127), np.float64(0.7104255116234223), np.float64(0.7146031546096007), np.float64(0.9063625832398733), np.float64(0.6582274027168751), np.float64(0.5880145051827034), np.float64(0.9088074465592703), np.float64(0.699935607612133), np.float64(0.654289310798049), np.float64(0.6420457195490599), np.float64(0.6008987973133723), np.float64(0.6191055426994959), np.float64(0.679863691329956), np.float64(0.8389077385266622), np.float64(0.6184381699810425), np.float64(0.961383452018102), np.float64(0.7622679819663366), np.float64(0.8163273930549622), np.float64(0.5621631393829981), np.float64(0.9772369166215261), np.float64(0.9463928937911987), np.float64(0.9954922199249268), np.float64(0.6625176928937435), np.float64(0.6132712513208389), np.float64(0.7125698501865069), np.float64(0.5754831532637278), np.float64(0.6376872857411703), np.float64(0.5324911239246527), np.float64(0.5780747346580029), np.float64(0.5991023828585943), np.float64(0.6500221441189448), np.float64(0.6170982476323843), np.float64(0.9127315084139506), np.float64(0.6631067444880804), np.float64(0.8144349157810211), np.float64(0.9343806803226471), np.float64(0.5946631878614426), np.float64(0.5322317828734716), np.float64(0.7554101099570593), np.float64(0.7096374556422234), np.float64(0.7158952094614506), np.float64(0.7053288271029791), np.float64(0.6768318066994349), np.float64(0.9232160449028015), np.float64(0.8444488048553467), np.float64(0.5879031668106715), np.float64(0.7157490526636442), np.float64(0.43372526516517), np.float64(0.7769266267617544), np.float64(0.7344739139080048), np.float64(0.6058067580064138), np.float64(0.6256552425523599), np.float64(0.712384561697642), np.float64(0.8557100296020508), np.float64(0.9758395552635193), np.float64(0.6308461079994837), np.float64(0.6338065695017576), np.float64(0.9682193597157797), np.float64(0.672862472012639), np.float64(0.6985285927851995), np.float64(0.6953247884909312), np.float64(0.7812734792629877), np.float64(0.5943989623337984), np.float64(0.6777518391609192), np.float64(0.7165154485652844), np.float64(0.6763500273227692), np.float64(0.7391185611486435), np.float64(0.9928237994511923), np.float64(0.8950860699017843), np.float64(0.6689735564092795), np.float64(0.7017785310745239), np.float64(0.6084621200958887), np.float64(0.6365666252871355), np.float64(0.4507837351411581), np.float64(0.950189083814621), np.float64(0.5666668141881624), np.float64(0.8193978071212769), np.float64(0.7970631122589111), np.float64(0.6398133126397928), np.float64(0.8145864208539327), np.float64(0.7206571747859319), np.float64(0.6969011202454567), np.float64(0.5765597925831875), np.float64(0.812117338180542), np.float64(0.5998944664994875), np.float64(0.6552438711126646), np.float64(0.7296721624831358), np.float64(0.6191636957228184), np.float64(0.6161589374144872), np.float64(0.7922755032777786), np.float64(0.63168305841585), np.float64(0.7997930919130644), np.float64(0.49008698264757794), np.float64(0.30328343839695054), np.float64(0.6736626966545979), np.float64(0.602961623420318), np.float64(0.6779707446694374), np.float64(0.6898567043244839), np.float64(0.6762799968322118), np.float64(0.9355320433775584), np.float64(0.6121527403593063), np.float64(0.6657986255983511), np.float64(0.6143588374058405), np.float64(0.7065590042620897), np.float64(0.5771872146675984), np.float64(0.32068180448065203), np.float64(0.7060208097100258), np.float64(0.871256430943807), np.float64(0.9979978998502096), np.float64(0.5674550880988439), np.float64(0.7317492763201395), np.float64(0.6923618471870819), np.float64(0.8146374821662903), np.float64(0.6639411896467209), np.float64(0.690674959992369), np.float64(0.677086066454649), np.float64(0.6471655468146006), np.float64(0.6115638402601083), np.float64(0.6054963991045952), np.float64(0.72554033746322), np.float64(0.9196693599224091), np.float64(0.7311810950438181), np.float64(0.5713761691004038), np.float64(0.5780933443456888), np.float64(0.931244562069575), np.float64(0.7795510590076447), np.float64(0.7250118218362331), np.float64(0.6336367266873518), np.float64(0.7126074632008871), np.float64(0.5758081922928492), np.float64(0.6463869319607815), np.float64(0.7790800581375757), np.float64(0.6653389570613703), np.float64(0.49264857918024063), np.float64(0.6930072357257208), np.float64(0.7879435817400614), np.float64(0.64673662930727), np.float64(0.5654551430294911), np.float64(0.8193312684694926), np.float64(0.9300321638584137), np.float64(0.7002949075928578), np.float64(0.7305533538262049), np.float64(0.7650912056366602), np.float64(0.6995494570583105), np.float64(0.8174356669187546), np.float64(0.6760668872545162), np.float64(0.6667231197158495), np.float64(0.7840151687463125), np.float64(0.649667888879776), np.float64(0.6308898776769638), np.float64(0.7112030163407326), np.float64(0.5737248603254557), np.float64(0.6130890672405561), np.float64(0.9978241920471191), np.float64(0.6770182649294535), np.float64(0.7799220606684685), np.float64(0.9572217663129171), np.float64(0.5852562077343464), np.float64(0.3551602109024922), np.float64(0.6914838130275408), np.float64(0.6606705418477455), np.float64(0.9301112989584605), np.float64(0.9873310128847758), np.float64(0.5976259565601746), np.float64(0.5930868194748958), np.float64(0.6009098862608274), np.float64(0.5748270396143198), np.float64(0.6202371375014385), np.float64(0.5949122651169697), np.float64(0.6732381278028091), np.float64(0.6310666439433893), np.float64(0.44036804760495823), np.float64(0.653861920038859), np.float64(0.5852579598625501), np.float64(0.7002495477596918), np.float64(0.6625724428643783), np.float64(0.7918610274791718), np.float64(0.5566024438788494), np.float64(0.7149327968557676), np.float64(0.546951774507761), np.float64(0.5900588872221609), np.float64(0.6358210891485214), np.float64(0.9051915407180786), np.float64(0.6644099702437719), np.float64(0.7110006945828596), np.float64(0.6836316908399264), np.float64(0.5851733156790336), np.float64(0.9986450771490732), np.float64(0.696547120809555), np.float64(0.8764916658401489), np.float64(0.9733218451340994), np.float64(0.5822321474552155), np.float64(0.6959326149274906), np.float64(0.27270576109488803), np.float64(0.7137990240007639), np.float64(0.7929269274075826), np.float64(0.6457801274955273), np.float64(0.7171560215453306), np.float64(0.6324894279241562), np.float64(0.963250458240509), np.float64(0.6639064848423004), np.float64(0.6232212719817957), np.float64(0.5753217227756977), np.float64(0.6950020554165045), np.float64(0.8129467169443766), np.float64(0.7295112758874893), np.float64(0.5824584209670624), np.float64(0.6586805966993173), np.float64(0.8715570271015167), np.float64(0.580257685855031), np.float64(0.6558495163917542), np.float64(0.7874138752619425), np.float64(0.6629932721455892), np.float64(0.6154012338568767), np.float64(0.6367492402593294), np.float64(0.7223167742292086), np.float64(0.9243945876757304), np.float64(0.7387042144934336), np.float64(0.7169870013991991), np.float64(0.8279089629650116), np.float64(0.66198670056959), np.float64(0.9402153889338175), np.float64(0.5341583172169825), np.float64(0.6871724848945936), np.float64(0.7364423299829165), np.float64(0.7721964667240778), np.float64(0.650293322900931), np.float64(0.96652552485466), np.float64(0.9927301406860352), np.float64(0.7531353334585825), np.float64(0.5489185427625974), np.float64(0.6748790120085081), np.float64(0.8185925781726837), np.float64(0.5740583625932535), np.float64(0.6539516896009445), np.float64(0.7583839992682139), np.float64(0.9207650522391001), np.float64(0.5713908914476633), np.float64(0.6996388584375381), np.float64(0.620531564578414), np.float64(0.6699484313527743), np.float64(0.8049196700255076), np.float64(0.567333186045289), np.float64(0.8078826069831848), np.float64(0.8774673342704773), np.float64(0.7217920025189718), np.float64(0.6000012469788393), np.float64(0.5875000754992167), np.float64(0.9549171527226766), np.float64(0.6753641813993454), np.float64(0.6545314478377501), np.float64(0.9796149432659149), np.float64(0.7968189517656962), np.float64(0.8125954866409302), np.float64(0.6979932213823), np.float64(0.638706232731541), np.float64(0.9902175466219584), np.float64(0.5720022860914469), np.float64(0.6995033087829748), np.float64(0.6367030988136927), np.float64(0.6666379949698845), np.float64(0.7583844090501467), np.float64(0.7563658207654953), np.float64(0.4958409145474434), np.float64(0.6943165970345339), np.float64(0.7082118292649587), np.float64(0.6017342961082855), np.float64(0.5153175008793672), np.float64(0.6035817277928194), np.float64(0.7776835312445959), np.float64(0.5516988566766182), np.float64(0.6831838190555573), np.float64(0.7660285383462906), np.float64(0.7156247086822987), np.float64(0.27860405296087265), np.float64(0.7516952690978845), np.float64(0.7130215366681417), np.float64(0.8110642532507578), np.float64(0.6659857065727314), np.float64(0.7331018187105656), np.float64(0.9992259641488394), np.float64(0.6966424981753031), np.float64(0.9989430407683054), np.float64(0.6416957179705302), np.float64(0.6293121092021465), np.float64(0.6400709773103396), np.float64(0.44574555071691674), np.float64(0.5913583841174841), np.float64(0.9392825861771902), np.float64(0.5525823632876078), np.float64(0.7185871452093124), np.float64(0.6102728601545095), np.float64(0.6633933807412783), np.float64(0.663011139879624), np.float64(0.6191592837373415), np.float64(0.7836775382359823), np.float64(0.6759430741270384), np.float64(0.7894855638345083), np.float64(0.5338516930739085), np.float64(0.6397479772567749), np.float64(0.7110246469577154), np.float64(0.5632507105668386), np.float64(0.7029816632469496), np.float64(0.7309735280772051), np.float64(0.7531516353289286), np.float64(0.8301327029863993), np.float64(0.8579731285572052), np.float64(0.9521821637948354), np.float64(0.6821991751591364), np.float64(0.9984053273995718), np.float64(0.7078324115524689), np.float64(0.6133914416035017), np.float64(0.9966822961966196), np.float64(0.7856045365333557), np.float64(0.695009708404541), np.float64(0.8598383863766988), np.float64(0.7468339999516805), np.float64(0.7892839163541794), np.float64(0.9399952789147695), np.float64(0.6571129150688648), np.float64(0.5581017235138764), np.float64(0.6348109232882658), np.float64(0.6808055030802885), np.float64(0.6476659377415975), np.float64(0.9958427250385284), np.float64(0.6302749384194613), np.float64(0.6651899764935175), np.float64(0.92984872063001), np.float64(0.6471986422936121), np.float64(0.7139373620351156), np.float64(0.6046490557491779), np.float64(0.721509575843811), np.float64(0.5926325619220734), np.float64(0.7668577755490938), np.float64(0.7609353214502335), np.float64(0.7293653537829717), np.float64(0.7985301514466604), np.float64(0.5522357014318308), np.float64(0.6936834280689558), np.float64(0.6822806298732758), np.float64(0.7327121297518412), np.float64(0.7095002681016922), np.float64(0.5915609722336134), np.float64(0.7132117139796416), np.float64(0.9842128058274587), np.float64(0.5881545402420064), np.float64(0.7200359602769216), np.float64(0.7446743448575338), np.float64(0.9983246028423309), np.float64(0.6904330315689245), np.float64(0.7730138599872589), np.float64(0.9545853038628896), np.float64(0.5221956881384054), np.float64(0.7028188655773798), np.float64(0.9820936520894369), np.float64(0.5847910369435946), np.float64(0.9957098662853241), np.float64(0.5723339077085257), np.float64(0.9657879571119944), np.float64(0.24535029071072736), np.float64(0.7006655832131704), np.float64(0.9981929461161295), np.float64(0.9877644181251526), np.float64(0.6157402868072192), np.float64(0.741195539633433), np.float64(0.7705135444800059), np.float64(0.738208282738924), np.float64(0.5880955973019203), np.float64(0.7768843521674474), np.float64(0.7131928838789463), np.float64(0.642122371122241), np.float64(0.7176708914339542), np.float64(0.7341953416665395), np.float64(0.6105784277121226), np.float64(0.9985327422618866), np.float64(0.6291191925605139), np.float64(0.6231587082147598), np.float64(0.9308585822582245), np.float64(0.6429939083755016), np.float64(0.692834809422493), np.float64(0.7187976489464442), np.float64(0.753834197918574), np.float64(0.9105868736902872), np.float64(0.6829041087379059), np.float64(0.5725281238555908), np.float64(0.7248738774408897), np.float64(0.6334497469166914), np.float64(0.7381064593791962), np.float64(0.9992169837156931), np.float64(0.6562950375179449), np.float64(0.6506129205226898), np.float64(0.5615968555212021), np.float64(0.6674666268130144), np.float64(0.7125987578183413), np.float64(0.7532769665122032), np.float64(0.9706691801548004), np.float64(0.8148138324419657), np.float64(0.9804790914058685), np.float64(0.6396215024093787), np.float64(0.8648788034915924), np.float64(0.6979104578495026), np.float64(0.5860180531938871), np.float64(0.5800334258625904), np.float64(0.667996384203434), np.float64(0.9965974191824595), np.float64(0.7270289889226357), np.float64(0.5982655559976896), np.float64(0.2351864775021871), np.float64(0.5863243664304415), np.float64(0.9390720625718435), np.float64(0.9026431540648142), np.float64(0.8442179759343466), np.float64(0.783153643210729), np.float64(0.9777007897694906), np.float64(0.9986410140991211), np.float64(0.8614990512530009), np.float64(0.6330740613241991), np.float64(0.7672766447067261), np.float64(0.8037502765655518), np.float64(0.8148675858974457), np.float64(0.5808273795992136), np.float64(0.6281960929433504), np.float64(0.8840204179286957), np.float64(0.6831883291403452), np.float64(0.5772141305108865), np.float64(0.6712527914593617), np.float64(0.5818365855763356), np.float64(0.7169513801733652), np.float64(0.7757493009169897), np.float64(0.9977170526981354), np.float64(0.65554907421271), np.float64(0.5733965442826351), np.float64(0.6782791912555695), np.float64(0.653422869121035), np.float64(0.9900879859924316), np.float64(0.6688450401027998), np.float64(0.6675056417783102), np.float64(0.9743260741233826), np.float64(0.6812552399933338), np.float64(0.5613694240649542), np.float64(0.6383012173076471), np.float64(0.6804841831326485), np.float64(0.5877380433181921), np.float64(0.5992864593863487), np.float64(0.8053065488735834), np.float64(0.7734985401233038), np.float64(0.7076700230439504), np.float64(0.9291378955046335), np.float64(0.8867452541987101), np.float64(0.6764742235342661), np.float64(0.6586058462659518), np.float64(0.7707645843426386), np.float64(0.705652724330624), np.float64(0.5985194413612286), np.float64(0.8124021490414938), np.float64(0.5674029688040415), np.float64(0.7977718263864517), np.float64(0.7363708515961965), np.float64(0.8924412429332733), np.float64(0.8148366113503774), np.float64(0.5161357621351877), np.float64(0.7213863084713618), np.float64(0.6579742754499117), np.float64(0.6299229400853316), np.float64(0.642640029390653), np.float64(0.6555380163093408), np.float64(0.7122018337249756), np.float64(0.6075176124771436), np.float64(0.7515661517779032), np.float64(0.7756117433309555), np.float64(0.573683657993873), np.float64(0.6799498697121938), np.float64(0.6559652326007684), np.float64(0.6209840228160223), np.float64(0.6603431664407253), np.float64(0.8001750310262045), np.float64(0.9208050866921743), np.float64(0.6059851894776026), np.float64(0.6907322655121485), np.float64(0.5741164572536945), np.float64(0.6428067150215308), np.float64(0.6379739853243033), np.float64(0.9992363651593527), np.float64(0.6137923436860243), np.float64(0.7036516536027193), np.float64(0.5505806313206753), np.float64(0.9820674161116282), np.float64(0.6279633603990078), np.float64(0.9604185024897257), np.float64(0.5773386899381876), np.float64(0.686288133263588), np.float64(0.6438967784245809), np.float64(0.541905865073204), np.float64(0.6048508770763874), np.float64(0.8780186871687571), np.float64(0.4622974321246147), np.float64(0.6331119189659754), np.float64(0.8085025946299235), np.float64(0.641546900694569), np.float64(0.7091276198625565), np.float64(0.7187569091717402), np.float64(0.7467853128910065), np.float64(0.5821273171653351), np.float64(0.9948196510473887), np.float64(0.5956155856450399), np.float64(0.9244041740894318), np.float64(0.7161257192492485), np.float64(0.6902433062593142), np.float64(0.7609865466753641), np.float64(0.89628932873408), np.float64(0.8105829457441965), np.float64(0.6864432692527771), np.float64(0.5437523126602173), np.float64(0.6100699702898661), np.float64(0.6914970253904661), np.float64(0.7967656453450521), np.float64(0.9772786597410837), np.float64(0.6231188594053189), np.float64(0.7151302620768547), np.float64(0.9621168474356333), np.float64(0.6004422275970379), np.float64(0.7329279103626808), np.float64(0.5301612677673498), np.float64(0.48155411581198376), np.float64(0.5445135260621706), np.float64(0.749593605597814), np.float64(0.6910990277926127), np.float64(0.5498592203172544), np.float64(0.6936494459708532), np.float64(0.614193016042312), np.float64(0.988553394873937), np.float64(0.7240236774086952), np.float64(0.6760627577702204), np.float64(0.6111469194293022), np.float64(0.5654726429687192), np.float64(0.9982408185799917), np.float64(0.8193633357683817), np.float64(0.725022703409195), np.float64(0.820431649684906), np.float64(0.8936977386474609), np.float64(0.6056130882352591), np.float64(0.6241626255214214), np.float64(0.599686556806167), np.float64(0.5968572944402695), np.float64(0.7311123311519623), np.float64(0.7279038528601328), np.float64(0.8095787813266119), np.float64(0.6635261047631502), np.float64(0.7651201685269674), np.float64(0.6004685329583784), np.float64(0.7293623747924963), np.float64(0.5985415726900101), np.float64(0.6932103137175242), np.float64(0.545429989695549), np.float64(0.9608248174190521), np.float64(0.643896572291851), np.float64(0.8134284516175588), np.float64(0.8072936832904816), np.float64(0.5305145084857941), np.float64(0.9654398361841837), np.float64(0.6598431343833605), np.float64(0.6688444136331478), np.float64(0.6177530667434136), np.float64(0.678414523601532), np.float64(0.33355867394129746), np.float64(0.6672408257921537), np.float64(0.5843454636633396), np.float64(0.5899531319737434), np.float64(0.6856576427817345), np.float64(0.8606619636217753), np.float64(0.8805767297744751), np.float64(0.9036110937595367), np.float64(0.8002122590939204), np.float64(0.7882156719764074), np.float64(0.7052444790800413), np.float64(0.6585351557781299), np.float64(0.6858225210259358), np.float64(0.7216709951559702), np.float64(0.6787537466734648), np.float64(0.6994504866500696), np.float64(0.5904376947631439), np.float64(0.6164704995850722), np.float64(0.5878219443062941), np.float64(0.8090071280797323), np.float64(0.6591473625351986), np.float64(0.5905518550425768), np.float64(0.7170468736439943), np.float64(0.6188180993000666), np.float64(0.6759065054357052), np.float64(0.741087277730306), np.float64(0.7090423461049795), np.float64(0.6196401249617338), np.float64(0.828997070590655), np.float64(0.6701868853221337), np.float64(0.5809139162302017), np.float64(0.7004280661543211), np.float64(0.7496830721696218), np.float64(0.6641600579023361), np.float64(0.8230468034744263), np.float64(0.6765087973326445), np.float64(0.5244575459510088), np.float64(0.6636006906628609), np.float64(0.9111001292864481), np.float64(0.9284715354442596), np.float64(0.9187649091084799), np.float64(0.9636528193950653), np.float64(0.8027241130669912), np.float64(0.5803063126901785), np.float64(0.7016255042205254), np.float64(0.9159407516320547), np.float64(0.7329507619142532), np.float64(0.8855888247489929), np.float64(0.5757385070125262), np.float64(0.7487023025751114), np.float64(0.5809217741092046), np.float64(0.6590252009530863), np.float64(0.6488185524940491), np.float64(0.5723840917150179), np.float64(0.9848979413509369), np.float64(0.5826790512849888), np.float64(0.8199999034404755), np.float64(0.656833540648222), np.float64(0.6309369715551535), np.float64(0.96839706103007), np.float64(0.8381591141223907), np.float64(0.6190915927290916), np.float64(0.7088430573542913), np.float64(0.6549299272398154), np.float64(0.8135059177875519), np.float64(0.6854429890712103), np.float64(0.5902162852386633), np.float64(0.7834845234950384), np.float64(0.9420394500096639), np.float64(0.7480000654856364), np.float64(0.6481864843517542), np.float64(0.7564459691445032), np.float64(0.7604325364033381), np.float64(0.7113095385332903), np.float64(0.2667205836623907), np.float64(0.585212962081035), np.float64(0.6605685005585352), np.float64(0.6934952586889267), np.float64(0.6624672462542852), np.float64(0.8105261661112309), np.float64(0.7279806652416786), np.float64(0.8989419738451639), np.float64(0.979790598154068), np.float64(0.5857973850021759), np.float64(0.99897833665212), np.float64(0.6845859338839849), np.float64(0.8959303200244904), np.float64(0.6117765754461288), np.float64(0.9332226316134135), np.float64(0.7145030448834101), np.float64(0.5917273908853531), np.float64(0.6327555968115727), np.float64(0.8372083803017935), np.float64(0.6019353692730268), np.float64(0.673852376639843), np.float64(0.790571058789889), np.float64(0.876119484504064), np.float64(0.6925013760725657), np.float64(0.7117175310850143), np.float64(0.6703519970178604), np.float64(0.9553531507651011), np.float64(0.9615150292714437), np.float64(0.7188951075077057), np.float64(0.6462697585423788), np.float64(0.783327986796697), np.float64(0.6670679928114017), np.float64(0.7065791090329488), np.float64(0.6528866415222486), np.float64(0.7007377898941437), np.float64(0.7825259963671366), np.float64(0.7713744739691416), np.float64(0.99799911181132), np.float64(0.6548786324759325), np.float64(0.7680519223213196), np.float64(0.7069274733463923), np.float64(0.8691736161708832), np.float64(0.6139095313847065), np.float64(0.9678759078184763), np.float64(0.6179360921184222), np.float64(0.6058139751354853), np.float64(0.9924069046974182), np.float64(0.6210925827423731), np.float64(0.9935116271177927), np.float64(0.7828295019765695), np.float64(0.8038590947786967), np.float64(0.617737665772438), np.float64(0.6127813247342905), np.float64(0.714228759209315), np.float64(0.7311389843622843), np.float64(0.6401548683643341), np.float64(0.7810521026452383), np.float64(0.6087368228472769), np.float64(0.9964722394943237), np.float64(0.6367498847345511), np.float64(0.7227318187554678), np.float64(0.7125868052244186), np.float64(0.7685992370049158), np.float64(0.8132327546676), np.float64(0.9941656986872355), np.float64(0.5964778649310271), np.float64(0.5971811066071192), np.float64(0.6498600076884031), np.float64(0.577527379617095), np.float64(0.5819868563363949), np.float64(0.6300358809530735), np.float64(0.8154370983441671), np.float64(0.8708596924940745), np.float64(0.6027819141745567), np.float64(0.6027991690983375), np.float64(0.9982740183671316), np.float64(0.6344185583293438), np.float64(0.6005151718854904), np.float64(0.9953053990999857), np.float64(0.6880269646644592), np.float64(0.9446771244208018), np.float64(0.8781902094682058), np.float64(0.7510542372862498), np.float64(0.635662113626798), np.float64(0.6071487075338761), np.float64(0.6694308320681254), np.float64(0.9982823431491852), np.float64(0.5670456035683552), np.float64(0.6537879245976607), np.float64(0.7177478708326817), np.float64(0.675261470178763), np.float64(0.6628039454420408), np.float64(0.7057967744767666), np.float64(0.8489077389240265), np.float64(0.7545205056667328), np.float64(0.6078235550473133), np.float64(0.6200061502556006), np.float64(0.6626103470722834), np.float64(0.7356180722514788), np.float64(0.8179150720437368), np.float64(0.7441625495751699), np.float64(0.6626191983620325), np.float64(0.6325042533377806), np.float64(0.5909358635544777), np.float64(0.9979139268398285), np.float64(0.5779683953151107), np.float64(0.7160172822574774), np.float64(0.6468912015358607), np.float64(0.6026025923589865), np.float64(0.7003390143314997), np.float64(0.6515467502176762), np.float64(0.9476868808269501), np.float64(0.8315572241942087), np.float64(0.5249004488190016), np.float64(0.7895382046699524), np.float64(0.9062830011049906), np.float64(0.6717361068973938), np.float64(0.6191902355834221), np.float64(0.5761417423685392), np.float64(0.9566899438699087), np.float64(0.8556077778339386), np.float64(0.6485222553213438), np.float64(0.7629658182462057), np.float64(0.6732288002967834), np.float64(0.7905123780171076), np.float64(0.5805545598268509), np.float64(0.798413964609305), np.float64(0.6233183840910593), np.float64(0.6227907619128624), np.float64(0.6117556896060705), np.float64(0.5239469595253468), np.float64(0.6287830223639806), np.float64(0.9980670213699341), np.float64(0.7329582075277964), np.float64(0.6081055955340465), np.float64(0.62986702285707), np.float64(0.6084639144440492), np.float64(0.570585560053587), np.float64(0.7925983667373657), np.float64(0.7726341386636099), np.float64(0.9818589091300964), np.float64(0.6669637113809586), np.float64(0.9537558853626251), np.float64(0.7763731280962626), np.float64(0.9772788882255554), np.float64(0.6038618789364895), np.float64(0.6809638539950053), np.float64(0.6594481132924557), np.float64(0.6153320167213678), np.float64(0.6695514594515165), np.float64(0.7865095635255178), np.float64(0.6377189010381699), np.float64(0.6818311382085085), np.float64(0.5852499846369028), np.float64(0.5845547523349524), np.float64(0.7074382801850637), np.float64(0.8137907336155573), np.float64(0.70029316842556), np.float64(0.5737213734537363), np.float64(0.6574789738903443), np.float64(0.6749463484932979), np.float64(0.6141600906848907), np.float64(0.6219423860311508), np.float64(0.7412424385547638), np.float64(0.9447706739107767), np.float64(0.6705415981511275), np.float64(0.6145029266675314), np.float64(0.6102193196614584), np.float64(0.7659164064874252), np.float64(0.5561843899389108), np.float64(0.5180950220674276), np.float64(0.614642092337211), np.float64(0.6444692127406597), np.float64(0.3531803607863064), np.float64(0.7529750516017278), np.float64(0.60917754098773), np.float64(0.6887415597836176), np.float64(0.6683876216411591), np.float64(0.6684635728597641), np.float64(0.5151499484976133), np.float64(0.7024091600130001), np.float64(0.8856923878192902), np.float64(0.8423880636692047), np.float64(0.7040869245926539), np.float64(0.7195587151994308), np.float64(0.6447324380278587), np.float64(0.6533948083718618), np.float64(0.8954115013281504), np.float64(0.6562033842007319), np.float64(0.8247687915960947), np.float64(0.5627722945064306), np.float64(0.8022466003894806), np.float64(0.5949777203301588), np.float64(0.9720335304737091), np.float64(0.72090360087653), np.float64(0.5866994112730026), np.float64(0.996960828701655), np.float64(0.7522455255190531), np.float64(0.7030238192528486), np.float64(0.6832959254582723), np.float64(0.8041427731513977), np.float64(0.7128077621261278), np.float64(0.6502606595555941), np.float64(0.9874283373355865), np.float64(0.9952203035354614), np.float64(0.676831815391779), np.float64(0.9962353110313416), np.float64(0.6976030468940735), np.float64(0.6662599879006544), np.float64(0.725929061571757), np.float64(0.7622726509968439), np.float64(0.5328441684444746), np.float64(0.6486537208159765), np.float64(0.6729905853668848), np.float64(0.6973897454639276), np.float64(0.6404318865388632), np.float64(0.6848225432137648), np.float64(0.654122402270635), np.float64(0.6794864038626353), np.float64(0.5967333167791367), np.float64(0.840025340517362), np.float64(0.6766147613525391), np.float64(0.6645549349486828), np.float64(0.7507630338271459), np.float64(0.8159035642941793), np.float64(0.7444460938374201), np.float64(0.7333685159683228), np.float64(0.6709733307361603), np.float64(0.7742673456668854), np.float64(0.8819393515586853), np.float64(0.6226448634018501), np.float64(0.591021046663324), np.float64(0.4676898879309495), np.float64(0.6771923663715521), np.float64(0.9564129312833151), np.float64(0.6618110289176306), np.float64(0.598100398046275), np.float64(0.638403266047438), np.float64(0.5767607142527899), np.float64(0.6402702194948992), np.float64(0.7820094923178355), np.float64(0.7166015362987915), np.float64(0.9252047836780548), np.float64(0.652048314611117), np.float64(0.586341937383016), np.float64(0.7024424038827419), np.float64(0.726026197274526), np.float64(0.7766560018062592), np.float64(0.6796775398155054), np.float64(0.7384848097960154), np.float64(0.7074404110511144), np.float64(0.6429816409945488), np.float64(0.6361753692229589), np.float64(0.7791120509306589), np.float64(0.7238581379254659), np.float64(0.8086424966653188), np.float64(0.9361740152041117), np.float64(0.5943829367558161), np.float64(0.7525979367395242), np.float64(0.7580786397059759), np.float64(0.5763583015650511), np.float64(0.9983377754688263), np.float64(0.7869707892338434), np.float64(0.5710946706434091), np.float64(0.7085935870806376), np.float64(0.6490086118380228), np.float64(0.7581741660833359), np.float64(0.9296067754427592), np.float64(0.9051430026690165), np.float64(0.6238664078215758), np.float64(0.9725941320260366), np.float64(0.9851442277431488), np.float64(0.6805346657832464), np.float64(0.6607477267583212), np.float64(0.9992245336373647), np.float64(0.5694083527972301), np.float64(0.6383825472245613), np.float64(0.7498498583833376), np.float64(0.6891037821769714), np.float64(0.6653982400894165), np.float64(0.7866300344467163), np.float64(0.983108401298523), np.float64(0.6584529976050059), np.float64(0.5901677968601385), np.float64(0.5601550936698914), np.float64(0.7514294435580572), np.float64(0.7616619691252708), np.float64(0.655199279387792), np.float64(0.5796567940463623), np.float64(0.576374422137936), np.float64(0.9948698580265045), np.float64(0.5884151309728622), np.float64(0.9949910640716553), np.float64(0.6305631423989931), np.float64(0.7318091106911501), np.float64(0.759656086564064), np.float64(0.6795184214909872), np.float64(0.5792310213049253), np.float64(0.6679926216602325), np.float64(0.5578184848030409), np.float64(0.6540038796762625), np.float64(0.6404835258920988), np.float64(0.962500641743342), np.float64(0.6178983810047308), np.float64(0.9590824643770853), np.float64(0.6847176601489385), np.float64(0.8998263577620188), np.float64(0.6449285428971052), np.float64(0.5651468678067127), np.float64(0.6798159045477709), np.float64(0.7678940917054812), np.float64(0.9330138564109802), np.float64(0.6115874499082565), np.float64(0.6387143234411875), np.float64(0.5524848535036048), np.float64(0.9691207905610403), np.float64(0.5802663285285234), np.float64(0.6620742219189802), np.float64(0.746791422367096), np.float64(0.5754651228586832), np.float64(0.7706110030412674), np.float64(0.611482764283816), np.float64(0.5827116284829875), np.float64(0.5739592884977659), np.float64(0.9992272655169169), np.float64(0.7773155023654302), np.float64(0.5859274767960111), np.float64(0.9346412221590678), np.float64(0.6484251376241446), np.float64(0.6829886411627134), np.float64(0.6153703381617864), np.float64(0.8826930522918701), np.float64(0.6001056215415398), np.float64(0.7179965004324913), np.float64(0.6935216188430786), np.float64(0.649578740199407), np.float64(0.7075390865405401), np.float64(0.5803806030501922), np.float64(0.6491063237190247), np.float64(0.9982869823773702), np.float64(0.7751740235835314), np.float64(0.7104292064905167), np.float64(0.767375628153483), np.float64(0.631731495882074), np.float64(0.8586779336134592), np.float64(0.7046975033978621), np.float64(0.6961431006590525), np.float64(0.783278892437617), np.float64(0.44362178817391396), np.float64(0.7243311206499735), np.float64(0.6560073755681515), np.float64(0.6278218626976013), np.float64(0.6513713337481022), np.float64(0.6044011550645033), np.float64(0.7426807961116234), np.float64(0.6542776344964901), np.float64(0.6510919531186422), np.float64(0.7235701866447926), np.float64(0.652230358372132), np.float64(0.674509180088838), np.float64(0.5760532766580582), np.float64(0.5316261971990267), np.float64(0.6005721831073364), np.float64(0.7020387264589468), np.float64(0.6866029351949692), np.float64(0.6698027476668358), np.float64(0.5977843552827835), np.float64(0.9957541127999624), np.float64(0.5986944710214933), np.float64(0.961232046286265), np.float64(0.9458720982074738), np.float64(0.7223693535973629), np.float64(0.625835508108139), np.float64(0.6167011434833208), np.float64(0.9236742456754049), np.float64(0.670987781137228), np.float64(0.8115784327189127), np.float64(0.5943884899218878), np.float64(0.7292521173755327), np.float64(0.708137700955073), np.float64(0.6113201230764389), np.float64(0.7034182113905748), np.float64(0.6219724416732788), np.float64(0.587304233883818), np.float64(0.6408980475583425), np.float64(0.6005472354590893), np.float64(0.6710109543055296), np.float64(0.5916813823084036), np.float64(0.6767196493844191), np.float64(0.5602564501265684), np.float64(0.9950782656669617), np.float64(0.7111188930769762), np.float64(0.6624314859509468), np.float64(0.5193415035804113), np.float64(0.6449802195032438), np.float64(0.7533227701981863), np.float64(0.7427676717440287), np.float64(0.683188353975614), np.float64(0.6870622212688128), np.float64(0.8209065993626913), np.float64(0.6264602299779654), np.float64(0.6293726488947868), np.float64(0.9979407787322998), np.float64(0.5978435315191746), np.float64(0.5635618915160497), np.float64(0.8508896032969157), np.float64(0.68944051861763), np.float64(0.6152849396069845), np.float64(0.7377130687236786), np.float64(0.9942800501982371), np.float64(0.6500030358632406), np.float64(0.6375347798069319), np.float64(0.6169711407274008), np.float64(0.7347397108872732), np.float64(0.6555455985168616), np.float64(0.955887238184611), np.float64(0.731019010146459), np.float64(0.6797151230275631), np.float64(0.7675890425841013), np.float64(0.7905911803245544), np.float64(0.8140765825907389), np.float64(0.6288809229930242), np.float64(0.6739744748920202), np.float64(0.6335520334541798), np.float64(0.6357336839040121), np.float64(0.6088699735701084), np.float64(0.9281987249851227), np.float64(0.6680419743061066), np.float64(0.9614800810813904), np.float64(0.7741842965284983), np.float64(0.8146268427371979), np.float64(0.7011171281337738), np.float64(0.6931964928905169), np.float64(0.7028882876038551), np.float64(0.9981783330440521), np.float64(0.9956039985020956), np.float64(0.5886954863866171), np.float64(0.6309013223896424), np.float64(0.8802338540554047), np.float64(0.6839451193809509), np.float64(0.5970966828366121), np.float64(0.7035843655467033), np.float64(0.5826923958957195), np.float64(0.987066388130188), np.float64(0.9962748189767202), np.float64(0.8426588575045267), np.float64(0.7678598960240682), np.float64(0.9672420223553976), np.float64(0.9912749528884888), np.float64(0.7496748765309652), np.float64(0.5824681172768275), np.float64(0.6315044512351354), np.float64(0.6066787385692199), np.float64(0.9947520891825358), np.float64(0.6323574570318063), np.float64(0.6814336217939854), np.float64(0.8052252655227979), np.float64(0.5760879504183928), np.float64(0.6411972877879938), np.float64(0.6889835546414057), np.float64(0.6062745787203312), np.float64(0.5884302910417318), np.float64(0.6430607487758001), np.float64(0.7674016157786051), np.float64(0.71978127459685), np.float64(0.5807230019321045), np.float64(0.7799999713897705), np.float64(0.7393800870825847), np.float64(0.8110666672388712), np.float64(0.7475481020907561), np.float64(0.7587820688883463), np.float64(0.7576771179835001), np.float64(0.7306489702314138), np.float64(0.6734424320360025), np.float64(0.5843360268821319), np.float64(0.8600096106529236), np.float64(0.6143383824576935), np.float64(0.4964827820658684), np.float64(0.622204119960467), np.float64(0.5825431980192661), np.float64(0.6675016395747662), np.float64(0.6539543935408195), np.float64(0.5952437178542217), np.float64(0.7541633198658625), np.float64(0.9085682531197866), np.float64(0.558737626299262), np.float64(0.551894503335158), np.float64(0.6829190415640672), np.float64(0.6553868552049001), np.float64(0.5915879911432663), np.float64(0.5672458012898763), np.float64(0.656529488041997), np.float64(0.6127689915398756), np.float64(0.6236750433842341), np.float64(0.5380186090866724), np.float64(0.9047595759232839), np.float64(0.5979848603407542), np.float64(0.7161478338142236), np.float64(0.8412732084592184), np.float64(0.5994582859178385), np.float64(0.6784933420519034), np.float64(0.6717426391939322), np.float64(0.7524202714363734), np.float64(0.77289854362607), np.float64(0.6639807038009167), np.float64(0.6568063745896021), np.float64(0.6349348841855923), np.float64(0.6645382990439733), np.float64(0.9953697522481283), np.float64(0.6453702573974928), np.float64(0.615448847413063), np.float64(0.8088715275128683), np.float64(0.5717043820768595), np.float64(0.5919982523967823), np.float64(0.6709428659329811), np.float64(0.5863567441701889), np.float64(0.6611477086941401), np.float64(0.7590565780798594), np.float64(0.755857165902853), np.float64(0.5272680210570494), np.float64(0.9533244967460632), np.float64(0.6765854073067507), np.float64(0.658467103416721), np.float64(0.7755482097466787), np.float64(0.5537123295168082), np.float64(0.6512764779229959), np.float64(0.6346822505195936), np.float64(0.6785263270139694), np.float64(0.7972322056690851), np.float64(0.5331977357467016), np.float64(0.7890102366606394), np.float64(0.6769241193930308), np.float64(0.5445721459885439), np.float64(0.6589759414394697), np.float64(0.8105456431706747), np.float64(0.6701998673379421), np.float64(0.9020305573940277), np.float64(0.6256968230009079), np.float64(0.5926145079235235), np.float64(0.6505445080498854), np.float64(0.9361246824264526), np.float64(0.853337029616038), np.float64(0.5347011710206667), np.float64(0.9553337295850118), np.float64(0.8862643440564474), np.float64(0.9953091243902842), np.float64(0.5860365051776171), np.float64(0.8846084475517273), np.float64(0.9959414899349213), np.float64(0.665818544725577), np.float64(0.5989407772819201), np.float64(0.9949479699134827), np.float64(0.6222591418772936), np.float64(0.6318007788310448), np.float64(0.9280827939510345), np.float64(0.9526989956696829), np.float64(0.645208265632391), np.float64(0.687078612546126), np.float64(0.7424771177272002), np.float64(0.8653479119141897), np.float64(0.6219711899757385), np.float64(0.6392858903855085), np.float64(0.792652909954389), np.float64(0.6033983876307806), np.float64(0.8697983125845591), np.float64(0.7692330963909626), np.float64(0.4815715203682582), np.float64(0.8022259920835495), np.float64(0.9371592899163564), np.float64(0.5812086661656698), np.float64(0.9406465888023376), np.float64(0.6347555868948499), np.float64(0.9522067606449127), np.float64(0.5976259267578522), np.float64(0.7838769555091858), np.float64(0.7021588236093521), np.float64(0.7500644475221634), np.float64(0.702049316217502), np.float64(0.809377113978068), np.float64(0.25006383781631786), np.float64(0.7445064683755239), np.float64(0.7642775624990463), np.float64(0.613194697846969), np.float64(0.6268605900307497), np.float64(0.6861440762877464), np.float64(0.6523627154529095), np.float64(0.7128672481824955), np.float64(0.6237145767857631), np.float64(0.9766228199005127), np.float64(0.5770697767535845), np.float64(0.6611646376550198), np.float64(0.7967811226844788), np.float64(0.6684058060248693), np.float64(0.7108595514049133), np.float64(0.6863104502360026), np.float64(0.5685048171629509), np.float64(0.6982028981049856), np.float64(0.9992254475752512), np.float64(0.662258560458819), np.float64(0.5933339856564999), np.float64(0.6397959440946579), np.float64(0.5167069885258874), np.float64(0.636085202296575), np.float64(0.6375936021407446), np.float64(0.5781017752985159), np.float64(0.6837548315525055), np.float64(0.675340740631024), np.float64(0.9321187436580658), np.float64(0.9693114459514618), np.float64(0.6721952160199484), np.float64(0.7093324232846498), np.float64(0.9118405481179556), np.float64(0.7125059589743614), np.float64(0.8034815092881521), np.float64(0.767601748307546), np.float64(0.7381773094336191), np.float64(0.5869153092304865), np.float64(0.7654501671592394), np.float64(0.6023144690940777), np.float64(0.7135632509986559), np.float64(0.5898510360469421), np.float64(0.7929771741231283), np.float64(0.5993771006663641), np.float64(0.6632372190554937), np.float64(0.8307415445645651), np.float64(0.6032215592761835), np.float64(0.9602799117565155), np.float64(0.6078703167537848), np.float64(0.7982459962368011), np.float64(0.6972256576021513), np.float64(0.9972711801528931), np.float64(0.6646110440293947), np.float64(0.9462903439998627), np.float64(0.6209990357359251), np.float64(0.9261688689390818), np.float64(0.7603809287150701), np.float64(0.5643026220301787), np.float64(0.5915230854103962), np.float64(0.9534750183423361), np.float64(0.78164375325044), np.float64(0.8081192771593729), np.float64(0.9980883002281189), np.float64(0.578448752562205), np.float64(0.7035233328739802), np.float64(0.7066732340802749), np.float64(0.8950476745764414), np.float64(0.9340995152791342), np.float64(0.6092856749892235), np.float64(0.6548365820199251), np.float64(0.6430963144327203), np.float64(0.5860216617584229), np.float64(0.7060360635320345), np.float64(0.6734198269744714), np.float64(0.6461373306810856), np.float64(0.4620877730970581), np.float64(0.7840375999609629), np.float64(0.9992321133613586), np.float64(0.9675604899724325), np.float64(0.7298037360111872), np.float64(0.9743142028649648), np.float64(0.6311382316052914), np.float64(0.8062215050061544), np.float64(0.9913907746473948), np.float64(0.6902048935492834), np.float64(0.619419830540816), np.float64(0.683211596061786), np.float64(0.6674883365631104), np.float64(0.9534153640270233), np.float64(0.5026393880446752), np.float64(0.5255278497934341), np.float64(0.6669053273896376), np.float64(0.8062284390131632), np.float64(0.9495899081230164), np.float64(0.5844742146631082), np.float64(0.993079294761022), np.float64(0.9837718506654104), np.float64(0.7509823590517044), np.float64(0.8195790151755015), np.float64(0.6792578001817068), np.float64(0.9543479879697164), np.float64(0.5579130798578262), np.float64(0.46670667951305705), np.float64(0.5920377975950638), np.float64(0.6264801606012043), np.float64(0.6416192514201006), np.float64(0.7919152577718099), np.float64(0.7191239049037298), np.float64(0.9682692488034567), np.float64(0.3998801074922085), np.float64(0.985627700885137), np.float64(0.634674072265625), np.float64(0.6496494735280672), np.float64(0.968480259180069), np.float64(0.6397232115268707), np.float64(0.7964271306991577), np.float64(0.6766790399948756), np.float64(0.7802338401476542), np.float64(0.6539651080965996), np.float64(0.5297843829418222), np.float64(0.8380392690499624), np.float64(0.837317019701004), np.float64(0.7474244224528471), np.float64(0.7000683397054672), np.float64(0.756242831548055), np.float64(0.6153655834496021), np.float64(0.9651156266530355), np.float64(0.8103201985359192), np.float64(0.5930735965569814), np.float64(0.5266354891161124), np.float64(0.7675757706165314), np.float64(0.6117143332958221), np.float64(0.6593758662541708), np.float64(0.7631316781044006), np.float64(0.6318331199387709), np.float64(0.656156238168478), np.float64(0.7381566415230433), np.float64(0.5811544718841711), np.float64(0.9128458996613821), np.float64(0.6604159300525984), np.float64(0.8334062198797861), np.float64(0.6680153409639994), np.float64(0.9983782271544138), np.float64(0.760056234896183), np.float64(0.9870171050230662), np.float64(0.8058286805947622), np.float64(0.6732309833168983), np.float64(0.9935458799203237), np.float64(0.6419691871851683), np.float64(0.7020968310534954), np.float64(0.763987218340238), np.float64(0.5738191654284795), np.float64(0.579918964455525), np.float64(0.9888256192207336), np.float64(0.8652682900428772), np.float64(0.6555717941373587), np.float64(0.9409255683422089), np.float64(0.7194956466555595), np.float64(0.5754529585440954), np.float64(0.5996818008522192), np.float64(0.6198389083147049), np.float64(0.6002052476008733), np.float64(0.581925085435311), np.float64(0.9866633713245392), np.float64(0.6180207704504331), np.float64(0.8696040213108063), np.float64(0.667493018011252), np.float64(0.8491470217704773), np.float64(0.876591165860494), np.float64(0.7109812796115875), np.float64(0.7557238054772218), np.float64(0.8499830861886343), np.float64(0.6737366206943989), np.float64(0.5631776554509997), np.float64(0.7204921593268713), np.float64(0.7700416992108027), np.float64(0.6077195306619009), np.float64(0.780575388421615), np.float64(0.7999602456887563), np.float64(0.6888593037923177), np.float64(0.7177218645811081), np.float64(0.7484773943821589), np.float64(0.337589792907238), np.float64(0.5924752478798231), np.float64(0.5674029688040415), np.float64(0.9814088642597198), np.float64(0.8412420153617859), np.float64(0.7917507191499075), np.float64(0.9986944198608398), np.float64(0.5707453942547241), np.float64(0.6541758092741171), np.float64(0.9240471124649048), np.float64(0.997097929318746), np.float64(0.7996524175008138), np.float64(0.7604352136452993), np.float64(0.7143047054608663), np.float64(0.7028516766925653), np.float64(0.9312803645928701), np.float64(0.5883505959063768), np.float64(0.6012339585771164), np.float64(0.5432479983816544), np.float64(0.6308302382628123), np.float64(0.5008443047602972), np.float64(0.605999513839682), np.float64(0.6809662133455276), np.float64(0.9885099232196808), np.float64(0.5656808167695999), np.float64(0.6152382406095663), np.float64(0.5808126013725996), np.float64(0.6152615124980608), np.float64(0.6264854247371355), np.float64(0.9519958893458048), np.float64(0.6436096268395582), np.float64(0.8097444574038187), np.float64(0.7910756121079127), np.float64(0.783132533232371), np.float64(0.9797883232434591), np.float64(0.5938229107608398), np.float64(0.750119999051094), np.float64(0.9273224274317423), np.float64(0.9440555373827616), np.float64(0.644304022192955), np.float64(0.8086802462736765), np.float64(0.7923776507377625), np.float64(0.9339134494463602), np.float64(0.8993769586086273), np.float64(0.6890623817841212), np.float64(0.6176337637007236), np.float64(0.6086572334170341), np.float64(0.590706367045641), np.float64(0.9192657073338827), np.float64(0.9327729841073354), np.float64(0.6210327235360941), np.float64(0.6681680660694838), np.float64(0.7787975271542867), np.float64(0.9900666177272797), np.float64(0.5526014740268389), np.float64(0.6556387320160866), np.float64(0.5499647930264473), np.float64(0.8794942001501719), np.float64(0.6551697067916393), np.float64(0.5802955869585276), np.float64(0.8042358656724294), np.float64(0.6907651722431183), np.float64(0.708264023065567), np.float64(0.3129403234149019), np.float64(0.6675040274858475), np.float64(0.6159503807624181), np.float64(0.6931510462115208), np.float64(0.6229831986129284), np.float64(0.578587065761288), np.float64(0.7605694631735483), np.float64(0.7193003557622433), np.float64(0.6763753468791643), np.float64(0.5956421264757713), np.float64(0.7014843399326006), np.float64(0.7944424251715342), np.float64(0.6308592377851406), np.float64(0.7408655683199564), np.float64(0.7261632171769937), np.float64(0.5547723279645046), np.float64(0.6994757006565729), np.float64(0.7062714596589407), np.float64(0.8055232266585032), np.float64(0.9658105770746866), np.float64(0.6563990339636803), np.float64(0.625796303153038), np.float64(0.9641700387001038), np.float64(0.9951507349809011), np.float64(0.9798401892185211), np.float64(0.5550540871918201), np.float64(0.8091936757167181), np.float64(0.6899984882523617), np.float64(0.9992288450400034), np.float64(0.6518235063025107), np.float64(0.776966522137324), np.float64(0.6473365500569344), np.float64(0.7676523750027021), np.float64(0.5762523915618658), np.float64(0.9640262226263682), np.float64(0.6306334336598715), np.float64(0.5999940149486065), np.float64(0.6764603753884634), np.float64(0.5654952719341964), np.float64(0.7165497007469336), np.float64(0.6926988599201044), np.float64(0.6224646481374899), np.float64(0.6869845589001974), np.float64(0.6578424957891306), np.float64(0.997903178135554), np.float64(0.5636641240368286), np.float64(0.6521801501512527), np.float64(0.8655128379662832), np.float64(0.5737248603254557), np.float64(0.975964198509852), np.float64(0.6186177978912989), np.float64(0.24145933023343483), np.float64(0.604324996471405), np.float64(0.9753857254981995), np.float64(0.8045050005118052), np.float64(0.5971030505994955), np.float64(0.8638238708178202), np.float64(0.4769769608974457), np.float64(0.7374037901560465), np.float64(0.6832122653722763), np.float64(0.6542288760344187), np.float64(0.5819323888669411), np.float64(0.7417129129171371), np.float64(0.6272296036283175), np.float64(0.7042920192082723), np.float64(0.9795664648214976), np.float64(0.573027732471625), np.float64(0.7675657073656718), np.float64(0.6529486452539762), np.float64(0.6739905675252279), np.float64(0.6506105537215868), np.float64(0.741211786866188), np.float64(0.639163558681806), np.float64(0.6056931186467409), np.float64(0.6665867070357004), np.float64(0.6256958196560541), np.float64(0.5800868924707174), np.float64(0.828978051741918), np.float64(0.9319800039132436), np.float64(0.7830731173356374), np.float64(0.6226094588637352), np.float64(0.6897693909704685), np.float64(0.6381971177955469), np.float64(0.9245839218298594), np.float64(0.8796291251977285), np.float64(0.8129194776217142), np.float64(0.4992708166440328), np.float64(0.6913634936014811), np.float64(0.587422838434577), np.float64(0.9942516585191091), np.float64(0.6474742591381073), np.float64(0.5715460870414972), np.float64(0.9862928787867228), np.float64(0.7478398482004801), np.float64(0.7596064458290736), np.float64(0.7447423537572225), np.float64(0.9367578029632568), np.float64(0.6668232555190722), np.float64(0.9992403288682302), np.float64(0.667867474257946), np.float64(0.8774698674678802), np.float64(0.7975119799375534), np.float64(0.6766276446481546), np.float64(0.6597774817297856), np.float64(0.9895569682121277), np.float64(0.8556849459807078), np.float64(0.8166723847389221), np.float64(0.9768501222133636), np.float64(0.8108805765708288), np.float64(0.6804471065600713), np.float64(0.7665689531713724), np.float64(0.99567378560702), np.float64(0.6391938837865988), np.float64(0.3140120344857375), np.float64(0.3166830499346058), np.float64(0.9934236307938894), np.float64(0.5811799907435974), np.float64(0.7341995586951574), np.float64(0.6810455073912939), np.float64(0.6084411597500244), np.float64(0.7048268380264441), np.float64(0.6000012469788393), np.float64(0.7809746464093527), np.float64(0.9739891688028971), np.float64(0.7462007813155651), np.float64(0.6648320307334264), np.float64(0.6842313806215922), np.float64(0.6854429890712103), np.float64(0.6140075474977493), np.float64(0.7126448303461075), np.float64(0.6925253917773565), np.float64(0.7848621308803558), np.float64(0.9942868451277415), np.float64(0.6201715233425299), np.float64(0.6293781201044718), np.float64(0.7825563251972198), np.float64(0.9756300250689188), np.float64(0.6181272715330124), np.float64(0.648024084046483), np.float64(0.6590324205656847), np.float64(0.8222626348336538), np.float64(0.7267986188332239), np.float64(0.5770698040723801), np.float64(0.666873166958491), np.float64(0.7191209048032761), np.float64(0.6011569524804751), np.float64(0.999232828617096), np.float64(0.7168259720007578), np.float64(0.9980699717998505), np.float64(0.6527117763956388), np.float64(0.642864224811395), np.float64(0.7500218947728475), np.float64(0.9871046245098114), np.float64(0.6600134167820215), np.float64(0.7439847936232885), np.float64(0.6291356347501278), np.float64(0.6137703756491343), np.float64(0.5360509616633257), np.float64(0.6937819470961889), np.float64(0.6892000225683054), np.float64(0.6893798969686031), np.float64(0.6638708263635635), np.float64(0.6047034598886967), np.float64(0.5688949258377155), np.float64(0.5663114475707213), np.float64(0.6879713733990988), np.float64(0.9312197864055634), np.float64(0.5161515163878599), np.float64(0.9745952486991882), np.float64(0.5942617418865362), np.float64(0.6998298789064089), np.float64(0.7493303169806799), np.float64(0.7325017849604288), np.float64(0.7548855791489283), np.float64(0.6584469514588515), np.float64(0.6243403206268946), np.float64(0.5860370146110654), np.float64(0.5098634709914526), np.float64(0.7131772736708323), np.float64(0.525920777892073), np.float64(0.749363953868548), np.float64(0.6886122152209282), np.float64(0.7625294029712677), np.float64(0.6748232108851274), np.float64(0.7250235627094904), np.float64(0.6722462947169939), np.float64(0.9985808928807577), np.float64(0.7467867247760296), np.float64(0.7257000307242075), np.float64(0.6007182987717291), np.float64(0.556452602148056), np.float64(0.7686174015204111), np.float64(0.5988424395521482), np.float64(0.9947421153386434), np.float64(0.39901297104855377), np.float64(0.9381261070569357), np.float64(0.8056004444758097), np.float64(0.7266084675987562), np.float64(0.7908881157636642), np.float64(0.8204724838336309), np.float64(0.9349055588245392), np.float64(0.5694910033295552), np.float64(0.6216706534226736), np.float64(0.514301061630249), np.float64(0.6702124687532584), np.float64(0.9948665797710419), np.float64(0.6837348466118177), np.float64(0.7460925579071045), np.float64(0.7104405413071314), np.float64(0.6559654126564661), np.float64(0.5940077006816864), np.float64(0.5243643795450529), np.float64(0.842576319972674), np.float64(0.7144321873784065), np.float64(0.6797744433085123), np.float64(0.7422297894954681), np.float64(0.8008960783481598), np.float64(0.7001653748253981), np.float64(0.6764313280582428), np.float64(0.7187785506248474), np.float64(0.6143049144496521), np.float64(0.7832665145397186), np.float64(0.618702344596386), np.float64(0.8398005863030752), np.float64(0.6378158467511336), np.float64(0.9945808152357737), np.float64(0.7665997892618179), np.float64(0.3989970212181409), np.float64(0.9958917697270712), np.float64(0.6153100927670797), np.float64(0.9842138389746348), np.float64(0.7204384704430898), np.float64(0.6936667710542679), np.float64(0.9959563910961151), np.float64(0.6635275855660439), np.float64(0.651947428782781), np.float64(0.6300039123743773), np.float64(0.9677861630916595), np.float64(0.5612708826859792), np.float64(0.583396210645636), np.float64(0.5768419659386078), np.float64(0.7283901224533716), np.float64(0.5846733792374531), np.float64(0.9120740493138632), np.float64(0.5777541554222504), np.float64(0.7314842542012533), np.float64(0.7859638233979543), np.float64(0.7265206761658192), np.float64(0.2436754759401083), np.float64(0.9950426916281382), np.float64(0.6569342464208603), np.float64(0.7797673344612122), np.float64(0.9871112406253815), np.float64(0.999235580364863), np.float64(0.8600029548009237), np.float64(0.7099948227405548), np.float64(0.6642247016231219), np.float64(0.7754807670911154), np.float64(0.6891013272106647), np.float64(0.7628774096568426), np.float64(0.9899680217107137), np.float64(0.7264938230315844), np.float64(0.6895380405088266), np.float64(0.6006945172945658), np.float64(0.5739372558891773), np.float64(0.6755771040916443), np.float64(0.7744103881220022), np.float64(0.8056034644444784), np.float64(0.8125183085600535), np.float64(0.9490597645441691), np.float64(0.9984680612881979), np.float64(0.59181599256893), np.float64(0.606355679143841), np.float64(0.556427548736489), np.float64(0.7663197716077169), np.float64(0.9981880585352579), np.float64(0.6158084012567997), np.float64(0.8742145200570425), np.float64(0.5107528377945224), np.float64(0.7794432093699774), np.float64(0.689070638269186), np.float64(0.6316379724691311), np.float64(0.828964943687121), np.float64(0.7888423601786295), np.float64(0.9029594858487447), np.float64(0.7071997572978338), np.float64(0.8084761450688044), np.float64(0.7068631003300349), np.float64(0.6984240760405859), np.float64(0.9473339021205902), np.float64(0.930636485417684), np.float64(0.6275357492268085), np.float64(0.6844708633919557), np.float64(0.7611062650879225), np.float64(0.6127844452857971), np.float64(0.6296176966279745), np.float64(0.6149733103811741), np.float64(0.3582453851898511), np.float64(0.5840009606132904), np.float64(0.6227198988199234), np.float64(0.6957407941420873), np.float64(0.6001087808981538), np.float64(0.9992367227872213), np.float64(0.7828712165355682), np.float64(0.5721104728678862), np.float64(0.8819928566614786), np.float64(0.6424399067958196), np.float64(0.49431026726961136), np.float64(0.9733100732167562), np.float64(0.643653449912866), np.float64(0.9945631424585978), np.float64(0.6878164658943812), np.float64(0.9678116540114085), np.float64(0.9247405827045441), np.float64(0.656301220258077), np.float64(0.6625343393534422), np.float64(0.9594663182894388), np.float64(0.6793414577841759), np.float64(0.7282140751679739), np.float64(0.6794450183709463), np.float64(0.5122147252162298), np.float64(0.733690490325292), np.float64(0.585755834976832), np.float64(0.6267483954628309), np.float64(0.5774837167312702), np.float64(0.5474514166514078), np.float64(0.6409593460460504), np.float64(0.5977711156010628), np.float64(0.6929428031047186), np.float64(0.6304850528637568), np.float64(0.7543980261931816), np.float64(0.6346509822954735), np.float64(0.57388416895022), np.float64(0.67412801583608), np.float64(0.943607876698176), np.float64(0.6274512112140656), np.float64(0.7037839759141207), np.float64(0.5811023060232401), np.float64(0.6656859250118335), np.float64(0.8544067144393921), np.float64(0.712002657353878), np.float64(0.6619169022887945), np.float64(0.6086550342539946), np.float64(0.7409840499361356), np.float64(0.6122153171648582), np.float64(0.7969592809677124), np.float64(0.7511526296536127), np.float64(0.7155560428897539), np.float64(0.762814978758494), np.float64(0.6748012552658716), np.float64(0.5693623373905817), np.float64(0.644345453629891), np.float64(0.6709034498780966), np.float64(0.6661987776557604), np.float64(0.6148271175722281), np.float64(0.5886831395328045), np.float64(0.6817521241803964), np.float64(0.44577481877058744), np.float64(0.571355273326238), np.float64(0.6272621949513754), np.float64(0.5998023366167521), np.float64(0.762814978758494), np.float64(0.7187554258853197), np.float64(0.811380018790563), np.float64(0.6502123872439066), np.float64(0.9961994091669718), np.float64(0.687244555602471), np.float64(0.6658426014085611), np.float64(0.8351466953754425), np.float64(0.6628686307619015), np.float64(0.6279235339413086), np.float64(0.7139112999041876), np.float64(0.5588961609949669), np.float64(0.8325788577397665), np.float64(0.6308077673117319), np.float64(0.9894473552703857), np.float64(0.8138974209626516), np.float64(0.6771435799698035), np.float64(0.6426176428794861), np.float64(0.5838431759426991), np.float64(0.7237972480555376), np.float64(0.6482494870821635), np.float64(0.5852793951053172), np.float64(0.7796364525953928), np.float64(0.9328710436820984), np.float64(0.6972099232176939), np.float64(0.8012967507044474), np.float64(0.6478246500094732), np.float64(0.791919489701589), np.float64(0.9505119323730469), np.float64(0.690993458032608), np.float64(0.7393235166867574), np.float64(0.5777777420977751), np.float64(0.664094939827919), np.float64(0.6529102325439453), np.float64(0.3020276268944144), np.float64(0.6102410821865002), np.float64(0.8103522956371307), np.float64(0.662149698783954), np.float64(0.6557013553877672), np.float64(0.7368731101353964), np.float64(0.8709051807721456), np.float64(0.6862228866666555), np.float64(0.7975836396217346), np.float64(0.5776648446917534), np.float64(0.5989278014749289), np.float64(0.9745454490184784), np.float64(0.7501796384652456), np.float64(0.7168221970399221), np.float64(0.6129748690873384), np.float64(0.7560937205950419), np.float64(0.9675968587398529), np.float64(0.9202726980050405), np.float64(0.6771875812361637), np.float64(0.815738225976626), np.float64(0.9978696703910828), np.float64(0.6710128163297971), np.float64(0.6418646971384684), np.float64(0.571277417242527), np.float64(0.5349556157986323), np.float64(0.7933629552523295), np.float64(0.9835975269476572), np.float64(0.5418120125929514), np.float64(0.6064117227991422), np.float64(0.8202142119407654), np.float64(0.8205570777257284), np.float64(0.5774837167312702), np.float64(0.6873030811548233), np.float64(0.6606794148683548), np.float64(0.9613396922747294), np.float64(0.6430426190296809), np.float64(0.824318120876948), np.float64(0.5830787469943365), np.float64(0.11870229182144006), np.float64(0.6181995049118996), np.float64(0.5981074286003908), np.float64(0.7531902839740118), np.float64(0.7755828350782394), np.float64(0.7207901179790497), np.float64(0.6836233548820019), np.float64(0.7702859689791998), np.float64(0.8198234836260477), np.float64(0.9240480860074362), np.float64(0.5640659077713887), np.float64(0.7168453310926756), np.float64(0.9276090562343597), np.float64(0.5697735597689947), np.float64(0.9892094333966573), np.float64(0.5920161635925373), np.float64(0.6308666132390499), np.float64(0.5826848646004995), np.float64(0.7028457013269266), np.float64(0.7522132111092409), np.float64(0.6815081325670084), np.float64(0.7186811864376068), np.float64(0.6307668803880612), np.float64(0.6364851854741573), np.float64(0.7019058000296354), np.float64(0.5991264246404171), np.float64(0.6210162285715342), np.float64(0.705512440452973), np.float64(0.699929378926754), np.float64(0.7204813423256079), np.float64(0.9333816369374593), np.float64(0.6845736727118492), np.float64(0.6669773049652576), np.float64(0.7159740347415209), np.float64(0.6782202608883381), np.float64(0.6589260399341583), np.float64(0.6573377624154091), np.float64(0.6876031917830309), np.float64(0.7219154437383016), np.float64(0.6640714158614477), np.float64(0.6823396409551302), np.float64(0.769904837012291), np.float64(0.6907664959629377), np.float64(0.6515684444457293), np.float64(0.8092543085416158), np.float64(0.7789639284213384), np.float64(0.5424224445596337), np.float64(0.7202256905535857), np.float64(0.7910602887471517), np.float64(0.5684676812961698), np.float64(0.5628569660087427), np.float64(0.6718229117492834), np.float64(0.756420198827982), np.float64(0.7088417932391167), np.float64(0.8005463580290476), np.float64(0.8068589766820272), np.float64(0.6638536490499973), np.float64(0.7140912475685278), np.float64(0.7228120813767115), np.float64(0.7639343092838923), np.float64(0.6030271065731844), np.float64(0.8106657266616821), np.float64(0.9979854126771291), np.float64(0.5624091109881798), np.float64(0.5652165270100037), np.float64(0.5091299967219433), np.float64(0.6292936305205027), np.float64(0.7629671506583691), np.float64(0.5816997687021891), np.float64(0.9819169541200002), np.float64(0.664875457684199), np.float64(0.6616721252600352), np.float64(0.9825447996457418), np.float64(0.7477047691742579), np.float64(0.7494722108046213), np.float64(0.7497552471856276), np.float64(0.606054817015926), np.float64(0.8763374785582224), np.float64(0.690801590681076), np.float64(0.5914970642576615), np.float64(0.6161818746477365), np.float64(0.6868816763162613), np.float64(0.7540347973505656), np.float64(0.6881894816954931), np.float64(0.7190043851733208), np.float64(0.7880582312742869), np.float64(0.7400574187437693), np.float64(0.5758113171905279), np.float64(0.7301393405844768), np.float64(0.6270780215660731), np.float64(0.692506693303585), np.float64(0.7279632793118557), np.float64(0.9971268673737844), np.float64(0.614059703424573), np.float64(0.8406803707281748), np.float64(0.994714210430781), np.float64(0.7093935608863831), np.float64(0.9434993267059326), np.float64(0.6527684430281321), np.float64(0.7645312249660492), np.float64(0.5952321719378233), np.float64(0.7006048063437144), np.float64(0.7325442135334015), np.float64(0.9302505950133005), np.float64(0.7498552997907003), np.float64(0.7957880645990372), np.float64(0.7297623207171758), np.float64(0.7751740235835314), np.float64(0.9976578652858734), np.float64(0.8250998208920161), np.float64(0.5855259541422129), np.float64(0.6949426544209322), np.float64(0.9447769820690155), np.float64(0.7046821862459183), np.float64(0.7019254341721535), np.float64(0.9671188195546468), np.float64(0.8461418052514394), np.float64(0.9478428165117899), np.float64(0.9669860204060873), np.float64(0.6791420032580694), np.float64(0.9923900763193766), np.float64(0.5929347636799017), np.float64(0.6790405909220377), np.float64(0.7847644885381063), np.float64(0.6546866862724224), np.float64(0.6550810914486647), np.float64(0.5931313571830591), np.float64(0.6931638966004053), np.float64(0.6288387527068456), np.float64(0.6724518400927385), np.float64(0.9983294308185577), np.float64(0.5305167275170485), np.float64(0.7857384731372198), np.float64(0.7155517761905988), np.float64(0.5346188514182965), np.float64(0.7329368789990743), np.float64(0.9215422968069712), np.float64(0.7814451331893603), np.float64(0.8308614492416382), np.float64(0.7063201864560446), np.float64(0.4845602934559186), np.float64(0.8105938732624054), np.float64(0.8199382821718851), np.float64(0.6515384595841169), np.float64(0.9758252998193105), np.float64(0.6938209782044092), np.float64(0.7786713540554047), np.float64(0.6717716803153356), np.float64(0.5913658874730269), np.float64(0.6834919589261214), np.float64(0.6505117118358612), np.float64(0.5768678324917952), np.float64(0.8610787987709045), np.float64(0.6686562846104304), np.float64(0.6864231067399184), np.float64(0.8053875466187795), np.float64(0.5434572249650955), np.float64(0.9967879354953766), np.float64(0.5757103164990743), np.float64(0.804384450117747), np.float64(0.9959118564923605), np.float64(0.5823559146374464), np.float64(0.5100645000735918), np.float64(0.6236671768128872), np.float64(0.6674520336091518), np.float64(0.5728291192402443), np.float64(0.6958123743534088), np.float64(0.42710530012845993), np.float64(0.7842739522457123), np.float64(0.7105893976986408), np.float64(0.6721513370672861), np.float64(0.7402261892954508), np.float64(0.6653891690075397), np.float64(0.7812658051649729), np.float64(0.7634742949157953), np.float64(0.660727720707655), np.float64(0.9724716742833456), np.float64(0.6355719467004141), np.float64(0.646345724662145), np.float64(0.9536562959353129), np.float64(0.7272077600161234), np.float64(0.657008578379949), np.float64(0.5885848222921292), np.float64(0.7548284977674484), np.float64(0.6755952735741934), np.float64(0.7259270151456197), np.float64(0.7790992061297098), np.float64(0.7889915059010187), np.float64(0.5298861684277654), np.float64(0.6211533496777216), np.float64(0.602165882786115), np.float64(0.562741270288825), np.float64(0.7414061278104782), np.float64(0.7699532906214396), np.float64(0.6151398022969564), np.float64(0.5982585952927669), np.float64(0.9808694422245026), np.float64(0.9950495759646097), np.float64(0.6702649916211764), np.float64(0.5001463318864504), np.float64(0.9913108944892883), np.float64(0.67270294825236), np.float64(0.6737986163546642), np.float64(0.6211847960948944), np.float64(0.5754596324016651), np.float64(0.6880480001370112), np.float64(0.6359664673606554), np.float64(0.8409814188877741), np.float64(0.8177933295567831), np.float64(0.5827640580634276), np.float64(0.6015716443459193), np.float64(0.6830853496988615), np.float64(0.6867844636241595), np.float64(0.6881478627522787), np.float64(0.764456977446874), np.float64(0.7312611130376657), np.float64(0.6438524834811687), np.float64(0.925412525733312), np.float64(0.9679477016131083), np.float64(0.6446337650219599), np.float64(0.7930194040139517), np.float64(0.5897512721518675), np.float64(0.6926890537142754), np.float64(0.9943531552950541), np.float64(0.7709533621867498), np.float64(0.6594616137444973), np.float64(0.972863644361496), np.float64(0.9640768766403198), np.float64(0.6879154096047083), np.float64(0.5489984601736069), np.float64(0.8108852704366049), np.float64(0.6852751821279526), np.float64(0.5966396642227968), np.float64(0.8132828076680502), np.float64(0.7638267142077287), np.float64(0.9514993528525034), np.float64(0.7099387173851331), np.float64(0.7567620252569517), np.float64(0.607479906330506), np.float64(0.6280263432612022), np.float64(0.9528027673562368), np.float64(0.7590695371230444), np.float64(0.5636482294648886), np.float64(0.7105478222171465), np.float64(0.8551360368728638), np.float64(0.6147987035413583), np.float64(0.6026408647497495), np.float64(0.8164279957612356), np.float64(0.9359301726023356), np.float64(0.6174378208816051), np.float64(0.9976050953070322), np.float64(0.655220960577329), np.float64(0.6880480038623015), np.float64(0.6507685451457897), np.float64(0.5970817655324936), np.float64(0.6919392844041189), np.float64(0.6649055878321329), np.float64(0.5778461123506228), np.float64(0.6249919421970844), np.float64(0.6593123090763887), np.float64(0.9916486938794454), np.float64(0.9983323713143667), np.float64(0.6777226999402046), np.float64(0.845571239789327), np.float64(0.6422462699313959), np.float64(0.7258826357622942), np.float64(0.7917483150959015), np.float64(0.5354626178741455), np.float64(0.6429941449314356), np.float64(0.8018069912989935), np.float64(0.7672644555568695), np.float64(0.7623283167680105), np.float64(0.7017798324426016), np.float64(0.7898029386997223), np.float64(0.6799649248520533), np.float64(0.9506112237771353), np.float64(0.6910299944380919), np.float64(0.5218824322024981), np.float64(0.778168166677157), np.float64(0.595687116185824), np.float64(0.8836674988269806), np.float64(0.8559418668349584), np.float64(0.6124299416939417), np.float64(0.9493158658345541), np.float64(0.7790111551682154), np.float64(0.6038132316122452), np.float64(0.619139276444912), np.float64(0.6066311957935492), np.float64(0.6489626417557398), np.float64(0.645341361562411), np.float64(0.8709859947363535), np.float64(0.7764337013165156), np.float64(0.6984742631514868), np.float64(0.7319478299468756), np.float64(0.7160806457201639), np.float64(0.7959495534499487), np.float64(0.9145666062831879), np.float64(0.6263006962835789), np.float64(0.7276840880513191), np.float64(0.9885626137256622), np.float64(0.6712386664003134), np.float64(0.6265541656563679), np.float64(0.09101605291167895), np.float64(0.6707207014163336), np.float64(0.7772743950287501), np.float64(0.5965081254641215), np.float64(0.626111705477039), np.float64(0.9992244243621826), np.float64(0.7801613211631775), np.float64(0.6766370398302873), np.float64(0.5586418199042479), np.float64(0.6450392777721087), np.float64(0.9798807899157206), np.float64(0.6178233275810877), np.float64(0.9297794699668884), np.float64(0.704037124911944), np.float64(0.9421471258004507), np.float64(0.5829104073345661), np.float64(0.9964194893836975), np.float64(0.6187173935274283), np.float64(0.6211410822967688), np.float64(0.6679190310339133), np.float64(0.6914113735159239), np.float64(0.6087731073300043), np.float64(0.6709776173035303), np.float64(0.6245152006546656), np.float64(0.6752314418554306), np.float64(0.8087134957313538), np.float64(0.5981216101596752), np.float64(0.7276515612999598), np.float64(0.7113654452065626), np.float64(0.6214432083070278), np.float64(0.8169125119845072), np.float64(0.8424546122550964), np.float64(0.8094416658083597), np.float64(0.5522575272868077), np.float64(0.6245778029163679), np.float64(0.5978125569721063), np.float64(0.6789930115143458), np.float64(0.788545827070872), np.float64(0.7002560049295425), np.float64(0.8217067917188009), np.float64(0.9992200036843618), np.float64(0.619928085555633), np.float64(0.6295265896866719), np.float64(0.6423412747681141), np.float64(0.5646899820615848), np.float64(0.5937628115837773), np.float64(0.7433181777596474), np.float64(0.8808106184005737), np.float64(0.6471944836278757), np.float64(0.6900908897320429), np.float64(0.9456398983796438), np.float64(0.8092692593733469), np.float64(0.7961596250534058), np.float64(0.6727244618038336), np.float64(0.5804657979557911), np.float64(0.9705988566080729), np.float64(0.7701552659273148), np.float64(0.5953555045028528), np.float64(0.6038044237842163), np.float64(0.7846183379491171), np.float64(0.745858853061994), np.float64(0.9942712684472402), np.float64(0.9687279562155405), np.float64(0.7116995304822922), np.float64(0.9498161872227987), np.float64(0.995234747727712), np.float64(0.7552448709805807), np.float64(0.5776157788932323), np.float64(0.6767495994766554), np.float64(0.6965187278886636), np.float64(0.7946344117323557), np.float64(0.6512133801976839), np.float64(0.6288209911435843), np.float64(0.6415547964473566), np.float64(0.9992270966370901), np.float64(0.9980871478716532), np.float64(0.7799668163061142), np.float64(0.9843522707621256), np.float64(0.8542599678039551), np.float64(0.7798324773708979), np.float64(0.596955643966794), np.float64(0.7654176652431488), np.float64(0.607919771845142), np.float64(0.9434537986914316), np.float64(0.9772185285886129), np.float64(0.9528342485427856), np.float64(0.6934051228066286), np.float64(0.47645380968848866), np.float64(0.6043038989106814), np.float64(0.5491501341263453), np.float64(0.9533228675524393), np.float64(0.6873814960320791), np.float64(0.6212332298358282), np.float64(0.657420426607132), np.float64(0.5958816452572743), np.float64(0.7103966524203619), np.float64(0.7099532149732113), np.float64(0.9250166515509287), np.float64(0.727358932296435), np.float64(0.7019121510287126), np.float64(0.9016541143258413), np.float64(0.6001024240007004), np.float64(0.5335822328925133), np.float64(0.5964914659659067), np.float64(0.29667994504173595), np.float64(0.6690989416092634), np.float64(0.6949032085637251), np.float64(0.670345508803924), np.float64(0.6093810759484768), np.float64(0.579484603057305), np.float64(0.7032090425491333), np.float64(0.6833921807507674), np.float64(0.6257004390160242), np.float64(0.6257277652621269), np.float64(0.6556553803384304), np.float64(0.7790122181177139), np.float64(0.7511888146400452), np.float64(0.6639374618728956), np.float64(0.6244701966643333), np.float64(0.8019086917241415), np.float64(0.7128960092862447), np.float64(0.7920810778935751), np.float64(0.6970095410943031), np.float64(0.8274525254964828), np.float64(0.5052056722342968), np.float64(0.5795458400001129), np.float64(0.6725394154588381), np.float64(0.6585341840982437), np.float64(0.5552788401643435), np.float64(0.9940371215343475), np.float64(0.6143235911925634), np.float64(0.9954243799050649), np.float64(0.6553982285161813), np.float64(0.7658623357613882), np.float64(0.4767842410753171), np.float64(0.6033376057942709), np.float64(0.7959721287091573), np.float64(0.5805421297748884), np.float64(0.5733953987558683), np.float64(0.6570339115957419), np.float64(0.7947666943073273), np.float64(0.8434885342915853), np.float64(0.7161478338142236), np.float64(0.8116247256596884), np.float64(0.6381781846284866), np.float64(0.6614113797744116), np.float64(0.7049301583319902), np.float64(0.548967007547617), np.float64(0.6852886776129404), np.float64(0.9903417030970255), np.float64(0.9933815002441406), np.float64(0.7382477422555288), np.float64(0.9169084330399832), np.float64(0.6565983314067125), np.float64(0.6867124711473783), np.float64(0.6923259298006693), np.float64(0.9908422430356344), np.float64(0.7698198010524114), np.float64(0.6539169400930405), np.float64(0.7888514995574951), np.float64(0.7793223261833191), np.float64(0.762060280268391), np.float64(0.9947956601778666), np.float64(0.6330017199118932), np.float64(0.7270709971586863), np.float64(0.5403187026580175), np.float64(0.5672987870251139), np.float64(0.6871027847131094), np.float64(0.7947529256343842), np.float64(0.7160533095399538), np.float64(0.990536093711853), np.float64(0.7138786539435387), np.float64(0.6514490072925886), np.float64(0.8089374005794525), np.float64(0.7689546147982279), np.float64(0.795448233683904), np.float64(0.9972971777121226), np.float64(0.6994293307264646), np.float64(0.7883466283480326), np.float64(0.6923461606105169), np.float64(0.9961645702521006), np.float64(0.6739588677883148), np.float64(0.8534637093544006), np.float64(0.672401575371623), np.float64(0.7235759496688843), np.float64(0.5224324439962705), np.float64(0.6557348805169264), np.float64(0.8090826769669851), np.float64(0.8837596476078033), np.float64(0.8107628126939138), np.float64(0.7806806763013204), np.float64(0.6287292192379633), np.float64(0.6065289626518885), np.float64(0.9778576592604319), np.float64(0.9825329780578613), np.float64(0.84144426882267), np.float64(0.7233567523459593), np.float64(0.6817470118403435), np.float64(0.9794606765111288), np.float64(0.7887340287367502), np.float64(0.8270520766576132), np.float64(0.6785352925459543), np.float64(0.6177769309530655), np.float64(0.6001925623665253), np.float64(0.585964523255825), np.float64(0.6497930288314819), np.float64(0.6065666116774082), np.float64(0.5488556816708297), np.float64(0.6827603441973528), np.float64(0.6246535877386729), np.float64(0.5442135507861773), np.float64(0.7307131439447403), np.float64(0.6712112271537384), np.float64(0.6251820381730795), np.float64(0.6274749164779981), np.float64(0.7880164384841919), np.float64(0.6603082064539194), np.float64(0.5998366996645927), np.float64(0.632037249704202), np.float64(0.7582784642775854), np.float64(0.7047216643889745), np.float64(0.6236671768128872), np.float64(0.6004417277872562), np.float64(0.6578531314929327), np.float64(0.7223562151193619), np.float64(0.7474164267381033), np.float64(0.6179567823807398), np.float64(0.9992288053035736), np.float64(0.7741930037736893), np.float64(0.333136507930855), np.float64(0.5856323540210724), np.float64(0.7752839873234431), np.float64(0.8076374034086863), np.float64(0.5924853074053923), np.float64(0.6763924310604731), np.float64(0.9937832653522491), np.float64(0.6054350702712933), np.float64(0.7431533336639404), np.float64(0.7240062629183134), np.float64(0.6874042848745981), np.float64(0.7760579387346903), np.float64(0.5952298619473974), np.float64(0.65935775761803), np.float64(0.7115763469288746), np.float64(0.6287227825572094), np.float64(0.6374734882265329), np.float64(0.9838402767976125), np.float64(0.7315770983695984), np.float64(0.7793651123841604), np.float64(0.5856500510126352), np.float64(0.6137288225193819), np.float64(0.765490859746933), np.float64(0.6877894438803196), np.float64(0.6283059064298868), np.float64(0.7766749958197275), np.float64(0.7121781185269356), np.float64(0.5605915623406569), np.float64(0.4020405306170384), np.float64(0.7531952081869046), np.float64(0.6598745547235012), np.float64(0.7526821494102478), np.float64(0.6590536385774612), np.float64(0.7848751010994116), np.float64(0.6372455507516861), np.float64(0.767982417717576), np.float64(0.7257177879412969), np.float64(0.5963050896922747), np.float64(0.5275106976429621), np.float64(0.7926481117804846), np.float64(0.6900605708360672), np.float64(0.9872606893380483), np.float64(0.6555287999411424), np.float64(0.7163187166055044), np.float64(0.9361804922421774), np.float64(0.6082165588935217), np.float64(0.623669338102142), np.float64(0.653156199802955), np.float64(0.636634728560845), np.float64(0.544904259343942), np.float64(0.6107249557971954), np.float64(0.6068990131219228), np.float64(0.7324770738681158), np.float64(0.5957149217526118), np.float64(0.6590971599022547), np.float64(0.8817574083805084), np.float64(0.6158194504678249), np.float64(0.9933812022209167), np.float64(0.7854206661383311), np.float64(0.6075176149606705), np.float64(0.6581126774350802), np.float64(0.8036098778247833), np.float64(0.4084911576161782), np.float64(0.658699723581473), np.float64(0.7129961773753166), np.float64(0.6112901773303747), np.float64(0.6299904858072599), np.float64(0.7093299279610316), np.float64(0.6800115803877512), np.float64(0.7443298952033123), np.float64(0.7586996698131164), np.float64(0.6848228027423223), np.float64(0.6589696009953817), np.float64(0.7061576445897421), np.float64(0.4678223095834255), np.float64(0.6416712167362372), np.float64(0.7292525519927343), np.float64(0.5526421250154575), np.float64(0.6670647164185842), np.float64(0.9849480092525482), np.float64(0.6187888116886219), np.float64(0.7388408835977316), np.float64(0.9963022073109945), np.float64(0.7525068124135336), np.float64(0.7614889343579611), np.float64(0.6771667723854383), np.float64(0.7658913085858027), np.float64(0.9523021082083384), np.float64(0.6537778663138548), np.float64(0.8021445175011953), np.float64(0.7399628311395645), np.float64(0.6561676698426405), np.float64(0.8152981102466583), np.float64(0.6479804969082276), np.float64(0.6311835944652557), np.float64(0.9600225786368052), np.float64(0.9983066221078237), np.float64(0.6387481838464737), np.float64(0.5886954863866171), np.float64(0.8866035540898641), np.float64(0.6045209815104803), np.float64(0.7500953475634257), np.float64(0.6218633806953827), np.float64(0.6766672432422638), np.float64(0.9181114534536997), np.float64(0.6663157530128956), np.float64(0.5958020600179831), np.float64(0.63887141396602), np.float64(0.5826771184802055), np.float64(0.6746259157856306), np.float64(0.6830241146186987), np.float64(0.6043096135059992), np.float64(0.7363299826780955), np.float64(0.6842184414466222), np.float64(0.7553361256917318), np.float64(0.9739891688028971), np.float64(0.602165882786115), np.float64(0.6880012849966685), np.float64(0.8416347106297811), np.float64(0.6636458585659663), np.float64(0.6711550454298655), np.float64(0.6000413497289022), np.float64(0.8023672054211298), np.float64(0.906447837750117), np.float64(0.7152343591054281), np.float64(0.6876244147618612), np.float64(0.5584227393070856), np.float64(0.7714390705029169), np.float64(0.6876675387223562), np.float64(0.9785772462685903), np.float64(0.9335054556528727), np.float64(0.7907707095146179), np.float64(0.9977943201859792), np.float64(0.6608027052134275), np.float64(0.6128465222815672), np.float64(0.8913712203502655), np.float64(0.6661906888087591), np.float64(0.5906327245756984), np.float64(0.547013321891427), np.float64(0.6699052304029465), np.float64(0.8878150383631388), np.float64(0.6348927157620589), np.float64(0.9992182354132334), np.float64(0.9113061527411143), np.float64(0.710566853483518), np.float64(0.8730818331241608), np.float64(0.5942619175960621), np.float64(0.8392302195231119), np.float64(0.6003448932121197), np.float64(0.6282926748196284), np.float64(0.7631459583838781), np.float64(0.5958991770943006), np.float64(0.8725018898646036), np.float64(0.6957185777525107), np.float64(0.6816436698039373), np.float64(0.6008843270440897), np.float64(0.6036881022155285), np.float64(0.5071013271808624), np.float64(0.8112220168113708), np.float64(0.522038952447474), np.float64(0.7697308957576752), np.float64(0.9462069272994995), np.float64(0.527618852754434), np.float64(0.6136058382689953), np.float64(0.6112901773303747), np.float64(0.7048221963147322), np.float64(0.6654524064312378), np.float64(0.8034840921560923), np.float64(0.583669717113177), np.float64(0.5349688306450844), np.float64(0.618635934467117), np.float64(0.5420596698919932), np.float64(0.7119302650292715), np.float64(0.9555551111698151), np.float64(0.7234738456706206), np.float64(0.6036003734916449), np.float64(0.6379147280628482), np.float64(0.754106362660726), np.float64(0.6839495524764061), np.float64(0.7177005062500635), np.float64(0.6918587659796079), np.float64(0.996463418006897), np.float64(0.683084157605966), np.float64(0.6488109678030014), np.float64(0.6575090984503428), np.float64(0.998235434293747), np.float64(0.7292910516262054), np.float64(0.6886266792813936), np.float64(0.7063009465734164), np.float64(0.9649401108423868), np.float64(0.609433046852549), np.float64(0.7877798080444336), np.float64(0.5717142081509033), np.float64(0.9964977304140726), np.float64(0.817642867565155), np.float64(0.7722670634587606), np.float64(0.9391162395477295), np.float64(0.5762486681342125), np.float64(0.9816695749759674), np.float64(0.7126345386107763), np.float64(0.5215109965453545), np.float64(0.7927370568116506), np.float64(0.992439846197764), np.float64(0.6054318485160669), np.float64(0.6214050402243932), np.float64(0.9469420313835144), np.float64(0.7114902312556902), np.float64(0.6055695650478204), np.float64(0.9974293013413748), np.float64(0.6183308915545543), np.float64(0.6731006503105164), np.float64(0.8344738781452179), np.float64(0.9211887816588084), np.float64(0.6387858999272188), np.float64(0.6688192536433538), np.float64(0.6025445734461149), np.float64(0.5981245587269465), np.float64(0.9953812857468923), np.float64(0.8148146569728851), np.float64(0.5737650766968727), np.float64(0.8801178435484568), np.float64(0.8135244250297546), np.float64(0.6489291973412037), np.float64(0.630159938087066), np.float64(0.8223099112510681), np.float64(0.7296006083488464), np.float64(0.59291354380548), np.float64(0.5183146322766939), np.float64(0.9399416248003641), np.float64(0.962136834859848), np.float64(0.791288803021113), np.float64(0.7397914392252763), np.float64(0.8054777334133784), np.float64(0.5855817186335722), np.float64(0.6798805495103201), np.float64(0.6938805927832922), np.float64(0.7248507092396418), np.float64(0.7932250201702118), np.float64(0.6732490745683511), np.float64(0.6352788656949997), np.float64(0.7300315648317337), np.float64(0.6231963510314623), np.float64(0.8946858942508698), np.float64(0.6495510836442312), np.float64(0.6058353409171104), np.float64(0.5926142632961273), np.float64(0.6855404575665792), np.float64(0.81435693303744), np.float64(0.8254301498333613), np.float64(0.5596219450235367), np.float64(0.30864677640299004), np.float64(0.812944620847702), np.float64(0.7699030308673779), np.float64(0.7292619496583939), np.float64(0.7673755586147308), np.float64(0.6967048396666845), np.float64(0.9302558402220408), np.float64(0.627280126636227), np.float64(0.7645315825939178), np.float64(0.9952017565568289), np.float64(0.7193368772665659), np.float64(0.7591558148463567), np.float64(0.9945156474908193), np.float64(0.6795526755352815), np.float64(0.9963503777980804), np.float64(0.7169449925422668), np.float64(0.6940275803208351), np.float64(0.9353788991769155), np.float64(0.6127714601655802), np.float64(0.6189626697450876), np.float64(0.9944355587164561), np.float64(0.7457961440086365), np.float64(0.6700874449064335), np.float64(0.687246469159921), np.float64(0.9345869719982147), np.float64(0.6655614251891772), np.float64(0.6103119223068157), np.float64(0.999222864707311), np.float64(0.7091425607601801), np.float64(0.6861196818451086), np.float64(0.6167023653785387), np.float64(0.7097456393142542), np.float64(0.8686346610387167), np.float64(0.659314900636673), np.float64(0.8095601399739584), np.float64(0.7174734510481358), np.float64(0.857808917760849), np.float64(0.6570647085706393), np.float64(0.6413875247041384), np.float64(0.8158453007539114), np.float64(0.7560694515705109), np.float64(0.5518712388972441), np.float64(0.6780224181711674), np.float64(0.6209531873464584), np.float64(0.5955575406551361), np.float64(0.8028978109359741), np.float64(0.8012679715951284), np.float64(0.73291749941806), np.float64(0.5862219023207823), np.float64(0.513682114581267), np.float64(0.7109141666442156), np.float64(0.6191055426994959), np.float64(0.5799560255060593), np.float64(0.9814126888910929), np.float64(0.6926065906882286), np.float64(0.6273494636019071), np.float64(0.7808848122755686), np.float64(0.6670287946859995), np.float64(0.9270110726356506), np.float64(0.46668635308742523), np.float64(0.6402112245559692), np.float64(0.5619450664768616), np.float64(0.5693875985840956), np.float64(0.6549364986519018), np.float64(0.8438627322514852), np.float64(0.5322529623905817), np.float64(0.6632161705444256), np.float64(0.63367352510492), np.float64(0.6760665060331424), np.float64(0.6672424599528313), np.float64(0.7128524171809355), np.float64(0.6591082066297531), np.float64(0.6514942099650701), np.float64(0.7813387811183929), np.float64(0.7257376673320929), np.float64(0.6852116696536541), np.float64(0.9947975178559622), np.float64(0.6796741696695486), np.float64(0.7876643935839335), np.float64(0.5301970119277636), np.float64(0.9228950540224711), np.float64(0.6315157370020946), np.float64(0.859945168097814), np.float64(0.9567546447118124), np.float64(0.8219052950541178), np.float64(0.7423353393872579), np.float64(0.5581085830926895), np.float64(0.670311393837134), np.float64(0.6330401500066122), np.float64(0.8203995625178019), np.float64(0.8447214563687643), np.float64(0.6821401367584864), np.float64(0.7110631267229716), np.float64(0.6708124379316965), np.float64(0.6415828516085943), np.float64(0.6058268025517464), np.float64(0.5413627115388712), np.float64(0.5700471321518611), np.float64(0.6856574962536494), np.float64(0.7514768826464812), np.float64(0.5997888818383217), np.float64(0.5410791312654814), np.float64(0.764159565170606), np.float64(0.6615486567219099), np.float64(0.5981494536002477), np.float64(0.9429003695646921), np.float64(0.7457571973403295), np.float64(0.6851217945416769), np.float64(0.6608034571011862), np.float64(0.6258066495259603), np.float64(0.7579953869183859), np.float64(0.6980594502141079), np.float64(0.7599141243845224), np.float64(0.8457916378974915), np.float64(0.6511933008829752), np.float64(0.955651213725408), np.float64(0.9959194759527842), np.float64(0.6112633179873228), np.float64(0.8276285330454508), np.float64(0.9981184403101603), np.float64(0.8139957984288534), np.float64(0.8176015317440033), np.float64(0.6953272943695387), np.float64(0.657379686832428), np.float64(0.7419190357128779), np.float64(0.593847464149197), np.float64(0.611513781050841), np.float64(0.6250755048046509), np.float64(0.814894770582517), np.float64(0.7014176969726881), np.float64(0.9963093996047974), np.float64(0.9310209353764852), np.float64(0.5714346213887135), np.float64(0.6808746755123138), np.float64(0.6442838609218597), np.float64(0.5863490489621958), np.float64(0.7127307206392288), np.float64(0.7581035693486532), np.float64(0.6159128323197365), np.float64(0.5327977401514848), np.float64(0.6818130562702814), np.float64(0.7029158671696981), np.float64(0.5174991072465976), np.float64(0.6577175445854664), np.float64(0.6301760363082091), np.float64(0.9105721215407053), np.float64(0.738714262843132), np.float64(0.9956743816534678), np.float64(0.6843965351581573), np.float64(0.6686660355577866), np.float64(0.6031279303133488), np.float64(0.7306173046429952), np.float64(0.7255801657835642), np.float64(0.8687906066576639), np.float64(0.8442864120006561), np.float64(0.995997409025828), np.float64(0.6389004935820898), np.float64(0.9922830959161123), np.float64(0.6334764969845613), np.float64(0.765049159526825), np.float64(0.7835166454315186), np.float64(0.63632967757682), np.float64(0.6502497804661592), np.float64(0.5702276453375816), np.float64(0.9990970094998678), np.float64(0.6429563115040461), np.float64(0.6231125202029943), np.float64(0.48651358981927234), np.float64(0.730327152647078), np.float64(0.3095224431405465), np.float64(0.7660768330097198), np.float64(0.5813836796830097), np.float64(0.6283166718979677), np.float64(0.7800618956486384), np.float64(0.7909991256892681), np.float64(0.9057595531145731), np.float64(0.6539516896009445), np.float64(0.7300939957300822), np.float64(0.6038962913056215), np.float64(0.6506509042034546), np.float64(0.7225597724318504), np.float64(0.7697555596629778), np.float64(0.5600787869965037), np.float64(0.3865766734040032), np.float64(0.7617664337158203), np.float64(0.8841416736443838), np.float64(0.9826493461926779), np.float64(0.655701375255982), np.float64(0.6061796595652899), np.float64(0.6610845377047857), np.float64(0.5296196409811577), np.float64(0.6676528056462606), np.float64(0.7384001016616821), np.float64(0.7128144949674606), np.float64(0.5262628470857939), np.float64(0.688533873607715), np.float64(0.6693280351658663), np.float64(0.5544784938295683), np.float64(0.640431746840477), np.float64(0.5900107783575853), np.float64(0.7017325212558111), np.float64(0.7146338485181332), np.float64(0.7530056337515513), np.float64(0.632037249704202), np.float64(0.5960793569684029), np.float64(0.7262398830304543), np.float64(0.9803499182065328), np.float64(0.891212115685145), np.float64(0.9982608656088511), np.float64(0.6025416379173597), np.float64(0.6592170670628548), np.float64(0.5270249334474405), np.float64(0.651130755742391), np.float64(0.6766167022287846), np.float64(0.7579715934892496), np.float64(0.7693329751491547), np.float64(0.6561305789897839), np.float64(0.5703677038351694), np.float64(0.6344156600534916), np.float64(0.7978229522705078), np.float64(0.7919951180617014), np.float64(0.7350665032863617), np.float64(0.8847003877162933), np.float64(0.6081053130328655), np.float64(0.8143252482016882), np.float64(0.6607232863704363), np.float64(0.6869291129211584), np.float64(0.825490007797877), np.float64(0.9945870935916901), np.float64(0.656969603151083), np.float64(0.6760013742993275), np.float64(0.8449461062749227), np.float64(0.7123505373795828), np.float64(0.9410916765530905), np.float64(0.6727778725326061), np.float64(0.6276638607184092), np.float64(0.5960805571327606), np.float64(0.7564395765463511), np.float64(0.8173632125059763), np.float64(0.882858673731486), np.float64(0.9275973836580912), np.float64(0.569121116772294), np.float64(0.7985889663298925), np.float64(0.6272114229698976), np.float64(0.9984037578105927), np.float64(0.8359695076942444), np.float64(0.7103909899791082), np.float64(0.9944556256135305), np.float64(0.7964717447757721), np.float64(0.9899141689141592), np.float64(0.6784956430395445), np.float64(0.5907861385494471), np.float64(0.7841516584157944), np.float64(0.7763666212558746), np.float64(0.7012795209884644), np.float64(0.6996761467307806), np.float64(0.8631745378176371), np.float64(0.5681287373105685), np.float64(0.6277915891259909), np.float64(0.6222066804766655), np.float64(0.6539662294089794), np.float64(0.6124765202403069), np.float64(0.6574575106302897), np.float64(0.6208731879790624), np.float64(0.7572319159905115), np.float64(0.611791138847669), np.float64(0.9554118017355601), np.float64(0.5717071145772934), np.float64(0.6649175106237332), np.float64(0.5696184250215689), np.float64(0.6716061731179556), np.float64(0.7893476833899816), np.float64(0.6803883891552687), np.float64(0.9349373678366343), np.float64(0.6157388066252073), np.float64(0.6325503513216972), np.float64(0.733468492825826), np.float64(0.5831663453330597), np.float64(0.9974896907806396), np.float64(0.9992302060127258), np.float64(0.790510763724645), np.float64(0.8881855010986328), np.float64(0.6621937602758408), np.float64(0.5498614733417829), np.float64(0.604860090961059), np.float64(0.6825572935243448), np.float64(0.7727601329485575), np.float64(0.7697293063004812), np.float64(0.9294020533561707), np.float64(0.9575044910113016), np.float64(0.6760770864784718), np.float64(0.6731573740641276), np.float64(0.5813332721590996), np.float64(0.573329646140337), np.float64(0.7197572700679302), np.float64(0.8026585777600607), np.float64(0.6019359081983566), np.float64(0.9948330024878184), np.float64(0.7310846497615179), np.float64(0.564787911872069), np.float64(0.9827341636021932), np.float64(0.686289777358373), np.float64(0.849899172782898), np.float64(0.5724862174441417), np.float64(0.6742536127567291), np.float64(0.6481861894329389), np.float64(0.9955932597319285), np.float64(0.7113563989599546), np.float64(0.5550480037927628), np.float64(0.7069069730738798), np.float64(0.613149031996727), np.float64(0.8717640141646067), np.float64(0.8144373993078867), np.float64(0.5660054925829172), np.float64(0.6849872047702471), np.float64(0.8960054715474447), np.float64(0.7817167639732361), np.float64(0.6808288854857286), np.float64(0.6678562617550293), np.float64(0.6008331986765066), np.float64(0.8314208636681238), np.float64(0.6912354379892349), np.float64(0.2975727207958698), np.float64(0.5868179127573967), np.float64(0.611482764283816), np.float64(0.6799649248520533), np.float64(0.647413524488608), np.float64(0.7144669064631065), np.float64(0.9983955919742584), np.float64(0.9549818833669027), np.float64(0.6284960607687632), np.float64(0.569226186722517), np.float64(0.6476084999740124), np.float64(0.3453969272474448), np.float64(0.9639396568139394), np.float64(0.8207577715317408), np.float64(0.9539894163608551), np.float64(0.810069223244985), np.float64(0.7537495493888855), np.float64(0.6252839621156454), np.float64(0.706879261881113), np.float64(0.570326737438639), np.float64(0.7654614051183065), np.float64(0.7115499085436264), np.float64(0.7121412890652815), np.float64(0.7988452712694804), np.float64(0.6863215354581674), np.float64(0.6799387087424597), np.float64(0.6681878666083018), np.float64(0.5703255012631416), np.float64(0.5796863703678051), np.float64(0.5989574772926668), np.float64(0.9982698162396749), np.float64(0.5814475292960802), np.float64(0.6733371478815874), np.float64(0.6594481232265631), np.float64(0.6116483372946581), np.float64(0.5368262976408005), np.float64(0.6412100965778033), np.float64(0.8311629692713419), np.float64(0.9721707105636597), np.float64(0.5209721879412731), np.float64(0.6480750559518734), np.float64(0.710552342236042), np.float64(0.9732574721177419), np.float64(0.6356514773021141), np.float64(0.7138715138038), np.float64(0.6849321958919367), np.float64(0.6492615714669228), np.float64(0.6358677440633377), np.float64(0.5870468424012264), np.float64(0.9077759484450022), np.float64(0.7019326550265154), np.float64(0.5609089930852255), np.float64(0.7705611089865366), np.float64(0.6930156350135803), np.float64(0.8582662443319956), np.float64(0.7527697483698527), np.float64(0.6978986834486326), np.float64(0.983812133471171), np.float64(0.6900221904118856), np.float64(0.9983604152997335), np.float64(0.5643026220301787), np.float64(0.8147149980068207), np.float64(0.7356959717969099), np.float64(0.9421816070874532), np.float64(0.6436161094655594), np.float64(0.6138412629564604), np.float64(0.6831883291403452), np.float64(0.63212800770998), np.float64(0.6433103984842697), np.float64(0.6923331096768379), np.float64(0.6360070786128441), np.float64(0.7263003389040629), np.float64(0.5682291239500046), np.float64(0.6927040169636408), np.float64(0.8707647621631622), np.float64(0.709801875675718), np.float64(0.8130312561988831), np.float64(0.7672200550635656), np.float64(0.9201231102148691), np.float64(0.7274574041366577), np.float64(0.625681551794211), np.float64(0.44807865284383297), np.float64(0.6139686984630922), np.float64(0.6719293060402075), np.float64(0.6826297243436178), np.float64(0.9970242579778036), np.float64(0.8595004479090372), np.float64(0.7868667791287104), np.float64(0.6584293519457182), np.float64(0.7019901437064012), np.float64(0.7983740717172623), np.float64(0.5780747346580029), np.float64(0.6148031949996948), np.float64(0.494198814034462), np.float64(0.880269467830658), np.float64(0.7892284939686457), np.float64(0.9008241991202036), np.float64(0.5975597053766251), np.float64(0.6954424008727074), np.float64(0.7610633025566736), np.float64(0.583565641194582), np.float64(0.7219201686481634), np.float64(0.7970516284306844), np.float64(0.6537571536997954), np.float64(0.681524652056396), np.float64(0.6932049045960108), np.float64(0.6894261998434862), np.float64(0.6071994341909885), np.float64(0.6411804209152857), np.float64(0.5936427551011244), np.float64(0.6165159543355306), np.float64(0.6628550539414088), np.float64(0.6166671328246593), np.float64(0.7417291781554619), np.float64(0.5986950285732746), np.float64(0.7831365068753561), np.float64(0.9992108643054962), np.float64(0.6828556563705206), np.float64(0.8353739281495413), np.float64(0.6580014750361443), np.float64(0.7932049383719763), np.float64(0.7477416768670082), np.float64(0.6958979095021883), np.float64(0.669394231090943), np.float64(0.7041783183813095), np.float64(0.5812132178495327), np.float64(0.6812625875075659), np.float64(0.6640108674764633), np.float64(0.6014756051202615), np.float64(0.655677684272329), np.float64(0.7109805184106032), np.float64(0.7991793006658554), np.float64(0.6613634576400121), np.float64(0.6508067846298218), np.float64(0.966758519411087), np.float64(0.6094443077842394), np.float64(0.7276507690548897), np.float64(0.5806189017991225), np.float64(0.6359433519343535), np.float64(0.6717347713808218), np.float64(0.6487875133752823), np.float64(0.9943724572658539), np.float64(0.9951412578423818), np.float64(0.6521501702566942), np.float64(0.6451189170281092), np.float64(0.8493958512941996), np.float64(0.686530222495397), np.float64(0.700713861733675), np.float64(0.538101085772117), np.float64(0.7260258545478185), np.float64(0.9777309993902842), np.float64(0.9983140627543131), np.float64(0.6007750568290552), np.float64(0.6564434530834357), np.float64(0.8246562878290812), np.float64(0.6862209215760231), np.float64(0.7999561826388041), np.float64(0.7005222539107004), np.float64(0.9557298322518667), np.float64(0.8620794316132864), np.float64(0.6695968608061472), np.float64(0.6869285056988398), np.float64(0.6467364827791849), np.float64(0.6072374309102694), np.float64(0.6197206731885672), np.float64(0.8612940808137258), np.float64(0.9753158191839854), np.float64(0.6455140244215727), np.float64(0.9979178110758463), np.float64(0.6192369908094406), np.float64(0.6239797404656807), np.float64(0.69390007853508), np.float64(0.8002057075500488), np.float64(0.5897625361879667), np.float64(0.94749183456103), np.float64(0.9866174161434174), np.float64(0.6334547810256481), np.float64(0.6049657861391703), np.float64(0.5969556340326866), np.float64(0.710061884795626), np.float64(0.9989947577317556), np.float64(0.798772007226944), np.float64(0.5568437203764915), np.float64(0.5926106224457423), np.float64(0.6726957360903422), np.float64(0.6007884008189043), np.float64(0.6713305239876112), np.float64(0.6357822561015686), np.float64(0.9833354850610098), np.float64(0.574035756289959), np.float64(0.7879076898097992), np.float64(0.6260809674859047), np.float64(0.7499123712380728), np.float64(0.7623896499474844), np.float64(0.599099287763238), np.float64(0.6420411566893259), np.float64(0.7676990386098623), np.float64(0.8429379761219025), np.float64(0.7743410219748815), np.float64(0.6709684357047081), np.float64(0.7742022921641668), np.float64(0.7829615275065104), np.float64(0.6661678304274877), np.float64(0.895926853020986), np.float64(0.7290686828394731), np.float64(0.9506159722805023), np.float64(0.5836269203573465), np.float64(0.6713665326436361), np.float64(0.5968314533432325), np.float64(0.6301903892308474), np.float64(0.6650793844213089), np.float64(0.6939010272423426), np.float64(0.6817006195584933), np.float64(0.6240056678652763), np.float64(0.5629141982644796), np.float64(0.9510345260302225), np.float64(0.6889814374347528), np.float64(0.7157553515086571), np.float64(0.7050550282001495), np.float64(0.6756503793100516), np.float64(0.7174791345993677), np.float64(0.7988842030366262), np.float64(0.9940507213274637), np.float64(0.6828552484512329), np.float64(0.634233737985293), np.float64(0.692971388498942), np.float64(0.5883706857760748), np.float64(0.6709813425938288), np.float64(0.7766200403372446), np.float64(0.7248735825220743), np.float64(0.6581319520870844), np.float64(0.6499670396248499), np.float64(0.6834767038623492), np.float64(0.9704901973406473), np.float64(0.9929951826731364), np.float64(0.8023823002974192), np.float64(0.7712942262490591), np.float64(0.9970808128515879), np.float64(0.626601830124855), np.float64(0.6842877566814423), np.float64(0.7067643453677496), np.float64(0.4545368089651068), np.float64(0.6799048595130444), np.float64(0.5998730218658844), np.float64(0.5973219343771538), np.float64(0.5830330501000086), np.float64(0.7127153128385544), np.float64(0.9992286860942841), np.float64(0.6378873636325201), np.float64(0.6718736688296), np.float64(0.997856467962265), np.float64(0.6564434530834357), np.float64(0.9169771174589793), np.float64(0.5615594865133365), np.float64(0.7544338454802831), np.float64(0.6169426615039507), np.float64(0.897609700759252), np.float64(0.6036615744233131), np.float64(0.5791505022595326), np.float64(0.6999906847874323), np.float64(0.5751665215939283), np.float64(0.7299183929959933), np.float64(0.7807754725217819), np.float64(0.6099539001782736), np.float64(0.6028565466403961), np.float64(0.6670647164185842), np.float64(0.5627390841643015), np.float64(0.5956841756900152), np.float64(0.6712845414876938), np.float64(0.7121450106302897), np.float64(0.6853116825222969), np.float64(0.587979823971788), np.float64(0.9286093711853027), np.float64(0.998219778140386), np.float64(0.5841277788082758), np.float64(0.9972584148248037), np.float64(0.7151915480693182), np.float64(0.714079350233078), np.float64(0.649292546013991), np.float64(0.7771850327650706), np.float64(0.6539530058701833), np.float64(0.8024567564328512), np.float64(0.6035438627004623), np.float64(0.6621037591248751), np.float64(0.7798583507537842), np.float64(0.6908296955128511), np.float64(0.6543411910533905), np.float64(0.618297673140963), np.float64(0.710061884795626), np.float64(0.6343286509315172), np.float64(0.7015391290187836), np.float64(0.767237409328421), np.float64(0.7506453990936279), np.float64(0.8462061882019043), np.float64(0.7164606911440691), np.float64(0.41362255563338596), np.float64(0.9635945757230123), np.float64(0.6921116684873899), np.float64(0.5637325172622999), np.float64(0.7368642625709375), np.float64(0.8222988893588384), np.float64(0.5859778219213089), np.float64(0.7104628110925356), np.float64(0.709310102276504), np.float64(0.5934614402552446), np.float64(0.6887132469564676), np.float64(0.6916954629123211), np.float64(0.8840714991092682), np.float64(0.9937926828861237), np.float64(0.6931658647954464), np.float64(0.9742844005425771), np.float64(0.7121255695819855), np.float64(0.633667970697085), np.float64(0.5678872590263685), np.float64(0.6119347165028254), np.float64(0.6780385952442884), np.float64(0.716658795873324), np.float64(0.994778573513031), np.float64(0.7990283966064453), np.float64(0.7189594333370527), np.float64(0.6430256869643927), np.float64(0.6748641207814217), np.float64(0.6442792241772016), np.float64(0.5524487209816774), np.float64(0.7150713012864193), np.float64(0.8159291843573252), np.float64(0.6987042501568794), np.float64(0.9613566597302755), np.float64(0.614171177148819), np.float64(0.6419808442393938), np.float64(0.9489943385124207), np.float64(0.7208190858364105), np.float64(0.7107863960166773), np.float64(0.6880855758984884), np.float64(0.6623564449449381), np.float64(0.6399258673191071), np.float64(0.9972299834092458), np.float64(0.7513818144798279), np.float64(0.5900976993143559), np.float64(0.6527888315419356), np.float64(0.6154447558025519), np.float64(0.6535570484896501), np.float64(0.7013880237936974), np.float64(0.8133868078390757), np.float64(0.6731561434765657), np.float64(0.7838055988152822), np.float64(0.9642804563045502), np.float64(0.725319642573595), np.float64(0.5789810648808876), np.float64(0.5640615522861481), np.float64(0.928349107503891), np.float64(0.5517239164716253), np.float64(0.8978467285633087), np.float64(0.5685971062630415), np.float64(0.6892313087979952), np.float64(0.5546144433319569), np.float64(0.6139220347007116), np.float64(0.6404954592386881), np.float64(0.6658487766981125), np.float64(0.5683778865883747), np.float64(0.6849478371441364), np.float64(0.5821611726035675), np.float64(0.6549657164141536), np.float64(0.7734781155983607), np.float64(0.9984502991040548), np.float64(0.6852383563915888), np.float64(0.9166230857372284), np.float64(0.5581085830926895), np.float64(0.5766728408634663), np.float64(0.7391024231910706), np.float64(0.933175394932429), np.float64(0.7577747746060292), np.float64(0.49788622309764224), np.float64(0.7518948490420977), np.float64(0.6035341198245684), np.float64(0.6714344670375189), np.float64(0.644699235757192), np.float64(0.5287942141294479), np.float64(0.5709451834360758), np.float64(0.2313178200274706), np.float64(0.7892594039440155), np.float64(0.7269294137756029), np.float64(0.8239255050818125), np.float64(0.950396200021108), np.float64(0.995422234137853), np.float64(0.7307478164633116), np.float64(0.8997321128845215), np.float64(0.7611668140937885), np.float64(0.681930985301733), np.float64(0.6332750121752421), np.float64(0.6508174712459246), np.float64(0.702741339802742), np.float64(0.5882565565407276), np.float64(0.6377976288398107), np.float64(0.698936328291893), np.float64(0.5792719088494778), np.float64(0.7673585352798303), np.float64(0.7626713613669077), np.float64(0.6863803043961525), np.float64(0.9832937816778818), np.float64(0.7936174919207891), np.float64(0.8042502105236053), np.float64(0.8730152050654093), np.float64(0.9413637220859528), np.float64(0.5888585572441419), np.float64(0.6082052458077669), np.float64(0.9411712090174357), np.float64(0.7455568859974543), np.float64(0.6107281899700562), np.float64(0.7016156017780304), np.float64(0.8813384075959524), np.float64(0.589676863203446), np.float64(0.8136261999607086), np.float64(0.8178873956203461), np.float64(0.6968475182851156), np.float64(0.9365102251370748), np.float64(0.6617961128552755), np.float64(0.6977569392571846), np.float64(0.9992231925328573), np.float64(0.658455033476154), np.float64(0.6179286614060402), np.float64(0.7037133673826853), np.float64(0.5981074286003908), np.float64(0.9992211063702902), np.float64(0.6454025929172834), np.float64(0.6532638520002365), np.float64(0.5998577785988649), np.float64(0.9979516764481863), np.float64(0.6706250607967377), np.float64(0.9933409293492635), np.float64(0.9963558912277222), np.float64(0.7258331229289373), np.float64(0.7052402043094238), np.float64(0.6023079076160988), np.float64(0.8027432262897491), np.float64(0.6891006355484327), np.float64(0.6526750034342209), np.float64(0.6980973854660988), np.float64(0.698569267988205), np.float64(0.7069402436415354), np.float64(0.6322576018671194), np.float64(0.9549127121766409), np.float64(0.9559707542260488), np.float64(0.5483769935866197), np.float64(0.4612920718888442), np.float64(0.8770891427993774), np.float64(0.7624835024277369), np.float64(0.9472194314002991), np.float64(0.6606577156732479), np.float64(0.5913543254137039), np.float64(0.9975906610488892), np.float64(0.5834124771257242), np.float64(0.8836836715539297), np.float64(0.9734728336334229), np.float64(0.7183073063691457), np.float64(0.7877570738395056), np.float64(0.6675016495088736), np.float64(0.6606665384024382), np.float64(0.7098266010483106), np.float64(0.5872987862676382), np.float64(0.6340049908806881), np.float64(0.7085545857747396), np.float64(0.6783190170923868), np.float64(0.9647227724393209), np.float64(0.5958739469448725), np.float64(0.6673345447828373), np.float64(0.873926967382431), np.float64(0.6119005233049393), np.float64(0.6579402548571428), np.float64(0.702028714120388), np.float64(0.8858578403790792), np.float64(0.7736311703920364), np.float64(0.9984373450279236), np.float64(0.9101795752843221), np.float64(0.712027981877327), np.float64(0.5658799211184183), np.float64(0.3065286558121443), np.float64(0.870590994755427), np.float64(0.7393864095211029), np.float64(0.570585560053587), np.float64(0.5808116433521112), np.float64(0.57771060988307), np.float64(0.6488939300179482), np.float64(0.6053178074459235), np.float64(0.9453738629817963), np.float64(0.7986174821853638), np.float64(0.5852499846369028), np.float64(0.5197774426390728), np.float64(0.5856106337159872), np.float64(0.6621178655574719), np.float64(0.7451171875), np.float64(0.8427009582519531), np.float64(0.7319166362285614), np.float64(0.6300889849662781), np.float64(0.7877490222454071), np.float64(0.5522065361340841), np.float64(0.9992404679457346), np.float64(0.7224537755052248), np.float64(0.6661755815148354), np.float64(0.6654106030861536), np.float64(0.6921986403564612), np.float64(0.6473842610915502), np.float64(0.7569670130809149), np.float64(0.9877529740333557), np.float64(0.5850492815176646), np.float64(0.6115774114926656), np.float64(0.7762986073891321), np.float64(0.5836692688365778), np.float64(0.5774365017811457), np.float64(0.6751421677569548), np.float64(0.800973062713941), np.float64(0.5733861178159714), np.float64(0.6268230974674225), np.float64(0.6897505049904188), np.float64(0.6177063795427481), np.float64(0.6833827743927637), np.float64(0.7197053010265032), np.float64(0.6674482884506384), np.float64(0.6600679407517115), np.float64(0.6887414405743281), np.float64(0.7248857120672861), np.float64(0.49461262797315914), np.float64(0.6527462614079317), np.float64(0.5797817055135965), np.float64(0.6965232839186987), np.float64(0.7819432218869528), np.float64(0.7994391918182373), np.float64(0.670779462903738), np.float64(0.6386317933599154), np.float64(0.5835239564379057), np.float64(0.6309530089298884), np.float64(0.6714162603020668), np.float64(0.6660771376142899), np.float64(0.7162614812453588), np.float64(0.9798694849014282), np.float64(0.7663161953290304), np.float64(0.541081078350544), np.float64(0.9501591920852661), np.float64(0.7376984606186548), np.float64(0.363133913022466), np.float64(0.6845436841249466), np.float64(0.7808361848195394), np.float64(0.7863427152236303), np.float64(0.6086961179971695), np.float64(0.5742728803306818), np.float64(0.9199586311976115), np.float64(0.667304923137029), np.float64(0.5783517453819513), np.float64(0.9658761421839396), np.float64(0.7422777116298676), np.float64(0.9564438660939535), np.float64(0.770524392525355), np.float64(0.5781110810736815), np.float64(0.6443583207825819), np.float64(0.4000662701825301), np.float64(0.7270621876232326), np.float64(0.6220328013102213), np.float64(0.6038441068182389), np.float64(0.5386099144816399), np.float64(0.6814064979553223), np.float64(0.6307921924938759), np.float64(0.769317239522934), np.float64(0.7779613137245178), np.float64(0.7134682983160019), np.float64(0.8755024373531342), np.float64(0.5267068644364675), np.float64(0.9289525349934896), np.float64(0.6324224385122458), np.float64(0.9968773623307546), np.float64(0.7011664534608523), np.float64(0.7792096783717474), np.float64(0.6853996353844801), np.float64(0.9992252190907797), np.float64(0.9839159349600474), np.float64(0.9946264525254568), np.float64(0.9986212352911631), np.float64(0.599686556806167), np.float64(0.701598696410656), np.float64(0.8248461882273356), np.float64(0.661181186636289), np.float64(0.5702498313039541), np.float64(0.7171351971725622), np.float64(0.8900534709294637), np.float64(0.9614134033521017), np.float64(0.9850375354290009), np.float64(0.3539663255214691), np.float64(0.7718991935253143), np.float64(0.6509856184323629), np.float64(0.8131093482176462), np.float64(0.7478581219911575), np.float64(0.7332609668374062), np.float64(0.5476762593413392), np.float64(0.5692009081443151), np.float64(0.6206653018792471), np.float64(0.622966275860866), np.float64(0.656853973865509), np.float64(0.6929901813467344), np.float64(0.5893768755098184), np.float64(0.7278349200884501), np.float64(0.8258597254753113), np.float64(0.5544634523491064), np.float64(0.6963423565030098), np.float64(0.8243441482385), np.float64(0.5975572870423397), np.float64(0.719986234481136), np.float64(0.9941808978716532), np.float64(0.455374538898468), np.float64(0.9964125951131185), np.float64(0.755968044201533), np.float64(0.6521399058401585), np.float64(0.7135550584644079), np.float64(0.549462546284), np.float64(0.6197846184174219), np.float64(0.8525070746739706), np.float64(0.5958715950449308), np.float64(0.5955395152171453), np.float64(0.654737800359726), np.float64(0.672350545724233), np.float64(0.27786964178085327), np.float64(0.8319897949695587), np.float64(0.9863381683826447), np.float64(0.6817253977060318), np.float64(0.9982534249623617), np.float64(0.6024486230065426), np.float64(0.6074932217597961), np.float64(0.5355336212863525), np.float64(0.6275363701085249), np.float64(0.6889713108539581), np.float64(0.24294947305073342), np.float64(0.657915989557902), np.float64(0.7875706056753794), np.float64(0.5700971738745769), np.float64(0.9940740168094635), np.float64(0.942162295182546), np.float64(0.7390640179316202), np.float64(0.6533099810282389), np.float64(0.6031511078278223), np.float64(0.6863693644603094), np.float64(0.47885998090108234), np.float64(0.6474785010019938), np.float64(0.9564330875873566), np.float64(0.668674203256766), np.float64(0.3580986512824893), np.float64(0.6513746480147043), np.float64(0.7330295393864313), np.float64(0.5905094699313244), np.float64(0.7536965310573578), np.float64(0.6245471611618996), np.float64(0.6269871940215429), np.float64(0.9520207345485687), np.float64(0.7077748030424118), np.float64(0.6667226540545622), np.float64(0.604557249074181), np.float64(0.7351705208420753), np.float64(0.7992894848187765), np.float64(0.6007487984995047), np.float64(0.7030024814109007), np.float64(0.5231840877483288), np.float64(0.6516794164975485), np.float64(0.6145225117603937), np.float64(0.7137002944946289), np.float64(0.6163026417295138), np.float64(0.6832210545738538), np.float64(0.7245518093307813), np.float64(0.25270714215002954), np.float64(0.8229077259699503), np.float64(0.8352660834789276), np.float64(0.6727973024050394), np.float64(0.7882421016693115), np.float64(0.7056108315785726), np.float64(0.786164919535319), np.float64(0.7055826472739378), np.float64(0.5743008541564146), np.float64(0.7467578512926897), np.float64(0.5957634883622328), np.float64(0.6578157308200995), np.float64(0.7183686668674151), np.float64(0.9895771443843842), np.float64(0.9992287258307139), np.float64(0.6049110516905785), np.float64(0.6872014552354813), np.float64(0.7619445770978928), np.float64(0.6217713908602794), np.float64(0.21559508269031843), np.float64(0.9410640696684519), np.float64(0.6815297231078148), np.float64(0.6969912399848303), np.float64(0.9344166119893392), np.float64(0.7321836153666178), np.float64(0.5955450994273027), np.float64(0.5379414412503442), np.float64(0.9992358883221945), np.float64(0.6225723226865133), np.float64(0.6445069350302219), np.float64(0.5817744359374046), np.float64(0.8010276257991791), np.float64(0.6595147301753362), np.float64(0.6227928356577953), np.float64(0.884712944428126), np.float64(0.8192924857139587), np.float64(0.5443155722071727), np.float64(0.6858327003816763), np.float64(0.810738538702329), np.float64(0.6051956564188004), np.float64(0.7705862217893203), np.float64(0.6816974356770515), np.float64(0.7191637971748909), np.float64(0.6911462694406509), np.float64(0.6695581202705702), np.float64(0.9077094296614329), np.float64(0.6300948361555735), np.float64(0.9783252875010172), np.float64(0.6973866745829582), np.float64(0.9036687811215719), np.float64(0.6922420350213846), np.float64(0.6514845689137777), np.float64(0.5805761087685823), np.float64(0.7983664075533549), np.float64(0.7215656843036413), np.float64(0.6747950712839762), np.float64(0.6413114840785662), np.float64(0.6283305839945873), np.float64(0.6928964853286743), np.float64(0.571819469332695), np.float64(0.5305343791842461), np.float64(0.7207471430301666), np.float64(0.6899096270402273), np.float64(0.6859965920448303), np.float64(0.7062564548105001), np.float64(0.6427877601236105), np.float64(0.8440357546011606), np.float64(0.703184982140859), np.float64(0.6053071667750677), np.float64(0.9159324864546458), np.float64(0.7241908510526022), np.float64(0.9350884159406027), np.float64(0.6223841278503338), np.float64(0.6603300708035628), np.float64(0.6846551913768053), np.float64(0.8011996547381083), np.float64(0.6205962051947912), np.float64(0.7554581264654795), np.float64(0.6965548271934191), np.float64(0.6292500992616018), np.float64(0.7704944908618927), np.float64(0.5534258174399534), np.float64(0.5730809674908718), np.float64(0.7466922886669636), np.float64(0.803687334060669), np.float64(0.3925456181168556), np.float64(0.7198476083576679), np.float64(0.682841827472051), np.float64(0.7042984322955211), np.float64(0.6958471313118935), np.float64(0.7155882902443409), np.float64(0.5866774767637253), np.float64(0.6157055404037237), np.float64(0.9958623647689819), np.float64(0.684204618136088), np.float64(0.7676813105742136), np.float64(0.6335378165046374), np.float64(0.45127150416374207), np.float64(0.831138513982296), np.float64(0.6678483585516611), np.float64(0.6856415017197529), np.float64(0.7635728760312), np.float64(0.742001473903656), np.float64(0.694792536397775), np.float64(0.9021776715914408), np.float64(0.9417211512724558), np.float64(0.8465814491113027), np.float64(0.6877276847759882), np.float64(0.6263670275608698), np.float64(0.7143969039122263), np.float64(0.7014655272165934), np.float64(0.9191179474194845), np.float64(0.6650749407708645), np.float64(0.35698073357343674), np.float64(0.715413361787796), np.float64(0.6462566399325927), np.float64(0.6123342464367548), np.float64(0.8113461608688036), np.float64(0.6511431634426117), np.float64(0.7138663288205862), np.float64(0.6758946354190508), np.float64(0.6484302443762621), np.float64(0.6625783095757166), np.float64(0.732234368721644), np.float64(0.9009943008422852), np.float64(0.7662192856272062), np.float64(0.5998577785988649), np.float64(0.575785064448913), np.float64(0.6983664954702059), np.float64(0.8558483769496282), np.float64(0.7147179295619329), np.float64(0.6276138896743456), np.float64(0.6044698109229406), np.float64(0.5205975125233332), np.float64(0.536281997958819), np.float64(0.6912017315626144), np.float64(0.6643717288970947), np.float64(0.6223052541414896), np.float64(0.8268081843852997), np.float64(0.6123146520306667), np.float64(0.6100908368825912), np.float64(0.9233782390753428), np.float64(0.7007350971301397), np.float64(0.7374164294451475), np.float64(0.35337246892352897), np.float64(0.6689888723194599), np.float64(0.6729474626481533), np.float64(0.7607181568940481), np.float64(0.6665024906396866), np.float64(0.661289835969607), np.float64(0.682557187974453), np.float64(0.6471969025830427), np.float64(0.9856078326702118), np.float64(0.7700617810090383), np.float64(0.6140273412068685), np.float64(0.5679883702347676), np.float64(0.9956543743610382), np.float64(0.9040890534718832), np.float64(0.6049115943411986), np.float64(0.6617518030107021), np.float64(0.7429977158705393), np.float64(0.878075897693634), np.float64(0.9910286863644918), np.float64(0.6588549073785543), np.float64(0.6051533526430527), np.float64(0.6837040993074576), np.float64(0.6012621780003732), np.float64(0.8040694892406464), np.float64(0.8090690473715464), np.float64(0.7153692990541458), np.float64(0.6884464671214422), np.float64(0.6795633112390836), np.float64(0.5700917157034079), np.float64(0.6271698698401451), np.float64(0.6895703176657358), np.float64(0.6880775143702825), np.float64(0.6890599777301153), np.float64(0.5670456532388926), np.float64(0.6823249583443006), np.float64(0.7611228140691916), np.float64(0.9153759082158407), np.float64(0.7351616521676382), np.float64(0.6456777018805345), np.float64(0.6479953564703465), np.float64(0.6268995751937231), np.float64(0.6450745426118374), np.float64(0.5821611726035675), np.float64(0.6585667493442694), np.float64(0.6012228478988012), np.float64(0.8990996579329172), np.float64(0.5833116279294094), np.float64(0.7964841922124227), np.float64(0.5193884993592898), np.float64(0.7494307855765024), np.float64(0.8370817999045054), np.float64(0.8178321172793707), np.float64(0.7481481929620107), np.float64(0.6833026533325514), np.float64(0.8158149023850759), np.float64(0.39211364431927603), np.float64(0.9899277985095978), np.float64(0.68097676957647), np.float64(0.6317684048165878), np.float64(0.8136059741179148), np.float64(0.6770182649294535), np.float64(0.6977689862251282), np.float64(0.7667347335567077), np.float64(0.7331980218489965), np.float64(0.998026967048645), np.float64(0.593085507551829), np.float64(0.5875157229602337), np.float64(0.7183373620112737), np.float64(0.813317189613978), np.float64(0.6608549946298202), np.float64(0.8685170114040375), np.float64(0.6013819252451261), np.float64(0.6704648981491724), np.float64(0.9982229272524515), np.float64(0.5976317543536425), np.float64(0.8179455002148946), np.float64(0.8971094985802969), np.float64(0.6819334079821905), np.float64(0.9416051506996155), np.float64(0.6090762081245581), np.float64(0.8121704359849294), np.float64(0.6288809229930242), np.float64(0.6687656839688619), np.float64(0.5739273019134998), np.float64(0.6395526876052221), np.float64(0.6948594798644384), np.float64(0.753163143992424), np.float64(0.8747823536396027), np.float64(0.5810096009323994), np.float64(0.5787607605258623), np.float64(0.8066962659358978), np.float64(0.6942527343829473), np.float64(0.6331595784674088), np.float64(0.6584185014168421), np.float64(0.766630599896113), np.float64(0.7604437122742335), np.float64(0.6880071355650822), np.float64(0.9630910952885946), np.float64(0.6553244019548098), np.float64(0.6672086169322332), np.float64(0.6690907112012306), np.float64(0.5930090397596359), np.float64(0.630734887594978), np.float64(0.7167806047946215), np.float64(0.899791955947876), np.float64(0.7323421637217203), np.float64(0.6544395666569471), np.float64(0.7239812860886256), np.float64(0.590662824610869), np.float64(0.6339256490270296), np.float64(0.6405066251754761), np.float64(0.7378370563189188), np.float64(0.9496259490648905), np.float64(0.7087329135586818), np.float64(0.8158692816893259), np.float64(0.5357243493199348), np.float64(0.967250237862269), np.float64(0.8229163587093353), np.float64(0.5918803910414377), np.float64(0.6417746674269438), np.float64(0.9976514279842377), np.float64(0.7452925443649292), np.float64(0.6003929780175289), np.float64(0.5913866087794304), np.float64(0.8693741261959076), np.float64(0.8774266839027405), np.float64(0.6804567451278368), np.float64(0.5813924707472324), np.float64(0.9880714813868204), np.float64(0.6104444582015276), np.float64(0.6754432835926613), np.float64(0.7067068467537562), np.float64(0.7069215339918932), np.float64(0.9946297109127045), np.float64(0.7378736287355423), np.float64(0.9959887464841207), np.float64(0.6532738395035267), np.float64(0.8818121751149496), np.float64(0.9716979662577311), np.float64(0.6981711412469546), np.float64(0.5938779463370641), np.float64(0.6997454551359018), np.float64(0.7246862302223841), np.float64(0.9288481076558431), np.float64(0.8935531675815582), np.float64(0.630833621447285), np.float64(0.7818488826354345), np.float64(0.5676924989481146), np.float64(0.5887147213021914), np.float64(0.9960164030392965), np.float64(0.7178324858347574), np.float64(0.9418192307154337), np.float64(0.6946521351734797), np.float64(0.6981964136163393), np.float64(0.6999336207906405), np.float64(0.7906691059470177), np.float64(0.6039829850196838), np.float64(0.7183667942881584), np.float64(0.7863705654939016), np.float64(0.6175352719922861), np.float64(0.7237314991652966), np.float64(0.9731980363527933), np.float64(0.9878452320893606), np.float64(0.4418174972136815), np.float64(0.8678809603055319), np.float64(0.9948207636674246), np.float64(0.534627228975296), np.float64(0.6121742141743501), np.float64(0.7878308445215225), np.float64(0.6903064772486687), np.float64(0.6580588718255361), np.float64(0.727385625243187), np.float64(0.7649496893088022), np.float64(0.8047189513842264), np.float64(0.6691556430111328), np.float64(0.6878155668576559), np.float64(0.7435679168750843), np.float64(0.9248404204845428), np.float64(0.7107281237840652), np.float64(0.5680748758216699), np.float64(0.5929332872231802), np.float64(0.6313661312063535), np.float64(0.7324019757409891), np.float64(0.9983911414941152), np.float64(0.7340080526967844), np.float64(0.9787096083164215), np.float64(0.5864514416704575), np.float64(0.6373444696267446), np.float64(0.9569338262081146), np.float64(0.6672621220350266), np.float64(0.6772839011003574), np.float64(0.6448654780785242), np.float64(0.67545693491896), np.float64(0.6568555260698), np.float64(0.6160926297307014), np.float64(0.8449426094690958), np.float64(0.7807748665412267), np.float64(0.6171808435271183), np.float64(0.6194359747072061), np.float64(0.670799675087134), np.float64(0.5665101073682308), np.float64(0.6011453879376253), np.float64(0.8852618932723999), np.float64(0.6878888693948587), np.float64(0.5528022435804208), np.float64(0.9486086070537567), np.float64(0.6862679347395897), np.float64(0.6584999362627665), np.float64(0.8304758816957474), np.float64(0.5739502652237812), np.float64(0.9844569762547811), np.float64(0.6690577448656162), np.float64(0.6012319282939037), np.float64(0.6591321788728237), np.float64(0.6871234526236852), np.float64(0.7150805046161016), np.float64(0.6760153509676456), np.float64(0.7182396203279495), np.float64(0.673895638436079), np.float64(0.6453355401754379), np.float64(0.6239729275306066), np.float64(0.9992297192414602), np.float64(0.8064097861448923), np.float64(0.7302182416121165), np.float64(0.9986455142498016), np.float64(0.7998030086358389), np.float64(0.672246469805638), np.float64(0.9675300319989523), np.float64(0.7553972999254862), np.float64(0.86617644627889), np.float64(0.7616424659887949), np.float64(0.7503846964488426), np.float64(0.43356370041146874), np.float64(0.9761260648568472), np.float64(0.7513487835725149), np.float64(0.8114978869756063), np.float64(0.5793504559745392), np.float64(0.682931171109279), np.float64(0.6090135034173727), np.float64(0.6925100882848104), np.float64(0.6748922852178415), np.float64(0.6566238819311062), np.float64(0.99879390001297), np.float64(0.7130551586548487), np.float64(0.6545149926096201), np.float64(0.7389938086271286), np.float64(0.9911477168401083), np.float64(0.47606565058231354), np.float64(0.573385930309693), np.float64(0.5815507962057987), np.float64(0.6531537845730782), np.float64(0.9985102514425913), np.float64(0.7082134851564964), np.float64(0.627220556139946), np.float64(0.7565631171067556), np.float64(0.700294858465592), np.float64(0.6379829654470086), np.float64(0.8384093741575877), np.float64(0.6681411353250345), np.float64(0.8950135012467703), np.float64(0.6992265532414118), np.float64(0.6679437185327212), np.float64(0.6123146520306667), np.float64(0.9938717981179556), np.float64(0.7852399150530497), np.float64(0.6045641538997492), np.float64(0.9200607736905416), np.float64(0.6847607056176154), np.float64(0.9965495566527048), np.float64(0.7828922768433889), np.float64(0.6693710039059321), np.float64(0.7613017037510872), np.float64(0.791467564801375), np.float64(0.9955911835034689), np.float64(0.643020028869311), np.float64(0.9992167949676514), np.float64(0.9979803264141083), np.float64(0.9807465970516205), np.float64(0.7971889873345693), np.float64(0.6907994225621223), np.float64(0.7372738818327585), np.float64(0.9950730303923289), np.float64(0.6736626966545979), np.float64(0.7254691024621328), np.float64(0.7428941801190376), np.float64(0.647461953262488), np.float64(0.718515525261561), np.float64(0.5655458631614844), np.float64(0.6450516196588675), np.float64(0.6914838018516699), np.float64(0.6032149555782477), np.float64(0.9935275812943777), np.float64(0.5993080244710048), np.float64(0.7469378560781479), np.float64(0.990816722313563), np.float64(0.719726829479138), np.float64(0.6448771779735883), np.float64(0.7664983073870341), np.float64(0.44558489322662354), np.float64(0.537392554183801), np.float64(0.7163378670811653), np.float64(0.9335206945737203), np.float64(0.5547590889036655), np.float64(0.7147284746170044), np.float64(0.6256929604957501), np.float64(0.6296641379594803), np.float64(0.8239622612794241), np.float64(0.6979536960522333), np.float64(0.7021159877379736), np.float64(0.6655462781588236), np.float64(0.8275641848643621), np.float64(0.8125971357027689), np.float64(0.5656521550069252), np.float64(0.9992125829060873), np.float64(0.6797440064450105), np.float64(0.5927553723255793), np.float64(0.643127099921306), np.float64(0.7991055945555369), np.float64(0.6570554797848066), np.float64(0.693517175813516), np.float64(0.9432654480139414), np.float64(0.6094461865723133), np.float64(0.6348016237219175), np.float64(0.6222387850284576), np.float64(0.8088262677192688), np.float64(0.6413876364628474), np.float64(0.731703894212842), np.float64(0.5944026758273443), np.float64(0.616683748861154), np.float64(0.6272621949513754), np.float64(0.633473036189874), np.float64(0.6762815105418364), np.float64(0.9655138254165649), np.float64(0.7344870766003927), np.float64(0.9584542512893677), np.float64(0.7752775450547537), np.float64(0.6024383356173834), np.float64(0.6874560142556826), np.float64(0.46258598069349927), np.float64(0.7017613177498182), np.float64(0.707696138570706), np.float64(0.7733233061929544), np.float64(0.8248346944650015), np.float64(0.8141328791777293), np.float64(0.441611868639787), np.float64(0.9434226950009664), np.float64(0.6810348723083735), np.float64(0.813053568204244), np.float64(0.671355688944459), np.float64(0.5738290951897701), np.float64(0.6222423476477464), np.float64(0.7677771101395289), np.float64(0.9130135575930277), np.float64(0.9302558402220408), np.float64(0.7331028071542581), np.float64(0.8025817374388377), np.float64(0.7126758818825086), np.float64(0.7629441122213999), np.float64(0.725958534826835), np.float64(0.666657122472922), np.float64(0.5879650488495827), np.float64(0.6874768597384294), np.float64(0.5457311499242982), np.float64(0.3126060585491359), np.float64(0.6507689158121744), np.float64(0.553426963587602), np.float64(0.9678601920604706), np.float64(0.9517882366975149), np.float64(0.7315135871370634), np.float64(0.9640738070011139), np.float64(0.7399777670701345), np.float64(0.6816723259786764), np.float64(0.6243990560372671), np.float64(0.6452776317795118), np.float64(0.6789780656496683), np.float64(0.39067600946873426), np.float64(0.6269635086258253), np.float64(0.5375744973619779), np.float64(0.6420540424684683), np.float64(0.910541812578837), np.float64(0.6687036156654358), np.float64(0.7387951910495758), np.float64(0.573329646140337), np.float64(0.5985197791208824), np.float64(0.556592588002483), np.float64(0.9374609688917795), np.float64(0.9197859664758047), np.float64(0.5626615267246962), np.float64(0.9970841606458029), np.float64(0.6214994142452875), np.float64(0.6502145901322365), np.float64(0.9006476501623789), np.float64(0.6042438664784034), np.float64(0.9575881759325663), np.float64(0.6637087042133013), np.float64(0.8152062594890594), np.float64(0.6120649017393589), np.float64(0.8154610395431519), np.float64(0.6985120922327042), np.float64(0.6033763854453961), np.float64(0.662192645172278), np.float64(0.5523524890692594), np.float64(0.734868789712588), np.float64(0.6140590980648994), np.float64(0.5363004356622696), np.float64(0.6581974923610687), np.float64(0.7940048947930336), np.float64(0.9984977841377258), np.float64(0.669123113155365), np.float64(0.5947577555974325), np.float64(0.9428514937559763), np.float64(0.929517904917399), np.float64(0.6092919328560432), np.float64(0.6434821039438248), np.float64(0.7850014319022497), np.float64(0.5100387136141459), np.float64(0.54790398478508), np.float64(0.6479220595210791), np.float64(0.6126489800711473), np.float64(0.6672062954554955), np.float64(0.9957758883635203), np.float64(0.6017710467179617), np.float64(0.7296170157690843), np.float64(0.914233942826589), np.float64(0.59507299028337), np.float64(0.5840140835692486), np.float64(0.9180850783983866), np.float64(0.655216912428538), np.float64(0.7167886421084404), np.float64(0.9892165660858154), np.float64(0.6550991100569566), np.float64(0.9945529401302338), np.float64(0.7183561461667219), np.float64(0.5245226019372543), np.float64(0.8161727488040924), np.float64(0.5495908961941799), np.float64(0.6825427934527397), np.float64(0.6970095708966255), np.float64(0.7697491745154063), np.float64(0.6937450878322124), np.float64(0.7782937486966451), np.float64(0.9121242463588715), np.float64(0.8080708185831705), np.float64(0.6817222336928049), np.float64(0.620247875029842), np.float64(0.8508638044198354), np.float64(0.627411683400472), np.float64(0.7780392480393251), np.float64(0.5422640517354012), np.float64(0.4952640049159527), np.float64(0.5653558323780695), np.float64(0.635177825887998), np.float64(0.823247085014979), np.float64(0.6862809167553982), np.float64(0.9782623052597046), np.float64(0.8142210841178894), np.float64(0.8472637236118317), np.float64(0.6669317918519179), np.float64(0.6899527683854103), np.float64(0.753561407327652), np.float64(0.6219122565040985), np.float64(0.9604104459285736), np.float64(0.9673500061035156), np.float64(0.9962268968423208), np.float64(0.8111240963141123), np.float64(0.832353005806605), np.float64(0.7186843926707903), np.float64(0.698308065533638), np.float64(0.9832687675952911), np.float64(0.5778224566020072), np.float64(0.8012689873576164), np.float64(0.670353926718235), np.float64(0.2301277369260788), np.float64(0.7931959927082062), np.float64(0.7149903823932012), np.float64(0.7224530217548212), np.float64(0.7199393597741922), np.float64(0.6920717060565948), np.float64(0.742326353987058), np.float64(0.6458002378543218), np.float64(0.7247873172163963), np.float64(0.2821025690063834), np.float64(0.623921117434899), np.float64(0.5687256486465534), np.float64(0.6902278686563174), np.float64(0.9586609105269114), np.float64(0.664465511838595), np.float64(0.4034882392734289), np.float64(0.6974895472327868), np.float64(0.8847342530886332), np.float64(0.7105459235608578), np.float64(0.7075202576816082), np.float64(0.9430753588676453), np.float64(0.7117644318689903), np.float64(0.7899342576662699), np.float64(0.7234040449062983), np.float64(0.6665970521668593), np.float64(0.6559347659349442), np.float64(0.7285337994496027), np.float64(0.5536828252176443), np.float64(0.5990150421857834), np.float64(0.6922243783871332), np.float64(0.6514102866252264), np.float64(0.5882876974840959), np.float64(0.6257829833775759), np.float64(0.6457454729825258), np.float64(0.5786974560469389), np.float64(0.6305977006753286), np.float64(0.6144520193338394), np.float64(0.9949195484320322), np.float64(0.625170017282168), np.float64(0.9863379200299581), np.float64(0.6726544598738352), np.float64(0.6734863432745138), np.float64(0.6826294908920923), np.float64(0.5278041139245033), np.float64(0.7124220530192057), np.float64(0.9989492396513621), np.float64(0.6238664078215758), np.float64(0.6696099359542131), np.float64(0.6704320274293423), np.float64(0.950971394777298), np.float64(0.7938069403171539), np.float64(0.8134665985902151), np.float64(0.6163010994593302), np.float64(0.6584510542452335), np.float64(0.6896465768416723), np.float64(0.9980190793673197), np.float64(0.6776361198474964), np.float64(0.6036917380988598), np.float64(0.6491603602965673), np.float64(0.6735597265263399), np.float64(0.5795412963877121), np.float64(0.6819816182057062), np.float64(0.7461584011713663), np.float64(0.6936289966106415), np.float64(0.5634096550444762), np.float64(0.6770291514694691), np.float64(0.7688374556601048), np.float64(0.9548201461633047), np.float64(0.6790082628528277), np.float64(0.7572840750217438), np.float64(0.7498165965080261), np.float64(0.9325050016244253), np.float64(0.6760899275541306), np.float64(0.6880681316057841), np.float64(0.7714970906575521), np.float64(0.8155785501003265), np.float64(0.9840690791606903), np.float64(0.6775999317566553), np.float64(0.6628689983238777), np.float64(0.9439532160758972), np.float64(0.651241717239221), np.float64(0.6818728273113569), np.float64(0.5738290951897701), np.float64(0.8055827716986338), np.float64(0.8095262944698334), np.float64(0.5711282342672348), np.float64(0.6176764722913504), np.float64(0.7870296935240427), np.float64(0.573157132913669), np.float64(0.616291127478083), np.float64(0.8431228697299957), np.float64(0.5982906942566236), np.float64(0.5852065856258074), np.float64(0.6020190057655176), np.float64(0.7298879971106847), np.float64(0.9823399186134338), np.float64(0.5727499288817247), np.float64(0.5851619932800531), np.float64(0.5814594433953365), np.float64(0.6487632741530737), np.float64(0.6258364195624987), np.float64(0.5708660185337067), np.float64(0.8145439724127451), np.float64(0.6836517887810866), np.float64(0.6777445084104935), np.float64(0.5433757901191711), np.float64(0.611482764283816), np.float64(0.9957390824953715), np.float64(0.6580579926570257), np.float64(0.9639618496100107), np.float64(0.9809009234110514), np.float64(0.9944805800914764), np.float64(0.6116022734592358), np.float64(0.613532766699791), np.float64(0.6720249305168787), np.float64(0.9694790840148926), np.float64(0.9965919156869253), np.float64(0.6250923126935959), np.float64(0.728661984205246), np.float64(0.9389411707719167), np.float64(0.888711134592692), np.float64(0.6334064044058323), np.float64(0.779992495973905), np.float64(0.5743390545248985), np.float64(0.35310842966039974), np.float64(0.9698351323604584), np.float64(0.7597923626502355), np.float64(0.6309248556693395), np.float64(0.8422520756721497), np.float64(0.6495441471536955), np.float64(0.6444269195199013), np.float64(0.7412476787964503), np.float64(0.5944302945087353), np.float64(0.6604281837741534), np.float64(0.6511252851535877), np.float64(0.5937093378355106), np.float64(0.8270344237486521), np.float64(0.6851234038670858), np.float64(0.7947761913140615), np.float64(0.924935907125473), np.float64(0.37283253731826943), np.float64(0.7569855973124504), np.float64(0.5770454499870539), np.float64(0.6512440231939157), np.float64(0.6928653915723165), np.float64(0.616470955312252), np.float64(0.5892873549213012), np.float64(0.6829562249282995), np.float64(0.6288195910553137), np.float64(0.6625810265541077), np.float64(0.7117231407513221), np.float64(0.7893118547896544), np.float64(0.6831925312678019), np.float64(0.9602651993433634), np.float64(0.9729660451412201), np.float64(0.6457378628353277), np.float64(0.5810581985861063), np.float64(0.6834911654392878), np.float64(0.691787471373876), np.float64(0.6453581706931194), np.float64(0.5767802925159534), np.float64(0.9860008259614309), np.float64(0.7738390366236368), np.float64(0.6665831444164118), np.float64(0.9575370748837789), np.float64(0.9737526873747507), np.float64(0.5765597925831875), np.float64(0.7087641016890606), np.float64(0.628468299905459), np.float64(0.6198015169550976), np.float64(0.6409657498200735), np.float64(0.7731600900491079), np.float64(0.6190931797027588), np.float64(0.6922886272271475), np.float64(0.5338994128008684), np.float64(0.6262489209572474), np.float64(0.5851200545827547), np.float64(0.6319869607686996), np.float64(0.9982784589131674), np.float64(0.6259458449979624), np.float64(0.9902965625127157), np.float64(0.6409719650788853), np.float64(0.9949629108111063), np.float64(0.6734075006097555), np.float64(0.9831905961036682), np.float64(0.6103059320400158), np.float64(0.7745772947867712), np.float64(0.7030989862978458), np.float64(0.576374422137936), np.float64(0.9937832156817118), np.float64(0.947086493174235), np.float64(0.617999792098999), np.float64(0.7670762836933136), np.float64(0.5766553829113642), np.float64(0.9980736474196116), np.float64(0.6422754380231103), np.float64(0.9981415371100107), np.float64(0.5947549579044183), np.float64(0.8309754232565562), np.float64(0.627825545767943), np.float64(0.912311871846517), np.float64(0.6717214596768221), np.float64(0.7185066100209951), np.float64(0.5821611726035675), np.float64(0.9728961288928986), np.float64(0.8429727057615916), np.float64(0.7987222870190939), np.float64(0.8115490476290385), np.float64(0.5743200269838175), np.float64(0.6132527148971955), np.float64(0.6424139814819986), np.float64(0.6635518694917361), np.float64(0.5973779832323393), np.float64(0.6933613692720731), np.float64(0.576890946055452), np.float64(0.7435555954774221), np.float64(0.7163044530898333), np.float64(0.9875030716260275), np.float64(0.7517555256684622), np.float64(0.5660518861065308), np.float64(0.5984575947125753), np.float64(0.9957220355669657), np.float64(0.9789782961209615), np.float64(0.6076615390678247), np.float64(0.9119116465250651), np.float64(0.5970817655324936), np.float64(0.6679930662115415), np.float64(0.6723759702096382), np.float64(0.6561568056543668), np.float64(0.6893005271752676), np.float64(0.7106146539251009), np.float64(0.5234633733828863), np.float64(0.7477452754974365), np.float64(0.6059235334396362), np.float64(0.5646039290974537), np.float64(0.7781722644964854), np.float64(0.9962839484214783), np.float64(0.6739966322978338), np.float64(0.5761777659257253), np.float64(0.5757678958276907), np.float64(0.6235285736620426), np.float64(0.6746240332722664), np.float64(0.761113810663422), np.float64(0.9534736673037211), np.float64(0.6670994746188322), np.float64(0.685482328136762), np.float64(0.7215593506892523), np.float64(0.9395951231320699), np.float64(0.6337206397826473), np.float64(0.95981165766716), np.float64(0.7094757606585821), np.float64(0.7125093576808771), np.float64(0.6824697554111481), np.float64(0.5464569504062334), np.float64(0.7769108166297277), np.float64(0.6814253429571787), np.float64(0.7701326950142781), np.float64(0.7798282951116562), np.float64(0.720156433681647), np.float64(0.8095022489627203), np.float64(0.5190951377153397), np.float64(0.7289648782461882), np.float64(0.8047511279582977), np.float64(0.688560351729393), np.float64(0.6576093137264252), np.float64(0.9285149077574412), np.float64(0.5963812644282976), np.float64(0.5485595588882765), np.float64(0.7591410676638285), np.float64(0.5584963262081146), np.float64(0.6507999288539091), np.float64(0.6903881145020326), np.float64(0.6301293981571993), np.float64(0.5901663061231375), np.float64(0.6839619937042395), np.float64(0.6598745745917162), np.float64(0.5436147623695433), np.float64(0.6426199401418368), np.float64(0.597490893676877), np.float64(0.7407131716609001), np.float64(0.5533703373124202), np.float64(0.7976942658424377), np.float64(0.7384182165066401), np.float64(0.6900134508808454), np.float64(0.6264220805217823), np.float64(0.9268665611743927), np.float64(0.7656728823979696), np.float64(0.5872546285390854), np.float64(0.662700013568004), np.float64(0.5795487519353628), np.float64(0.6169332973659039), np.float64(0.6649263401826223), np.float64(0.7127168153723081), np.float64(0.7548696100711823), np.float64(0.9424836039543152), np.float64(0.9960898061593374), np.float64(0.9727381269137064), np.float64(0.6251193384329478), np.float64(0.61237533390522), np.float64(0.6681375255187353), np.float64(0.8295234690109888), np.float64(0.5368164982646704), np.float64(0.9991551240285238), np.float64(0.6555455985168616), np.float64(0.605978712439537), np.float64(0.6109681787590185), np.float64(0.7052372979621092), np.float64(0.6002088853468498), np.float64(0.546561007698377), np.float64(0.6711550454298655), np.float64(0.8365397254625956), np.float64(0.8017000655333201), np.float64(0.8316028515497843), np.float64(0.9320896963278452), np.float64(0.833403875430425), np.float64(0.9962431689103445), np.float64(0.5959756455073754), np.float64(0.6043388321995735), np.float64(0.8305189460515976), np.float64(0.6888082846999168), np.float64(0.7621840871870518), np.float64(0.790411134560903), np.float64(0.6637258330980936), np.float64(0.7315027167399725), np.float64(0.927547017733256), np.float64(0.756418988108635), np.float64(0.9984346727530161), np.float64(0.6951120495796204), np.float64(0.5677672879149517), np.float64(0.6663640389839808), np.float64(0.6002725965032975), np.float64(0.9958335955937704), np.float64(0.972861091295878), np.float64(0.7714966634909312), np.float64(0.9664935767650604), np.float64(0.6564491838216782), np.float64(0.38587385416030884), np.float64(0.6819887359937032), np.float64(0.6324170598139366), np.float64(0.8292283415794373), np.float64(0.9713674982388815), np.float64(0.6585194307068983), np.float64(0.6778204714258512), np.float64(0.8293671061595281), np.float64(0.7113092293341955), np.float64(0.7127944168945154), np.float64(0.763134398808082), np.float64(0.6132162387172381), np.float64(0.5916860972841581), np.float64(0.8139602243900299), np.float64(0.7601385613282522), np.float64(0.5485412329435349), np.float64(0.953475832939148), np.float64(0.5685999138901631), np.float64(0.5695544630289078), np.float64(0.6063043512403965), np.float64(0.6713590522607168), np.float64(0.5985485638181368), np.float64(0.5705991114179293), np.float64(0.6326186954975128), np.float64(0.664286012450854), np.float64(0.6093996868779262), np.float64(0.6107177759210268), np.float64(0.6233880370855331), np.float64(0.921422561009725), np.float64(0.6543410687396923), np.float64(0.5071642876525099), np.float64(0.3129403234149019), np.float64(0.6179041139160594), np.float64(0.6890440483887991), np.float64(0.5626827776432037), np.float64(0.9991944432258606), np.float64(0.6883716570834318), np.float64(0.7693035701910654), np.float64(0.7384181519349416), np.float64(0.6687194568415483), np.float64(0.6513095448414484), np.float64(0.5311077982187271), np.float64(0.5572494827210903), np.float64(0.7252858802676201), np.float64(0.9772347211837769), np.float64(0.7148419767618179), np.float64(0.5920016566912333), np.float64(0.7043627301851908), np.float64(0.876298854748408), np.float64(0.559249239663283), np.float64(0.5085558639839292), np.float64(0.536362923681736), np.float64(0.667497510711352), np.float64(0.63902664432923), np.float64(0.5753939971327782), np.float64(0.867514987786611), np.float64(0.7865527868270874), np.float64(0.6557956486940384), np.float64(0.995441754659017), np.float64(0.6023591520885626), np.float64(0.6871584976712862), np.float64(0.7446908801794052), np.float64(0.6793211884796619), np.float64(0.7576669454574585), np.float64(0.5421084562937418), np.float64(0.676831815391779), np.float64(0.6203332797934612), np.float64(0.6091586699088415), np.float64(0.6050340651224057), np.float64(0.7110909720261892), np.float64(0.9983402689297994), np.float64(0.9818112552165985), np.float64(0.6182980295270681), np.float64(0.9392232994238535), np.float64(0.7428959161043167), np.float64(0.6030828480919203), np.float64(0.6788988709449768), np.float64(0.6352124835054079), np.float64(0.7390451207756996), np.float64(0.7817600766817728), np.float64(0.5712887557844321), np.float64(0.7057103775441647), np.float64(0.578927639250954), np.float64(0.5146170152972142), np.float64(0.6587559363494316), np.float64(0.6707271238168081), np.float64(0.9970288475354513), np.float64(0.599504005163908), np.float64(0.9692052205403646), np.float64(0.5813581583400568), np.float64(0.5507191717624664), np.float64(0.994907279809316), np.float64(0.6849133173624674), np.float64(0.6399101515611013), np.float64(0.6830954154332479), np.float64(0.620849751556913), np.float64(0.9382563332716624), np.float64(0.612631599108378), np.float64(0.935453991095225), np.float64(0.7176267690956593), np.float64(0.8668019672234853), np.float64(0.7873072524865469), np.float64(0.8626166681448618), np.float64(0.9897495408852895), np.float64(0.6349310179551443), np.float64(0.5702498313039541), np.float64(0.7809402396281561), np.float64(0.8043593565622965), np.float64(0.6848817020654678), np.float64(0.5357317452629408), np.float64(0.6489764104286829), np.float64(0.9704956610997518), np.float64(0.65785954768459), np.float64(0.7836975753307343), np.float64(0.9582246045271555), np.float64(0.46652863919734955), np.float64(0.699291717261076), np.float64(0.631468890234828), np.float64(0.21587850277622542), np.float64(0.7730062901973724), np.float64(0.5972739507754644), np.float64(0.5938911214470863), np.float64(0.5930412318557501), np.float64(0.6790239810943604), np.float64(0.6061631888151169), np.float64(0.7291137191156546), np.float64(0.6654089962442716), np.float64(0.6920146147410074), np.float64(0.6571271667877833), np.float64(0.5486945050458113), np.float64(0.8098691006501516), np.float64(0.6835603415966034), np.float64(0.7390474577744802), np.float64(0.7269653379917145), np.float64(0.6081873153646787), np.float64(0.7620996894935766), np.float64(0.6150939787427584), np.float64(0.5652453576525053), np.float64(0.6672042164330682), np.float64(0.9688851833343506), np.float64(0.6713085522254308), np.float64(0.81220676501592), np.float64(0.8276027540365855), np.float64(0.7843466252088547), np.float64(0.5799519748737415), np.float64(0.8532521923383077), np.float64(0.6105863060802221), np.float64(0.9556845327218374), np.float64(0.5974326686312755), np.float64(0.832616259654363), np.float64(0.7845184504985809), np.float64(0.7482868780692419), np.float64(0.8585667908191681), np.float64(0.6715010361125072), np.float64(0.7209199716647466), np.float64(0.6342524190743765), np.float64(0.7680538495381674), np.float64(0.9379252294699351), np.float64(0.9136814475059509), np.float64(0.8202146093050638), np.float64(0.7169163127740225), np.float64(0.7306510889902711), np.float64(0.6111905090510845), np.float64(0.7003023456782103), np.float64(0.7595976094404856), np.float64(0.645038552582264), np.float64(0.6929177790880203), np.float64(0.5755687591930231), np.float64(0.6547073094795147), np.float64(0.9346749484539032), np.float64(0.8140852078795433), np.float64(0.6182452986637751), np.float64(0.9491447309652964), np.float64(0.6821756760279337), np.float64(0.757839985191822), np.float64(0.699418917298317), np.float64(0.742867981394132), np.float64(0.6775086571772894), np.float64(0.5752285191168388), np.float64(0.7967658092578253), np.float64(0.4606751948595047), np.float64(0.691077820956707), np.float64(0.6543411910533905), np.float64(0.7748848845561346), np.float64(0.6238959183295568), np.float64(0.7597500390062729), np.float64(0.7343297451734543), np.float64(0.5664131523420414), np.float64(0.7255645251522461), np.float64(0.7256947308778763), np.float64(0.5985836200416088), np.float64(0.5509086983899275), np.float64(0.8139911989370981), np.float64(0.9952179988225301), np.float64(0.5703334131588539), np.float64(0.7315365970134735), np.float64(0.6020529636492332), np.float64(0.6677858506639799), np.float64(0.7307291875282923), np.float64(0.8857906460762024), np.float64(0.9502324958642324), np.float64(0.6179214666287104), np.float64(0.6386144136389097), np.float64(0.5982223649819692), np.float64(0.9170744816462199), np.float64(0.7483374699950218), np.float64(0.6914496161043644), np.float64(0.7631192064533631), np.float64(0.9765825072924296), np.float64(0.48327310880025226), np.float64(0.879181981086731), np.float64(0.6676527659098307), np.float64(0.5869122290362915), np.float64(0.7893487413724264), np.float64(0.9981295665105184), np.float64(0.6396349693338076), np.float64(0.7082668344179789), np.float64(0.7885836760203043), np.float64(0.550828663011392), np.float64(0.6870240767796835), np.float64(0.6372485607862473), np.float64(0.7678330615162849), np.float64(0.667128175497055), np.float64(0.5862425584346056), np.float64(0.6572865496079127), np.float64(0.6679145743449529), np.float64(0.7334442387024561), np.float64(0.6759816209475199), np.float64(0.9284873604774475), np.float64(0.6173839022715887), np.float64(0.79741699496905), np.float64(0.5617172966400782), np.float64(0.7382502108812332), np.float64(0.9152446091175079), np.float64(0.9660074512163798), np.float64(0.584791968887051), np.float64(0.7302992145220438), np.float64(0.686396467188994), np.float64(0.5859955549240112), np.float64(0.6819792315363884), np.float64(0.9117164115111033), np.float64(0.6516175071398417), np.float64(0.5974294887855649), np.float64(0.692244271437327), np.float64(0.9984219272931417), np.float64(0.7342883038024107), np.float64(0.5627775353689989), np.float64(0.7898450195789337), np.float64(0.6680307239294052), np.float64(0.5769452508538961), np.float64(0.6094611175358295), np.float64(0.7343484374384085), np.float64(0.6673920551935831), np.float64(0.9030960500240326), np.float64(0.9633315702279409), np.float64(0.8876980046431223), np.float64(0.8184664299090704), np.float64(0.761592298746109), np.float64(0.8083820194005966), np.float64(0.9434971412022909), np.float64(0.6675016495088736), np.float64(0.9982378681500753), np.float64(0.7329692443211874), np.float64(0.6177174107482036), np.float64(0.7843139171600342), np.float64(0.6613086660703024), np.float64(0.6875839233398438), np.float64(0.5975395304461321), np.float64(0.6282831287632386), np.float64(0.8888762692610422), np.float64(0.6623144174615542), np.float64(0.8146263013283411), np.float64(0.5931004590044419), np.float64(0.5932024922221899), np.float64(0.7465363877514998), np.float64(0.6725687285264333), np.float64(0.6868078572054704), np.float64(0.9602514306704203), np.float64(0.9984555542469025), np.float64(0.9992275337378184), np.float64(0.8356090784072876), np.float64(0.9978152016798655), np.float64(0.3961139277865489), np.float64(0.7097368786732355), np.float64(0.7250099132458369), np.float64(0.9347649912039439), np.float64(0.8199032445748647), np.float64(0.7012160668770472), np.float64(0.7753876963009437), np.float64(0.9455196758111318), np.float64(0.603239913781484), np.float64(0.5380880236625671), np.float64(0.5967666854461035), np.float64(0.820153146982193), np.float64(0.715229665239652), np.float64(0.6100812821338574), np.float64(0.8058663209279379), np.float64(0.6309913334747156), np.float64(0.7523118493457636), np.float64(0.7775056213140488), np.float64(0.6059569592277209), np.float64(0.6047212065507969), np.float64(0.9956257541974386), np.float64(0.7328491260608038), np.float64(0.5152952621380488), np.float64(0.6286256996293863), np.float64(0.7364464153846105), np.float64(0.7800716857115427), np.float64(0.9574753145376841), np.float64(0.5961664294203123), np.float64(0.8103379408518473), np.float64(0.7312284956375757), np.float64(0.6240717538942894), np.float64(0.8298724095026652), np.float64(0.6710114528735479), np.float64(0.6871228168408076), np.float64(0.9391492108503977), np.float64(0.7186360557874044), np.float64(0.5345855196937919), np.float64(0.5798713254431883), np.float64(0.9385603765646616), np.float64(0.7204456341763338), np.float64(0.6778971006472906), np.float64(0.6073026905457178), np.float64(0.62008269627889), np.float64(0.7861299316088358), np.float64(0.725319642573595), np.float64(0.5988227551182111), np.float64(0.596955643966794), np.float64(0.9906408687432607), np.float64(0.9641294479370117), np.float64(0.606378519286712), np.float64(0.5919897419710954), np.float64(0.625836692750454), np.float64(0.7370231548945109), np.float64(0.6805449910461903), np.float64(0.6084955309828123), np.float64(0.6606917281945547), np.float64(0.8010285000006357), np.float64(0.5505799204111099), np.float64(0.6657399063309034), np.float64(0.9579292039076487), np.float64(0.6401045471429825), np.float64(0.646718775232633), np.float64(0.6540463926891485), np.float64(0.5739373899996281), np.float64(0.7024261678258578), np.float64(0.6639420042435328), np.float64(0.6813016186157862), np.float64(0.5849629770964384), np.float64(0.5804657979557911), np.float64(0.7736921012401581), np.float64(0.6736416618029276), np.float64(0.9757247865200043), np.float64(0.5691473086675009), np.float64(0.5981568396091461), np.float64(0.6879570595920086), np.float64(0.7230733633041382), np.float64(0.8959178924560547), np.float64(0.6640277976791064), np.float64(0.6782103106379509), np.float64(0.9545977214972178), np.float64(0.6153707330425581), np.float64(0.726200466354688), np.float64(0.6277709243198236), np.float64(0.6685488981505235), np.float64(0.7572905470927557), np.float64(0.5857000102599462), np.float64(0.5963718332350254), np.float64(0.9891664584477743), np.float64(0.9529647429784139), np.float64(0.9962479869524637), np.float64(0.6690874248743057), np.float64(0.7981088360150655), np.float64(0.6712710410356522), np.float64(0.7692852914333344), np.float64(0.6749577634036541), np.float64(0.7020318632324537), np.float64(0.6816619640837113), np.float64(0.728170920163393), np.float64(0.7449644406636556), np.float64(0.8092742264270782), np.float64(0.6924250026543936), np.float64(0.5882267306248347), np.float64(0.6571458006898562), np.float64(0.9588010807832082), np.float64(0.5995874361445507), np.float64(0.6424275953322649), np.float64(0.9749346574147543), np.float64(0.6352358448008696), np.float64(0.7440267354249954), np.float64(0.6660727212826411), np.float64(0.8741119801998138), np.float64(0.7835667630036672), np.float64(0.8451556662718455), np.float64(0.5664973066498836), np.float64(0.7103334926068783), np.float64(0.6246748144427935), np.float64(0.6930271734793981), np.float64(0.6870795004069805), np.float64(0.6453322631617388), np.float64(0.8202684422334036), np.float64(0.5908821926762661), np.float64(0.7129961078365644), np.float64(0.5904161607225736), np.float64(0.48175471648573875), np.float64(0.5398447792977095), np.float64(0.6750787552446127), np.float64(0.6647327846537033), np.float64(0.7059895296891531), np.float64(0.6140390100578467), np.float64(0.7316263864437739), np.float64(0.7283996207018694), np.float64(0.6402374071379503), np.float64(0.3543957608441512), np.float64(0.7780292828877767), np.float64(0.9783938924471537), np.float64(0.6270873012642065), np.float64(0.7225838229060173), np.float64(0.7279752343893051), np.float64(0.8680949807167053), np.float64(0.7228064884742101), np.float64(0.8718426326910654), np.float64(0.6640957879523436), np.float64(0.7607054164012274), np.float64(0.669353066633145), np.float64(0.8377274374167124), np.float64(0.7396631843099991), np.float64(0.7581086369852225), np.float64(0.6679065475861231), np.float64(0.9610156814257304), np.float64(0.9955325325330099), np.float64(0.6238438040018082), np.float64(0.9979381461938223), np.float64(0.6180213453869025), np.float64(0.976163258155187), np.float64(0.547013321891427), np.float64(0.6032053989668688), np.float64(0.6622923711935679), np.float64(0.6491876641909281), np.float64(0.4282042185465495), np.float64(0.9470682243506113), np.float64(0.6859452041486899), np.float64(0.6743697772423426), np.float64(0.7483781812091669), np.float64(0.974553773800532), np.float64(0.6820854544639587), np.float64(0.6312727990249792), np.float64(0.6563376188278198), np.float64(0.5976589787751436), np.float64(0.6780364016691843), np.float64(0.6202370921770731), np.float64(0.8558254241943359), np.float64(0.5903832900027434), np.float64(0.6300073936581612), np.float64(0.7169199772179127), np.float64(0.6628830594321092), np.float64(0.3143601386497418), np.float64(0.9956344068050385), np.float64(0.9859100778897604), np.float64(0.5991094124813875), np.float64(0.7675015032291412), np.float64(0.6831633877009153), np.float64(0.6062106341123581), np.float64(0.8745029668013254), np.float64(0.6081056253363689), np.float64(0.6258479642371336), np.float64(0.6631246780355772), np.float64(0.8012471795082092), np.float64(0.7512222329775492), np.float64(0.5885388652483622), np.float64(0.725300437460343), np.float64(0.5779265385741988), np.float64(0.6556921415030956), np.float64(0.721594238653779), np.float64(0.7928047378857931), np.float64(0.7727021823326746), np.float64(0.6183317272613446), np.float64(0.6314925793558359), np.float64(0.5766864782199264), np.float64(0.6315390467643738), np.float64(0.4585408791899681), np.float64(0.8099144200483958), np.float64(0.8507799506187439), np.float64(0.6343460430701574), np.float64(0.788182924191157), np.float64(0.7583009302616119), np.float64(0.611641543606917), np.float64(0.7057811617851257), np.float64(0.5578730683773756), np.float64(0.6456003785133362), np.float64(0.6288354359567165), np.float64(0.6876786909997463), np.float64(0.6238660924136639), np.float64(0.8677902817726135), np.float64(0.7372711549202601), np.float64(0.6204512777427832), np.float64(0.8848024904727936), np.float64(0.6573367131253084), np.float64(0.7558820247650146), np.float64(0.675646166006724), np.float64(0.9380913376808167), np.float64(0.7943234841028849), np.float64(0.570247620344162), np.float64(0.564577783147494), np.float64(0.6486293772856394), np.float64(0.6702191854516665), np.float64(0.5800086800009012), np.float64(0.6165295237054428), np.float64(0.6833926538626353), np.float64(0.7185940345128378), np.float64(0.9391431113084158), np.float64(0.7047084296743075), np.float64(0.8788713216781616), np.float64(0.5942011668036381), np.float64(0.6830959195892016), np.float64(0.5830313848952452), np.float64(0.6715133662025133), np.float64(0.6182755287736654), np.float64(0.5149626682202021), np.float64(0.7859092752138773), np.float64(0.6732259715596834), np.float64(0.8470263133446375), np.float64(0.5848365860680739), np.float64(0.5960860271006823), np.float64(0.47259174815068644), np.float64(0.8187346110741297), np.float64(0.5775552112609148), np.float64(0.955272356669108), np.float64(0.6000870266191972), np.float64(0.7172994377712408), np.float64(0.5758666700373093), np.float64(0.6561061441898346), np.float64(0.7344386378924052), np.float64(0.9907487432161967), np.float64(0.4696548928817113), np.float64(0.8377677698930105), np.float64(0.7155957433084646), np.float64(0.5992661317189535), np.float64(0.6661163717508316), np.float64(0.726718450586001), np.float64(0.6813044473528862), np.float64(0.9716702004273733), np.float64(0.6496507686873277), np.float64(0.7120697398980459), np.float64(0.9533056815465292), np.float64(0.5837094088395437), np.float64(0.7042493429034948), np.float64(0.6884630732238293), np.float64(0.9957836469014486), np.float64(0.7946593264738718), np.float64(0.716431458791097), np.float64(0.7020492106676102), np.float64(0.6031808393696944), np.float64(0.7204916477203369), np.float64(0.5910575600961844), np.float64(0.6918829903006554), np.float64(0.6481327066818873), np.float64(0.5832364981373152), np.float64(0.9942834774653116), np.float64(0.6539662294089794), np.float64(0.6987646346290907), np.float64(0.6092916590472063), np.float64(0.6725875635941824), np.float64(0.9890168110529581), np.float64(0.7256838927666346), np.float64(0.749211311340332), np.float64(0.8192049364248911), np.float64(0.6562168349822363), np.float64(0.767508660753568), np.float64(0.7518965055545171), np.float64(0.7542389817535877), np.float64(0.9901687204837799), np.float64(0.5335913387437662), np.float64(0.6408373328546683), np.float64(0.5042929723858833), np.float64(0.7472533881664276), np.float64(0.7100023006399473), np.float64(0.8263957401116689), np.float64(0.6711791257063547), np.float64(0.7088249785204729), np.float64(0.9450262685616811), np.float64(0.9549091259638468), np.float64(0.7815513213475546), np.float64(0.9631005028883616), np.float64(0.6660964749753475), np.float64(0.9754363099733988), np.float64(0.7681315199782451), np.float64(0.3129403234149019), np.float64(0.7607825795809428), np.float64(0.8604215184847513), np.float64(0.6147348253677288), np.float64(0.6609362810850143), np.float64(0.6743480792889992), np.float64(0.5788901777317127), np.float64(0.5225484327723583), np.float64(0.7016601699093977), np.float64(0.9980752170085907), np.float64(0.647480400900046), np.float64(0.5764475353062153), np.float64(0.561475932598114), np.float64(0.9077600240707397), np.float64(0.6245861714705825), np.float64(0.7835602462291718), np.float64(0.7551358143488566), np.float64(0.5695848876299957), np.float64(0.7490489681561788), np.float64(0.8175133864084879), np.float64(0.6239360074202219), np.float64(0.5576019858320554), np.float64(0.6438190595557293), np.float64(0.6267676204442978), np.float64(0.9498831033706665), np.float64(0.9122534294923147), np.float64(0.7100005100170771), np.float64(0.5803806030501922), np.float64(0.7531753927469254), np.float64(0.9959952334562937), np.float64(0.6531951154271761), np.float64(0.732579537977775), np.float64(0.7577055618166924), np.float64(0.9721458256244659), np.float64(0.8134786933660507), np.float64(0.6888204216957092), np.float64(0.7125796601176262), np.float64(0.6276653210322062), np.float64(0.6497961382071177), np.float64(0.8014742980400721), np.float64(0.9882917503515879), np.float64(0.676831815391779), np.float64(0.7428564925988516), np.float64(0.7733085254828135), np.float64(0.765077052017053), np.float64(0.5718312803655863), np.float64(0.5817381292581558), np.float64(0.6650015066067377), np.float64(0.9984557032585144), np.float64(0.9430877466996511), np.float64(0.6690934281796217), np.float64(0.9787621597448984), np.float64(0.6169607726236185), np.float64(0.6755954325199127), np.float64(0.5728856536249319), np.float64(0.8464878797531128), np.float64(0.6133842449635267), np.float64(0.6184900905936956), np.float64(0.6625836205979189), np.float64(0.7937203645706177), np.float64(0.4041260884453853), np.float64(0.666369117796421), np.float64(0.7942700982093811), np.float64(0.6259133176257213), np.float64(0.5860643442720175), np.float64(0.6296436910827955), np.float64(0.8224529872337977), np.float64(0.6282199478397766), np.float64(0.8626234332720438), np.float64(0.9050235350926717), np.float64(0.6532122269272804), np.float64(0.9966970185438792), np.float64(0.6614825303355852), np.float64(0.958302915096283), np.float64(0.6647163679202398), np.float64(0.519771158695221), np.float64(0.5655074864625931), np.float64(0.5450837717701992), np.float64(0.6571122078845898), np.float64(0.7074230313301086), np.float64(0.6583407645424207), np.float64(0.63565854045252), np.float64(0.6915735453367233), np.float64(0.6326100702087084), np.float64(0.5860365051776171), np.float64(0.6842944441596046), np.float64(0.34300166616837185), np.float64(0.5855363403679803), np.float64(0.9524083534876505), np.float64(0.5817933728297552), np.float64(0.9197070002555847), np.float64(0.6594437124828497), np.float64(0.999230295419693), np.float64(0.6703498202065626), np.float64(0.750465085109075), np.float64(0.6319462209939957), np.float64(0.6649268741408983), np.float64(0.5622096912314495), np.float64(0.7228311002254486), np.float64(0.398102842271328), np.float64(0.6740776747465134), np.float64(0.7694062329828739), np.float64(0.6603861370434364), np.float64(0.7121584651370844), np.float64(0.6816374932726225), np.float64(0.7039887756109238), np.float64(0.7946673731009165), np.float64(0.9515340725580851), np.float64(0.9312643110752106), np.float64(0.926637997229894), np.float64(0.6712043782075247), np.float64(0.6029959091295799), np.float64(0.6037342064082623), np.float64(0.9461684028307596), np.float64(0.6384711042046547), np.float64(0.654157797495524), np.float64(0.6971559983988603), np.float64(0.6730522165695826), np.float64(0.5791381926586231), np.float64(0.9470769862333933), np.float64(0.6134635992348194), np.float64(0.7701849341392517), np.float64(0.6639532546202341), np.float64(0.7795545558134714), np.float64(0.701987162232399), np.float64(0.9632954299449921), np.float64(0.7306935588518778), np.float64(0.6533420632282892), np.float64(0.5928372219204903), np.float64(0.6207587098081907), np.float64(0.7695187479257584), np.float64(0.9634926716486613), np.float64(0.5728639662265778), np.float64(0.6283194969097773), np.float64(0.6529696552703778), np.float64(0.6458442391206821), np.float64(0.5745769186566273), np.float64(0.7629944384098053), np.float64(0.9946510891119639), np.float64(0.5688704426089922), np.float64(0.5745697921762863), np.float64(0.5470028280590972), np.float64(0.3716546480233471), np.float64(0.734805608789126), np.float64(0.7490175565083822), np.float64(0.6587559438000122), np.float64(0.6391938279072443), np.float64(0.6176423405607542), np.float64(0.5318049887816111), np.float64(0.6320766663799683), np.float64(0.5219436648864454), np.float64(0.669840332120657), np.float64(0.5268207794676224), np.float64(0.7348136082291603), np.float64(0.8176758488019308), np.float64(0.5629926162461439), np.float64(0.7230764528115591), np.float64(0.655561608572801), np.float64(0.9364640911420187), np.float64(0.5615864296754202), np.float64(0.9456542630990347), np.float64(0.7251130032042662), np.float64(0.7231386105219523), np.float64(0.7501381536324819), np.float64(0.9905202190081278), np.float64(0.9954274396101633), np.float64(0.6714201507469019), np.float64(0.7296781639258066), np.float64(0.5438071563839912), np.float64(0.6874237333734831), np.float64(0.6868276546398798), np.float64(0.6611549655596415), np.float64(0.9992250998814901), np.float64(0.6766329308350881), np.float64(0.6968556766708692), np.float64(0.9408010145028433), np.float64(0.7091732223828634), np.float64(0.9718919297059377), np.float64(0.6273653066406647), np.float64(0.5933339856564999), np.float64(0.628304785117507), np.float64(0.758437325557073), np.float64(0.9271030724048615), np.float64(0.9356513420740763), np.float64(0.8308936655521393), np.float64(0.7653216371933619), np.float64(0.6587858274579048), np.float64(0.9874064226945242), np.float64(0.6839056971172491), np.float64(0.6162037719041109), np.float64(0.8484235306580862), np.float64(0.979086567958196), np.float64(0.569526311631004), np.float64(0.5049354632695516), np.float64(0.681725357969602), np.float64(0.9088287949562073), np.float64(0.5702179304013649), np.float64(0.6231675632297993), np.float64(0.5725125757356485), np.float64(0.7204840208093325), np.float64(0.600407508512338), np.float64(0.70012167096138), np.float64(0.5631174047787985), np.float64(0.5565574976305167), np.float64(0.3748176855345567), np.float64(0.6149911060929298), np.float64(0.6855076675613722), np.float64(0.6593410732845465), np.float64(0.5804657979557911), np.float64(0.5717043820768595), np.float64(0.6750214956700802), np.float64(0.917476107676824), np.float64(0.6140085582931837), np.float64(0.7881245613098145), np.float64(0.8411707480748495), np.float64(0.6658244673162699), np.float64(0.6623054792483648), np.float64(0.6509842425584793), np.float64(0.7676495561997095), np.float64(0.8795199592908224), np.float64(0.9926961660385132), np.float64(0.9623211026191711), np.float64(0.7022082904974619), np.float64(0.6984762524565061), np.float64(0.8944753706455231), np.float64(0.7620078424612681), np.float64(0.6612269381682078), np.float64(0.8116612136363983), np.float64(0.5919747700293859), np.float64(0.583402739216884), np.float64(0.6711813708146414), np.float64(0.997462252775828), np.float64(0.6501516103744507), np.float64(0.9989112317562103), np.float64(0.6300019975751638), np.float64(0.6745689585804939), np.float64(0.7416734496752421), np.float64(0.5858480868240198), np.float64(0.9323209623495737), np.float64(0.6242632071177164), np.float64(0.6553596419592699), np.float64(0.7312076116601626)]\n",
      "0.09101605291167895\n",
      "0.9992404679457346\n",
      "Randomisation: RandomLogit scores by Sixt et al., 2020.\n",
      "\n",
      " • SHAP =  0.6895383238826162\n"
     ]
    }
   ],
   "source": [
    "RandomLogit_shap = quantus.RandomLogit(\n",
    "    num_classes=2,\n",
    "    disable_warnings=True,\n",
    "    normalise=False,\n",
    "    abs=True, # take absolute values of attributions\n",
    "    display_progressbar=True,\n",
    "    return_aggregate=False, # find the mean of the complexity from all samples\n",
    "    aggregate_func=np.mean,\n",
    ")(\n",
    "    model=mlp_wrapped_model,\n",
    "    x_batch=X_test_np,\n",
    "    y_batch=y_test_int,\n",
    "    a_batch=None,\n",
    "    explain_func=quantus.explain,\n",
    "    explain_func_kwargs={\"method\": \"GradientShap\", \"reduce_axes\": ()},\n",
    "    device=device\n",
    ")\n",
    "\n",
    "\n",
    "print(\n",
    "    f\"Randomisation: RandomLogit scores by Sixt et al., 2020.\\n\"\n",
    "    f\"\\n • SHAP = \",\n",
    "    RandomLogit_shap,\n",
    ")\n",
    "\n",
    "print(np.min(RandomLogit_shap))\n",
    "\n",
    "print(np.max(RandomLogit_shap))\n",
    "\n",
    "# Scale to 0-1\n",
    "RandomLogit_shap = (RandomLogit_shap - np.min(RandomLogit_shap)) / (\n",
    "    np.max(RandomLogit_shap) - np.min(RandomLogit_shap)\n",
    ")\n",
    "\n",
    "# Find mean\n",
    "RandomLogit_shap = np.mean(RandomLogit_shap)\n",
    "\n",
    "print(\n",
    "    f\"Randomisation: RandomLogit scores by Sixt et al., 2020.\\n\"\n",
    "    f\"\\n • SHAP = \",\n",
    "    RandomLogit_shap,\n",
    ")"
   ]
  },
  {
   "cell_type": "code",
   "execution_count": null,
   "metadata": {
    "colab": {
     "base_uri": "https://localhost:8080/",
     "height": 104,
     "referenced_widgets": [
      "4b8d8a3a19014db9b117d5bbf8b0d11f",
      "6d960fd86e2a46ed85da438ae4b7097c",
      "315c488485ee4354a135720ca6a222c5",
      "e958e3730b4647d080c7cafc9be69494",
      "1c7bf24e8a6c4e45a2b89f569c5ca492",
      "c83bade72a114989b4a05d5aa7e782c6",
      "a1d1816b4254443683a53d9c81a7a209",
      "bda843e01a594948bbbc968efabc3336",
      "e328588885e044a48ef05afc9f355764",
      "92ad2744ff994e74865de7e5becf5777",
      "8856f84431a84ef59e0c8b69db3b2eb3"
     ]
    },
    "executionInfo": {
     "elapsed": 23806,
     "status": "ok",
     "timestamp": 1749132047371,
     "user": {
      "displayName": "Hung Thanh Do",
      "userId": "14602254202234053172"
     },
     "user_tz": -120
    },
    "id": "DcL1wfj3ZIGu",
    "outputId": "d810cbc0-5aa4-4515-bc99-0e03e1ce5b2d"
   },
   "outputs": [
    {
     "data": {
      "application/vnd.jupyter.widget-view+json": {
       "model_id": "4b8d8a3a19014db9b117d5bbf8b0d11f",
       "version_major": 2,
       "version_minor": 0
      },
      "text/plain": [
       "  0%|          | 0/102.0 [00:00<?, ?it/s]"
      ]
     },
     "metadata": {},
     "output_type": "display_data"
    },
    {
     "name": "stdout",
     "output_type": "stream",
     "text": [
      "Randomisation: RandomLogit scores by Sixt et al., 2020.\n",
      "\n",
      " • SHAP =  [0.57533504]\n"
     ]
    }
   ],
   "source": [
    "# RandomLogit_shap = quantus.RandomLogit(\n",
    "#     num_classes=2,\n",
    "#     disable_warnings=True,\n",
    "#     normalise=False,\n",
    "#     abs=True, # take absolute values of attributions\n",
    "#     display_progressbar=True,\n",
    "#     return_aggregate=True, # find the mean of the complexity from all samples\n",
    "#     aggregate_func=np.mean,\n",
    "# )(\n",
    "#     model=mlp_wrapped_model,\n",
    "#     x_batch=X_test_np,\n",
    "#     y_batch=y_test_int,\n",
    "#     a_batch=None,\n",
    "#     explain_func=quantus.explain,\n",
    "#     explain_func_kwargs={\"method\": \"GradientShap\", \"reduce_axes\": ()},\n",
    "#     device=device\n",
    "# )\n",
    "\n",
    "# # Already scaled to 0-1 -> keep aggregated (mean)\n",
    "# RandomLogit_shap = np.array(RandomLogit_shap)\n",
    "# print(\n",
    "#     f\"Randomisation: RandomLogit scores by Sixt et al., 2020.\\n\"\n",
    "#     f\"\\n • SHAP = \",\n",
    "#     RandomLogit_shap,\n",
    "# )"
   ]
  },
  {
   "cell_type": "code",
   "execution_count": null,
   "metadata": {
    "colab": {
     "base_uri": "https://localhost:8080/",
     "referenced_widgets": [
      "cfcb90e3cbaa490d8c7a840bfd1a5123",
      "541f7dbc343042ae90f5908551c04cfa",
      "24b4d398da5e47e49ed19a42928df6f7",
      "ea8dfb115ccf4696a1351a5cbbd00bc1",
      "bc64b75dff8c45eabea21d565e3eee4b",
      "350206f3caed463ea5b6554685f43838",
      "4c0fb696798a40b8a4366ad575fb8569",
      "4ab104b1c0d64b1aaa398e4086d4a4a4",
      "858b8bf3b2704512a9d2def5948f12f0",
      "02702815a07f41fd891479c6dff2f51b",
      "e44efbcef73245eebb2a84ad3837ce10"
     ]
    },
    "executionInfo": {
     "elapsed": 5939,
     "status": "ok",
     "timestamp": 1749289423547,
     "user": {
      "displayName": "Hung Thanh Do",
      "userId": "14602254202234053172"
     },
     "user_tz": -120
    },
    "id": "bvhEzC6Q9hYp",
    "outputId": "bb9b2828-3436-4fbf-8455-bd26d27afb52"
   },
   "outputs": [
    {
     "data": {
      "application/vnd.jupyter.widget-view+json": {
       "model_id": "cfcb90e3cbaa490d8c7a840bfd1a5123",
       "version_major": 2,
       "version_minor": 0
      },
      "text/plain": [
       "  0%|          | 0/13026 [00:00<?, ?it/s]"
      ]
     },
     "metadata": {},
     "output_type": "display_data"
    },
    {
     "name": "stdout",
     "output_type": "stream",
     "text": [
      "Randomisation: MPRT scores by Adebayo et al., 2018\n",
      "\n",
      " • SHAP =  0.45038331705217366\n"
     ]
    }
   ],
   "source": [
    "MPRT_shap = quantus.MPRT(\n",
    "    # similarity_func=quantus.similarity_func.correlation_spearman,\n",
    "    return_average_correlation=True,\n",
    "    # return_aggregate=True, # find the mean of the complexity from all samples\n",
    "    aggregate_func=np.mean,\n",
    "    layer_order=\"independent\",\n",
    "    similarity_func=quantus.ssim,\n",
    "    disable_warnings=True,\n",
    "    normalise=False,\n",
    "    abs=True, # take absolute values of attributions\n",
    "    display_progressbar=True,\n",
    ")(\n",
    "    model=mlp_wrapped_model,\n",
    "    x_batch=X_test_np,\n",
    "    y_batch=y_test_int,\n",
    "    a_batch=None,\n",
    "    explain_func=quantus.explain,\n",
    "    explain_func_kwargs={\"method\": \"GradientShap\", \"reduce_axes\": ()},\n",
    "    device=device\n",
    ")\n",
    "\n",
    "# Scale to 0-1\n",
    "MPRT_shap = (MPRT_shap - np.min(MPRT_shap)) / (\n",
    "    np.max(MPRT_shap) - np.min(MPRT_shap)\n",
    ")\n",
    "\n",
    "# Find mean\n",
    "MPRT_shap = np.mean(MPRT_shap)\n",
    "\n",
    "print(\n",
    "    f\"Randomisation: MPRT scores by Adebayo et al., 2018\\n\"\n",
    "    f\"\\n • SHAP = \",\n",
    "    MPRT_shap,\n",
    ")"
   ]
  },
  {
   "cell_type": "markdown",
   "metadata": {
    "id": "qoAZscdR9hYq"
   },
   "source": [
    "### Summary (all)"
   ]
  },
  {
   "cell_type": "code",
   "execution_count": null,
   "metadata": {
    "id": "_QudUZpN9hYq"
   },
   "outputs": [],
   "source": [
    "# Convert from list to int\n",
    "Complexity_shap = np.float64(Complexity_shap)\n",
    "Sparseness_shap = np.float64(Sparseness_shap)\n",
    "MPRT_shap = np.float64(MPRT_shap)\n",
    "RandomLogit_shap = np.float64(RandomLogit_shap)\n",
    "FaithfulnessEstimate_shap = np.float64(FaithfulnessEstimate_shap)\n",
    "FaithfulnessCorrelation_shap = np.float64(FaithfulnessCorrelation_shap)\n",
    "LocalLipschitzEstimate_shap = np.float64(LocalLipschitzEstimate_shap)\n",
    "\n",
    "# Rounding one by one\n",
    "Complexity_shap = round(float(Complexity_shap), 4)\n",
    "Sparseness_shap = round(float(Sparseness_shap), 4)\n",
    "MPRT_shap = round(float(MPRT_shap), 4)\n",
    "RandomLogit_shap = round(float(RandomLogit_shap), 4)\n",
    "FaithfulnessEstimate_shap = round(float(FaithfulnessEstimate_shap), 4)\n",
    "FaithfulnessCorrelation_shap = round(float(FaithfulnessCorrelation_shap), 4)\n",
    "LocalLipschitzEstimate_shap = round(float(LocalLipschitzEstimate_shap), 4)"
   ]
  },
  {
   "cell_type": "code",
   "execution_count": null,
   "metadata": {
    "colab": {
     "base_uri": "https://localhost:8080/"
    },
    "executionInfo": {
     "elapsed": 10,
     "status": "ok",
     "timestamp": 1749290277985,
     "user": {
      "displayName": "Hung Thanh Do",
      "userId": "14602254202234053172"
     },
     "user_tz": -120
    },
    "id": "D5WQT-D99hYq",
    "outputId": "283bd6fc-b0f3-4d86-9c36-45849c51d531"
   },
   "outputs": [
    {
     "data": {
      "text/markdown": [
       "#### Explanability scores"
      ],
      "text/plain": [
       "<IPython.core.display.Markdown object>"
      ]
     },
     "metadata": {},
     "output_type": "display_data"
    },
    {
     "name": "stdout",
     "output_type": "stream",
     "text": [
      "Complexity: Complexity by Bhatt et al., 2020.\n",
      "\n",
      " • SHAP =  0.7957\n",
      "Complexity: Sparseness by Chalasani et al., 2020.\n",
      "\n",
      " • SHAP =  0.5548\n",
      "Faithfulness: Faithfulness Estimate by Alvarez-Melis et al., 2018.\n",
      "\n",
      " • SHAP =  0.5522\n",
      "Faithfulness: Faithfulness Correlation by Bhatt et al., 2020.\n",
      "\n",
      " • SHAP =  0.5479\n",
      "Robustness: Local Lipschitz Estimate by Alvarez-Melis et al., 2018.\n",
      "\n",
      " • SHAP =  0.0527\n",
      "Randomisation: MPRT scores by Adebayo et al., 2018\n",
      "\n",
      " • SHAP =  0.4504\n",
      "Randomisation: RandomLogit scores by Sixt et al., 2020.\n",
      "\n",
      " • SHAP =  0.6895\n"
     ]
    }
   ],
   "source": [
    "display(Markdown(\"#### Explanability scores\"))\n",
    "\n",
    "# Complexity: Complexity\n",
    "print(\n",
    "    f\"Complexity: Complexity by Bhatt et al., 2020.\\n\"\n",
    "    f\"\\n • SHAP = \",\n",
    "    Complexity_shap,\n",
    ")\n",
    "\n",
    "# Complexity: Sparseness\n",
    "print(\n",
    "    f\"Complexity: Sparseness by Chalasani et al., 2020.\\n\"\n",
    "    f\"\\n • SHAP = \",\n",
    "    Sparseness_shap,\n",
    ")\n",
    "\n",
    "# Faithfulness: Faithfulness Estimate\n",
    "print(\n",
    "    f\"Faithfulness: Faithfulness Estimate by Alvarez-Melis et al., 2018.\\n\"\n",
    "    f\"\\n • SHAP = \",\n",
    "    FaithfulnessEstimate_shap,\n",
    ")\n",
    "\n",
    "# Faithfulness: Faithfulness Correlation\n",
    "print(\n",
    "    f\"Faithfulness: Faithfulness Correlation by Bhatt et al., 2020.\\n\"\n",
    "    f\"\\n • SHAP = \",\n",
    "    FaithfulnessCorrelation_shap,\n",
    ")\n",
    "\n",
    "# Robustness: Local Lipschitz Estimate\n",
    "print(\n",
    "    f\"Robustness: Local Lipschitz Estimate by Alvarez-Melis et al., 2018.\\n\"\n",
    "    f\"\\n • SHAP = \",\n",
    "    LocalLipschitzEstimate_shap,\n",
    ")\n",
    "\n",
    "# Randomisation: MPRT\n",
    "print(\n",
    "    f\"Randomisation: MPRT scores by Adebayo et al., 2018\\n\"\n",
    "    f\"\\n • SHAP = \",\n",
    "    MPRT_shap,\n",
    ")\n",
    "\n",
    "# Randomisation: RandomLogit\n",
    "print(\n",
    "    f\"Randomisation: RandomLogit scores by Sixt et al., 2020.\\n\"\n",
    "    f\"\\n • SHAP = \",\n",
    "    RandomLogit_shap,\n",
    ")"
   ]
  },
  {
   "cell_type": "markdown",
   "metadata": {
    "id": "GnnXquR29hYq"
   },
   "source": [
    "### Summary"
   ]
  },
  {
   "cell_type": "code",
   "execution_count": null,
   "metadata": {
    "colab": {
     "base_uri": "https://localhost:8080/",
     "height": 196
    },
    "executionInfo": {
     "elapsed": 6,
     "status": "ok",
     "timestamp": 1749290277993,
     "user": {
      "displayName": "Hung Thanh Do",
      "userId": "14602254202234053172"
     },
     "user_tz": -120
    },
    "id": "C8enOAUT9hYq",
    "outputId": "a99a0704-4342-48a4-e9fc-e5bb9584bae3"
   },
   "outputs": [
    {
     "data": {
      "text/markdown": [
       "#### Explanability scores (grouped)"
      ],
      "text/plain": [
       "<IPython.core.display.Markdown object>"
      ]
     },
     "metadata": {},
     "output_type": "display_data"
    },
    {
     "name": "stdout",
     "output_type": "stream",
     "text": [
      "Complexity\n",
      " • SHAP =  0.6752\n",
      "Faithfulness\n",
      " • SHAP =  0.5501\n",
      "Robustness\n",
      " • SHAP =  0.0527\n",
      "Randomisation\n",
      " • SHAP =  0.5699\n"
     ]
    }
   ],
   "source": [
    "display(Markdown(\"#### Explanability scores (grouped)\"))\n",
    "\n",
    "# Complexity: Complexity and Sparseness\n",
    "print(\n",
    "    f\"Complexity\"\n",
    "    f\"\\n • SHAP = \",\n",
    "    round(float((Complexity_shap+Sparseness_shap)/2), 4),\n",
    ")\n",
    "\n",
    "# Faithfulness: Faithfulness Estimate and Faithfulness Correlation\n",
    "print(\n",
    "    f\"Faithfulness\"\n",
    "    f\"\\n • SHAP = \",\n",
    "    round(float((FaithfulnessEstimate_shap+FaithfulnessCorrelation_shap)/2), 4),\n",
    ")\n",
    "\n",
    "# Robustness: Local Lipschitz Estimate\n",
    "print(\n",
    "    f\"Robustness\"\n",
    "    f\"\\n • SHAP = \",\n",
    "    round(float((LocalLipschitzEstimate_shap)), 4),\n",
    ")\n",
    "\n",
    "# Randomisation: MPRT and RandomLogit\n",
    "print(\n",
    "    f\"Randomisation\"\n",
    "    f\"\\n • SHAP = \",\n",
    "    round(float((MPRT_shap+RandomLogit_shap)/2), 4)\n",
    ")"
   ]
  },
  {
   "cell_type": "markdown",
   "metadata": {
    "id": "LRvfCrguYQeJ"
   },
   "source": [
    "# TabResNet"
   ]
  },
  {
   "cell_type": "markdown",
   "metadata": {
    "id": "ki-IgGuwcC0k"
   },
   "source": [
    "## SHAP"
   ]
  },
  {
   "cell_type": "code",
   "execution_count": null,
   "metadata": {
    "id": "51K43fBAcC0l"
   },
   "outputs": [],
   "source": [
    "# ---------------------------\n",
    "# SHAP Explanation Setup\n",
    "# ---------------------------\n",
    "# Define a prediction function for SHAP that returns the probability for class 1.\n",
    "def f_shap(X):\n",
    "    model.eval()\n",
    "    with torch.no_grad():\n",
    "        X_tensor = torch.from_numpy(np.atleast_2d(X).astype(np.float32))\n",
    "        X_tensor = X_tensor.to(device)\n",
    "        logits = model(X_tensor)\n",
    "        probs = torch.softmax(logits, dim=1).cpu().numpy()\n",
    "        return probs[:, 1]  # return probability for class 1"
   ]
  },
  {
   "cell_type": "code",
   "execution_count": null,
   "metadata": {
    "id": "TrGUamn-cC0l"
   },
   "outputs": [],
   "source": [
    "# Use a subset of test data as background (e.g., 50 samples)\n",
    "background = X_test_np[:100]\n",
    "explainer = shap.KernelExplainer(f_shap, background)"
   ]
  },
  {
   "cell_type": "code",
   "execution_count": null,
   "metadata": {
    "id": "hGm_6b3Kk_5F"
   },
   "outputs": [],
   "source": [
    "import pickle"
   ]
  },
  {
   "cell_type": "code",
   "execution_count": null,
   "metadata": {
    "id": "-5p8cq_Uk-4G"
   },
   "outputs": [],
   "source": [
    "with open('saved_shap/tabresnet_shap_values_adults.pkl', 'rb') as f:\n",
    "    shap_values = pickle.load(f)"
   ]
  },
  {
   "cell_type": "code",
   "execution_count": null,
   "metadata": {
    "colab": {
     "base_uri": "https://localhost:8080/",
     "referenced_widgets": [
      "1facc3481c474fd7974916b9db842d3c",
      "df7d9433a8e341dca1ae87d6aee02fb1",
      "ecd30b64e52f433c99d283f1c2c75fbc",
      "fae2829b261d479f87317e973aedf869",
      "b3df869d45ab4509b35bb7b2fa8dfa17",
      "855b7311346c484e99c258047dca3bc5",
      "ccfd9c57aa6c4a4b8f5f62aab9aecefc",
      "7b64a5f9fefd436ba2d4b7556594fc80",
      "03d834f875324cec8702b197c47d525a",
      "b1fa93cef9394b24bcc05e3361b36944",
      "63f6a795f049451f9379b1146bd72dba"
     ]
    },
    "executionInfo": {
     "elapsed": 66065,
     "status": "ok",
     "timestamp": 1749120129790,
     "user": {
      "displayName": "Hung Thanh Do",
      "userId": "14602254202234053172"
     },
     "user_tz": -120
    },
    "id": "Ugez67gzRzxS",
    "outputId": "93f19833-dbc0-4cee-de19-c1b79b48a72d"
   },
   "outputs": [
    {
     "data": {
      "application/vnd.jupyter.widget-view+json": {
       "model_id": "1facc3481c474fd7974916b9db842d3c",
       "version_major": 2,
       "version_minor": 0
      },
      "text/plain": [
       "  0%|          | 0/6513 [00:00<?, ?it/s]"
      ]
     },
     "metadata": {},
     "output_type": "display_data"
    }
   ],
   "source": [
    "# Compute SHAP values for the entire test set\n",
    "shap_values = explainer.shap_values(X_test_np, nsamples=200)"
   ]
  },
  {
   "cell_type": "code",
   "execution_count": null,
   "metadata": {
    "colab": {
     "base_uri": "https://localhost:8080/"
    },
    "collapsed": true,
    "executionInfo": {
     "elapsed": 2595,
     "status": "ok",
     "timestamp": 1749118360461,
     "user": {
      "displayName": "Hung Thanh Do",
      "userId": "14602254202234053172"
     },
     "user_tz": -120
    },
    "id": "7-fBEqnSR2-4",
    "outputId": "cbc86804-ccf6-48a6-d5ee-fb7325db6eda"
   },
   "outputs": [
    {
     "name": "stderr",
     "output_type": "stream",
     "text": [
      "<ipython-input-55-4a600d38da37>:2: FutureWarning: The NumPy global RNG was seeded by calling `np.random.seed`. In a future version this function will no longer use the global RNG. Pass `rng` explicitly to opt-in to the new behaviour and silence this warning.\n",
      "  shap.summary_plot(shap_values, X_test_np, feature_names=X_test.columns)\n"
     ]
    },
    {
     "data": {
      "image/png": "[encoded data removed]",
      "text/plain": [
       "<Figure size 800x630 with 2 Axes>"
      ]
     },
     "metadata": {},
     "output_type": "display_data"
    }
   ],
   "source": [
    "# shap_values is an array with shape (n_samples, n_features)\n",
    "shap.summary_plot(shap_values, X_test_np, feature_names=X_test.columns)"
   ]
  },
  {
   "cell_type": "code",
   "execution_count": null,
   "metadata": {
    "id": "h2WZPLBzWxkN"
   },
   "outputs": [],
   "source": [
    "with open('saved_shap/tabresnet_shap_values_adults.pkl', 'wb') as f:\n",
    "    pickle.dump(shap_values, f)"
   ]
  },
  {
   "cell_type": "markdown",
   "metadata": {
    "id": "WeKnka-4W8Wr"
   },
   "source": [
    "## Quantus"
   ]
  },
  {
   "cell_type": "markdown",
   "metadata": {
    "id": "3sjk8HjT8wwx"
   },
   "source": [
    "### Wrapped model"
   ]
  },
  {
   "cell_type": "code",
   "execution_count": null,
   "metadata": {
    "colab": {
     "base_uri": "https://localhost:8080/"
    },
    "collapsed": true,
    "executionInfo": {
     "elapsed": 6,
     "status": "ok",
     "timestamp": 1749120142740,
     "user": {
      "displayName": "Hung Thanh Do",
      "userId": "14602254202234053172"
     },
     "user_tz": -120
    },
    "id": "m7Ly3zVDcC0m",
    "outputId": "c63bd830-851b-4e50-ee13-37f6855a83d5"
   },
   "outputs": [
    {
     "data": {
      "text/plain": [
       "TorchModelWrapper(\n",
       "  (model): TabResNet(\n",
       "    (input_projection): Linear(in_features=12, out_features=16, bias=True)\n",
       "    (resblocks): ModuleList(\n",
       "      (0-1): 2 x TabResBlock(\n",
       "        (bn1): BatchNorm1d(16, eps=1e-05, momentum=0.1, affine=True, track_running_stats=True)\n",
       "        (ln1): Linear(in_features=16, out_features=32, bias=True)\n",
       "        (relu1): ReLU()\n",
       "        (drop1): Dropout(p=0.2, inplace=False)\n",
       "        (ln2): Linear(in_features=32, out_features=16, bias=True)\n",
       "        (drop2): Dropout(p=0.05, inplace=False)\n",
       "      )\n",
       "    )\n",
       "    (predblock): Sequential(\n",
       "      (0): BatchNorm1d(16, eps=1e-05, momentum=0.1, affine=True, track_running_stats=True)\n",
       "      (1): ReLU()\n",
       "      (2): Linear(in_features=16, out_features=2, bias=True)\n",
       "    )\n",
       "  )\n",
       ")"
      ]
     },
     "execution_count": 73,
     "metadata": {},
     "output_type": "execute_result"
    }
   ],
   "source": [
    "# ---------------------------\n",
    "# Wrap Model for Quantus FaithfulnessCorrelation\n",
    "# ---------------------------\n",
    "class TorchModelWrapper(nn.Module):\n",
    "    def __init__(self, model):\n",
    "        super(TorchModelWrapper, self).__init__()\n",
    "        self.model = model\n",
    "        self.model.eval()\n",
    "\n",
    "    def forward(self, x):\n",
    "        return self.model(x)\n",
    "\n",
    "    def predict(self, X):\n",
    "        X = np.atleast_2d(X)\n",
    "        self.model.eval()\n",
    "        with torch.no_grad():\n",
    "            X_tensor = torch.from_numpy(X).float()\n",
    "            logits = self.model(X_tensor)\n",
    "            probs = torch.softmax(logits, dim=1).cpu().numpy()  # shape: (n_samples, 2)\n",
    "        return probs\n",
    "\n",
    "    def shape_input(self, x, shape, channel_first):\n",
    "        return np.atleast_2d(x)\n",
    "\n",
    "wrapped_model = TorchModelWrapper(model)\n",
    "wrapped_model.eval()"
   ]
  },
  {
   "cell_type": "code",
   "execution_count": null,
   "metadata": {
    "id": "KVUTJdUOcC0o"
   },
   "outputs": [],
   "source": [
    "# ---------------------------\n",
    "# Evaluate FaithfulnessCorrelation with Quantus using SHAP attributions\n",
    "# ---------------------------\n",
    "# Ensure y_test is of integer type\n",
    "y_test_int = y_test_np.astype(np.int64)"
   ]
  },
  {
   "cell_type": "markdown",
   "metadata": {
    "id": "ZIn5CdEP80QI"
   },
   "source": [
    "### Complexity"
   ]
  },
  {
   "cell_type": "code",
   "execution_count": null,
   "metadata": {
    "colab": {
     "base_uri": "https://localhost:8080/",
     "referenced_widgets": [
      "c140dc1c1799489fa46c78fb6846e77e",
      "a2eb572a16a44c8d811d3e3334edd1cc",
      "fbcc2cd15ecc482f9684bfaeb417e0b5",
      "18a9edc453234eeaa6b4d25d4935d099",
      "0b200f9103e74c18bb26d4890bab9cae",
      "c2cab8e5bbda433a953b09b9c93a1af0",
      "3c843fda626e4b959b6f1e0908f6130a",
      "7b062777d8b04afabe0ea7f1f0f30277",
      "953595a0f00343bcac299bf1953094bd",
      "10b89d985cb34c2c89045bc9896e6058",
      "0184853f17434131bfa6e99b7828bf94"
     ]
    },
    "executionInfo": {
     "elapsed": 1703,
     "status": "ok",
     "timestamp": 1749120154055,
     "user": {
      "displayName": "Hung Thanh Do",
      "userId": "14602254202234053172"
     },
     "user_tz": -120
    },
    "id": "cb58KRc6cC0o",
    "outputId": "51931e9d-80e0-4add-ea53-e2f4a4b54cdf"
   },
   "outputs": [
    {
     "data": {
      "application/vnd.jupyter.widget-view+json": {
       "model_id": "c140dc1c1799489fa46c78fb6846e77e",
       "version_major": 2,
       "version_minor": 0
      },
      "text/plain": [
       "  0%|          | 0/102.0 [00:00<?, ?it/s]"
      ]
     },
     "metadata": {},
     "output_type": "display_data"
    },
    {
     "name": "stdout",
     "output_type": "stream",
     "text": [
      "Complexity: Complexity by Bhatt et al., 2020.\n",
      "\n",
      " • SHAP =  0.7252321063055359\n"
     ]
    }
   ],
   "source": [
    "# Apply Complexity metric using SHAP attributions\n",
    "Complexity_shap = quantus.Complexity(\n",
    "    normalise=False,\n",
    "    abs=True,  # Take absolute values of attributions\n",
    "    disable_warnings=True,\n",
    "    display_progressbar=True,\n",
    "    aggregate_func=np.mean,  # Compute mean complexity over all samples\n",
    ")(\n",
    "    model=wrapped_model,\n",
    "    x_batch=X_test_np,\n",
    "    y_batch=y_test_int,\n",
    "    a_batch=shap_values,   # use SHAP attributions computed above\n",
    "    explain_func=None      # explanations are precomputed\n",
    ")\n",
    "\n",
    "# Scale to 0-1\n",
    "Complexity_shap = (Complexity_shap - min(Complexity_shap)) / (\n",
    "    max(Complexity_shap) - min(Complexity_shap)\n",
    ")\n",
    "\n",
    "# Find mean\n",
    "Complexity_shap = np.mean(Complexity_shap)\n",
    "\n",
    "print(\n",
    "    f\"Complexity: Complexity by Bhatt et al., 2020.\\n\"\n",
    "    f\"\\n • SHAP = \",\n",
    "    Complexity_shap,\n",
    ")"
   ]
  },
  {
   "cell_type": "code",
   "execution_count": null,
   "metadata": {
    "colab": {
     "base_uri": "https://localhost:8080/",
     "referenced_widgets": [
      "6148850fae254f09a7efad0f09b40ecf",
      "d2e974049edb46b28e25ed488838eacd",
      "9968e9625fdd48eaa5ff7fac7b557020",
      "2b3da27327aa4cac8ddfaf7f02197c5d",
      "e02725218ec943f1b8d86326a27a3f03",
      "1fc871fdbfe04667a68ed9432abac9cf",
      "08715ad86c734906b8a86d39b337555a",
      "01bebabca8784747be7d881c4a69d781",
      "5cf9e2b85dd745dc991a3a2a784babd9",
      "28ebe63988e54c04b3da0eb8dcaa1471",
      "469d9657cf7642d3986b8832064cd35c"
     ]
    },
    "executionInfo": {
     "elapsed": 566,
     "status": "ok",
     "timestamp": 1749120158929,
     "user": {
      "displayName": "Hung Thanh Do",
      "userId": "14602254202234053172"
     },
     "user_tz": -120
    },
    "id": "VXndEzS_cC0p",
    "outputId": "1deb6cbd-ec63-49a0-f44f-c092580a29b5"
   },
   "outputs": [
    {
     "data": {
      "application/vnd.jupyter.widget-view+json": {
       "model_id": "6148850fae254f09a7efad0f09b40ecf",
       "version_major": 2,
       "version_minor": 0
      },
      "text/plain": [
       "  0%|          | 0/102.0 [00:00<?, ?it/s]"
      ]
     },
     "metadata": {},
     "output_type": "display_data"
    },
    {
     "name": "stdout",
     "output_type": "stream",
     "text": [
      "Complexity: Sparseness by Chalasani et al., 2020.\n",
      "\n",
      " • SHAP =  [np.float64(0.6136722877670862)]\n"
     ]
    }
   ],
   "source": [
    "Sparseness_shap = quantus.Sparseness(\n",
    "    normalise=False,\n",
    "    abs=True, # take absolute values of attributions\n",
    "    disable_warnings=True,\n",
    "    display_progressbar=True,\n",
    "    return_aggregate=True, # find the mean of the complexity from all samples\n",
    "    aggregate_func=np.mean,\n",
    ")(\n",
    "    model=wrapped_model,\n",
    "    x_batch=X_test_np,\n",
    "    y_batch=y_test_int,\n",
    "    a_batch=shap_values,   # use SHAP attributions computed above\n",
    "    explain_func=None      # explanations are precomputed\n",
    ")\n",
    "\n",
    "# Already scaled to 0-1 -> keep aggregated (mean)\n",
    "\n",
    "print(\n",
    "    f\"Complexity: Sparseness by Chalasani et al., 2020.\\n\"\n",
    "    f\"\\n • SHAP = \",\n",
    "    Sparseness_shap,\n",
    ")"
   ]
  },
  {
   "cell_type": "markdown",
   "metadata": {
    "id": "D-b5Gcw082s0"
   },
   "source": [
    "### Faithfulness"
   ]
  },
  {
   "cell_type": "code",
   "execution_count": null,
   "metadata": {
    "colab": {
     "base_uri": "https://localhost:8080/",
     "referenced_widgets": [
      "20b6173e391a40c0bc0c23c621211594",
      "c3a5bb31708e4ac5b9e29d1d91b39706",
      "f778c09d9e534363a3fbd64a9b39d90c",
      "cbff45732fe9471d8ee2c00ccba9a38f",
      "61061885356646b9a65a99b14aca8c3d",
      "48be805f76c84c288e45705272facdd4",
      "0eadb74b9c434196a9c1906d0c8a693b",
      "2cb7f44141cd4055b9777e460d88fa03",
      "88f1bbebfb5a439094709a68b7549f62",
      "1e3ae826aad247bfbca6672cccae75ba",
      "795fe4bc40ed45d0ba25b0c572eee09b"
     ]
    },
    "executionInfo": {
     "elapsed": 84087,
     "status": "ok",
     "timestamp": 1749120255392,
     "user": {
      "displayName": "Hung Thanh Do",
      "userId": "14602254202234053172"
     },
     "user_tz": -120
    },
    "id": "DPPLpLc1cC0q",
    "outputId": "4cdd675c-c58d-4531-e086-2d009918a632"
   },
   "outputs": [
    {
     "data": {
      "application/vnd.jupyter.widget-view+json": {
       "model_id": "20b6173e391a40c0bc0c23c621211594",
       "version_major": 2,
       "version_minor": 0
      },
      "text/plain": [
       "  0%|          | 0/102.0 [00:00<?, ?it/s]"
      ]
     },
     "metadata": {},
     "output_type": "display_data"
    },
    {
     "name": "stdout",
     "output_type": "stream",
     "text": [
      "Faithfulness: Faithfulness Correlation by Bhatt et al., 2020.\n",
      "\n",
      " • SHAP =  0.6126948849527811\n"
     ]
    }
   ],
   "source": [
    "FaithfulnessCorrelation_shap = quantus.FaithfulnessCorrelation(\n",
    "    perturb_baseline=\"white\",\n",
    "    perturb_func=quantus.baseline_replacement_by_indices,\n",
    "    subset_size=5, # features to perturb\n",
    "    nr_runs=10,\n",
    "    similarity_func=quantus.similarity_func.correlation_pearson,\n",
    "    abs=True, # take absolute values of attributions\n",
    "    normalise=False, # do not normalise ohe data\n",
    "    return_aggregate=False, # (not) output 1 val instead of list of vals for all samples\n",
    "    aggregate_func=np.mean,\n",
    "    disable_warnings=True,\n",
    "    display_progressbar=True,\n",
    ")(\n",
    "    model=wrapped_model,\n",
    "    x_batch=X_test_np,\n",
    "    y_batch=y_test_int,\n",
    "    a_batch=shap_values,   # use SHAP attributions computed above\n",
    "    explain_func=None,      # explanations are precomputed\n",
    "    device=device\n",
    ")\n",
    "\n",
    "# Scale to 0-1\n",
    "FaithfulnessCorrelation_shap = (FaithfulnessCorrelation_shap - np.min(FaithfulnessCorrelation_shap)) / (\n",
    "    np.max(FaithfulnessCorrelation_shap) - np.min(FaithfulnessCorrelation_shap)\n",
    ")\n",
    "\n",
    "# Find mean\n",
    "FaithfulnessCorrelation_shap = np.mean(FaithfulnessCorrelation_shap)\n",
    "\n",
    "print(\n",
    "    f\"Faithfulness: Faithfulness Correlation by Bhatt et al., 2020.\\n\"\n",
    "    f\"\\n • SHAP = \",\n",
    "    FaithfulnessCorrelation_shap,\n",
    ")"
   ]
  },
  {
   "cell_type": "code",
   "execution_count": null,
   "metadata": {
    "colab": {
     "base_uri": "https://localhost:8080/",
     "referenced_widgets": [
      "5c47c6db6fd44d9eb09d37c062eeacb0",
      "c25808d95c33401381626a36482c880a",
      "d8472e20898c4f8399771ad7427663bd",
      "597c2afb888b403dacfc9466197c26f6",
      "d3c6405c9aae49f2b2af33968565fa82",
      "2485ca8363b74f8995bf2356ca066ed8",
      "2886a30faff34645a2747507eb84d7fa",
      "e991124718ad4503b0919a512f832daf",
      "f4e5c5de422e40ddb1c83d036d6f72d8",
      "17ce2541283b48c9a5d4164da4c62783",
      "69042ca252ef4bd29c074583227e3b39"
     ]
    },
    "executionInfo": {
     "elapsed": 119239,
     "status": "ok",
     "timestamp": 1749120391925,
     "user": {
      "displayName": "Hung Thanh Do",
      "userId": "14602254202234053172"
     },
     "user_tz": -120
    },
    "id": "dYi-soQJcC0r",
    "outputId": "00c0b4fe-3386-4b2c-f67b-ecaee8836487"
   },
   "outputs": [
    {
     "data": {
      "application/vnd.jupyter.widget-view+json": {
       "model_id": "5c47c6db6fd44d9eb09d37c062eeacb0",
       "version_major": 2,
       "version_minor": 0
      },
      "text/plain": [
       "  0%|          | 0/102.0 [00:00<?, ?it/s]"
      ]
     },
     "metadata": {},
     "output_type": "display_data"
    },
    {
     "name": "stderr",
     "output_type": "stream",
     "text": [
      "/usr/local/lib/python3.11/dist-packages/quantus/helpers/warn.py:257: UserWarning: The settings for perturbing input e.g., 'perturb_func' didn't cause change in input. Reconsider the parameter settings.\n",
      "  warnings.warn(\n"
     ]
    },
    {
     "name": "stdout",
     "output_type": "stream",
     "text": [
      "Faithfulness: Faithfulness Estimate by Alvarez-Melis et al., 2018.\n",
      "\n",
      " • SHAP =  0.6311414793088753\n"
     ]
    }
   ],
   "source": [
    "FaithfulnessEstimate_shap = quantus.FaithfulnessEstimate(\n",
    "    perturb_baseline=\"white\",\n",
    "    perturb_func=quantus.baseline_replacement_by_indices,\n",
    "    features_in_step=1, # features to perturb\n",
    "    similarity_func=quantus.similarity_func.correlation_pearson,\n",
    "    abs=True, # take absolute values of attributions\n",
    "    normalise=False, # do not normalise ohe data\n",
    "    return_aggregate=False, # (not) output 1 val instead of list of vals for all samples\n",
    "    aggregate_func=np.mean,\n",
    "    disable_warnings=True,\n",
    "    display_progressbar=True,\n",
    ")(\n",
    "    model=wrapped_model,\n",
    "    x_batch=X_test_np,\n",
    "    y_batch=y_test_int,\n",
    "    a_batch=shap_values,   # use SHAP attributions computed above\n",
    "    explain_func=None,      # explanations are precomputed\n",
    "    device=device\n",
    ")\n",
    "\n",
    "# Scale to 0-1\n",
    "FaithfulnessEstimate_shap = (FaithfulnessEstimate_shap - np.min(FaithfulnessEstimate_shap)) / (\n",
    "    np.max(FaithfulnessEstimate_shap) - np.min(FaithfulnessEstimate_shap)\n",
    ")\n",
    "\n",
    "# Find mean\n",
    "FaithfulnessEstimate_shap = np.mean(FaithfulnessEstimate_shap)\n",
    "\n",
    "print(\n",
    "    f\"Faithfulness: Faithfulness Estimate by Alvarez-Melis et al., 2018.\\n\"\n",
    "    f\"\\n • SHAP = \",\n",
    "    FaithfulnessEstimate_shap,\n",
    ")"
   ]
  },
  {
   "cell_type": "markdown",
   "metadata": {
    "id": "Cejt5SCX866J"
   },
   "source": [
    "### Robustness"
   ]
  },
  {
   "cell_type": "code",
   "execution_count": null,
   "metadata": {
    "colab": {
     "base_uri": "https://localhost:8080/",
     "height": 104,
     "referenced_widgets": [
      "03a731d59db142bd8697dea6d525d63e",
      "4bd6e4aa704044edb8b5cc21bf1a6091",
      "72f31dab16854f36b42d6ba1874b6f51",
      "c38fb4ac811f4f1c836c435b83d51e27",
      "855e632be56d4334abb37d3782b39441",
      "20154bbbf2cb4db996e8488df24ece39",
      "6f3001e226b74c349832a56da4aa4129",
      "d01c4f56950742c68f90c9dce978dd56",
      "1b61caede0ce4a14974e4b0dca45b2b8",
      "c9bb85938b2c401193f785fc2ecc06b9",
      "ef7e2c22b00c4c679a9102852dbd533b"
     ]
    },
    "executionInfo": {
     "elapsed": 410469,
     "status": "ok",
     "timestamp": 1749121003094,
     "user": {
      "displayName": "Hung Thanh Do",
      "userId": "14602254202234053172"
     },
     "user_tz": -120
    },
    "id": "iK0Xb1WocC0s",
    "outputId": "f8b83845-e2be-44a9-e71a-313aaba33471"
   },
   "outputs": [
    {
     "data": {
      "application/vnd.jupyter.widget-view+json": {
       "model_id": "03a731d59db142bd8697dea6d525d63e",
       "version_major": 2,
       "version_minor": 0
      },
      "text/plain": [
       "  0%|          | 0/102.0 [00:00<?, ?it/s]"
      ]
     },
     "metadata": {},
     "output_type": "display_data"
    },
    {
     "name": "stdout",
     "output_type": "stream",
     "text": [
      "Robustness: Local Lipschitz Estimate by Alvarez-Melis et al., 2018.\n",
      "\n",
      " • SHAP =  0.1997408725726275\n"
     ]
    }
   ],
   "source": [
    "LocalLipschitzEstimate_shap = quantus.LocalLipschitzEstimate(\n",
    "    normalise=False,\n",
    "    abs=True, # take absolute values of attributions\n",
    "    nr_samples = 20,\n",
    "    disable_warnings=True,\n",
    "    display_progressbar=True,\n",
    "    # return_aggregate=True, # find the mean of the complexity from all samples\n",
    "    aggregate_func=np.mean,\n",
    ")(\n",
    "    model=wrapped_model,\n",
    "    x_batch=X_test_np,\n",
    "    y_batch=y_test_int,\n",
    "    # a_batch=shap_values,   # use SHAP attributions computed above\n",
    "    # explain_func=None      # explanations are precomputed\n",
    "    a_batch=None,\n",
    "    explain_func=quantus.explain,\n",
    "    explain_func_kwargs={\"method\": \"DeepLiftShap\", \"reduce_axes\": ()},\n",
    "    device=device\n",
    ")\n",
    "\n",
    "# Scale to 0-1\n",
    "LocalLipschitzEstimate_shap = (LocalLipschitzEstimate_shap - np.min(LocalLipschitzEstimate_shap)) / (\n",
    "    np.max(LocalLipschitzEstimate_shap) - np.min(LocalLipschitzEstimate_shap)\n",
    ")\n",
    "\n",
    "# Find mean\n",
    "LocalLipschitzEstimate_shap = np.mean(LocalLipschitzEstimate_shap)\n",
    "\n",
    "print(\n",
    "    f\"Robustness: Local Lipschitz Estimate by Alvarez-Melis et al., 2018.\\n\"\n",
    "    f\"\\n • SHAP = \",\n",
    "    LocalLipschitzEstimate_shap,\n",
    ")"
   ]
  },
  {
   "cell_type": "markdown",
   "metadata": {
    "id": "JWmS1gRg880O"
   },
   "source": [
    "### Randomisation"
   ]
  },
  {
   "cell_type": "code",
   "execution_count": null,
   "metadata": {
    "colab": {
     "base_uri": "https://localhost:8080/",
     "height": 104,
     "referenced_widgets": [
      "8105cc98859c4f78ab5117172d0fa1b0",
      "3ab34c27a5824600ac9f1dea5a76f8f9",
      "465af51ec60a41478b747f60f0816a49",
      "4c67c1325c904b1e94d45a1474da088c",
      "531b5889a47b463cbc24a4084a2fc709",
      "711deb7a61bd4bcda36e0f7dfe62e3e9",
      "8347fbf055964b15ab0b86a720149286",
      "4c86ec125f944593bf27e94f74570254",
      "3811a84fdd9e4184975c37552b416a0c",
      "3d44396763ff4350bf9d47e5b349ab98",
      "1b2ecf28413b4b139b5696da742877be"
     ]
    },
    "executionInfo": {
     "elapsed": 29326,
     "status": "ok",
     "timestamp": 1749121032452,
     "user": {
      "displayName": "Hung Thanh Do",
      "userId": "14602254202234053172"
     },
     "user_tz": -120
    },
    "id": "6zMVrRsIcC0t",
    "outputId": "d9104888-3c76-43d1-dd2d-9ef95727820f"
   },
   "outputs": [
    {
     "data": {
      "application/vnd.jupyter.widget-view+json": {
       "model_id": "8105cc98859c4f78ab5117172d0fa1b0",
       "version_major": 2,
       "version_minor": 0
      },
      "text/plain": [
       "  0%|          | 0/102.0 [00:00<?, ?it/s]"
      ]
     },
     "metadata": {},
     "output_type": "display_data"
    },
    {
     "name": "stdout",
     "output_type": "stream",
     "text": [
      "Randomisation: RandomLogit scores by Sixt et al., 2020.\n",
      "\n",
      " • SHAP =  [np.float64(0.9422187322518178)]\n"
     ]
    }
   ],
   "source": [
    "RandomLogit_shap = quantus.RandomLogit(\n",
    "    num_classes=2,\n",
    "    disable_warnings=True,\n",
    "    normalise=False,\n",
    "    abs=True, # take absolute values of attributions\n",
    "    display_progressbar=True,\n",
    "    return_aggregate=True, # find the mean of the complexity from all samples\n",
    "    aggregate_func=np.mean,\n",
    ")(\n",
    "    model=wrapped_model,\n",
    "    x_batch=X_test_np,\n",
    "    y_batch=y_test_int,\n",
    "    # a_batch=shap_values,   # use SHAP attributions computed above\n",
    "    # explain_func=None      # explanations are precomputed\n",
    "    a_batch=None,\n",
    "    explain_func=quantus.explain,\n",
    "    explain_func_kwargs={\"method\": \"GradientShap\", \"reduce_axes\": ()},\n",
    "    device=device\n",
    ")\n",
    "\n",
    "# Already scaled to 0-1 -> keep aggregated (mean)\n",
    "\n",
    "print(\n",
    "    f\"Randomisation: RandomLogit scores by Sixt et al., 2020.\\n\"\n",
    "    f\"\\n • SHAP = \",\n",
    "    RandomLogit_shap,\n",
    ")"
   ]
  },
  {
   "cell_type": "code",
   "execution_count": null,
   "metadata": {
    "colab": {
     "base_uri": "https://localhost:8080/",
     "height": 104,
     "referenced_widgets": [
      "192a4c440e4240a3a9a9a94b21a296c0",
      "672d5d1924c449988c62ab95abc2e777",
      "cb7f938cc1684408aaeed4dec9661ec8",
      "1864290131824cba8179de4571d7fae2",
      "025f0475014f4501b2f112edc8d1d295",
      "18d42f9d3f944f03ac00b367cc1c02a6",
      "0ea0c770461d462db7d69498d8a71f43",
      "cd67e2c983264044b60987332969414b",
      "8c117ef640f94a158197dd2a585ad240",
      "a4efe9cd3c6349cfa2d2a30c0e86d4d1",
      "e666194b6a6f4e78b20d194e6ea2f84b"
     ]
    },
    "executionInfo": {
     "elapsed": 24121,
     "status": "ok",
     "timestamp": 1749121056574,
     "user": {
      "displayName": "Hung Thanh Do",
      "userId": "14602254202234053172"
     },
     "user_tz": -120
    },
    "id": "g1HNPSCtcC0u",
    "outputId": "cb63c374-373d-4566-8549-8932a06df3d0"
   },
   "outputs": [
    {
     "data": {
      "application/vnd.jupyter.widget-view+json": {
       "model_id": "192a4c440e4240a3a9a9a94b21a296c0",
       "version_major": 2,
       "version_minor": 0
      },
      "text/plain": [
       "  0%|          | 0/58617 [00:00<?, ?it/s]"
      ]
     },
     "metadata": {},
     "output_type": "display_data"
    },
    {
     "name": "stdout",
     "output_type": "stream",
     "text": [
      "Randomisation: MPRT scores by Adebayo et al., 2018\n",
      "\n",
      " • SHAP =  0.6599999902910786\n"
     ]
    }
   ],
   "source": [
    "MPRT_shap = quantus.MPRT(\n",
    "    # similarity_func=quantus.similarity_func.correlation_spearman,\n",
    "    return_average_correlation=True,\n",
    "    # return_aggregate=True, # find the mean of the complexity from all samples\n",
    "    aggregate_func=np.mean,\n",
    "    layer_order=\"independent\",\n",
    "    similarity_func=quantus.ssim,\n",
    "    disable_warnings=True,\n",
    "    normalise=False,\n",
    "    abs=True, # take absolute values of attributions\n",
    "    display_progressbar=True,\n",
    ")(\n",
    "    model=wrapped_model,\n",
    "    x_batch=X_test_np,\n",
    "    y_batch=y_test_int,\n",
    "    # a_batch=shap_values,   # use SHAP attributions computed above\n",
    "    # explain_func=None      # explanations are precomputed\n",
    "    a_batch=None,\n",
    "    explain_func=quantus.explain,\n",
    "    explain_func_kwargs={\"method\": \"GradientShap\", \"reduce_axes\": ()},\n",
    "    device=device\n",
    ")\n",
    "\n",
    "# Scale to 0-1\n",
    "MPRT_shap = (MPRT_shap - np.min(MPRT_shap)) / (\n",
    "    np.max(MPRT_shap) - np.min(MPRT_shap)\n",
    ")\n",
    "\n",
    "# Find mean\n",
    "MPRT_shap = np.mean(MPRT_shap)\n",
    "\n",
    "print(\n",
    "    f\"Randomisation: MPRT scores by Adebayo et al., 2018\\n\"\n",
    "    f\"\\n • SHAP = \",\n",
    "    MPRT_shap,\n",
    ")"
   ]
  },
  {
   "cell_type": "markdown",
   "metadata": {
    "id": "ZWL66CUE8_02"
   },
   "source": [
    "### Summary (all)"
   ]
  },
  {
   "cell_type": "code",
   "execution_count": null,
   "metadata": {
    "colab": {
     "base_uri": "https://localhost:8080/"
    },
    "executionInfo": {
     "elapsed": 17,
     "status": "ok",
     "timestamp": 1749121056593,
     "user": {
      "displayName": "Hung Thanh Do",
      "userId": "14602254202234053172"
     },
     "user_tz": -120
    },
    "id": "eWyQf0EScC0v",
    "outputId": "e568f555-a56e-4f2d-c1b3-365fe22f84ba"
   },
   "outputs": [
    {
     "name": "stderr",
     "output_type": "stream",
     "text": [
      "<ipython-input-83-acd3cc85ebb0>:12: DeprecationWarning: Conversion of an array with ndim > 0 to a scalar is deprecated, and will error in future. Ensure you extract a single element from your array before performing this operation. (Deprecated NumPy 1.25.)\n",
      "  Sparseness_shap = round(float(Sparseness_shap), 4)\n",
      "<ipython-input-83-acd3cc85ebb0>:14: DeprecationWarning: Conversion of an array with ndim > 0 to a scalar is deprecated, and will error in future. Ensure you extract a single element from your array before performing this operation. (Deprecated NumPy 1.25.)\n",
      "  RandomLogit_shap = round(float(RandomLogit_shap), 4)\n"
     ]
    }
   ],
   "source": [
    "# Convert from list to int\n",
    "Complexity_shap = np.float64(Complexity_shap)\n",
    "Sparseness_shap = np.float64(Sparseness_shap)\n",
    "MPRT_shap = np.float64(MPRT_shap)\n",
    "RandomLogit_shap = np.float64(RandomLogit_shap)\n",
    "FaithfulnessEstimate_shap = np.float64(FaithfulnessEstimate_shap)\n",
    "FaithfulnessCorrelation_shap = np.float64(FaithfulnessCorrelation_shap)\n",
    "LocalLipschitzEstimate_shap = np.float64(LocalLipschitzEstimate_shap)\n",
    "\n",
    "# Rounding one by one\n",
    "Complexity_shap = round(float(Complexity_shap), 4)\n",
    "Sparseness_shap = round(float(Sparseness_shap), 4)\n",
    "MPRT_shap = round(float(MPRT_shap), 4)\n",
    "RandomLogit_shap = round(float(RandomLogit_shap), 4)\n",
    "FaithfulnessEstimate_shap = round(float(FaithfulnessEstimate_shap), 4)\n",
    "FaithfulnessCorrelation_shap = round(float(FaithfulnessCorrelation_shap), 4)\n",
    "LocalLipschitzEstimate_shap = round(float(LocalLipschitzEstimate_shap), 4)"
   ]
  },
  {
   "cell_type": "code",
   "execution_count": null,
   "metadata": {
    "colab": {
     "base_uri": "https://localhost:8080/"
    },
    "executionInfo": {
     "elapsed": 54,
     "status": "ok",
     "timestamp": 1749121056649,
     "user": {
      "displayName": "Hung Thanh Do",
      "userId": "14602254202234053172"
     },
     "user_tz": -120
    },
    "id": "Efr-b8r0cC0v",
    "outputId": "ab06d8a9-2d43-43a0-e7f7-46f92beb091f"
   },
   "outputs": [
    {
     "data": {
      "text/markdown": [
       "#### Explanability scores"
      ],
      "text/plain": [
       "<IPython.core.display.Markdown object>"
      ]
     },
     "metadata": {},
     "output_type": "display_data"
    },
    {
     "name": "stdout",
     "output_type": "stream",
     "text": [
      "Complexity: Complexity by Bhatt et al., 2020.\n",
      "\n",
      " • SHAP =  0.7252\n",
      "Complexity: Sparseness by Chalasani et al., 2020.\n",
      "\n",
      " • SHAP =  0.6137\n",
      "Faithfulness: Faithfulness Estimate by Alvarez-Melis et al., 2018.\n",
      "\n",
      " • SHAP =  0.6311\n",
      "Faithfulness: Faithfulness Correlation by Bhatt et al., 2020.\n",
      "\n",
      " • SHAP =  0.6127\n",
      "Robustness: Local Lipschitz Estimate by Alvarez-Melis et al., 2018.\n",
      "\n",
      " • SHAP =  0.1997\n",
      "Randomisation: MPRT scores by Adebayo et al., 2018\n",
      "\n",
      " • SHAP =  0.66\n",
      "Randomisation: RandomLogit scores by Sixt et al., 2020.\n",
      "\n",
      " • SHAP =  0.9422\n"
     ]
    }
   ],
   "source": [
    "display(Markdown(\"#### Explanability scores\"))\n",
    "\n",
    "# Complexity: Complexity\n",
    "print(\n",
    "    f\"Complexity: Complexity by Bhatt et al., 2020.\\n\"\n",
    "    f\"\\n • SHAP = \",\n",
    "    Complexity_shap,\n",
    ")\n",
    "\n",
    "# Complexity: Sparseness\n",
    "print(\n",
    "    f\"Complexity: Sparseness by Chalasani et al., 2020.\\n\"\n",
    "    f\"\\n • SHAP = \",\n",
    "    Sparseness_shap,\n",
    ")\n",
    "\n",
    "# Faithfulness: Faithfulness Estimate\n",
    "print(\n",
    "    f\"Faithfulness: Faithfulness Estimate by Alvarez-Melis et al., 2018.\\n\"\n",
    "    f\"\\n • SHAP = \",\n",
    "    FaithfulnessEstimate_shap,\n",
    ")\n",
    "\n",
    "# Faithfulness: Faithfulness Correlation\n",
    "print(\n",
    "    f\"Faithfulness: Faithfulness Correlation by Bhatt et al., 2020.\\n\"\n",
    "    f\"\\n • SHAP = \",\n",
    "    FaithfulnessCorrelation_shap,\n",
    ")\n",
    "\n",
    "# Robustness: Local Lipschitz Estimate\n",
    "print(\n",
    "    f\"Robustness: Local Lipschitz Estimate by Alvarez-Melis et al., 2018.\\n\"\n",
    "    f\"\\n • SHAP = \",\n",
    "    LocalLipschitzEstimate_shap,\n",
    ")\n",
    "\n",
    "# Randomisation: MPRT\n",
    "print(\n",
    "    f\"Randomisation: MPRT scores by Adebayo et al., 2018\\n\"\n",
    "    f\"\\n • SHAP = \",\n",
    "    MPRT_shap,\n",
    ")\n",
    "\n",
    "# Randomisation: RandomLogit\n",
    "print(\n",
    "    f\"Randomisation: RandomLogit scores by Sixt et al., 2020.\\n\"\n",
    "    f\"\\n • SHAP = \",\n",
    "    RandomLogit_shap,\n",
    ")"
   ]
  },
  {
   "cell_type": "markdown",
   "metadata": {
    "id": "BtlixmvE9Ez2"
   },
   "source": [
    "### Summary"
   ]
  },
  {
   "cell_type": "code",
   "execution_count": null,
   "metadata": {
    "colab": {
     "base_uri": "https://localhost:8080/",
     "height": 203
    },
    "executionInfo": {
     "elapsed": 10,
     "status": "ok",
     "timestamp": 1749121056651,
     "user": {
      "displayName": "Hung Thanh Do",
      "userId": "14602254202234053172"
     },
     "user_tz": -120
    },
    "id": "rPnTGSIqcC0w",
    "outputId": "d3b50fe8-6bbd-4790-eced-6a3ac5a01340"
   },
   "outputs": [
    {
     "data": {
      "text/markdown": [
       "#### Explanability scores (grouped)"
      ],
      "text/plain": [
       "<IPython.core.display.Markdown object>"
      ]
     },
     "metadata": {},
     "output_type": "display_data"
    },
    {
     "name": "stdout",
     "output_type": "stream",
     "text": [
      "Complexity\n",
      " • SHAP =  0.6694\n",
      "Faithfulness\n",
      " • SHAP =  0.6219\n",
      "Robustness\n",
      " • SHAP =  0.1997\n",
      "Randomisation\n",
      " • SHAP =  0.8011\n"
     ]
    }
   ],
   "source": [
    "display(Markdown(\"#### Explanability scores (grouped)\"))\n",
    "\n",
    "# Complexity: Complexity and Sparseness\n",
    "print(\n",
    "    f\"Complexity\"\n",
    "    f\"\\n • SHAP = \",\n",
    "    round(float((Complexity_shap+Sparseness_shap)/2), 4),\n",
    ")\n",
    "\n",
    "# Faithfulness: Faithfulness Estimate and Faithfulness Correlation\n",
    "print(\n",
    "    f\"Faithfulness\"\n",
    "    f\"\\n • SHAP = \",\n",
    "    round(float((FaithfulnessEstimate_shap+FaithfulnessCorrelation_shap)/2), 4),\n",
    ")\n",
    "\n",
    "# Robustness: Local Lipschitz Estimate\n",
    "print(\n",
    "    f\"Robustness\"\n",
    "    f\"\\n • SHAP = \",\n",
    "    round(float((LocalLipschitzEstimate_shap)), 4),\n",
    ")\n",
    "\n",
    "# Randomisation: MPRT and RandomLogit\n",
    "print(\n",
    "    f\"Randomisation\"\n",
    "    f\"\\n • SHAP = \",\n",
    "    round(float((MPRT_shap+RandomLogit_shap)/2), 4)\n",
    ")"
   ]
  }
 ],
 "metadata": {
  "accelerator": "GPU",
  "colab": {
   "collapsed_sections": [
    "Is29vjDMguUu",
    "aC5ZZqGOhTyj",
    "ww-ihnSUcCz2",
    "8PJTcdufcCz8",
    "J22g3WEccC0I",
    "9WQFnpP-BKXf",
    "5YPtTBtAcC0M",
    "8LOjCrHHwbOB",
    "Ks22oBz4slUV",
    "P9EjvXsikvxQ",
    "1gJjAIf6wdn3",
    "fdDKIkVy1VIZ",
    "GfVfYd_ZcC0Q",
    "XgGkV5PQvuJ5",
    "QwRz19sNcC0S",
    "Y6-sLOD-zBTv",
    "IRoRVOmvcC0d",
    "UgJ9XJAWDev3",
    "VWidOEaa3mZY",
    "jH04qWhr3tVD",
    "yTDTFkGC3vZ5",
    "i5_KtRwdaLyS",
    "HUXvLWaUaKBy",
    "a2BXWIAgaIkW",
    "3WHxrUC9LHzf",
    "BWBPPYE99hYo",
    "RoNdVZAX9hYp",
    "OgbQkgex9hYp",
    "-PTNaUfh9hYp",
    "qoAZscdR9hYq",
    "ki-IgGuwcC0k",
    "3sjk8HjT8wwx",
    "ZIn5CdEP80QI",
    "D-b5Gcw082s0",
    "Cejt5SCX866J",
    "JWmS1gRg880O",
    "ZWL66CUE8_02"
   ],
   "gpuType": "T4",
   "provenance": []
  },
  "kernelspec": {
   "display_name": "Python 3",
   "name": "python3"
  },
  "language_info": {
   "codemirror_mode": {
    "name": "ipython",
    "version": 3
   },
   "file_extension": ".py",
   "mimetype": "text/x-python",
   "name": "python",
   "nbconvert_exporter": "python",
   "pygments_lexer": "ipython3",
   "version": "3.11.11"
  }
 },
 "nbformat": 4,
 "nbformat_minor": 0
}
