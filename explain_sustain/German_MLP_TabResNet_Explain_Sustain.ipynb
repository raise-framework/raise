{
 "cells": [
  {
   "cell_type": "code",
   "execution_count": null,
   "metadata": {
    "colab": {
     "base_uri": "https://localhost:8080/"
    },
    "executionInfo": {
     "elapsed": 18117,
     "status": "ok",
     "timestamp": 1749313912066,
     "user": {
      "displayName": "Hung Thanh Do",
      "userId": "14602254202234053172"
     },
     "user_tz": -120
    },
    "id": "TIWNQeLSc3hZ",
    "outputId": "a31f4ef3-c5df-42a5-9b25-868d4ea5aa77"
   },
   "outputs": [
    {
     "name": "stdout",
     "output_type": "stream",
     "text": [
      "Mounted at /content/drive\n"
     ]
    }
   ],
   "source": [
    "from google.colab import drive\n",
    "drive.mount('/content/drive')"
   ]
  },
  {
   "cell_type": "code",
   "execution_count": null,
   "metadata": {
    "colab": {
     "base_uri": "https://localhost:8080/"
    },
    "executionInfo": {
     "elapsed": 240,
     "status": "ok",
     "timestamp": 1749313912307,
     "user": {
      "displayName": "Hung Thanh Do",
      "userId": "14602254202234053172"
     },
     "user_tz": -120
    },
    "id": "I_cTfQx5c9vh",
    "outputId": "f8df5649-40ef-418e-f79f-13279d2215c9"
   },
   "outputs": [
    {
     "name": "stdout",
     "output_type": "stream",
     "text": [
      "/content/drive/MyDrive/responsive-ai\n"
     ]
    }
   ],
   "source": [
    "%cd '/content/drive/MyDrive/responsive-ai'"
   ]
  },
  {
   "cell_type": "markdown",
   "metadata": {
    "id": "Is29vjDMguUu"
   },
   "source": [
    "## Dependencies"
   ]
  },
  {
   "cell_type": "code",
   "execution_count": null,
   "metadata": {
    "colab": {
     "base_uri": "https://localhost:8080/"
    },
    "collapsed": true,
    "executionInfo": {
     "elapsed": 101339,
     "status": "ok",
     "timestamp": 1749314015852,
     "user": {
      "displayName": "Hung Thanh Do",
      "userId": "14602254202234053172"
     },
     "user_tz": -120
    },
    "id": "FHPPoGT3dE4O",
    "outputId": "c1a1b2a2-bd7e-422d-f034-84928123a918"
   },
   "outputs": [
    {
     "name": "stdout",
     "output_type": "stream",
     "text": [
      "Collecting quantus\n",
      "  Downloading quantus-0.5.3-py3-none-any.whl.metadata (34 kB)\n",
      "Requirement already satisfied: numpy>=1.19.5 in /usr/local/lib/python3.11/dist-packages (from quantus) (2.0.2)\n",
      "Requirement already satisfied: pandas>=1.5.3 in /usr/local/lib/python3.11/dist-packages (from quantus) (2.2.2)\n",
      "Requirement already satisfied: opencv-python>=4.5.5.62 in /usr/local/lib/python3.11/dist-packages (from quantus) (4.11.0.86)\n",
      "Requirement already satisfied: scikit-image>=0.19.3 in /usr/local/lib/python3.11/dist-packages (from quantus) (0.25.2)\n",
      "Requirement already satisfied: scikit-learn>=0.24.2 in /usr/local/lib/python3.11/dist-packages (from quantus) (1.6.1)\n",
      "Requirement already satisfied: scipy>=1.7.3 in /usr/local/lib/python3.11/dist-packages (from quantus) (1.15.3)\n",
      "Requirement already satisfied: tqdm>=4.62.3 in /usr/local/lib/python3.11/dist-packages (from quantus) (4.67.1)\n",
      "Requirement already satisfied: matplotlib>=3.3.4 in /usr/local/lib/python3.11/dist-packages (from quantus) (3.10.0)\n",
      "Requirement already satisfied: contourpy>=1.0.1 in /usr/local/lib/python3.11/dist-packages (from matplotlib>=3.3.4->quantus) (1.3.2)\n",
      "Requirement already satisfied: cycler>=0.10 in /usr/local/lib/python3.11/dist-packages (from matplotlib>=3.3.4->quantus) (0.12.1)\n",
      "Requirement already satisfied: fonttools>=4.22.0 in /usr/local/lib/python3.11/dist-packages (from matplotlib>=3.3.4->quantus) (4.58.1)\n",
      "Requirement already satisfied: kiwisolver>=1.3.1 in /usr/local/lib/python3.11/dist-packages (from matplotlib>=3.3.4->quantus) (1.4.8)\n",
      "Requirement already satisfied: packaging>=20.0 in /usr/local/lib/python3.11/dist-packages (from matplotlib>=3.3.4->quantus) (24.2)\n",
      "Requirement already satisfied: pillow>=8 in /usr/local/lib/python3.11/dist-packages (from matplotlib>=3.3.4->quantus) (11.2.1)\n",
      "Requirement already satisfied: pyparsing>=2.3.1 in /usr/local/lib/python3.11/dist-packages (from matplotlib>=3.3.4->quantus) (3.2.3)\n",
      "Requirement already satisfied: python-dateutil>=2.7 in /usr/local/lib/python3.11/dist-packages (from matplotlib>=3.3.4->quantus) (2.9.0.post0)\n",
      "Requirement already satisfied: pytz>=2020.1 in /usr/local/lib/python3.11/dist-packages (from pandas>=1.5.3->quantus) (2025.2)\n",
      "Requirement already satisfied: tzdata>=2022.7 in /usr/local/lib/python3.11/dist-packages (from pandas>=1.5.3->quantus) (2025.2)\n",
      "Requirement already satisfied: networkx>=3.0 in /usr/local/lib/python3.11/dist-packages (from scikit-image>=0.19.3->quantus) (3.5)\n",
      "Requirement already satisfied: imageio!=2.35.0,>=2.33 in /usr/local/lib/python3.11/dist-packages (from scikit-image>=0.19.3->quantus) (2.37.0)\n",
      "Requirement already satisfied: tifffile>=2022.8.12 in /usr/local/lib/python3.11/dist-packages (from scikit-image>=0.19.3->quantus) (2025.6.1)\n",
      "Requirement already satisfied: lazy-loader>=0.4 in /usr/local/lib/python3.11/dist-packages (from scikit-image>=0.19.3->quantus) (0.4)\n",
      "Requirement already satisfied: joblib>=1.2.0 in /usr/local/lib/python3.11/dist-packages (from scikit-learn>=0.24.2->quantus) (1.5.1)\n",
      "Requirement already satisfied: threadpoolctl>=3.1.0 in /usr/local/lib/python3.11/dist-packages (from scikit-learn>=0.24.2->quantus) (3.6.0)\n",
      "Requirement already satisfied: six>=1.5 in /usr/local/lib/python3.11/dist-packages (from python-dateutil>=2.7->matplotlib>=3.3.4->quantus) (1.17.0)\n",
      "Downloading quantus-0.5.3-py3-none-any.whl (266 kB)\n",
      "\u001b[2K   \u001b[90m━━━━━━━━━━━━━━━━━━━━━━━━━━━━━━━━━━━━━━━━\u001b[0m \u001b[32m266.1/266.1 kB\u001b[0m \u001b[31m13.5 MB/s\u001b[0m eta \u001b[36m0:00:00\u001b[0m\n",
      "\u001b[?25hInstalling collected packages: quantus\n",
      "Successfully installed quantus-0.5.3\n",
      "Collecting captum==0.7.0\n",
      "  Downloading captum-0.7.0-py3-none-any.whl.metadata (26 kB)\n",
      "Requirement already satisfied: matplotlib in /usr/local/lib/python3.11/dist-packages (from captum==0.7.0) (3.10.0)\n",
      "Requirement already satisfied: numpy in /usr/local/lib/python3.11/dist-packages (from captum==0.7.0) (2.0.2)\n",
      "Requirement already satisfied: torch>=1.6 in /usr/local/lib/python3.11/dist-packages (from captum==0.7.0) (2.6.0+cu124)\n",
      "Requirement already satisfied: tqdm in /usr/local/lib/python3.11/dist-packages (from captum==0.7.0) (4.67.1)\n",
      "Requirement already satisfied: filelock in /usr/local/lib/python3.11/dist-packages (from torch>=1.6->captum==0.7.0) (3.18.0)\n",
      "Requirement already satisfied: typing-extensions>=4.10.0 in /usr/local/lib/python3.11/dist-packages (from torch>=1.6->captum==0.7.0) (4.14.0)\n",
      "Requirement already satisfied: networkx in /usr/local/lib/python3.11/dist-packages (from torch>=1.6->captum==0.7.0) (3.5)\n",
      "Requirement already satisfied: jinja2 in /usr/local/lib/python3.11/dist-packages (from torch>=1.6->captum==0.7.0) (3.1.6)\n",
      "Requirement already satisfied: fsspec in /usr/local/lib/python3.11/dist-packages (from torch>=1.6->captum==0.7.0) (2025.3.2)\n",
      "Collecting nvidia-cuda-nvrtc-cu12==12.4.127 (from torch>=1.6->captum==0.7.0)\n",
      "  Downloading nvidia_cuda_nvrtc_cu12-12.4.127-py3-none-manylinux2014_x86_64.whl.metadata (1.5 kB)\n",
      "Collecting nvidia-cuda-runtime-cu12==12.4.127 (from torch>=1.6->captum==0.7.0)\n",
      "  Downloading nvidia_cuda_runtime_cu12-12.4.127-py3-none-manylinux2014_x86_64.whl.metadata (1.5 kB)\n",
      "Collecting nvidia-cuda-cupti-cu12==12.4.127 (from torch>=1.6->captum==0.7.0)\n",
      "  Downloading nvidia_cuda_cupti_cu12-12.4.127-py3-none-manylinux2014_x86_64.whl.metadata (1.6 kB)\n",
      "Collecting nvidia-cudnn-cu12==9.1.0.70 (from torch>=1.6->captum==0.7.0)\n",
      "  Downloading nvidia_cudnn_cu12-9.1.0.70-py3-none-manylinux2014_x86_64.whl.metadata (1.6 kB)\n",
      "Collecting nvidia-cublas-cu12==12.4.5.8 (from torch>=1.6->captum==0.7.0)\n",
      "  Downloading nvidia_cublas_cu12-12.4.5.8-py3-none-manylinux2014_x86_64.whl.metadata (1.5 kB)\n",
      "Collecting nvidia-cufft-cu12==11.2.1.3 (from torch>=1.6->captum==0.7.0)\n",
      "  Downloading nvidia_cufft_cu12-11.2.1.3-py3-none-manylinux2014_x86_64.whl.metadata (1.5 kB)\n",
      "Collecting nvidia-curand-cu12==10.3.5.147 (from torch>=1.6->captum==0.7.0)\n",
      "  Downloading nvidia_curand_cu12-10.3.5.147-py3-none-manylinux2014_x86_64.whl.metadata (1.5 kB)\n",
      "Collecting nvidia-cusolver-cu12==11.6.1.9 (from torch>=1.6->captum==0.7.0)\n",
      "  Downloading nvidia_cusolver_cu12-11.6.1.9-py3-none-manylinux2014_x86_64.whl.metadata (1.6 kB)\n",
      "Collecting nvidia-cusparse-cu12==12.3.1.170 (from torch>=1.6->captum==0.7.0)\n",
      "  Downloading nvidia_cusparse_cu12-12.3.1.170-py3-none-manylinux2014_x86_64.whl.metadata (1.6 kB)\n",
      "Requirement already satisfied: nvidia-cusparselt-cu12==0.6.2 in /usr/local/lib/python3.11/dist-packages (from torch>=1.6->captum==0.7.0) (0.6.2)\n",
      "Requirement already satisfied: nvidia-nccl-cu12==2.21.5 in /usr/local/lib/python3.11/dist-packages (from torch>=1.6->captum==0.7.0) (2.21.5)\n",
      "Requirement already satisfied: nvidia-nvtx-cu12==12.4.127 in /usr/local/lib/python3.11/dist-packages (from torch>=1.6->captum==0.7.0) (12.4.127)\n",
      "Collecting nvidia-nvjitlink-cu12==12.4.127 (from torch>=1.6->captum==0.7.0)\n",
      "  Downloading nvidia_nvjitlink_cu12-12.4.127-py3-none-manylinux2014_x86_64.whl.metadata (1.5 kB)\n",
      "Requirement already satisfied: triton==3.2.0 in /usr/local/lib/python3.11/dist-packages (from torch>=1.6->captum==0.7.0) (3.2.0)\n",
      "Requirement already satisfied: sympy==1.13.1 in /usr/local/lib/python3.11/dist-packages (from torch>=1.6->captum==0.7.0) (1.13.1)\n",
      "Requirement already satisfied: mpmath<1.4,>=1.1.0 in /usr/local/lib/python3.11/dist-packages (from sympy==1.13.1->torch>=1.6->captum==0.7.0) (1.3.0)\n",
      "Requirement already satisfied: contourpy>=1.0.1 in /usr/local/lib/python3.11/dist-packages (from matplotlib->captum==0.7.0) (1.3.2)\n",
      "Requirement already satisfied: cycler>=0.10 in /usr/local/lib/python3.11/dist-packages (from matplotlib->captum==0.7.0) (0.12.1)\n",
      "Requirement already satisfied: fonttools>=4.22.0 in /usr/local/lib/python3.11/dist-packages (from matplotlib->captum==0.7.0) (4.58.1)\n",
      "Requirement already satisfied: kiwisolver>=1.3.1 in /usr/local/lib/python3.11/dist-packages (from matplotlib->captum==0.7.0) (1.4.8)\n",
      "Requirement already satisfied: packaging>=20.0 in /usr/local/lib/python3.11/dist-packages (from matplotlib->captum==0.7.0) (24.2)\n",
      "Requirement already satisfied: pillow>=8 in /usr/local/lib/python3.11/dist-packages (from matplotlib->captum==0.7.0) (11.2.1)\n",
      "Requirement already satisfied: pyparsing>=2.3.1 in /usr/local/lib/python3.11/dist-packages (from matplotlib->captum==0.7.0) (3.2.3)\n",
      "Requirement already satisfied: python-dateutil>=2.7 in /usr/local/lib/python3.11/dist-packages (from matplotlib->captum==0.7.0) (2.9.0.post0)\n",
      "Requirement already satisfied: six>=1.5 in /usr/local/lib/python3.11/dist-packages (from python-dateutil>=2.7->matplotlib->captum==0.7.0) (1.17.0)\n",
      "Requirement already satisfied: MarkupSafe>=2.0 in /usr/local/lib/python3.11/dist-packages (from jinja2->torch>=1.6->captum==0.7.0) (3.0.2)\n",
      "Downloading captum-0.7.0-py3-none-any.whl (1.3 MB)\n",
      "\u001b[2K   \u001b[90m━━━━━━━━━━━━━━━━━━━━━━━━━━━━━━━━━━━━━━━━\u001b[0m \u001b[32m1.3/1.3 MB\u001b[0m \u001b[31m35.7 MB/s\u001b[0m eta \u001b[36m0:00:00\u001b[0m\n",
      "\u001b[?25hDownloading nvidia_cublas_cu12-12.4.5.8-py3-none-manylinux2014_x86_64.whl (363.4 MB)\n",
      "\u001b[2K   \u001b[90m━━━━━━━━━━━━━━━━━━━━━━━━━━━━━━━━━━━━━━━━\u001b[0m \u001b[32m363.4/363.4 MB\u001b[0m \u001b[31m3.5 MB/s\u001b[0m eta \u001b[36m0:00:00\u001b[0m\n",
      "\u001b[?25hDownloading nvidia_cuda_cupti_cu12-12.4.127-py3-none-manylinux2014_x86_64.whl (13.8 MB)\n",
      "\u001b[2K   \u001b[90m━━━━━━━━━━━━━━━━━━━━━━━━━━━━━━━━━━━━━━━━\u001b[0m \u001b[32m13.8/13.8 MB\u001b[0m \u001b[31m70.1 MB/s\u001b[0m eta \u001b[36m0:00:00\u001b[0m\n",
      "\u001b[?25hDownloading nvidia_cuda_nvrtc_cu12-12.4.127-py3-none-manylinux2014_x86_64.whl (24.6 MB)\n",
      "\u001b[2K   \u001b[90m━━━━━━━━━━━━━━━━━━━━━━━━━━━━━━━━━━━━━━━━\u001b[0m \u001b[32m24.6/24.6 MB\u001b[0m \u001b[31m52.5 MB/s\u001b[0m eta \u001b[36m0:00:00\u001b[0m\n",
      "\u001b[?25hDownloading nvidia_cuda_runtime_cu12-12.4.127-py3-none-manylinux2014_x86_64.whl (883 kB)\n",
      "\u001b[2K   \u001b[90m━━━━━━━━━━━━━━━━━━━━━━━━━━━━━━━━━━━━━━━━\u001b[0m \u001b[32m883.7/883.7 kB\u001b[0m \u001b[31m45.7 MB/s\u001b[0m eta \u001b[36m0:00:00\u001b[0m\n",
      "\u001b[?25hDownloading nvidia_cudnn_cu12-9.1.0.70-py3-none-manylinux2014_x86_64.whl (664.8 MB)\n",
      "\u001b[2K   \u001b[90m━━━━━━━━━━━━━━━━━━━━━━━━━━━━━━━━━━━━━━━━\u001b[0m \u001b[32m664.8/664.8 MB\u001b[0m \u001b[31m1.4 MB/s\u001b[0m eta \u001b[36m0:00:00\u001b[0m\n",
      "\u001b[?25hDownloading nvidia_cufft_cu12-11.2.1.3-py3-none-manylinux2014_x86_64.whl (211.5 MB)\n",
      "\u001b[2K   \u001b[90m━━━━━━━━━━━━━━━━━━━━━━━━━━━━━━━━━━━━━━━━\u001b[0m \u001b[32m211.5/211.5 MB\u001b[0m \u001b[31m6.0 MB/s\u001b[0m eta \u001b[36m0:00:00\u001b[0m\n",
      "\u001b[?25hDownloading nvidia_curand_cu12-10.3.5.147-py3-none-manylinux2014_x86_64.whl (56.3 MB)\n",
      "\u001b[2K   \u001b[90m━━━━━━━━━━━━━━━━━━━━━━━━━━━━━━━━━━━━━━━━\u001b[0m \u001b[32m56.3/56.3 MB\u001b[0m \u001b[31m13.3 MB/s\u001b[0m eta \u001b[36m0:00:00\u001b[0m\n",
      "\u001b[?25hDownloading nvidia_cusolver_cu12-11.6.1.9-py3-none-manylinux2014_x86_64.whl (127.9 MB)\n",
      "\u001b[2K   \u001b[90m━━━━━━━━━━━━━━━━━━━━━━━━━━━━━━━━━━━━━━━━\u001b[0m \u001b[32m127.9/127.9 MB\u001b[0m \u001b[31m7.5 MB/s\u001b[0m eta \u001b[36m0:00:00\u001b[0m\n",
      "\u001b[?25hDownloading nvidia_cusparse_cu12-12.3.1.170-py3-none-manylinux2014_x86_64.whl (207.5 MB)\n",
      "\u001b[2K   \u001b[90m━━━━━━━━━━━━━━━━━━━━━━━━━━━━━━━━━━━━━━━━\u001b[0m \u001b[32m207.5/207.5 MB\u001b[0m \u001b[31m5.8 MB/s\u001b[0m eta \u001b[36m0:00:00\u001b[0m\n",
      "\u001b[?25hDownloading nvidia_nvjitlink_cu12-12.4.127-py3-none-manylinux2014_x86_64.whl (21.1 MB)\n",
      "\u001b[2K   \u001b[90m━━━━━━━━━━━━━━━━━━━━━━━━━━━━━━━━━━━━━━━━\u001b[0m \u001b[32m21.1/21.1 MB\u001b[0m \u001b[31m104.9 MB/s\u001b[0m eta \u001b[36m0:00:00\u001b[0m\n",
      "\u001b[?25hInstalling collected packages: nvidia-nvjitlink-cu12, nvidia-curand-cu12, nvidia-cufft-cu12, nvidia-cuda-runtime-cu12, nvidia-cuda-nvrtc-cu12, nvidia-cuda-cupti-cu12, nvidia-cublas-cu12, nvidia-cusparse-cu12, nvidia-cudnn-cu12, nvidia-cusolver-cu12, captum\n",
      "  Attempting uninstall: nvidia-nvjitlink-cu12\n",
      "    Found existing installation: nvidia-nvjitlink-cu12 12.5.82\n",
      "    Uninstalling nvidia-nvjitlink-cu12-12.5.82:\n",
      "      Successfully uninstalled nvidia-nvjitlink-cu12-12.5.82\n",
      "  Attempting uninstall: nvidia-curand-cu12\n",
      "    Found existing installation: nvidia-curand-cu12 10.3.6.82\n",
      "    Uninstalling nvidia-curand-cu12-10.3.6.82:\n",
      "      Successfully uninstalled nvidia-curand-cu12-10.3.6.82\n",
      "  Attempting uninstall: nvidia-cufft-cu12\n",
      "    Found existing installation: nvidia-cufft-cu12 11.2.3.61\n",
      "    Uninstalling nvidia-cufft-cu12-11.2.3.61:\n",
      "      Successfully uninstalled nvidia-cufft-cu12-11.2.3.61\n",
      "  Attempting uninstall: nvidia-cuda-runtime-cu12\n",
      "    Found existing installation: nvidia-cuda-runtime-cu12 12.5.82\n",
      "    Uninstalling nvidia-cuda-runtime-cu12-12.5.82:\n",
      "      Successfully uninstalled nvidia-cuda-runtime-cu12-12.5.82\n",
      "  Attempting uninstall: nvidia-cuda-nvrtc-cu12\n",
      "    Found existing installation: nvidia-cuda-nvrtc-cu12 12.5.82\n",
      "    Uninstalling nvidia-cuda-nvrtc-cu12-12.5.82:\n",
      "      Successfully uninstalled nvidia-cuda-nvrtc-cu12-12.5.82\n",
      "  Attempting uninstall: nvidia-cuda-cupti-cu12\n",
      "    Found existing installation: nvidia-cuda-cupti-cu12 12.5.82\n",
      "    Uninstalling nvidia-cuda-cupti-cu12-12.5.82:\n",
      "      Successfully uninstalled nvidia-cuda-cupti-cu12-12.5.82\n",
      "  Attempting uninstall: nvidia-cublas-cu12\n",
      "    Found existing installation: nvidia-cublas-cu12 12.5.3.2\n",
      "    Uninstalling nvidia-cublas-cu12-12.5.3.2:\n",
      "      Successfully uninstalled nvidia-cublas-cu12-12.5.3.2\n",
      "  Attempting uninstall: nvidia-cusparse-cu12\n",
      "    Found existing installation: nvidia-cusparse-cu12 12.5.1.3\n",
      "    Uninstalling nvidia-cusparse-cu12-12.5.1.3:\n",
      "      Successfully uninstalled nvidia-cusparse-cu12-12.5.1.3\n",
      "  Attempting uninstall: nvidia-cudnn-cu12\n",
      "    Found existing installation: nvidia-cudnn-cu12 9.3.0.75\n",
      "    Uninstalling nvidia-cudnn-cu12-9.3.0.75:\n",
      "      Successfully uninstalled nvidia-cudnn-cu12-9.3.0.75\n",
      "  Attempting uninstall: nvidia-cusolver-cu12\n",
      "    Found existing installation: nvidia-cusolver-cu12 11.6.3.83\n",
      "    Uninstalling nvidia-cusolver-cu12-11.6.3.83:\n",
      "      Successfully uninstalled nvidia-cusolver-cu12-11.6.3.83\n",
      "Successfully installed captum-0.7.0 nvidia-cublas-cu12-12.4.5.8 nvidia-cuda-cupti-cu12-12.4.127 nvidia-cuda-nvrtc-cu12-12.4.127 nvidia-cuda-runtime-cu12-12.4.127 nvidia-cudnn-cu12-9.1.0.70 nvidia-cufft-cu12-11.2.1.3 nvidia-curand-cu12-10.3.5.147 nvidia-cusolver-cu12-11.6.1.9 nvidia-cusparse-cu12-12.3.1.170 nvidia-nvjitlink-cu12-12.4.127\n",
      "Collecting aif360\n",
      "  Downloading aif360-0.6.1-py3-none-any.whl.metadata (5.0 kB)\n",
      "Requirement already satisfied: numpy>=1.16 in /usr/local/lib/python3.11/dist-packages (from aif360) (2.0.2)\n",
      "Requirement already satisfied: scipy>=1.2.0 in /usr/local/lib/python3.11/dist-packages (from aif360) (1.15.3)\n",
      "Requirement already satisfied: pandas>=0.24.0 in /usr/local/lib/python3.11/dist-packages (from aif360) (2.2.2)\n",
      "Requirement already satisfied: scikit-learn>=1.0 in /usr/local/lib/python3.11/dist-packages (from aif360) (1.6.1)\n",
      "Requirement already satisfied: matplotlib in /usr/local/lib/python3.11/dist-packages (from aif360) (3.10.0)\n",
      "Requirement already satisfied: python-dateutil>=2.8.2 in /usr/local/lib/python3.11/dist-packages (from pandas>=0.24.0->aif360) (2.9.0.post0)\n",
      "Requirement already satisfied: pytz>=2020.1 in /usr/local/lib/python3.11/dist-packages (from pandas>=0.24.0->aif360) (2025.2)\n",
      "Requirement already satisfied: tzdata>=2022.7 in /usr/local/lib/python3.11/dist-packages (from pandas>=0.24.0->aif360) (2025.2)\n",
      "Requirement already satisfied: joblib>=1.2.0 in /usr/local/lib/python3.11/dist-packages (from scikit-learn>=1.0->aif360) (1.5.1)\n",
      "Requirement already satisfied: threadpoolctl>=3.1.0 in /usr/local/lib/python3.11/dist-packages (from scikit-learn>=1.0->aif360) (3.6.0)\n",
      "Requirement already satisfied: contourpy>=1.0.1 in /usr/local/lib/python3.11/dist-packages (from matplotlib->aif360) (1.3.2)\n",
      "Requirement already satisfied: cycler>=0.10 in /usr/local/lib/python3.11/dist-packages (from matplotlib->aif360) (0.12.1)\n",
      "Requirement already satisfied: fonttools>=4.22.0 in /usr/local/lib/python3.11/dist-packages (from matplotlib->aif360) (4.58.1)\n",
      "Requirement already satisfied: kiwisolver>=1.3.1 in /usr/local/lib/python3.11/dist-packages (from matplotlib->aif360) (1.4.8)\n",
      "Requirement already satisfied: packaging>=20.0 in /usr/local/lib/python3.11/dist-packages (from matplotlib->aif360) (24.2)\n",
      "Requirement already satisfied: pillow>=8 in /usr/local/lib/python3.11/dist-packages (from matplotlib->aif360) (11.2.1)\n",
      "Requirement already satisfied: pyparsing>=2.3.1 in /usr/local/lib/python3.11/dist-packages (from matplotlib->aif360) (3.2.3)\n",
      "Requirement already satisfied: six>=1.5 in /usr/local/lib/python3.11/dist-packages (from python-dateutil>=2.8.2->pandas>=0.24.0->aif360) (1.17.0)\n",
      "Downloading aif360-0.6.1-py3-none-any.whl (259 kB)\n",
      "\u001b[2K   \u001b[90m━━━━━━━━━━━━━━━━━━━━━━━━━━━━━━━━━━━━━━━━\u001b[0m \u001b[32m259.7/259.7 kB\u001b[0m \u001b[31m7.9 MB/s\u001b[0m eta \u001b[36m0:00:00\u001b[0m\n",
      "\u001b[?25hInstalling collected packages: aif360\n",
      "Successfully installed aif360-0.6.1\n",
      "Collecting ptflops\n",
      "  Downloading ptflops-0.7.4-py3-none-any.whl.metadata (9.4 kB)\n",
      "Requirement already satisfied: torch>=2.0 in /usr/local/lib/python3.11/dist-packages (from ptflops) (2.6.0+cu124)\n",
      "Requirement already satisfied: filelock in /usr/local/lib/python3.11/dist-packages (from torch>=2.0->ptflops) (3.18.0)\n",
      "Requirement already satisfied: typing-extensions>=4.10.0 in /usr/local/lib/python3.11/dist-packages (from torch>=2.0->ptflops) (4.14.0)\n",
      "Requirement already satisfied: networkx in /usr/local/lib/python3.11/dist-packages (from torch>=2.0->ptflops) (3.5)\n",
      "Requirement already satisfied: jinja2 in /usr/local/lib/python3.11/dist-packages (from torch>=2.0->ptflops) (3.1.6)\n",
      "Requirement already satisfied: fsspec in /usr/local/lib/python3.11/dist-packages (from torch>=2.0->ptflops) (2025.3.2)\n",
      "Requirement already satisfied: nvidia-cuda-nvrtc-cu12==12.4.127 in /usr/local/lib/python3.11/dist-packages (from torch>=2.0->ptflops) (12.4.127)\n",
      "Requirement already satisfied: nvidia-cuda-runtime-cu12==12.4.127 in /usr/local/lib/python3.11/dist-packages (from torch>=2.0->ptflops) (12.4.127)\n",
      "Requirement already satisfied: nvidia-cuda-cupti-cu12==12.4.127 in /usr/local/lib/python3.11/dist-packages (from torch>=2.0->ptflops) (12.4.127)\n",
      "Requirement already satisfied: nvidia-cudnn-cu12==9.1.0.70 in /usr/local/lib/python3.11/dist-packages (from torch>=2.0->ptflops) (9.1.0.70)\n",
      "Requirement already satisfied: nvidia-cublas-cu12==12.4.5.8 in /usr/local/lib/python3.11/dist-packages (from torch>=2.0->ptflops) (12.4.5.8)\n",
      "Requirement already satisfied: nvidia-cufft-cu12==11.2.1.3 in /usr/local/lib/python3.11/dist-packages (from torch>=2.0->ptflops) (11.2.1.3)\n",
      "Requirement already satisfied: nvidia-curand-cu12==10.3.5.147 in /usr/local/lib/python3.11/dist-packages (from torch>=2.0->ptflops) (10.3.5.147)\n",
      "Requirement already satisfied: nvidia-cusolver-cu12==11.6.1.9 in /usr/local/lib/python3.11/dist-packages (from torch>=2.0->ptflops) (11.6.1.9)\n",
      "Requirement already satisfied: nvidia-cusparse-cu12==12.3.1.170 in /usr/local/lib/python3.11/dist-packages (from torch>=2.0->ptflops) (12.3.1.170)\n",
      "Requirement already satisfied: nvidia-cusparselt-cu12==0.6.2 in /usr/local/lib/python3.11/dist-packages (from torch>=2.0->ptflops) (0.6.2)\n",
      "Requirement already satisfied: nvidia-nccl-cu12==2.21.5 in /usr/local/lib/python3.11/dist-packages (from torch>=2.0->ptflops) (2.21.5)\n",
      "Requirement already satisfied: nvidia-nvtx-cu12==12.4.127 in /usr/local/lib/python3.11/dist-packages (from torch>=2.0->ptflops) (12.4.127)\n",
      "Requirement already satisfied: nvidia-nvjitlink-cu12==12.4.127 in /usr/local/lib/python3.11/dist-packages (from torch>=2.0->ptflops) (12.4.127)\n",
      "Requirement already satisfied: triton==3.2.0 in /usr/local/lib/python3.11/dist-packages (from torch>=2.0->ptflops) (3.2.0)\n",
      "Requirement already satisfied: sympy==1.13.1 in /usr/local/lib/python3.11/dist-packages (from torch>=2.0->ptflops) (1.13.1)\n",
      "Requirement already satisfied: mpmath<1.4,>=1.1.0 in /usr/local/lib/python3.11/dist-packages (from sympy==1.13.1->torch>=2.0->ptflops) (1.3.0)\n",
      "Requirement already satisfied: MarkupSafe>=2.0 in /usr/local/lib/python3.11/dist-packages (from jinja2->torch>=2.0->ptflops) (3.0.2)\n",
      "Downloading ptflops-0.7.4-py3-none-any.whl (19 kB)\n",
      "Installing collected packages: ptflops\n",
      "Successfully installed ptflops-0.7.4\n"
     ]
    }
   ],
   "source": [
    "!pip install quantus\n",
    "!pip install captum==0.7.0\n",
    "!pip install aif360\n",
    "!pip install ptflops"
   ]
  },
  {
   "cell_type": "code",
   "execution_count": null,
   "metadata": {
    "id": "BCgA_YXFcCzx"
   },
   "outputs": [],
   "source": [
    "import torch\n",
    "import torch.nn as nn\n",
    "import torch.optim as optim\n",
    "from torch.utils.data import TensorDataset, DataLoader\n",
    "from sklearn.model_selection import train_test_split\n",
    "from sklearn.metrics import accuracy_score\n",
    "import numpy as np\n",
    "import pandas as pd\n",
    "from typing import Optional\n",
    "from IPython.display import Markdown, display, clear_output\n",
    "import time\n",
    "from tqdm import tqdm\n",
    "from aif360.sklearn.datasets import fetch_german\n",
    "import shap\n",
    "import quantus\n",
    "from torch.utils.flop_counter import FlopCounterMode\n"
   ]
  },
  {
   "cell_type": "markdown",
   "metadata": {
    "id": "Jixecr0vgmsU"
   },
   "source": [
    "## Display Resources"
   ]
  },
  {
   "cell_type": "code",
   "execution_count": null,
   "metadata": {
    "colab": {
     "base_uri": "https://localhost:8080/"
    },
    "executionInfo": {
     "elapsed": 115,
     "status": "ok",
     "timestamp": 1747833234376,
     "user": {
      "displayName": "Hung Thanh Do",
      "userId": "14602254202234053172"
     },
     "user_tz": -120
    },
    "id": "f77tF9LYWfwX",
    "outputId": "041d5dfe-827c-407c-9ba1-68583fa6122e"
   },
   "outputs": [
    {
     "name": "stdout",
     "output_type": "stream",
     "text": [
      "model name\t: Intel(R) Xeon(R) CPU @ 2.20GHz\n"
     ]
    }
   ],
   "source": [
    "!cat /proc/cpuinfo | grep \"model name\" | head -1"
   ]
  },
  {
   "cell_type": "code",
   "execution_count": null,
   "metadata": {
    "colab": {
     "base_uri": "https://localhost:8080/"
    },
    "collapsed": true,
    "executionInfo": {
     "elapsed": 129,
     "status": "ok",
     "timestamp": 1747834762607,
     "user": {
      "displayName": "Hung Thanh Do",
      "userId": "14602254202234053172"
     },
     "user_tz": -120
    },
    "id": "0rpjrcpgEeyi",
    "outputId": "c67bfa20-66b0-40e6-d0b8-2d3694cad40f"
   },
   "outputs": [
    {
     "name": "stdout",
     "output_type": "stream",
     "text": [
      "Number of CPU:  2\n",
      "processor\t: 0\n",
      "vendor_id\t: GenuineIntel\n",
      "cpu family\t: 6\n",
      "model\t\t: 79\n",
      "model name\t: Intel(R) Xeon(R) CPU @ 2.20GHz\n",
      "stepping\t: 0\n",
      "microcode\t: 0xffffffff\n",
      "cpu MHz\t\t: 2199.998\n",
      "cache size\t: 56320 KB\n",
      "physical id\t: 0\n",
      "siblings\t: 2\n",
      "core id\t\t: 0\n",
      "cpu cores\t: 1\n",
      "apicid\t\t: 0\n",
      "initial apicid\t: 0\n",
      "fpu\t\t: yes\n",
      "fpu_exception\t: yes\n",
      "cpuid level\t: 13\n",
      "wp\t\t: yes\n",
      "flags\t\t: fpu vme de pse tsc msr pae mce cx8 apic sep mtrr pge mca cmov pat pse36 clflush mmx fxsr sse sse2 ss ht syscall nx pdpe1gb rdtscp lm constant_tsc rep_good nopl xtopology nonstop_tsc cpuid tsc_known_freq pni pclmulqdq ssse3 fma cx16 pcid sse4_1 sse4_2 x2apic movbe popcnt aes xsave avx f16c rdrand hypervisor lahf_lm abm 3dnowprefetch invpcid_single ssbd ibrs ibpb stibp fsgsbase tsc_adjust bmi1 hle avx2 smep bmi2 erms invpcid rtm rdseed adx smap xsaveopt arat md_clear arch_capabilities\n",
      "bugs\t\t: cpu_meltdown spectre_v1 spectre_v2 spec_store_bypass l1tf mds swapgs taa mmio_stale_data retbleed bhi\n",
      "bogomips\t: 4399.99\n",
      "clflush size\t: 64\n",
      "cache_alignment\t: 64\n",
      "address sizes\t: 46 bits physical, 48 bits virtual\n",
      "power management:\n",
      "\n",
      "processor\t: 1\n",
      "vendor_id\t: GenuineIntel\n",
      "cpu family\t: 6\n",
      "model\t\t: 79\n",
      "model name\t: Intel(R) Xeon(R) CPU @ 2.20GHz\n",
      "stepping\t: 0\n",
      "microcode\t: 0xffffffff\n",
      "cpu MHz\t\t: 2199.998\n",
      "cache size\t: 56320 KB\n",
      "physical id\t: 0\n",
      "siblings\t: 2\n",
      "core id\t\t: 0\n",
      "cpu cores\t: 1\n",
      "apicid\t\t: 1\n",
      "initial apicid\t: 1\n",
      "fpu\t\t: yes\n",
      "fpu_exception\t: yes\n",
      "cpuid level\t: 13\n",
      "wp\t\t: yes\n",
      "flags\t\t: fpu vme de pse tsc msr pae mce cx8 apic sep mtrr pge mca cmov pat pse36 clflush mmx fxsr sse sse2 ss ht syscall nx pdpe1gb rdtscp lm constant_tsc rep_good nopl xtopology nonstop_tsc cpuid tsc_known_freq pni pclmulqdq ssse3 fma cx16 pcid sse4_1 sse4_2 x2apic movbe popcnt aes xsave avx f16c rdrand hypervisor lahf_lm abm 3dnowprefetch invpcid_single ssbd ibrs ibpb stibp fsgsbase tsc_adjust bmi1 hle avx2 smep bmi2 erms invpcid rtm rdseed adx smap xsaveopt arat md_clear arch_capabilities\n",
      "bugs\t\t: cpu_meltdown spectre_v1 spectre_v2 spec_store_bypass l1tf mds swapgs taa mmio_stale_data retbleed bhi\n",
      "bogomips\t: 4399.99\n",
      "clflush size\t: 64\n",
      "cache_alignment\t: 64\n",
      "address sizes\t: 46 bits physical, 48 bits virtual\n",
      "power management:\n",
      "\n"
     ]
    }
   ],
   "source": [
    "from psutil import *\n",
    "# This code will return the number of CPU\n",
    "print(\"Number of CPU: \", cpu_count())\n",
    "# This code will return the CPU info\n",
    "!cat /proc/cpuinfo"
   ]
  },
  {
   "cell_type": "code",
   "execution_count": null,
   "metadata": {
    "colab": {
     "base_uri": "https://localhost:8080/"
    },
    "executionInfo": {
     "elapsed": 126,
     "status": "ok",
     "timestamp": 1747835096325,
     "user": {
      "displayName": "Hung Thanh Do",
      "userId": "14602254202234053172"
     },
     "user_tz": -120
    },
    "id": "3GRSIYmeFwc3",
    "outputId": "040c1362-bf78-488b-ac15-e3728ac4c01d"
   },
   "outputs": [
    {
     "name": "stdout",
     "output_type": "stream",
     "text": [
      "model name\t: Intel(R) Xeon(R) CPU @ 2.20GHz\n"
     ]
    }
   ],
   "source": [
    "!cat /proc/cpuinfo | grep \"model name\" | head -1"
   ]
  },
  {
   "cell_type": "code",
   "execution_count": null,
   "metadata": {
    "colab": {
     "base_uri": "https://localhost:8080/"
    },
    "collapsed": true,
    "executionInfo": {
     "elapsed": 140,
     "status": "ok",
     "timestamp": 1747833236054,
     "user": {
      "displayName": "Hung Thanh Do",
      "userId": "14602254202234053172"
     },
     "user_tz": -120
    },
    "id": "_NGHn6K_XZXV",
    "outputId": "1b8be886-dae1-4106-f0be-0cba4091679b"
   },
   "outputs": [
    {
     "name": "stdout",
     "output_type": "stream",
     "text": [
      "Wed May 21 13:13:56 2025       \n",
      "+-----------------------------------------------------------------------------------------+\n",
      "| NVIDIA-SMI 550.54.15              Driver Version: 550.54.15      CUDA Version: 12.4     |\n",
      "|-----------------------------------------+------------------------+----------------------+\n",
      "| GPU  Name                 Persistence-M | Bus-Id          Disp.A | Volatile Uncorr. ECC |\n",
      "| Fan  Temp   Perf          Pwr:Usage/Cap |           Memory-Usage | GPU-Util  Compute M. |\n",
      "|                                         |                        |               MIG M. |\n",
      "|=========================================+========================+======================|\n",
      "|   0  Tesla T4                       Off |   00000000:00:04.0 Off |                    0 |\n",
      "| N/A   58C    P8             11W /   70W |       0MiB /  15360MiB |      0%      Default |\n",
      "|                                         |                        |                  N/A |\n",
      "+-----------------------------------------+------------------------+----------------------+\n",
      "                                                                                         \n",
      "+-----------------------------------------------------------------------------------------+\n",
      "| Processes:                                                                              |\n",
      "|  GPU   GI   CI        PID   Type   Process name                              GPU Memory |\n",
      "|        ID   ID                                                               Usage      |\n",
      "|=========================================================================================|\n",
      "|  No running processes found                                                             |\n",
      "+-----------------------------------------------------------------------------------------+\n"
     ]
    }
   ],
   "source": [
    "!nvidia-smi"
   ]
  },
  {
   "cell_type": "markdown",
   "metadata": {
    "id": "aC5ZZqGOhTyj"
   },
   "source": [
    "# Data"
   ]
  },
  {
   "cell_type": "markdown",
   "metadata": {
    "id": "ww-ihnSUcCz2"
   },
   "source": [
    "## Data Loading"
   ]
  },
  {
   "cell_type": "code",
   "execution_count": null,
   "metadata": {
    "id": "6IQznGv7cCz5"
   },
   "outputs": [],
   "source": [
    "# ---------------------------\n",
    "# Data Loading and Preparation\n",
    "# ---------------------------\n",
    "X, y = fetch_german()\n",
    "\n",
    "X.reset_index(drop=True, inplace=True)\n",
    "y.reset_index(drop=True, inplace=True)\n",
    "\n",
    "# Binarize labels\n",
    "y = y.map({'good': 1, 'bad': 0})\n"
   ]
  },
  {
   "cell_type": "code",
   "execution_count": null,
   "metadata": {
    "id": "TIOuXqrKTjyX"
   },
   "outputs": [],
   "source": [
    "y = y.to_numpy(dtype=int)"
   ]
  },
  {
   "cell_type": "code",
   "execution_count": null,
   "metadata": {
    "id": "99UyRxrrcCz7"
   },
   "outputs": [],
   "source": [
    "# Add binary_age column based on the condition, value = aged if age >= 25 else young\n",
    "X['age_group'] = X['age'].apply(lambda x: 'aged' if x >= 25 else 'young')"
   ]
  },
  {
   "cell_type": "markdown",
   "metadata": {
    "id": "8PJTcdufcCz8"
   },
   "source": [
    "##Preprocessing"
   ]
  },
  {
   "cell_type": "markdown",
   "metadata": {
    "id": "fu9sqMIgcCz-"
   },
   "source": [
    "### Label Encoding"
   ]
  },
  {
   "cell_type": "code",
   "execution_count": null,
   "metadata": {
    "id": "7J4Z0W0VcCz_"
   },
   "outputs": [],
   "source": [
    "X_copy = X.copy()\n",
    "categorical_cols = X_copy.select_dtypes(include=['object', 'category']).columns"
   ]
  },
  {
   "cell_type": "code",
   "execution_count": null,
   "metadata": {
    "colab": {
     "base_uri": "https://localhost:8080/"
    },
    "collapsed": true,
    "executionInfo": {
     "elapsed": 65,
     "status": "ok",
     "timestamp": 1749314042206,
     "user": {
      "displayName": "Hung Thanh Do",
      "userId": "14602254202234053172"
     },
     "user_tz": -120
    },
    "id": "UlzzHFILcC0B",
    "outputId": "69c8d0d1-023b-4dde-ce22-5cf500b780d5"
   },
   "outputs": [
    {
     "name": "stdout",
     "output_type": "stream",
     "text": [
      "\n",
      "Encoded mapping for 'checking_status':\n",
      "  0<=X<200 → 0\n",
      "  <0 → 1\n",
      "  >=200 → 2\n",
      "  no checking → 3\n",
      "\n",
      "Encoded mapping for 'credit_history':\n",
      "  all paid → 0\n",
      "  critical/other existing credit → 1\n",
      "  delayed previously → 2\n",
      "  existing paid → 3\n",
      "  no credits/all paid → 4\n",
      "\n",
      "Encoded mapping for 'purpose':\n",
      "  business → 0\n",
      "  domestic appliance → 1\n",
      "  education → 2\n",
      "  furniture/equipment → 3\n",
      "  new car → 4\n",
      "  other → 5\n",
      "  radio/tv → 6\n",
      "  repairs → 7\n",
      "  retraining → 8\n",
      "  used car → 9\n",
      "\n",
      "Encoded mapping for 'savings_status':\n",
      "  100<=X<500 → 0\n",
      "  500<=X<1000 → 1\n",
      "  <100 → 2\n",
      "  >=1000 → 3\n",
      "  no known savings → 4\n",
      "\n",
      "Encoded mapping for 'employment':\n",
      "  1<=X<4 → 0\n",
      "  4<=X<7 → 1\n",
      "  <1 → 2\n",
      "  >=7 → 3\n",
      "  unemployed → 4\n",
      "\n",
      "Encoded mapping for 'other_parties':\n",
      "  co applicant → 0\n",
      "  guarantor → 1\n",
      "  none → 2\n",
      "\n",
      "Encoded mapping for 'property_magnitude':\n",
      "  car → 0\n",
      "  life insurance → 1\n",
      "  no known property → 2\n",
      "  real estate → 3\n",
      "\n",
      "Encoded mapping for 'other_payment_plans':\n",
      "  bank → 0\n",
      "  none → 1\n",
      "  stores → 2\n",
      "\n",
      "Encoded mapping for 'housing':\n",
      "  for free → 0\n",
      "  own → 1\n",
      "  rent → 2\n",
      "\n",
      "Encoded mapping for 'job':\n",
      "  high qualif/self emp/mgmt → 0\n",
      "  skilled → 1\n",
      "  unemp/unskilled non res → 2\n",
      "  unskilled resident → 3\n",
      "\n",
      "Encoded mapping for 'own_telephone':\n",
      "  none → 0\n",
      "  yes → 1\n",
      "\n",
      "Encoded mapping for 'foreign_worker':\n",
      "  no → 0\n",
      "  yes → 1\n",
      "\n",
      "Encoded mapping for 'sex':\n",
      "  female → 0\n",
      "  male → 1\n",
      "\n",
      "Encoded mapping for 'marital_status':\n",
      "  div/dep/mar → 0\n",
      "  div/sep → 1\n",
      "  mar/wid → 2\n",
      "  single → 3\n",
      "\n",
      "Encoded mapping for 'age_group':\n",
      "  aged → 0\n",
      "  young → 1\n"
     ]
    }
   ],
   "source": [
    "from sklearn.preprocessing import LabelEncoder\n",
    "label_mappings = {}\n",
    "# Apply LabelEncoder to each column and store mappings\n",
    "for col in categorical_cols:\n",
    "    le = LabelEncoder()\n",
    "    X_copy[col] = le.fit_transform(X_copy[col])\n",
    "    label_mappings[col] = dict(zip(le.classes_, le.transform(le.classes_)))\n",
    "\n",
    "# Show mappings\n",
    "for col, mapping in label_mappings.items():\n",
    "    print(f\"\\nEncoded mapping for '{col}':\")\n",
    "    for original, encoded in mapping.items():\n",
    "        print(f\"  {original} → {encoded}\")"
   ]
  },
  {
   "cell_type": "code",
   "execution_count": null,
   "metadata": {
    "id": "RH5Bk5mqEVhS"
   },
   "outputs": [],
   "source": [
    "X_encoded = X_copy.copy()"
   ]
  },
  {
   "cell_type": "code",
   "execution_count": null,
   "metadata": {
    "colab": {
     "base_uri": "https://localhost:8080/",
     "height": 236
    },
    "collapsed": true,
    "executionInfo": {
     "elapsed": 35,
     "status": "ok",
     "timestamp": 1749314042844,
     "user": {
      "displayName": "Hung Thanh Do",
      "userId": "14602254202234053172"
     },
     "user_tz": -120
    },
    "id": "cCegwkxlEYfA",
    "outputId": "5930e4b9-ad18-4aef-8d48-10b2c44a5a9c"
   },
   "outputs": [
    {
     "data": {
      "application/vnd.google.colaboratory.intrinsic+json": {
       "type": "dataframe",
       "variable_name": "X_encoded"
      },
      "text/html": [
       "\n",
       "  <div id=\"df-1670c6f8-d8ef-434e-a87d-41769530999e\" class=\"colab-df-container\">\n",
       "    <div>\n",
       "<style scoped>\n",
       "    .dataframe tbody tr th:only-of-type {\n",
       "        vertical-align: middle;\n",
       "    }\n",
       "\n",
       "    .dataframe tbody tr th {\n",
       "        vertical-align: top;\n",
       "    }\n",
       "\n",
       "    .dataframe thead th {\n",
       "        text-align: right;\n",
       "    }\n",
       "</style>\n",
       "<table border=\"1\" class=\"dataframe\">\n",
       "  <thead>\n",
       "    <tr style=\"text-align: right;\">\n",
       "      <th></th>\n",
       "      <th>checking_status</th>\n",
       "      <th>duration</th>\n",
       "      <th>credit_history</th>\n",
       "      <th>purpose</th>\n",
       "      <th>credit_amount</th>\n",
       "      <th>savings_status</th>\n",
       "      <th>employment</th>\n",
       "      <th>installment_commitment</th>\n",
       "      <th>other_parties</th>\n",
       "      <th>residence_since</th>\n",
       "      <th>...</th>\n",
       "      <th>other_payment_plans</th>\n",
       "      <th>housing</th>\n",
       "      <th>existing_credits</th>\n",
       "      <th>job</th>\n",
       "      <th>num_dependents</th>\n",
       "      <th>own_telephone</th>\n",
       "      <th>foreign_worker</th>\n",
       "      <th>sex</th>\n",
       "      <th>marital_status</th>\n",
       "      <th>age_group</th>\n",
       "    </tr>\n",
       "  </thead>\n",
       "  <tbody>\n",
       "    <tr>\n",
       "      <th>0</th>\n",
       "      <td>1</td>\n",
       "      <td>6</td>\n",
       "      <td>1</td>\n",
       "      <td>6</td>\n",
       "      <td>1169</td>\n",
       "      <td>4</td>\n",
       "      <td>3</td>\n",
       "      <td>4</td>\n",
       "      <td>2</td>\n",
       "      <td>4</td>\n",
       "      <td>...</td>\n",
       "      <td>1</td>\n",
       "      <td>1</td>\n",
       "      <td>2</td>\n",
       "      <td>1</td>\n",
       "      <td>1</td>\n",
       "      <td>1</td>\n",
       "      <td>1</td>\n",
       "      <td>1</td>\n",
       "      <td>3</td>\n",
       "      <td>0</td>\n",
       "    </tr>\n",
       "    <tr>\n",
       "      <th>1</th>\n",
       "      <td>0</td>\n",
       "      <td>48</td>\n",
       "      <td>3</td>\n",
       "      <td>6</td>\n",
       "      <td>5951</td>\n",
       "      <td>2</td>\n",
       "      <td>0</td>\n",
       "      <td>2</td>\n",
       "      <td>2</td>\n",
       "      <td>2</td>\n",
       "      <td>...</td>\n",
       "      <td>1</td>\n",
       "      <td>1</td>\n",
       "      <td>1</td>\n",
       "      <td>1</td>\n",
       "      <td>1</td>\n",
       "      <td>0</td>\n",
       "      <td>1</td>\n",
       "      <td>0</td>\n",
       "      <td>0</td>\n",
       "      <td>1</td>\n",
       "    </tr>\n",
       "    <tr>\n",
       "      <th>2</th>\n",
       "      <td>3</td>\n",
       "      <td>12</td>\n",
       "      <td>1</td>\n",
       "      <td>2</td>\n",
       "      <td>2096</td>\n",
       "      <td>2</td>\n",
       "      <td>1</td>\n",
       "      <td>2</td>\n",
       "      <td>2</td>\n",
       "      <td>3</td>\n",
       "      <td>...</td>\n",
       "      <td>1</td>\n",
       "      <td>1</td>\n",
       "      <td>1</td>\n",
       "      <td>3</td>\n",
       "      <td>2</td>\n",
       "      <td>0</td>\n",
       "      <td>1</td>\n",
       "      <td>1</td>\n",
       "      <td>3</td>\n",
       "      <td>0</td>\n",
       "    </tr>\n",
       "    <tr>\n",
       "      <th>3</th>\n",
       "      <td>1</td>\n",
       "      <td>42</td>\n",
       "      <td>3</td>\n",
       "      <td>3</td>\n",
       "      <td>7882</td>\n",
       "      <td>2</td>\n",
       "      <td>1</td>\n",
       "      <td>2</td>\n",
       "      <td>1</td>\n",
       "      <td>4</td>\n",
       "      <td>...</td>\n",
       "      <td>1</td>\n",
       "      <td>0</td>\n",
       "      <td>1</td>\n",
       "      <td>1</td>\n",
       "      <td>2</td>\n",
       "      <td>0</td>\n",
       "      <td>1</td>\n",
       "      <td>1</td>\n",
       "      <td>3</td>\n",
       "      <td>0</td>\n",
       "    </tr>\n",
       "    <tr>\n",
       "      <th>4</th>\n",
       "      <td>1</td>\n",
       "      <td>24</td>\n",
       "      <td>2</td>\n",
       "      <td>4</td>\n",
       "      <td>4870</td>\n",
       "      <td>2</td>\n",
       "      <td>0</td>\n",
       "      <td>3</td>\n",
       "      <td>2</td>\n",
       "      <td>4</td>\n",
       "      <td>...</td>\n",
       "      <td>1</td>\n",
       "      <td>0</td>\n",
       "      <td>2</td>\n",
       "      <td>1</td>\n",
       "      <td>2</td>\n",
       "      <td>0</td>\n",
       "      <td>1</td>\n",
       "      <td>1</td>\n",
       "      <td>3</td>\n",
       "      <td>0</td>\n",
       "    </tr>\n",
       "  </tbody>\n",
       "</table>\n",
       "<p>5 rows × 22 columns</p>\n",
       "</div>\n",
       "    <div class=\"colab-df-buttons\">\n",
       "\n",
       "  <div class=\"colab-df-container\">\n",
       "    <button class=\"colab-df-convert\" onclick=\"convertToInteractive('df-1670c6f8-d8ef-434e-a87d-41769530999e')\"\n",
       "            title=\"Convert this dataframe to an interactive table.\"\n",
       "            style=\"display:none;\">\n",
       "\n",
       "  <svg xmlns=\"http://www.w3.org/2000/svg\" height=\"24px\" viewBox=\"0 -960 960 960\">\n",
       "    <path d=\"M120-120v-720h720v720H120Zm60-500h600v-160H180v160Zm220 220h160v-160H400v160Zm0 220h160v-160H400v160ZM180-400h160v-160H180v160Zm440 0h160v-160H620v160ZM180-180h160v-160H180v160Zm440 0h160v-160H620v160Z\"/>\n",
       "  </svg>\n",
       "    </button>\n",
       "\n",
       "  <style>\n",
       "    .colab-df-container {\n",
       "      display:flex;\n",
       "      gap: 12px;\n",
       "    }\n",
       "\n",
       "    .colab-df-convert {\n",
       "      background-color: #E8F0FE;\n",
       "      border: none;\n",
       "      border-radius: 50%;\n",
       "      cursor: pointer;\n",
       "      display: none;\n",
       "      fill: #1967D2;\n",
       "      height: 32px;\n",
       "      padding: 0 0 0 0;\n",
       "      width: 32px;\n",
       "    }\n",
       "\n",
       "    .colab-df-convert:hover {\n",
       "      background-color: #E2EBFA;\n",
       "      box-shadow: 0px 1px 2px rgba(60, 64, 67, 0.3), 0px 1px 3px 1px rgba(60, 64, 67, 0.15);\n",
       "      fill: #174EA6;\n",
       "    }\n",
       "\n",
       "    .colab-df-buttons div {\n",
       "      margin-bottom: 4px;\n",
       "    }\n",
       "\n",
       "    [theme=dark] .colab-df-convert {\n",
       "      background-color: #3B4455;\n",
       "      fill: #D2E3FC;\n",
       "    }\n",
       "\n",
       "    [theme=dark] .colab-df-convert:hover {\n",
       "      background-color: #434B5C;\n",
       "      box-shadow: 0px 1px 3px 1px rgba(0, 0, 0, 0.15);\n",
       "      filter: drop-shadow(0px 1px 2px rgba(0, 0, 0, 0.3));\n",
       "      fill: #FFFFFF;\n",
       "    }\n",
       "  </style>\n",
       "\n",
       "    <script>\n",
       "      const buttonEl =\n",
       "        document.querySelector('#df-1670c6f8-d8ef-434e-a87d-41769530999e button.colab-df-convert');\n",
       "      buttonEl.style.display =\n",
       "        google.colab.kernel.accessAllowed ? 'block' : 'none';\n",
       "\n",
       "      async function convertToInteractive(key) {\n",
       "        const element = document.querySelector('#df-1670c6f8-d8ef-434e-a87d-41769530999e');\n",
       "        const dataTable =\n",
       "          await google.colab.kernel.invokeFunction('convertToInteractive',\n",
       "                                                    [key], {});\n",
       "        if (!dataTable) return;\n",
       "\n",
       "        const docLinkHtml = 'Like what you see? Visit the ' +\n",
       "          '<a target=\"_blank\" href=https://colab.research.google.com/notebooks/data_table.ipynb>data table notebook</a>'\n",
       "          + ' to learn more about interactive tables.';\n",
       "        element.innerHTML = '';\n",
       "        dataTable['output_type'] = 'display_data';\n",
       "        await google.colab.output.renderOutput(dataTable, element);\n",
       "        const docLink = document.createElement('div');\n",
       "        docLink.innerHTML = docLinkHtml;\n",
       "        element.appendChild(docLink);\n",
       "      }\n",
       "    </script>\n",
       "  </div>\n",
       "\n",
       "\n",
       "    <div id=\"df-7697113e-1a04-4ed2-b721-daf87f30c140\">\n",
       "      <button class=\"colab-df-quickchart\" onclick=\"quickchart('df-7697113e-1a04-4ed2-b721-daf87f30c140')\"\n",
       "                title=\"Suggest charts\"\n",
       "                style=\"display:none;\">\n",
       "\n",
       "<svg xmlns=\"http://www.w3.org/2000/svg\" height=\"24px\"viewBox=\"0 0 24 24\"\n",
       "     width=\"24px\">\n",
       "    <g>\n",
       "        <path d=\"M19 3H5c-1.1 0-2 .9-2 2v14c0 1.1.9 2 2 2h14c1.1 0 2-.9 2-2V5c0-1.1-.9-2-2-2zM9 17H7v-7h2v7zm4 0h-2V7h2v10zm4 0h-2v-4h2v4z\"/>\n",
       "    </g>\n",
       "</svg>\n",
       "      </button>\n",
       "\n",
       "<style>\n",
       "  .colab-df-quickchart {\n",
       "      --bg-color: #E8F0FE;\n",
       "      --fill-color: #1967D2;\n",
       "      --hover-bg-color: #E2EBFA;\n",
       "      --hover-fill-color: #174EA6;\n",
       "      --disabled-fill-color: #AAA;\n",
       "      --disabled-bg-color: #DDD;\n",
       "  }\n",
       "\n",
       "  [theme=dark] .colab-df-quickchart {\n",
       "      --bg-color: #3B4455;\n",
       "      --fill-color: #D2E3FC;\n",
       "      --hover-bg-color: #434B5C;\n",
       "      --hover-fill-color: #FFFFFF;\n",
       "      --disabled-bg-color: #3B4455;\n",
       "      --disabled-fill-color: #666;\n",
       "  }\n",
       "\n",
       "  .colab-df-quickchart {\n",
       "    background-color: var(--bg-color);\n",
       "    border: none;\n",
       "    border-radius: 50%;\n",
       "    cursor: pointer;\n",
       "    display: none;\n",
       "    fill: var(--fill-color);\n",
       "    height: 32px;\n",
       "    padding: 0;\n",
       "    width: 32px;\n",
       "  }\n",
       "\n",
       "  .colab-df-quickchart:hover {\n",
       "    background-color: var(--hover-bg-color);\n",
       "    box-shadow: 0 1px 2px rgba(60, 64, 67, 0.3), 0 1px 3px 1px rgba(60, 64, 67, 0.15);\n",
       "    fill: var(--button-hover-fill-color);\n",
       "  }\n",
       "\n",
       "  .colab-df-quickchart-complete:disabled,\n",
       "  .colab-df-quickchart-complete:disabled:hover {\n",
       "    background-color: var(--disabled-bg-color);\n",
       "    fill: var(--disabled-fill-color);\n",
       "    box-shadow: none;\n",
       "  }\n",
       "\n",
       "  .colab-df-spinner {\n",
       "    border: 2px solid var(--fill-color);\n",
       "    border-color: transparent;\n",
       "    border-bottom-color: var(--fill-color);\n",
       "    animation:\n",
       "      spin 1s steps(1) infinite;\n",
       "  }\n",
       "\n",
       "  @keyframes spin {\n",
       "    0% {\n",
       "      border-color: transparent;\n",
       "      border-bottom-color: var(--fill-color);\n",
       "      border-left-color: var(--fill-color);\n",
       "    }\n",
       "    20% {\n",
       "      border-color: transparent;\n",
       "      border-left-color: var(--fill-color);\n",
       "      border-top-color: var(--fill-color);\n",
       "    }\n",
       "    30% {\n",
       "      border-color: transparent;\n",
       "      border-left-color: var(--fill-color);\n",
       "      border-top-color: var(--fill-color);\n",
       "      border-right-color: var(--fill-color);\n",
       "    }\n",
       "    40% {\n",
       "      border-color: transparent;\n",
       "      border-right-color: var(--fill-color);\n",
       "      border-top-color: var(--fill-color);\n",
       "    }\n",
       "    60% {\n",
       "      border-color: transparent;\n",
       "      border-right-color: var(--fill-color);\n",
       "    }\n",
       "    80% {\n",
       "      border-color: transparent;\n",
       "      border-right-color: var(--fill-color);\n",
       "      border-bottom-color: var(--fill-color);\n",
       "    }\n",
       "    90% {\n",
       "      border-color: transparent;\n",
       "      border-bottom-color: var(--fill-color);\n",
       "    }\n",
       "  }\n",
       "</style>\n",
       "\n",
       "      <script>\n",
       "        async function quickchart(key) {\n",
       "          const quickchartButtonEl =\n",
       "            document.querySelector('#' + key + ' button');\n",
       "          quickchartButtonEl.disabled = true;  // To prevent multiple clicks.\n",
       "          quickchartButtonEl.classList.add('colab-df-spinner');\n",
       "          try {\n",
       "            const charts = await google.colab.kernel.invokeFunction(\n",
       "                'suggestCharts', [key], {});\n",
       "          } catch (error) {\n",
       "            console.error('Error during call to suggestCharts:', error);\n",
       "          }\n",
       "          quickchartButtonEl.classList.remove('colab-df-spinner');\n",
       "          quickchartButtonEl.classList.add('colab-df-quickchart-complete');\n",
       "        }\n",
       "        (() => {\n",
       "          let quickchartButtonEl =\n",
       "            document.querySelector('#df-7697113e-1a04-4ed2-b721-daf87f30c140 button');\n",
       "          quickchartButtonEl.style.display =\n",
       "            google.colab.kernel.accessAllowed ? 'block' : 'none';\n",
       "        })();\n",
       "      </script>\n",
       "    </div>\n",
       "\n",
       "    </div>\n",
       "  </div>\n"
      ],
      "text/plain": [
       "   checking_status  duration  credit_history  purpose  credit_amount  \\\n",
       "0                1         6               1        6           1169   \n",
       "1                0        48               3        6           5951   \n",
       "2                3        12               1        2           2096   \n",
       "3                1        42               3        3           7882   \n",
       "4                1        24               2        4           4870   \n",
       "\n",
       "   savings_status  employment  installment_commitment  other_parties  \\\n",
       "0               4           3                       4              2   \n",
       "1               2           0                       2              2   \n",
       "2               2           1                       2              2   \n",
       "3               2           1                       2              1   \n",
       "4               2           0                       3              2   \n",
       "\n",
       "   residence_since  ...  other_payment_plans  housing  existing_credits  job  \\\n",
       "0                4  ...                    1        1                 2    1   \n",
       "1                2  ...                    1        1                 1    1   \n",
       "2                3  ...                    1        1                 1    3   \n",
       "3                4  ...                    1        0                 1    1   \n",
       "4                4  ...                    1        0                 2    1   \n",
       "\n",
       "   num_dependents  own_telephone  foreign_worker  sex  marital_status  \\\n",
       "0               1              1               1    1               3   \n",
       "1               1              0               1    0               0   \n",
       "2               2              0               1    1               3   \n",
       "3               2              0               1    1               3   \n",
       "4               2              0               1    1               3   \n",
       "\n",
       "   age_group  \n",
       "0          0  \n",
       "1          1  \n",
       "2          0  \n",
       "3          0  \n",
       "4          0  \n",
       "\n",
       "[5 rows x 22 columns]"
      ]
     },
     "execution_count": 11,
     "metadata": {},
     "output_type": "execute_result"
    }
   ],
   "source": [
    "X_encoded.head(5)"
   ]
  },
  {
   "cell_type": "markdown",
   "metadata": {
    "id": "J22g3WEccC0I"
   },
   "source": [
    "### Splitting & Formatting"
   ]
  },
  {
   "cell_type": "code",
   "execution_count": null,
   "metadata": {
    "id": "Bl7xsfzlcC0I"
   },
   "outputs": [],
   "source": [
    "random_state = 7"
   ]
  },
  {
   "cell_type": "code",
   "execution_count": null,
   "metadata": {
    "id": "S-iSajI2cC0J"
   },
   "outputs": [],
   "source": [
    "##  Split into training and test sets (we use test for evaluation and explanations)\n",
    "\n",
    "X_train, X_test, y_train, y_test = train_test_split(X_encoded, y, test_size=0.1, random_state=random_state)\n",
    "# X_train, X_val, y_train, y_val = train_test_split(X_train, y_train, test_size=0.2, random_state=random_state)"
   ]
  },
  {
   "cell_type": "code",
   "execution_count": null,
   "metadata": {
    "colab": {
     "base_uri": "https://localhost:8080/"
    },
    "executionInfo": {
     "elapsed": 32,
     "status": "ok",
     "timestamp": 1749314910252,
     "user": {
      "displayName": "Hung Thanh Do",
      "userId": "14602254202234053172"
     },
     "user_tz": -120
    },
    "id": "xynWHCuQcC0J",
    "outputId": "01591b1c-83e2-4c37-fb8b-03158aa06f72"
   },
   "outputs": [
    {
     "name": "stdout",
     "output_type": "stream",
     "text": [
      "X_train shape: (900, 22)\n",
      "X_test shape: (100, 22)\n",
      "y_train shape: (900,)\n",
      "y_test shape: (100,)\n"
     ]
    }
   ],
   "source": [
    "print(\"X_train shape:\", X_train.shape)\n",
    "print(\"X_test shape:\", X_test.shape)\n",
    "print(\"y_train shape:\", y_train.shape)\n",
    "print(\"y_test shape:\", y_test.shape)\n",
    "# print(\"X_val shape:\", X_val.shape)\n",
    "# print(\"y_val shape:\", y_val.shape)"
   ]
  },
  {
   "cell_type": "code",
   "execution_count": null,
   "metadata": {
    "id": "55bYD53-cC0J"
   },
   "outputs": [],
   "source": [
    "# Convert to numpy arrays\n",
    "X_train_np = X_train.values.astype(np.float32)\n",
    "# X_val_np = X_val.values.astype(np.float32)\n",
    "X_test_np = X_test.values.astype(np.float32)\n",
    "# X_train_np = X_train\n",
    "# X_val_np = X_val\n",
    "# X_test_np = X_test\n",
    "# For CrossEntropyLoss, labels must be integers.\n",
    "y_train_np = y_train.astype(np.int64).values if isinstance(y_train, pd.Series) else y_train.astype(np.int64)\n",
    "# y_val_np = y_val.astype(np.int64).values if isinstance(y_val, pd.Series) else y_val.astype(np.int64)\n",
    "y_test_np = y_test.astype(np.int64).values if isinstance(y_test, pd.Series) else y_test.astype(np.int64)\n",
    "\n",
    "# Create PyTorch tensors\n",
    "X_train_t = torch.from_numpy(X_train_np)\n",
    "y_train_t = torch.from_numpy(y_train_np)\n",
    "# X_val_t = torch.from_numpy(X_val_np)\n",
    "# y_val_t = torch.from_numpy(y_val_np)\n",
    "X_test_t = torch.from_numpy(X_test_np)\n",
    "y_test_t = torch.from_numpy(y_test_np)"
   ]
  },
  {
   "cell_type": "markdown",
   "metadata": {
    "id": "9WQFnpP-BKXf"
   },
   "source": [
    "### Dataloader"
   ]
  },
  {
   "cell_type": "code",
   "execution_count": null,
   "metadata": {
    "id": "pZRX6iC1l34J"
   },
   "outputs": [],
   "source": [
    "batch_size = 200\n",
    "\n",
    "train_ds = TensorDataset(\n",
    "    X_train_t,\n",
    "    y_train_t\n",
    ")\n",
    "# val_ds = TensorDataset(\n",
    "#     X_val_t\n",
    "#     y_val_t\n",
    "# )\n",
    "test_ds = TensorDataset(\n",
    "    X_test_t,\n",
    "    y_test_t\n",
    ")\n",
    "train_loader = DataLoader(train_ds, batch_size=batch_size, shuffle=True)\n",
    "# val_loader   = DataLoader(val_ds,   batch_size=batch_size, shuffle=False)\n",
    "test_loader  = DataLoader(test_ds,  batch_size=batch_size, shuffle=False)\n"
   ]
  },
  {
   "cell_type": "markdown",
   "metadata": {
    "id": "xboCGhT_cC0K"
   },
   "source": [
    "# Train"
   ]
  },
  {
   "cell_type": "markdown",
   "metadata": {
    "id": "5YPtTBtAcC0M"
   },
   "source": [
    "## MLP"
   ]
  },
  {
   "cell_type": "markdown",
   "metadata": {
    "id": "8LOjCrHHwbOB"
   },
   "source": [
    "### MLP Model"
   ]
  },
  {
   "cell_type": "code",
   "execution_count": null,
   "metadata": {
    "id": "7-EyFWKV5xC-"
   },
   "outputs": [],
   "source": [
    "INPUT_DIM     = X_test_np.shape[1]\n",
    "NUM_CLASSES   = 2\n",
    "HIDDEN_DIM    = 50\n",
    "LEARNING_RATE = 1e-3\n",
    "\n",
    "torch.manual_seed(random_state)\n",
    "\n",
    "class MLP(nn.Module):\n",
    "    def __init__(self, input_dim, hidden_dim, output_dim):\n",
    "        super(MLP, self).__init__()\n",
    "        self.fc1 = nn.Linear(input_dim, hidden_dim)\n",
    "        self.relu = nn.ReLU()\n",
    "        self.fc2 = nn.Linear(hidden_dim, output_dim)\n",
    "        # Initialize weights uniformly in [-1/√fan_in, +1/√fan_in]\n",
    "        nn.init.uniform_(self.fc1.weight,\n",
    "                         a=-1.0 / (input_dim**0.5),\n",
    "                         b=+1.0 / (input_dim**0.5))\n",
    "        nn.init.zeros_(self.fc1.bias)\n",
    "        nn.init.uniform_(self.fc2.weight,\n",
    "                         a=-1.0 / (hidden_dim**0.5),\n",
    "                         b=+1.0 / (hidden_dim**0.5))\n",
    "        nn.init.zeros_(self.fc2.bias)\n",
    "\n",
    "    def forward(self, x):\n",
    "        x = self.fc1(x)\n",
    "        x = self.relu(x)\n",
    "        x = self.fc2(x)\n",
    "        return x  # raw logits\n",
    "\n",
    "# Instantiate and move to device\n",
    "device = torch.device(\"cuda\" if torch.cuda.is_available() else \"cpu\")\n",
    "mlp_model = MLP(INPUT_DIM, HIDDEN_DIM, NUM_CLASSES).to(device)\n",
    "\n",
    "criterion = nn.CrossEntropyLoss()\n",
    "optimizer = optim.Adam(mlp_model.parameters(), lr=LEARNING_RATE, weight_decay=1e-5)"
   ]
  },
  {
   "cell_type": "markdown",
   "metadata": {
    "id": "Ks22oBz4slUV"
   },
   "source": [
    "### Train"
   ]
  },
  {
   "cell_type": "code",
   "execution_count": null,
   "metadata": {
    "colab": {
     "base_uri": "https://localhost:8080/"
    },
    "executionInfo": {
     "elapsed": 813,
     "status": "ok",
     "timestamp": 1749314935774,
     "user": {
      "displayName": "Hung Thanh Do",
      "userId": "14602254202234053172"
     },
     "user_tz": -120
    },
    "id": "lecV4QTTslUV",
    "outputId": "f9a2ff93-3958-43e6-fbae-0b4c62bfe9a2"
   },
   "outputs": [
    {
     "name": "stdout",
     "output_type": "stream",
     "text": [
      "Epoch [1/400]\n",
      "Training Loss: 0.5909   - Training Accuracy: 0.6956\n",
      "Epoch [50/400]\n",
      "Training Loss: 0.5857   - Training Accuracy: 0.6822\n",
      "Epoch [100/400]\n",
      "Training Loss: 0.5841   - Training Accuracy: 0.6844\n",
      "Epoch [150/400]\n",
      "Training Loss: 0.5792   - Training Accuracy: 0.6878\n",
      "Epoch [200/400]\n",
      "Training Loss: 0.5767   - Training Accuracy: 0.6933\n",
      "Epoch [250/400]\n",
      "Training Loss: 0.5785   - Training Accuracy: 0.6900\n",
      "Epoch [300/400]\n",
      "Training Loss: 0.5780   - Training Accuracy: 0.6911\n",
      "Epoch [350/400]\n",
      "Training Loss: 0.5774   - Training Accuracy: 0.6900\n",
      "Epoch [400/400]\n",
      "Training Loss: 0.5769   - Training Accuracy: 0.6933\n",
      "\n",
      "Test Accuracy: 0.8000\n"
     ]
    }
   ],
   "source": [
    "best_val_loss = float('inf')\n",
    "patience = 30   # Early stopping patience\n",
    "epochs_no_improve = 0\n",
    "\n",
    "num_epochs = 400\n",
    "start_time = time.time()\n",
    "for epoch in range(num_epochs):\n",
    "    mlp_model.train()\n",
    "\n",
    "    X_train_t = X_train_t.to(device)\n",
    "    y_train_t = y_train_t.to(device)\n",
    "    # X_val_t = X_val_t.to(device)\n",
    "    # y_val_t = y_val_t.to(device)\n",
    "    X_test_t = X_test_t.to(device)\n",
    "    y_test_t = y_test_t.to(device)\n",
    "\n",
    "    logits = mlp_model(X_train_t)\n",
    "    loss = criterion(logits, y_train_t)\n",
    "    optimizer.zero_grad()\n",
    "    loss.backward()\n",
    "    optimizer.step()\n",
    "\n",
    "    y_train_pred = torch.argmax(logits, dim=1)\n",
    "    train_accuracy = accuracy_score(y_train_t.cpu().numpy(), y_train_pred.cpu().numpy())\n",
    "\n",
    "    # mlp_model.eval()\n",
    "    # with torch.no_grad():\n",
    "    #     val_logits = mlp_model(X_val_t)\n",
    "    #     val_loss = criterion(val_logits, y_val_t)\n",
    "    #     val_pred = torch.argmax(val_logits, dim=1)\n",
    "    #     val_accuracy = accuracy_score(y_val_t.cpu().numpy(), val_pred.cpu().numpy())\n",
    "\n",
    "    if ((epoch + 1) % 50) == 0 or (epoch + 1 == 1):\n",
    "        print(f\"Epoch [{epoch+1}/{num_epochs}]\")\n",
    "        with torch.no_grad():\n",
    "            print(f\"Training Loss: {loss.item():.4f}   - Training Accuracy: {train_accuracy:.4f}\")\n",
    "            # print(f\"Validation Loss: {val_loss.item():.4f} - Validation Accuracy: {val_accuracy:.4f} \\n\")\n",
    "\n",
    "    # # Check for improvement in validation loss\n",
    "    # if val_loss < best_val_loss:\n",
    "    #     best_val_loss = val_loss\n",
    "    #     epochs_no_improve = 0\n",
    "    # else:\n",
    "    #     epochs_no_improve += 1\n",
    "    #     if epochs_no_improve >= patience:\n",
    "    #         print(f\"\\nEarly stopping triggered after {epoch+1} epochs.\")\n",
    "    #         break\n",
    "\n",
    "# Evaluate on test data\n",
    "mlp_model.eval()\n",
    "with torch.no_grad():\n",
    "    logits = mlp_model(X_test_t)\n",
    "    probs = torch.softmax(logits, dim=1)\n",
    "    preds = torch.argmax(probs, dim=1)\n",
    "    accuracy = (preds == y_test_t).float().mean().item()\n",
    "    print(f\"\\nTest Accuracy: {accuracy:.4f}\")\n",
    "\n",
    "end_time = time.time()\n",
    "mlp_elapsed_time = end_time - start_time"
   ]
  },
  {
   "cell_type": "code",
   "execution_count": null,
   "metadata": {
    "colab": {
     "base_uri": "https://localhost:8080/"
    },
    "executionInfo": {
     "elapsed": 43,
     "status": "ok",
     "timestamp": 1749291955703,
     "user": {
      "displayName": "Hung Thanh Do",
      "userId": "14602254202234053172"
     },
     "user_tz": -120
    },
    "id": "i_b-JQCmslUW",
    "outputId": "6e2f4a1d-1852-4ce4-f2fb-32809e72f354"
   },
   "outputs": [
    {
     "name": "stdout",
     "output_type": "stream",
     "text": [
      "\n",
      "Total training time:  0.7925734519958496\n"
     ]
    }
   ],
   "source": [
    "print(\"\\nTotal training time: \", mlp_elapsed_time)"
   ]
  },
  {
   "cell_type": "code",
   "execution_count": null,
   "metadata": {
    "id": "ith3DSZMslUW"
   },
   "outputs": [],
   "source": [
    "# Save the model\n",
    "torch.save(mlp_model.state_dict(), \"saved_model/mlp_german.pth\")"
   ]
  },
  {
   "cell_type": "markdown",
   "metadata": {
    "id": "P9EjvXsikvxQ"
   },
   "source": [
    "### Eval"
   ]
  },
  {
   "cell_type": "code",
   "execution_count": null,
   "metadata": {
    "colab": {
     "base_uri": "https://localhost:8080/"
    },
    "executionInfo": {
     "elapsed": 23,
     "status": "ok",
     "timestamp": 1749292293017,
     "user": {
      "displayName": "Hung Thanh Do",
      "userId": "14602254202234053172"
     },
     "user_tz": -120
    },
    "id": "OnTp7LbrkykZ",
    "outputId": "20fce55a-8fe1-44ce-f432-5c7f3b1c6f6e"
   },
   "outputs": [
    {
     "data": {
      "text/plain": [
       "<All keys matched successfully>"
      ]
     },
     "execution_count": 18,
     "metadata": {},
     "output_type": "execute_result"
    }
   ],
   "source": [
    "# Load the model\n",
    "mlp_model.load_state_dict(torch.load(\"saved_model/mlp_german.pth\"))"
   ]
  },
  {
   "cell_type": "code",
   "execution_count": null,
   "metadata": {
    "colab": {
     "base_uri": "https://localhost:8080/"
    },
    "executionInfo": {
     "elapsed": 95,
     "status": "ok",
     "timestamp": 1749292293110,
     "user": {
      "displayName": "Hung Thanh Do",
      "userId": "14602254202234053172"
     },
     "user_tz": -120
    },
    "id": "xw7O52Cbk5E5",
    "outputId": "6360d5a9-eb5e-4f05-8322-109658c22e2c"
   },
   "outputs": [
    {
     "name": "stdout",
     "output_type": "stream",
     "text": [
      "\n",
      "Test Accuracy: 0.8000\n"
     ]
    }
   ],
   "source": [
    "X_test_t = X_test_t.to(device)\n",
    "y_test_t = y_test_t.to(device)\n",
    "mlp_model.eval()\n",
    "with torch.no_grad():\n",
    "    logits = mlp_model(X_test_t)\n",
    "    probs = torch.softmax(logits, dim=1)\n",
    "    preds = torch.argmax(probs, dim=1)\n",
    "    accuracy = (preds == y_test_t).float().mean().item()\n",
    "    print(f\"\\nTest Accuracy: {accuracy:.4f}\")"
   ]
  },
  {
   "cell_type": "markdown",
   "metadata": {
    "id": "1gJjAIf6wdn3"
   },
   "source": [
    "### Train with bs"
   ]
  },
  {
   "cell_type": "code",
   "execution_count": null,
   "metadata": {
    "colab": {
     "base_uri": "https://localhost:8080/"
    },
    "executionInfo": {
     "elapsed": 7129,
     "status": "ok",
     "timestamp": 1749130633683,
     "user": {
      "displayName": "Hung Thanh Do",
      "userId": "14602254202234053172"
     },
     "user_tz": -120
    },
    "id": "JHq6GDVNv7Ja",
    "outputId": "06c73ba0-49fe-46d1-9fd8-3d1ff3a681bb"
   },
   "outputs": [
    {
     "name": "stderr",
     "output_type": "stream",
     "text": []
    },
    {
     "name": "stdout",
     "output_type": "stream",
     "text": [
      "Epoch [50/400]:\n",
      "Training loss = 0.8887  -  Training Accuracy = 0.6367\n"
     ]
    },
    {
     "name": "stderr",
     "output_type": "stream",
     "text": []
    },
    {
     "name": "stdout",
     "output_type": "stream",
     "text": [
      "Epoch [100/400]:\n",
      "Training loss = 0.5513  -  Training Accuracy = 0.7000\n"
     ]
    },
    {
     "name": "stderr",
     "output_type": "stream",
     "text": []
    },
    {
     "name": "stdout",
     "output_type": "stream",
     "text": [
      "Epoch [150/400]:\n",
      "Training loss = 0.6965  -  Training Accuracy = 0.6833\n"
     ]
    },
    {
     "name": "stderr",
     "output_type": "stream",
     "text": []
    },
    {
     "name": "stdout",
     "output_type": "stream",
     "text": [
      "Epoch [200/400]:\n",
      "Training loss = 0.8012  -  Training Accuracy = 0.6822\n"
     ]
    },
    {
     "name": "stderr",
     "output_type": "stream",
     "text": []
    },
    {
     "name": "stdout",
     "output_type": "stream",
     "text": [
      "Epoch [250/400]:\n",
      "Training loss = 0.7158  -  Training Accuracy = 0.6844\n"
     ]
    },
    {
     "name": "stderr",
     "output_type": "stream",
     "text": []
    },
    {
     "name": "stdout",
     "output_type": "stream",
     "text": [
      "Epoch [300/400]:\n",
      "Training loss = 0.7965  -  Training Accuracy = 0.7011\n"
     ]
    },
    {
     "name": "stderr",
     "output_type": "stream",
     "text": []
    },
    {
     "name": "stdout",
     "output_type": "stream",
     "text": [
      "Epoch [350/400]:\n",
      "Training loss = 0.5651  -  Training Accuracy = 0.7100\n"
     ]
    },
    {
     "name": "stderr",
     "output_type": "stream",
     "text": []
    },
    {
     "name": "stdout",
     "output_type": "stream",
     "text": [
      "Epoch [400/400]:\n",
      "Training loss = 0.6404  -  Training Accuracy = 0.7056\n"
     ]
    },
    {
     "name": "stderr",
     "output_type": "stream",
     "text": [
      "                                              "
     ]
    },
    {
     "name": "stdout",
     "output_type": "stream",
     "text": [
      "Test Accuracy: 0.8000\n"
     ]
    },
    {
     "name": "stderr",
     "output_type": "stream",
     "text": [
      "\r"
     ]
    }
   ],
   "source": [
    "num_epochs = 400\n",
    "start_time = time.time()\n",
    "for epoch in range(num_epochs):\n",
    "    mlp_model.train()\n",
    "    total_loss = 0.0\n",
    "    all_preds = []\n",
    "    all_labels = []\n",
    "    for xb, yb in tqdm(train_loader, desc=f\"Epoch {epoch:02d} [Train]\", leave=False):\n",
    "        xb, yb = xb.to(device), yb.to(device)\n",
    "        logits = mlp_model(xb)                    # shape (batch_size, 2)\n",
    "        loss = criterion(logits, yb)              # cross-entropy on 2 logits\\\n",
    "        optimizer.zero_grad()\n",
    "        loss.backward()\n",
    "        optimizer.step()\n",
    "\n",
    "        total_loss += float(loss.item()) * xb.size(0)\n",
    "        # Convert logits → predicted class indices, move back to CPU\n",
    "        preds = logits.argmax(dim=1).cpu().numpy()   # shape (batch_size,)\n",
    "        labels = yb.cpu().numpy()                    # shape (batch_size,)\n",
    "\n",
    "        all_preds.append(preds)\n",
    "        all_labels.append(labels)\n",
    "\n",
    "    # Concatenate batches for the full epoch\n",
    "    all_preds = np.concatenate(all_preds, axis=0)\n",
    "    all_labels = np.concatenate(all_labels, axis=0)\n",
    "\n",
    "    train_loss = total_loss / len(train_loader.dataset)\n",
    "\n",
    "    if (epoch + 1) % 50 == 0:\n",
    "        print(f\"Epoch [{epoch+1}/{num_epochs}]:\")\n",
    "        train_acc  = accuracy_score(all_labels, all_preds)\n",
    "        print(f\"Training loss = {train_loss:.4f}  -  Training Accuracy = {train_acc:.4f}\")\n",
    "\n",
    "# Eval\n",
    "mlp_model.eval()\n",
    "test_preds, test_targets = [], []\n",
    "with torch.no_grad():\n",
    "    for xb, yb in tqdm(test_loader, desc=\"Testing\", leave=False):\n",
    "        xb, yb = xb.to(device), yb.to(device)\n",
    "        logits = mlp_model(xb)\n",
    "        preds = logits.argmax(dim=1).cpu().numpy()\n",
    "        labels = yb.cpu().numpy()\n",
    "        test_preds.append(preds)\n",
    "        test_targets.append(labels)\n",
    "\n",
    "test_acc = accuracy_score(\n",
    "    np.concatenate(test_targets),\n",
    "    np.concatenate(test_preds)\n",
    ")\n",
    "print(f\"Test Accuracy: {test_acc:.4f}\")\n",
    "\n",
    "end_time = time.time()\n",
    "mlp_elapsed_time = end_time - start_time"
   ]
  },
  {
   "cell_type": "code",
   "execution_count": null,
   "metadata": {
    "colab": {
     "base_uri": "https://localhost:8080/"
    },
    "executionInfo": {
     "elapsed": 5,
     "status": "ok",
     "timestamp": 1749130644951,
     "user": {
      "displayName": "Hung Thanh Do",
      "userId": "14602254202234053172"
     },
     "user_tz": -120
    },
    "id": "z2RWPLdQ6px6",
    "outputId": "5c0be09a-17bf-40ff-98c3-ecc2b061a151"
   },
   "outputs": [
    {
     "name": "stdout",
     "output_type": "stream",
     "text": [
      "\n",
      "Total training time:  7.091474294662476\n"
     ]
    }
   ],
   "source": [
    "print(\"\\nTotal training time: \", mlp_elapsed_time)"
   ]
  },
  {
   "cell_type": "code",
   "execution_count": null,
   "metadata": {
    "id": "95M-FOSR1c__"
   },
   "outputs": [],
   "source": [
    "# Save the model\n",
    "torch.save(mlp_model.state_dict(), \"saved_model/mlp_german.pth\")"
   ]
  },
  {
   "cell_type": "markdown",
   "metadata": {
    "id": "fdDKIkVy1VIZ"
   },
   "source": [
    "### Eval with bs"
   ]
  },
  {
   "cell_type": "code",
   "execution_count": null,
   "metadata": {
    "colab": {
     "base_uri": "https://localhost:8080/"
    },
    "executionInfo": {
     "elapsed": 309,
     "status": "ok",
     "timestamp": 1749130833062,
     "user": {
      "displayName": "Hung Thanh Do",
      "userId": "14602254202234053172"
     },
     "user_tz": -120
    },
    "id": "hskSnyIj1kh7",
    "outputId": "2d8c657e-5be7-438b-fa64-b1e64f215143"
   },
   "outputs": [
    {
     "data": {
      "text/plain": [
       "<All keys matched successfully>"
      ]
     },
     "execution_count": 18,
     "metadata": {},
     "output_type": "execute_result"
    }
   ],
   "source": [
    "# Load the model\n",
    "mlp_model.load_state_dict(torch.load(\"saved_model/mlp_german.pth\"))"
   ]
  },
  {
   "cell_type": "code",
   "execution_count": null,
   "metadata": {
    "colab": {
     "base_uri": "https://localhost:8080/"
    },
    "executionInfo": {
     "elapsed": 37,
     "status": "ok",
     "timestamp": 1749130879279,
     "user": {
      "displayName": "Hung Thanh Do",
      "userId": "14602254202234053172"
     },
     "user_tz": -120
    },
    "id": "BxBfivXj1WZc",
    "outputId": "edd5e54a-6af8-413b-8676-1c4fce8152db"
   },
   "outputs": [
    {
     "name": "stderr",
     "output_type": "stream",
     "text": [
      "                                              "
     ]
    },
    {
     "name": "stdout",
     "output_type": "stream",
     "text": [
      "Test Accuracy: 0.8000\n"
     ]
    },
    {
     "name": "stderr",
     "output_type": "stream",
     "text": [
      "\r"
     ]
    }
   ],
   "source": [
    "mlp_model.eval()\n",
    "test_preds, test_targets = [], []\n",
    "with torch.no_grad():\n",
    "    for xb, yb in tqdm(test_loader, desc=\"Testing\", leave=False):\n",
    "        xb, yb = xb.to(device), yb.to(device)\n",
    "        logits = mlp_model(xb)\n",
    "        preds = logits.argmax(dim=1).cpu().numpy()\n",
    "        labels = yb.cpu().numpy()\n",
    "        test_preds.append(preds)\n",
    "        test_targets.append(labels)\n",
    "\n",
    "test_acc = accuracy_score(\n",
    "    np.concatenate(test_targets),\n",
    "    np.concatenate(test_preds)\n",
    ")\n",
    "print(f\"Test Accuracy: {test_acc:.4f}\")\n"
   ]
  },
  {
   "cell_type": "markdown",
   "metadata": {
    "id": "Pk4zhioLh6NZ"
   },
   "source": [
    "## TabResNet"
   ]
  },
  {
   "cell_type": "markdown",
   "metadata": {
    "id": "GfVfYd_ZcC0Q"
   },
   "source": [
    "### Model TabResNet"
   ]
  },
  {
   "cell_type": "code",
   "execution_count": null,
   "metadata": {
    "id": "DSE3rgtDcC0R"
   },
   "outputs": [],
   "source": [
    "# ---------------------------\n",
    "# Model Definition: TabResNet (using residual blocks)\n",
    "# ---------------------------\n",
    "class TabResBlock(nn.Module):\n",
    "    def __init__(self, d_block, d_hidden, dropout1, dropout2):\n",
    "        super(TabResBlock, self).__init__()\n",
    "        # Sub-block 1\n",
    "        self.bn1 = nn.BatchNorm1d(d_block)\n",
    "        self.ln1 = nn.Linear(d_block, d_hidden)\n",
    "        self.relu1 = nn.ReLU()\n",
    "        self.drop1 = nn.Dropout(dropout1)\n",
    "        # Sub-block 2\n",
    "        self.ln2 = nn.Linear(d_hidden, d_block)\n",
    "        self.drop2 = nn.Dropout(dropout2)\n",
    "\n",
    "    def forward(self, x):\n",
    "        identity = x\n",
    "        out = self.bn1(x)\n",
    "        out = self.ln1(out)\n",
    "        out = self.relu1(out)\n",
    "        out = self.drop1(out)\n",
    "        out = self.ln2(out)\n",
    "        out = self.drop2(out)\n",
    "        out += identity\n",
    "        return out\n",
    "\n",
    "class TabResNet(nn.Module):\n",
    "    def __init__(\n",
    "        self,\n",
    "        d_in: int,\n",
    "        d_out: Optional[int],\n",
    "        n_blocks: int,\n",
    "        d_block: int,\n",
    "        d_hidden: Optional[int],\n",
    "        d_hidden_multiplier: Optional[float] = 2,\n",
    "        dropout1: float = 0.2,\n",
    "        dropout2: float = 0\n",
    "    ):\n",
    "        \"\"\"\n",
    "        Args:\n",
    "            d_in: Number of input features.\n",
    "            d_out: Number of outputs (set to 2 for binary classification).\n",
    "            n_blocks: Number of residual blocks.\n",
    "            d_block: Block width (input and output dimension of each block).\n",
    "            d_hidden: Hidden dimension inside a block.\n",
    "        \"\"\"\n",
    "        super(TabResNet, self).__init__()\n",
    "        # Project input to block width\n",
    "        self.input_projection = nn.Linear(d_in, d_block)\n",
    "        # Residual blocks\n",
    "        self.resblocks = nn.ModuleList([\n",
    "            TabResBlock(d_block, d_hidden, dropout1, dropout2) for _ in range(n_blocks)\n",
    "        ])\n",
    "        # Prediction block: outputs logits for d_out classes.\n",
    "        self.predblock = (\n",
    "            nn.Sequential(\n",
    "                nn.BatchNorm1d(d_block),\n",
    "                nn.ReLU(),\n",
    "                nn.Linear(d_block, d_out)\n",
    "            ) if d_out is not None else None\n",
    "        )\n",
    "\n",
    "    def forward(self, x):\n",
    "        x = self.input_projection(x)\n",
    "        for block in self.resblocks:\n",
    "            x = block(x)\n",
    "        if self.predblock is not None:\n",
    "            x = self.predblock(x)\n",
    "        return x  # returns logits\n",
    "\n",
    "\n",
    "# Instantiate model; input dimension equals the number of columns in X_test_np.\n",
    "d_in = X_test_np.shape[1]\n",
    "model = TabResNet(\n",
    "    d_in=d_in,\n",
    "    d_out=2,       # Two outputs for binary classification.\n",
    "    n_blocks=2,\n",
    "    d_block=16,\n",
    "    d_hidden=32,\n",
    "    dropout1=0.2,\n",
    "    dropout2=0.05\n",
    "    )\n",
    "\n",
    "device = torch.device(\"cuda\" if torch.cuda.is_available() else \"cpu\")\n",
    "model = model.to(device)\n",
    "\n",
    "criterion = nn.CrossEntropyLoss()\n",
    "optimizer = optim.Adam(model.parameters(), lr=1e-3, weight_decay=1e-5)"
   ]
  },
  {
   "cell_type": "markdown",
   "metadata": {
    "id": "QwRz19sNcC0S"
   },
   "source": [
    "### Training"
   ]
  },
  {
   "cell_type": "code",
   "execution_count": null,
   "metadata": {
    "colab": {
     "base_uri": "https://localhost:8080/"
    },
    "executionInfo": {
     "elapsed": 2165,
     "status": "ok",
     "timestamp": 1749291974457,
     "user": {
      "displayName": "Hung Thanh Do",
      "userId": "14602254202234053172"
     },
     "user_tz": -120
    },
    "id": "9-A2iFAh9_J5",
    "outputId": "2b2525fe-c6d6-4dd9-fb1f-1a5f207d9f68"
   },
   "outputs": [
    {
     "name": "stdout",
     "output_type": "stream",
     "text": [
      "Epoch [1/400]\n",
      "Training Loss: 0.4729   - Training Accuracy: 0.7711\n",
      "Epoch [50/400]\n",
      "Training Loss: 0.4278   - Training Accuracy: 0.7911\n",
      "Epoch [100/400]\n",
      "Training Loss: 0.4368   - Training Accuracy: 0.7900\n",
      "Epoch [150/400]\n",
      "Training Loss: 0.4094   - Training Accuracy: 0.8067\n",
      "Epoch [200/400]\n",
      "Training Loss: 0.3889   - Training Accuracy: 0.8200\n",
      "Epoch [250/400]\n",
      "Training Loss: 0.3643   - Training Accuracy: 0.8267\n",
      "Epoch [300/400]\n",
      "Training Loss: 0.3492   - Training Accuracy: 0.8467\n",
      "Epoch [350/400]\n",
      "Training Loss: 0.3537   - Training Accuracy: 0.8478\n",
      "Epoch [400/400]\n",
      "Training Loss: 0.3375   - Training Accuracy: 0.8500\n",
      "\n",
      "Test Accuracy: 0.8200\n"
     ]
    }
   ],
   "source": [
    "best_val_loss = float('inf')\n",
    "patience = 50   # Early stopping patience\n",
    "epochs_no_improve = 0\n",
    "\n",
    "num_epochs = 400\n",
    "start_time = time.time()\n",
    "for epoch in range(num_epochs):\n",
    "    model.train()\n",
    "\n",
    "    X_train_t = X_train_t.to(device)\n",
    "    y_train_t = y_train_t.to(device)\n",
    "    X_test_t = X_test_t.to(device)\n",
    "    y_test_t = y_test_t.to(device)\n",
    "\n",
    "    logits = model(X_train_t)\n",
    "    loss = criterion(logits, y_train_t)\n",
    "    optimizer.zero_grad()\n",
    "    loss.backward()\n",
    "    optimizer.step()\n",
    "\n",
    "    y_train_pred = torch.argmax(logits, dim=1)\n",
    "    train_accuracy = accuracy_score(y_train_t.cpu().numpy(), y_train_pred.cpu().numpy())\n",
    "\n",
    "\n",
    "    if ((epoch + 1) % 50) == 0 or (epoch + 1 == 1):\n",
    "        print(f\"Epoch [{epoch+1}/{num_epochs}]\")\n",
    "        with torch.no_grad():\n",
    "            print(f\"Training Loss: {loss.item():.4f}   - Training Accuracy: {train_accuracy:.4f}\")\n",
    "\n",
    "# Evaluate on test data\n",
    "model.eval()\n",
    "with torch.no_grad():\n",
    "    logits = model(X_test_t)\n",
    "    probs = torch.softmax(logits, dim=1)\n",
    "    preds = torch.argmax(probs, dim=1)\n",
    "    accuracy = (preds == y_test_t).float().mean().item()\n",
    "    print(f\"\\nTest Accuracy: {accuracy:.4f}\")\n",
    "\n",
    "end_time = time.time()\n",
    "elapsed_time = end_time - start_time"
   ]
  },
  {
   "cell_type": "code",
   "execution_count": null,
   "metadata": {
    "colab": {
     "base_uri": "https://localhost:8080/"
    },
    "executionInfo": {
     "elapsed": 4,
     "status": "ok",
     "timestamp": 1749292134652,
     "user": {
      "displayName": "Hung Thanh Do",
      "userId": "14602254202234053172"
     },
     "user_tz": -120
    },
    "id": "kdVTY4t274Nc",
    "outputId": "ce8baed2-dfb5-401e-da2a-c8d0b91fc110"
   },
   "outputs": [
    {
     "name": "stdout",
     "output_type": "stream",
     "text": [
      "\n",
      "Total training time:  2.161410331726074\n"
     ]
    }
   ],
   "source": [
    "print(\"\\nTotal training time: \", elapsed_time)"
   ]
  },
  {
   "cell_type": "code",
   "execution_count": null,
   "metadata": {
    "id": "PvzkF9TOcC0b"
   },
   "outputs": [],
   "source": [
    "# Save the model\n",
    "torch.save(model.state_dict(), \"saved_model/tabresnet_german.pth\")"
   ]
  },
  {
   "cell_type": "markdown",
   "metadata": {
    "id": "Y6-sLOD-zBTv"
   },
   "source": [
    "### Eval"
   ]
  },
  {
   "cell_type": "code",
   "execution_count": null,
   "metadata": {
    "colab": {
     "base_uri": "https://localhost:8080/"
    },
    "executionInfo": {
     "elapsed": 9,
     "status": "ok",
     "timestamp": 1749292293131,
     "user": {
      "displayName": "Hung Thanh Do",
      "userId": "14602254202234053172"
     },
     "user_tz": -120
    },
    "id": "ZqMUCrRIcC0c",
    "outputId": "526c96bf-963d-49bb-a909-41ab0990f8a0"
   },
   "outputs": [
    {
     "data": {
      "text/plain": [
       "<All keys matched successfully>"
      ]
     },
     "execution_count": 21,
     "metadata": {},
     "output_type": "execute_result"
    }
   ],
   "source": [
    "# Load the model\n",
    "model.load_state_dict(torch.load(\"saved_model/tabresnet_german.pth\"))"
   ]
  },
  {
   "cell_type": "code",
   "execution_count": null,
   "metadata": {
    "colab": {
     "base_uri": "https://localhost:8080/"
    },
    "executionInfo": {
     "elapsed": 30,
     "status": "ok",
     "timestamp": 1749292293162,
     "user": {
      "displayName": "Hung Thanh Do",
      "userId": "14602254202234053172"
     },
     "user_tz": -120
    },
    "id": "UKTfym6SzENe",
    "outputId": "24b86366-de08-4f7c-bd2a-3e6e40fdc02f"
   },
   "outputs": [
    {
     "name": "stdout",
     "output_type": "stream",
     "text": [
      "\n",
      "Test Accuracy: 0.8200\n"
     ]
    }
   ],
   "source": [
    "X_test_t = X_test_t.to(device)\n",
    "y_test_t = y_test_t.to(device)\n",
    "model.eval()\n",
    "with torch.no_grad():\n",
    "    logits = model(X_test_t)\n",
    "    probs = torch.softmax(logits, dim=1)\n",
    "    preds = torch.argmax(probs, dim=1)\n",
    "    accuracy = (preds == y_test_t).float().mean().item()\n",
    "    print(f\"\\nTest Accuracy: {accuracy:.4f}\")"
   ]
  },
  {
   "cell_type": "markdown",
   "metadata": {
    "id": "IRoRVOmvcC0d"
   },
   "source": [
    "# Sustainability"
   ]
  },
  {
   "cell_type": "markdown",
   "metadata": {
    "id": "UgJ9XJAWDev3"
   },
   "source": [
    "## Define utils"
   ]
  },
  {
   "cell_type": "code",
   "execution_count": null,
   "metadata": {
    "id": "LEkZeB-eC8T_"
   },
   "outputs": [],
   "source": [
    "def compute_kgco2e(pc, pg, time):\n",
    "    \"\"\"\n",
    "    Compute kgCO2 emission, and normalized emission per capita.\n",
    "    Args:\n",
    "        pc: average CPU power in watts\n",
    "        pg: average GPU power in watts\n",
    "        time_hours: training + eval time in hours\n",
    "\n",
    "    Returns:\n",
    "        tuple: CO2e (kg), normalized CO2e\n",
    "    \"\"\"\n",
    "    pt = (pc + pg) * time / 1000  # power in kWh\n",
    "    co2e = 0.498 * pt  # Germany's emission rate\n",
    "    normalized = co2e / 26  # per-capita daily emission baseline\n",
    "\n",
    "    return co2e, normalized"
   ]
  },
  {
   "cell_type": "code",
   "execution_count": null,
   "metadata": {
    "id": "gTulf29cDj5G"
   },
   "outputs": [],
   "source": [
    "\"\"\"\n",
    "Intel(R) Xeon(R) CPU @ 2.20GHz\n",
    "Model: 79 (\n",
    "-> Intel Xeon E5-2673 v4 from the Broadwell-EP family - specifications:\n",
    "    Cores: 10\n",
    "    Threads: 20\n",
    "    Base Frequency: 2.3 GHz\n",
    "    Maximum Turbo Speed: 3.5 GHz\n",
    "    Cache: 50 MB\n",
    "    TDP: 135W\n",
    "\n",
    "Colab uses 2 vCPUs (each 1 core -> total 2 cores out of 20)\n",
    "-> only use 10% of the actuall TDP -> 13.5 W\n",
    "\"\"\"\n",
    "pc = 13.5\n",
    "pg = 70"
   ]
  },
  {
   "cell_type": "markdown",
   "metadata": {
    "id": "eltctoklymtZ"
   },
   "source": [
    "## MLP"
   ]
  },
  {
   "cell_type": "markdown",
   "metadata": {
    "id": "VWidOEaa3mZY"
   },
   "source": [
    "### Param Count"
   ]
  },
  {
   "cell_type": "code",
   "execution_count": null,
   "metadata": {
    "colab": {
     "base_uri": "https://localhost:8080/"
    },
    "executionInfo": {
     "elapsed": 12,
     "status": "ok",
     "timestamp": 1749292035974,
     "user": {
      "displayName": "Hung Thanh Do",
      "userId": "14602254202234053172"
     },
     "user_tz": -120
    },
    "id": "yNIwbfu83paC",
    "outputId": "8f182743-015b-4c0a-be47-0a35cec10db3"
   },
   "outputs": [
    {
     "name": "stdout",
     "output_type": "stream",
     "text": [
      "Trainable parameters: 1,252\n"
     ]
    }
   ],
   "source": [
    "# Parameter Count (Pure PyTorch)\n",
    "def count_parameters(model):\n",
    "    return sum(p.numel() for p in model.parameters() if p.requires_grad)\n",
    "\n",
    "# Usage\n",
    "total_params = count_parameters(mlp_model)\n",
    "print(f\"Trainable parameters: {total_params:,}\")"
   ]
  },
  {
   "cell_type": "markdown",
   "metadata": {
    "id": "jH04qWhr3tVD"
   },
   "source": [
    "### FLOPs"
   ]
  },
  {
   "cell_type": "code",
   "execution_count": null,
   "metadata": {
    "colab": {
     "base_uri": "https://localhost:8080/"
    },
    "executionInfo": {
     "elapsed": 81,
     "status": "ok",
     "timestamp": 1749292036057,
     "user": {
      "displayName": "Hung Thanh Do",
      "userId": "14602254202234053172"
     },
     "user_tz": -120
    },
    "id": "vorG4P383ztn",
    "outputId": "3341d89a-9eb1-4544-92b8-34f682679328"
   },
   "outputs": [
    {
     "name": "stdout",
     "output_type": "stream",
     "text": [
      "Module            FLOP    % Total\n",
      "--------------  ------  ---------\n",
      "MLP               2400    100.00%\n",
      " - aten.addmm     2400    100.00%\n",
      " MLP.fc1          2200     91.67%\n",
      "  - aten.addmm    2200     91.67%\n",
      " MLP.fc2           200      8.33%\n",
      "  - aten.addmm     200      8.33%\n",
      "FLOPs per sample: 2.40 K\n",
      "FLOPs: 0.24M\n"
     ]
    }
   ],
   "source": [
    "from torch.utils.flop_counter import FlopCounterMode\n",
    "\n",
    "sample_input = X_test_t[0:1]  # just one sample\n",
    "\n",
    "mlp_model.eval()\n",
    "with torch.no_grad(), FlopCounterMode() as flop_counter:\n",
    "    _ = mlp_model(sample_input)\n",
    "\n",
    "flops_per_sample = flop_counter.get_total_flops()\n",
    "\n",
    "print(f\"FLOPs per sample: {flops_per_sample/1e3:.2f} K\")\n",
    "print(f\"FLOPs: {flops_per_sample*X_test_t.shape[0]/1e6:.2f}M\")"
   ]
  },
  {
   "cell_type": "markdown",
   "metadata": {
    "id": "yTDTFkGC3vZ5"
   },
   "source": [
    "### MACs"
   ]
  },
  {
   "cell_type": "code",
   "execution_count": null,
   "metadata": {
    "colab": {
     "base_uri": "https://localhost:8080/"
    },
    "executionInfo": {
     "elapsed": 17,
     "status": "ok",
     "timestamp": 1749292101010,
     "user": {
      "displayName": "Hung Thanh Do",
      "userId": "14602254202234053172"
     },
     "user_tz": -120
    },
    "id": "iQprNkCG51u4",
    "outputId": "535ae464-3897-4a42-e552-7215ff1557cd"
   },
   "outputs": [
    {
     "name": "stdout",
     "output_type": "stream",
     "text": [
      "Warning: module MLP is treated as a zero-op.\n",
      "MLP(\n",
      "  1.25 k, 100.000% Params, 1.3 KMac, 96.302% MACs, \n",
      "  (fc1): Linear(1.15 k, 91.853% Params, 1.15 KMac, 85.059% MACs, in_features=22, out_features=50, bias=True)\n",
      "  (relu): ReLU(0, 0.000% Params, 50.0 Mac, 3.698% MACs, )\n",
      "  (fc2): Linear(102, 8.147% Params, 102.0 Mac, 7.544% MACs, in_features=50, out_features=2, bias=True)\n",
      ")\n",
      "MACs per sample: 1.35 K\n",
      "MACs: 0.14 M\n"
     ]
    }
   ],
   "source": [
    "# Calculate MACS\n",
    "from ptflops import get_model_complexity_info\n",
    "\n",
    "# Instantiate the model for a dataset with 10 features and 2 output classes\n",
    "input_dim = X_test_np.shape[1]   # Number of features in tabular data\n",
    "num_classes = 2  # Number of output classes\n",
    "\n",
    "# Measure complexity using ptflops\n",
    "with torch.cuda.device(0):  # Remove or adjust this if running on CPU\n",
    "    macs_str, params_str = get_model_complexity_info(mlp_model, (input_dim,), as_strings=True,\n",
    "                                             print_per_layer_stat=True, verbose=True)\n",
    "\n",
    "# Parse the MACs string into a float (number of multiply-adds per sample)\n",
    "def parse_macs_str(s):\n",
    "    if s.endswith(\" GMac\"):\n",
    "        return float(s.replace(\" GMac\", \"\")) * 1e9\n",
    "    if s.endswith(\" MMac\"):\n",
    "        return float(s.replace(\" MMac\", \"\")) * 1e6\n",
    "    if s.endswith(\" KMac\"):\n",
    "        return float(s.replace(\" KMac\", \"\")) * 1e3\n",
    "    if s.endswith(\" Mac\"):\n",
    "        return float(s.replace(\" Mac\", \"\"))\n",
    "    raise ValueError(f\"Unrecognized MACs format: {s}\")\n",
    "\n",
    "macs_per_sample = parse_macs_str(macs_str)\n",
    "print(f\"MACs per sample: {macs_per_sample/1e3:.2f} K\")\n",
    "total_macs = macs_per_sample * X_test_t.shape[0]\n",
    "print(f\"MACs: {total_macs/1e6:.2f} M\")"
   ]
  },
  {
   "cell_type": "markdown",
   "metadata": {
    "id": "DwpMMTXi3wc-"
   },
   "source": [
    "### kgCO2e"
   ]
  },
  {
   "cell_type": "code",
   "execution_count": null,
   "metadata": {
    "colab": {
     "base_uri": "https://localhost:8080/"
    },
    "executionInfo": {
     "elapsed": 13,
     "status": "ok",
     "timestamp": 1749292052916,
     "user": {
      "displayName": "Hung Thanh Do",
      "userId": "14602254202234053172"
     },
     "user_tz": -120
    },
    "id": "Ra5Bl_026Q8r",
    "outputId": "eb782cae-264c-49d1-9798-efc4324405b9"
   },
   "outputs": [
    {
     "name": "stdout",
     "output_type": "stream",
     "text": [
      "kgCO2 emission: 0.0330 kg\n",
      "Normalized kgCO2 emission: 0.0013\n"
     ]
    }
   ],
   "source": [
    "kgco2e, kgco2e_normalized = compute_kgco2e(pc, pg, mlp_elapsed_time)\n",
    "\n",
    "print(f\"kgCO2 emission: {kgco2e:.4f} kg\")\n",
    "print(f\"Normalized kgCO2 emission: {kgco2e_normalized:.4f}\")"
   ]
  },
  {
   "cell_type": "markdown",
   "metadata": {
    "id": "xNNhGaA7P_j8"
   },
   "source": [
    "## TabResNet"
   ]
  },
  {
   "cell_type": "markdown",
   "metadata": {
    "id": "Ab6FGb-TZmeE"
   },
   "source": [
    "### Param Count"
   ]
  },
  {
   "cell_type": "code",
   "execution_count": null,
   "metadata": {
    "colab": {
     "base_uri": "https://localhost:8080/"
    },
    "executionInfo": {
     "elapsed": 19,
     "status": "ok",
     "timestamp": 1749292040255,
     "user": {
      "displayName": "Hung Thanh Do",
      "userId": "14602254202234053172"
     },
     "user_tz": -120
    },
    "id": "_5_ongPFP_j8",
    "outputId": "6f122b38-b48f-4639-cbd8-6367f29ebd62"
   },
   "outputs": [
    {
     "name": "stdout",
     "output_type": "stream",
     "text": [
      "Trainable parameters: 2,642\n"
     ]
    }
   ],
   "source": [
    "# Parameter Count (Pure PyTorch)\n",
    "def count_parameters(model):\n",
    "    return sum(p.numel() for p in model.parameters() if p.requires_grad)\n",
    "\n",
    "# Usage\n",
    "total_params = count_parameters(model)\n",
    "print(f\"Trainable parameters: {total_params:,}\")"
   ]
  },
  {
   "cell_type": "markdown",
   "metadata": {
    "id": "g5RYkqqJZtG5"
   },
   "source": [
    "### FLOPs"
   ]
  },
  {
   "cell_type": "code",
   "execution_count": null,
   "metadata": {
    "colab": {
     "base_uri": "https://localhost:8080/"
    },
    "executionInfo": {
     "elapsed": 3,
     "status": "ok",
     "timestamp": 1749292040260,
     "user": {
      "displayName": "Hung Thanh Do",
      "userId": "14602254202234053172"
     },
     "user_tz": -120
    },
    "id": "YlUSZbfbNIQe",
    "outputId": "98e31c00-dc26-4dd1-d0a9-fe11117d9567"
   },
   "outputs": [
    {
     "name": "stdout",
     "output_type": "stream",
     "text": [
      "Module                         FLOP    % Total\n",
      "---------------------------  ------  ---------\n",
      "TabResNet                      4864    100.00%\n",
      " - aten.addmm                  4864    100.00%\n",
      " TabResNet.input_projection     704     14.47%\n",
      "  - aten.addmm                  704     14.47%\n",
      " TabResNet.predblock             64      1.32%\n",
      "  - aten.addmm                   64      1.32%\n",
      "FLOPs per sample: 4.86 K\n",
      "FLOPs: 0.49M\n"
     ]
    }
   ],
   "source": [
    "from torch.utils.flop_counter import FlopCounterMode\n",
    "\n",
    "sample_input = X_test_t[0:1]  # just one sample\n",
    "\n",
    "model.eval()\n",
    "with torch.no_grad(), FlopCounterMode() as flop_counter:\n",
    "    _ = model(sample_input)\n",
    "\n",
    "print(f\"FLOPs per sample: {flop_counter.get_total_flops()/1e3:.2f} K\")\n",
    "print(f\"FLOPs: {flop_counter.get_total_flops()*X_test_t.shape[0]/1e6:.2f}M\")"
   ]
  },
  {
   "cell_type": "markdown",
   "metadata": {
    "id": "2eb3nHmUZvCf"
   },
   "source": [
    "### MACs"
   ]
  },
  {
   "cell_type": "code",
   "execution_count": null,
   "metadata": {
    "colab": {
     "base_uri": "https://localhost:8080/"
    },
    "executionInfo": {
     "elapsed": 44,
     "status": "ok",
     "timestamp": 1749292080026,
     "user": {
      "displayName": "Hung Thanh Do",
      "userId": "14602254202234053172"
     },
     "user_tz": -120
    },
    "id": "eIo3XKX-TIDV",
    "outputId": "5e4230b7-67b1-4c1b-ea19-6adc1bd5a0e3"
   },
   "outputs": [
    {
     "name": "stdout",
     "output_type": "stream",
     "text": [
      "Warning: module Dropout is treated as a zero-op.\n",
      "Warning: module TabResBlock is treated as a zero-op.\n",
      "Warning: module TabResNet is treated as a zero-op.\n",
      "TabResNet(\n",
      "  2.64 k, 100.000% Params, 2.72 KMac, 97.145% MACs, \n",
      "  (input_projection): Linear(368, 13.929% Params, 368.0 Mac, 13.133% MACs, in_features=22, out_features=16, bias=True)\n",
      "  (resblocks): ModuleList(\n",
      "    (0-1): 2 x TabResBlock(\n",
      "      1.1 k, 41.787% Params, 1.14 KMac, 40.542% MACs, \n",
      "      (bn1): BatchNorm1d(32, 1.211% Params, 32.0 Mac, 1.142% MACs, 16, eps=1e-05, momentum=0.1, affine=True, track_running_stats=True)\n",
      "      (ln1): Linear(544, 20.590% Params, 544.0 Mac, 19.415% MACs, in_features=16, out_features=32, bias=True)\n",
      "      (relu1): ReLU(0, 0.000% Params, 32.0 Mac, 1.142% MACs, )\n",
      "      (drop1): Dropout(0, 0.000% Params, 0.0 Mac, 0.000% MACs, p=0.2, inplace=False)\n",
      "      (ln2): Linear(528, 19.985% Params, 528.0 Mac, 18.844% MACs, in_features=32, out_features=16, bias=True)\n",
      "      (drop2): Dropout(0, 0.000% Params, 0.0 Mac, 0.000% MACs, p=0.05, inplace=False)\n",
      "    )\n",
      "  )\n",
      "  (predblock): Sequential(\n",
      "    66, 2.498% Params, 82.0 Mac, 2.926% MACs, \n",
      "    (0): BatchNorm1d(32, 1.211% Params, 32.0 Mac, 1.142% MACs, 16, eps=1e-05, momentum=0.1, affine=True, track_running_stats=True)\n",
      "    (1): ReLU(0, 0.000% Params, 16.0 Mac, 0.571% MACs, )\n",
      "    (2): Linear(34, 1.287% Params, 34.0 Mac, 1.213% MACs, in_features=16, out_features=2, bias=True)\n",
      "  )\n",
      ")\n",
      "MACs per sample: 2.80 K\n",
      "MACs: 0.28 M\n"
     ]
    }
   ],
   "source": [
    "# Calculate MACS\n",
    "from ptflops import get_model_complexity_info\n",
    "\n",
    "# Instantiate the model for a dataset with 10 features and 2 output classes\n",
    "input_dim = X_test_np.shape[1]   # Number of features in tabular data\n",
    "num_classes = 2  # Number of output classes\n",
    "\n",
    "# Measure complexity using ptflops\n",
    "with torch.cuda.device(0):  # Remove or adjust this if running on CPU\n",
    "    macs_str, params_str = get_model_complexity_info(model, (input_dim,), as_strings=True,\n",
    "                                             print_per_layer_stat=True, verbose=True)\n",
    "\n",
    "# Parse the MACs string into a float (number of multiply-adds per sample)\n",
    "def parse_macs_str(s):\n",
    "    if s.endswith(\" GMac\"):\n",
    "        return float(s.replace(\" GMac\", \"\")) * 1e9\n",
    "    if s.endswith(\" MMac\"):\n",
    "        return float(s.replace(\" MMac\", \"\")) * 1e6\n",
    "    if s.endswith(\" KMac\"):\n",
    "        return float(s.replace(\" KMac\", \"\")) * 1e3\n",
    "    if s.endswith(\" Mac\"):\n",
    "        return float(s.replace(\" Mac\", \"\"))\n",
    "    raise ValueError(f\"Unrecognized MACs format: {s}\")\n",
    "\n",
    "macs_per_sample = parse_macs_str(macs_str)\n",
    "print(f\"MACs per sample: {macs_per_sample/1e3:.2f} K\")\n",
    "total_macs = macs_per_sample * X_test_t.shape[0]\n",
    "print(f\"MACs: {total_macs/1e6:.2f} M\")"
   ]
  },
  {
   "cell_type": "markdown",
   "metadata": {
    "id": "y-1EHgyfZ256"
   },
   "source": [
    "### kgCO2"
   ]
  },
  {
   "cell_type": "code",
   "execution_count": null,
   "metadata": {
    "colab": {
     "base_uri": "https://localhost:8080/"
    },
    "executionInfo": {
     "elapsed": 9,
     "status": "ok",
     "timestamp": 1749292140734,
     "user": {
      "displayName": "Hung Thanh Do",
      "userId": "14602254202234053172"
     },
     "user_tz": -120
    },
    "id": "k6hAh4wociZu",
    "outputId": "cf1fd345-e3ea-4c16-a724-a21e54964ed1"
   },
   "outputs": [
    {
     "name": "stdout",
     "output_type": "stream",
     "text": [
      "kgCO2 emission: 0.0899 kg\n",
      "Normalized kgCO2 emission: 0.0035\n"
     ]
    }
   ],
   "source": [
    "kgco2e, kgco2e_normalized = compute_kgco2e(pc, pg, elapsed_time)\n",
    "\n",
    "print(f\"kgCO2 emission: {kgco2e:.4f} kg\")\n",
    "print(f\"Normalized kgCO2 emission: {kgco2e_normalized:.4f}\")"
   ]
  },
  {
   "cell_type": "markdown",
   "metadata": {
    "id": "67Vzn6iuYS2q"
   },
   "source": [
    "# Explainability --------------------------------------"
   ]
  },
  {
   "cell_type": "markdown",
   "metadata": {
    "id": "ziC69TZvyq9R"
   },
   "source": [
    "# MLP"
   ]
  },
  {
   "cell_type": "markdown",
   "metadata": {
    "id": "ski0Oztn50hc"
   },
   "source": [
    "## SHAP"
   ]
  },
  {
   "cell_type": "code",
   "execution_count": null,
   "metadata": {
    "id": "1XZaMpDq7pdf"
   },
   "outputs": [],
   "source": [
    "# ---------------------------\n",
    "# SHAP Explanation Setup\n",
    "# ---------------------------\n",
    "# Define a prediction function for SHAP that returns the probability for class 1.\n",
    "def f_shap_mlp(X):\n",
    "    mlp_model.eval()\n",
    "    with torch.no_grad():\n",
    "        X_tensor = torch.from_numpy(np.atleast_2d(X).astype(np.float32))\n",
    "        X_tensor = X_tensor.to(device)\n",
    "        logits = mlp_model(X_tensor)\n",
    "        probs = torch.softmax(logits, dim=1).cpu().numpy()\n",
    "        return probs[:, 1]  # return probability for class 1"
   ]
  },
  {
   "cell_type": "code",
   "execution_count": null,
   "metadata": {
    "id": "hNKTqFrE75I0"
   },
   "outputs": [],
   "source": [
    "# Use a subset of test data as background\n",
    "background_mlp = X_test_np[:100]\n",
    "mlp_explainer = shap.KernelExplainer(f_shap_mlp, background_mlp)"
   ]
  },
  {
   "cell_type": "code",
   "execution_count": null,
   "metadata": {
    "id": "0CL3EVFF8aLl"
   },
   "outputs": [],
   "source": [
    "import pickle"
   ]
  },
  {
   "cell_type": "code",
   "execution_count": null,
   "metadata": {
    "id": "DzpiQ--88Jop"
   },
   "outputs": [],
   "source": [
    "with open('saved_shap/mlp_shap_values_german.pkl', 'rb') as f:\n",
    "    mlp_shap_values = pickle.load(f)"
   ]
  },
  {
   "cell_type": "code",
   "execution_count": null,
   "metadata": {
    "colab": {
     "base_uri": "https://localhost:8080/",
     "referenced_widgets": [
      "119aa61e09034392a69365929ddedc24",
      "b92483acc11e440b97f8bff86433f830",
      "04d2f9e5864346d49c2f9d49198b6695",
      "73fd40482d2c4cdfb9a0ae21a7cdf9b9",
      "216652b433424cd98c566ef334f86b7d",
      "d78170dd62b541df8ec744745c341edd",
      "2c7421b2b62d4435bb5cffd67674d9a9",
      "ca8edae8705f458f9c4eb99ef6a4911f",
      "66fc69f27d21444ead5bc49ca94b077d",
      "26cf51251019470dab8010afdd2d62af",
      "5798523d4f0c44fb83bbad6df3cdfc44"
     ]
    },
    "collapsed": true,
    "executionInfo": {
     "elapsed": 1041,
     "status": "ok",
     "timestamp": 1749292155606,
     "user": {
      "displayName": "Hung Thanh Do",
      "userId": "14602254202234053172"
     },
     "user_tz": -120
    },
    "id": "dvqkJLRr58LS",
    "outputId": "afa249ed-6fd0-43b1-9453-0e69e0016c8d"
   },
   "outputs": [
    {
     "data": {
      "application/vnd.jupyter.widget-view+json": {
       "model_id": "119aa61e09034392a69365929ddedc24",
       "version_major": 2,
       "version_minor": 0
      },
      "text/plain": [
       "  0%|          | 0/100 [00:00<?, ?it/s]"
      ]
     },
     "metadata": {},
     "output_type": "display_data"
    }
   ],
   "source": [
    "# Compute SHAP values for the test set (using fewer samples for performance)\n",
    "mlp_shap_values = mlp_explainer.shap_values(X_test_np, nsamples=100)"
   ]
  },
  {
   "cell_type": "code",
   "execution_count": null,
   "metadata": {
    "colab": {
     "base_uri": "https://localhost:8080/"
    },
    "collapsed": true,
    "executionInfo": {
     "elapsed": 1010,
     "status": "ok",
     "timestamp": 1749040617842,
     "user": {
      "displayName": "Hung Thanh Do",
      "userId": "14602254202234053172"
     },
     "user_tz": -120
    },
    "id": "KfWW1twW6GXd",
    "outputId": "ef570ab0-7ab0-497d-ebaf-fdef158d7301"
   },
   "outputs": [
    {
     "data": {
      "image/png": "[encoded data removed]",
      "text/plain": [
       "<Figure size 800x950 with 2 Axes>"
      ]
     },
     "metadata": {},
     "output_type": "display_data"
    }
   ],
   "source": [
    "# Plot SHAP summary plot\n",
    "shap.summary_plot(mlp_shap_values, X_test_np, feature_names=X_test.columns)"
   ]
  },
  {
   "cell_type": "code",
   "execution_count": null,
   "metadata": {
    "id": "BEeoRtPw6EzV"
   },
   "outputs": [],
   "source": [
    "# Save the SHAP values for MLP\n",
    "with open('saved_shap/mlp_shap_values_german.pkl', 'wb') as f:\n",
    "    pickle.dump(mlp_shap_values, f)"
   ]
  },
  {
   "cell_type": "markdown",
   "metadata": {
    "id": "5hqjs-D_9hYo"
   },
   "source": [
    "## Quantus"
   ]
  },
  {
   "cell_type": "markdown",
   "metadata": {
    "id": "BWBPPYE99hYo"
   },
   "source": [
    "### Wrapped model"
   ]
  },
  {
   "cell_type": "code",
   "execution_count": null,
   "metadata": {
    "colab": {
     "base_uri": "https://localhost:8080/"
    },
    "collapsed": true,
    "executionInfo": {
     "elapsed": 4,
     "status": "ok",
     "timestamp": 1749292293287,
     "user": {
      "displayName": "Hung Thanh Do",
      "userId": "14602254202234053172"
     },
     "user_tz": -120
    },
    "id": "LCoBwFaL9hYo",
    "outputId": "335e36b8-1425-4ace-b087-e006eb8b1d57"
   },
   "outputs": [
    {
     "data": {
      "text/plain": [
       "TorchMLPModelWrapper(\n",
       "  (model): MLP(\n",
       "    (fc1): Linear(in_features=22, out_features=50, bias=True)\n",
       "    (relu): ReLU()\n",
       "    (fc2): Linear(in_features=50, out_features=2, bias=True)\n",
       "  )\n",
       ")"
      ]
     },
     "execution_count": 27,
     "metadata": {},
     "output_type": "execute_result"
    }
   ],
   "source": [
    "# ---------------------------\n",
    "# Wrap Model for Quantus FaithfulnessCorrelation\n",
    "# ---------------------------\n",
    "class TorchMLPModelWrapper(nn.Module):\n",
    "    def __init__(self, model):\n",
    "        super(TorchMLPModelWrapper, self).__init__()\n",
    "        self.model = model\n",
    "        self.model.eval()\n",
    "\n",
    "    def forward(self, x):\n",
    "        return self.model(x)\n",
    "\n",
    "    def predict(self, X):\n",
    "        X = np.atleast_2d(X)\n",
    "        self.model.eval()\n",
    "        with torch.no_grad():\n",
    "            X_tensor = torch.from_numpy(X).float()\n",
    "            logits = self.model(X_tensor)\n",
    "            probs = torch.softmax(logits, dim=1).cpu().numpy()  # shape: (n_samples, 2)\n",
    "        return probs\n",
    "\n",
    "    def shape_input(self, x, shape, channel_first):\n",
    "        return np.atleast_2d(x)\n",
    "\n",
    "mlp_wrapped_model = TorchMLPModelWrapper(mlp_model)\n",
    "mlp_wrapped_model.eval()"
   ]
  },
  {
   "cell_type": "code",
   "execution_count": null,
   "metadata": {
    "id": "fGGvYLv69hYp"
   },
   "outputs": [],
   "source": [
    "# ---------------------------\n",
    "# Evaluate FaithfulnessCorrelation with Quantus using SHAP attributions\n",
    "# ---------------------------\n",
    "# Ensure y_test is of integer type\n",
    "y_test_int = y_test_np.astype(np.int64)"
   ]
  },
  {
   "cell_type": "markdown",
   "metadata": {
    "id": "RoNdVZAX9hYp"
   },
   "source": [
    "### Complexity"
   ]
  },
  {
   "cell_type": "code",
   "execution_count": null,
   "metadata": {
    "colab": {
     "base_uri": "https://localhost:8080/",
     "referenced_widgets": [
      "c6dff5469a03471cb2d8448fc87dd4fa",
      "a413d1b1278745bfbd9f76e70481480d",
      "fbb2b981b0fb4ac586aeb1bbf4a5c9b1",
      "9be1da49c1cb43ca9264fda937852d87",
      "5eae5618412b4037a9cbb9ad6daba824",
      "02a04d985011440c893b100237b36955",
      "2004e9ad8a304108b0edd849fbb23875",
      "f515b77964254182857120de41978a93",
      "01385c1826c64d92b8e10a8990c5c2a4",
      "5ba25d8179264fa49abf7d38bf10a9cf",
      "b433385bcbd34e698fb4faf154345062"
     ]
    },
    "executionInfo": {
     "elapsed": 150,
     "status": "ok",
     "timestamp": 1749292293440,
     "user": {
      "displayName": "Hung Thanh Do",
      "userId": "14602254202234053172"
     },
     "user_tz": -120
    },
    "id": "et6VIx5F9hYp",
    "outputId": "2da1a4b6-b637-4739-bc85-e7a3e4ffc678"
   },
   "outputs": [
    {
     "data": {
      "application/vnd.jupyter.widget-view+json": {
       "model_id": "c6dff5469a03471cb2d8448fc87dd4fa",
       "version_major": 2,
       "version_minor": 0
      },
      "text/plain": [
       "  0%|          | 0/2.0 [00:00<?, ?it/s]"
      ]
     },
     "metadata": {},
     "output_type": "display_data"
    },
    {
     "name": "stdout",
     "output_type": "stream",
     "text": [
      "Complexity: Complexity by Bhatt et al., 2020.\n",
      "\n",
      " • SHAP =  0.5866590204331625\n"
     ]
    }
   ],
   "source": [
    "# Apply Complexity metric using SHAP attributions\n",
    "Complexity_shap = quantus.Complexity(\n",
    "    normalise=False,\n",
    "    abs=True,  # Take absolute values of attributions\n",
    "    disable_warnings=True,\n",
    "    display_progressbar=True,\n",
    "    aggregate_func=np.mean,  # Compute mean complexity over all samples\n",
    ")(\n",
    "    model=mlp_wrapped_model,\n",
    "    x_batch=X_test_np,\n",
    "    y_batch=y_test_int,\n",
    "    a_batch=mlp_shap_values,   # use SHAP attributions computed above\n",
    "    explain_func=None      # explanations are precomputed\n",
    ")\n",
    "\n",
    "# Scale to 0-1\n",
    "Complexity_shap = (Complexity_shap - min(Complexity_shap)) / (\n",
    "    max(Complexity_shap) - min(Complexity_shap)\n",
    ")\n",
    "\n",
    "# Find mean\n",
    "Complexity_shap = np.mean(Complexity_shap)\n",
    "\n",
    "print(\n",
    "    f\"Complexity: Complexity by Bhatt et al., 2020.\\n\"\n",
    "    f\"\\n • SHAP = \",\n",
    "    Complexity_shap,\n",
    ")"
   ]
  },
  {
   "cell_type": "code",
   "execution_count": null,
   "metadata": {
    "colab": {
     "base_uri": "https://localhost:8080/",
     "referenced_widgets": [
      "72c775ecc7dd4361a9cfb81011a74955",
      "bbcdc424b83d469681982de4f9b87c96",
      "cdb55898b77f4dbebe70048fb8b39e70",
      "2e7c28a5c01542e6b89cb7e31eec2b38",
      "0b59330a128e41bfb8ad2055740d8461",
      "6014379246234c8ea9c721c6edec066b",
      "9ebdb3d0ef1b494aaa770825f1f8ebec",
      "8afaa7ebc934449d9be26b52b6f1d75e",
      "b6996942c1a541e89bf5cd97c5462e94",
      "56e9a6f923e442b287f31b06290f47e5",
      "66967ac529884e9ea77f2f49458dcf7b"
     ]
    },
    "executionInfo": {
     "elapsed": 360,
     "status": "ok",
     "timestamp": 1749292293801,
     "user": {
      "displayName": "Hung Thanh Do",
      "userId": "14602254202234053172"
     },
     "user_tz": -120
    },
    "id": "ttUHToHe9hYp",
    "outputId": "fa1c16e1-63d5-4c7e-ff73-559cf79b1c80"
   },
   "outputs": [
    {
     "data": {
      "application/vnd.jupyter.widget-view+json": {
       "model_id": "72c775ecc7dd4361a9cfb81011a74955",
       "version_major": 2,
       "version_minor": 0
      },
      "text/plain": [
       "  0%|          | 0/2.0 [00:00<?, ?it/s]"
      ]
     },
     "metadata": {},
     "output_type": "display_data"
    },
    {
     "name": "stdout",
     "output_type": "stream",
     "text": [
      "Complexity: Sparseness by Chalasani et al., 2020.\n",
      "\n",
      " • SHAP =  [np.float64(0.7526955390166639)]\n"
     ]
    }
   ],
   "source": [
    "Sparseness_shap = quantus.Sparseness(\n",
    "    normalise=False,\n",
    "    abs=True, # take absolute values of attributions\n",
    "    disable_warnings=True,\n",
    "    display_progressbar=True,\n",
    "    return_aggregate=True, # find the mean of the complexity from all samples\n",
    "    aggregate_func=np.mean,\n",
    ")(\n",
    "    model=mlp_wrapped_model,\n",
    "    x_batch=X_test_np,\n",
    "    y_batch=y_test_int,\n",
    "    a_batch=mlp_shap_values,   # use SHAP attributions computed above\n",
    "    explain_func=None      # explanations are precomputed\n",
    ")\n",
    "\n",
    "# Already scaled to 0-1 -> keep aggregated (mean)\n",
    "\n",
    "print(\n",
    "    f\"Complexity: Sparseness by Chalasani et al., 2020.\\n\"\n",
    "    f\"\\n • SHAP = \",\n",
    "    Sparseness_shap,\n",
    ")"
   ]
  },
  {
   "cell_type": "markdown",
   "metadata": {
    "id": "OgbQkgex9hYp"
   },
   "source": [
    "### Faithfulness"
   ]
  },
  {
   "cell_type": "code",
   "execution_count": null,
   "metadata": {
    "colab": {
     "base_uri": "https://localhost:8080/",
     "height": 101,
     "referenced_widgets": [
      "8f8c89ebc1834e569cff22ecb2e6fd1c",
      "4ad2baa0a0c14982953298ac312c4220",
      "22597621184d44f6897a570c616ac0d3",
      "d40e82c046234800a55cfa57028da2f2",
      "56ab70cb3f4646ec830fce57a1fcd414",
      "d2085d2c52c54cb5bf6d07fb8c4a4a4e",
      "90f74fd8feec40e4a53bb6c1f6ba271a",
      "a20a30c50b5f43c19c61926375087583",
      "c79855e95ecf4c5199cd5da3e5faa2ae",
      "7ba1912f9578444fb2c9ef79b8e661f5",
      "f43c609183504ff6afad9e4cfa32c41f"
     ]
    },
    "executionInfo": {
     "elapsed": 786,
     "status": "ok",
     "timestamp": 1749292447872,
     "user": {
      "displayName": "Hung Thanh Do",
      "userId": "14602254202234053172"
     },
     "user_tz": -120
    },
    "id": "qU40JNYj9hYp",
    "outputId": "437f34ef-a1e1-4238-aeca-906575e02b19"
   },
   "outputs": [
    {
     "data": {
      "application/vnd.jupyter.widget-view+json": {
       "model_id": "8f8c89ebc1834e569cff22ecb2e6fd1c",
       "version_major": 2,
       "version_minor": 0
      },
      "text/plain": [
       "  0%|          | 0/2.0 [00:00<?, ?it/s]"
      ]
     },
     "metadata": {},
     "output_type": "display_data"
    },
    {
     "name": "stdout",
     "output_type": "stream",
     "text": [
      "Faithfulness: Faithfulness Correlation by Bhatt et al., 2020.\n",
      "\n",
      " • SHAP =  0.40447929616950146\n"
     ]
    }
   ],
   "source": [
    "FaithfulnessCorrelation_shap = quantus.FaithfulnessCorrelation(\n",
    "    perturb_baseline=\"white\",\n",
    "    perturb_func=quantus.baseline_replacement_by_indices,\n",
    "    subset_size=3, # features to perturb\n",
    "    nr_runs=10,\n",
    "    similarity_func=quantus.similarity_func.correlation_pearson,\n",
    "    abs=True, # take absolute values of attributions\n",
    "    normalise=False, # do not normalise ohe data\n",
    "    return_aggregate=False, # (not) output 1 val instead of list of vals for all samples\n",
    "    aggregate_func=np.mean,\n",
    "    disable_warnings=True,\n",
    "    display_progressbar=True,\n",
    ")(\n",
    "    model=mlp_wrapped_model,\n",
    "    x_batch=X_test_np,\n",
    "    y_batch=y_test_int,\n",
    "    a_batch=mlp_shap_values,   # use SHAP attributions computed above\n",
    "    explain_func=None,     # explanations are precomputed\n",
    "    device=device\n",
    ")\n",
    "\n",
    "# Scale to 0-1\n",
    "FaithfulnessCorrelation_shap = (FaithfulnessCorrelation_shap - np.min(FaithfulnessCorrelation_shap)) / (\n",
    "    np.max(FaithfulnessCorrelation_shap) - np.min(FaithfulnessCorrelation_shap)\n",
    ")\n",
    "\n",
    "# Find mean\n",
    "FaithfulnessCorrelation_shap = np.mean(FaithfulnessCorrelation_shap)\n",
    "\n",
    "print(\n",
    "    f\"Faithfulness: Faithfulness Correlation by Bhatt et al., 2020.\\n\"\n",
    "    f\"\\n • SHAP = \",\n",
    "    FaithfulnessCorrelation_shap,\n",
    ")"
   ]
  },
  {
   "cell_type": "code",
   "execution_count": null,
   "metadata": {
    "colab": {
     "base_uri": "https://localhost:8080/",
     "height": 101,
     "referenced_widgets": [
      "94b73a8b51c247218bf922bdffc1c42c",
      "c6a1a06a1e0c4765b9feb585bd8c2dfb",
      "d9cd51e2fa0a4f74934075a0b0836318",
      "65171ccb55f148e8b5a4a0e9f0c79613",
      "d4c0505891424bd2abc77f1ad76c1d47",
      "2e3b9ba54cbf440dab058519edc4d439",
      "90edd20b8412432ead06e02218827222",
      "5504c5ef5ddd4e32965f5206e5f40d29",
      "073b33b97b144e3294b0c2bcc695a017",
      "8a70892fbec041d3adbf3540d08168d4",
      "cb1fbb647e784b269f244c504f8cac6a"
     ]
    },
    "executionInfo": {
     "elapsed": 2235,
     "status": "ok",
     "timestamp": 1749292489669,
     "user": {
      "displayName": "Hung Thanh Do",
      "userId": "14602254202234053172"
     },
     "user_tz": -120
    },
    "id": "6n9knQos9hYp",
    "outputId": "26ff2028-fffd-4e47-e367-9bbe46e00715"
   },
   "outputs": [
    {
     "data": {
      "application/vnd.jupyter.widget-view+json": {
       "model_id": "94b73a8b51c247218bf922bdffc1c42c",
       "version_major": 2,
       "version_minor": 0
      },
      "text/plain": [
       "  0%|          | 0/2.0 [00:00<?, ?it/s]"
      ]
     },
     "metadata": {},
     "output_type": "display_data"
    },
    {
     "name": "stdout",
     "output_type": "stream",
     "text": [
      "Faithfulness: Faithfulness Estimate by Alvarez-Melis et al., 2018.\n",
      "\n",
      " • SHAP =  0.3323050466642198\n"
     ]
    }
   ],
   "source": [
    "FaithfulnessEstimate_shap = quantus.FaithfulnessEstimate(\n",
    "    perturb_baseline=\"white\",\n",
    "    perturb_func=quantus.baseline_replacement_by_indices,\n",
    "    features_in_step=1, # features to perturb\n",
    "    similarity_func=quantus.similarity_func.correlation_pearson,\n",
    "    abs=True, # take absolute values of attributions\n",
    "    normalise=False, # do not normalise ohe data\n",
    "    return_aggregate=False, # (not) output 1 val instead of list of vals for all samples\n",
    "    aggregate_func=np.mean,\n",
    "    disable_warnings=True,\n",
    "    display_progressbar=True,\n",
    ")(\n",
    "    model=mlp_wrapped_model,\n",
    "    x_batch=X_test_np,\n",
    "    y_batch=y_test_int,\n",
    "    a_batch=mlp_shap_values,   # use SHAP attributions computed above\n",
    "    explain_func=None,      # explanations are precomputed\n",
    "    device=device\n",
    ")\n",
    "\n",
    "# Scale to 0-1\n",
    "FaithfulnessEstimate_shap = (FaithfulnessEstimate_shap - np.min(FaithfulnessEstimate_shap)) / (\n",
    "    np.max(FaithfulnessEstimate_shap) - np.min(FaithfulnessEstimate_shap)\n",
    ")\n",
    "\n",
    "# Find mean\n",
    "FaithfulnessEstimate_shap = np.mean(FaithfulnessEstimate_shap)\n",
    "\n",
    "print(\n",
    "    f\"Faithfulness: Faithfulness Estimate by Alvarez-Melis et al., 2018.\\n\"\n",
    "    f\"\\n • SHAP = \",\n",
    "    FaithfulnessEstimate_shap,\n",
    ")"
   ]
  },
  {
   "cell_type": "markdown",
   "metadata": {
    "id": "PY_Kx0MW9hYp"
   },
   "source": [
    "### Robustness"
   ]
  },
  {
   "cell_type": "code",
   "execution_count": null,
   "metadata": {
    "colab": {
     "base_uri": "https://localhost:8080/",
     "height": 205,
     "referenced_widgets": [
      "c5e8720480734c5ab0fb94696f4a1299",
      "4f31348c0b9e4938afc1c3daf4505d8b",
      "0fd542702ad24d0eb21df8626f9f0576",
      "7c00a3d508534bea98c964cd7915384f",
      "d0e1c09a2db84c4cad7f91d02ff332c3",
      "6079921826ca4f70a47f0b10b1717c99",
      "76be26c93d2c4d4b97493931b6e1b8b1",
      "901f99dcdd054211929d3db943795c65",
      "57461e3c6adb498aae518b8fe58e5810",
      "b76fef3daa764b3388ec8cdccdc7fe23",
      "92092bfbbb4f4013846f404195de5525"
     ]
    },
    "executionInfo": {
     "elapsed": 5325,
     "status": "ok",
     "timestamp": 1749292304820,
     "user": {
      "displayName": "Hung Thanh Do",
      "userId": "14602254202234053172"
     },
     "user_tz": -120
    },
    "id": "yZLjxqXu9hYp",
    "outputId": "4f375e6a-b6ad-4cb1-e795-5875063058af"
   },
   "outputs": [
    {
     "data": {
      "application/vnd.jupyter.widget-view+json": {
       "model_id": "c5e8720480734c5ab0fb94696f4a1299",
       "version_major": 2,
       "version_minor": 0
      },
      "text/plain": [
       "  0%|          | 0/2.0 [00:00<?, ?it/s]"
      ]
     },
     "metadata": {},
     "output_type": "display_data"
    },
    {
     "name": "stderr",
     "output_type": "stream",
     "text": [
      "/usr/local/lib/python3.11/dist-packages/captum/attr/_core/deep_lift.py:304: UserWarning: Setting forward, backward hooks and attributes on non-linear\n",
      "               activations. The hooks and attributes will be removed\n",
      "            after the attribution is finished\n",
      "  warnings.warn(\n"
     ]
    },
    {
     "name": "stdout",
     "output_type": "stream",
     "text": [
      "0.06056255545219699\n",
      "0.11335723551876409\n",
      "Robustness: Local Lipschitz Estimate by Alvarez-Melis et al., 2018.\n",
      "\n",
      " • SHAP =  0.27411674415763565\n"
     ]
    }
   ],
   "source": [
    "LocalLipschitzEstimate_shap = quantus.LocalLipschitzEstimate(\n",
    "    normalise=False,\n",
    "    abs=True, # take absolute values of attributions\n",
    "    nr_samples = 10,\n",
    "    disable_warnings=True,\n",
    "    display_progressbar=True,\n",
    "    # return_aggregate=True, # find the mean of the complexity from all samples\n",
    "    # aggregate_func=np.mean,\n",
    ")(\n",
    "    model=mlp_wrapped_model,\n",
    "    x_batch=X_test_np,\n",
    "    y_batch=y_test_int,\n",
    "    a_batch=None,\n",
    "    explain_func=quantus.explain,\n",
    "    explain_func_kwargs={\"method\": \"DeepLiftShap\", \"reduce_axes\": ()},\n",
    "    device=device\n",
    ")\n",
    "\n",
    "print(np.min(LocalLipschitzEstimate_shap))\n",
    "print(np.max(LocalLipschitzEstimate_shap))\n",
    "\n",
    "# Scale to 0-1\n",
    "LocalLipschitzEstimate_shap = (LocalLipschitzEstimate_shap - np.min(LocalLipschitzEstimate_shap)) / (\n",
    "    np.max(LocalLipschitzEstimate_shap) - np.min(LocalLipschitzEstimate_shap)\n",
    ")\n",
    "\n",
    "# Find mean\n",
    "LocalLipschitzEstimate_shap = np.mean(LocalLipschitzEstimate_shap)\n",
    "\n",
    "print(\n",
    "    f\"Robustness: Local Lipschitz Estimate by Alvarez-Melis et al., 2018.\\n\"\n",
    "    f\"\\n • SHAP = \",\n",
    "    LocalLipschitzEstimate_shap,\n",
    ")"
   ]
  },
  {
   "cell_type": "markdown",
   "metadata": {
    "id": "-PTNaUfh9hYp"
   },
   "source": [
    "### Randomisation"
   ]
  },
  {
   "cell_type": "code",
   "execution_count": null,
   "metadata": {
    "colab": {
     "base_uri": "https://localhost:8080/",
     "referenced_widgets": [
      "d759455120284087a22ed08232eb3479",
      "330884c8eb3c493a80a56f4c00ed2571",
      "45c52cf7adc147ca8e495a4b9a3b236f",
      "031ffc56927c4df9813ab42d6c9ec324",
      "4beed17f763a4120a3845ba291efd9db",
      "45199305e88841329e22d14887e66104",
      "138ae3a083b248118ee623df1c44d3ef",
      "4bcefe134fcb4e6081d7fbd4771e259a",
      "d8ff9902928642fc8f95325e585f2d4c",
      "2b4042255fc64390aac2e2aec80c4e71",
      "754ba8f7dd9d4ce0aa926c2a3e76d63b"
     ]
    },
    "executionInfo": {
     "elapsed": 1424,
     "status": "ok",
     "timestamp": 1749292322357,
     "user": {
      "displayName": "Hung Thanh Do",
      "userId": "14602254202234053172"
     },
     "user_tz": -120
    },
    "id": "E7-9braQZCwh",
    "outputId": "9f36955e-6d52-4da7-946b-d5f882d8b0d7"
   },
   "outputs": [
    {
     "data": {
      "application/vnd.jupyter.widget-view+json": {
       "model_id": "d759455120284087a22ed08232eb3479",
       "version_major": 2,
       "version_minor": 0
      },
      "text/plain": [
       "  0%|          | 0/2.0 [00:00<?, ?it/s]"
      ]
     },
     "metadata": {},
     "output_type": "display_data"
    },
    {
     "name": "stdout",
     "output_type": "stream",
     "text": [
      "Randomisation: RandomLogit scores by Sixt et al., 2020.\n",
      "\n",
      " • SHAP =  [np.float64(0.9994513057172298), np.float64(0.9994402714073658), np.float64(0.994141224771738), np.float64(0.9996808841824532), np.float64(0.9989990144968033), np.float64(0.998971052467823), np.float64(0.9998880699276924), np.float64(0.988542266190052), np.float64(0.997938971966505), np.float64(0.9877217821776867), np.float64(0.9983341582119465), np.float64(0.9995410926640034), np.float64(0.9996444806456566), np.float64(0.9971508048474789), np.float64(0.9980845078825951), np.float64(0.998545229434967), np.float64(0.9978825896978378), np.float64(0.998034056276083), np.float64(0.9995890446007252), np.float64(0.9984167031943798), np.float64(0.999506913125515), np.float64(0.9987544305622578), np.float64(0.9996750354766846), np.float64(0.9893061146140099), np.float64(0.9932185336947441), np.float64(0.9561278037726879), np.float64(0.9962981790304184), np.float64(0.989253968000412), np.float64(0.9996708780527115), np.float64(0.9997477941215038), np.float64(0.997583344578743), np.float64(0.9867576994001865), np.float64(0.999762199819088), np.float64(0.9911539666354656), np.float64(0.984376385807991), np.float64(0.9989311844110489), np.float64(0.9998017027974129), np.float64(0.99921590462327), np.float64(0.9997594617307186), np.float64(0.9973014183342457), np.float64(0.9933762811124325), np.float64(0.9994328022003174), np.float64(0.9995668791234493), np.float64(0.9298936128616333), np.float64(0.9986143633723259), np.float64(0.9957521110773087), np.float64(0.996056891977787), np.float64(0.9989024922251701), np.float64(0.9959623776376247), np.float64(0.9997348859906197), np.float64(0.9967538192868233), np.float64(0.9830160513520241), np.float64(0.9982464201748371), np.float64(0.9956851489841938), np.float64(0.9991980716586113), np.float64(0.9994970597326756), np.float64(0.9982770830392838), np.float64(0.9995066374540329), np.float64(0.9979597479104996), np.float64(0.9959671832621098), np.float64(0.9994849152863026), np.float64(0.9995923154056072), np.float64(0.997840479016304), np.float64(0.983405839651823), np.float64(0.9859528541564941), np.float64(0.9908803291618824), np.float64(0.9865373559296131), np.float64(0.998737670481205), np.float64(0.9950666502118111), np.float64(0.9993140511214733), np.float64(0.9960488900542259), np.float64(0.9947994388639927), np.float64(0.9994875900447369), np.float64(0.9992979466915131), np.float64(0.9998665526509285), np.float64(0.9993404150009155), np.float64(0.9982998222112656), np.float64(0.99895204231143), np.float64(0.9915013462305069), np.float64(0.9844720438122749), np.float64(0.9970563277602196), np.float64(0.9905363395810127), np.float64(0.9922056198120117), np.float64(0.9942390210926533), np.float64(0.9941177703440189), np.float64(0.9966959580779076), np.float64(0.9936268217861652), np.float64(0.9961534515023232), np.float64(0.9959982372820377), np.float64(0.9984408318996429), np.float64(0.9998307079076767), np.float64(0.9994111843407154), np.float64(0.9662925153970718), np.float64(0.9998816587030888), np.float64(0.9970543757081032), np.float64(0.9971140697598457), np.float64(0.999736987054348), np.float64(0.9993414208292961), np.float64(0.9908909313380718), np.float64(0.9938832111656666)]\n",
      "0.9298936128616333\n",
      "0.9998880699276924\n",
      "Randomisation: RandomLogit scores by Sixt et al., 2020.\n",
      "\n",
      " • SHAP =  0.9285913950475475\n"
     ]
    }
   ],
   "source": [
    "RandomLogit_shap = quantus.RandomLogit(\n",
    "    num_classes=2,\n",
    "    disable_warnings=True,\n",
    "    normalise=False,\n",
    "    abs=True, # take absolute values of attributions\n",
    "    display_progressbar=True,\n",
    "    return_aggregate=False, # find the mean of the complexity from all samples\n",
    "    aggregate_func=np.mean,\n",
    ")(\n",
    "    model=mlp_wrapped_model,\n",
    "    x_batch=X_test_np,\n",
    "    y_batch=y_test_int,\n",
    "    a_batch=None,\n",
    "    explain_func=quantus.explain,\n",
    "    explain_func_kwargs={\"method\": \"GradientShap\", \"reduce_axes\": ()},\n",
    "    device=device\n",
    ")\n",
    "\n",
    "\n",
    "print(\n",
    "    f\"Randomisation: RandomLogit scores by Sixt et al., 2020.\\n\"\n",
    "    f\"\\n • SHAP = \",\n",
    "    RandomLogit_shap,\n",
    ")\n",
    "\n",
    "print(np.min(RandomLogit_shap))\n",
    "\n",
    "print(np.max(RandomLogit_shap))\n",
    "\n",
    "# Scale to 0-1\n",
    "RandomLogit_shap = (RandomLogit_shap - np.min(RandomLogit_shap)) / (\n",
    "    np.max(RandomLogit_shap) - np.min(RandomLogit_shap)\n",
    ")\n",
    "\n",
    "# Find mean\n",
    "RandomLogit_shap = np.mean(RandomLogit_shap)\n",
    "\n",
    "print(\n",
    "    f\"Randomisation: RandomLogit scores by Sixt et al., 2020.\\n\"\n",
    "    f\"\\n • SHAP = \",\n",
    "    RandomLogit_shap,\n",
    ")"
   ]
  },
  {
   "cell_type": "code",
   "execution_count": null,
   "metadata": {
    "colab": {
     "base_uri": "https://localhost:8080/",
     "referenced_widgets": [
      "a9cd97698f5d4b898cdc5210e59e0c93",
      "34df148891af4a28a258dbf50d562bae",
      "aa5910ba2a4349bbb3b62f0a73bf9f16",
      "990f231d4cb847f680a5094298c0bbef",
      "05e537d73cbc402e991dc639fe003bfc",
      "4020ff0355644e959148abf0273ee9c8",
      "851d42d649314ed58d1c439a0203897e",
      "6cb70767d05b44b4a25d53e9556c4376",
      "e4f8c14abadb4a30a365d423453c7be5",
      "10054a777b9c4d3c978df93255d1ffcb",
      "7701439b41ff4a05b3bbff7262e89a05"
     ]
    },
    "executionInfo": {
     "elapsed": 416,
     "status": "ok",
     "timestamp": 1749292322772,
     "user": {
      "displayName": "Hung Thanh Do",
      "userId": "14602254202234053172"
     },
     "user_tz": -120
    },
    "id": "bvhEzC6Q9hYp",
    "outputId": "a88473da-02f9-4169-d8f7-aa357ee33577"
   },
   "outputs": [
    {
     "data": {
      "application/vnd.jupyter.widget-view+json": {
       "model_id": "a9cd97698f5d4b898cdc5210e59e0c93",
       "version_major": 2,
       "version_minor": 0
      },
      "text/plain": [
       "  0%|          | 0/200 [00:00<?, ?it/s]"
      ]
     },
     "metadata": {},
     "output_type": "display_data"
    },
    {
     "name": "stdout",
     "output_type": "stream",
     "text": [
      "Randomisation: MPRT scores by Adebayo et al., 2018\n",
      "\n",
      " • SHAP =  0.7762054951160153\n"
     ]
    }
   ],
   "source": [
    "MPRT_shap = quantus.MPRT(\n",
    "    # similarity_func=quantus.similarity_func.correlation_spearman,\n",
    "    return_average_correlation=True,\n",
    "    # return_aggregate=True, # find the mean of the complexity from all samples\n",
    "    aggregate_func=np.mean,\n",
    "    layer_order=\"independent\",\n",
    "    similarity_func=quantus.ssim,\n",
    "    disable_warnings=True,\n",
    "    normalise=False,\n",
    "    abs=True, # take absolute values of attributions\n",
    "    display_progressbar=True,\n",
    ")(\n",
    "    model=mlp_wrapped_model,\n",
    "    x_batch=X_test_np,\n",
    "    y_batch=y_test_int,\n",
    "    # a_batch=mlp_shap_values,   # use SHAP attributions computed above\n",
    "    a_batch=None,\n",
    "    explain_func=quantus.explain,\n",
    "    explain_func_kwargs={\"method\": \"GradientShap\", \"reduce_axes\": ()},\n",
    "\n",
    "    device=device\n",
    ")\n",
    "\n",
    "# Scale to 0-1\n",
    "MPRT_shap = (MPRT_shap - np.min(MPRT_shap)) / (\n",
    "    np.max(MPRT_shap) - np.min(MPRT_shap)\n",
    ")\n",
    "\n",
    "# Find mean\n",
    "MPRT_shap = np.mean(MPRT_shap)\n",
    "\n",
    "print(\n",
    "    f\"Randomisation: MPRT scores by Adebayo et al., 2018\\n\"\n",
    "    f\"\\n • SHAP = \",\n",
    "    MPRT_shap,\n",
    ")"
   ]
  },
  {
   "cell_type": "markdown",
   "metadata": {
    "id": "qoAZscdR9hYq"
   },
   "source": [
    "### Summary (all)"
   ]
  },
  {
   "cell_type": "code",
   "execution_count": null,
   "metadata": {
    "id": "_QudUZpN9hYq"
   },
   "outputs": [],
   "source": [
    "# Convert from list to int\n",
    "Complexity_shap = np.float64(Complexity_shap)\n",
    "Sparseness_shap = np.float64(Sparseness_shap)\n",
    "MPRT_shap = np.float64(MPRT_shap)\n",
    "RandomLogit_shap = np.float64(RandomLogit_shap)\n",
    "FaithfulnessEstimate_shap = np.float64(FaithfulnessEstimate_shap)\n",
    "FaithfulnessCorrelation_shap = np.float64(FaithfulnessCorrelation_shap)\n",
    "LocalLipschitzEstimate_shap = np.float64(LocalLipschitzEstimate_shap)\n",
    "\n",
    "# Rounding one by one\n",
    "Complexity_shap = round(float(Complexity_shap), 4)\n",
    "Sparseness_shap = round(float(Sparseness_shap), 4)\n",
    "MPRT_shap = round(float(MPRT_shap), 4)\n",
    "RandomLogit_shap = round(float(RandomLogit_shap), 4)\n",
    "FaithfulnessEstimate_shap = round(float(FaithfulnessEstimate_shap), 4)\n",
    "FaithfulnessCorrelation_shap = round(float(FaithfulnessCorrelation_shap), 4)\n",
    "LocalLipschitzEstimate_shap = round(float(LocalLipschitzEstimate_shap), 4)"
   ]
  },
  {
   "cell_type": "code",
   "execution_count": null,
   "metadata": {
    "colab": {
     "base_uri": "https://localhost:8080/"
    },
    "executionInfo": {
     "elapsed": 50,
     "status": "ok",
     "timestamp": 1749292514534,
     "user": {
      "displayName": "Hung Thanh Do",
      "userId": "14602254202234053172"
     },
     "user_tz": -120
    },
    "id": "D5WQT-D99hYq",
    "outputId": "8f4a7bb4-70e4-4092-ba0b-0bfda18459c6"
   },
   "outputs": [
    {
     "data": {
      "text/markdown": [
       "#### Explanability scores"
      ],
      "text/plain": [
       "<IPython.core.display.Markdown object>"
      ]
     },
     "metadata": {},
     "output_type": "display_data"
    },
    {
     "name": "stdout",
     "output_type": "stream",
     "text": [
      "Complexity: Complexity by Bhatt et al., 2020.\n",
      "\n",
      " • SHAP =  0.5867\n",
      "Complexity: Sparseness by Chalasani et al., 2020.\n",
      "\n",
      " • SHAP =  0.7527\n",
      "Faithfulness: Faithfulness Estimate by Alvarez-Melis et al., 2018.\n",
      "\n",
      " • SHAP =  0.3323\n",
      "Faithfulness: Faithfulness Correlation by Bhatt et al., 2020.\n",
      "\n",
      " • SHAP =  0.4045\n",
      "Robustness: Local Lipschitz Estimate by Alvarez-Melis et al., 2018.\n",
      "\n",
      " • SHAP =  0.2741\n",
      "Randomisation: MPRT scores by Adebayo et al., 2018\n",
      "\n",
      " • SHAP =  0.7762\n",
      "Randomisation: RandomLogit scores by Sixt et al., 2020.\n",
      "\n",
      " • SHAP =  0.9286\n"
     ]
    }
   ],
   "source": [
    "display(Markdown(\"#### Explanability scores\"))\n",
    "\n",
    "# Complexity: Complexity\n",
    "print(\n",
    "    f\"Complexity: Complexity by Bhatt et al., 2020.\\n\"\n",
    "    f\"\\n • SHAP = \",\n",
    "    Complexity_shap,\n",
    ")\n",
    "\n",
    "# Complexity: Sparseness\n",
    "print(\n",
    "    f\"Complexity: Sparseness by Chalasani et al., 2020.\\n\"\n",
    "    f\"\\n • SHAP = \",\n",
    "    Sparseness_shap,\n",
    ")\n",
    "\n",
    "# Faithfulness: Faithfulness Estimate\n",
    "print(\n",
    "    f\"Faithfulness: Faithfulness Estimate by Alvarez-Melis et al., 2018.\\n\"\n",
    "    f\"\\n • SHAP = \",\n",
    "    FaithfulnessEstimate_shap,\n",
    ")\n",
    "\n",
    "# Faithfulness: Faithfulness Correlation\n",
    "print(\n",
    "    f\"Faithfulness: Faithfulness Correlation by Bhatt et al., 2020.\\n\"\n",
    "    f\"\\n • SHAP = \",\n",
    "    FaithfulnessCorrelation_shap,\n",
    ")\n",
    "\n",
    "# Robustness: Local Lipschitz Estimate\n",
    "print(\n",
    "    f\"Robustness: Local Lipschitz Estimate by Alvarez-Melis et al., 2018.\\n\"\n",
    "    f\"\\n • SHAP = \",\n",
    "    LocalLipschitzEstimate_shap,\n",
    ")\n",
    "\n",
    "# Randomisation: MPRT\n",
    "print(\n",
    "    f\"Randomisation: MPRT scores by Adebayo et al., 2018\\n\"\n",
    "    f\"\\n • SHAP = \",\n",
    "    MPRT_shap,\n",
    ")\n",
    "\n",
    "# Randomisation: RandomLogit\n",
    "print(\n",
    "    f\"Randomisation: RandomLogit scores by Sixt et al., 2020.\\n\"\n",
    "    f\"\\n • SHAP = \",\n",
    "    RandomLogit_shap,\n",
    ")"
   ]
  },
  {
   "cell_type": "markdown",
   "metadata": {
    "id": "GnnXquR29hYq"
   },
   "source": [
    "### Summary"
   ]
  },
  {
   "cell_type": "code",
   "execution_count": null,
   "metadata": {
    "colab": {
     "base_uri": "https://localhost:8080/",
     "height": 196
    },
    "executionInfo": {
     "elapsed": 45,
     "status": "ok",
     "timestamp": 1749292515731,
     "user": {
      "displayName": "Hung Thanh Do",
      "userId": "14602254202234053172"
     },
     "user_tz": -120
    },
    "id": "C8enOAUT9hYq",
    "outputId": "6916f4a3-8f53-4f69-c244-9ba5603b0e66"
   },
   "outputs": [
    {
     "data": {
      "text/markdown": [
       "#### Explanability scores (grouped)"
      ],
      "text/plain": [
       "<IPython.core.display.Markdown object>"
      ]
     },
     "metadata": {},
     "output_type": "display_data"
    },
    {
     "name": "stdout",
     "output_type": "stream",
     "text": [
      "Complexity\n",
      " • SHAP =  0.6697\n",
      "Faithfulness\n",
      " • SHAP =  0.3684\n",
      "Robustness\n",
      " • SHAP =  0.2741\n",
      "Randomisation\n",
      " • SHAP =  0.8524\n"
     ]
    }
   ],
   "source": [
    "display(Markdown(\"#### Explanability scores (grouped)\"))\n",
    "\n",
    "# Complexity: Complexity and Sparseness\n",
    "print(\n",
    "    f\"Complexity\"\n",
    "    f\"\\n • SHAP = \",\n",
    "    round(float((Complexity_shap+Sparseness_shap)/2), 4),\n",
    ")\n",
    "\n",
    "# Faithfulness: Faithfulness Estimate and Faithfulness Correlation\n",
    "print(\n",
    "    f\"Faithfulness\"\n",
    "    f\"\\n • SHAP = \",\n",
    "    round(float((FaithfulnessEstimate_shap+FaithfulnessCorrelation_shap)/2), 4),\n",
    ")\n",
    "\n",
    "# Robustness: Local Lipschitz Estimate\n",
    "print(\n",
    "    f\"Robustness\"\n",
    "    f\"\\n • SHAP = \",\n",
    "    round(float((LocalLipschitzEstimate_shap)), 4),\n",
    ")\n",
    "\n",
    "# Randomisation: MPRT and RandomLogit\n",
    "print(\n",
    "    f\"Randomisation\"\n",
    "    f\"\\n • SHAP = \",\n",
    "    round(float((MPRT_shap+RandomLogit_shap)/2), 4)\n",
    ")"
   ]
  },
  {
   "cell_type": "markdown",
   "metadata": {
    "id": "LRvfCrguYQeJ"
   },
   "source": [
    "# TabResNet"
   ]
  },
  {
   "cell_type": "markdown",
   "metadata": {
    "id": "ki-IgGuwcC0k"
   },
   "source": [
    "## SHAP"
   ]
  },
  {
   "cell_type": "code",
   "execution_count": null,
   "metadata": {
    "id": "51K43fBAcC0l"
   },
   "outputs": [],
   "source": [
    "# ---------------------------\n",
    "# SHAP Explanation Setup\n",
    "# ---------------------------\n",
    "# Define a prediction function for SHAP that returns the probability for class 1.\n",
    "def f_shap(X):\n",
    "    model.eval()\n",
    "    with torch.no_grad():\n",
    "        X_tensor = torch.from_numpy(np.atleast_2d(X).astype(np.float32))\n",
    "        X_tensor = X_tensor.to(device)\n",
    "        logits = model(X_tensor)\n",
    "        probs = torch.softmax(logits, dim=1).cpu().numpy()\n",
    "        return probs[:, 1]  # return probability for class 1"
   ]
  },
  {
   "cell_type": "code",
   "execution_count": null,
   "metadata": {
    "id": "TrGUamn-cC0l"
   },
   "outputs": [],
   "source": [
    "# Use a subset of test data as background (e.g., 50 samples)\n",
    "background = X_test_np[:100]\n",
    "explainer = shap.KernelExplainer(f_shap, background)"
   ]
  },
  {
   "cell_type": "code",
   "execution_count": null,
   "metadata": {
    "colab": {
     "base_uri": "https://localhost:8080/",
     "height": 49,
     "referenced_widgets": [
      "c806b96faae84af89b54054b79ad72f8",
      "0837b11772ab4d96a4219b2966a412ec",
      "7befaa1d3e9f46a9b161312f0a790f39",
      "6c4eaae7b02342a89df51bfcccfccc30",
      "8c26979bb0444efe9305592529ab6cfd",
      "82ea5f5160124ad288d4280bf54546e9",
      "ba3fa8ed0da742ffb63fbf3fc3b129bc",
      "6c4a0335845a445f92b263a3c14bfb8d",
      "2e66ec83f23341a287f2948b12cc8138",
      "00d01d08ae7f40eab433e30230d45901",
      "01a4cf83149e4d6b8bcd9bb3ce017491"
     ]
    },
    "executionInfo": {
     "elapsed": 803,
     "status": "ok",
     "timestamp": 1749292550865,
     "user": {
      "displayName": "Hung Thanh Do",
      "userId": "14602254202234053172"
     },
     "user_tz": -120
    },
    "id": "Ugez67gzRzxS",
    "outputId": "5703e3b5-50fb-4a87-99ea-2b6a8984b559"
   },
   "outputs": [
    {
     "data": {
      "application/vnd.jupyter.widget-view+json": {
       "model_id": "c806b96faae84af89b54054b79ad72f8",
       "version_major": 2,
       "version_minor": 0
      },
      "text/plain": [
       "  0%|          | 0/100 [00:00<?, ?it/s]"
      ]
     },
     "metadata": {},
     "output_type": "display_data"
    }
   ],
   "source": [
    "# Compute SHAP values for the entire test set\n",
    "shap_values = explainer.shap_values(X_test_np, nsamples=100)"
   ]
  },
  {
   "cell_type": "code",
   "execution_count": null,
   "metadata": {
    "colab": {
     "base_uri": "https://localhost:8080/"
    },
    "collapsed": true,
    "executionInfo": {
     "elapsed": 862,
     "status": "ok",
     "timestamp": 1749292556228,
     "user": {
      "displayName": "Hung Thanh Do",
      "userId": "14602254202234053172"
     },
     "user_tz": -120
    },
    "id": "7-fBEqnSR2-4",
    "outputId": "10d1c182-de0e-42ce-e3c4-296be65cd961"
   },
   "outputs": [
    {
     "name": "stderr",
     "output_type": "stream",
     "text": [
      "<ipython-input-75-4a600d38da37>:2: FutureWarning: The NumPy global RNG was seeded by calling `np.random.seed`. In a future version this function will no longer use the global RNG. Pass `rng` explicitly to opt-in to the new behaviour and silence this warning.\n",
      "  shap.summary_plot(shap_values, X_test_np, feature_names=X_test.columns)\n"
     ]
    },
    {
     "data": {
      "image/png": "[encoded data removed]",
      "text/plain": [
       "<Figure size 800x950 with 2 Axes>"
      ]
     },
     "metadata": {},
     "output_type": "display_data"
    }
   ],
   "source": [
    "# shap_values is an array with shape (n_samples, n_features)\n",
    "shap.summary_plot(shap_values, X_test_np, feature_names=X_test.columns)"
   ]
  },
  {
   "cell_type": "code",
   "execution_count": null,
   "metadata": {
    "id": "92Nbb_woWwEc"
   },
   "outputs": [],
   "source": [
    "import pickle"
   ]
  },
  {
   "cell_type": "code",
   "execution_count": null,
   "metadata": {
    "id": "h2WZPLBzWxkN"
   },
   "outputs": [],
   "source": [
    "with open('saved_shap/tabresnet_shap_values_german.pkl', 'wb') as f:\n",
    "    pickle.dump(shap_values, f)"
   ]
  },
  {
   "cell_type": "code",
   "execution_count": null,
   "metadata": {
    "id": "wlAoHCt-Wyvi"
   },
   "outputs": [],
   "source": [
    "with open('saved_shap/tabresnet_shap_values_german.pkl', 'rb') as f:\n",
    "    shap_values = pickle.load(f)"
   ]
  },
  {
   "cell_type": "markdown",
   "metadata": {
    "id": "WeKnka-4W8Wr"
   },
   "source": [
    "## Quantus"
   ]
  },
  {
   "cell_type": "markdown",
   "metadata": {
    "id": "3sjk8HjT8wwx"
   },
   "source": [
    "### Wrapped model"
   ]
  },
  {
   "cell_type": "code",
   "execution_count": null,
   "metadata": {
    "colab": {
     "base_uri": "https://localhost:8080/"
    },
    "collapsed": true,
    "executionInfo": {
     "elapsed": 5,
     "status": "ok",
     "timestamp": 1749292565994,
     "user": {
      "displayName": "Hung Thanh Do",
      "userId": "14602254202234053172"
     },
     "user_tz": -120
    },
    "id": "m7Ly3zVDcC0m",
    "outputId": "fd038abc-f881-40a6-91af-1f3fe94f8640"
   },
   "outputs": [
    {
     "data": {
      "text/plain": [
       "TorchModelWrapper(\n",
       "  (model): TabResNet(\n",
       "    (input_projection): Linear(in_features=22, out_features=16, bias=True)\n",
       "    (resblocks): ModuleList(\n",
       "      (0-1): 2 x TabResBlock(\n",
       "        (bn1): BatchNorm1d(16, eps=1e-05, momentum=0.1, affine=True, track_running_stats=True)\n",
       "        (ln1): Linear(in_features=16, out_features=32, bias=True)\n",
       "        (relu1): ReLU()\n",
       "        (drop1): Dropout(p=0.2, inplace=False)\n",
       "        (ln2): Linear(in_features=32, out_features=16, bias=True)\n",
       "        (drop2): Dropout(p=0.05, inplace=False)\n",
       "      )\n",
       "    )\n",
       "    (predblock): Sequential(\n",
       "      (0): BatchNorm1d(16, eps=1e-05, momentum=0.1, affine=True, track_running_stats=True)\n",
       "      (1): ReLU()\n",
       "      (2): Linear(in_features=16, out_features=2, bias=True)\n",
       "    )\n",
       "  )\n",
       ")"
      ]
     },
     "execution_count": 78,
     "metadata": {},
     "output_type": "execute_result"
    }
   ],
   "source": [
    "# ---------------------------\n",
    "# Wrap Model for Quantus FaithfulnessCorrelation\n",
    "# ---------------------------\n",
    "class TorchModelWrapper(nn.Module):\n",
    "    def __init__(self, model):\n",
    "        super(TorchModelWrapper, self).__init__()\n",
    "        self.model = model\n",
    "        self.model.eval()\n",
    "\n",
    "    def forward(self, x):\n",
    "        return self.model(x)\n",
    "\n",
    "    def predict(self, X):\n",
    "        X = np.atleast_2d(X)\n",
    "        self.model.eval()\n",
    "        with torch.no_grad():\n",
    "            X_tensor = torch.from_numpy(X).float()\n",
    "            logits = self.model(X_tensor)\n",
    "            probs = torch.softmax(logits, dim=1).cpu().numpy()  # shape: (n_samples, 2)\n",
    "        return probs\n",
    "\n",
    "    def shape_input(self, x, shape, channel_first):\n",
    "        return np.atleast_2d(x)\n",
    "\n",
    "wrapped_model = TorchModelWrapper(model)\n",
    "wrapped_model.eval()"
   ]
  },
  {
   "cell_type": "code",
   "execution_count": null,
   "metadata": {
    "id": "KVUTJdUOcC0o"
   },
   "outputs": [],
   "source": [
    "# ---------------------------\n",
    "# Evaluate FaithfulnessCorrelation with Quantus using SHAP attributions\n",
    "# ---------------------------\n",
    "# Ensure y_test is of integer type\n",
    "y_test_int = y_test_np.astype(np.int64)"
   ]
  },
  {
   "cell_type": "markdown",
   "metadata": {
    "id": "ZIn5CdEP80QI"
   },
   "source": [
    "### Complexity"
   ]
  },
  {
   "cell_type": "code",
   "execution_count": null,
   "metadata": {
    "colab": {
     "base_uri": "https://localhost:8080/",
     "referenced_widgets": [
      "597a611c6c70409e84e4a8553882507b",
      "0ab4fe0555744d48b2fffde6a11b5c53",
      "c1c8550925124110bb5cdd6668fb2c79",
      "3c71210957fe4a7c9f5dbbf706a26fdb",
      "c9008c5470794fdea4583064770ebd50",
      "5754f02212a741f28f9eff4ce99be8bc",
      "26bd972b96d04ccc8579cb7ba0c43ba7",
      "7e0c7e527f154c8d9bfc216bea4d1ffb",
      "4f15152c916f4f539da89eadffc87f54",
      "33beff052f144d09bf8b2ae1fdb65156",
      "07f85731e12d4db88e8cf7a86e2e0532"
     ]
    },
    "executionInfo": {
     "elapsed": 70,
     "status": "ok",
     "timestamp": 1749292576572,
     "user": {
      "displayName": "Hung Thanh Do",
      "userId": "14602254202234053172"
     },
     "user_tz": -120
    },
    "id": "cb58KRc6cC0o",
    "outputId": "634ebe2a-98b8-4863-9000-38459d97a7a4"
   },
   "outputs": [
    {
     "data": {
      "application/vnd.jupyter.widget-view+json": {
       "model_id": "597a611c6c70409e84e4a8553882507b",
       "version_major": 2,
       "version_minor": 0
      },
      "text/plain": [
       "  0%|          | 0/2.0 [00:00<?, ?it/s]"
      ]
     },
     "metadata": {},
     "output_type": "display_data"
    },
    {
     "name": "stdout",
     "output_type": "stream",
     "text": [
      "Complexity: Complexity by Bhatt et al., 2020.\n",
      "\n",
      " • SHAP =  0.7592415041448958\n"
     ]
    }
   ],
   "source": [
    "# Apply Complexity metric using SHAP attributions\n",
    "Complexity_shap = quantus.Complexity(\n",
    "    normalise=False,\n",
    "    abs=True,  # Take absolute values of attributions\n",
    "    disable_warnings=True,\n",
    "    display_progressbar=True,\n",
    "    aggregate_func=np.mean,  # Compute mean complexity over all samples\n",
    ")(\n",
    "    model=wrapped_model,\n",
    "    x_batch=X_test_np,\n",
    "    y_batch=y_test_int,\n",
    "    a_batch=shap_values,   # use SHAP attributions computed above\n",
    "    explain_func=None      # explanations are precomputed\n",
    ")\n",
    "\n",
    "# Scale to 0-1\n",
    "Complexity_shap = (Complexity_shap - min(Complexity_shap)) / (\n",
    "    max(Complexity_shap) - min(Complexity_shap)\n",
    ")\n",
    "\n",
    "# Find mean\n",
    "Complexity_shap = np.mean(Complexity_shap)\n",
    "\n",
    "print(\n",
    "    f\"Complexity: Complexity by Bhatt et al., 2020.\\n\"\n",
    "    f\"\\n • SHAP = \",\n",
    "    Complexity_shap,\n",
    ")"
   ]
  },
  {
   "cell_type": "code",
   "execution_count": null,
   "metadata": {
    "colab": {
     "base_uri": "https://localhost:8080/",
     "referenced_widgets": [
      "7319bff9864246a1901701772e6260c4",
      "2b2912bb873b4836acde48e9949e1ed4",
      "6cb67193817d4e628e6b32294076ed6e",
      "0469904cce424b538d4df53b2f320b01",
      "40dc8f70036543d3b5658dd32dd65b10",
      "285ef5fe527844899b23e74b1acadfe2",
      "c5ea5273d2334aac829f9f377649ce84",
      "f363480f365749beba9d87a413bfc030",
      "d2058865db0442bbbd088ef82da5097a",
      "8c2851a6a46d49d38bb96285b3fdcd24",
      "9dfcd23037374d10a6478e75926c5309"
     ]
    },
    "executionInfo": {
     "elapsed": 250,
     "status": "ok",
     "timestamp": 1749292576823,
     "user": {
      "displayName": "Hung Thanh Do",
      "userId": "14602254202234053172"
     },
     "user_tz": -120
    },
    "id": "VXndEzS_cC0p",
    "outputId": "3c37af04-eb31-433c-defe-a63fe25cc502"
   },
   "outputs": [
    {
     "data": {
      "application/vnd.jupyter.widget-view+json": {
       "model_id": "7319bff9864246a1901701772e6260c4",
       "version_major": 2,
       "version_minor": 0
      },
      "text/plain": [
       "  0%|          | 0/2.0 [00:00<?, ?it/s]"
      ]
     },
     "metadata": {},
     "output_type": "display_data"
    },
    {
     "name": "stdout",
     "output_type": "stream",
     "text": [
      "Complexity: Sparseness by Chalasani et al., 2020.\n",
      "\n",
      " • SHAP =  [np.float64(0.7346439631025118)]\n"
     ]
    }
   ],
   "source": [
    "Sparseness_shap = quantus.Sparseness(\n",
    "    normalise=False,\n",
    "    abs=True, # take absolute values of attributions\n",
    "    disable_warnings=True,\n",
    "    display_progressbar=True,\n",
    "    return_aggregate=True, # find the mean of the complexity from all samples\n",
    "    aggregate_func=np.mean,\n",
    ")(\n",
    "    model=wrapped_model,\n",
    "    x_batch=X_test_np,\n",
    "    y_batch=y_test_int,\n",
    "    a_batch=shap_values,   # use SHAP attributions computed above\n",
    "    explain_func=None      # explanations are precomputed\n",
    ")\n",
    "\n",
    "# Already scaled to 0-1 -> keep aggregated (mean)\n",
    "\n",
    "print(\n",
    "    f\"Complexity: Sparseness by Chalasani et al., 2020.\\n\"\n",
    "    f\"\\n • SHAP = \",\n",
    "    Sparseness_shap,\n",
    ")"
   ]
  },
  {
   "cell_type": "markdown",
   "metadata": {
    "id": "D-b5Gcw082s0"
   },
   "source": [
    "### Faithfulness"
   ]
  },
  {
   "cell_type": "code",
   "execution_count": null,
   "metadata": {
    "colab": {
     "base_uri": "https://localhost:8080/",
     "height": 101,
     "referenced_widgets": [
      "4ca11392f0c54ffd8515f1e5b52d290d",
      "0434d907382e4eb99b8a94b204fd5fbc",
      "491801415ec54af4bc67bdf6b9eaae33",
      "28607c9738d1478497f606a57aa6466a",
      "67d24b1647ae4f18a8138a4d48162f13",
      "7e3338a935da4cb6a5a4af33e187323c",
      "95621f8a73f84a0c9b4ead340cb7ddb1",
      "d762e83e53fe4725bd3158ec3904c452",
      "4f08253600e542e5a8a82274f96c335a",
      "815b36d07c274ac58d7dd810254eb345",
      "a2b24c5671d14a13ad40a084d7384e36"
     ]
    },
    "executionInfo": {
     "elapsed": 1514,
     "status": "ok",
     "timestamp": 1749292597847,
     "user": {
      "displayName": "Hung Thanh Do",
      "userId": "14602254202234053172"
     },
     "user_tz": -120
    },
    "id": "DPPLpLc1cC0q",
    "outputId": "3661a668-9f46-4725-d514-a1e7ae86c65d"
   },
   "outputs": [
    {
     "data": {
      "application/vnd.jupyter.widget-view+json": {
       "model_id": "4ca11392f0c54ffd8515f1e5b52d290d",
       "version_major": 2,
       "version_minor": 0
      },
      "text/plain": [
       "  0%|          | 0/2.0 [00:00<?, ?it/s]"
      ]
     },
     "metadata": {},
     "output_type": "display_data"
    },
    {
     "name": "stdout",
     "output_type": "stream",
     "text": [
      "Faithfulness: Faithfulness Correlation by Bhatt et al., 2020.\n",
      "\n",
      " • SHAP =  0.47854710638505116\n"
     ]
    }
   ],
   "source": [
    "FaithfulnessCorrelation_shap = quantus.FaithfulnessCorrelation(\n",
    "    perturb_baseline=\"white\",\n",
    "    perturb_func=quantus.baseline_replacement_by_indices,\n",
    "    subset_size=5, # features to perturb\n",
    "    nr_runs=10,\n",
    "    similarity_func=quantus.similarity_func.correlation_pearson,\n",
    "    abs=True, # take absolute values of attributions\n",
    "    normalise=False, # do not normalise ohe data\n",
    "    return_aggregate=False, # (not) output 1 val instead of list of vals for all samples\n",
    "    aggregate_func=np.mean,\n",
    "    disable_warnings=True,\n",
    "    display_progressbar=True,\n",
    ")(\n",
    "    model=wrapped_model,\n",
    "    x_batch=X_test_np,\n",
    "    y_batch=y_test_int,\n",
    "    a_batch=shap_values,   # use SHAP attributions computed above\n",
    "    explain_func=None,      # explanations are precomputed\n",
    "    device=device\n",
    ")\n",
    "\n",
    "# Scale to 0-1\n",
    "FaithfulnessCorrelation_shap = (FaithfulnessCorrelation_shap - np.min(FaithfulnessCorrelation_shap)) / (\n",
    "    np.max(FaithfulnessCorrelation_shap) - np.min(FaithfulnessCorrelation_shap)\n",
    ")\n",
    "\n",
    "# Find mean\n",
    "FaithfulnessCorrelation_shap = np.mean(FaithfulnessCorrelation_shap)\n",
    "\n",
    "print(\n",
    "    f\"Faithfulness: Faithfulness Correlation by Bhatt et al., 2020.\\n\"\n",
    "    f\"\\n • SHAP = \",\n",
    "    FaithfulnessCorrelation_shap,\n",
    ")"
   ]
  },
  {
   "cell_type": "code",
   "execution_count": null,
   "metadata": {
    "colab": {
     "base_uri": "https://localhost:8080/",
     "height": 136,
     "referenced_widgets": [
      "e9abdca8587a45ba92c4179df587ee35",
      "0e8d08ab73f34bad978c6aa040db2af1",
      "e608b9f89c7b41e78c947df31ac3dcd3",
      "b9a285d169ef4bfba73551c1341e1ae1",
      "bb77bb2215874f3083d00caa8da06096",
      "70d14a54db754839835474e8aab3bc2b",
      "756ee4269d6240a18494600b8d8c4dec",
      "ed868802015d4c3c84260df4ab9a1295",
      "4615fb2afda44cd5a4e238b47fff7a80",
      "7499df94d4544beaba863429796528d3",
      "a663a4f9212a4f55a526bad3aa187e5e"
     ]
    },
    "executionInfo": {
     "elapsed": 3001,
     "status": "ok",
     "timestamp": 1749292608370,
     "user": {
      "displayName": "Hung Thanh Do",
      "userId": "14602254202234053172"
     },
     "user_tz": -120
    },
    "id": "dYi-soQJcC0r",
    "outputId": "69abd770-087e-45b0-b1b8-b25a321a5d64"
   },
   "outputs": [
    {
     "data": {
      "application/vnd.jupyter.widget-view+json": {
       "model_id": "e9abdca8587a45ba92c4179df587ee35",
       "version_major": 2,
       "version_minor": 0
      },
      "text/plain": [
       "  0%|          | 0/2.0 [00:00<?, ?it/s]"
      ]
     },
     "metadata": {},
     "output_type": "display_data"
    },
    {
     "name": "stderr",
     "output_type": "stream",
     "text": [
      "/usr/local/lib/python3.11/dist-packages/quantus/helpers/warn.py:257: UserWarning: The settings for perturbing input e.g., 'perturb_func' didn't cause change in input. Reconsider the parameter settings.\n",
      "  warnings.warn(\n"
     ]
    },
    {
     "name": "stdout",
     "output_type": "stream",
     "text": [
      "Faithfulness: Faithfulness Estimate by Alvarez-Melis et al., 2018.\n",
      "\n",
      " • SHAP =  0.32366147794299943\n"
     ]
    }
   ],
   "source": [
    "FaithfulnessEstimate_shap = quantus.FaithfulnessEstimate(\n",
    "    perturb_baseline=\"white\",\n",
    "    perturb_func=quantus.baseline_replacement_by_indices,\n",
    "    features_in_step=1, # features to perturb\n",
    "    similarity_func=quantus.similarity_func.correlation_pearson,\n",
    "    abs=True, # take absolute values of attributions\n",
    "    normalise=False, # do not normalise ohe data\n",
    "    return_aggregate=False, # (not) output 1 val instead of list of vals for all samples\n",
    "    aggregate_func=np.mean,\n",
    "    disable_warnings=True,\n",
    "    display_progressbar=True,\n",
    ")(\n",
    "    model=wrapped_model,\n",
    "    x_batch=X_test_np,\n",
    "    y_batch=y_test_int,\n",
    "    a_batch=shap_values,   # use SHAP attributions computed above\n",
    "    explain_func=None,      # explanations are precomputed\n",
    "    device=device\n",
    ")\n",
    "\n",
    "# Scale to 0-1\n",
    "FaithfulnessEstimate_shap = (FaithfulnessEstimate_shap - np.min(FaithfulnessEstimate_shap)) / (\n",
    "    np.max(FaithfulnessEstimate_shap) - np.min(FaithfulnessEstimate_shap)\n",
    ")\n",
    "\n",
    "# Find mean\n",
    "FaithfulnessEstimate_shap = np.mean(FaithfulnessEstimate_shap)\n",
    "\n",
    "print(\n",
    "    f\"Faithfulness: Faithfulness Estimate by Alvarez-Melis et al., 2018.\\n\"\n",
    "    f\"\\n • SHAP = \",\n",
    "    FaithfulnessEstimate_shap,\n",
    ")"
   ]
  },
  {
   "cell_type": "markdown",
   "metadata": {
    "id": "Cejt5SCX866J"
   },
   "source": [
    "### Robustness"
   ]
  },
  {
   "cell_type": "code",
   "execution_count": null,
   "metadata": {
    "colab": {
     "base_uri": "https://localhost:8080/",
     "height": 101,
     "referenced_widgets": [
      "0b609e42d8394dde8d0e70188a7d7658",
      "273b72f3064340ef8ee583bffef0644e",
      "82cadb4190f7492bbca714dad3d84695",
      "56551dcc25494bbb825d65fa0131cf47",
      "3161dae4a0a8440c99a9d1c624720697",
      "487bd3c8612d4d47a49bb07cb6709435",
      "f45fecc5ee5041d8972a46a4c2c5c89f",
      "6d1cd0ef565a42118850cf8979b795b5",
      "5b66421d4c6e4ad3923d75984d34a064",
      "a836df4a142d422e8704facc6c115a8a",
      "a6e0a0cf981b4e64aa8de17a52b67575"
     ]
    },
    "executionInfo": {
     "elapsed": 2692,
     "status": "ok",
     "timestamp": 1749292645625,
     "user": {
      "displayName": "Hung Thanh Do",
      "userId": "14602254202234053172"
     },
     "user_tz": -120
    },
    "id": "iK0Xb1WocC0s",
    "outputId": "035e5ae2-b6b0-4372-d1b9-d23a336b6b96"
   },
   "outputs": [
    {
     "data": {
      "application/vnd.jupyter.widget-view+json": {
       "model_id": "0b609e42d8394dde8d0e70188a7d7658",
       "version_major": 2,
       "version_minor": 0
      },
      "text/plain": [
       "  0%|          | 0/2.0 [00:00<?, ?it/s]"
      ]
     },
     "metadata": {},
     "output_type": "display_data"
    },
    {
     "name": "stdout",
     "output_type": "stream",
     "text": [
      "Robustness: Local Lipschitz Estimate by Alvarez-Melis et al., 2018.\n",
      "\n",
      " • SHAP =  0.32884815590888705\n"
     ]
    }
   ],
   "source": [
    "LocalLipschitzEstimate_shap = quantus.LocalLipschitzEstimate(\n",
    "    normalise=False,\n",
    "    abs=True, # take absolute values of attributions\n",
    "    nr_samples = 10,\n",
    "    disable_warnings=True,\n",
    "    display_progressbar=True,\n",
    "    # return_aggregate=True, # find the mean of the complexity from all samples\n",
    "    aggregate_func=np.mean,\n",
    ")(\n",
    "    model=wrapped_model,\n",
    "    x_batch=X_test_np,\n",
    "    y_batch=y_test_int,\n",
    "    a_batch=None,\n",
    "    explain_func=quantus.explain,\n",
    "    explain_func_kwargs={\"method\": \"DeepLiftShap\", \"reduce_axes\": ()},\n",
    "    device=device\n",
    ")\n",
    "\n",
    "# Scale to 0-1\n",
    "LocalLipschitzEstimate_shap = (LocalLipschitzEstimate_shap - np.min(LocalLipschitzEstimate_shap)) / (\n",
    "    np.max(LocalLipschitzEstimate_shap) - np.min(LocalLipschitzEstimate_shap)\n",
    ")\n",
    "\n",
    "# Find mean\n",
    "LocalLipschitzEstimate_shap = np.mean(LocalLipschitzEstimate_shap)\n",
    "\n",
    "print(\n",
    "    f\"Robustness: Local Lipschitz Estimate by Alvarez-Melis et al., 2018.\\n\"\n",
    "    f\"\\n • SHAP = \",\n",
    "    LocalLipschitzEstimate_shap,\n",
    ")"
   ]
  },
  {
   "cell_type": "markdown",
   "metadata": {
    "id": "JWmS1gRg880O"
   },
   "source": [
    "### Randomisation"
   ]
  },
  {
   "cell_type": "code",
   "execution_count": null,
   "metadata": {
    "colab": {
     "base_uri": "https://localhost:8080/",
     "referenced_widgets": [
      "790d892d1f53461cade1720b35017b35",
      "cdc62df2580c40e588cf95f6dd82b1d7",
      "179f85dee0d94f059ddf4352bc670adc",
      "9838ad3a4c5b43d48d6b70a9f18181eb",
      "aff26af19baa49cf873c6895b7aa6ddb",
      "8d8ad309372743e6805fcfd6b296094f",
      "92db82643e0b4c1893a788eaa274cf5e",
      "9b81f069abf449f983a3276e8abf4ef8",
      "ea5a580c1bcf4d88ab24e8c7203bc36c",
      "88edbbb4ee7b4f48a9b6d95d13b3e0df",
      "c913df9c9d5b4b408d07d7efe574669a"
     ]
    },
    "executionInfo": {
     "elapsed": 468,
     "status": "ok",
     "timestamp": 1749292763564,
     "user": {
      "displayName": "Hung Thanh Do",
      "userId": "14602254202234053172"
     },
     "user_tz": -120
    },
    "id": "tcNw2dSx959V",
    "outputId": "03f6a677-1ad8-4c14-a5e8-d0ff1100fc7d"
   },
   "outputs": [
    {
     "data": {
      "application/vnd.jupyter.widget-view+json": {
       "model_id": "790d892d1f53461cade1720b35017b35",
       "version_major": 2,
       "version_minor": 0
      },
      "text/plain": [
       "  0%|          | 0/2.0 [00:00<?, ?it/s]"
      ]
     },
     "metadata": {},
     "output_type": "display_data"
    },
    {
     "name": "stdout",
     "output_type": "stream",
     "text": [
      "Randomisation: RandomLogit scores by Sixt et al., 2020.\n",
      "\n",
      " • SHAP =  [np.float64(0.33066220744512975), np.float64(0.6363443902228028), np.float64(0.6174751594662666), np.float64(0.5794680011458695), np.float64(0.47989356610924006), np.float64(0.6900771930813789), np.float64(0.7221137434244156), np.float64(0.7343135364353657), np.float64(0.08165572113284725), np.float64(0.16774524951324565), np.float64(0.6741253572399728), np.float64(0.1451902154367417), np.float64(0.5350342486053705), np.float64(0.6848658211529255), np.float64(0.7982425093650818), np.float64(0.7868441976606846), np.float64(0.3475076789036393), np.float64(0.06270616897381842), np.float64(0.6024645939469337), np.float64(0.8699977584183216), np.float64(0.6599761589895934), np.float64(0.7888320684432983), np.float64(0.8658000789582729), np.float64(0.5844575725495815), np.float64(0.43028063140809536), np.float64(0.20736263756407425), np.float64(0.7428643349558115), np.float64(0.6649682894349098), np.float64(0.6423693457618356), np.float64(0.33090803818413406), np.float64(0.24167924001812935), np.float64(0.9367955401539803), np.float64(0.0636845784028992), np.float64(0.4283267455175519), np.float64(0.8949042521417141), np.float64(0.3024007575586438), np.float64(0.43344893120229244), np.float64(0.19264261331409216), np.float64(0.7225802317261696), np.float64(0.6296315733343363), np.float64(0.583221698179841), np.float64(0.6405927482992411), np.float64(0.4650658378377557), np.float64(0.8875041231513023), np.float64(0.5862958403886296), np.float64(0.7840317841619253), np.float64(0.7498043850064278), np.float64(0.6804594323039055), np.float64(0.7418456450104713), np.float64(0.49512272980064154), np.float64(0.41095597576349974), np.float64(0.8373623378574848), np.float64(0.11117628181818873), np.float64(0.7333728354424238), np.float64(0.9506685025990009), np.float64(0.2747181370505132), np.float64(0.5722098238766193), np.float64(0.6599122136831284), np.float64(0.15847818937618285), np.float64(0.918851125985384), np.float64(0.33267912588780746), np.float64(0.7717750780284405), np.float64(0.5880485791712999), np.float64(0.8762282803654671), np.float64(0.8494188152253628), np.float64(0.9411938264966011), np.float64(0.5778843313455582), np.float64(0.6879163607954979), np.float64(0.5594389159232378), np.float64(0.372367370815482), np.float64(0.5957118216902018), np.float64(0.576550867408514), np.float64(0.7951002418994904), np.float64(0.5076721487566829), np.float64(0.5556359034962952), np.float64(0.6362740751355886), np.float64(0.8080355301499367), np.float64(0.5555399600416422), np.float64(0.864022683352232), np.float64(0.7899304516613483), np.float64(0.10353663918795064), np.float64(0.3900209945568349), np.float64(0.6420303769409657), np.float64(0.5559350047260523), np.float64(0.525744856975507), np.float64(0.34110582334687933), np.float64(0.182200443407055), np.float64(0.39256223787378985), np.float64(0.5687802555039525), np.float64(0.350999375077663), np.float64(0.7597447410225868), np.float64(0.6541767120361328), np.float64(0.2598688374273479), np.float64(0.21943220822140574), np.float64(0.9765159450471401), np.float64(0.6727645620703697), np.float64(0.4736784305423498), np.float64(0.9299733713269234), np.float64(0.605154475197196), np.float64(0.681920887902379)]\n",
      "0.06270616897381842\n",
      "0.9765159450471401\n",
      "Randomisation: RandomLogit scores by Sixt et al., 2020.\n",
      "\n",
      " • SHAP =  0.5560155468228495\n"
     ]
    }
   ],
   "source": [
    "RandomLogit_shap = quantus.RandomLogit(\n",
    "    num_classes=2,\n",
    "    disable_warnings=True,\n",
    "    normalise=False,\n",
    "    abs=True, # take absolute values of attributions\n",
    "    display_progressbar=True,\n",
    "    return_aggregate=False, # find the mean of the complexity from all samples\n",
    "    aggregate_func=np.mean,\n",
    ")(\n",
    "    model=wrapped_model,\n",
    "    x_batch=X_test_np,\n",
    "    y_batch=y_test_int,\n",
    "    a_batch=None,\n",
    "    explain_func=quantus.explain,\n",
    "    explain_func_kwargs={\"method\": \"GradientShap\", \"reduce_axes\": ()},\n",
    "    device=device\n",
    ")\n",
    "\n",
    "\n",
    "print(\n",
    "    f\"Randomisation: RandomLogit scores by Sixt et al., 2020.\\n\"\n",
    "    f\"\\n • SHAP = \",\n",
    "    RandomLogit_shap,\n",
    ")\n",
    "\n",
    "print(np.min(RandomLogit_shap))\n",
    "\n",
    "print(np.max(RandomLogit_shap))\n",
    "\n",
    "# Scale to 0-1\n",
    "RandomLogit_shap = (RandomLogit_shap - np.min(RandomLogit_shap)) / (\n",
    "    np.max(RandomLogit_shap) - np.min(RandomLogit_shap)\n",
    ")\n",
    "\n",
    "# Find mean\n",
    "RandomLogit_shap = np.mean(RandomLogit_shap)\n",
    "\n",
    "print(\n",
    "    f\"Randomisation: RandomLogit scores by Sixt et al., 2020.\\n\"\n",
    "    f\"\\n • SHAP = \",\n",
    "    RandomLogit_shap,\n",
    ")"
   ]
  },
  {
   "cell_type": "code",
   "execution_count": null,
   "metadata": {
    "colab": {
     "base_uri": "https://localhost:8080/",
     "referenced_widgets": [
      "b9b7908e6a6443c48ddac7617bd0e198",
      "94974f9e9e6041b09dfb26830c1d148e",
      "6a8eccdd73634518a236bd81c43c10e6",
      "fca4f1e55b3e435f879eee3bc526e950",
      "7b8e14ddb25c4505a3669346d47d9cd2",
      "133f82fd6d3e4e9cab4ac27a8cdccf75",
      "66be183afe1d4dbeb428ba2ec855977a",
      "2858ff2067e144d181bab40d05233ab7",
      "fac241c2b2aa4b02b6ea502442437073",
      "df0de210aa2c45588973fe4b62a29d7c",
      "aff8d5cd7f86455c9309756c414a7ae1"
     ]
    },
    "executionInfo": {
     "elapsed": 705,
     "status": "ok",
     "timestamp": 1749292735932,
     "user": {
      "displayName": "Hung Thanh Do",
      "userId": "14602254202234053172"
     },
     "user_tz": -120
    },
    "id": "g1HNPSCtcC0u",
    "outputId": "4196b545-737c-4846-a50a-17dc99182df7"
   },
   "outputs": [
    {
     "data": {
      "application/vnd.jupyter.widget-view+json": {
       "model_id": "b9b7908e6a6443c48ddac7617bd0e198",
       "version_major": 2,
       "version_minor": 0
      },
      "text/plain": [
       "  0%|          | 0/900 [00:00<?, ?it/s]"
      ]
     },
     "metadata": {},
     "output_type": "display_data"
    },
    {
     "name": "stdout",
     "output_type": "stream",
     "text": [
      "Randomisation: MPRT scores by Adebayo et al., 2018\n",
      "\n",
      " • SHAP =  0.5095814769555365\n"
     ]
    }
   ],
   "source": [
    "MPRT_shap = quantus.MPRT(\n",
    "    similarity_func=quantus.similarity_func.correlation_spearman,\n",
    "    return_average_correlation=True,\n",
    "    # return_aggregate=True, # find the mean of the complexity from all samples\n",
    "    aggregate_func=np.mean,\n",
    "    layer_order=\"independent\",\n",
    "    # similarity_func=quantus.ssim,\n",
    "    disable_warnings=True,\n",
    "    normalise=False,\n",
    "    abs=True, # take absolute values of attributions\n",
    "    display_progressbar=True,\n",
    ")(\n",
    "    model=wrapped_model,\n",
    "    x_batch=X_test_np,\n",
    "    y_batch=y_test_int,\n",
    "    # a_batch=shap_values,   # use SHAP attributions computed above\n",
    "    # explain_func=None      # explanations are precomputed\n",
    "    a_batch=None,\n",
    "    explain_func=quantus.explain,\n",
    "    explain_func_kwargs={\"method\": \"GradientShap\", \"reduce_axes\": ()},\n",
    "    device=device\n",
    ")\n",
    "\n",
    "# Scale to 0-1\n",
    "MPRT_shap = (MPRT_shap - np.min(MPRT_shap)) / (\n",
    "    np.max(MPRT_shap) - np.min(MPRT_shap)\n",
    ")\n",
    "\n",
    "# Find mean\n",
    "MPRT_shap = np.mean(MPRT_shap)\n",
    "\n",
    "print(\n",
    "    f\"Randomisation: MPRT scores by Adebayo et al., 2018\\n\"\n",
    "    f\"\\n • SHAP = \",\n",
    "    MPRT_shap,\n",
    ")"
   ]
  },
  {
   "cell_type": "markdown",
   "metadata": {
    "id": "ZWL66CUE8_02"
   },
   "source": [
    "### Summary (all)"
   ]
  },
  {
   "cell_type": "code",
   "execution_count": null,
   "metadata": {
    "colab": {
     "base_uri": "https://localhost:8080/"
    },
    "executionInfo": {
     "elapsed": 4,
     "status": "ok",
     "timestamp": 1749292774165,
     "user": {
      "displayName": "Hung Thanh Do",
      "userId": "14602254202234053172"
     },
     "user_tz": -120
    },
    "id": "eWyQf0EScC0v",
    "outputId": "80f8e4eb-6ef3-4726-918d-0365b2c34714"
   },
   "outputs": [
    {
     "name": "stderr",
     "output_type": "stream",
     "text": [
      "<ipython-input-105-acd3cc85ebb0>:12: DeprecationWarning: Conversion of an array with ndim > 0 to a scalar is deprecated, and will error in future. Ensure you extract a single element from your array before performing this operation. (Deprecated NumPy 1.25.)\n",
      "  Sparseness_shap = round(float(Sparseness_shap), 4)\n"
     ]
    }
   ],
   "source": [
    "# Convert from list to int\n",
    "Complexity_shap = np.float64(Complexity_shap)\n",
    "Sparseness_shap = np.float64(Sparseness_shap)\n",
    "MPRT_shap = np.float64(MPRT_shap)\n",
    "RandomLogit_shap = np.float64(RandomLogit_shap)\n",
    "FaithfulnessEstimate_shap = np.float64(FaithfulnessEstimate_shap)\n",
    "FaithfulnessCorrelation_shap = np.float64(FaithfulnessCorrelation_shap)\n",
    "LocalLipschitzEstimate_shap = np.float64(LocalLipschitzEstimate_shap)\n",
    "\n",
    "# Rounding one by one\n",
    "Complexity_shap = round(float(Complexity_shap), 4)\n",
    "Sparseness_shap = round(float(Sparseness_shap), 4)\n",
    "MPRT_shap = round(float(MPRT_shap), 4)\n",
    "RandomLogit_shap = round(float(RandomLogit_shap), 4)\n",
    "FaithfulnessEstimate_shap = round(float(FaithfulnessEstimate_shap), 4)\n",
    "FaithfulnessCorrelation_shap = round(float(FaithfulnessCorrelation_shap), 4)\n",
    "LocalLipschitzEstimate_shap = round(float(LocalLipschitzEstimate_shap), 4)"
   ]
  },
  {
   "cell_type": "code",
   "execution_count": null,
   "metadata": {
    "colab": {
     "base_uri": "https://localhost:8080/"
    },
    "executionInfo": {
     "elapsed": 279,
     "status": "ok",
     "timestamp": 1749292776325,
     "user": {
      "displayName": "Hung Thanh Do",
      "userId": "14602254202234053172"
     },
     "user_tz": -120
    },
    "id": "Efr-b8r0cC0v",
    "outputId": "975eb143-2d21-4b82-c078-ced6e706fa23"
   },
   "outputs": [
    {
     "data": {
      "text/markdown": [
       "#### Explanability scores"
      ],
      "text/plain": [
       "<IPython.core.display.Markdown object>"
      ]
     },
     "metadata": {},
     "output_type": "display_data"
    },
    {
     "name": "stdout",
     "output_type": "stream",
     "text": [
      "Complexity: Complexity by Bhatt et al., 2020.\n",
      "\n",
      " • SHAP =  0.7592\n",
      "Complexity: Sparseness by Chalasani et al., 2020.\n",
      "\n",
      " • SHAP =  0.7346\n",
      "Faithfulness: Faithfulness Estimate by Alvarez-Melis et al., 2018.\n",
      "\n",
      " • SHAP =  0.3237\n",
      "Faithfulness: Faithfulness Correlation by Bhatt et al., 2020.\n",
      "\n",
      " • SHAP =  0.4785\n",
      "Robustness: Local Lipschitz Estimate by Alvarez-Melis et al., 2018.\n",
      "\n",
      " • SHAP =  0.3288\n",
      "Randomisation: MPRT scores by Adebayo et al., 2018\n",
      "\n",
      " • SHAP =  0.5096\n",
      "Randomisation: RandomLogit scores by Sixt et al., 2020.\n",
      "\n",
      " • SHAP =  0.556\n"
     ]
    }
   ],
   "source": [
    "display(Markdown(\"#### Explanability scores\"))\n",
    "\n",
    "# Complexity: Complexity\n",
    "print(\n",
    "    f\"Complexity: Complexity by Bhatt et al., 2020.\\n\"\n",
    "    f\"\\n • SHAP = \",\n",
    "    Complexity_shap,\n",
    ")\n",
    "\n",
    "# Complexity: Sparseness\n",
    "print(\n",
    "    f\"Complexity: Sparseness by Chalasani et al., 2020.\\n\"\n",
    "    f\"\\n • SHAP = \",\n",
    "    Sparseness_shap,\n",
    ")\n",
    "\n",
    "# Faithfulness: Faithfulness Estimate\n",
    "print(\n",
    "    f\"Faithfulness: Faithfulness Estimate by Alvarez-Melis et al., 2018.\\n\"\n",
    "    f\"\\n • SHAP = \",\n",
    "    FaithfulnessEstimate_shap,\n",
    ")\n",
    "\n",
    "# Faithfulness: Faithfulness Correlation\n",
    "print(\n",
    "    f\"Faithfulness: Faithfulness Correlation by Bhatt et al., 2020.\\n\"\n",
    "    f\"\\n • SHAP = \",\n",
    "    FaithfulnessCorrelation_shap,\n",
    ")\n",
    "\n",
    "# Robustness: Local Lipschitz Estimate\n",
    "print(\n",
    "    f\"Robustness: Local Lipschitz Estimate by Alvarez-Melis et al., 2018.\\n\"\n",
    "    f\"\\n • SHAP = \",\n",
    "    LocalLipschitzEstimate_shap,\n",
    ")\n",
    "\n",
    "# Randomisation: MPRT\n",
    "print(\n",
    "    f\"Randomisation: MPRT scores by Adebayo et al., 2018\\n\"\n",
    "    f\"\\n • SHAP = \",\n",
    "    MPRT_shap,\n",
    ")\n",
    "\n",
    "# Randomisation: RandomLogit\n",
    "print(\n",
    "    f\"Randomisation: RandomLogit scores by Sixt et al., 2020.\\n\"\n",
    "    f\"\\n • SHAP = \",\n",
    "    RandomLogit_shap,\n",
    ")"
   ]
  },
  {
   "cell_type": "markdown",
   "metadata": {
    "id": "BtlixmvE9Ez2"
   },
   "source": [
    "### Summary"
   ]
  },
  {
   "cell_type": "code",
   "execution_count": null,
   "metadata": {
    "colab": {
     "base_uri": "https://localhost:8080/",
     "height": 196
    },
    "executionInfo": {
     "elapsed": 63,
     "status": "ok",
     "timestamp": 1749292778906,
     "user": {
      "displayName": "Hung Thanh Do",
      "userId": "14602254202234053172"
     },
     "user_tz": -120
    },
    "id": "rPnTGSIqcC0w",
    "outputId": "2229dd87-0230-454e-e13e-97617c8c37c4"
   },
   "outputs": [
    {
     "data": {
      "text/markdown": [
       "#### Explanability scores (grouped)"
      ],
      "text/plain": [
       "<IPython.core.display.Markdown object>"
      ]
     },
     "metadata": {},
     "output_type": "display_data"
    },
    {
     "name": "stdout",
     "output_type": "stream",
     "text": [
      "Complexity\n",
      " • SHAP =  0.7469\n",
      "Faithfulness\n",
      " • SHAP =  0.4011\n",
      "Robustness\n",
      " • SHAP =  0.3288\n",
      "Randomisation\n",
      " • SHAP =  0.5328\n"
     ]
    }
   ],
   "source": [
    "display(Markdown(\"#### Explanability scores (grouped)\"))\n",
    "\n",
    "# Complexity: Complexity and Sparseness\n",
    "print(\n",
    "    f\"Complexity\"\n",
    "    f\"\\n • SHAP = \",\n",
    "    round(float((Complexity_shap+Sparseness_shap)/2), 4),\n",
    ")\n",
    "\n",
    "# Faithfulness: Faithfulness Estimate and Faithfulness Correlation\n",
    "print(\n",
    "    f\"Faithfulness\"\n",
    "    f\"\\n • SHAP = \",\n",
    "    round(float((FaithfulnessEstimate_shap+FaithfulnessCorrelation_shap)/2), 4),\n",
    ")\n",
    "\n",
    "# Robustness: Local Lipschitz Estimate\n",
    "print(\n",
    "    f\"Robustness\"\n",
    "    f\"\\n • SHAP = \",\n",
    "    round(float((LocalLipschitzEstimate_shap)), 4),\n",
    ")\n",
    "\n",
    "# Randomisation: MPRT and RandomLogit\n",
    "print(\n",
    "    f\"Randomisation\"\n",
    "    f\"\\n • SHAP = \",\n",
    "    round(float((MPRT_shap+RandomLogit_shap)/2), 4)\n",
    ")"
   ]
  }
 ],
 "metadata": {
  "accelerator": "GPU",
  "colab": {
   "collapsed_sections": [
    "Is29vjDMguUu",
    "Jixecr0vgmsU",
    "aC5ZZqGOhTyj",
    "ww-ihnSUcCz2",
    "8PJTcdufcCz8",
    "fu9sqMIgcCz-",
    "9WQFnpP-BKXf",
    "8LOjCrHHwbOB",
    "Ks22oBz4slUV",
    "P9EjvXsikvxQ",
    "1gJjAIf6wdn3",
    "fdDKIkVy1VIZ",
    "GfVfYd_ZcC0Q",
    "QwRz19sNcC0S",
    "Y6-sLOD-zBTv",
    "IRoRVOmvcC0d",
    "UgJ9XJAWDev3",
    "Ab6FGb-TZmeE",
    "g5RYkqqJZtG5",
    "2eb3nHmUZvCf",
    "67Vzn6iuYS2q",
    "ski0Oztn50hc",
    "BWBPPYE99hYo",
    "RoNdVZAX9hYp",
    "-PTNaUfh9hYp",
    "qoAZscdR9hYq",
    "3sjk8HjT8wwx",
    "ZIn5CdEP80QI",
    "JWmS1gRg880O",
    "ZWL66CUE8_02"
   ],
   "gpuType": "T4",
   "provenance": []
  },
  "kernelspec": {
   "display_name": "Python 3",
   "name": "python3"
  },
  "language_info": {
   "codemirror_mode": {
    "name": "ipython",
    "version": 3
   },
   "file_extension": ".py",
   "mimetype": "text/x-python",
   "name": "python",
   "nbconvert_exporter": "python",
   "pygments_lexer": "ipython3",
   "version": "3.11.11"
  }
 },
 "nbformat": 4,
 "nbformat_minor": 0
}
