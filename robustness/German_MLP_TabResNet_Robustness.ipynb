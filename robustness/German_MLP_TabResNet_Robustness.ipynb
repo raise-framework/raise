{
 "cells": [
  {
   "cell_type": "code",
   "execution_count": 1,
   "metadata": {},
   "outputs": [
    {
     "name": "stderr",
     "output_type": "stream",
     "text": [
      "c:\\Users\\hungd\\anaconda3\\envs\\fair-ai-env\\lib\\site-packages\\tqdm\\auto.py:21: TqdmWarning: IProgress not found. Please update jupyter and ipywidgets. See https://ipywidgets.readthedocs.io/en/stable/user_install.html\n",
      "  from .autonotebook import tqdm as notebook_tqdm\n"
     ]
    }
   ],
   "source": [
    "import torch\n",
    "import torch.nn as nn\n",
    "import torch.optim as optim\n",
    "import numpy as np\n",
    "import pandas as pd\n",
    "import shap\n",
    "from sklearn.model_selection import train_test_split\n",
    "from sklearn.metrics import accuracy_score\n",
    "from typing import Optional\n",
    "from IPython.display import Markdown, display, clear_output\n",
    "from aif360.sklearn.datasets import fetch_german\n"
   ]
  },
  {
   "cell_type": "markdown",
   "metadata": {},
   "source": [
    "# Data"
   ]
  },
  {
   "cell_type": "markdown",
   "metadata": {},
   "source": [
    "## Data Loading"
   ]
  },
  {
   "cell_type": "code",
   "execution_count": 2,
   "metadata": {},
   "outputs": [],
   "source": [
    "# ---------------------------\n",
    "# Data Loading and Preparation\n",
    "# ---------------------------\n",
    "X, y = fetch_german()\n",
    "\n",
    "X.reset_index(drop=True, inplace=True)\n",
    "y.reset_index(drop=True, inplace=True)\n",
    "\n",
    "# Binarize labels\n",
    "y = y.map({'good': 1, 'bad': 0})"
   ]
  },
  {
   "cell_type": "code",
   "execution_count": 3,
   "metadata": {},
   "outputs": [],
   "source": [
    "y = y.to_numpy(dtype=int)"
   ]
  },
  {
   "cell_type": "code",
   "execution_count": 4,
   "metadata": {},
   "outputs": [],
   "source": [
    "# Add binary_age column based on the condition, value = aged if age >= 25 else young\n",
    "X['age_group'] = X['age'].apply(lambda x: 'aged' if x >= 25 else 'young')"
   ]
  },
  {
   "cell_type": "markdown",
   "metadata": {},
   "source": [
    "## Preprocessing"
   ]
  },
  {
   "cell_type": "markdown",
   "metadata": {},
   "source": [
    "### Label Encoding"
   ]
  },
  {
   "cell_type": "code",
   "execution_count": 5,
   "metadata": {},
   "outputs": [],
   "source": [
    "X_copy = X.copy()\n",
    "categorical_cols = X_copy.select_dtypes(include=['object', 'category']).columns"
   ]
  },
  {
   "cell_type": "code",
   "execution_count": 6,
   "metadata": {},
   "outputs": [
    {
     "name": "stdout",
     "output_type": "stream",
     "text": [
      "\n",
      "Encoded mapping for 'checking_status':\n",
      "  0<=X<200 → 0\n",
      "  <0 → 1\n",
      "  >=200 → 2\n",
      "  no checking → 3\n",
      "\n",
      "Encoded mapping for 'credit_history':\n",
      "  all paid → 0\n",
      "  critical/other existing credit → 1\n",
      "  delayed previously → 2\n",
      "  existing paid → 3\n",
      "  no credits/all paid → 4\n",
      "\n",
      "Encoded mapping for 'purpose':\n",
      "  business → 0\n",
      "  domestic appliance → 1\n",
      "  education → 2\n",
      "  furniture/equipment → 3\n",
      "  new car → 4\n",
      "  other → 5\n",
      "  radio/tv → 6\n",
      "  repairs → 7\n",
      "  retraining → 8\n",
      "  used car → 9\n",
      "\n",
      "Encoded mapping for 'savings_status':\n",
      "  100<=X<500 → 0\n",
      "  500<=X<1000 → 1\n",
      "  <100 → 2\n",
      "  >=1000 → 3\n",
      "  no known savings → 4\n",
      "\n",
      "Encoded mapping for 'employment':\n",
      "  1<=X<4 → 0\n",
      "  4<=X<7 → 1\n",
      "  <1 → 2\n",
      "  >=7 → 3\n",
      "  unemployed → 4\n",
      "\n",
      "Encoded mapping for 'other_parties':\n",
      "  co applicant → 0\n",
      "  guarantor → 1\n",
      "  none → 2\n",
      "\n",
      "Encoded mapping for 'property_magnitude':\n",
      "  car → 0\n",
      "  life insurance → 1\n",
      "  no known property → 2\n",
      "  real estate → 3\n",
      "\n",
      "Encoded mapping for 'other_payment_plans':\n",
      "  bank → 0\n",
      "  none → 1\n",
      "  stores → 2\n",
      "\n",
      "Encoded mapping for 'housing':\n",
      "  for free → 0\n",
      "  own → 1\n",
      "  rent → 2\n",
      "\n",
      "Encoded mapping for 'job':\n",
      "  high qualif/self emp/mgmt → 0\n",
      "  skilled → 1\n",
      "  unemp/unskilled non res → 2\n",
      "  unskilled resident → 3\n",
      "\n",
      "Encoded mapping for 'own_telephone':\n",
      "  none → 0\n",
      "  yes → 1\n",
      "\n",
      "Encoded mapping for 'foreign_worker':\n",
      "  no → 0\n",
      "  yes → 1\n",
      "\n",
      "Encoded mapping for 'sex':\n",
      "  female → 0\n",
      "  male → 1\n",
      "\n",
      "Encoded mapping for 'marital_status':\n",
      "  div/dep/mar → 0\n",
      "  div/sep → 1\n",
      "  mar/wid → 2\n",
      "  single → 3\n",
      "\n",
      "Encoded mapping for 'age_group':\n",
      "  aged → 0\n",
      "  young → 1\n"
     ]
    }
   ],
   "source": [
    "from sklearn.preprocessing import LabelEncoder\n",
    "label_mappings = {}\n",
    "# Apply LabelEncoder to each column and store mappings\n",
    "for col in categorical_cols:\n",
    "    le = LabelEncoder()\n",
    "    X_copy[col] = le.fit_transform(X_copy[col])\n",
    "    label_mappings[col] = dict(zip(le.classes_, le.transform(le.classes_)))\n",
    "\n",
    "# Show mappings\n",
    "for col, mapping in label_mappings.items():\n",
    "    print(f\"\\nEncoded mapping for '{col}':\")\n",
    "    for original, encoded in mapping.items():\n",
    "        print(f\"  {original} → {encoded}\")"
   ]
  },
  {
   "cell_type": "code",
   "execution_count": 7,
   "metadata": {},
   "outputs": [],
   "source": [
    "X_encoded = X_copy.copy()"
   ]
  },
  {
   "cell_type": "markdown",
   "metadata": {},
   "source": [
    "### Splitting anf formatting"
   ]
  },
  {
   "cell_type": "code",
   "execution_count": 8,
   "metadata": {},
   "outputs": [],
   "source": [
    "random_state = 7"
   ]
  },
  {
   "cell_type": "code",
   "execution_count": 9,
   "metadata": {},
   "outputs": [],
   "source": [
    "##  Split into training and test sets (we use test for evaluation and explanations)\n",
    "\n",
    "X_train, X_test, y_train, y_test = train_test_split(X_encoded, y, test_size=0.1, random_state=random_state)"
   ]
  },
  {
   "cell_type": "code",
   "execution_count": 10,
   "metadata": {},
   "outputs": [
    {
     "name": "stdout",
     "output_type": "stream",
     "text": [
      "X_train shape: (900, 22)\n",
      "X_test shape: (100, 22)\n",
      "y_train shape: (900,)\n",
      "y_test shape: (100,)\n"
     ]
    }
   ],
   "source": [
    "print(\"X_train shape:\", X_train.shape)\n",
    "print(\"X_test shape:\", X_test.shape)\n",
    "print(\"y_train shape:\", y_train.shape)\n",
    "print(\"y_test shape:\", y_test.shape)"
   ]
  },
  {
   "cell_type": "code",
   "execution_count": 11,
   "metadata": {},
   "outputs": [],
   "source": [
    "# Convert to numpy arrays\n",
    "X_train_np = X_train.values.astype(np.float32)\n",
    "X_test_np = X_test.values.astype(np.float32)\n",
    "\n",
    "# For CrossEntropyLoss, labels must be integers.\n",
    "y_train_np = y_train.astype(np.int64).values if isinstance(y_train, pd.Series) else y_train.astype(np.int64)\n",
    "y_test_np = y_test.astype(np.int64).values if isinstance(y_test, pd.Series) else y_test.astype(np.int64)\n",
    "\n",
    "# Create PyTorch tensors\n",
    "X_train_t = torch.from_numpy(X_train_np)\n",
    "y_train_t = torch.from_numpy(y_train_np)\n",
    "X_test_t = torch.from_numpy(X_test_np)\n",
    "y_test_t = torch.from_numpy(y_test_np)"
   ]
  },
  {
   "cell_type": "markdown",
   "metadata": {},
   "source": [
    "# Loading model"
   ]
  },
  {
   "cell_type": "markdown",
   "metadata": {},
   "source": [
    "## MLP"
   ]
  },
  {
   "cell_type": "markdown",
   "metadata": {},
   "source": [
    "### MLP model"
   ]
  },
  {
   "cell_type": "code",
   "execution_count": 12,
   "metadata": {},
   "outputs": [],
   "source": [
    "INPUT_DIM     = X_test_np.shape[1]\n",
    "NUM_CLASSES   = 2\n",
    "HIDDEN_DIM    = 50\n",
    "LEARNING_RATE = 1e-3\n",
    "\n",
    "torch.manual_seed(random_state)\n",
    "\n",
    "class MLP(nn.Module):\n",
    "    def __init__(self, input_dim, hidden_dim, output_dim):\n",
    "        super(MLP, self).__init__()\n",
    "        self.fc1 = nn.Linear(input_dim, hidden_dim)\n",
    "        self.relu = nn.ReLU()\n",
    "        self.fc2 = nn.Linear(hidden_dim, output_dim)\n",
    "        # Initialize weights uniformly in [-1/√fan_in, +1/√fan_in]\n",
    "        nn.init.uniform_(self.fc1.weight,\n",
    "                         a=-1.0 / (input_dim**0.5),\n",
    "                         b=+1.0 / (input_dim**0.5))\n",
    "        nn.init.zeros_(self.fc1.bias)\n",
    "        nn.init.uniform_(self.fc2.weight,\n",
    "                         a=-1.0 / (hidden_dim**0.5),\n",
    "                         b=+1.0 / (hidden_dim**0.5))\n",
    "        nn.init.zeros_(self.fc2.bias)\n",
    "\n",
    "    def forward(self, x):\n",
    "        x = self.fc1(x)\n",
    "        x = self.relu(x)\n",
    "        x = self.fc2(x)\n",
    "        return x  # raw logits\n",
    "\n",
    "# Instantiate and move to device\n",
    "device = torch.device(\"cuda\" if torch.cuda.is_available() else \"cpu\")\n",
    "mlp_model = MLP(INPUT_DIM, HIDDEN_DIM, NUM_CLASSES).to(device)\n",
    "\n",
    "criterion = nn.CrossEntropyLoss()\n",
    "optimizer = optim.Adam(mlp_model.parameters(), lr=LEARNING_RATE, weight_decay=1e-5)"
   ]
  },
  {
   "cell_type": "markdown",
   "metadata": {},
   "source": [
    "### Eval"
   ]
  },
  {
   "cell_type": "code",
   "execution_count": 13,
   "metadata": {},
   "outputs": [
    {
     "name": "stderr",
     "output_type": "stream",
     "text": [
      "C:\\Users\\hungd\\AppData\\Local\\Temp\\ipykernel_30272\\3047630750.py:2: FutureWarning: You are using `torch.load` with `weights_only=False` (the current default value), which uses the default pickle module implicitly. It is possible to construct malicious pickle data which will execute arbitrary code during unpickling (See https://github.com/pytorch/pytorch/blob/main/SECURITY.md#untrusted-models for more details). In a future release, the default value for `weights_only` will be flipped to `True`. This limits the functions that could be executed during unpickling. Arbitrary objects will no longer be allowed to be loaded via this mode unless they are explicitly allowlisted by the user via `torch.serialization.add_safe_globals`. We recommend you start setting `weights_only=True` for any use case where you don't have full control of the loaded file. Please open an issue on GitHub for any issues related to this experimental feature.\n",
      "  mlp_model.load_state_dict(torch.load(\"saved_model/mlp_german.pth\", map_location=torch.device('cpu')))\n"
     ]
    },
    {
     "data": {
      "text/plain": [
       "<All keys matched successfully>"
      ]
     },
     "execution_count": 13,
     "metadata": {},
     "output_type": "execute_result"
    }
   ],
   "source": [
    "# Load the model\n",
    "mlp_model.load_state_dict(torch.load(\"saved_model/mlp_german.pth\", map_location=torch.device('cpu')))"
   ]
  },
  {
   "cell_type": "code",
   "execution_count": 14,
   "metadata": {},
   "outputs": [
    {
     "name": "stdout",
     "output_type": "stream",
     "text": [
      "\n",
      "Test Accuracy: 0.8000\n"
     ]
    }
   ],
   "source": [
    "X_test_t = X_test_t.to(device)\n",
    "y_test_t = y_test_t.to(device)\n",
    "mlp_model.eval()\n",
    "with torch.no_grad():\n",
    "    logits = mlp_model(X_test_t)\n",
    "    probs = torch.softmax(logits, dim=1)\n",
    "    preds = torch.argmax(probs, dim=1)\n",
    "    accuracy = (preds == y_test_t).float().mean().item()\n",
    "    print(f\"\\nTest Accuracy: {accuracy:.4f}\")"
   ]
  },
  {
   "cell_type": "markdown",
   "metadata": {},
   "source": [
    "## TabResNet"
   ]
  },
  {
   "cell_type": "markdown",
   "metadata": {},
   "source": [
    "### TabResNet model"
   ]
  },
  {
   "cell_type": "code",
   "execution_count": 15,
   "metadata": {},
   "outputs": [],
   "source": [
    "# ---------------------------\n",
    "# Model Definition: TabResNet (using residual blocks)\n",
    "# ---------------------------\n",
    "class TabResBlock(nn.Module):\n",
    "    def __init__(self, d_block, d_hidden, dropout1, dropout2):\n",
    "        super(TabResBlock, self).__init__()\n",
    "        # Sub-block 1\n",
    "        self.bn1 = nn.BatchNorm1d(d_block)\n",
    "        self.ln1 = nn.Linear(d_block, d_hidden)\n",
    "        self.relu1 = nn.ReLU()\n",
    "        self.drop1 = nn.Dropout(dropout1)\n",
    "        # Sub-block 2\n",
    "        self.ln2 = nn.Linear(d_hidden, d_block)\n",
    "        self.drop2 = nn.Dropout(dropout2)\n",
    "\n",
    "    def forward(self, x):\n",
    "        identity = x\n",
    "        out = self.bn1(x)\n",
    "        out = self.ln1(out)\n",
    "        out = self.relu1(out)\n",
    "        out = self.drop1(out)\n",
    "        out = self.ln2(out)\n",
    "        out = self.drop2(out)\n",
    "        out += identity\n",
    "        return out\n",
    "\n",
    "class TabResNet(nn.Module):\n",
    "    def __init__(\n",
    "        self,\n",
    "        d_in: int,\n",
    "        d_out: Optional[int],\n",
    "        n_blocks: int,\n",
    "        d_block: int,\n",
    "        d_hidden: Optional[int],\n",
    "        d_hidden_multiplier: Optional[float] = 2,\n",
    "        dropout1: float = 0.2,\n",
    "        dropout2: float = 0\n",
    "    ):\n",
    "        \"\"\"\n",
    "        Args:\n",
    "            d_in: Number of input features.\n",
    "            d_out: Number of outputs (set to 2 for binary classification).\n",
    "            n_blocks: Number of residual blocks.\n",
    "            d_block: Block width (input and output dimension of each block).\n",
    "            d_hidden: Hidden dimension inside a block.\n",
    "        \"\"\"\n",
    "        super(TabResNet, self).__init__()\n",
    "        # Project input to block width\n",
    "        self.input_projection = nn.Linear(d_in, d_block)\n",
    "        # Residual blocks\n",
    "        self.resblocks = nn.ModuleList([\n",
    "            TabResBlock(d_block, d_hidden, dropout1, dropout2) for _ in range(n_blocks)\n",
    "        ])\n",
    "        # Prediction block: outputs logits for d_out classes.\n",
    "        self.predblock = (\n",
    "            nn.Sequential(\n",
    "                nn.BatchNorm1d(d_block),\n",
    "                nn.ReLU(),\n",
    "                nn.Linear(d_block, d_out)\n",
    "            ) if d_out is not None else None\n",
    "        )\n",
    "\n",
    "    def forward(self, x):\n",
    "        x = self.input_projection(x)\n",
    "        for block in self.resblocks:\n",
    "            x = block(x)\n",
    "        if self.predblock is not None:\n",
    "            x = self.predblock(x)\n",
    "        return x  # returns logits\n",
    "\n",
    "\n",
    "# Instantiate model; input dimension equals the number of columns in X_test_np.\n",
    "d_in = X_test_np.shape[1]\n",
    "model = TabResNet(\n",
    "    d_in=d_in,\n",
    "    d_out=2,       # Two outputs for binary classification.\n",
    "    n_blocks=2,\n",
    "    d_block=16,\n",
    "    d_hidden=32,\n",
    "    dropout1=0.2,\n",
    "    dropout2=0.05\n",
    "    )\n",
    "\n",
    "device = torch.device(\"cuda\" if torch.cuda.is_available() else \"cpu\")\n",
    "model = model.to(device)\n",
    "\n",
    "criterion = nn.CrossEntropyLoss()\n",
    "optimizer = optim.Adam(model.parameters(), lr=1e-3)"
   ]
  },
  {
   "cell_type": "markdown",
   "metadata": {},
   "source": [
    "### Eval"
   ]
  },
  {
   "cell_type": "code",
   "execution_count": 16,
   "metadata": {},
   "outputs": [
    {
     "name": "stderr",
     "output_type": "stream",
     "text": [
      "C:\\Users\\hungd\\AppData\\Local\\Temp\\ipykernel_30272\\3945480440.py:2: FutureWarning: You are using `torch.load` with `weights_only=False` (the current default value), which uses the default pickle module implicitly. It is possible to construct malicious pickle data which will execute arbitrary code during unpickling (See https://github.com/pytorch/pytorch/blob/main/SECURITY.md#untrusted-models for more details). In a future release, the default value for `weights_only` will be flipped to `True`. This limits the functions that could be executed during unpickling. Arbitrary objects will no longer be allowed to be loaded via this mode unless they are explicitly allowlisted by the user via `torch.serialization.add_safe_globals`. We recommend you start setting `weights_only=True` for any use case where you don't have full control of the loaded file. Please open an issue on GitHub for any issues related to this experimental feature.\n",
      "  model.load_state_dict(torch.load(\"saved_model/tabresnet_german.pth\", map_location=torch.device('cpu')))\n"
     ]
    },
    {
     "data": {
      "text/plain": [
       "<All keys matched successfully>"
      ]
     },
     "execution_count": 16,
     "metadata": {},
     "output_type": "execute_result"
    }
   ],
   "source": [
    "# Load the model\n",
    "model.load_state_dict(torch.load(\"saved_model/tabresnet_german.pth\", map_location=torch.device('cpu')))"
   ]
  },
  {
   "cell_type": "code",
   "execution_count": 17,
   "metadata": {},
   "outputs": [
    {
     "name": "stdout",
     "output_type": "stream",
     "text": [
      "\n",
      "Test Accuracy: 0.8200\n"
     ]
    }
   ],
   "source": [
    "X_test_t = X_test_t.to(device)\n",
    "y_test_t = y_test_t.to(device)\n",
    "model.eval()\n",
    "with torch.no_grad():\n",
    "    logits = model(X_test_t)\n",
    "    probs = torch.softmax(logits, dim=1)\n",
    "    preds = torch.argmax(probs, dim=1)\n",
    "    accuracy = (preds == y_test_t).float().mean().item()\n",
    "    print(f\"\\nTest Accuracy: {accuracy:.4f}\")"
   ]
  },
  {
   "cell_type": "markdown",
   "metadata": {},
   "source": [
    "# Robustness"
   ]
  },
  {
   "cell_type": "markdown",
   "metadata": {},
   "source": [
    "## Dependencies"
   ]
  },
  {
   "cell_type": "code",
   "execution_count": 18,
   "metadata": {},
   "outputs": [],
   "source": [
    "from art.estimators.classification import PyTorchClassifier\n",
    "from art.attacks.evasion import FastGradientMethod\n",
    "from art.metrics import clever_u, clever_t, loss_sensitivity\n",
    "from tqdm import tqdm"
   ]
  },
  {
   "cell_type": "code",
   "execution_count": 19,
   "metadata": {},
   "outputs": [],
   "source": [
    "device = 'cuda' if torch.cuda.is_available() else 'cpu'\n",
    "clip_values = (X_test_np.min(), X_test_np.max())\n",
    "\n",
    "num_samples = X_test_np.shape[0]"
   ]
  },
  {
   "cell_type": "markdown",
   "metadata": {},
   "source": [
    "## MLP"
   ]
  },
  {
   "cell_type": "markdown",
   "metadata": {},
   "source": [
    "### Wrapped Model"
   ]
  },
  {
   "cell_type": "code",
   "execution_count": 20,
   "metadata": {},
   "outputs": [],
   "source": [
    "# Create ART classifier for TabResNet\n",
    "mlp_art_classifier = PyTorchClassifier(\n",
    "    model=mlp_model,\n",
    "    loss=criterion,\n",
    "    input_shape=X_test_np.shape[1],\n",
    "    nb_classes=2,\n",
    "    optimizer=optimizer,\n",
    "    clip_values=clip_values,\n",
    "    device_type=device\n",
    ")\n",
    "\n",
    "# Train the ART classifier with TabResNet\n",
    "# art_classifier.fit(X_train_np, y_train_np, batch_size=64, nb_epochs=100, verbose=True)"
   ]
  },
  {
   "cell_type": "markdown",
   "metadata": {},
   "source": [
    "### Accuraacy Gap"
   ]
  },
  {
   "cell_type": "code",
   "execution_count": 30,
   "metadata": {},
   "outputs": [
    {
     "name": "stdout",
     "output_type": "stream",
     "text": [
      "Accuracy on benign test examples: 0.8000\n",
      "Accuracy on adversarial test examples: 0.7500\n",
      "Accuracy difference: 0.0500\n"
     ]
    }
   ],
   "source": [
    "predictions = mlp_art_classifier.predict(X_test_t)\n",
    "accuracy = np.sum(np.argmax(predictions, axis=1) == y_test_np) / len(y_test_np)\n",
    "print(f\"Accuracy on benign test examples: {accuracy:.4f}\")\n",
    "\n",
    "# Generate adversarial test examples\n",
    "attack = FastGradientMethod(estimator=mlp_art_classifier, eps=0.3)\n",
    "x_test_adv = attack.generate(x=X_test_np)\n",
    "\n",
    "# Evaluate the ART classifier on adversarial test examples\n",
    "\n",
    "predictions = mlp_art_classifier.predict(x_test_adv)\n",
    "accuracy_adv = np.sum(np.argmax(predictions, axis=1) == y_test_np) / len(y_test_np)\n",
    "print(f\"Accuracy on adversarial test examples: {accuracy_adv:.4f}\")\n",
    "\n",
    "print(f\"Accuracy difference: {accuracy - accuracy_adv:.4f}\")"
   ]
  },
  {
   "cell_type": "markdown",
   "metadata": {},
   "source": [
    "### CLEVER-u"
   ]
  },
  {
   "cell_type": "markdown",
   "metadata": {},
   "source": [
    "Clever-u Score:\n",
    "\n",
    "score is a lower bound -> minimum perturbation size required to change the model's output to any wrong label\n",
    "\n",
    "“directional probes” (here 10*20=200) -> to get a reliable worst‐case slope estimate\n",
    "\n",
    "A higher score -> stronger local robustness\n",
    "\n",
    "range value = [0.0, radius]"
   ]
  },
  {
   "cell_type": "code",
   "execution_count": 59,
   "metadata": {},
   "outputs": [
    {
     "name": "stdout",
     "output_type": "stream",
     "text": [
      "Number of samples in test set: 100\n"
     ]
    },
    {
     "name": "stderr",
     "output_type": "stream",
     "text": [
      "Computing CLEVER-U: 100%|██████████| 100/100 [00:02<00:00, 34.40it/s]"
     ]
    },
    {
     "name": "stdout",
     "output_type": "stream",
     "text": [
      "CLEVER-U score for MLP: 0.1993\n"
     ]
    },
    {
     "name": "stderr",
     "output_type": "stream",
     "text": [
      "\n"
     ]
    }
   ],
   "source": [
    "\n",
    "clever_scores = []\n",
    "num_samples = X_test_np.shape[0]\n",
    "print(f\"Number of samples in test set: {num_samples}\")\n",
    "# for sample in X_test_np[:num_samples]: \n",
    "for sample in tqdm(X_test_np[:num_samples], desc=\"Computing CLEVER-U\"):\n",
    "    # sample is shape (D,) → np.array([sample]) → (1, D)\n",
    "    c = clever_u(\n",
    "        classifier=mlp_art_classifier,\n",
    "        x=sample,\n",
    "        nb_batches=20,\n",
    "        batch_size=10,             # you only have one sample in the “batch”\n",
    "        norm=2,\n",
    "        radius=0.2,\n",
    "        verbose=False\n",
    "    )\n",
    "    clever_scores.append(c)\n",
    "\n",
    "clever = float(np.mean(clever_scores))\n",
    "print(f\"CLEVER-U score for MLP: {clever:.4f}\")"
   ]
  },
  {
   "cell_type": "markdown",
   "metadata": {},
   "source": [
    "### Loss Sensitivity"
   ]
  },
  {
   "cell_type": "markdown",
   "metadata": {},
   "source": [
    "Loss Sensitivity\n",
    "\n",
    "A **higher** sensitivity -> small input perturbations can cause **larger** changes in the loss -> indicating a \"steeper\" or potentially **less** robust local region"
   ]
  },
  {
   "cell_type": "code",
   "execution_count": 58,
   "metadata": {},
   "outputs": [
    {
     "name": "stdout",
     "output_type": "stream",
     "text": [
      "Average loss sensitivity over test set: 0.001820\n"
     ]
    }
   ],
   "source": [
    "num_classes = 2\n",
    "# Convert integer labels to one-hot:\n",
    "y_test_onehot = np.eye(num_classes)[y_test_np]\n",
    "\n",
    "sensitivity = loss_sensitivity(\n",
    "    classifier=mlp_art_classifier,\n",
    "    x=X_test_np,\n",
    "    y=y_test_onehot\n",
    ")\n",
    "\n",
    "print(f\"Average loss sensitivity over test set: {sensitivity:.6f}\")"
   ]
  },
  {
   "cell_type": "markdown",
   "metadata": {},
   "source": [
    "## TabResNet"
   ]
  },
  {
   "cell_type": "markdown",
   "metadata": {},
   "source": [
    "### Wrapped Model"
   ]
  },
  {
   "cell_type": "code",
   "execution_count": 22,
   "metadata": {},
   "outputs": [],
   "source": [
    "# Create ART classifier for TabResNet\n",
    "art_classifier = PyTorchClassifier(\n",
    "    model=model,\n",
    "    loss=criterion,\n",
    "    input_shape=X_test_np.shape[1],\n",
    "    nb_classes=2,\n",
    "    optimizer=optimizer,\n",
    "    clip_values=clip_values,\n",
    "    device_type=device\n",
    ")\n",
    "\n",
    "# Train the ART classifier with TabResNet\n",
    "# art_classifier.fit(X_train_np, y_train_np, batch_size=64, nb_epochs=100, verbose=True)"
   ]
  },
  {
   "cell_type": "markdown",
   "metadata": {},
   "source": [
    "### Accuraacy Gap"
   ]
  },
  {
   "cell_type": "code",
   "execution_count": 28,
   "metadata": {},
   "outputs": [
    {
     "name": "stdout",
     "output_type": "stream",
     "text": [
      "Accuracy on benign test examples: 0.8200\n",
      "Accuracy on adversarial test examples: 0.7800\n",
      "Accuracy difference: 0.0400\n"
     ]
    }
   ],
   "source": [
    "predictions = art_classifier.predict(X_test_t)\n",
    "accuracy = np.sum(np.argmax(predictions, axis=1) == y_test_np) / len(y_test_np)\n",
    "print(f\"Accuracy on benign test examples: {accuracy:.4f}\")\n",
    "\n",
    "# Generate adversarial test examples\n",
    "attack = FastGradientMethod(estimator=art_classifier, eps=0.1)\n",
    "x_test_adv = attack.generate(x=X_test_np)\n",
    "\n",
    "# Evaluate the ART classifier on adversarial test examples\n",
    "\n",
    "predictions = art_classifier.predict(x_test_adv)\n",
    "accuracy_adv = np.sum(np.argmax(predictions, axis=1) == y_test_np) / len(y_test_np)\n",
    "print(f\"Accuracy on adversarial test examples: {accuracy_adv:.4f}\")\n",
    "\n",
    "print(f\"Accuracy difference: {accuracy - accuracy_adv:.4f}\")"
   ]
  },
  {
   "cell_type": "markdown",
   "metadata": {},
   "source": [
    "### CLEVER-u"
   ]
  },
  {
   "cell_type": "markdown",
   "metadata": {},
   "source": [
    "Clever-u Score:\n",
    "\n",
    "score is a lower bound -> minimum perturbation size required to change the model's output to any wrong label\n",
    "\n",
    "“directional probes” (here 10*20=200) -> to get a reliable worst‐case slope estimate\n",
    "\n",
    "A higher score -> stronger local robustness\n",
    "\n",
    "range value = [0.0, radius]"
   ]
  },
  {
   "cell_type": "code",
   "execution_count": 49,
   "metadata": {},
   "outputs": [
    {
     "name": "stdout",
     "output_type": "stream",
     "text": [
      "Number of samples in test set: 100\n"
     ]
    },
    {
     "name": "stderr",
     "output_type": "stream",
     "text": [
      "Computing CLEVER-U:   0%|          | 0/100 [00:00<?, ?it/s]c:\\Users\\hungd\\anaconda3\\envs\\fair-ai-env\\lib\\site-packages\\scipy\\stats\\_continuous_distns.py:2821: RuntimeWarning: Precision loss occurred in moment calculation due to catastrophic cancellation. This occurs when the data are nearly identical. Results may be unreliable.\n",
      "  s = stats.skew(data)\n",
      "c:\\Users\\hungd\\anaconda3\\envs\\fair-ai-env\\lib\\site-packages\\scipy\\stats\\_continuous_distns.py:2760: RuntimeWarning: overflow encountered in power\n",
      "  return np.log(c) + sc.xlogy(c - 1, x) - pow(x, c)\n",
      "Computing CLEVER-U: 100%|██████████| 100/100 [00:05<00:00, 16.99it/s]"
     ]
    },
    {
     "name": "stdout",
     "output_type": "stream",
     "text": [
      "CLEVER-U score for TabResNet: 0.1760\n"
     ]
    },
    {
     "name": "stderr",
     "output_type": "stream",
     "text": [
      "\n"
     ]
    }
   ],
   "source": [
    "\n",
    "clever_scores = []\n",
    "num_samples = X_test_np.shape[0]\n",
    "print(f\"Number of samples in test set: {num_samples}\")\n",
    "# for sample in X_test_np[:num_samples]: \n",
    "for sample in tqdm(X_test_np[:num_samples], desc=\"Computing CLEVER-U\"):\n",
    "    # sample is shape (D,) → np.array([sample]) → (1, D)\n",
    "    c = clever_u(\n",
    "        classifier=art_classifier,\n",
    "        x=sample,\n",
    "        nb_batches=20,\n",
    "        batch_size=10,             # you only have one sample in the “batch”\n",
    "        norm=2,\n",
    "        radius=0.2,\n",
    "        verbose=False\n",
    "    )\n",
    "    clever_scores.append(c)\n",
    "\n",
    "clever = float(np.mean(clever_scores))\n",
    "print(f\"CLEVER-U score for TabResNet: {clever:.4f}\")"
   ]
  },
  {
   "cell_type": "markdown",
   "metadata": {},
   "source": [
    "### Loss Sensitivity"
   ]
  },
  {
   "cell_type": "markdown",
   "metadata": {},
   "source": [
    "Loss Sensitivity\n",
    "\n",
    "A **higher** sensitivity -> small input perturbations can cause **larger** changes in the loss -> indicating a \"steeper\" or potentially **less** robust local region"
   ]
  },
  {
   "cell_type": "code",
   "execution_count": 55,
   "metadata": {},
   "outputs": [
    {
     "name": "stdout",
     "output_type": "stream",
     "text": [
      "Average loss sensitivity over test set: 0.008881\n"
     ]
    }
   ],
   "source": [
    "num_classes = 2\n",
    "# Convert integer labels to one-hot:\n",
    "y_test_onehot = np.eye(num_classes)[y_test_np]\n",
    "\n",
    "sensitivity = loss_sensitivity(\n",
    "    classifier=art_classifier,\n",
    "    x=X_test_np,\n",
    "    y=y_test_onehot\n",
    ")\n",
    "\n",
    "print(f\"Average loss sensitivity over test set: {sensitivity:.6f}\")"
   ]
  }
 ],
 "metadata": {
  "accelerator": "GPU",
  "colab": {
   "collapsed_sections": [
    "ww-ihnSUcCz2",
    "8PJTcdufcCz8",
    "fu9sqMIgcCz-",
    "J22g3WEccC0I",
    "9TMwzwvNcC0K",
    "GfVfYd_ZcC0Q",
    "UgJ9XJAWDev3",
    "7N5q_LeLyo4x",
    "67Vzn6iuYS2q",
    "538PskKGALFU",
    "VJ0Mb-gM8lHj",
    "ki-IgGuwcC0k",
    "WeKnka-4W8Wr"
   ],
   "gpuType": "T4",
   "provenance": []
  },
  "kernelspec": {
   "display_name": "fair-ai-env",
   "language": "python",
   "name": "python3"
  },
  "language_info": {
   "codemirror_mode": {
    "name": "ipython",
    "version": 3
   },
   "file_extension": ".py",
   "mimetype": "text/x-python",
   "name": "python",
   "nbconvert_exporter": "python",
   "pygments_lexer": "ipython3",
   "version": "3.10.16"
  }
 },
 "nbformat": 4,
 "nbformat_minor": 0
}
