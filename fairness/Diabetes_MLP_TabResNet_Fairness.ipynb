{
 "cells": [
  {
   "cell_type": "markdown",
   "metadata": {},
   "source": [
    "## Test Diabetes dataset\n",
    "- Document of dataset: \n",
    "    + https://archive.ics.uci.edu/dataset/34/diabetes\n",
    "    + https://fairlearn.org/main/user_guide/datasets/diabetes_hospital_data.html\n",
    "    + https://fairlearn.org/main/api_reference/generated/fairlearn.datasets.fetch_diabetes_hospital.html#fairlearn.datasets.fetch_diabetes_hospital\n"
   ]
  },
  {
   "cell_type": "code",
   "execution_count": 1,
   "metadata": {},
   "outputs": [],
   "source": [
    "# Custom imports\n",
    "# import my_helper # my helper functions\n",
    "from TabResNet import TabResNet\n",
    "from MLP import MLP\n",
    "\n",
    "# General imports\n",
    "from IPython.display import Markdown, display, clear_output\n",
    "from functools import partial\n",
    "import pathlib\n",
    "import numpy as np\n",
    "import pandas as pd\n",
    "\n",
    "# DL imports\n",
    "import torch\n",
    "import torch.nn as nn\n",
    "import torch.optim as optim\n",
    "from sklearn.metrics import accuracy_score, precision_score\n",
    "from sklearn.model_selection import train_test_split\n",
    "\n",
    "# Choose the fairness metric\n",
    "from fairlearn.metrics import (\n",
    "    MetricFrame,\n",
    "    count,\n",
    "    false_negative_rate,\n",
    "    false_positive_rate,\n",
    "    selection_rate,\n",
    ")\n",
    "\n",
    "# Some \"difference\" metrics (as in Nils' paper)\n",
    "# All ranges are [0,1] -> no need to scale \n",
    "from fairlearn.metrics import (\n",
    "    demographic_parity_difference,\n",
    "    equalized_odds_difference,\n",
    "    true_positive_rate_difference,\n",
    "    false_positive_rate_difference,\n",
    ")\n",
    "\n",
    "torch.manual_seed(27)\n",
    "clear_output()\n",
    "np.random.seed(27)"
   ]
  },
  {
   "cell_type": "markdown",
   "metadata": {},
   "source": [
    "## Data Loading"
   ]
  },
  {
   "cell_type": "code",
   "execution_count": 55,
   "metadata": {},
   "outputs": [],
   "source": [
    "# ---------------------------\n",
    "# Data Loading and Preparation\n",
    "# ---------------------------\n",
    "from fairlearn.datasets import fetch_diabetes_hospital\n",
    "\n",
    "# Data processing\n",
    "X, y = fetch_diabetes_hospital(as_frame=True, return_X_y=True)\n",
    "# The columns readmit_binary and readmitted are included in X -> remove both to avoid target leakage\n",
    "X.drop(columns=[\"readmitted\", \"readmit_binary\"], inplace=True)"
   ]
  },
  {
   "cell_type": "code",
   "execution_count": 56,
   "metadata": {},
   "outputs": [
    {
     "name": "stdout",
     "output_type": "stream",
     "text": [
      "readmit_30_days\n",
      "0                  0.888401\n",
      "1                  0.111599\n",
      "Name: proportion, dtype: float64\n"
     ]
    }
   ],
   "source": [
    "y_df = pd.DataFrame(y)\n",
    "print(y_df.value_counts(normalize=True))"
   ]
  },
  {
   "cell_type": "markdown",
   "metadata": {},
   "source": [
    "## Data Preprocessing"
   ]
  },
  {
   "cell_type": "markdown",
   "metadata": {},
   "source": [
    "### Remove Unknown/Invalid gender"
   ]
  },
  {
   "cell_type": "code",
   "execution_count": 57,
   "metadata": {},
   "outputs": [],
   "source": [
    "# Get a boolean mask for rows where gender is not 'Unknown/Invalid' (which was encoded as 2)\n",
    "valid_gender_mask = X['gender'] != 'Unknown/Invalid'"
   ]
  },
  {
   "cell_type": "code",
   "execution_count": 58,
   "metadata": {},
   "outputs": [],
   "source": [
    "# Filter both X and y using the same mask\n",
    "X = X[valid_gender_mask]\n",
    "y = y[valid_gender_mask]"
   ]
  },
  {
   "cell_type": "code",
   "execution_count": 59,
   "metadata": {},
   "outputs": [
    {
     "name": "stdout",
     "output_type": "stream",
     "text": [
      "Remaining rows after removing 'Unknown/Invalid' gender values:\n",
      "gender\n",
      "Female    54708\n",
      "Male      47055\n",
      "Name: count, dtype: int64\n"
     ]
    }
   ],
   "source": [
    "print(\"Remaining rows after removing 'Unknown/Invalid' gender values:\")\n",
    "print(X['gender'].value_counts())"
   ]
  },
  {
   "cell_type": "markdown",
   "metadata": {},
   "source": [
    "### Label Encoding"
   ]
  },
  {
   "cell_type": "code",
   "execution_count": 60,
   "metadata": {},
   "outputs": [],
   "source": [
    "categorical_cols = X.select_dtypes(include=['object', 'category']).columns"
   ]
  },
  {
   "cell_type": "code",
   "execution_count": 61,
   "metadata": {},
   "outputs": [
    {
     "name": "stdout",
     "output_type": "stream",
     "text": [
      "\n",
      "Encoded mapping for 'race':\n",
      "  AfricanAmerican → 0\n",
      "  Asian → 1\n",
      "  Caucasian → 2\n",
      "  Hispanic → 3\n",
      "  Other → 4\n",
      "  Unknown → 5\n",
      "\n",
      "Encoded mapping for 'gender':\n",
      "  Female → 0\n",
      "  Male → 1\n",
      "\n",
      "Encoded mapping for 'age':\n",
      "  '30 years or younger' → 0\n",
      "  '30-60 years' → 1\n",
      "  'Over 60 years' → 2\n",
      "\n",
      "Encoded mapping for 'discharge_disposition_id':\n",
      "  'Discharged to Home' → 0\n",
      "  Other → 1\n",
      "\n",
      "Encoded mapping for 'admission_source_id':\n",
      "  Emergency → 0\n",
      "  Other → 1\n",
      "  Referral → 2\n",
      "\n",
      "Encoded mapping for 'medical_specialty':\n",
      "  Cardiology → 0\n",
      "  Emergency/Trauma → 1\n",
      "  Family/GeneralPractice → 2\n",
      "  InternalMedicine → 3\n",
      "  Missing → 4\n",
      "  Other → 5\n",
      "\n",
      "Encoded mapping for 'primary_diagnosis':\n",
      "  'Genitourinary Issues' → 0\n",
      "  'Musculoskeletal Issues' → 1\n",
      "  'Respiratory Issues' → 2\n",
      "  Diabetes → 3\n",
      "  Other → 4\n",
      "\n",
      "Encoded mapping for 'max_glu_serum':\n",
      "  >200 → 0\n",
      "  >300 → 1\n",
      "  None → 2\n",
      "  Norm → 3\n",
      "\n",
      "Encoded mapping for 'A1Cresult':\n",
      "  >7 → 0\n",
      "  >8 → 1\n",
      "  None → 2\n",
      "  Norm → 3\n",
      "\n",
      "Encoded mapping for 'insulin':\n",
      "  Down → 0\n",
      "  No → 1\n",
      "  Steady → 2\n",
      "  Up → 3\n",
      "\n",
      "Encoded mapping for 'change':\n",
      "  Ch → 0\n",
      "  No → 1\n",
      "\n",
      "Encoded mapping for 'diabetesMed':\n",
      "  No → 0\n",
      "  Yes → 1\n",
      "\n",
      "Encoded mapping for 'medicare':\n",
      "  False → 0\n",
      "  True → 1\n",
      "\n",
      "Encoded mapping for 'medicaid':\n",
      "  False → 0\n",
      "  True → 1\n",
      "\n",
      "Encoded mapping for 'had_emergency':\n",
      "  False → 0\n",
      "  True → 1\n",
      "\n",
      "Encoded mapping for 'had_inpatient_days':\n",
      "  False → 0\n",
      "  True → 1\n",
      "\n",
      "Encoded mapping for 'had_outpatient_days':\n",
      "  False → 0\n",
      "  True → 1\n"
     ]
    }
   ],
   "source": [
    "from sklearn.preprocessing import LabelEncoder\n",
    "label_mappings = {}\n",
    "# Apply LabelEncoder to each column and store mappings\n",
    "for col in categorical_cols:\n",
    "    le = LabelEncoder()\n",
    "    X[col] = le.fit_transform(X[col])\n",
    "    label_mappings[col] = dict(zip(le.classes_, le.transform(le.classes_)))\n",
    "\n",
    "# Show mappings\n",
    "for col, mapping in label_mappings.items():\n",
    "    print(f\"\\nEncoded mapping for '{col}':\")\n",
    "    for original, encoded in mapping.items():\n",
    "        print(f\"  {original} → {encoded}\")"
   ]
  },
  {
   "cell_type": "markdown",
   "metadata": {},
   "source": [
    "### Over-sampling imbalanced class"
   ]
  },
  {
   "cell_type": "code",
   "execution_count": 62,
   "metadata": {},
   "outputs": [],
   "source": [
    "from imblearn.over_sampling import SMOTE\n",
    "\n",
    "# Apply SMOTE\n",
    "smote = SMOTE(sampling_strategy=0.2, random_state=7)\n",
    "X_smote, y_smote = smote.fit_resample(X, y)\n"
   ]
  },
  {
   "cell_type": "code",
   "execution_count": 63,
   "metadata": {},
   "outputs": [
    {
     "name": "stdout",
     "output_type": "stream",
     "text": [
      "readmit_30_days\n",
      "0                  0.833335\n",
      "1                  0.166665\n",
      "Name: proportion, dtype: float64\n"
     ]
    }
   ],
   "source": [
    "y_smote_df = pd.DataFrame(y_smote)\n",
    "print(y_smote_df.value_counts(normalize=True))"
   ]
  },
  {
   "cell_type": "code",
   "execution_count": 64,
   "metadata": {},
   "outputs": [],
   "source": [
    "X_le = X_smote.drop(columns=[\"gender\"])"
   ]
  },
  {
   "cell_type": "markdown",
   "metadata": {},
   "source": [
    "### Data Splitting & Formatting"
   ]
  },
  {
   "cell_type": "code",
   "execution_count": 65,
   "metadata": {},
   "outputs": [],
   "source": [
    "random_state = 7\n",
    "X_train, X_test, y_train, y_test, A_train, A_test = train_test_split(\n",
    "    X_le, y_smote, X_smote[\"gender\"], test_size=0.2, random_state=random_state\n",
    ")"
   ]
  },
  {
   "cell_type": "code",
   "execution_count": 66,
   "metadata": {},
   "outputs": [
    {
     "name": "stdout",
     "output_type": "stream",
     "text": [
      "Shape of X_train:  (86789, 21)\n",
      "Shape of y_train:  (86789,)\n",
      "Shape of A_train:  (86789,)\n",
      "Shape of A_test:  (21698,)\n",
      "Shape of X_test:  (21698, 21)\n",
      "Shape of y_test:  (21698,)\n"
     ]
    }
   ],
   "source": [
    "print(\"Shape of X_train: \", X_train.shape)\n",
    "print(\"Shape of y_train: \", y_train.shape)\n",
    "print(\"Shape of A_train: \", A_train.shape)\n",
    "print(\"Shape of A_test: \", A_test.shape)\n",
    "print(\"Shape of X_test: \", X_test.shape)\n",
    "print(\"Shape of y_test: \", y_test.shape)"
   ]
  },
  {
   "cell_type": "code",
   "execution_count": 67,
   "metadata": {},
   "outputs": [],
   "source": [
    "X_train_np = X_train.values.astype(np.float32)\n",
    "X_test_np = X_test.values.astype(np.float32)\n",
    "\n",
    "# Convert all data to integers -> avoid errors in training\n",
    "y_train_np = y_train.astype(np.int64).values if isinstance(y_train, pd.Series) else y_train.astype(np.int64)\n",
    "y_test_np = y_test.astype(np.int64).values if isinstance(y_test, pd.Series) else y_test.astype(np.int64)\n",
    "\n",
    "\n",
    "# Convert data to tensors\n",
    "X_train_tensor = torch.from_numpy(X_train_np)\n",
    "y_train_tensor = torch.from_numpy(y_train_np)\n",
    "X_test_tensor = torch.from_numpy(X_test_np)\n",
    "y_test_tensor = torch.from_numpy(y_test_np) #.type(torch.LongTensor) "
   ]
  },
  {
   "cell_type": "markdown",
   "metadata": {},
   "source": [
    "## Train"
   ]
  },
  {
   "cell_type": "markdown",
   "metadata": {},
   "source": [
    "### MLP"
   ]
  },
  {
   "cell_type": "code",
   "execution_count": 78,
   "metadata": {},
   "outputs": [],
   "source": [
    "INPUT_DIM     = X_test.shape[1]\n",
    "NUM_CLASSES   = 2\n",
    "HIDDEN_DIM    = 50\n",
    "LEARNING_RATE = 1e-2\n",
    "\n",
    "\n",
    "mlp_model = MLP(INPUT_DIM, HIDDEN_DIM, NUM_CLASSES)\n",
    "\n",
    "criterion = nn.CrossEntropyLoss()\n",
    "optimizer = optim.Adam(mlp_model.parameters(), lr=LEARNING_RATE)"
   ]
  },
  {
   "cell_type": "code",
   "execution_count": 86,
   "metadata": {},
   "outputs": [
    {
     "name": "stdout",
     "output_type": "stream",
     "text": [
      "Epoch [100/400], Loss: 0.4335\n",
      "Epoch [200/400], Loss: 0.4324\n",
      "Epoch [300/400], Loss: 0.4305\n",
      "Epoch [400/400], Loss: 0.4277\n"
     ]
    }
   ],
   "source": [
    "# Training loop\n",
    "num_epochs = 400\n",
    "for epoch in range(num_epochs):\n",
    "    # Forward pass\n",
    "    logits = mlp_model(X_train_tensor)\n",
    "    loss = criterion(logits, y_train_tensor)\n",
    "\n",
    "    # Backward pass and optimization\n",
    "    optimizer.zero_grad()\n",
    "    loss.backward()\n",
    "    optimizer.step()\n",
    "\n",
    "    # Print loss\n",
    "    if (epoch + 1) % 100 == 0:\n",
    "        print(f\"Epoch [{epoch+1}/{num_epochs}], Loss: {loss.item():.4f}\")"
   ]
  },
  {
   "cell_type": "code",
   "execution_count": 87,
   "metadata": {},
   "outputs": [
    {
     "name": "stdout",
     "output_type": "stream",
     "text": [
      "Test Accuracy: 0.8385\n"
     ]
    }
   ],
   "source": [
    "# Evaluate on test data\n",
    "mlp_model.eval()\n",
    "with torch.no_grad():\n",
    "    logits = mlp_model(X_test_tensor) \n",
    "    probs = torch.softmax(logits, dim=1)\n",
    "    mlp_preds = torch.argmax(probs, dim=1)\n",
    "    accuracy = (mlp_preds == y_test_tensor).float().mean().item()\n",
    "    print(f\"Test Accuracy: {accuracy:.4f}\")"
   ]
  },
  {
   "cell_type": "code",
   "execution_count": 47,
   "metadata": {},
   "outputs": [],
   "source": [
    "# Save the model\n",
    "torch.save(mlp_model.state_dict(), \"saved_model/mlp_diabetes.pth\")"
   ]
  },
  {
   "cell_type": "code",
   "execution_count": null,
   "metadata": {},
   "outputs": [
    {
     "name": "stderr",
     "output_type": "stream",
     "text": [
      "C:\\Users\\hungd\\AppData\\Local\\Temp\\ipykernel_21172\\2015773111.py:2: FutureWarning: You are using `torch.load` with `weights_only=False` (the current default value), which uses the default pickle module implicitly. It is possible to construct malicious pickle data which will execute arbitrary code during unpickling (See https://github.com/pytorch/pytorch/blob/main/SECURITY.md#untrusted-models for more details). In a future release, the default value for `weights_only` will be flipped to `True`. This limits the functions that could be executed during unpickling. Arbitrary objects will no longer be allowed to be loaded via this mode unless they are explicitly allowlisted by the user via `torch.serialization.add_safe_globals`. We recommend you start setting `weights_only=True` for any use case where you don't have full control of the loaded file. Please open an issue on GitHub for any issues related to this experimental feature.\n",
      "  mlp_model.load_state_dict(torch.load(\"saved_model/mlp_german.pth\"))\n"
     ]
    },
    {
     "data": {
      "text/plain": [
       "<All keys matched successfully>"
      ]
     },
     "metadata": {},
     "output_type": "display_data"
    }
   ],
   "source": [
    "# Load the model\n",
    "mlp_model.load_state_dict(torch.load(\"saved_model/mlp_diabetes.pth\"))"
   ]
  },
  {
   "cell_type": "markdown",
   "metadata": {},
   "source": [
    "### TabResNet"
   ]
  },
  {
   "cell_type": "code",
   "execution_count": 71,
   "metadata": {},
   "outputs": [],
   "source": [
    "# Instantiate model\n",
    "model = TabResNet(\n",
    "    d_in=X_test.shape[1], # Match input features\n",
    "    d_out=2,\n",
    "    n_blocks=2,\n",
    "    d_block=32,\n",
    "    d_hidden=64,\n",
    "    dropout1=0.2,\n",
    "    dropout2=0.05\n",
    ")\n",
    "\n",
    "# Loss function and optimizer\n",
    "criterion = nn.CrossEntropyLoss() \n",
    "optimizer = optim.Adam(model.parameters(), lr=0.001)"
   ]
  },
  {
   "cell_type": "code",
   "execution_count": 72,
   "metadata": {},
   "outputs": [
    {
     "name": "stdout",
     "output_type": "stream",
     "text": [
      "Epoch [100/400], Loss: 0.4348\n",
      "Epoch [200/400], Loss: 0.4226\n",
      "Epoch [300/400], Loss: 0.4166\n",
      "Epoch [400/400], Loss: 0.4134\n"
     ]
    }
   ],
   "source": [
    "# Training loop\n",
    "num_epochs = 400\n",
    "for epoch in range(num_epochs):\n",
    "    # Forward pass\n",
    "    logits = model(X_train_tensor)\n",
    "    loss = criterion(logits, y_train_tensor)\n",
    "\n",
    "    # Backward pass and optimization\n",
    "    optimizer.zero_grad()\n",
    "    loss.backward()\n",
    "    optimizer.step()\n",
    "\n",
    "    # Print loss\n",
    "    if (epoch + 1) % 100 == 0:\n",
    "        print(f\"Epoch [{epoch+1}/{num_epochs}], Loss: {loss.item():.4f}\")"
   ]
  },
  {
   "cell_type": "code",
   "execution_count": 73,
   "metadata": {},
   "outputs": [
    {
     "name": "stdout",
     "output_type": "stream",
     "text": [
      "Test Accuracy: 0.8406\n"
     ]
    }
   ],
   "source": [
    "# Evaluate on test data\n",
    "model.eval()\n",
    "with torch.no_grad():\n",
    "    logits = model(X_test_tensor) \n",
    "    probs = torch.softmax(logits, dim=1)\n",
    "    preds = torch.argmax(probs, dim=1)\n",
    "    accuracy = (preds == y_test_tensor).float().mean().item()\n",
    "    print(f\"Test Accuracy: {accuracy:.4f}\")"
   ]
  },
  {
   "cell_type": "code",
   "execution_count": 91,
   "metadata": {},
   "outputs": [],
   "source": [
    "# Save the model\n",
    "torch.save(mlp_model.state_dict(), \"saved_model/tabresnet_diabetes.pth\")"
   ]
  },
  {
   "cell_type": "markdown",
   "metadata": {},
   "source": [
    "## Results"
   ]
  },
  {
   "cell_type": "markdown",
   "metadata": {},
   "source": [
    "### Predicted positive counts by group (Diabetes):"
   ]
  },
  {
   "cell_type": "code",
   "execution_count": 74,
   "metadata": {},
   "outputs": [
    {
     "name": "stdout",
     "output_type": "stream",
     "text": [
      "Class distribution by gender group (as percentage) - Diabetes Dataset:\n",
      "Label       0      1\n",
      "gender              \n",
      "0       81.22  18.78\n",
      "1       86.11  13.89\n"
     ]
    }
   ],
   "source": [
    "# Combine into DataFrame for easy grouping\n",
    "df_test = pd.DataFrame({\n",
    "    'gender': A_test,\n",
    "    'Label': y_test\n",
    "})\n",
    "\n",
    "# Count distribution of classes per group\n",
    "distribution = df_test.groupby('gender')['Label'].value_counts(normalize=True).unstack()\n",
    "print(\"Class distribution by gender group (as percentage) - Diabetes Dataset:\")\n",
    "print((distribution * 100).round(2))"
   ]
  },
  {
   "cell_type": "markdown",
   "metadata": {},
   "source": [
    "Imbalance Assessment\n",
    "\n",
    "Diabetes:\n",
    "\n",
    "Gender 0 (likely female): 23.17% positive, Gender 1 (likely male): 16.09% positive.\n",
    "\n",
    "Difference is just ~7 percentage points and both groups have fairly balanced representation.\n",
    "\n",
    "Aligns with consistently high fairness scores (>0.95) across all models."
   ]
  },
  {
   "cell_type": "code",
   "execution_count": 88,
   "metadata": {},
   "outputs": [
    {
     "name": "stdout",
     "output_type": "stream",
     "text": [
      "Predicted positive counts by group of Model MLP:\n",
      "gender\n",
      "0    67\n",
      "1    28\n",
      "dtype: int64\n"
     ]
    }
   ],
   "source": [
    "print(\"Predicted positive counts by group of Model MLP:\")\n",
    "print(pd.Series(mlp_preds, index=A_test.index).groupby(A_test).sum())"
   ]
  },
  {
   "cell_type": "code",
   "execution_count": 76,
   "metadata": {},
   "outputs": [
    {
     "name": "stdout",
     "output_type": "stream",
     "text": [
      "Predicted positive counts by group of Model TabResNet:\n",
      "gender\n",
      "0    105\n",
      "1     43\n",
      "dtype: int64\n"
     ]
    }
   ],
   "source": [
    "print(\"Predicted positive counts by group of Model TabResNet:\")\n",
    "print(pd.Series(preds, index=A_test.index).groupby(A_test).sum())"
   ]
  },
  {
   "cell_type": "markdown",
   "metadata": {},
   "source": [
    "### MLP"
   ]
  },
  {
   "cell_type": "code",
   "execution_count": 89,
   "metadata": {},
   "outputs": [
    {
     "data": {
      "text/plain": [
       "array([[<Axes: title={'center': 'Accuracy'}, xlabel='gender'>,\n",
       "        <Axes: title={'center': 'Precision'}, xlabel='gender'>,\n",
       "        <Axes: title={'center': 'False positive rate'}, xlabel='gender'>],\n",
       "       [<Axes: title={'center': 'False negative rate'}, xlabel='gender'>,\n",
       "        <Axes: title={'center': 'Selection rate'}, xlabel='gender'>,\n",
       "        <Axes: title={'center': 'Count'}, xlabel='gender'>],\n",
       "       [<Axes: xlabel='gender'>, <Axes: xlabel='gender'>,\n",
       "        <Axes: xlabel='gender'>]], dtype=object)"
      ]
     },
     "execution_count": 89,
     "metadata": {},
     "output_type": "execute_result"
    },
    {
     "data": {
      "image/png": "[encoded data removed]",
      "text/plain": [
       "<Figure size 1200x800 with 9 Axes>"
      ]
     },
     "metadata": {},
     "output_type": "display_data"
    }
   ],
   "source": [
    "# Plot metrics using MetricFrame\n",
    "mlp_metrics = {\n",
    "    \"Accuracy\": accuracy_score,\n",
    "    \"Precision\": precision_score,\n",
    "    \"False positive rate\": false_positive_rate,\n",
    "    \"False negative rate\": false_negative_rate,\n",
    "    \"Selection rate\": selection_rate,\n",
    "    \"Count\": count,\n",
    "}\n",
    "\n",
    "mlp_metric_frame = MetricFrame(\n",
    "    metrics=mlp_metrics, y_true=y_test, y_pred=mlp_preds, sensitive_features=A_test\n",
    ")\n",
    "\n",
    "# Plotting\n",
    "mlp_metric_frame.by_group.plot.bar(\n",
    "    subplots=True,\n",
    "    layout=[3, 3],\n",
    "    legend=False,\n",
    "    figsize=[12, 8],\n",
    "    title=\"Metrics by Sex\",\n",
    ")"
   ]
  },
  {
   "cell_type": "code",
   "execution_count": 90,
   "metadata": {},
   "outputs": [
    {
     "data": {
      "text/markdown": [
       "#### Raw values"
      ],
      "text/plain": [
       "<IPython.core.display.Markdown object>"
      ]
     },
     "metadata": {},
     "output_type": "display_data"
    },
    {
     "name": "stdout",
     "output_type": "stream",
     "text": [
      "Accuracy difference: 0.0459\n",
      "Precision difference: 0.0357\n",
      "True positive rate difference: 0.0101\n",
      "False positive rate difference: 0.0001\n",
      "Demographic parity difference: 0.0028\n",
      "Equalized odds difference: 0.0101\n"
     ]
    }
   ],
   "source": [
    "# Some \"difference\" metrics (as in Nils' paper)\n",
    "display(Markdown(\"#### Raw values\")) \n",
    "\n",
    "# Accuracy difference\n",
    "mlp_accuracy_values = mlp_metric_frame.by_group[\"Accuracy\"]\n",
    "mlp_acc_diff = mlp_accuracy_values.max() - mlp_accuracy_values.min()\n",
    "print(f\"Accuracy difference: {mlp_acc_diff:.4f}\")\n",
    "\n",
    "# Precision difference\n",
    "mlp_precision_values = mlp_metric_frame.by_group[\"Precision\"]\n",
    "mlp_prec_diff = mlp_precision_values.max() - mlp_precision_values.min()\n",
    "print(f\"Precision difference: {mlp_prec_diff:.4f}\")\n",
    "\n",
    "# True positive rate (TPR) difference\n",
    "# tpr_diff = true_positive_rate_difference(y_true=y_test, y_pred=y_pred, sensitive_features=A_test) # still work but not seen in current version of fairlearn\n",
    "mlp_tpr_values = 1 - mlp_metric_frame.by_group[\"False negative rate\"]\n",
    "mlp_tpr_diff = mlp_tpr_values.max() - mlp_tpr_values.min() \n",
    "print(f\"True positive rate difference: {mlp_tpr_diff:.4f}\")\n",
    "\n",
    "# False positive rate (FPR) difference\n",
    "# fpr_diff = false_positive_rate_difference(y_true=y_test, y_pred=y_pred, sensitive_features=A_test) # still work but not seen in current version of fairlearn\n",
    "mlp_fpr_values = mlp_metric_frame.by_group[\"False positive rate\"]\n",
    "mlp_fpr_diff = mlp_fpr_values.max() - mlp_fpr_values.min()\n",
    "print(f\"False positive rate difference: {mlp_fpr_diff:.4f}\")\n",
    "\n",
    "# Demographic parity (DemP) difference\n",
    "mlp_dp_diff = demographic_parity_difference(y_true=y_test, y_pred=mlp_preds, sensitive_features=A_test)\n",
    "print(f\"Demographic parity difference: {mlp_dp_diff:.4f}\")\n",
    "\n",
    "# Equalized odds (EO) difference\n",
    "# Defined as the greater of the 2 metrics: TPR difference and the FPR difference: max(tpr_diff, fpr_diff)\n",
    "# Currently, this is the same as the TPR difference\n",
    "mlp_eo_diff = equalized_odds_difference(y_true=y_test, y_pred=mlp_preds, sensitive_features=A_test)\n",
    "print(f\"Equalized odds difference: {mlp_eo_diff:.4f}\")"
   ]
  },
  {
   "cell_type": "markdown",
   "metadata": {},
   "source": [
    "### TabResNet"
   ]
  },
  {
   "cell_type": "code",
   "execution_count": 84,
   "metadata": {},
   "outputs": [
    {
     "data": {
      "text/plain": [
       "array([[<Axes: title={'center': 'Accuracy'}, xlabel='gender'>,\n",
       "        <Axes: title={'center': 'Precision'}, xlabel='gender'>,\n",
       "        <Axes: title={'center': 'False positive rate'}, xlabel='gender'>],\n",
       "       [<Axes: title={'center': 'False negative rate'}, xlabel='gender'>,\n",
       "        <Axes: title={'center': 'Selection rate'}, xlabel='gender'>,\n",
       "        <Axes: title={'center': 'Count'}, xlabel='gender'>],\n",
       "       [<Axes: xlabel='gender'>, <Axes: xlabel='gender'>,\n",
       "        <Axes: xlabel='gender'>]], dtype=object)"
      ]
     },
     "execution_count": 84,
     "metadata": {},
     "output_type": "execute_result"
    },
    {
     "data": {
      "image/png": "[encoded data removed]",
      "text/plain": [
       "<Figure size 1200x800 with 9 Axes>"
      ]
     },
     "metadata": {},
     "output_type": "display_data"
    }
   ],
   "source": [
    "# Plot metrics using MetricFrame\n",
    "metrics = {\n",
    "    \"Accuracy\": accuracy_score,\n",
    "    \"Precision\": precision_score,\n",
    "    \"False positive rate\": false_positive_rate,\n",
    "    \"False negative rate\": false_negative_rate,\n",
    "    \"Selection rate\": selection_rate,\n",
    "    \"Count\": count,\n",
    "}\n",
    "\n",
    "metric_frame = MetricFrame(\n",
    "    metrics=metrics, y_true=y_test, y_pred=preds, sensitive_features=A_test\n",
    ")\n",
    "\n",
    "# Plotting\n",
    "metric_frame.by_group.plot.bar(\n",
    "    subplots=True,\n",
    "    layout=[3, 3],\n",
    "    legend=False,\n",
    "    figsize=[12, 8],\n",
    "    title=\"Metrics by Sex\",\n",
    ")"
   ]
  },
  {
   "cell_type": "code",
   "execution_count": 85,
   "metadata": {},
   "outputs": [
    {
     "data": {
      "text/markdown": [
       "#### Raw values"
      ],
      "text/plain": [
       "<IPython.core.display.Markdown object>"
      ]
     },
     "metadata": {},
     "output_type": "display_data"
    },
    {
     "name": "stdout",
     "output_type": "stream",
     "text": [
      "Accuracy difference: 0.0438\n",
      "Precision difference: 0.0835\n",
      "True positive rate difference: 0.0178\n",
      "False positive rate difference: 0.0004\n",
      "Demographic parity difference: 0.0044\n",
      "Equalized odds difference: 0.0178\n"
     ]
    }
   ],
   "source": [
    "# Some \"difference\" metrics (as in Nils' paper)\n",
    "display(Markdown(\"#### Raw values\")) \n",
    "\n",
    "# Accuracy difference\n",
    "accuracy_values = metric_frame.by_group[\"Accuracy\"]\n",
    "acc_diff = accuracy_values.max() - accuracy_values.min()\n",
    "print(f\"Accuracy difference: {acc_diff:.4f}\")\n",
    "\n",
    "# Precision difference\n",
    "precision_values = metric_frame.by_group[\"Precision\"]\n",
    "prec_diff = precision_values.max() - precision_values.min()\n",
    "print(f\"Precision difference: {prec_diff:.4f}\")\n",
    "\n",
    "# True positive rate (TPR) difference\n",
    "# tpr_diff = true_positive_rate_difference(y_true=y_test, y_pred=y_pred, sensitive_features=A_test) # still work but not seen in current version of fairlearn\n",
    "tpr_values = 1 - metric_frame.by_group[\"False negative rate\"]\n",
    "tpr_diff = tpr_values.max() - tpr_values.min() \n",
    "print(f\"True positive rate difference: {tpr_diff:.4f}\")\n",
    "\n",
    "# False positive rate (FPR) difference\n",
    "# fpr_diff = false_positive_rate_difference(y_true=y_test, y_pred=y_pred, sensitive_features=A_test) # still work but not seen in current version of fairlearn\n",
    "fpr_values = metric_frame.by_group[\"False positive rate\"]\n",
    "fpr_diff = fpr_values.max() - fpr_values.min()\n",
    "print(f\"False positive rate difference: {fpr_diff:.4f}\")\n",
    "\n",
    "# Demographic parity (DemP) difference\n",
    "dp_diff = demographic_parity_difference(y_true=y_test, y_pred=preds, sensitive_features=A_test)\n",
    "print(f\"Demographic parity difference: {dp_diff:.4f}\")\n",
    "\n",
    "# Equalized odds (EO) difference\n",
    "# Defined as the greater of the 2 metrics: TPR difference and the FPR difference: max(tpr_diff, fpr_diff)\n",
    "# Currently, this is the same as the TPR difference\n",
    "eo_diff = equalized_odds_difference(y_true=y_test, y_pred=preds, sensitive_features=A_test)\n",
    "print(f\"Equalized odds difference: {eo_diff:.4f}\")"
   ]
  }
 ],
 "metadata": {
  "kernelspec": {
   "display_name": "fair-ai-env",
   "language": "python",
   "name": "python3"
  },
  "language_info": {
   "codemirror_mode": {
    "name": "ipython",
    "version": 3
   },
   "file_extension": ".py",
   "mimetype": "text/x-python",
   "name": "python",
   "nbconvert_exporter": "python",
   "pygments_lexer": "ipython3",
   "version": "3.10.16"
  }
 },
 "nbformat": 4,
 "nbformat_minor": 2
}
