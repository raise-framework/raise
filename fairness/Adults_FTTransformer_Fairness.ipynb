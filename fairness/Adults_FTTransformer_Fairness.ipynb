{
 "cells": [
  {
   "cell_type": "markdown",
   "metadata": {},
   "source": [
    "## Test Adult dataset\n",
    "- Document of dataset: \n",
    "    + https://fairlearn.org/main/user_guide/datasets/acs_income.html#dataset-description\n",
    "    + https://fairlearn.org/main/api_reference/generated/fairlearn.datasets.fetch_adult.html\n",
    "    + https://archive.ics.uci.edu/dataset/2/adult\n"
   ]
  },
  {
   "cell_type": "code",
   "execution_count": null,
   "metadata": {},
   "outputs": [],
   "source": [
    "# Custom imports\n",
    "# import my_helper # my helper functions\n",
    "\n",
    "# General imports\n",
    "from IPython.display import Markdown, display, clear_output\n",
    "from functools import partial\n",
    "import pathlib\n",
    "import numpy as np\n",
    "import pandas as pd\n",
    "import shap\n",
    "\n",
    "# DL imports\n",
    "import torch\n",
    "import torch.nn as nn\n",
    "import torch.optim as optim\n",
    "from sklearn.metrics import accuracy_score, precision_score\n",
    "from sklearn.model_selection import train_test_split\n",
    "\n",
    "# Choose the fairness metric\n",
    "from fairlearn.metrics import (\n",
    "    MetricFrame,\n",
    "    count,\n",
    "    false_negative_rate,\n",
    "    false_positive_rate,\n",
    "    selection_rate,\n",
    ")\n",
    "\n",
    "# Some \"difference\" metrics (as in Nils' paper)\n",
    "# All ranges are [0,1] -> no need to scale \n",
    "from fairlearn.metrics import (\n",
    "    demographic_parity_difference,\n",
    "    equalized_odds_difference,\n",
    "    true_positive_rate_difference,\n",
    "    false_positive_rate_difference,\n",
    ")\n",
    "\n",
    "torch.manual_seed(27)\n",
    "clear_output()\n",
    "np.random.seed(27)"
   ]
  },
  {
   "cell_type": "code",
   "execution_count": 15,
   "metadata": {},
   "outputs": [],
   "source": [
    "X, y = shap.datasets.adult(display=True)"
   ]
  },
  {
   "cell_type": "markdown",
   "metadata": {},
   "source": [
    "## Data Preprocessing"
   ]
  },
  {
   "cell_type": "markdown",
   "metadata": {},
   "source": [
    "### Label Encoding"
   ]
  },
  {
   "cell_type": "code",
   "execution_count": 16,
   "metadata": {},
   "outputs": [],
   "source": [
    "from sklearn.preprocessing import LabelEncoder\n",
    "\n",
    "# 1. Make a copy and find *all* categorical columns (including \"Sex\")\n",
    "X_enc = X.copy()\n",
    "all_cat_cols = X_enc.select_dtypes(['object', 'category']).columns\n",
    "\n",
    "# 2. Encode each categorical, storing its mapping\n",
    "label_mappings = {}\n",
    "for col in all_cat_cols:\n",
    "    le = LabelEncoder()\n",
    "    X_enc[col] = le.fit_transform(X_enc[col])\n",
    "    label_mappings[col] = dict(zip(le.classes_, le.transform(le.classes_)))\n"
   ]
  },
  {
   "cell_type": "code",
   "execution_count": 17,
   "metadata": {},
   "outputs": [
    {
     "name": "stdout",
     "output_type": "stream",
     "text": [
      "Final categorical columns: ['Workclass', 'Marital Status', 'Occupation', 'Relationship', 'Race', 'Country']\n",
      "Their cardinalities:       [9, 7, 15, 6, 5, 42]\n"
     ]
    }
   ],
   "source": [
    "# 3. Now drop the sensitive column\n",
    "X_enc_drop = X_enc.drop(columns=[\"Sex\"])\n",
    "\n",
    "# 4. Recompute your final cat_cols _after_ dropping\n",
    "cat_cols = [c for c in all_cat_cols if c != \"Sex\"]\n",
    "\n",
    "# 5. Compute cardinalities in the same order as cat_cols\n",
    "cardinalities = [len(label_mappings[c]) for c in cat_cols]\n",
    "\n",
    "print(\"Final categorical columns:\", cat_cols)\n",
    "print(\"Their cardinalities:      \", cardinalities)\n",
    "\n",
    "# Your numeric columns remain:\n",
    "num_cols = [c for c in X_enc_drop.columns if c not in cat_cols]"
   ]
  },
  {
   "cell_type": "markdown",
   "metadata": {},
   "source": [
    "### Split and format"
   ]
  },
  {
   "cell_type": "code",
   "execution_count": 19,
   "metadata": {},
   "outputs": [],
   "source": [
    "# Train/test split\n",
    "X_train, X_test, y_train, y_test, A_train, A_test = train_test_split(\n",
    "    X_enc_drop, y, X_enc['Sex'], test_size=0.2, random_state=7\n",
    ")"
   ]
  },
  {
   "cell_type": "code",
   "execution_count": 20,
   "metadata": {},
   "outputs": [],
   "source": [
    "X_train_np = X_train.values.astype(np.float32)\n",
    "X_test_np = X_test.values.astype(np.float32)\n",
    "\n",
    "# Convert all data to integers -> avoid errors in training\n",
    "y_train_np = y_train.astype(np.int64).values if isinstance(y_train, pd.Series) else y_train.astype(np.int64)\n",
    "y_test_np = y_test.astype(np.int64).values if isinstance(y_test, pd.Series) else y_test.astype(np.int64)\n",
    "\n",
    "# Convert data to tensors\n",
    "X_train_tensor = torch.from_numpy(X_train_np)\n",
    "y_train_tensor = torch.from_numpy(y_train_np)\n",
    "X_test_tensor = torch.from_numpy(X_test_np)\n",
    "y_test_tensor = torch.from_numpy(y_test_np) #.type(torch.LongTensor) \n",
    "\n",
    "# Convert to numpy / tensors\n",
    "X_train_num = X_train[num_cols].to_numpy(dtype=np.float32)\n",
    "X_test_num  = X_test[num_cols].to_numpy(dtype=np.float32)\n",
    "\n",
    "X_train_cat = X_train[cat_cols].to_numpy(dtype=np.int64)\n",
    "X_test_cat  = X_test[cat_cols].to_numpy(dtype=np.int64)\n",
    "\n",
    "y_train_np = y_train.astype(np.int64).values if isinstance(y_train, pd.Series) else y_train.astype(np.int64)\n",
    "y_test_np = y_test.astype(np.int64).values if isinstance(y_test, pd.Series) else y_test.astype(np.int64)\n",
    "\n",
    "X_train_num_t = torch.from_numpy(X_train_num)\n",
    "X_train_cat_t = torch.from_numpy(X_train_cat)\n",
    "X_test_num_t = torch.from_numpy(X_test_num)\n",
    "X_test_cat_t = torch.from_numpy(X_test_cat)\n",
    "\n",
    "y_train_t = torch.from_numpy(y_train_np)\n",
    "y_test_t  = torch.from_numpy(y_test_np)"
   ]
  },
  {
   "cell_type": "code",
   "execution_count": 21,
   "metadata": {},
   "outputs": [
    {
     "name": "stdout",
     "output_type": "stream",
     "text": [
      "Shape of X_train:  (26048, 11)\n",
      "Shape of y_train:  (26048,)\n",
      "Shape of A_train:  (26048,)\n",
      "Shape of A_test:  (6513,)\n",
      "Shape of X_test:  (6513, 11)\n",
      "Shape of y_test:  (6513,)\n"
     ]
    }
   ],
   "source": [
    "print(\"Shape of X_train: \", X_train.shape)\n",
    "print(\"Shape of y_train: \", y_train.shape)\n",
    "print(\"Shape of A_train: \", A_train.shape)\n",
    "print(\"Shape of A_test: \", A_test.shape)\n",
    "print(\"Shape of X_test: \", X_test.shape)\n",
    "print(\"Shape of y_test: \", y_test.shape)"
   ]
  },
  {
   "cell_type": "markdown",
   "metadata": {},
   "source": [
    "## Data Loading"
   ]
  },
  {
   "cell_type": "code",
   "execution_count": 4,
   "metadata": {},
   "outputs": [],
   "source": [
    "X, y = shap.datasets.adult(display=True)"
   ]
  },
  {
   "cell_type": "code",
   "execution_count": 5,
   "metadata": {},
   "outputs": [],
   "source": [
    "from sklearn.preprocessing import LabelEncoder\n",
    "X_enc = X.copy()\n",
    "X_enc = X_enc.drop(columns=[\"Sex\"])\n",
    "\n",
    "cat_cols = X_enc.select_dtypes(['object','category']).columns\n",
    "\n",
    "cardinalities = []\n",
    "label_mappings = {}\n",
    "for col in cat_cols:\n",
    "    le = LabelEncoder()\n",
    "    X_enc[col] = le.fit_transform(X_enc[col])\n",
    "    cardinalities.append(len(le.classes_))\n",
    "    label_mappings[col] = dict(zip(le.classes_, le.transform(le.classes_)))\n",
    "\n",
    "num_cols = [c for c in X_enc.columns if c not in cat_cols]"
   ]
  },
  {
   "cell_type": "code",
   "execution_count": 6,
   "metadata": {},
   "outputs": [],
   "source": [
    "# Train/test split\n",
    "X_train, X_test, y_train, y_test, A_train, A_test = train_test_split(\n",
    "    X_enc, y, X['Sex'], test_size=0.2, random_state=7, stratify=y\n",
    ")"
   ]
  },
  {
   "cell_type": "code",
   "execution_count": 7,
   "metadata": {},
   "outputs": [],
   "source": [
    "X_train_np = X_train.values.astype(np.float32)\n",
    "X_test_np = X_test.values.astype(np.float32)\n",
    "\n",
    "# Convert all data to integers -> avoid errors in training\n",
    "y_train_np = y_train.astype(np.int64).values if isinstance(y_train, pd.Series) else y_train.astype(np.int64)\n",
    "y_test_np = y_test.astype(np.int64).values if isinstance(y_test, pd.Series) else y_test.astype(np.int64)\n",
    "\n",
    "# Convert data to tensors\n",
    "X_train_tensor = torch.from_numpy(X_train_np)\n",
    "y_train_tensor = torch.from_numpy(y_train_np)\n",
    "X_test_tensor = torch.from_numpy(X_test_np)\n",
    "y_test_tensor = torch.from_numpy(y_test_np) #.type(torch.LongTensor) \n",
    "\n",
    "# Convert to numpy / tensors\n",
    "X_train_num = X_train[num_cols].to_numpy(dtype=np.float32)\n",
    "X_test_num  = X_test[num_cols].to_numpy(dtype=np.float32)\n",
    "\n",
    "X_train_cat = X_train[cat_cols].to_numpy(dtype=np.int64)\n",
    "X_test_cat  = X_test[cat_cols].to_numpy(dtype=np.int64)\n",
    "\n",
    "y_train_np = y_train.astype(np.int64).values if isinstance(y_train, pd.Series) else y_train.astype(np.int64)\n",
    "y_test_np = y_test.astype(np.int64).values if isinstance(y_test, pd.Series) else y_test.astype(np.int64)\n",
    "\n",
    "X_train_num_t = torch.from_numpy(X_train_num)\n",
    "X_train_cat_t = torch.from_numpy(X_train_cat)\n",
    "X_test_num_t = torch.from_numpy(X_test_num)\n",
    "X_test_cat_t = torch.from_numpy(X_test_cat)\n",
    "\n",
    "y_train_t = torch.from_numpy(y_train_np)\n",
    "y_test_t  = torch.from_numpy(y_test_np)"
   ]
  },
  {
   "cell_type": "code",
   "execution_count": 14,
   "metadata": {},
   "outputs": [
    {
     "name": "stdout",
     "output_type": "stream",
     "text": [
      "Shape of X_train:  (26048, 11)\n",
      "Shape of y_train:  (26048,)\n",
      "Shape of A_train:  (26048,)\n",
      "Shape of A_test:  (6513,)\n",
      "Shape of X_test:  (6513, 11)\n",
      "Shape of y_test:  (6513,)\n"
     ]
    }
   ],
   "source": [
    "print(\"Shape of X_train: \", X_train.shape)\n",
    "print(\"Shape of y_train: \", y_train.shape)\n",
    "print(\"Shape of A_train: \", A_train.shape)\n",
    "print(\"Shape of A_test: \", A_test.shape)\n",
    "print(\"Shape of X_test: \", X_test.shape)\n",
    "print(\"Shape of y_test: \", y_test.shape)"
   ]
  },
  {
   "cell_type": "markdown",
   "metadata": {},
   "source": [
    "## Train"
   ]
  },
  {
   "cell_type": "code",
   "execution_count": 22,
   "metadata": {},
   "outputs": [],
   "source": [
    "from rtdl_revisiting_models import FTTransformer\n",
    "\n",
    "# Input dims\n",
    "d_num = X_train_num.shape[1]\n",
    "cat_cardinalities = cardinalities\n",
    "n_cont_features = len(num_cols)\n",
    "d_out = 2\n",
    "\n",
    "default_kwargs = FTTransformer.get_default_kwargs()\n",
    "# default_kwargs['n_blocks'] = 2\n",
    "default_kwargs['d_block'] = 32\n",
    "default_kwargs['attention_n_heads'] = 1\n",
    "# default_kwargs['attention_dropout'] = 0.2   # originally ~0.1\n",
    "# default_kwargs['ffn_dropout']       = 0.2   # originally ~0.1\n",
    "# default_kwargs['residual_dropout']  = 0.2   # originally 0.0 or tiny\n",
    "\n",
    "model = FTTransformer(\n",
    "    n_cont_features=n_cont_features,\n",
    "    cat_cardinalities=cat_cardinalities,\n",
    "    d_out=d_out,\n",
    "    **default_kwargs,\n",
    ")\n",
    "\n",
    "criterion = nn.CrossEntropyLoss()\n",
    "optimizer = optim.Adam(model.parameters(), lr=1e-3)\n"
   ]
  },
  {
   "cell_type": "code",
   "execution_count": 24,
   "metadata": {},
   "outputs": [
    {
     "name": "stdout",
     "output_type": "stream",
     "text": [
      "Epoch [50/200], Loss: 0.3763\n",
      "Epoch [100/200], Loss: 0.3463\n",
      "Epoch [150/200], Loss: 0.3308\n",
      "Epoch [200/200], Loss: 0.3237\n"
     ]
    }
   ],
   "source": [
    "num_epochs = 200\n",
    "for epoch in range(num_epochs):\n",
    "    model.train()\n",
    "    logits = model(X_train_num_t, X_train_cat_t)\n",
    "    loss = criterion(logits, y_train_t)\n",
    "    optimizer.zero_grad()\n",
    "    loss.backward()\n",
    "    optimizer.step()\n",
    "    if (epoch + 1) % 50 == 0:\n",
    "        print(f\"Epoch [{epoch+1}/{num_epochs}], Loss: {loss.item():.4f}\")\n"
   ]
  },
  {
   "cell_type": "code",
   "execution_count": 25,
   "metadata": {},
   "outputs": [
    {
     "name": "stdout",
     "output_type": "stream",
     "text": [
      "Test Accuracy: 0.8415\n"
     ]
    }
   ],
   "source": [
    "# Evaluate on test data\n",
    "model.eval()\n",
    "with torch.no_grad():\n",
    "    logits = model(X_test_num_t, X_test_cat_t) \n",
    "    probs = torch.softmax(logits, dim=1)\n",
    "    preds = torch.argmax(probs, dim=1)\n",
    "    accuracy = (preds == y_test_t).float().mean().item()\n",
    "    print(f\"Test Accuracy: {accuracy:.4f}\")"
   ]
  },
  {
   "cell_type": "code",
   "execution_count": 30,
   "metadata": {},
   "outputs": [],
   "source": [
    "# Saving the model\n",
    "torch.save(model.state_dict(), \"saved_model/fttransformer_adult.pth\")"
   ]
  },
  {
   "cell_type": "markdown",
   "metadata": {},
   "source": [
    "## Results"
   ]
  },
  {
   "cell_type": "code",
   "execution_count": 28,
   "metadata": {},
   "outputs": [
    {
     "data": {
      "text/plain": [
       "array([[<Axes: title={'center': 'Accuracy'}, xlabel='Sex'>,\n",
       "        <Axes: title={'center': 'Precision'}, xlabel='Sex'>,\n",
       "        <Axes: title={'center': 'False positive rate'}, xlabel='Sex'>],\n",
       "       [<Axes: title={'center': 'False negative rate'}, xlabel='Sex'>,\n",
       "        <Axes: title={'center': 'Selection rate'}, xlabel='Sex'>,\n",
       "        <Axes: title={'center': 'Count'}, xlabel='Sex'>],\n",
       "       [<Axes: xlabel='Sex'>, <Axes: xlabel='Sex'>, <Axes: xlabel='Sex'>]],\n",
       "      dtype=object)"
      ]
     },
     "execution_count": 28,
     "metadata": {},
     "output_type": "execute_result"
    },
    {
     "data": {
      "image/png": "[encoded data removed]",
      "text/plain": [
       "<Figure size 1200x800 with 9 Axes>"
      ]
     },
     "metadata": {},
     "output_type": "display_data"
    }
   ],
   "source": [
    "# Plot metrics using MetricFrame\n",
    "metrics = {\n",
    "    \"Accuracy\": accuracy_score,\n",
    "    \"Precision\": precision_score,\n",
    "    \"False positive rate\": false_positive_rate,\n",
    "    \"False negative rate\": false_negative_rate,\n",
    "    \"Selection rate\": selection_rate,\n",
    "    \"Count\": count,\n",
    "}\n",
    "\n",
    "metric_frame = MetricFrame(\n",
    "    metrics=metrics, y_true=y_test, y_pred=preds, sensitive_features=A_test\n",
    ")\n",
    "\n",
    "# Plotting\n",
    "metric_frame.by_group.plot.bar(\n",
    "    subplots=True,\n",
    "    layout=[3, 3],\n",
    "    legend=False,\n",
    "    figsize=[12, 8],\n",
    "    title=\"Metrics by Sex & Age Groups\",\n",
    ")"
   ]
  },
  {
   "cell_type": "code",
   "execution_count": 29,
   "metadata": {},
   "outputs": [
    {
     "data": {
      "text/markdown": [
       "#### Raw values"
      ],
      "text/plain": [
       "<IPython.core.display.Markdown object>"
      ]
     },
     "metadata": {},
     "output_type": "display_data"
    },
    {
     "name": "stdout",
     "output_type": "stream",
     "text": [
      "Accuracy difference: 0.1188\n",
      "Precision difference: 0.0114\n",
      "True positive rate difference: 0.1097\n",
      "False positive rate difference: 0.0518\n",
      "Demographic parity difference: 0.1425\n",
      "Equalized odds difference: 0.1097\n"
     ]
    }
   ],
   "source": [
    "# Some \"difference\" metrics (as in Nils' paper)\n",
    "display(Markdown(\"#### Raw values\")) \n",
    "\n",
    "# Accuracy difference\n",
    "accuracy_values = metric_frame.by_group[\"Accuracy\"]\n",
    "acc_diff = accuracy_values.max() - accuracy_values.min()\n",
    "print(f\"Accuracy difference: {acc_diff:.4f}\")\n",
    "\n",
    "# Precision difference\n",
    "precision_values = metric_frame.by_group[\"Precision\"]\n",
    "prec_diff = precision_values.max() - precision_values.min()\n",
    "print(f\"Precision difference: {prec_diff:.4f}\")\n",
    "\n",
    "# True positive rate (TPR) difference\n",
    "# tpr_diff = true_positive_rate_difference(y_true=y_test, y_pred=y_pred, sensitive_features=A_test) # still work but not seen in current version of fairlearn\n",
    "tpr_values = 1 - metric_frame.by_group[\"False negative rate\"]\n",
    "tpr_diff = tpr_values.max() - tpr_values.min() \n",
    "print(f\"True positive rate difference: {tpr_diff:.4f}\")\n",
    "\n",
    "# False positive rate (FPR) difference\n",
    "# fpr_diff = false_positive_rate_difference(y_true=y_test, y_pred=y_pred, sensitive_features=A_test) # still work but not seen in current version of fairlearn\n",
    "fpr_values = metric_frame.by_group[\"False positive rate\"]\n",
    "fpr_diff = fpr_values.max() - fpr_values.min()\n",
    "print(f\"False positive rate difference: {fpr_diff:.4f}\")\n",
    "\n",
    "# Demographic parity (DemP) difference\n",
    "dp_diff = demographic_parity_difference(y_true=y_test, y_pred=preds, sensitive_features=A_test)\n",
    "print(f\"Demographic parity difference: {dp_diff:.4f}\")\n",
    "\n",
    "# Equalized odds (EO) difference\n",
    "# Defined as the greater of the 2 metrics: TPR difference and the FPR difference: max(tpr_diff, fpr_diff)\n",
    "# Currently, this is the same as the TPR difference\n",
    "eo_diff = equalized_odds_difference(y_true=y_test, y_pred=preds, sensitive_features=A_test)\n",
    "print(f\"Equalized odds difference: {eo_diff:.4f}\")"
   ]
  }
 ],
 "metadata": {
  "kernelspec": {
   "display_name": "fair-ai-env",
   "language": "python",
   "name": "python3"
  },
  "language_info": {
   "codemirror_mode": {
    "name": "ipython",
    "version": 3
   },
   "file_extension": ".py",
   "mimetype": "text/x-python",
   "name": "python",
   "nbconvert_exporter": "python",
   "pygments_lexer": "ipython3",
   "version": "3.10.16"
  }
 },
 "nbformat": 4,
 "nbformat_minor": 2
}
